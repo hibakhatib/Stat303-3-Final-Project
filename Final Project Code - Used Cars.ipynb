{
 "cells": [
  {
   "cell_type": "raw",
   "id": "33dd6c4c",
   "metadata": {},
   "source": [
    "---\n",
    "title: \"Final Project Code - Used Cars\"\n",
    "subtitle: data_sci\n",
    "author: Hiba Khatib, Emily Leibfritz, Nicole Birova, and YuYan Zhang \n",
    "date: 05/23/2023\n",
    "number-sections: true\n",
    "abstract: _This file contains the code for the project on <US Used Car Prices>, as part of the STAT303-3 course in Spring 2023_.\n",
    "format: \n",
    "  html:\n",
    "    toc: true\n",
    "    toc-title: Contents\n",
    "    self-contained: true\n",
    "    font-size: 100%\n",
    "    toc-depth: 4\n",
    "    mainfont: serif\n",
    "jupyter: python3\n",
    "---"
   ]
  },
  {
   "cell_type": "code",
   "execution_count": 4,
   "id": "01b6add7",
   "metadata": {},
   "outputs": [],
   "source": [
    "from sklearn.linear_model import LinearRegression\n",
    "import pandas as pd\n",
    "import numpy as np \n",
    "import seaborn as sns \n",
    "import matplotlib.pyplot as plt\n",
    "from sklearn.model_selection import train_test_split, cross_val_predict, cross_val_score, GridSearchCV, ParameterGrid, KFold, \\\n",
    "RandomizedSearchCV\n",
    "from sklearn.preprocessing import StandardScaler, PolynomialFeatures\n",
    "from sklearn.metrics import accuracy_score, mean_absolute_error, mean_squared_error, r2_score, \\\n",
    "roc_curve, auc, precision_score, recall_score, confusion_matrix\n",
    "import statsmodels.formula.api as smf\n",
    "import statsmodels.api as sm\n",
    "from patsy import dmatrix\n",
    "from pyearth import Earth\n",
    "from sklearn.tree import DecisionTreeClassifier, DecisionTreeRegressor\n",
    "from sklearn.ensemble import BaggingRegressor,BaggingClassifier,RandomForestRegressor,RandomForestClassifier\n",
    "from sklearn.neighbors import KNeighborsRegressor\n",
    "import warnings\n",
    "warnings.filterwarnings('ignore')\n",
    "from sklearn.preprocessing import LabelEncoder\n",
    "import random"
   ]
  },
  {
   "cell_type": "code",
   "execution_count": 5,
   "id": "88457f2b",
   "metadata": {},
   "outputs": [
    {
     "data": {
      "text/html": [
       "<div>\n",
       "<style scoped>\n",
       "    .dataframe tbody tr th:only-of-type {\n",
       "        vertical-align: middle;\n",
       "    }\n",
       "\n",
       "    .dataframe tbody tr th {\n",
       "        vertical-align: top;\n",
       "    }\n",
       "\n",
       "    .dataframe thead th {\n",
       "        text-align: right;\n",
       "    }\n",
       "</style>\n",
       "<table border=\"1\" class=\"dataframe\">\n",
       "  <thead>\n",
       "    <tr style=\"text-align: right;\">\n",
       "      <th></th>\n",
       "      <th>vin</th>\n",
       "      <th>back_legroom</th>\n",
       "      <th>body_type</th>\n",
       "      <th>city</th>\n",
       "      <th>city_fuel_economy</th>\n",
       "      <th>daysonmarket</th>\n",
       "      <th>dealer_zip</th>\n",
       "      <th>description</th>\n",
       "      <th>engine_cylinders</th>\n",
       "      <th>engine_displacement</th>\n",
       "      <th>...</th>\n",
       "      <th>torque</th>\n",
       "      <th>transmission</th>\n",
       "      <th>transmission_display</th>\n",
       "      <th>trimId</th>\n",
       "      <th>trim_name</th>\n",
       "      <th>wheel_system</th>\n",
       "      <th>wheel_system_display</th>\n",
       "      <th>wheelbase</th>\n",
       "      <th>width</th>\n",
       "      <th>year</th>\n",
       "    </tr>\n",
       "  </thead>\n",
       "  <tbody>\n",
       "    <tr>\n",
       "      <th>0</th>\n",
       "      <td>5LMCJ2C97HUL71203</td>\n",
       "      <td>36.8 in</td>\n",
       "      <td>SUV / Crossover</td>\n",
       "      <td>Devine</td>\n",
       "      <td>21.0</td>\n",
       "      <td>40</td>\n",
       "      <td>78016</td>\n",
       "      <td>*We have 19 sources of financing and second ch...</td>\n",
       "      <td>I4</td>\n",
       "      <td>2000.0</td>\n",
       "      <td>...</td>\n",
       "      <td>270 lb-ft @ 3,000 RPM</td>\n",
       "      <td>A</td>\n",
       "      <td>Automatic</td>\n",
       "      <td>t66989</td>\n",
       "      <td>Select FWD</td>\n",
       "      <td>FWD</td>\n",
       "      <td>Front-Wheel Drive</td>\n",
       "      <td>105.9 in</td>\n",
       "      <td>84.1 in</td>\n",
       "      <td>2017</td>\n",
       "    </tr>\n",
       "    <tr>\n",
       "      <th>1</th>\n",
       "      <td>1FM5K8D87HGE07214</td>\n",
       "      <td>39.5 in</td>\n",
       "      <td>SUV / Crossover</td>\n",
       "      <td>Buffalo</td>\n",
       "      <td>16.0</td>\n",
       "      <td>9</td>\n",
       "      <td>55313</td>\n",
       "      <td>We are open for business.    Purchase your nex...</td>\n",
       "      <td>V6</td>\n",
       "      <td>3500.0</td>\n",
       "      <td>...</td>\n",
       "      <td>255 lb-ft @ 4,000 RPM</td>\n",
       "      <td>A</td>\n",
       "      <td>6-Speed Automatic</td>\n",
       "      <td>t67141</td>\n",
       "      <td>XLT AWD</td>\n",
       "      <td>AWD</td>\n",
       "      <td>All-Wheel Drive</td>\n",
       "      <td>112.8 in</td>\n",
       "      <td>90.2 in</td>\n",
       "      <td>2017</td>\n",
       "    </tr>\n",
       "  </tbody>\n",
       "</table>\n",
       "<p>2 rows × 57 columns</p>\n",
       "</div>"
      ],
      "text/plain": [
       "                 vin back_legroom        body_type     city  \\\n",
       "0  5LMCJ2C97HUL71203      36.8 in  SUV / Crossover   Devine   \n",
       "1  1FM5K8D87HGE07214      39.5 in  SUV / Crossover  Buffalo   \n",
       "\n",
       "   city_fuel_economy  daysonmarket  dealer_zip  \\\n",
       "0               21.0            40       78016   \n",
       "1               16.0             9       55313   \n",
       "\n",
       "                                         description engine_cylinders  \\\n",
       "0  *We have 19 sources of financing and second ch...               I4   \n",
       "1  We are open for business.    Purchase your nex...               V6   \n",
       "\n",
       "   engine_displacement  ...                 torque transmission  \\\n",
       "0               2000.0  ...  270 lb-ft @ 3,000 RPM            A   \n",
       "1               3500.0  ...  255 lb-ft @ 4,000 RPM            A   \n",
       "\n",
       "   transmission_display  trimId   trim_name wheel_system wheel_system_display  \\\n",
       "0             Automatic  t66989  Select FWD          FWD    Front-Wheel Drive   \n",
       "1     6-Speed Automatic  t67141     XLT AWD          AWD      All-Wheel Drive   \n",
       "\n",
       "  wheelbase    width  year  \n",
       "0  105.9 in  84.1 in  2017  \n",
       "1  112.8 in  90.2 in  2017  \n",
       "\n",
       "[2 rows x 57 columns]"
      ]
     },
     "execution_count": 5,
     "metadata": {},
     "output_type": "execute_result"
    }
   ],
   "source": [
    "data = pd.read_csv('us_used_cars_final.csv')\n",
    "data.head(2)"
   ]
  },
  {
   "cell_type": "markdown",
   "id": "fe7ea9bb",
   "metadata": {},
   "source": [
    "## Data quality check / cleaning / preparation \n",
    "\n",
    "Put code with comments. The comments should explain the code such that it can be easily understood. You may put text *(in a markdown cell)* before a large chunk of code to explain the overall purpose of the code, if it is not intuitive. **Put the name of the person / persons who contributed to each code chunk / set of code chunks.** An example is given below."
   ]
  },
  {
   "cell_type": "markdown",
   "id": "371a5a4a",
   "metadata": {},
   "source": [
    "### Distribution of response\n",
    "*By Hiba Khatib*"
   ]
  },
  {
   "cell_type": "code",
   "execution_count": 6,
   "id": "b868f6b5",
   "metadata": {},
   "outputs": [
    {
     "name": "stderr",
     "output_type": "stream",
     "text": [
      "No artists with labels found to put in legend.  Note that artists whose label start with an underscore are ignored when legend() is called with no argument.\n"
     ]
    },
    {
     "data": {
      "image/png": "[encoded data removed]",
      "text/plain": [
       "<Figure size 720x432 with 1 Axes>"
      ]
     },
     "metadata": {
      "needs_background": "light"
     },
     "output_type": "display_data"
    },
    {
     "name": "stdout",
     "output_type": "stream",
     "text": [
      "Mean of price:  24568.3835\n",
      "Standard deviation:  16742.99685916766\n"
     ]
    }
   ],
   "source": [
    "#...Plot for distribution of response...#\n",
    "\n",
    "plt.figure(figsize=(10,6))\n",
    "sns.distplot(data.price)\n",
    "plt.title('Price')\n",
    "plt.legend()\n",
    "plt.xlabel('Price')\n",
    "plt.ylabel('Frequency')\n",
    "plt.ticklabel_format(style='plain', axis='x')\n",
    "plt.show()\n",
    "\n",
    "# Mean and standard deviation of response #\n",
    "\n",
    "print(\"Mean of price: \", np.mean(data.price))\n",
    "print(\"Standard deviation: \", np.std(data.price))"
   ]
  },
  {
   "cell_type": "markdown",
   "id": "7d970d55",
   "metadata": {},
   "source": [
    "The data needs a log transformation on price. "
   ]
  },
  {
   "cell_type": "code",
   "execution_count": 7,
   "id": "6fc0e723",
   "metadata": {},
   "outputs": [
    {
     "name": "stderr",
     "output_type": "stream",
     "text": [
      "No artists with labels found to put in legend.  Note that artists whose label start with an underscore are ignored when legend() is called with no argument.\n"
     ]
    },
    {
     "data": {
      "image/png": "[encoded data removed]",
      "text/plain": [
       "<Figure size 720x432 with 1 Axes>"
      ]
     },
     "metadata": {
      "needs_background": "light"
     },
     "output_type": "display_data"
    }
   ],
   "source": [
    "plt.figure(figsize=(10,6))\n",
    "sns.distplot(np.log(data.price))\n",
    "plt.title('Price')\n",
    "plt.legend()\n",
    "plt.xlabel('log(Price)')\n",
    "plt.ylabel('Frequency')\n",
    "plt.ticklabel_format(style='plain', axis='x')\n",
    "plt.show()"
   ]
  },
  {
   "cell_type": "markdown",
   "id": "6d21a875",
   "metadata": {},
   "source": [
    "The distribution is much more uniform now with the log transformation. "
   ]
  },
  {
   "cell_type": "code",
   "execution_count": 8,
   "id": "316abd3d",
   "metadata": {},
   "outputs": [
    {
     "data": {
      "text/plain": [
       "<AxesSubplot:xlabel='price'>"
      ]
     },
     "execution_count": 8,
     "metadata": {},
     "output_type": "execute_result"
    },
    {
     "data": {
      "image/png": "[encoded data removed]",
      "text/plain": [
       "<Figure size 432x288 with 1 Axes>"
      ]
     },
     "metadata": {
      "needs_background": "light"
     },
     "output_type": "display_data"
    }
   ],
   "source": [
    "# checking for outlying observations \n",
    "sns.boxplot(data.price, orient = \"v\")"
   ]
  },
  {
   "cell_type": "code",
   "execution_count": 9,
   "id": "33f9eaec",
   "metadata": {},
   "outputs": [
    {
     "data": {
      "text/plain": [
       "count      6000.000000\n",
       "mean      24568.383500\n",
       "std       16744.392283\n",
       "min        1680.000000\n",
       "25%       16500.000000\n",
       "50%       21924.000000\n",
       "75%       29995.000000\n",
       "max      859000.000000\n",
       "Name: price, dtype: float64"
      ]
     },
     "execution_count": 9,
     "metadata": {},
     "output_type": "execute_result"
    }
   ],
   "source": [
    "data.price.describe()"
   ]
  },
  {
   "cell_type": "markdown",
   "id": "5212e77a",
   "metadata": {},
   "source": [
    "There appears to be many outliers that we can drop before performing any feature selection. Dropping the outliers should help us avoid possible issues with overfitting to the training data and the complexities that are related to outlying observations. "
   ]
  },
  {
   "cell_type": "code",
   "execution_count": 10,
   "id": "268226f6",
   "metadata": {},
   "outputs": [],
   "source": [
    "data_subset = data[data.price <= 30000]"
   ]
  },
  {
   "cell_type": "code",
   "execution_count": 11,
   "id": "c24c201d",
   "metadata": {},
   "outputs": [
    {
     "data": {
      "text/plain": [
       "<AxesSubplot:xlabel='price'>"
      ]
     },
     "execution_count": 11,
     "metadata": {},
     "output_type": "execute_result"
    },
    {
     "data": {
      "image/png": "[encoded data removed]",
      "text/plain": [
       "<Figure size 432x288 with 1 Axes>"
      ]
     },
     "metadata": {
      "needs_background": "light"
     },
     "output_type": "display_data"
    }
   ],
   "source": [
    "sns.boxplot(data_subset.price)"
   ]
  },
  {
   "cell_type": "code",
   "execution_count": 12,
   "id": "fc0e2283",
   "metadata": {},
   "outputs": [
    {
     "name": "stderr",
     "output_type": "stream",
     "text": [
      "No artists with labels found to put in legend.  Note that artists whose label start with an underscore are ignored when legend() is called with no argument.\n"
     ]
    },
    {
     "data": {
      "image/png": "[encoded data removed]",
      "text/plain": [
       "<Figure size 720x432 with 1 Axes>"
      ]
     },
     "metadata": {
      "needs_background": "light"
     },
     "output_type": "display_data"
    },
    {
     "name": "stdout",
     "output_type": "stream",
     "text": [
      "Mean of price:  19205.211827007945\n",
      "Standard deviation:  5978.306973568847\n"
     ]
    }
   ],
   "source": [
    "#...Plot for distribution of response after removing outliers...#\n",
    "\n",
    "plt.figure(figsize=(10,6))\n",
    "sns.distplot(data_subset.price)\n",
    "plt.title('Price')\n",
    "plt.legend()\n",
    "plt.xlabel('Price')\n",
    "plt.ylabel('Frequency')\n",
    "plt.ticklabel_format(style='plain', axis='x')\n",
    "plt.show()\n",
    "\n",
    "# Mean and standard deviation of response #\n",
    "\n",
    "print(\"Mean of price: \", np.mean(data_subset.price))\n",
    "print(\"Standard deviation: \", np.std(data_subset.price))"
   ]
  },
  {
   "cell_type": "markdown",
   "id": "5d34acbf",
   "metadata": {},
   "source": [
    "The mean and standard deviation have significantly decreased after removing all of the outliers and now we don't need to transform the predictor. The mean and standard deviation have also decreased significantly."
   ]
  },
  {
   "cell_type": "code",
   "execution_count": 13,
   "id": "3c9e0fa9",
   "metadata": {},
   "outputs": [],
   "source": [
    "data = data_subset.copy()"
   ]
  },
  {
   "cell_type": "code",
   "execution_count": 14,
   "id": "be41a8f1",
   "metadata": {},
   "outputs": [
    {
     "name": "stdout",
     "output_type": "stream",
     "text": [
      "The final shape of the data after removing outliers is (4532, 57)\n"
     ]
    }
   ],
   "source": [
    "print(\"The final shape of the data after removing outliers is\", data.shape)"
   ]
  },
  {
   "cell_type": "markdown",
   "id": "ff6b5e83",
   "metadata": {},
   "source": [
    "### Data Cleaning, Preparation, and EDA\n",
    "*By Hiba Khatib & Emily Leibfritz*"
   ]
  },
  {
   "cell_type": "markdown",
   "id": "c89a4da1",
   "metadata": {},
   "source": [
    "### brief summary of all the things we did \n",
    "\n",
    "After creating all 8 base models, we decided to subset the data into two different ways to improve the analysis of our data. The first subset is the resulting features after our EDA and data preparation. The second way we subsetted the data was based on the features selected by tree based models. Our methods are described in detail below. \n",
    "\n",
    "1. Our EDA Selected Features (Hiba & Emily)\n",
    "\n",
    "We performed data cleaning, preparation and EDA on the data to facilitate feature selection and model training. The first thing we did was fix the data types of some of the columns. All of the boolean columns were encoded as True or False so we mapped those to 1s and 0s. Then, we found that several columns such as horsepower and torque were numerical but contained units. We removed all of the units from these columns and converted them back to numeric. Then, we dropped a set of unique identifiers which were not sigificant to our analysis. We also dropped three columns which represented the interior, and exterior color of the car. These columns had different names for the same color and we did not see them as significant predictors to engineer and encode differently. Then, we dropped a constant predictor which contained the same value for all observations as constant predictors don't provide any meaningful insights. The final step in the cleaning and preparation of the numerical data, we dropped highly correlated features. These were features which represented the same information in two different ways such as the official name of a trim and the id associated with that name. This resulted in us keeping only 14 of the numerical predictors are subsetting for predictors with a correlation of |-.2|. \n",
    "\n",
    "# insert summary of categorical data prep \n",
    "\n",
    "2. Randomforest and Decision Tree top features (hiba)"
   ]
  },
  {
   "cell_type": "code",
   "execution_count": 15,
   "id": "b94caaf6",
   "metadata": {},
   "outputs": [
    {
     "name": "stdout",
     "output_type": "stream",
     "text": [
      "['fleet', 'frame_damaged', 'franchise_dealer', 'has_accidents', 'isCab', 'is_new', 'salvage', 'theft_title']\n"
     ]
    }
   ],
   "source": [
    "# feature engineering\n",
    "\n",
    "    # encoding True/False as 1/0s\n",
    "bool_cols = data.dtypes[data.dtypes == bool]\n",
    "bool_cols = pd.DataFrame(bool_cols).reset_index()\n",
    "bool_cols = bool_cols['index']\n",
    "bool_cols = list(bool_cols)\n",
    "print(bool_cols)\n",
    "for col in bool_cols:\n",
    "    data[col] = data[col].map({False: 0, True: 1})\n",
    "    \n",
    "\n",
    "    # numerically encoding categorical variables with at most 5 unique values \n",
    "cols_map = []\n",
    "for c in data.columns:\n",
    "    col_len = (len(data[c].unique()))\n",
    "    if col_len <=5:\n",
    "        cols_map.append(c)\n",
    "[cols_map.remove(c) for c in bool_cols] # removing the boolean columns from the list\n",
    "\n",
    "    # performing the encoding\n",
    "le = LabelEncoder()\n",
    "encoder_dict = {key: None for key in cols_map}\n",
    "for c in cols_map:\n",
    "    encoder_dict[c] = data[c].unique()\n",
    "    col_name = str(c)+\"_cat\"\n",
    "    data[col_name] = le.fit_transform(data[c])\n",
    "    encoder_dict[col_name] = le.fit_transform(encoder_dict[c])\n",
    "    \n",
    "    # removing units from numerical columns \n",
    "\n",
    "data['front_legroom'] = data['front_legroom'].map(lambda x: x.lstrip('+-').rstrip('in'))\n",
    "data['width'] = data['width'].map(lambda x: x.lstrip('+-').rstrip('in'))\n",
    "data['height'] = data['height'].map(lambda x: x.lstrip('+-').rstrip('in'))\n",
    "data['length'] = data['length'].map(lambda x: x.lstrip('+-').rstrip('in'))\n",
    "data['wheelbase'] = data['wheelbase'].map(lambda x: x.lstrip('+-').rstrip('in'))\n",
    "data['back_legroom'] = data['back_legroom'].map(lambda x: x.lstrip('+-').rstrip('in'))\n",
    "data['maximum_seating'] = data['maximum_seating'].map(lambda x: x.lstrip('+-').rstrip('seating'))\n",
    "data['fuel_tank_volume'] = data['fuel_tank_volume'].map(lambda x: x.lstrip('+-').rstrip('gal'))\n",
    "data['power'] = data['power'].str[:3] # keeping only numerical value\n",
    "data['torque'] = data['torque'].str[:3]\n",
    "\n",
    "    # converting data types to numerical\n",
    "data.power = pd.to_numeric(data.power)\n",
    "data.back_legroom = pd.to_numeric(data.back_legroom)\n",
    "data.front_legroom = pd.to_numeric(data.front_legroom)\n",
    "data.width = pd.to_numeric(data.width)\n",
    "data.height = pd.to_numeric(data.height)\n",
    "data.length = pd.to_numeric(data.length)\n",
    "data.wheelbase = pd.to_numeric(data.wheelbase)\n",
    "data.maximum_seating = pd.to_numeric(data.maximum_seating)\n",
    "data.fuel_tank_volume = pd.to_numeric(data.fuel_tank_volume)\n",
    "data.torque = pd.to_numeric(data.torque)"
   ]
  },
  {
   "cell_type": "code",
   "execution_count": 16,
   "id": "9a353c36",
   "metadata": {},
   "outputs": [
    {
     "data": {
      "text/plain": [
       "Index(['vin', 'back_legroom', 'body_type', 'city', 'city_fuel_economy',\n",
       "       'daysonmarket', 'dealer_zip', 'description', 'engine_cylinders',\n",
       "       'engine_displacement', 'engine_type', 'exterior_color', 'fleet',\n",
       "       'frame_damaged', 'franchise_dealer', 'franchise_make', 'front_legroom',\n",
       "       'fuel_tank_volume', 'fuel_type', 'has_accidents', 'height',\n",
       "       'highway_fuel_economy', 'horsepower', 'interior_color', 'isCab',\n",
       "       'is_new', 'latitude', 'length', 'listed_date', 'listing_color',\n",
       "       'listing_id', 'longitude', 'main_picture_url', 'major_options',\n",
       "       'make_name', 'maximum_seating', 'mileage', 'model_name', 'owner_count',\n",
       "       'power', 'price', 'salvage', 'savings_amount', 'seller_rating', 'sp_id',\n",
       "       'sp_name', 'theft_title', 'torque', 'transmission',\n",
       "       'transmission_display', 'trimId', 'trim_name', 'wheel_system',\n",
       "       'wheel_system_display', 'wheelbase', 'width', 'year', 'fuel_type_cat',\n",
       "       'transmission_cat', 'wheel_system_cat', 'wheel_system_display_cat'],\n",
       "      dtype='object')"
      ]
     },
     "execution_count": 16,
     "metadata": {},
     "output_type": "execute_result"
    }
   ],
   "source": [
    "data.columns"
   ]
  },
  {
   "cell_type": "code",
   "execution_count": 17,
   "id": "25ddf4d3",
   "metadata": {},
   "outputs": [
    {
     "name": "stdout",
     "output_type": "stream",
     "text": [
      "Data shape after dropping unique features:  (4532, 51)\n",
      "back_legroom                False\n",
      "body_type                   False\n",
      "city_fuel_economy           False\n",
      "daysonmarket                False\n",
      "dealer_zip                  False\n",
      "engine_cylinders            False\n",
      "engine_displacement         False\n",
      "engine_type                 False\n",
      "fleet                       False\n",
      "frame_damaged               False\n",
      "franchise_dealer             True\n",
      "franchise_make              False\n",
      "front_legroom               False\n",
      "fuel_tank_volume            False\n",
      "fuel_type                   False\n",
      "has_accidents               False\n",
      "height                      False\n",
      "highway_fuel_economy        False\n",
      "horsepower                  False\n",
      "isCab                       False\n",
      "is_new                      False\n",
      "latitude                    False\n",
      "length                      False\n",
      "listed_date                 False\n",
      "longitude                   False\n",
      "major_options               False\n",
      "maximum_seating             False\n",
      "mileage                     False\n",
      "model_name                  False\n",
      "owner_count                 False\n",
      "power                       False\n",
      "price                       False\n",
      "salvage                     False\n",
      "savings_amount              False\n",
      "seller_rating               False\n",
      "sp_id                       False\n",
      "theft_title                 False\n",
      "torque                      False\n",
      "transmission                False\n",
      "transmission_display        False\n",
      "trimId                      False\n",
      "trim_name                   False\n",
      "wheel_system                False\n",
      "wheel_system_display        False\n",
      "wheelbase                   False\n",
      "width                       False\n",
      "year                        False\n",
      "fuel_type_cat               False\n",
      "transmission_cat            False\n",
      "wheel_system_cat            False\n",
      "wheel_system_display_cat    False\n",
      "dtype: bool\n"
     ]
    }
   ],
   "source": [
    "# dropping unique features\n",
    "\n",
    "data.drop(columns = ['vin', 'listing_id', 'main_picture_url', 'description', 'sp_name', 'make_name', 'city'], inplace = True)\n",
    "\n",
    "    # color columns\n",
    "data.drop(columns = ['listing_color', 'interior_color', 'exterior_color'], inplace = True)\n",
    "\n",
    "print(\"Data shape after dropping unique features: \", data.shape)\n",
    "\n",
    "# dropping constant predictor \n",
    "print(data.nunique() == 1)\n",
    "data.drop(columns = ['franchise_dealer'], inplace = True)\n",
    "\n",
    "# dropping highly correlated columns \n",
    "\n",
    "data.drop(columns = ['trim_name', 'engine_type', 'major_options', 'horsepower'], inplace = True)"
   ]
  },
  {
   "cell_type": "code",
   "execution_count": 18,
   "id": "27e449fd",
   "metadata": {},
   "outputs": [
    {
     "name": "stdout",
     "output_type": "stream",
     "text": [
      "Final data shape after cleaning and dropping unnecessary features:  (4532, 46)\n"
     ]
    }
   ],
   "source": [
    "print(\"Final data shape after cleaning and dropping unnecessary features: \", data.shape)"
   ]
  },
  {
   "cell_type": "markdown",
   "id": "a4d28f65",
   "metadata": {},
   "source": [
    "### Exploring Trends in Categorical Predictors"
   ]
  },
  {
   "cell_type": "code",
   "execution_count": 19,
   "id": "74518450",
   "metadata": {},
   "outputs": [],
   "source": [
    "data_2 = data.copy()\n",
    "# make seperate df to just look at categorical\n",
    "o_data = data.drop(columns = [\"back_legroom\", \"wheel_system_display\", \"wheelbase\", \"width\", \"front_legroom\", \n",
    "                              \"fuel_tank_volume\", \"height\", \"torque\", \"maximum_seating\",\"transmission_cat\",\n",
    "                              \"power\",\"city_fuel_economy\",\"daysonmarket\",\"dealer_zip\",\"transmission\",\"wheel_system_display_cat\",\n",
    "                              \"fuel_type_cat\",\"wheel_system\",\"wheel_system_cat\",\"fuel_type\",\n",
    "                              \"engine_displacement\",\"fleet\",\"frame_damaged\",\"has_accidents\",\"highway_fuel_economy\",\n",
    "                              \"isCab\",\"is_new\",\"latitude\",\"longitude\",\"mileage\",\"owner_count\",\"salvage\",\n",
    "                              \"savings_amount\",\"seller_rating\",\"sp_id\",\"theft_title\",\"year\"], axis = 1)\n",
    "# taken out: \"franchise_dealer\"\n",
    "cols = o_data.columns\n",
    "name = []\n",
    "unique_value = []\n",
    "for i in range(0,len(cols)):\n",
    "    c = cols[i]\n",
    "    unique = len(data[c].unique())\n",
    "    unique_value.append(unique)\n",
    "    name.append(c)"
   ]
  },
  {
   "cell_type": "code",
   "execution_count": 20,
   "id": "b84038f1",
   "metadata": {},
   "outputs": [
    {
     "data": {
      "text/html": [
       "<div>\n",
       "<style scoped>\n",
       "    .dataframe tbody tr th:only-of-type {\n",
       "        vertical-align: middle;\n",
       "    }\n",
       "\n",
       "    .dataframe tbody tr th {\n",
       "        vertical-align: top;\n",
       "    }\n",
       "\n",
       "    .dataframe thead th {\n",
       "        text-align: right;\n",
       "    }\n",
       "</style>\n",
       "<table border=\"1\" class=\"dataframe\">\n",
       "  <thead>\n",
       "    <tr style=\"text-align: right;\">\n",
       "      <th></th>\n",
       "      <th>column</th>\n",
       "      <th>unique_values</th>\n",
       "    </tr>\n",
       "  </thead>\n",
       "  <tbody>\n",
       "    <tr>\n",
       "      <th>0</th>\n",
       "      <td>body_type</td>\n",
       "      <td>9</td>\n",
       "    </tr>\n",
       "    <tr>\n",
       "      <th>1</th>\n",
       "      <td>engine_cylinders</td>\n",
       "      <td>16</td>\n",
       "    </tr>\n",
       "    <tr>\n",
       "      <th>7</th>\n",
       "      <td>transmission_display</td>\n",
       "      <td>18</td>\n",
       "    </tr>\n",
       "    <tr>\n",
       "      <th>2</th>\n",
       "      <td>franchise_make</td>\n",
       "      <td>34</td>\n",
       "    </tr>\n",
       "    <tr>\n",
       "      <th>4</th>\n",
       "      <td>listed_date</td>\n",
       "      <td>286</td>\n",
       "    </tr>\n",
       "    <tr>\n",
       "      <th>5</th>\n",
       "      <td>model_name</td>\n",
       "      <td>289</td>\n",
       "    </tr>\n",
       "    <tr>\n",
       "      <th>3</th>\n",
       "      <td>length</td>\n",
       "      <td>333</td>\n",
       "    </tr>\n",
       "    <tr>\n",
       "      <th>8</th>\n",
       "      <td>trimId</td>\n",
       "      <td>2344</td>\n",
       "    </tr>\n",
       "    <tr>\n",
       "      <th>6</th>\n",
       "      <td>price</td>\n",
       "      <td>2485</td>\n",
       "    </tr>\n",
       "  </tbody>\n",
       "</table>\n",
       "</div>"
      ],
      "text/plain": [
       "                 column  unique_values\n",
       "0             body_type              9\n",
       "1      engine_cylinders             16\n",
       "7  transmission_display             18\n",
       "2        franchise_make             34\n",
       "4           listed_date            286\n",
       "5            model_name            289\n",
       "3                length            333\n",
       "8                trimId           2344\n",
       "6                 price           2485"
      ]
     },
     "execution_count": 20,
     "metadata": {},
     "output_type": "execute_result"
    }
   ],
   "source": [
    "# Create the pandas DataFrame with object columns and their unique values\n",
    "data_ = {'column': name, 'unique_values':unique_value}\n",
    "o_unique_values_count = pd.DataFrame(data_)\n",
    "o_unique_values_count.sort_values(by=['unique_values'])"
   ]
  },
  {
   "cell_type": "markdown",
   "id": "99d9ca91",
   "metadata": {},
   "source": [
    "From this information, we can simply visualize with boxplot any variables until make_name, to see their relevance and adjust them. After that we will look more thoroughly, maybe group data. Consider dropping anything with other 1000 unique values as we only have 6000 rows, so might not be good predictors, but will decide on case by case basis."
   ]
  },
  {
   "cell_type": "code",
   "execution_count": 21,
   "id": "e4351540",
   "metadata": {},
   "outputs": [
    {
     "data": {
      "text/plain": [
       "[]"
      ]
     },
     "execution_count": 21,
     "metadata": {},
     "output_type": "execute_result"
    },
    {
     "data": {
      "image/png": "[encoded data removed]",
      "text/plain": [
       "<Figure size 720x288 with 1 Axes>"
      ]
     },
     "metadata": {
      "needs_background": "light"
     },
     "output_type": "display_data"
    }
   ],
   "source": [
    "plt.figure(figsize=(10,4))\n",
    "sns.boxplot(x=\"body_type\",y=\"price\", data = data)\n",
    "plt.xticks(rotation=90)\n",
    "plt.ylim(0,80000)\n",
    "\n",
    "plt.plot()"
   ]
  },
  {
   "cell_type": "markdown",
   "id": "96b7655f",
   "metadata": {},
   "source": [
    "body_type seems to have a significant trend right away. We cancheck value counts to see if some types are more common than others"
   ]
  },
  {
   "cell_type": "code",
   "execution_count": 22,
   "id": "df7d6324",
   "metadata": {},
   "outputs": [
    {
     "data": {
      "text/plain": [
       "SUV / Crossover    2295\n",
       "Sedan              1503\n",
       "Pickup Truck        190\n",
       "Minivan             184\n",
       "Wagon               115\n",
       "Hatchback           108\n",
       "Coupe                98\n",
       "Convertible          27\n",
       "Van                  12\n",
       "Name: body_type, dtype: int64"
      ]
     },
     "execution_count": 22,
     "metadata": {},
     "output_type": "execute_result"
    }
   ],
   "source": [
    "data.body_type.value_counts()"
   ]
  },
  {
   "cell_type": "markdown",
   "id": "4eea46a8",
   "metadata": {},
   "source": [
    "Have enough observations for each value to be valid, none of the smaller groups stand out substantially, convertible is a little bit spread but that should be fine -> convert to dummies"
   ]
  },
  {
   "cell_type": "code",
   "execution_count": 23,
   "id": "e64a250d",
   "metadata": {},
   "outputs": [],
   "source": [
    "# change spelling so colummns will be callable\n",
    "data_2['body_type'] = o_data['body_type'].apply(lambda x: 'SUV_Crossover' if x == 'SUV / Crossover' else \n",
    "                                                          'Pickup_Truck' if x == 'Pickup Truck' else\n",
    "                                                x)\n",
    "# get dummies\n",
    "data_2 = pd.get_dummies(data_2, columns=['body_type'], drop_first=True)"
   ]
  },
  {
   "cell_type": "code",
   "execution_count": 24,
   "id": "fe08c8af",
   "metadata": {},
   "outputs": [
    {
     "data": {
      "text/plain": [
       "[]"
      ]
     },
     "execution_count": 24,
     "metadata": {},
     "output_type": "execute_result"
    },
    {
     "data": {
      "image/png": "[encoded data removed]",
      "text/plain": [
       "<Figure size 720x288 with 1 Axes>"
      ]
     },
     "metadata": {
      "needs_background": "light"
     },
     "output_type": "display_data"
    }
   ],
   "source": [
    "plt.figure(figsize=(10,4))\n",
    "\n",
    "sns.boxplot(x=\"engine_cylinders\",y=\"price\", data = o_data)\n",
    "plt.xticks(rotation=90)\n",
    "plt.ylim(0,80000)\n",
    "plt.plot()"
   ]
  },
  {
   "cell_type": "code",
   "execution_count": 25,
   "id": "ed214e84",
   "metadata": {},
   "outputs": [
    {
     "data": {
      "text/plain": [
       "I4                      2776\n",
       "V6                      1223\n",
       "V6 Flex Fuel Vehicle     156\n",
       "H4                       145\n",
       "V8                       105\n",
       "V8 Flex Fuel Vehicle      45\n",
       "I4 Flex Fuel Vehicle      22\n",
       "I4 Diesel                 16\n",
       "I3                        13\n",
       "I6                        12\n",
       "H6                         4\n",
       "V6 Diesel                  4\n",
       "I5                         4\n",
       "V6 Biodiesel               3\n",
       "I4 Hybrid                  3\n",
       "H4 Hybrid                  1\n",
       "Name: engine_cylinders, dtype: int64"
      ]
     },
     "execution_count": 25,
     "metadata": {},
     "output_type": "execute_result"
    }
   ],
   "source": [
    "o_data.engine_cylinders.value_counts()"
   ]
  },
  {
   "cell_type": "markdown",
   "id": "9fb59380",
   "metadata": {},
   "source": [
    "Turn anything under 100 observations into 'other', if there is only one observation this is not useful data."
   ]
  },
  {
   "cell_type": "code",
   "execution_count": 26,
   "id": "b1b5e65e",
   "metadata": {},
   "outputs": [
    {
     "data": {
      "text/plain": [
       "I4                      2776\n",
       "V6                      1223\n",
       "V6_Flex_Fuel_Vehicle     156\n",
       "H4                       145\n",
       "other                    127\n",
       "V8                       105\n",
       "Name: engine_cylinders, dtype: int64"
      ]
     },
     "execution_count": 26,
     "metadata": {},
     "output_type": "execute_result"
    }
   ],
   "source": [
    "data_2['engine_cylinders'] = o_data['engine_cylinders'].apply(lambda x: 'I4' if x == 'I4' else \n",
    "                                                          'V6' if x == 'V6' else\n",
    "                                                          'V8' if x == 'V8' else\n",
    "                                                          'V6_Flex_Fuel_Vehicle' if x == 'V6 Flex Fuel Vehicle' else\n",
    "                                                          'H4' if x == 'H4' else\n",
    "                                                          'other')\n",
    "data_2.engine_cylinders.value_counts()"
   ]
  },
  {
   "cell_type": "code",
   "execution_count": 27,
   "id": "ac3285e9",
   "metadata": {},
   "outputs": [
    {
     "data": {
      "text/plain": [
       "[]"
      ]
     },
     "execution_count": 27,
     "metadata": {},
     "output_type": "execute_result"
    },
    {
     "data": {
      "image/png": "[encoded data removed]",
      "text/plain": [
       "<Figure size 576x288 with 1 Axes>"
      ]
     },
     "metadata": {
      "needs_background": "light"
     },
     "output_type": "display_data"
    }
   ],
   "source": [
    "plt.figure(figsize=(8,4))\n",
    "sns.boxplot(x=\"engine_cylinders\",y=\"price\", data = data_2)\n",
    "plt.xticks(rotation=90)\n",
    "plt.ylim(0,80000)\n",
    "plt.plot()"
   ]
  },
  {
   "cell_type": "markdown",
   "id": "708bba6f",
   "metadata": {},
   "source": [
    "Other is naturally with bigger range, but this looks better, get dummies for it:"
   ]
  },
  {
   "cell_type": "code",
   "execution_count": 28,
   "id": "d9196655",
   "metadata": {},
   "outputs": [],
   "source": [
    "data_2 = pd.get_dummies(data_2, columns=['engine_cylinders'], drop_first=True)"
   ]
  },
  {
   "cell_type": "code",
   "execution_count": 29,
   "id": "b971277f",
   "metadata": {},
   "outputs": [
    {
     "data": {
      "text/plain": [
       "[]"
      ]
     },
     "execution_count": 29,
     "metadata": {},
     "output_type": "execute_result"
    },
    {
     "data": {
      "image/png": "[encoded data removed]",
      "text/plain": [
       "<Figure size 720x288 with 1 Axes>"
      ]
     },
     "metadata": {
      "needs_background": "light"
     },
     "output_type": "display_data"
    }
   ],
   "source": [
    "plt.figure(figsize=(10,4))\n",
    "sns.boxplot(x=\"transmission_display\",y=\"price\", data = o_data)\n",
    "plt.xticks(rotation=90)\n",
    "plt.ylim(0,80000)\n",
    "plt.plot()"
   ]
  },
  {
   "cell_type": "markdown",
   "id": "359718bf",
   "metadata": {},
   "source": [
    "Mean and range seem both to be varying, might be valuable column to predict price, check value counts:"
   ]
  },
  {
   "cell_type": "code",
   "execution_count": 30,
   "id": "f9e51ed5",
   "metadata": {},
   "outputs": [
    {
     "data": {
      "text/plain": [
       "Automatic                             1583\n",
       "6-Speed Automatic                     1157\n",
       "Continuously Variable Transmission     934\n",
       "8-Speed Automatic                      334\n",
       "9-Speed Automatic                      189\n",
       "Name: transmission_display, dtype: int64"
      ]
     },
     "execution_count": 30,
     "metadata": {},
     "output_type": "execute_result"
    }
   ],
   "source": [
    "data.transmission_display.value_counts().head()"
   ]
  },
  {
   "cell_type": "code",
   "execution_count": 31,
   "id": "c02ed4e4",
   "metadata": {},
   "outputs": [
    {
     "data": {
      "text/plain": [
       "[]"
      ]
     },
     "execution_count": 31,
     "metadata": {},
     "output_type": "execute_result"
    },
    {
     "data": {
      "image/png": "[encoded data removed]",
      "text/plain": [
       "<Figure size 432x288 with 1 Axes>"
      ]
     },
     "metadata": {
      "needs_background": "light"
     },
     "output_type": "display_data"
    }
   ],
   "source": [
    "data_2['transmission_display'] = o_data['transmission_display'].apply(lambda x: 'Automatic' if x == 'Automatic' else \n",
    "                                                          '6_Speed_Automatic' if x == '6-Speed Automatic' else\n",
    "                                                          'Continuously_Variable_Transmission' if x == 'Continuously Variable Transmission' else\n",
    "                                                          '8_Speed_Automatic' if x == '8-Speed Automatic' else\n",
    "                                                          '9_Speed_Automatic' if x == '9-Speed Automatic' else\n",
    "                                                          '6_Speed_Automatic' if x == '6-Speed Automatic' else\n",
    "                                                          '5_Speed_Automatic' if x == '5-Speed Automatic' else\n",
    "                                                          'other')\n",
    "plt.figure(figsize=(6,4))\n",
    "sns.boxplot(x=\"transmission_display\",y=\"price\", data = data_2)\n",
    "plt.xticks(rotation=90)\n",
    "plt.ylim(0,80000)\n",
    "plt.plot()"
   ]
  },
  {
   "cell_type": "markdown",
   "id": "33dcdfcb",
   "metadata": {},
   "source": [
    "Looks relevant, change in mean and besides 2 relatively small range -> convert into dummies"
   ]
  },
  {
   "cell_type": "code",
   "execution_count": 32,
   "id": "4b2b731d",
   "metadata": {},
   "outputs": [],
   "source": [
    "# turn those columns into dummies\n",
    "data_2 = pd.get_dummies(data_2, columns=['transmission_display'], drop_first=True)"
   ]
  },
  {
   "cell_type": "code",
   "execution_count": 33,
   "id": "7acff307",
   "metadata": {},
   "outputs": [
    {
     "data": {
      "text/plain": [
       "[]"
      ]
     },
     "execution_count": 33,
     "metadata": {},
     "output_type": "execute_result"
    },
    {
     "data": {
      "image/png": "[encoded data removed]",
      "text/plain": [
       "<Figure size 864x360 with 1 Axes>"
      ]
     },
     "metadata": {
      "needs_background": "light"
     },
     "output_type": "display_data"
    }
   ],
   "source": [
    "plt.figure(figsize=(12,5))\n",
    "sns.boxplot(x=\"franchise_make\",y=\"price\", data = o_data)\n",
    "plt.xticks(rotation=90)\n",
    "plt.ylim(0,80000)\n",
    "plt.plot()"
   ]
  },
  {
   "cell_type": "markdown",
   "id": "57e1f418",
   "metadata": {},
   "source": [
    "This seems to be too many columns to just turn into dummies, and as brand is strongly connected to price this seems an important column to keep -> divide brands into groups depending on their mean price, and label encode these groups."
   ]
  },
  {
   "cell_type": "code",
   "execution_count": 34,
   "id": "81d1d3d4",
   "metadata": {},
   "outputs": [
    {
     "data": {
      "text/html": [
       "<div>\n",
       "<style scoped>\n",
       "    .dataframe tbody tr th:only-of-type {\n",
       "        vertical-align: middle;\n",
       "    }\n",
       "\n",
       "    .dataframe tbody tr th {\n",
       "        vertical-align: top;\n",
       "    }\n",
       "\n",
       "    .dataframe thead th {\n",
       "        text-align: right;\n",
       "    }\n",
       "</style>\n",
       "<table border=\"1\" class=\"dataframe\">\n",
       "  <thead>\n",
       "    <tr style=\"text-align: right;\">\n",
       "      <th></th>\n",
       "      <th>franchise_make</th>\n",
       "      <th>price</th>\n",
       "    </tr>\n",
       "  </thead>\n",
       "  <tbody>\n",
       "    <tr>\n",
       "      <th>16</th>\n",
       "      <td>Kia</td>\n",
       "      <td>17610.859551</td>\n",
       "    </tr>\n",
       "    <tr>\n",
       "      <th>25</th>\n",
       "      <td>Mitsubishi</td>\n",
       "      <td>17617.980000</td>\n",
       "    </tr>\n",
       "    <tr>\n",
       "      <th>29</th>\n",
       "      <td>Scion</td>\n",
       "      <td>17778.894737</td>\n",
       "    </tr>\n",
       "    <tr>\n",
       "      <th>32</th>\n",
       "      <td>Volkswagen</td>\n",
       "      <td>18031.586957</td>\n",
       "    </tr>\n",
       "    <tr>\n",
       "      <th>13</th>\n",
       "      <td>Hyundai</td>\n",
       "      <td>18046.270270</td>\n",
       "    </tr>\n",
       "  </tbody>\n",
       "</table>\n",
       "</div>"
      ],
      "text/plain": [
       "   franchise_make         price\n",
       "16            Kia  17610.859551\n",
       "25     Mitsubishi  17617.980000\n",
       "29          Scion  17778.894737\n",
       "32     Volkswagen  18031.586957\n",
       "13        Hyundai  18046.270270"
      ]
     },
     "execution_count": 34,
     "metadata": {},
     "output_type": "execute_result"
    }
   ],
   "source": [
    "# look at mean price by group\n",
    "brand_mean_price=data.groupby('franchise_make', as_index=False)['price'].mean()\n",
    "brand_mean_price=brand_mean_price.sort_values(by=['price'])\n",
    "brand_mean_price.head()"
   ]
  },
  {
   "cell_type": "code",
   "execution_count": 35,
   "id": "22a32787",
   "metadata": {},
   "outputs": [],
   "source": [
    "# sort the brands into groups with similar means\n",
    "group_0 = brand_mean_price.iloc[0:8,0]\n",
    "group_1 = brand_mean_price.iloc[8:14,0]\n",
    "group_2 = brand_mean_price.iloc[14:19,0]\n",
    "group_3 = brand_mean_price.iloc[19:25,0]\n",
    "group_4 = brand_mean_price.iloc[25:34,0]\n",
    "group_5 = brand_mean_price.iloc[34:38,0]\n",
    "group_6 = brand_mean_price.iloc[38:40,0]\n",
    "\n",
    "# write function to get names\n",
    "def get_names (group):\n",
    "    final = []\n",
    "    for i in range(0,len(group)):\n",
    "        name = group.iloc[i]\n",
    "        final.append(name)\n",
    "    return(final)\n",
    "# list of names in each group\n",
    "names_0 = get_names(group_0)\n",
    "names_1 = get_names(group_1)\n",
    "names_2 = get_names(group_2)\n",
    "names_3 = get_names(group_3)\n",
    "names_4 = get_names(group_4)\n",
    "names_5 = get_names(group_5)\n",
    "names_6 = get_names(group_6)\n",
    "\n",
    "# replace each object with a number of their group\n",
    "data_2['franchise_make'] = o_data['franchise_make'].apply(lambda x: 0 if x in names_0 else\n",
    "                                                          1 if x in names_1 else\n",
    "                                                          2 if x in names_2 else\n",
    "                                                          3 if x in names_3 else\n",
    "                                                          4 if x in names_4 else\n",
    "                                                          5 if x in names_5 else\n",
    "                                                          6 if x in names_6 else\n",
    "                                                         'wrong')"
   ]
  },
  {
   "cell_type": "code",
   "execution_count": 36,
   "id": "829e6966",
   "metadata": {},
   "outputs": [
    {
     "data": {
      "text/plain": [
       "2020-09-02    163\n",
       "2020-08-28    119\n",
       "2020-09-03    110\n",
       "2020-08-27    109\n",
       "2020-08-30    105\n",
       "Name: listed_date, dtype: int64"
      ]
     },
     "execution_count": 36,
     "metadata": {},
     "output_type": "execute_result"
    }
   ],
   "source": [
    "data.listed_date.value_counts().head()"
   ]
  },
  {
   "cell_type": "code",
   "execution_count": 37,
   "id": "5b8bec2e",
   "metadata": {},
   "outputs": [
    {
     "data": {
      "text/plain": [
       "-0.027944370408355405"
      ]
     },
     "execution_count": 37,
     "metadata": {},
     "output_type": "execute_result"
    }
   ],
   "source": [
    "#simply turn into numerical\n",
    "import datetime\n",
    "data_2['listed_date']=pd.to_datetime(data_2[\"listed_date\"]).dt.strftime(\"%Y%m%d\")\n",
    "data_2['listed_date']=data_2.listed_date.astype(int)\n",
    "# get correlation\n",
    "data_2['listed_date'].corr(data_2['price'])"
   ]
  },
  {
   "cell_type": "markdown",
   "id": "0c6eec01",
   "metadata": {},
   "source": [
    "Has a negative correlation between listing date and price, rather small"
   ]
  },
  {
   "cell_type": "code",
   "execution_count": 38,
   "id": "d7bad72a",
   "metadata": {},
   "outputs": [
    {
     "data": {
      "text/plain": [
       "Escape     166\n",
       "Rogue      146\n",
       "Accord     125\n",
       "Corolla    114\n",
       "RAV4       108\n",
       "Name: model_name, dtype: int64"
      ]
     },
     "execution_count": 38,
     "metadata": {},
     "output_type": "execute_result"
    }
   ],
   "source": [
    "data.model_name.value_counts().head()"
   ]
  },
  {
   "cell_type": "markdown",
   "id": "05180abd",
   "metadata": {},
   "source": [
    "Looking at both head and tail, there is a good distribution of the different model names, not one that is prelevant wherease the rest only has 1 or 2 entries -> group and turn into numeric"
   ]
  },
  {
   "cell_type": "code",
   "execution_count": 39,
   "id": "cb50d8cc",
   "metadata": {},
   "outputs": [
    {
     "data": {
      "text/html": [
       "<div>\n",
       "<style scoped>\n",
       "    .dataframe tbody tr th:only-of-type {\n",
       "        vertical-align: middle;\n",
       "    }\n",
       "\n",
       "    .dataframe tbody tr th {\n",
       "        vertical-align: top;\n",
       "    }\n",
       "\n",
       "    .dataframe thead th {\n",
       "        text-align: right;\n",
       "    }\n",
       "</style>\n",
       "<table border=\"1\" class=\"dataframe\">\n",
       "  <thead>\n",
       "    <tr style=\"text-align: right;\">\n",
       "      <th></th>\n",
       "      <th>model_name</th>\n",
       "      <th>price</th>\n",
       "    </tr>\n",
       "  </thead>\n",
       "  <tbody>\n",
       "    <tr>\n",
       "      <th>195</th>\n",
       "      <td>QX4</td>\n",
       "      <td>2000.0</td>\n",
       "    </tr>\n",
       "    <tr>\n",
       "      <th>164</th>\n",
       "      <td>Mariner Hybrid</td>\n",
       "      <td>2953.0</td>\n",
       "    </tr>\n",
       "    <tr>\n",
       "      <th>95</th>\n",
       "      <td>Explorer Sport Trac</td>\n",
       "      <td>2995.0</td>\n",
       "    </tr>\n",
       "    <tr>\n",
       "      <th>101</th>\n",
       "      <td>Five Hundred</td>\n",
       "      <td>3000.0</td>\n",
       "    </tr>\n",
       "    <tr>\n",
       "      <th>182</th>\n",
       "      <td>Park Avenue</td>\n",
       "      <td>3000.0</td>\n",
       "    </tr>\n",
       "  </tbody>\n",
       "</table>\n",
       "</div>"
      ],
      "text/plain": [
       "              model_name   price\n",
       "195                  QX4  2000.0\n",
       "164       Mariner Hybrid  2953.0\n",
       "95   Explorer Sport Trac  2995.0\n",
       "101         Five Hundred  3000.0\n",
       "182          Park Avenue  3000.0"
      ]
     },
     "execution_count": 39,
     "metadata": {},
     "output_type": "execute_result"
    }
   ],
   "source": [
    "# look at grouped mean\n",
    "make_mean_price=data.groupby('model_name', as_index=False)['price'].mean()\n",
    "make_mean_price=make_mean_price.sort_values(by=['price'])\n",
    "make_mean_price.head()"
   ]
  },
  {
   "cell_type": "code",
   "execution_count": 40,
   "id": "925c84b2",
   "metadata": {},
   "outputs": [],
   "source": [
    "# like with other column, divide 361 rows into 7 groups, different sizes but around same mean\n",
    "group_0 = make_mean_price.iloc[0:100,0] # 2000-15000\n",
    "group_1 = make_mean_price.iloc[100:194,0] # 15000-25000 \n",
    "group_2 = make_mean_price.iloc[194:237,0] # 25000-30000 \n",
    "group_3 = make_mean_price.iloc[237:279,0] # 30000-35000\n",
    "group_4 = make_mean_price.iloc[279:329,0] # 35000-50000\n",
    "group_5 = make_mean_price.iloc[319:352,0] # 50000-10000\n",
    "group_6 = make_mean_price.iloc[352:362,0] # rest\n",
    "\n",
    "# list of names in each group\n",
    "names_0 = get_names(group_0)\n",
    "names_1 = get_names(group_1)\n",
    "names_2 = get_names(group_2)\n",
    "names_3 = get_names(group_3)\n",
    "names_4 = get_names(group_4)\n",
    "names_5 = get_names(group_5)\n",
    "names_6 = get_names(group_6)\n",
    "\n",
    "# replace each object with a number of their group\n",
    "data_2['model_name'] = o_data['model_name'].apply(lambda x: 0 if x in names_0 else\n",
    "                                                          1 if x in names_1 else\n",
    "                                                          2 if x in names_2 else\n",
    "                                                          3 if x in names_3 else\n",
    "                                                          4 if x in names_4 else\n",
    "                                                          5 if x in names_5 else\n",
    "                                                          6 if x in names_6 else\n",
    "                                                         'wrong')"
   ]
  },
  {
   "cell_type": "code",
   "execution_count": 41,
   "id": "6bd7b3f7",
   "metadata": {},
   "outputs": [
    {
     "data": {
      "text/plain": [
       "0.5706133697377521"
      ]
     },
     "execution_count": 41,
     "metadata": {},
     "output_type": "execute_result"
    }
   ],
   "source": [
    "# drop first letter of each row\n",
    "data_2['trimId'] = data['trimId'].str.slice(1)\n",
    "# convert to integer\n",
    "data_2['trimId']=data_2.trimId.astype(int)\n",
    "# look at correlation\n",
    "data_2['trimId'].corr(data_2['price'])"
   ]
  },
  {
   "cell_type": "code",
   "execution_count": 42,
   "id": "75c50d13",
   "metadata": {},
   "outputs": [],
   "source": [
    "# drop categorical version of columns we have numerical copy of\n",
    "data_2 = data_2.drop(columns=[\"transmission\",\"wheel_system_display\",\"fuel_type\",\"wheel_system\"], axis = 1)"
   ]
  },
  {
   "cell_type": "code",
   "execution_count": 43,
   "id": "1189a004",
   "metadata": {},
   "outputs": [],
   "source": [
    "dat_types = pd.DataFrame(data_2.dtypes)"
   ]
  },
  {
   "cell_type": "code",
   "execution_count": 44,
   "id": "86377646",
   "metadata": {},
   "outputs": [
    {
     "data": {
      "text/plain": [
       "uint8      19\n",
       "float64    18\n",
       "int64      15\n",
       "int32       6\n",
       "dtype: int64"
      ]
     },
     "execution_count": 44,
     "metadata": {},
     "output_type": "execute_result"
    }
   ],
   "source": [
    "dat_types.value_counts()"
   ]
  },
  {
   "cell_type": "code",
   "execution_count": 45,
   "id": "97cdb178",
   "metadata": {},
   "outputs": [
    {
     "data": {
      "text/plain": [
       "(4532, 58)"
      ]
     },
     "execution_count": 45,
     "metadata": {},
     "output_type": "execute_result"
    }
   ],
   "source": [
    "data_2.shape"
   ]
  },
  {
   "cell_type": "code",
   "execution_count": 46,
   "id": "77af86cc",
   "metadata": {},
   "outputs": [],
   "source": [
    "data = data_2"
   ]
  },
  {
   "cell_type": "code",
   "execution_count": 47,
   "id": "de6232ca",
   "metadata": {},
   "outputs": [
    {
     "data": {
      "text/html": [
       "<div>\n",
       "<style scoped>\n",
       "    .dataframe tbody tr th:only-of-type {\n",
       "        vertical-align: middle;\n",
       "    }\n",
       "\n",
       "    .dataframe tbody tr th {\n",
       "        vertical-align: top;\n",
       "    }\n",
       "\n",
       "    .dataframe thead th {\n",
       "        text-align: right;\n",
       "    }\n",
       "</style>\n",
       "<table border=\"1\" class=\"dataframe\">\n",
       "  <thead>\n",
       "    <tr style=\"text-align: right;\">\n",
       "      <th></th>\n",
       "      <th>back_legroom</th>\n",
       "      <th>city_fuel_economy</th>\n",
       "      <th>daysonmarket</th>\n",
       "      <th>dealer_zip</th>\n",
       "      <th>engine_displacement</th>\n",
       "      <th>fleet</th>\n",
       "      <th>frame_damaged</th>\n",
       "      <th>franchise_make</th>\n",
       "      <th>front_legroom</th>\n",
       "      <th>fuel_tank_volume</th>\n",
       "      <th>...</th>\n",
       "      <th>engine_cylinders_V6</th>\n",
       "      <th>engine_cylinders_V6_Flex_Fuel_Vehicle</th>\n",
       "      <th>engine_cylinders_V8</th>\n",
       "      <th>engine_cylinders_other</th>\n",
       "      <th>transmission_display_6_Speed_Automatic</th>\n",
       "      <th>transmission_display_8_Speed_Automatic</th>\n",
       "      <th>transmission_display_9_Speed_Automatic</th>\n",
       "      <th>transmission_display_Automatic</th>\n",
       "      <th>transmission_display_Continuously_Variable_Transmission</th>\n",
       "      <th>transmission_display_other</th>\n",
       "    </tr>\n",
       "  </thead>\n",
       "  <tbody>\n",
       "    <tr>\n",
       "      <th>0</th>\n",
       "      <td>36.8</td>\n",
       "      <td>21.0</td>\n",
       "      <td>40</td>\n",
       "      <td>78016</td>\n",
       "      <td>2000.0</td>\n",
       "      <td>0</td>\n",
       "      <td>0</td>\n",
       "      <td>1</td>\n",
       "      <td>42.8</td>\n",
       "      <td>15.5</td>\n",
       "      <td>...</td>\n",
       "      <td>0</td>\n",
       "      <td>0</td>\n",
       "      <td>0</td>\n",
       "      <td>0</td>\n",
       "      <td>0</td>\n",
       "      <td>0</td>\n",
       "      <td>0</td>\n",
       "      <td>1</td>\n",
       "      <td>0</td>\n",
       "      <td>0</td>\n",
       "    </tr>\n",
       "    <tr>\n",
       "      <th>2</th>\n",
       "      <td>36.8</td>\n",
       "      <td>23.0</td>\n",
       "      <td>30</td>\n",
       "      <td>37129</td>\n",
       "      <td>2500.0</td>\n",
       "      <td>0</td>\n",
       "      <td>0</td>\n",
       "      <td>1</td>\n",
       "      <td>43.1</td>\n",
       "      <td>15.4</td>\n",
       "      <td>...</td>\n",
       "      <td>0</td>\n",
       "      <td>0</td>\n",
       "      <td>0</td>\n",
       "      <td>0</td>\n",
       "      <td>0</td>\n",
       "      <td>0</td>\n",
       "      <td>0</td>\n",
       "      <td>1</td>\n",
       "      <td>0</td>\n",
       "      <td>0</td>\n",
       "    </tr>\n",
       "    <tr>\n",
       "      <th>5</th>\n",
       "      <td>38.2</td>\n",
       "      <td>21.0</td>\n",
       "      <td>161</td>\n",
       "      <td>73069</td>\n",
       "      <td>2000.0</td>\n",
       "      <td>0</td>\n",
       "      <td>0</td>\n",
       "      <td>0</td>\n",
       "      <td>41.5</td>\n",
       "      <td>16.4</td>\n",
       "      <td>...</td>\n",
       "      <td>0</td>\n",
       "      <td>0</td>\n",
       "      <td>0</td>\n",
       "      <td>0</td>\n",
       "      <td>1</td>\n",
       "      <td>0</td>\n",
       "      <td>0</td>\n",
       "      <td>0</td>\n",
       "      <td>0</td>\n",
       "      <td>0</td>\n",
       "    </tr>\n",
       "    <tr>\n",
       "      <th>6</th>\n",
       "      <td>40.3</td>\n",
       "      <td>15.0</td>\n",
       "      <td>14</td>\n",
       "      <td>48836</td>\n",
       "      <td>5700.0</td>\n",
       "      <td>0</td>\n",
       "      <td>0</td>\n",
       "      <td>4</td>\n",
       "      <td>41.0</td>\n",
       "      <td>26.0</td>\n",
       "      <td>...</td>\n",
       "      <td>0</td>\n",
       "      <td>0</td>\n",
       "      <td>1</td>\n",
       "      <td>0</td>\n",
       "      <td>0</td>\n",
       "      <td>1</td>\n",
       "      <td>0</td>\n",
       "      <td>0</td>\n",
       "      <td>0</td>\n",
       "      <td>0</td>\n",
       "    </tr>\n",
       "    <tr>\n",
       "      <th>7</th>\n",
       "      <td>40.9</td>\n",
       "      <td>21.0</td>\n",
       "      <td>49</td>\n",
       "      <td>12701</td>\n",
       "      <td>2400.0</td>\n",
       "      <td>1</td>\n",
       "      <td>0</td>\n",
       "      <td>0</td>\n",
       "      <td>44.1</td>\n",
       "      <td>18.8</td>\n",
       "      <td>...</td>\n",
       "      <td>0</td>\n",
       "      <td>0</td>\n",
       "      <td>0</td>\n",
       "      <td>0</td>\n",
       "      <td>0</td>\n",
       "      <td>1</td>\n",
       "      <td>0</td>\n",
       "      <td>0</td>\n",
       "      <td>0</td>\n",
       "      <td>0</td>\n",
       "    </tr>\n",
       "    <tr>\n",
       "      <th>...</th>\n",
       "      <td>...</td>\n",
       "      <td>...</td>\n",
       "      <td>...</td>\n",
       "      <td>...</td>\n",
       "      <td>...</td>\n",
       "      <td>...</td>\n",
       "      <td>...</td>\n",
       "      <td>...</td>\n",
       "      <td>...</td>\n",
       "      <td>...</td>\n",
       "      <td>...</td>\n",
       "      <td>...</td>\n",
       "      <td>...</td>\n",
       "      <td>...</td>\n",
       "      <td>...</td>\n",
       "      <td>...</td>\n",
       "      <td>...</td>\n",
       "      <td>...</td>\n",
       "      <td>...</td>\n",
       "      <td>...</td>\n",
       "      <td>...</td>\n",
       "    </tr>\n",
       "    <tr>\n",
       "      <th>5994</th>\n",
       "      <td>33.4</td>\n",
       "      <td>23.0</td>\n",
       "      <td>1</td>\n",
       "      <td>95407</td>\n",
       "      <td>2000.0</td>\n",
       "      <td>0</td>\n",
       "      <td>0</td>\n",
       "      <td>1</td>\n",
       "      <td>43.1</td>\n",
       "      <td>12.4</td>\n",
       "      <td>...</td>\n",
       "      <td>0</td>\n",
       "      <td>0</td>\n",
       "      <td>0</td>\n",
       "      <td>0</td>\n",
       "      <td>0</td>\n",
       "      <td>0</td>\n",
       "      <td>0</td>\n",
       "      <td>0</td>\n",
       "      <td>0</td>\n",
       "      <td>1</td>\n",
       "    </tr>\n",
       "    <tr>\n",
       "      <th>5995</th>\n",
       "      <td>37.0</td>\n",
       "      <td>20.0</td>\n",
       "      <td>88</td>\n",
       "      <td>15146</td>\n",
       "      <td>2000.0</td>\n",
       "      <td>0</td>\n",
       "      <td>0</td>\n",
       "      <td>3</td>\n",
       "      <td>44.3</td>\n",
       "      <td>18.0</td>\n",
       "      <td>...</td>\n",
       "      <td>0</td>\n",
       "      <td>0</td>\n",
       "      <td>0</td>\n",
       "      <td>0</td>\n",
       "      <td>1</td>\n",
       "      <td>0</td>\n",
       "      <td>0</td>\n",
       "      <td>0</td>\n",
       "      <td>0</td>\n",
       "      <td>0</td>\n",
       "    </tr>\n",
       "    <tr>\n",
       "      <th>5996</th>\n",
       "      <td>39.8</td>\n",
       "      <td>22.0</td>\n",
       "      <td>38</td>\n",
       "      <td>77065</td>\n",
       "      <td>2500.0</td>\n",
       "      <td>0</td>\n",
       "      <td>0</td>\n",
       "      <td>0</td>\n",
       "      <td>45.8</td>\n",
       "      <td>18.5</td>\n",
       "      <td>...</td>\n",
       "      <td>0</td>\n",
       "      <td>0</td>\n",
       "      <td>0</td>\n",
       "      <td>0</td>\n",
       "      <td>0</td>\n",
       "      <td>0</td>\n",
       "      <td>0</td>\n",
       "      <td>1</td>\n",
       "      <td>0</td>\n",
       "      <td>0</td>\n",
       "    </tr>\n",
       "    <tr>\n",
       "      <th>5997</th>\n",
       "      <td>37.3</td>\n",
       "      <td>22.0</td>\n",
       "      <td>92</td>\n",
       "      <td>84341</td>\n",
       "      <td>2000.0</td>\n",
       "      <td>0</td>\n",
       "      <td>0</td>\n",
       "      <td>1</td>\n",
       "      <td>43.1</td>\n",
       "      <td>15.7</td>\n",
       "      <td>...</td>\n",
       "      <td>0</td>\n",
       "      <td>0</td>\n",
       "      <td>0</td>\n",
       "      <td>0</td>\n",
       "      <td>0</td>\n",
       "      <td>0</td>\n",
       "      <td>0</td>\n",
       "      <td>1</td>\n",
       "      <td>0</td>\n",
       "      <td>0</td>\n",
       "    </tr>\n",
       "    <tr>\n",
       "      <th>5999</th>\n",
       "      <td>35.7</td>\n",
       "      <td>30.0</td>\n",
       "      <td>64</td>\n",
       "      <td>95661</td>\n",
       "      <td>2000.0</td>\n",
       "      <td>1</td>\n",
       "      <td>0</td>\n",
       "      <td>0</td>\n",
       "      <td>42.2</td>\n",
       "      <td>14.0</td>\n",
       "      <td>...</td>\n",
       "      <td>0</td>\n",
       "      <td>0</td>\n",
       "      <td>0</td>\n",
       "      <td>0</td>\n",
       "      <td>0</td>\n",
       "      <td>0</td>\n",
       "      <td>0</td>\n",
       "      <td>0</td>\n",
       "      <td>1</td>\n",
       "      <td>0</td>\n",
       "    </tr>\n",
       "  </tbody>\n",
       "</table>\n",
       "<p>4532 rows × 58 columns</p>\n",
       "</div>"
      ],
      "text/plain": [
       "      back_legroom  city_fuel_economy  daysonmarket  dealer_zip  \\\n",
       "0             36.8               21.0            40       78016   \n",
       "2             36.8               23.0            30       37129   \n",
       "5             38.2               21.0           161       73069   \n",
       "6             40.3               15.0            14       48836   \n",
       "7             40.9               21.0            49       12701   \n",
       "...            ...                ...           ...         ...   \n",
       "5994          33.4               23.0             1       95407   \n",
       "5995          37.0               20.0            88       15146   \n",
       "5996          39.8               22.0            38       77065   \n",
       "5997          37.3               22.0            92       84341   \n",
       "5999          35.7               30.0            64       95661   \n",
       "\n",
       "      engine_displacement  fleet  frame_damaged  franchise_make  \\\n",
       "0                  2000.0      0              0               1   \n",
       "2                  2500.0      0              0               1   \n",
       "5                  2000.0      0              0               0   \n",
       "6                  5700.0      0              0               4   \n",
       "7                  2400.0      1              0               0   \n",
       "...                   ...    ...            ...             ...   \n",
       "5994               2000.0      0              0               1   \n",
       "5995               2000.0      0              0               3   \n",
       "5996               2500.0      0              0               0   \n",
       "5997               2000.0      0              0               1   \n",
       "5999               2000.0      1              0               0   \n",
       "\n",
       "      front_legroom  fuel_tank_volume  ...  engine_cylinders_V6  \\\n",
       "0              42.8              15.5  ...                    0   \n",
       "2              43.1              15.4  ...                    0   \n",
       "5              41.5              16.4  ...                    0   \n",
       "6              41.0              26.0  ...                    0   \n",
       "7              44.1              18.8  ...                    0   \n",
       "...             ...               ...  ...                  ...   \n",
       "5994           43.1              12.4  ...                    0   \n",
       "5995           44.3              18.0  ...                    0   \n",
       "5996           45.8              18.5  ...                    0   \n",
       "5997           43.1              15.7  ...                    0   \n",
       "5999           42.2              14.0  ...                    0   \n",
       "\n",
       "      engine_cylinders_V6_Flex_Fuel_Vehicle  engine_cylinders_V8  \\\n",
       "0                                         0                    0   \n",
       "2                                         0                    0   \n",
       "5                                         0                    0   \n",
       "6                                         0                    1   \n",
       "7                                         0                    0   \n",
       "...                                     ...                  ...   \n",
       "5994                                      0                    0   \n",
       "5995                                      0                    0   \n",
       "5996                                      0                    0   \n",
       "5997                                      0                    0   \n",
       "5999                                      0                    0   \n",
       "\n",
       "      engine_cylinders_other  transmission_display_6_Speed_Automatic  \\\n",
       "0                          0                                       0   \n",
       "2                          0                                       0   \n",
       "5                          0                                       1   \n",
       "6                          0                                       0   \n",
       "7                          0                                       0   \n",
       "...                      ...                                     ...   \n",
       "5994                       0                                       0   \n",
       "5995                       0                                       1   \n",
       "5996                       0                                       0   \n",
       "5997                       0                                       0   \n",
       "5999                       0                                       0   \n",
       "\n",
       "      transmission_display_8_Speed_Automatic  \\\n",
       "0                                          0   \n",
       "2                                          0   \n",
       "5                                          0   \n",
       "6                                          1   \n",
       "7                                          1   \n",
       "...                                      ...   \n",
       "5994                                       0   \n",
       "5995                                       0   \n",
       "5996                                       0   \n",
       "5997                                       0   \n",
       "5999                                       0   \n",
       "\n",
       "      transmission_display_9_Speed_Automatic  transmission_display_Automatic  \\\n",
       "0                                          0                               1   \n",
       "2                                          0                               1   \n",
       "5                                          0                               0   \n",
       "6                                          0                               0   \n",
       "7                                          0                               0   \n",
       "...                                      ...                             ...   \n",
       "5994                                       0                               0   \n",
       "5995                                       0                               0   \n",
       "5996                                       0                               1   \n",
       "5997                                       0                               1   \n",
       "5999                                       0                               0   \n",
       "\n",
       "      transmission_display_Continuously_Variable_Transmission  \\\n",
       "0                                                     0         \n",
       "2                                                     0         \n",
       "5                                                     0         \n",
       "6                                                     0         \n",
       "7                                                     0         \n",
       "...                                                 ...         \n",
       "5994                                                  0         \n",
       "5995                                                  0         \n",
       "5996                                                  0         \n",
       "5997                                                  0         \n",
       "5999                                                  1         \n",
       "\n",
       "      transmission_display_other  \n",
       "0                              0  \n",
       "2                              0  \n",
       "5                              0  \n",
       "6                              0  \n",
       "7                              0  \n",
       "...                          ...  \n",
       "5994                           1  \n",
       "5995                           0  \n",
       "5996                           0  \n",
       "5997                           0  \n",
       "5999                           0  \n",
       "\n",
       "[4532 rows x 58 columns]"
      ]
     },
     "execution_count": 47,
     "metadata": {},
     "output_type": "execute_result"
    }
   ],
   "source": [
    "data"
   ]
  },
  {
   "cell_type": "markdown",
   "id": "37edd86c",
   "metadata": {},
   "source": [
    "### Feature Selection "
   ]
  },
  {
   "cell_type": "code",
   "execution_count": 48,
   "id": "911b64c2",
   "metadata": {},
   "outputs": [
    {
     "data": {
      "text/html": [
       "<div>\n",
       "<style scoped>\n",
       "    .dataframe tbody tr th:only-of-type {\n",
       "        vertical-align: middle;\n",
       "    }\n",
       "\n",
       "    .dataframe tbody tr th {\n",
       "        vertical-align: top;\n",
       "    }\n",
       "\n",
       "    .dataframe thead th {\n",
       "        text-align: right;\n",
       "    }\n",
       "</style>\n",
       "<table border=\"1\" class=\"dataframe\">\n",
       "  <thead>\n",
       "    <tr style=\"text-align: right;\">\n",
       "      <th></th>\n",
       "      <th>index</th>\n",
       "      <th>0</th>\n",
       "    </tr>\n",
       "  </thead>\n",
       "  <tbody>\n",
       "    <tr>\n",
       "      <th>21</th>\n",
       "      <td>model_name</td>\n",
       "      <td>0.581373</td>\n",
       "    </tr>\n",
       "    <tr>\n",
       "      <th>34</th>\n",
       "      <td>year</td>\n",
       "      <td>0.574644</td>\n",
       "    </tr>\n",
       "    <tr>\n",
       "      <th>31</th>\n",
       "      <td>trimId</td>\n",
       "      <td>0.570613</td>\n",
       "    </tr>\n",
       "    <tr>\n",
       "      <th>23</th>\n",
       "      <td>power</td>\n",
       "      <td>0.406592</td>\n",
       "    </tr>\n",
       "    <tr>\n",
       "      <th>30</th>\n",
       "      <td>torque</td>\n",
       "      <td>0.386623</td>\n",
       "    </tr>\n",
       "    <tr>\n",
       "      <th>33</th>\n",
       "      <td>width</td>\n",
       "      <td>0.303995</td>\n",
       "    </tr>\n",
       "    <tr>\n",
       "      <th>53</th>\n",
       "      <td>transmission_display_8_Speed_Automatic</td>\n",
       "      <td>0.268433</td>\n",
       "    </tr>\n",
       "    <tr>\n",
       "      <th>32</th>\n",
       "      <td>wheelbase</td>\n",
       "      <td>0.256636</td>\n",
       "    </tr>\n",
       "    <tr>\n",
       "      <th>11</th>\n",
       "      <td>height</td>\n",
       "      <td>0.245438</td>\n",
       "    </tr>\n",
       "    <tr>\n",
       "      <th>48</th>\n",
       "      <td>engine_cylinders_V6</td>\n",
       "      <td>0.245117</td>\n",
       "    </tr>\n",
       "    <tr>\n",
       "      <th>16</th>\n",
       "      <td>length</td>\n",
       "      <td>0.238048</td>\n",
       "    </tr>\n",
       "    <tr>\n",
       "      <th>9</th>\n",
       "      <td>fuel_tank_volume</td>\n",
       "      <td>0.225640</td>\n",
       "    </tr>\n",
       "    <tr>\n",
       "      <th>4</th>\n",
       "      <td>engine_displacement</td>\n",
       "      <td>0.220415</td>\n",
       "    </tr>\n",
       "    <tr>\n",
       "      <th>26</th>\n",
       "      <td>savings_amount</td>\n",
       "      <td>0.203765</td>\n",
       "    </tr>\n",
       "    <tr>\n",
       "      <th>7</th>\n",
       "      <td>franchise_make</td>\n",
       "      <td>0.202163</td>\n",
       "    </tr>\n",
       "    <tr>\n",
       "      <th>1</th>\n",
       "      <td>city_fuel_economy</td>\n",
       "      <td>-0.203095</td>\n",
       "    </tr>\n",
       "    <tr>\n",
       "      <th>37</th>\n",
       "      <td>wheel_system_cat</td>\n",
       "      <td>-0.203731</td>\n",
       "    </tr>\n",
       "    <tr>\n",
       "      <th>38</th>\n",
       "      <td>wheel_system_display_cat</td>\n",
       "      <td>-0.208184</td>\n",
       "    </tr>\n",
       "    <tr>\n",
       "      <th>12</th>\n",
       "      <td>highway_fuel_economy</td>\n",
       "      <td>-0.230709</td>\n",
       "    </tr>\n",
       "    <tr>\n",
       "      <th>44</th>\n",
       "      <td>body_type_Sedan</td>\n",
       "      <td>-0.231848</td>\n",
       "    </tr>\n",
       "    <tr>\n",
       "      <th>47</th>\n",
       "      <td>engine_cylinders_I4</td>\n",
       "      <td>-0.232696</td>\n",
       "    </tr>\n",
       "    <tr>\n",
       "      <th>22</th>\n",
       "      <td>owner_count</td>\n",
       "      <td>-0.383574</td>\n",
       "    </tr>\n",
       "    <tr>\n",
       "      <th>20</th>\n",
       "      <td>mileage</td>\n",
       "      <td>-0.566824</td>\n",
       "    </tr>\n",
       "  </tbody>\n",
       "</table>\n",
       "</div>"
      ],
      "text/plain": [
       "                                     index         0\n",
       "21                              model_name  0.581373\n",
       "34                                    year  0.574644\n",
       "31                                  trimId  0.570613\n",
       "23                                   power  0.406592\n",
       "30                                  torque  0.386623\n",
       "33                                   width  0.303995\n",
       "53  transmission_display_8_Speed_Automatic  0.268433\n",
       "32                               wheelbase  0.256636\n",
       "11                                  height  0.245438\n",
       "48                     engine_cylinders_V6  0.245117\n",
       "16                                  length  0.238048\n",
       "9                         fuel_tank_volume  0.225640\n",
       "4                      engine_displacement  0.220415\n",
       "26                          savings_amount  0.203765\n",
       "7                           franchise_make  0.202163\n",
       "1                        city_fuel_economy -0.203095\n",
       "37                        wheel_system_cat -0.203731\n",
       "38                wheel_system_display_cat -0.208184\n",
       "12                    highway_fuel_economy -0.230709\n",
       "44                         body_type_Sedan -0.231848\n",
       "47                     engine_cylinders_I4 -0.232696\n",
       "22                             owner_count -0.383574\n",
       "20                                 mileage -0.566824"
      ]
     },
     "execution_count": 48,
     "metadata": {},
     "output_type": "execute_result"
    }
   ],
   "source": [
    "final_corrs = pd.DataFrame(data.corrwith(data.price)).reset_index().sort_values(by = 0, ascending = False)\n",
    "\n",
    "final_corr_cols = list(final_corrs.loc[(final_corrs[0] >= 0.2) | (final_corrs[0] <= -0.2)][1:]['index'])\n",
    "final_corrs.loc[(final_corrs[0] >= 0.2) | (final_corrs[0] <= -0.2)][1:]"
   ]
  },
  {
   "cell_type": "code",
   "execution_count": 49,
   "id": "7fab9101",
   "metadata": {},
   "outputs": [
    {
     "data": {
      "text/plain": [
       "(4532, 23)"
      ]
     },
     "execution_count": 49,
     "metadata": {},
     "output_type": "execute_result"
    }
   ],
   "source": [
    "X = data.copy()\n",
    "\n",
    "for col in X:\n",
    "    if col not in final_corr_cols:\n",
    "        X.drop(col, axis = 1, inplace = True)\n",
    "\n",
    "X.shape"
   ]
  },
  {
   "cell_type": "markdown",
   "id": "cc969a9c",
   "metadata": {},
   "source": [
    "We have 23 predictors which have a reasonable correlation with price which we will be the only predictors we use in our model building. \n",
    "\n",
    "When we develop our models, we will print the feature importances and note which features are deemed significant by each model. "
   ]
  },
  {
   "cell_type": "code",
   "execution_count": 50,
   "id": "0080a66a",
   "metadata": {},
   "outputs": [
    {
     "data": {
      "text/plain": [
       "city_fuel_economy                         0\n",
       "engine_displacement                       0\n",
       "franchise_make                            0\n",
       "fuel_tank_volume                          1\n",
       "height                                    1\n",
       "highway_fuel_economy                      0\n",
       "length                                    1\n",
       "mileage                                   0\n",
       "model_name                                0\n",
       "owner_count                               0\n",
       "power                                     0\n",
       "savings_amount                            0\n",
       "torque                                    0\n",
       "trimId                                    0\n",
       "wheelbase                                 1\n",
       "width                                     1\n",
       "year                                      0\n",
       "wheel_system_cat                          0\n",
       "wheel_system_display_cat                  0\n",
       "body_type_Sedan                           0\n",
       "engine_cylinders_I4                       0\n",
       "engine_cylinders_V6                       0\n",
       "transmission_display_8_Speed_Automatic    0\n",
       "dtype: int64"
      ]
     },
     "execution_count": 50,
     "metadata": {},
     "output_type": "execute_result"
    }
   ],
   "source": [
    "# checking for any new NAs \n",
    "X.isna().sum()"
   ]
  },
  {
   "cell_type": "code",
   "execution_count": 51,
   "id": "8cc7445c",
   "metadata": {},
   "outputs": [
    {
     "data": {
      "text/plain": [
       "0"
      ]
     },
     "execution_count": 51,
     "metadata": {},
     "output_type": "execute_result"
    }
   ],
   "source": [
    "y = data.price \n",
    "y.isna().sum()"
   ]
  },
  {
   "cell_type": "markdown",
   "id": "03de54f5",
   "metadata": {},
   "source": [
    "The original dataset had '--' for this one observation. When we performed the data cleaning and prep, these observations were not considered missing but became missing after our feature engineering. We can drop this observation since it is only one row with data missing from the original source. "
   ]
  },
  {
   "cell_type": "code",
   "execution_count": 52,
   "id": "5c4e335b",
   "metadata": {},
   "outputs": [],
   "source": [
    "X.isna().sum()\n",
    "X.iloc[29]\n",
    "X.drop(29, inplace = True)\n",
    "y.drop(29, inplace = True)"
   ]
  },
  {
   "cell_type": "code",
   "execution_count": 53,
   "id": "5099962a",
   "metadata": {},
   "outputs": [],
   "source": [
    "X.to_csv('X.csv')\n",
    "y.to_csv('y.csv')"
   ]
  },
  {
   "cell_type": "code",
   "execution_count": 54,
   "id": "63957c33",
   "metadata": {},
   "outputs": [],
   "source": [
    "clean_X = X.copy()\n",
    "clean_y = y.copy()"
   ]
  },
  {
   "cell_type": "code",
   "execution_count": 55,
   "id": "59c04a76",
   "metadata": {},
   "outputs": [],
   "source": [
    "X_train, X_test, y_train, y_test = train_test_split(X, y, test_size = 0.3, random_state = 4)"
   ]
  },
  {
   "cell_type": "markdown",
   "id": "3c44c801",
   "metadata": {},
   "source": [
    "### Features Selection using Tree Based Models"
   ]
  },
  {
   "cell_type": "markdown",
   "id": "f33e9e84",
   "metadata": {},
   "source": [
    "Using the tree based methods such as RandomForest and DecisionTrees will allow us to double check if our feature selection has been significant or if it produces better results for base models.\n",
    "\n",
    "The original shape of our data after removing the outliers is 4532, 58.\n",
    "\n",
    "After our data cleaning and dropping of the units, we created some NaN values which can be dropped. We can confidently drop these observations because they were initially missing but encoded as '--' which is why we did not initially discover that they were missing. These are 31 observations which we can drop which brings our data shape to 4301, 58"
   ]
  },
  {
   "cell_type": "code",
   "execution_count": 56,
   "id": "99fc4b43",
   "metadata": {},
   "outputs": [
    {
     "data": {
      "text/plain": [
       "(4532, 58)"
      ]
     },
     "execution_count": 56,
     "metadata": {},
     "output_type": "execute_result"
    }
   ],
   "source": [
    "data.shape"
   ]
  },
  {
   "cell_type": "code",
   "execution_count": 57,
   "id": "b45890f1",
   "metadata": {},
   "outputs": [
    {
     "data": {
      "text/plain": [
       "(4501, 58)"
      ]
     },
     "execution_count": 57,
     "metadata": {},
     "output_type": "execute_result"
    }
   ],
   "source": [
    "data_copy = data.copy()\n",
    "data_copy.dropna(inplace = True)\n",
    "data_copy.shape"
   ]
  },
  {
   "cell_type": "code",
   "execution_count": 58,
   "id": "8d450c2d",
   "metadata": {},
   "outputs": [],
   "source": [
    "X_tree = data_copy.drop(columns = ['price'])\n",
    "y_tree = data_copy.price"
   ]
  },
  {
   "cell_type": "markdown",
   "id": "e2e11aa2",
   "metadata": {},
   "source": [
    "#### Base Random Forest Feature Selection"
   ]
  },
  {
   "cell_type": "code",
   "execution_count": 59,
   "id": "36c33c0e",
   "metadata": {},
   "outputs": [],
   "source": [
    "rf_features = RandomForestRegressor(random_state = 4).fit(X_tree, y_tree)\n",
    "rf_feats = pd.DataFrame(zip(rf_features.feature_names_in_, rf_features.feature_importances_))"
   ]
  },
  {
   "cell_type": "code",
   "execution_count": 60,
   "id": "4a1534ba",
   "metadata": {},
   "outputs": [
    {
     "data": {
      "text/html": [
       "<div>\n",
       "<style scoped>\n",
       "    .dataframe tbody tr th:only-of-type {\n",
       "        vertical-align: middle;\n",
       "    }\n",
       "\n",
       "    .dataframe tbody tr th {\n",
       "        vertical-align: top;\n",
       "    }\n",
       "\n",
       "    .dataframe thead th {\n",
       "        text-align: right;\n",
       "    }\n",
       "</style>\n",
       "<table border=\"1\" class=\"dataframe\">\n",
       "  <thead>\n",
       "    <tr style=\"text-align: right;\">\n",
       "      <th></th>\n",
       "      <th>0</th>\n",
       "      <th>1</th>\n",
       "    </tr>\n",
       "  </thead>\n",
       "  <tbody>\n",
       "    <tr>\n",
       "      <th>30</th>\n",
       "      <td>trimId</td>\n",
       "      <td>3.681064e-01</td>\n",
       "    </tr>\n",
       "    <tr>\n",
       "      <th>21</th>\n",
       "      <td>model_name</td>\n",
       "      <td>2.059636e-01</td>\n",
       "    </tr>\n",
       "    <tr>\n",
       "      <th>23</th>\n",
       "      <td>power</td>\n",
       "      <td>1.224561e-01</td>\n",
       "    </tr>\n",
       "    <tr>\n",
       "      <th>20</th>\n",
       "      <td>mileage</td>\n",
       "      <td>8.733049e-02</td>\n",
       "    </tr>\n",
       "    <tr>\n",
       "      <th>29</th>\n",
       "      <td>torque</td>\n",
       "      <td>2.501834e-02</td>\n",
       "    </tr>\n",
       "    <tr>\n",
       "      <th>0</th>\n",
       "      <td>back_legroom</td>\n",
       "      <td>1.947877e-02</td>\n",
       "    </tr>\n",
       "    <tr>\n",
       "      <th>25</th>\n",
       "      <td>savings_amount</td>\n",
       "      <td>1.366988e-02</td>\n",
       "    </tr>\n",
       "    <tr>\n",
       "      <th>11</th>\n",
       "      <td>height</td>\n",
       "      <td>1.346977e-02</td>\n",
       "    </tr>\n",
       "    <tr>\n",
       "      <th>47</th>\n",
       "      <td>engine_cylinders_V6</td>\n",
       "      <td>9.795723e-03</td>\n",
       "    </tr>\n",
       "    <tr>\n",
       "      <th>33</th>\n",
       "      <td>year</td>\n",
       "      <td>9.452366e-03</td>\n",
       "    </tr>\n",
       "    <tr>\n",
       "      <th>15</th>\n",
       "      <td>latitude</td>\n",
       "      <td>9.071714e-03</td>\n",
       "    </tr>\n",
       "    <tr>\n",
       "      <th>26</th>\n",
       "      <td>seller_rating</td>\n",
       "      <td>8.884898e-03</td>\n",
       "    </tr>\n",
       "    <tr>\n",
       "      <th>27</th>\n",
       "      <td>sp_id</td>\n",
       "      <td>8.311864e-03</td>\n",
       "    </tr>\n",
       "    <tr>\n",
       "      <th>16</th>\n",
       "      <td>length</td>\n",
       "      <td>8.101590e-03</td>\n",
       "    </tr>\n",
       "    <tr>\n",
       "      <th>12</th>\n",
       "      <td>highway_fuel_economy</td>\n",
       "      <td>8.033217e-03</td>\n",
       "    </tr>\n",
       "    <tr>\n",
       "      <th>32</th>\n",
       "      <td>width</td>\n",
       "      <td>7.344786e-03</td>\n",
       "    </tr>\n",
       "    <tr>\n",
       "      <th>9</th>\n",
       "      <td>fuel_tank_volume</td>\n",
       "      <td>7.089915e-03</td>\n",
       "    </tr>\n",
       "    <tr>\n",
       "      <th>2</th>\n",
       "      <td>daysonmarket</td>\n",
       "      <td>6.167395e-03</td>\n",
       "    </tr>\n",
       "    <tr>\n",
       "      <th>36</th>\n",
       "      <td>wheel_system_cat</td>\n",
       "      <td>6.084273e-03</td>\n",
       "    </tr>\n",
       "    <tr>\n",
       "      <th>18</th>\n",
       "      <td>longitude</td>\n",
       "      <td>5.956792e-03</td>\n",
       "    </tr>\n",
       "    <tr>\n",
       "      <th>37</th>\n",
       "      <td>wheel_system_display_cat</td>\n",
       "      <td>5.825781e-03</td>\n",
       "    </tr>\n",
       "    <tr>\n",
       "      <th>31</th>\n",
       "      <td>wheelbase</td>\n",
       "      <td>5.460589e-03</td>\n",
       "    </tr>\n",
       "    <tr>\n",
       "      <th>3</th>\n",
       "      <td>dealer_zip</td>\n",
       "      <td>5.311008e-03</td>\n",
       "    </tr>\n",
       "    <tr>\n",
       "      <th>8</th>\n",
       "      <td>front_legroom</td>\n",
       "      <td>5.194709e-03</td>\n",
       "    </tr>\n",
       "    <tr>\n",
       "      <th>17</th>\n",
       "      <td>listed_date</td>\n",
       "      <td>4.584625e-03</td>\n",
       "    </tr>\n",
       "    <tr>\n",
       "      <th>4</th>\n",
       "      <td>engine_displacement</td>\n",
       "      <td>4.355540e-03</td>\n",
       "    </tr>\n",
       "    <tr>\n",
       "      <th>1</th>\n",
       "      <td>city_fuel_economy</td>\n",
       "      <td>3.154374e-03</td>\n",
       "    </tr>\n",
       "    <tr>\n",
       "      <th>7</th>\n",
       "      <td>franchise_make</td>\n",
       "      <td>2.225961e-03</td>\n",
       "    </tr>\n",
       "    <tr>\n",
       "      <th>42</th>\n",
       "      <td>body_type_SUV_Crossover</td>\n",
       "      <td>1.811286e-03</td>\n",
       "    </tr>\n",
       "    <tr>\n",
       "      <th>22</th>\n",
       "      <td>owner_count</td>\n",
       "      <td>1.508617e-03</td>\n",
       "    </tr>\n",
       "    <tr>\n",
       "      <th>19</th>\n",
       "      <td>maximum_seating</td>\n",
       "      <td>1.295084e-03</td>\n",
       "    </tr>\n",
       "    <tr>\n",
       "      <th>51</th>\n",
       "      <td>transmission_display_6_Speed_Automatic</td>\n",
       "      <td>9.956286e-04</td>\n",
       "    </tr>\n",
       "    <tr>\n",
       "      <th>10</th>\n",
       "      <td>has_accidents</td>\n",
       "      <td>9.003557e-04</td>\n",
       "    </tr>\n",
       "    <tr>\n",
       "      <th>54</th>\n",
       "      <td>transmission_display_Automatic</td>\n",
       "      <td>8.624836e-04</td>\n",
       "    </tr>\n",
       "    <tr>\n",
       "      <th>13</th>\n",
       "      <td>isCab</td>\n",
       "      <td>8.238435e-04</td>\n",
       "    </tr>\n",
       "    <tr>\n",
       "      <th>5</th>\n",
       "      <td>fleet</td>\n",
       "      <td>7.241308e-04</td>\n",
       "    </tr>\n",
       "    <tr>\n",
       "      <th>52</th>\n",
       "      <td>transmission_display_8_Speed_Automatic</td>\n",
       "      <td>6.188337e-04</td>\n",
       "    </tr>\n",
       "    <tr>\n",
       "      <th>43</th>\n",
       "      <td>body_type_Sedan</td>\n",
       "      <td>5.821297e-04</td>\n",
       "    </tr>\n",
       "    <tr>\n",
       "      <th>46</th>\n",
       "      <td>engine_cylinders_I4</td>\n",
       "      <td>5.186393e-04</td>\n",
       "    </tr>\n",
       "    <tr>\n",
       "      <th>34</th>\n",
       "      <td>fuel_type_cat</td>\n",
       "      <td>5.060303e-04</td>\n",
       "    </tr>\n",
       "    <tr>\n",
       "      <th>35</th>\n",
       "      <td>transmission_cat</td>\n",
       "      <td>5.033826e-04</td>\n",
       "    </tr>\n",
       "    <tr>\n",
       "      <th>55</th>\n",
       "      <td>transmission_display_Continuously_Variable_Tra...</td>\n",
       "      <td>4.730021e-04</td>\n",
       "    </tr>\n",
       "    <tr>\n",
       "      <th>56</th>\n",
       "      <td>transmission_display_other</td>\n",
       "      <td>3.798145e-04</td>\n",
       "    </tr>\n",
       "    <tr>\n",
       "      <th>45</th>\n",
       "      <td>body_type_Wagon</td>\n",
       "      <td>2.671794e-04</td>\n",
       "    </tr>\n",
       "    <tr>\n",
       "      <th>53</th>\n",
       "      <td>transmission_display_9_Speed_Automatic</td>\n",
       "      <td>2.053301e-04</td>\n",
       "    </tr>\n",
       "    <tr>\n",
       "      <th>48</th>\n",
       "      <td>engine_cylinders_V6_Flex_Fuel_Vehicle</td>\n",
       "      <td>1.959885e-04</td>\n",
       "    </tr>\n",
       "    <tr>\n",
       "      <th>39</th>\n",
       "      <td>body_type_Hatchback</td>\n",
       "      <td>1.790901e-04</td>\n",
       "    </tr>\n",
       "    <tr>\n",
       "      <th>14</th>\n",
       "      <td>is_new</td>\n",
       "      <td>1.749637e-04</td>\n",
       "    </tr>\n",
       "    <tr>\n",
       "      <th>41</th>\n",
       "      <td>body_type_Pickup_Truck</td>\n",
       "      <td>1.455960e-04</td>\n",
       "    </tr>\n",
       "    <tr>\n",
       "      <th>40</th>\n",
       "      <td>body_type_Minivan</td>\n",
       "      <td>1.367203e-04</td>\n",
       "    </tr>\n",
       "    <tr>\n",
       "      <th>50</th>\n",
       "      <td>engine_cylinders_other</td>\n",
       "      <td>1.187689e-04</td>\n",
       "    </tr>\n",
       "    <tr>\n",
       "      <th>49</th>\n",
       "      <td>engine_cylinders_V8</td>\n",
       "      <td>8.934867e-05</td>\n",
       "    </tr>\n",
       "    <tr>\n",
       "      <th>38</th>\n",
       "      <td>body_type_Coupe</td>\n",
       "      <td>6.330553e-05</td>\n",
       "    </tr>\n",
       "    <tr>\n",
       "      <th>28</th>\n",
       "      <td>theft_title</td>\n",
       "      <td>1.080973e-05</td>\n",
       "    </tr>\n",
       "    <tr>\n",
       "      <th>6</th>\n",
       "      <td>frame_damaged</td>\n",
       "      <td>6.621246e-06</td>\n",
       "    </tr>\n",
       "    <tr>\n",
       "      <th>44</th>\n",
       "      <td>body_type_Van</td>\n",
       "      <td>2.167886e-06</td>\n",
       "    </tr>\n",
       "    <tr>\n",
       "      <th>24</th>\n",
       "      <td>salvage</td>\n",
       "      <td>4.001456e-07</td>\n",
       "    </tr>\n",
       "  </tbody>\n",
       "</table>\n",
       "</div>"
      ],
      "text/plain": [
       "                                                    0             1\n",
       "30                                             trimId  3.681064e-01\n",
       "21                                         model_name  2.059636e-01\n",
       "23                                              power  1.224561e-01\n",
       "20                                            mileage  8.733049e-02\n",
       "29                                             torque  2.501834e-02\n",
       "0                                        back_legroom  1.947877e-02\n",
       "25                                     savings_amount  1.366988e-02\n",
       "11                                             height  1.346977e-02\n",
       "47                                engine_cylinders_V6  9.795723e-03\n",
       "33                                               year  9.452366e-03\n",
       "15                                           latitude  9.071714e-03\n",
       "26                                      seller_rating  8.884898e-03\n",
       "27                                              sp_id  8.311864e-03\n",
       "16                                             length  8.101590e-03\n",
       "12                               highway_fuel_economy  8.033217e-03\n",
       "32                                              width  7.344786e-03\n",
       "9                                    fuel_tank_volume  7.089915e-03\n",
       "2                                        daysonmarket  6.167395e-03\n",
       "36                                   wheel_system_cat  6.084273e-03\n",
       "18                                          longitude  5.956792e-03\n",
       "37                           wheel_system_display_cat  5.825781e-03\n",
       "31                                          wheelbase  5.460589e-03\n",
       "3                                          dealer_zip  5.311008e-03\n",
       "8                                       front_legroom  5.194709e-03\n",
       "17                                        listed_date  4.584625e-03\n",
       "4                                 engine_displacement  4.355540e-03\n",
       "1                                   city_fuel_economy  3.154374e-03\n",
       "7                                      franchise_make  2.225961e-03\n",
       "42                            body_type_SUV_Crossover  1.811286e-03\n",
       "22                                        owner_count  1.508617e-03\n",
       "19                                    maximum_seating  1.295084e-03\n",
       "51             transmission_display_6_Speed_Automatic  9.956286e-04\n",
       "10                                      has_accidents  9.003557e-04\n",
       "54                     transmission_display_Automatic  8.624836e-04\n",
       "13                                              isCab  8.238435e-04\n",
       "5                                               fleet  7.241308e-04\n",
       "52             transmission_display_8_Speed_Automatic  6.188337e-04\n",
       "43                                    body_type_Sedan  5.821297e-04\n",
       "46                                engine_cylinders_I4  5.186393e-04\n",
       "34                                      fuel_type_cat  5.060303e-04\n",
       "35                                   transmission_cat  5.033826e-04\n",
       "55  transmission_display_Continuously_Variable_Tra...  4.730021e-04\n",
       "56                         transmission_display_other  3.798145e-04\n",
       "45                                    body_type_Wagon  2.671794e-04\n",
       "53             transmission_display_9_Speed_Automatic  2.053301e-04\n",
       "48              engine_cylinders_V6_Flex_Fuel_Vehicle  1.959885e-04\n",
       "39                                body_type_Hatchback  1.790901e-04\n",
       "14                                             is_new  1.749637e-04\n",
       "41                             body_type_Pickup_Truck  1.455960e-04\n",
       "40                                  body_type_Minivan  1.367203e-04\n",
       "50                             engine_cylinders_other  1.187689e-04\n",
       "49                                engine_cylinders_V8  8.934867e-05\n",
       "38                                    body_type_Coupe  6.330553e-05\n",
       "28                                        theft_title  1.080973e-05\n",
       "6                                       frame_damaged  6.621246e-06\n",
       "44                                      body_type_Van  2.167886e-06\n",
       "24                                            salvage  4.001456e-07"
      ]
     },
     "execution_count": 60,
     "metadata": {},
     "output_type": "execute_result"
    }
   ],
   "source": [
    "rf_feats.sort_values(by = 1, ascending = False)"
   ]
  },
  {
   "cell_type": "code",
   "execution_count": 61,
   "id": "765b21e3",
   "metadata": {},
   "outputs": [
    {
     "data": {
      "text/html": [
       "<div>\n",
       "<style scoped>\n",
       "    .dataframe tbody tr th:only-of-type {\n",
       "        vertical-align: middle;\n",
       "    }\n",
       "\n",
       "    .dataframe tbody tr th {\n",
       "        vertical-align: top;\n",
       "    }\n",
       "\n",
       "    .dataframe thead th {\n",
       "        text-align: right;\n",
       "    }\n",
       "</style>\n",
       "<table border=\"1\" class=\"dataframe\">\n",
       "  <thead>\n",
       "    <tr style=\"text-align: right;\">\n",
       "      <th></th>\n",
       "      <th>0</th>\n",
       "      <th>1</th>\n",
       "    </tr>\n",
       "  </thead>\n",
       "  <tbody>\n",
       "    <tr>\n",
       "      <th>21</th>\n",
       "      <td>model_name</td>\n",
       "      <td>0.205964</td>\n",
       "    </tr>\n",
       "    <tr>\n",
       "      <th>30</th>\n",
       "      <td>trimId</td>\n",
       "      <td>0.368106</td>\n",
       "    </tr>\n",
       "  </tbody>\n",
       "</table>\n",
       "</div>"
      ],
      "text/plain": [
       "             0         1\n",
       "21  model_name  0.205964\n",
       "30      trimId  0.368106"
      ]
     },
     "execution_count": 61,
     "metadata": {},
     "output_type": "execute_result"
    }
   ],
   "source": [
    "rf_feats[(rf_feats[1] >= 0.2) | (rf_feats[1] <= -.2)]"
   ]
  },
  {
   "cell_type": "code",
   "execution_count": 62,
   "id": "85af7972",
   "metadata": {},
   "outputs": [
    {
     "data": {
      "text/html": [
       "<div>\n",
       "<style scoped>\n",
       "    .dataframe tbody tr th:only-of-type {\n",
       "        vertical-align: middle;\n",
       "    }\n",
       "\n",
       "    .dataframe tbody tr th {\n",
       "        vertical-align: top;\n",
       "    }\n",
       "\n",
       "    .dataframe thead th {\n",
       "        text-align: right;\n",
       "    }\n",
       "</style>\n",
       "<table border=\"1\" class=\"dataframe\">\n",
       "  <thead>\n",
       "    <tr style=\"text-align: right;\">\n",
       "      <th></th>\n",
       "      <th>0</th>\n",
       "      <th>1</th>\n",
       "    </tr>\n",
       "  </thead>\n",
       "  <tbody>\n",
       "    <tr>\n",
       "      <th>21</th>\n",
       "      <td>model_name</td>\n",
       "      <td>0.211757</td>\n",
       "    </tr>\n",
       "    <tr>\n",
       "      <th>30</th>\n",
       "      <td>trimId</td>\n",
       "      <td>0.379266</td>\n",
       "    </tr>\n",
       "  </tbody>\n",
       "</table>\n",
       "</div>"
      ],
      "text/plain": [
       "             0         1\n",
       "21  model_name  0.211757\n",
       "30      trimId  0.379266"
      ]
     },
     "execution_count": 62,
     "metadata": {},
     "output_type": "execute_result"
    }
   ],
   "source": [
    "base_dt = DecisionTreeRegressor(random_state = 4).fit(X_tree, y_tree)\n",
    "dt_feats = pd.DataFrame(zip(base_dt.feature_names_in_, base_dt.feature_importances_))\n",
    "dt_feats.sort_values(by = 1, ascending = False)\n",
    "dt_feats[(dt_feats[1] >= 0.2) | (dt_feats[1] <= -.2)]"
   ]
  },
  {
   "cell_type": "code",
   "execution_count": 63,
   "id": "b8fdf805",
   "metadata": {},
   "outputs": [],
   "source": [
    "bagged_dt = BaggingRegressor(DecisionTreeRegressor(), random_state = 4, n_estimators = 100).fit(X_tree, y_tree)\n",
    "f_imp = pd.DataFrame(zip(bagged_dt.feature_names_in_,np.mean([tree.feature_importances_ for tree in bagged_dt.estimators_], axis = 0)))"
   ]
  },
  {
   "cell_type": "code",
   "execution_count": 64,
   "id": "14e8134c",
   "metadata": {},
   "outputs": [
    {
     "data": {
      "text/html": [
       "<div>\n",
       "<style scoped>\n",
       "    .dataframe tbody tr th:only-of-type {\n",
       "        vertical-align: middle;\n",
       "    }\n",
       "\n",
       "    .dataframe tbody tr th {\n",
       "        vertical-align: top;\n",
       "    }\n",
       "\n",
       "    .dataframe thead th {\n",
       "        text-align: right;\n",
       "    }\n",
       "</style>\n",
       "<table border=\"1\" class=\"dataframe\">\n",
       "  <thead>\n",
       "    <tr style=\"text-align: right;\">\n",
       "      <th></th>\n",
       "      <th>0</th>\n",
       "      <th>1</th>\n",
       "    </tr>\n",
       "  </thead>\n",
       "  <tbody>\n",
       "    <tr>\n",
       "      <th>21</th>\n",
       "      <td>model_name</td>\n",
       "      <td>0.205927</td>\n",
       "    </tr>\n",
       "    <tr>\n",
       "      <th>30</th>\n",
       "      <td>trimId</td>\n",
       "      <td>0.368145</td>\n",
       "    </tr>\n",
       "  </tbody>\n",
       "</table>\n",
       "</div>"
      ],
      "text/plain": [
       "             0         1\n",
       "21  model_name  0.205927\n",
       "30      trimId  0.368145"
      ]
     },
     "execution_count": 64,
     "metadata": {},
     "output_type": "execute_result"
    }
   ],
   "source": [
    "f_imp.sort_values(by = 1, ascending = False)\n",
    "f_imp[(f_imp[1] >= 0.2) | (f_imp[1] <= -.2)]"
   ]
  },
  {
   "cell_type": "markdown",
   "id": "a86065ea",
   "metadata": {},
   "source": [
    "Based on the base Random Forest, the two most significant predictors are model_name and trimId. We can test the performance of a model developed using our feature selection and a model developed using the selected features by the RandomForest to find the best predictors. "
   ]
  },
  {
   "cell_type": "code",
   "execution_count": 65,
   "id": "62e94626",
   "metadata": {},
   "outputs": [],
   "source": [
    "X_tree_subset = X_tree[['model_name', 'trimId']]\n",
    "\n",
    "X_train_sub, X_test_sub, y_train_sub, y_test_sub = train_test_split(X_tree_subset, y_tree, test_size = 0.3, random_state = 4)"
   ]
  },
  {
   "cell_type": "markdown",
   "id": "2ab25989",
   "metadata": {},
   "source": [
    "Base MARS model on the tree selected features: "
   ]
  },
  {
   "cell_type": "code",
   "execution_count": 66,
   "id": "807fd35d",
   "metadata": {},
   "outputs": [
    {
     "name": "stdout",
     "output_type": "stream",
     "text": [
      "Earth Model\n",
      "--------------------------------------\n",
      "Basis Function   Pruned  Coefficient  \n",
      "--------------------------------------\n",
      "(Intercept)      No      35493.1      \n",
      "h(trimId-67312)  No      -0.228409    \n",
      "h(67312-trimId)  Yes     None         \n",
      "model_name       No      3970.31      \n",
      "h(trimId-32660)  Yes     None         \n",
      "h(32660-trimId)  No      0.196858     \n",
      "h(trimId-83763)  Yes     None         \n",
      "h(83763-trimId)  Yes     None         \n",
      "h(trimId-89881)  Yes     None         \n",
      "h(89881-trimId)  No      -2.24943     \n",
      "h(trimId-78253)  Yes     None         \n",
      "h(78253-trimId)  No      -6.47566     \n",
      "h(trimId-76583)  No      2.17212      \n",
      "h(76583-trimId)  Yes     None         \n",
      "h(trimId-78985)  No      -3.50747     \n",
      "h(78985-trimId)  No      7.36778      \n",
      "h(trimId-82290)  Yes     None         \n",
      "h(82290-trimId)  No      1.05506      \n",
      "trimId           Yes     None         \n",
      "--------------------------------------\n",
      "MSE: 12520924.7798, GCV: 12709856.5249, RSQ: 0.6517, GRSQ: 0.6466\n",
      "Base MARS train RMSE 3538.491879292506\n",
      "\n",
      "Base MARS train R^2 0.6516769607249813\n",
      "\n",
      "BASE MARS Test RMSE 3596.9618257609077\n",
      "\n",
      "BASE MARS Test R^2 0.6314408357382498\n"
     ]
    }
   ],
   "source": [
    "base_mars1 = Earth().fit(X_train_sub, y_train_sub)\n",
    "print(base_mars1.summary())\n",
    "print(\"Base MARS train RMSE\", np.sqrt(base_mars1.mse_))\n",
    "print(\"\\nBase MARS train R^2\", base_mars1.rsq_)\n",
    "print(\"\\nBASE MARS Test RMSE\", mean_squared_error(y_test_sub, base_mars1.predict(X_test_sub), squared = False))\n",
    "print(\"\\nBASE MARS Test R^2\", r2_score(y_test_sub, base_mars1.predict(X_test_sub)))"
   ]
  },
  {
   "cell_type": "markdown",
   "id": "4a50c6b2",
   "metadata": {},
   "source": [
    "Base MARS model on our selected features: "
   ]
  },
  {
   "cell_type": "code",
   "execution_count": 67,
   "id": "20cd0542",
   "metadata": {},
   "outputs": [
    {
     "name": "stdout",
     "output_type": "stream",
     "text": [
      "Earth Model\n",
      "-----------------------------------------------\n",
      "Basis Function            Pruned  Coefficient  \n",
      "-----------------------------------------------\n",
      "(Intercept)               No      -696322      \n",
      "h(trimId-67312)           Yes     None         \n",
      "h(67312-trimId)           No      -0.126974    \n",
      "model_name                No      2187.29      \n",
      "power                     No      14.7161      \n",
      "h(mileage-116656)         No      -0.032541    \n",
      "h(116656-mileage)         No      0.0639984    \n",
      "wheel_system_display_cat  No      -355.43      \n",
      "engine_cylinders_V6       No      1588.48      \n",
      "torque                    No      11.9225      \n",
      "h(trimId-37340)           Yes     None         \n",
      "h(37340-trimId)           No      0.187547     \n",
      "wheel_system_cat          No      -399.524     \n",
      "h(savings_amount-4356)    No      2.82244      \n",
      "h(4356-savings_amount)    No      -0.259224    \n",
      "year                      No      351.544      \n",
      "body_type_Sedan           No      -761.063     \n",
      "h(city_fuel_economy-32)   Yes     None         \n",
      "h(32-city_fuel_economy)   No      -334.968     \n",
      "length                    No      67.983       \n",
      "franchise_make            No      223.224      \n",
      "highway_fuel_economy      No      -175.368     \n",
      "wheelbase                 No      -67.8022     \n",
      "-----------------------------------------------\n",
      "MSE: 7209072.4230, GCV: 7434760.4238, RSQ: 0.7982, GRSQ: 0.7921\n",
      "Base MARS train RMSE 2684.9715869996617\n",
      "\n",
      "Base MARS train R^2 0.79824516868172\n",
      "\n",
      "BASE MARS Test RMSE 2874.6647842725392\n",
      "\n",
      "BASE MARS Test R^2 0.768875427417892\n"
     ]
    }
   ],
   "source": [
    "base_mars2 = Earth().fit(X_train, y_train)\n",
    "print(base_mars2.summary())\n",
    "print(\"Base MARS train RMSE\", np.sqrt(base_mars2.mse_))\n",
    "print(\"\\nBase MARS train R^2\", base_mars2.rsq_)\n",
    "print(\"\\nBASE MARS Test RMSE\", mean_squared_error(y_test, base_mars2.predict(X_test), squared = False))\n",
    "print(\"\\nBASE MARS Test R^2\", r2_score(y_test, base_mars2.predict(X_test)))"
   ]
  },
  {
   "cell_type": "markdown",
   "id": "1efdde3f",
   "metadata": {},
   "source": [
    "The model's performance is much better using the features selected by our analysis than the tree based models. The R^2 is much greater on our subset's test data even though there does appear to be some slight overfitting. Overfitting does not appear to be an issue with the tree based models selected features but the model's performance is much worse. \n",
    "\n",
    "The main takeaway from this analysis is that our selected features resulted in overfitting but generally well performing model. This was true for our initial model development in which most of our models overfit even with extensive tuning and generally had much higher RMSE's at the base model and tuned model.\n",
    "\n",
    "Another method for finding the best features is by running a base MARS model on our original data to find the best overall features. "
   ]
  },
  {
   "cell_type": "code",
   "execution_count": 68,
   "id": "55445f1f",
   "metadata": {},
   "outputs": [
    {
     "data": {
      "text/plain": [
       "(4501, 57)"
      ]
     },
     "execution_count": 68,
     "metadata": {},
     "output_type": "execute_result"
    }
   ],
   "source": [
    "X_tree.shape"
   ]
  },
  {
   "cell_type": "code",
   "execution_count": 69,
   "id": "a570d7c4",
   "metadata": {},
   "outputs": [
    {
     "name": "stdout",
     "output_type": "stream",
     "text": [
      "Earth Model\n",
      "-------------------------------------------------------------\n",
      "Basis Function                          Pruned  Coefficient  \n",
      "-------------------------------------------------------------\n",
      "(Intercept)                             No      -901747      \n",
      "h(trimId-67983)                         No      -0.0679866   \n",
      "h(67983-trimId)                         Yes     None         \n",
      "model_name                              No      2059.74      \n",
      "power                                   No      24.8064      \n",
      "h(mileage-117301)                       No      -0.0337709   \n",
      "h(117301-mileage)                       No      0.0601967    \n",
      "wheel_system_cat                        No      -368.638     \n",
      "engine_cylinders_V6_Flex_Fuel_Vehicle   No      -3305.3      \n",
      "fleet                                   No      -1080.02     \n",
      "h(savings_amount-1580)                  No      0.8081       \n",
      "h(1580-savings_amount)                  Yes     None         \n",
      "h(latitude-30.4119)                     No      -45.1318     \n",
      "h(30.4119-latitude)                     No      -377.13      \n",
      "engine_cylinders_I4                     No      -740.799     \n",
      "wheel_system_display_cat                No      -278.193     \n",
      "h(trimId-35944)                         No      0.110536     \n",
      "h(35944-trimId)                         No      0.0549605    \n",
      "year                                    No      454.75       \n",
      "transmission_display_6_Speed_Automatic  No      -690.887     \n",
      "h(daysonmarket-215)                     No      52.3013      \n",
      "h(215-daysonmarket)                     No      8.81423      \n",
      "highway_fuel_economy                    No      -267.675     \n",
      "h(city_fuel_economy-32)                 No      -782.885     \n",
      "h(32-city_fuel_economy)                 No      -266.161     \n",
      "h(length-231.9)                         No      -239.891     \n",
      "h(231.9-length)                         No      -34.0219     \n",
      "seller_rating                           No      459.601      \n",
      "franchise_make                          No      185.75       \n",
      "h(daysonmarket-256)                     No      -52.8053     \n",
      "h(256-daysonmarket)                     Yes     None         \n",
      "-------------------------------------------------------------\n",
      "MSE: 6828955.3432, GCV: 7041656.0816, RSQ: 0.8087, GRSQ: 0.8028\n"
     ]
    }
   ],
   "source": [
    "mars_feats = Earth().fit(X_tree, y_tree)\n",
    "print(mars_feats.summary())"
   ]
  },
  {
   "cell_type": "code",
   "execution_count": 70,
   "id": "daafc900",
   "metadata": {},
   "outputs": [
    {
     "name": "stdout",
     "output_type": "stream",
     "text": [
      "Base MARS train RMSE 2613.2269980328842\n",
      "\n",
      "Base MARS train R^2 0.8086796290659015\n"
     ]
    }
   ],
   "source": [
    "print(\"Base MARS train RMSE\", np.sqrt(mars_feats.mse_))\n",
    "print(\"\\nBase MARS train R^2\", mars_feats.rsq_)"
   ]
  },
  {
   "cell_type": "code",
   "execution_count": 71,
   "id": "4eb31c04",
   "metadata": {},
   "outputs": [
    {
     "name": "stdout",
     "output_type": "stream",
     "text": [
      "Checking performance on split data: \n",
      "\n",
      "Base MARS Train RMSE: 2629.4932798721898\n",
      "\n",
      "Base MARS Train R^2 0.8076510034139941\n",
      "\n",
      "Base MARS Test RMSE: 2619.6932550056486\n",
      "\n",
      "Base MARS Test R^2 0.8045046459514393\n"
     ]
    }
   ],
   "source": [
    "print(\"Checking performance on split data: \\n\")\n",
    "X_train_mars, X_test_mars, y_train_mars, y_test_mars = train_test_split(X_tree, y_tree, random_state = 4, test_size = 0.3)\n",
    "random.seed(4)\n",
    "mars_feats2 = Earth(feature_importance_type = 'rss').fit(X_train_mars, y_train_mars)\n",
    "print(\"Base MARS Train RMSE:\", np.sqrt(mars_feats2.mse_))\n",
    "print(\"\\nBase MARS Train R^2\", mars_feats2.rsq_)\n",
    "print(\"\\nBase MARS Test RMSE:\", mean_squared_error(y_test_mars, mars_feats2.predict(X_test_mars), squared = False))\n",
    "print(\"\\nBase MARS Test R^2\", r2_score(y_test_mars, mars_feats2.predict(X_test_mars)))"
   ]
  },
  {
   "cell_type": "code",
   "execution_count": 72,
   "id": "97d62b64",
   "metadata": {},
   "outputs": [
    {
     "name": "stdout",
     "output_type": "stream",
     "text": [
      "                                                            rss\n",
      "model_name                                                  0.43   \n",
      "mileage                                                     0.36   \n",
      "power                                                       0.09   \n",
      "year                                                        0.06   \n",
      "wheel_system_cat                                            0.02   \n",
      "engine_cylinders_V6_Flex_Fuel_Vehicle                       0.01   \n",
      "fleet                                                       0.01   \n",
      "savings_amount                                              0.01   \n",
      "engine_cylinders_I4                                         0.00   \n",
      "city_fuel_economy                                           0.00   \n",
      "trimId                                                      0.00   \n",
      "listed_date                                                 0.00   \n",
      "latitude                                                    0.00   \n",
      "transmission_display_6_Speed_Automatic                      0.00   \n",
      "seller_rating                                               0.00   \n",
      "highway_fuel_economy                                        0.00   \n",
      "franchise_make                                              0.00   \n",
      "length                                                      0.00   \n",
      "wheelbase                                                   0.00   \n",
      "wheel_system_display_cat                                    0.00   \n",
      "longitude                                                   0.00   \n",
      "maximum_seating                                             0.00   \n",
      "transmission_display_other                                  0.00   \n",
      "is_new                                                      0.00   \n",
      "owner_count                                                 0.00   \n",
      "height                                                      0.00   \n",
      "has_accidents                                               0.00   \n",
      "fuel_tank_volume                                            0.00   \n",
      "front_legroom                                               0.00   \n",
      "frame_damaged                                               0.00   \n",
      "engine_displacement                                         0.00   \n",
      "dealer_zip                                                  0.00   \n",
      "daysonmarket                                                0.00   \n",
      "isCab                                                       0.00   \n",
      "theft_title                                                 0.00   \n",
      "salvage                                                     0.00   \n",
      "sp_id                                                       0.00   \n",
      "transmission_display_Automatic                              0.00   \n",
      "transmission_display_9_Speed_Automatic                      0.00   \n",
      "transmission_display_8_Speed_Automatic                      0.00   \n",
      "engine_cylinders_other                                      0.00   \n",
      "engine_cylinders_V8                                         0.00   \n",
      "engine_cylinders_V6                                         0.00   \n",
      "body_type_Wagon                                             0.00   \n",
      "body_type_Van                                               0.00   \n",
      "body_type_Sedan                                             0.00   \n",
      "body_type_SUV_Crossover                                     0.00   \n",
      "body_type_Pickup_Truck                                      0.00   \n",
      "body_type_Minivan                                           0.00   \n",
      "body_type_Hatchback                                         0.00   \n",
      "body_type_Coupe                                             0.00   \n",
      "transmission_cat                                            0.00   \n",
      "fuel_type_cat                                               0.00   \n",
      "width                                                       0.00   \n",
      "torque                                                      0.00   \n",
      "transmission_display_Continuously_Variable_Transmission     0.00   \n",
      "back_legroom                                                0.00   \n",
      "\n"
     ]
    }
   ],
   "source": [
    "print(mars_feats2.summary_feature_importances(sort_by = 'rss'))"
   ]
  },
  {
   "cell_type": "markdown",
   "id": "e9f1a294",
   "metadata": {},
   "source": [
    "The selected features by MARS result in the best performance on the training data and the testing data. There is no overfitting or underfitting and the R^2 has improved, albeit marginally. \n",
    "\n",
    "Thus, we will perform the rest of our analysis with the top features selected by the best MARS model. These features are:\n",
    "\n",
    "model_name                                                  : **0.43**   \n",
    "mileage                                                     **0.36**  \n",
    "power                                                      **0.09**    \n",
    "year                                                        **0.06**   \n",
    "wheel_system_cat                                            **0.02**  \n",
    "engine_cylinders_V6_Flex_Fuel_Vehicle                       **0.01**   \n",
    "fleet                                                       **0.01**   \n",
    "savings_amount                                              **0.01** "
   ]
  },
  {
   "cell_type": "markdown",
   "id": "9cd0a8b2",
   "metadata": {},
   "source": [
    "Final data subsetting and split:"
   ]
  },
  {
   "cell_type": "code",
   "execution_count": 73,
   "id": "e99d63ad",
   "metadata": {},
   "outputs": [
    {
     "name": "stdout",
     "output_type": "stream",
     "text": [
      "Final overall training data shape (4501, 57)\n",
      "Final response variable shape (4501,)\n"
     ]
    }
   ],
   "source": [
    "# dropping the 31 missing values from the main/original data\n",
    "\n",
    "data.dropna(inplace = True)\n",
    "y_mars = data.price\n",
    "data.drop(columns = ['price'], inplace = True)\n",
    "print(\"Final overall training data shape\", data.shape)\n",
    "print(\"Final response variable shape\", y_mars.shape)\n",
    "\n",
    "# subsetting for the final selected features\n",
    "\n",
    "X_mars= data[['model_name', 'mileage', 'power', 'year', 'wheel_system_cat', 'engine_cylinders_V6_Flex_Fuel_Vehicle', 'fleet', 'savings_amount']]\n",
    "\n",
    "# splitting the final data! \n",
    "\n",
    "X_train_mars, X_test_mars, y_train_mars, y_test_mars = train_test_split(X_mars, y_mars, test_size = 0.3, random_state = 4)"
   ]
  },
  {
   "cell_type": "markdown",
   "id": "40a1e490",
   "metadata": {},
   "source": [
    "We will develop our models using both the features found during our EDA and the models using the features found based on the MARS model analysis."
   ]
  },
  {
   "cell_type": "markdown",
   "id": "acab331a",
   "metadata": {},
   "source": [
    "## Developing the model: Hyperparameter tuning"
   ]
  },
  {
   "cell_type": "markdown",
   "id": "ae5ec4c9",
   "metadata": {},
   "source": [
    "Put code with comments. The comments should explain the code such that it can be easily understood. You may put text *(in a markdown cell)* before a large chunk of code to explain the overall purpose of the code, if it is not intuitive. **Put the name of the person / persons who contributed to each code chunk / set of code chunks.**\n",
    "\n",
    "Put each model in a section of its name and mention the name of the team-member tuning the model. Below is an example:"
   ]
  },
  {
   "cell_type": "markdown",
   "id": "7a6485d1",
   "metadata": {},
   "source": [
    "# NOTE!!!!\n",
    "## Please read my new analysis above and new feature selection. keep all of your old work but rerun the models with the new split data using the selected features by MARS \n",
    "\n",
    "## X_train_mars, y_train_mars etc are the names of the data which have MARS feature selection. "
   ]
  },
  {
   "cell_type": "markdown",
   "id": "93edf1c4",
   "metadata": {},
   "source": [
    "# ALWAYS USE RANDOM_STATE = 4"
   ]
  },
  {
   "cell_type": "markdown",
   "id": "dabca75a",
   "metadata": {},
   "source": [
    "Throughout our model development, we ran our analysis on both our selected features and the random forest's selected features to observe the difference in performance. Generally, we anticipate that the models developed using the features selected by random forest will perform better. \n",
    "\n",
    "X_train, y_train, X_test, and y_test represent the data which contains the feature selection resulting from our EDA and analysis while X_train_mars, y_train_mars, X_test_mars, and y_test_mars represent the data which contains the features selected by the Random Forest model. "
   ]
  },
  {
   "cell_type": "markdown",
   "id": "21bc9dcc",
   "metadata": {},
   "source": [
    "### Lasso, Ridge & Stepwise Selection\n",
    "*By Emily Leibfritz*"
   ]
  },
  {
   "cell_type": "markdown",
   "id": "22022500",
   "metadata": {},
   "source": [
    "### MARS & Bagging MARS \n",
    "*By Hiba Khatib*"
   ]
  },
  {
   "cell_type": "markdown",
   "id": "d9ae70f4",
   "metadata": {},
   "source": [
    "#### Tuning MARS models"
   ]
  },
  {
   "cell_type": "markdown",
   "id": "cf81b573",
   "metadata": {},
   "source": [
    "Since we already performed base MARS model analysis to inform our feature selection, we can continue with tuning MARS to achieve better results. The first set of tuning will be on the MARS selected features then we will also tuning on our selected features."
   ]
  },
  {
   "cell_type": "code",
   "execution_count": 405,
   "id": "8ec35bf8",
   "metadata": {},
   "outputs": [],
   "source": [
    "random.seed(4)\n",
    "opt_mars = pd.DataFrame(columns = {'degree', 'R2', 'RMSE'})\n",
    "iter_num = 0\n",
    "cv = KFold(n_splits=5, random_state=4, shuffle=True)\n",
    "for i in range(1, 8):\n",
    "    \n",
    "    MARS_model = Earth(max_terms=500, max_degree=i)\n",
    "    r2 = cross_val_score(MARS_model, X_train_mars, y_train_mars, cv=5, scoring='r2')\n",
    "    \n",
    "    mean_r2 = r2.mean()\n",
    "    \n",
    "    rmse = cross_val_score(MARS_model, X_train_mars, y_train_mars, cv= 5, scoring='neg_root_mean_squared_error')\n",
    "    mean_rmse = abs(rmse).mean()\n",
    "    \n",
    "    \n",
    "    opt_mars.loc[iter_num, 'degree'] = i\n",
    "    opt_mars.loc[iter_num, 'R2'] = mean_r2\n",
    "    opt_mars.loc[iter_num, 'RMSE'] = mean_rmse\n",
    "    iter_num += 1"
   ]
  },
  {
   "cell_type": "code",
   "execution_count": 407,
   "id": "078cbcbd",
   "metadata": {},
   "outputs": [
    {
     "data": {
      "text/html": [
       "<div>\n",
       "<style scoped>\n",
       "    .dataframe tbody tr th:only-of-type {\n",
       "        vertical-align: middle;\n",
       "    }\n",
       "\n",
       "    .dataframe tbody tr th {\n",
       "        vertical-align: top;\n",
       "    }\n",
       "\n",
       "    .dataframe thead th {\n",
       "        text-align: right;\n",
       "    }\n",
       "</style>\n",
       "<table border=\"1\" class=\"dataframe\">\n",
       "  <thead>\n",
       "    <tr style=\"text-align: right;\">\n",
       "      <th></th>\n",
       "      <th>R2</th>\n",
       "      <th>RMSE</th>\n",
       "      <th>degree</th>\n",
       "    </tr>\n",
       "  </thead>\n",
       "  <tbody>\n",
       "    <tr>\n",
       "      <th>4</th>\n",
       "      <td>0.790333</td>\n",
       "      <td>2742.648575</td>\n",
       "      <td>5</td>\n",
       "    </tr>\n",
       "  </tbody>\n",
       "</table>\n",
       "</div>"
      ],
      "text/plain": [
       "         R2         RMSE degree\n",
       "4  0.790333  2742.648575      5"
      ]
     },
     "execution_count": 407,
     "metadata": {},
     "output_type": "execute_result"
    }
   ],
   "source": [
    "opt_mars.sort_values(by = 'R2', ascending = False).head(1)"
   ]
  },
  {
   "cell_type": "code",
   "execution_count": 409,
   "id": "ba2e3a66",
   "metadata": {},
   "outputs": [
    {
     "data": {
      "text/html": [
       "<div>\n",
       "<style scoped>\n",
       "    .dataframe tbody tr th:only-of-type {\n",
       "        vertical-align: middle;\n",
       "    }\n",
       "\n",
       "    .dataframe tbody tr th {\n",
       "        vertical-align: top;\n",
       "    }\n",
       "\n",
       "    .dataframe thead th {\n",
       "        text-align: right;\n",
       "    }\n",
       "</style>\n",
       "<table border=\"1\" class=\"dataframe\">\n",
       "  <thead>\n",
       "    <tr style=\"text-align: right;\">\n",
       "      <th></th>\n",
       "      <th>R2</th>\n",
       "      <th>RMSE</th>\n",
       "      <th>degree</th>\n",
       "    </tr>\n",
       "  </thead>\n",
       "  <tbody>\n",
       "    <tr>\n",
       "      <th>4</th>\n",
       "      <td>0.790333</td>\n",
       "      <td>2742.648575</td>\n",
       "      <td>5</td>\n",
       "    </tr>\n",
       "  </tbody>\n",
       "</table>\n",
       "</div>"
      ],
      "text/plain": [
       "         R2         RMSE degree\n",
       "4  0.790333  2742.648575      5"
      ]
     },
     "execution_count": 409,
     "metadata": {},
     "output_type": "execute_result"
    }
   ],
   "source": [
    "opt_mars.sort_values(by = 'RMSE', ascending = True).head(1)"
   ]
  },
  {
   "cell_type": "markdown",
   "id": "78fdfa3c",
   "metadata": {},
   "source": [
    "The optimal degree is 5 for both R2 and RMSE. "
   ]
  },
  {
   "cell_type": "code",
   "execution_count": 410,
   "id": "e80cbd45",
   "metadata": {},
   "outputs": [
    {
     "name": "stdout",
     "output_type": "stream",
     "text": [
      "Earth Model\n",
      "----------------------------------------------------------------------------------------------\n",
      "Basis Function                                                          Pruned  Coefficient   \n",
      "----------------------------------------------------------------------------------------------\n",
      "(Intercept)                                                             No      -0.867045     \n",
      "year                                                                    No      -872.929      \n",
      "model_name*year                                                         No      1.1003        \n",
      "power*year                                                              No      0.0247296     \n",
      "h(mileage-118799)*year                                                  No      3.49146e-05   \n",
      "h(118799-mileage)*year                                                  Yes     None          \n",
      "wheel_system_cat*year                                                   No      -0.432392     \n",
      "engine_cylinders_V6_Flex_Fuel_Vehicle*model_name*year                   Yes     None          \n",
      "h(mileage-86269)*model_name*year                                        No      -8.66159e-06  \n",
      "h(86269-mileage)*model_name*year                                        Yes     None          \n",
      "fleet*power*year                                                        No      -0.00229866   \n",
      "year*year                                                               No      0.435352      \n",
      "h(savings_amount-1293)                                                  No      0.737447      \n",
      "h(1293-savings_amount)                                                  Yes     None          \n",
      "power*h(86269-mileage)*model_name*year                                  No      4.76397e-06   \n",
      "mileage*power*year                                                      No      -1.1364e-07   \n",
      "wheel_system_cat*engine_cylinders_V6_Flex_Fuel_Vehicle*model_name*year  No      -0.503445     \n",
      "power*power*h(86269-mileage)*model_name*year                            No      -4.14987e-10  \n",
      "year*power*h(86269-mileage)*model_name*year                             No      -2.30134e-09  \n",
      "----------------------------------------------------------------------------------------------\n",
      "MSE: 7320763.8309, GCV: 7491008.4641, RSQ: 0.7963, GRSQ: 0.7917\n"
     ]
    }
   ],
   "source": [
    "fit_mars1 = Earth(max_terms=1000, max_degree= 5, feature_importance_type = \"rss\").fit(X_train_mars, y_train_mars)\n",
    "print(fit_mars1.summary())"
   ]
  },
  {
   "cell_type": "code",
   "execution_count": 411,
   "id": "e35baba4",
   "metadata": {},
   "outputs": [
    {
     "name": "stdout",
     "output_type": "stream",
     "text": [
      "Performance on MARS feature selection:\n",
      "\n",
      "Tuned MARS Train RMSE: 2705.691008032262\n",
      "Tuned MARS Train R^2 value:  0.7963416638745415\n",
      "Tuned MARS Test RMSE: 2679.9773361980965\n",
      "Tuned MARS Test R^2: 0.7954036885971033\n"
     ]
    }
   ],
   "source": [
    "print(\"Performance on MARS feature selection:\\n\")\n",
    "print(\"Tuned MARS Train RMSE:\", np.sqrt(fit_mars1.mse_))\n",
    "print(\"Tuned MARS Train R^2 value: \", fit_mars1.rsq_)\n",
    "print(\"Tuned MARS Test RMSE:\",mean_squared_error(y_test_mars, fit_mars1.predict(X_test_mars), squared = False) )\n",
    "print(\"Tuned MARS Test R^2:\", r2_score(y_test_mars, fit_mars1.predict(X_test_mars)))"
   ]
  },
  {
   "cell_type": "code",
   "execution_count": 412,
   "id": "b9a4cfb1",
   "metadata": {},
   "outputs": [
    {
     "name": "stdout",
     "output_type": "stream",
     "text": [
      "Feature importance by RSS on MARS feature selection\n",
      "\n",
      "                                          rss\n",
      "year                                      0.59   \n",
      "model_name                                0.24   \n",
      "power                                     0.09   \n",
      "mileage                                   0.05   \n",
      "wheel_system_cat                          0.02   \n",
      "engine_cylinders_V6_Flex_Fuel_Vehicle     0.01   \n",
      "fleet                                     0.00   \n",
      "savings_amount                            0.00   \n",
      "\n"
     ]
    }
   ],
   "source": [
    "print(\"Feature importance by RSS on MARS feature selection\\n\")\n",
    "print(fit_mars1.summary_feature_importances(sort_by = 'rss'))"
   ]
  },
  {
   "cell_type": "markdown",
   "id": "3a858423",
   "metadata": {},
   "source": [
    "Performance on our feature selection: "
   ]
  },
  {
   "cell_type": "code",
   "execution_count": 413,
   "id": "37384db1",
   "metadata": {},
   "outputs": [],
   "source": [
    "random.seed(4)\n",
    "opt_mars2 = pd.DataFrame(columns = {'degree', 'R2', 'RMSE'})\n",
    "iter_num = 0\n",
    "cv = KFold(n_splits=5, random_state=4, shuffle=True)\n",
    "for i in range(1, 8):\n",
    "    \n",
    "    MARS_model = Earth(max_terms=500, max_degree=i)\n",
    "    r2 = cross_val_score(MARS_model, X_train, y_train, cv=5, scoring='r2')\n",
    "    \n",
    "    mean_r2 = r2.mean()\n",
    "    \n",
    "    rmse = cross_val_score(MARS_model, X_train, y_train, cv= 5, scoring='neg_root_mean_squared_error')\n",
    "    mean_rmse = abs(rmse).mean()\n",
    "    \n",
    "    \n",
    "    opt_mars2.loc[iter_num, 'degree'] = i\n",
    "    opt_mars2.loc[iter_num, 'R2'] = mean_r2\n",
    "    opt_mars2.loc[iter_num, 'RMSE'] = mean_rmse\n",
    "    iter_num += 1"
   ]
  },
  {
   "cell_type": "code",
   "execution_count": 414,
   "id": "26218045",
   "metadata": {},
   "outputs": [
    {
     "name": "stdout",
     "output_type": "stream",
     "text": [
      "        R2         RMSE degree\n",
      "5  0.81581  2560.543379      6\n",
      "        R2         RMSE degree\n",
      "5  0.81581  2560.543379      6\n"
     ]
    }
   ],
   "source": [
    "print(opt_mars2.sort_values(by = 'R2', ascending = False).head(1))\n",
    "print(opt_mars2.sort_values(by = 'RMSE', ascending = True).head(1))"
   ]
  },
  {
   "cell_type": "markdown",
   "id": "4d85a053",
   "metadata": {},
   "source": [
    "**The best degree for both R^2 and RMSE is 6**"
   ]
  },
  {
   "cell_type": "code",
   "execution_count": 415,
   "id": "d84e784a",
   "metadata": {},
   "outputs": [
    {
     "name": "stdout",
     "output_type": "stream",
     "text": [
      "Earth Model\n",
      "----------------------------------------------------------------------------\n",
      "Basis Function                                        Pruned  Coefficient   \n",
      "----------------------------------------------------------------------------\n",
      "(Intercept)                                           No      7265.17       \n",
      "h(trimId-67312)                                       No      -0.385114     \n",
      "h(67312-trimId)                                       No      -0.0784129    \n",
      "model_name                                            No      -460005       \n",
      "power                                                 No      50.5903       \n",
      "h(mileage-116656)                                     No      -0.0256394    \n",
      "h(116656-mileage)                                     No      0.0538941     \n",
      "wheel_system_display_cat                              Yes     None          \n",
      "h(trimId-60496)*h(67312-trimId)                       No      0.00181749    \n",
      "h(60496-trimId)*h(67312-trimId)                       Yes     None          \n",
      "h(trimId-67312)*power                                 No      0.00396033    \n",
      "h(67312-trimId)*power                                 No      -0.000471043  \n",
      "power*h(trimId-67312)*power                           No      -1.83312e-05  \n",
      "city_fuel_economy*power*h(trimId-67312)*power         No      4.80116e-07   \n",
      "highway_fuel_economy*power                            No      -0.7356       \n",
      "engine_cylinders_V6*h(116656-mileage)                 Yes     None          \n",
      "torque                                                No      13.6581       \n",
      "h(trimId-16075)*wheel_system_display_cat              No      -0.0120157    \n",
      "h(16075-trimId)*wheel_system_display_cat              Yes     None          \n",
      "h(city_fuel_economy-32)*highway_fuel_economy*power    Yes     None          \n",
      "h(32-city_fuel_economy)*highway_fuel_economy*power    No      -0.0412428    \n",
      "h(savings_amount-1465)*wheel_system_display_cat       No      0.262227      \n",
      "h(1465-savings_amount)*wheel_system_display_cat       Yes     None          \n",
      "year*model_name                                       No      229.382       \n",
      "model_name*engine_cylinders_V6*h(116656-mileage)      No      -0.0168493    \n",
      "engine_displacement*h(trimId-60496)*h(67312-trimId)   No      3.33867e-07   \n",
      "model_name*h(16075-trimId)*wheel_system_display_cat   No      0.161783      \n",
      "height*h(trimId-60496)*h(67312-trimId)                No      -4.5658e-05   \n",
      "height*engine_cylinders_V6*h(116656-mileage)          No      0.000785742   \n",
      "franchise_make*h(116656-mileage)                      No      0.00241208    \n",
      "h(engine_displacement-6000)*wheel_system_display_cat  No      6.56446       \n",
      "h(6000-engine_displacement)*wheel_system_display_cat  Yes     None          \n",
      "----------------------------------------------------------------------------\n",
      "MSE: 6085273.5118, GCV: 6326329.5161, RSQ: 0.8297, GRSQ: 0.8231\n"
     ]
    }
   ],
   "source": [
    "fit_mars2 = Earth(max_terms=1000, max_degree= 6, feature_importance_type = \"rss\").fit(X_train, y_train)\n",
    "print(fit_mars2.summary())"
   ]
  },
  {
   "cell_type": "code",
   "execution_count": 416,
   "id": "b97a959f",
   "metadata": {},
   "outputs": [
    {
     "name": "stdout",
     "output_type": "stream",
     "text": [
      "Performance on MARS feature selection:\n",
      "\n",
      "Tuned MARS Train RMSE: 2466.834715144428\n",
      "Tuned MARS Train R^2 value:  0.829696074769481\n",
      "Tuned MARS Test RMSE: 2743.978978341708\n",
      "Tuned MARS Test R^2: 0.7894121729348178\n"
     ]
    }
   ],
   "source": [
    "print(\"Performance on MARS feature selection:\\n\")\n",
    "print(\"Tuned MARS Train RMSE:\", np.sqrt(fit_mars2.mse_))\n",
    "print(\"Tuned MARS Train R^2 value: \", fit_mars2.rsq_)\n",
    "print(\"Tuned MARS Test RMSE:\",mean_squared_error(y_test, fit_mars2.predict(X_test), squared = False) )\n",
    "print(\"Tuned MARS Test R^2:\", r2_score(y_test, fit_mars2.predict(X_test)))"
   ]
  },
  {
   "cell_type": "code",
   "execution_count": 417,
   "id": "6a906dc0",
   "metadata": {},
   "outputs": [
    {
     "name": "stdout",
     "output_type": "stream",
     "text": [
      "Feature importance by RSS on MARS feature selection\n",
      "\n",
      "                                           rss\n",
      "model_name                                 0.27   \n",
      "year                                       0.26   \n",
      "mileage                                    0.24   \n",
      "power                                      0.11   \n",
      "trimId                                     0.07   \n",
      "wheel_system_display_cat                   0.02   \n",
      "engine_cylinders_V6                        0.01   \n",
      "highway_fuel_economy                       0.01   \n",
      "height                                     0.01   \n",
      "city_fuel_economy                          0.00   \n",
      "engine_displacement                        0.00   \n",
      "savings_amount                             0.00   \n",
      "torque                                     0.00   \n",
      "franchise_make                             0.00   \n",
      "owner_count                                0.00   \n",
      "wheelbase                                  0.00   \n",
      "width                                      0.00   \n",
      "length                                     0.00   \n",
      "wheel_system_cat                           0.00   \n",
      "body_type_Sedan                            0.00   \n",
      "fuel_tank_volume                           0.00   \n",
      "engine_cylinders_I4                        0.00   \n",
      "transmission_display_8_Speed_Automatic     0.00   \n",
      "\n"
     ]
    }
   ],
   "source": [
    "print(\"Feature importance by RSS on MARS feature selection\\n\")\n",
    "print(fit_mars2.summary_feature_importances(sort_by = 'rss'))"
   ]
  },
  {
   "cell_type": "markdown",
   "id": "2b686813",
   "metadata": {},
   "source": [
    "Results and Takeaways: \n",
    "\n",
    "The MARS selected features model seems to outperform the model developed on our subset. There is less overfitting despite the slightly worse R^2. This makes sense because the original MARS feature selection ensured that we kept the features which best represented the data and thus it is less likely to experience over or underfitting as in our selected features. The pruning ensures that the model is performing as optimally as possible with the base parameters. \n",
    "\n",
    "It is also important to note that the performance on the model with the tuned degree is not significantly better than the performance on the base MARS model with the MARS selected features."
   ]
  },
  {
   "cell_type": "markdown",
   "id": "ae75c750",
   "metadata": {},
   "source": [
    "#### Bagging MARS"
   ]
  },
  {
   "cell_type": "markdown",
   "id": "c5232cbd",
   "metadata": {},
   "source": [
    "**First we will bag the best features selected by MARS. We will do a base MARS fitted with the MARS feature data and then a the best MARS feature.**"
   ]
  },
  {
   "cell_type": "code",
   "execution_count": 422,
   "id": "cfa76ab6",
   "metadata": {},
   "outputs": [
    {
     "name": "stdout",
     "output_type": "stream",
     "text": [
      "Bagged base MARS model Train RMSE: 2761.6200070905847\n",
      "R^2 on Train data 0.9588173903334842\n",
      "Bagged base MARS model Test RMSE: 2788.600146839992\n",
      "R^2 on Test data: 0.7784824962191642\n",
      "Feature importances show the same feature importances as the unbagged MARS models.\n"
     ]
    }
   ],
   "source": [
    "# bagging the base model for reference\n",
    "bagging_base = BaggingRegressor(base_estimator = Earth(feature_importance_type = 'rss'), \n",
    "                                random_state = 4).fit(X_train_mars, y_train_mars)\n",
    "best_rmse = 10000\n",
    "best_r2 = 0\n",
    "for estimator in bagging_base.estimators_:\n",
    "    if np.sqrt(estimator.mse_) < best_rmse:\n",
    "        best_rmse = np.sqrt(estimator.mse_)\n",
    "    if estimator.rsq_ > best_r2:\n",
    "        best_r2 = estimator.rsq_\n",
    "print(\"Bagged base MARS model Train RMSE:\", best_rmse)\n",
    "print(\"R^2 on Train data\", best_r2)\n",
    "print(\"Bagged base MARS model Test RMSE:\", mean_squared_error(y_test_mars, bagging_base.predict(X_test_mars), squared = False))\n",
    "print(\"R^2 on Test data:\", r2_score(y_test_mars, bagging_base.predict(X_test_mars)))\n",
    "print(\"Feature importances show the same feature importances as the unbagged MARS models.\")\n",
    "# for estimator in bagging_base.estimators_:\n",
    "#     print(estimator.summary_feature_importances(sort_by = \"rss\"))"
   ]
  },
  {
   "cell_type": "markdown",
   "id": "3e904e3f",
   "metadata": {},
   "source": [
    "**Now we will bag the best MARS model found on the MARS selected features and also tune the bagging grid for this model.** "
   ]
  },
  {
   "cell_type": "code",
   "execution_count": 424,
   "id": "9ffe82fe",
   "metadata": {},
   "outputs": [
    {
     "name": "stdout",
     "output_type": "stream",
     "text": [
      "Bagged base MARS model Train RMSE: 2612.6987983602867\n",
      "R^2 on Train data 0.963612437865765\n",
      "Bagged base MARS model Test RMSE: 2737.9654132203773\n",
      "R^2 on Test data: 0.7864539845171037\n",
      "Feature importances are consistent.\n"
     ]
    }
   ],
   "source": [
    "# bagging the best estimator found on the MARS selected features\n",
    "\n",
    "bagging_mars = BaggingRegressor(base_estimator = Earth(max_terms=1000, max_degree= 5, feature_importance_type = \"rss\")).fit(X_train_mars, y_train_mars)\n",
    "best_rmse = 10000\n",
    "best_r2 = 0\n",
    "for estimator in bagging_mars.estimators_:\n",
    "    if np.sqrt(estimator.mse_) < best_rmse:\n",
    "        best_rmse = np.sqrt(estimator.mse_)\n",
    "    if estimator.rsq_ > best_r2:\n",
    "        best_r2 = estimator.rsq_\n",
    "print(\"Bagged base MARS model Train RMSE:\", best_rmse)\n",
    "print(\"R^2 on Train data\", best_r2)\n",
    "print(\"Bagged base MARS model Test RMSE:\", mean_squared_error(y_test_mars, bagging_mars.predict(X_test_mars), squared = False))\n",
    "print(\"R^2 on Test data:\", r2_score(y_test_mars, bagging_mars.predict(X_test_mars)))\n",
    "print(\"Feature importances are consistent.\")"
   ]
  },
  {
   "cell_type": "code",
   "execution_count": 428,
   "id": "11f70557",
   "metadata": {},
   "outputs": [
    {
     "name": "stdout",
     "output_type": "stream",
     "text": [
      "Fitting 5 folds for each of 10 candidates, totalling 50 fits\n"
     ]
    },
    {
     "data": {
      "text/plain": [
       "RandomizedSearchCV(estimator=BaggingRegressor(base_estimator=Earth(feature_importance_type='rss',\n",
       "                                                                   max_degree=5),\n",
       "                                              random_state=4),\n",
       "                   n_jobs=-1,\n",
       "                   param_distributions={'bootstrap': [True, False],\n",
       "                                        'bootstrap_features': [True, False],\n",
       "                                        'max_features': [0.5, 0.75, 1.0],\n",
       "                                        'max_samples': [0.5, 0.75, 1.0]},\n",
       "                   scoring='neg_root_mean_squared_error', verbose=1)"
      ]
     },
     "execution_count": 428,
     "metadata": {},
     "output_type": "execute_result"
    }
   ],
   "source": [
    "# coarse grid search: optimizing bagging model \n",
    "\n",
    "bagging_opt = {'bootstrap': [True, False], \n",
    "              'bootstrap_features': [True, False],\n",
    "               'max_samples': [0.5, 0.75,1.0],\n",
    "              'max_features': [0.5, 0.75,1.0]}\n",
    "\n",
    "opt_grid = RandomizedSearchCV(estimator =  BaggingRegressor(base_estimator = Earth(max_degree= 5, feature_importance_type = \"rss\"), random_state =4), \\\n",
    "                        param_distributions = bagging_opt, verbose = 1, n_jobs = -1, scoring = 'neg_root_mean_squared_error')\n",
    "opt_grid.fit(X_train_mars, y_train_mars)"
   ]
  },
  {
   "cell_type": "code",
   "execution_count": 429,
   "id": "9a1560f8",
   "metadata": {},
   "outputs": [
    {
     "name": "stdout",
     "output_type": "stream",
     "text": [
      "The best BaggingRegressor coarse grid parameters: {'max_samples': 0.75, 'max_features': 0.5, 'bootstrap_features': False, 'bootstrap': False}\n",
      "Tuned BaggingRegressor Train RMSE: 3040.6124116396736\n",
      "Tuned BaggingRegressor R2: 0.9284106503760392\n",
      "Tuned BaggingRegressor Test RMSE:  2914.9556727676986\n",
      "Tuned BaggingRegressor R2 0.7579531323185931\n"
     ]
    }
   ],
   "source": [
    "print(\"The best BaggingRegressor coarse grid parameters:\", opt_grid.best_params_)\n",
    "\n",
    "best_rmse = 10000\n",
    "best_r2 = 0\n",
    "for estimator in opt_grid.best_estimator_.estimators_:\n",
    "    if np.sqrt(estimator.mse_) < best_rmse:\n",
    "        best_rmse = np.sqrt(estimator.mse_)\n",
    "    if estimator.rsq_ > best_r2:\n",
    "        best_r2 = estimator.rsq_\n",
    "\n",
    "print(\"Tuned BaggingRegressor Train RMSE:\", best_rmse)\n",
    "print(\"Tuned BaggingRegressor R2:\", best_r2)\n",
    "print(\"Tuned BaggingRegressor Test RMSE: \", mean_squared_error(y_test_mars, opt_grid.predict(X_test_mars), squared = False))\n",
    "print(\"Tuned BaggingRegressor R2\", r2_score(y_test_mars, opt_grid.predict(X_test_mars)))"
   ]
  },
  {
   "cell_type": "code",
   "execution_count": 2,
   "id": "0edb125f",
   "metadata": {},
   "outputs": [],
   "source": [
    "# fine grid search\n",
    "\n",
    "bagging_opt2 = {'max_samples': np.arange(0.1, 0.75, .2),\n",
    "              'max_features': np.arange(0.5, 1, .2)}\n",
    "\n",
    "opt_grid2 = RandomizedSearchCV(estimator =  BaggingRegressor(base_estimator = Earth(max_degree= 5, feature_importance_type = \"rss\"), \\\n",
    "                                                             random_state =4, bootstrap_features = False,\\\n",
    "                                                            bootstrap = False),  param_distributions = bagging_opt2, verbose = 1,\\\n",
    "                               n_jobs = -1, scoring = 'neg_root_mean_squared_error', random_state = 4, n_iter = 3)\n",
    "opt_grid2.fit(X_train_mars, y_train_mars)"
   ]
  },
  {
   "cell_type": "code",
   "execution_count": 438,
   "id": "0214337a",
   "metadata": {},
   "outputs": [
    {
     "name": "stdout",
     "output_type": "stream",
     "text": [
      "The best BaggingRegressor fine parameters: {'max_samples': 0.6, 'max_features': 0.9}\n",
      "Tuned BaggingRegressor Train RMSE: 2620.6858359626726\n",
      "Tuned BaggingRegressor R2: 0.9624349584512664\n",
      "Tuned BaggingRegressor Test RMSE:  3145.216344284546\n",
      "Tuned BaggingRegressor R2 0.718202844680064\n"
     ]
    }
   ],
   "source": [
    "print(\"The best BaggingRegressor fine parameters:\", opt_grid2.best_params_)\n",
    "\n",
    "best_rmse = 10000\n",
    "best_r2 = 0\n",
    "for estimator in opt_grid2.best_estimator_.estimators_:\n",
    "    if np.sqrt(estimator.mse_) < best_rmse:\n",
    "        best_rmse = np.sqrt(estimator.mse_)\n",
    "    if estimator.rsq_ > best_r2:\n",
    "        best_r2 = estimator.rsq_\n",
    "\n",
    "print(\"Tuned BaggingRegressor Train RMSE:\", best_rmse)\n",
    "print(\"Tuned BaggingRegressor R2:\", best_r2)\n",
    "print(\"Tuned BaggingRegressor Test RMSE: \", mean_squared_error(y_test_mars, opt_grid2.predict(X_test_mars), squared = False))\n",
    "print(\"Tuned BaggingRegressor R2\", r2_score(y_test_mars, opt_grid2.predict(X_test_mars)))"
   ]
  },
  {
   "cell_type": "markdown",
   "id": "56840f3d",
   "metadata": {},
   "source": [
    "**Finally we will bag the best MARS model found on our selected features and also tune the bagging grid for this model.**"
   ]
  },
  {
   "cell_type": "code",
   "execution_count": 75,
   "id": "8ca5e096",
   "metadata": {},
   "outputs": [
    {
     "name": "stdout",
     "output_type": "stream",
     "text": [
      "Bagged base MARS model Train RMSE: 2597.9794766802843\n",
      "R^2 on Train data 0.9632264134685602\n",
      "Bagged base MARS model Test RMSE: 2869.7450024161185\n",
      "R^2 on Test data: 0.7696658565959801\n",
      "Feature importances show the same feature importances as the unbagged MARS models.\n"
     ]
    }
   ],
   "source": [
    "# bagging the base model for reference\n",
    "bagging_base = BaggingRegressor(base_estimator = Earth(feature_importance_type = 'rss'), \n",
    "                                random_state = 4).fit(X_train, y_train)\n",
    "best_rmse = 10000\n",
    "best_r2 = 0\n",
    "for estimator in bagging_base.estimators_:\n",
    "    if np.sqrt(estimator.mse_) < best_rmse:\n",
    "        best_rmse = np.sqrt(estimator.mse_)\n",
    "    if estimator.rsq_ > best_r2:\n",
    "        best_r2 = estimator.rsq_\n",
    "print(\"Bagged base MARS model Train RMSE:\", best_rmse)\n",
    "print(\"R^2 on Train data\", best_r2)\n",
    "print(\"Bagged base MARS model Test RMSE:\", mean_squared_error(y_test, bagging_base.predict(X_test), squared = False))\n",
    "print(\"R^2 on Test data:\", r2_score(y_test, bagging_base.predict(X_test)))\n",
    "print(\"Feature importances show the same feature importances as the unbagged MARS models.\")\n",
    "# for estimator in bagging_base.estimators_:\n",
    "#     print(estimator.summary_feature_importances(sort_by = \"rss\"))"
   ]
  },
  {
   "cell_type": "code",
   "execution_count": 76,
   "id": "1af4b1ec",
   "metadata": {},
   "outputs": [
    {
     "name": "stdout",
     "output_type": "stream",
     "text": [
      "Bagged base MARS model Train RMSE: 2280.922799036446\n",
      "R^2 on Train data 0.9720576756220233\n",
      "Bagged base MARS model Test RMSE: 2940.2215805350525\n",
      "R^2 on Test data: 0.7582136243310234\n",
      "Feature importances are consistent.\n"
     ]
    }
   ],
   "source": [
    "# bagging the best estimator found on our selected features\n",
    "\n",
    "bagging_mars = BaggingRegressor(base_estimator = Earth(max_degree= 6, feature_importance_type = \"rss\")).fit(X_train, y_train)\n",
    "best_rmse = 10000\n",
    "best_r2 = 0\n",
    "for estimator in bagging_mars.estimators_:\n",
    "    if np.sqrt(estimator.mse_) < best_rmse:\n",
    "        best_rmse = np.sqrt(estimator.mse_)\n",
    "    if estimator.rsq_ > best_r2:\n",
    "        best_r2 = estimator.rsq_\n",
    "print(\"Bagged base MARS model Train RMSE:\", best_rmse)\n",
    "print(\"R^2 on Train data\", best_r2)\n",
    "print(\"Bagged base MARS model Test RMSE:\", mean_squared_error(y_test, bagging_mars.predict(X_test), squared = False))\n",
    "print(\"R^2 on Test data:\", r2_score(y_test, bagging_mars.predict(X_test)))\n",
    "print(\"Feature importances are consistent.\")"
   ]
  },
  {
   "cell_type": "code",
   "execution_count": 77,
   "id": "e0a2c00f",
   "metadata": {},
   "outputs": [
    {
     "name": "stdout",
     "output_type": "stream",
     "text": [
      "Fitting 5 folds for each of 9 candidates, totalling 45 fits\n"
     ]
    },
    {
     "data": {
      "text/plain": [
       "RandomizedSearchCV(estimator=BaggingRegressor(base_estimator=Earth(feature_importance_type='rss',\n",
       "                                                                   max_degree=6),\n",
       "                                              random_state=4),\n",
       "                   n_jobs=-1,\n",
       "                   param_distributions={'max_features': [0.5, 0.75, 1.0],\n",
       "                                        'max_samples': [0.5, 0.75, 1.0]},\n",
       "                   scoring='neg_root_mean_squared_error', verbose=1)"
      ]
     },
     "execution_count": 77,
     "metadata": {},
     "output_type": "execute_result"
    }
   ],
   "source": [
    "# coarse grid search: optimizing bagging model \n",
    "\n",
    "bagging_opt = {'max_samples': [0.5, 0.75,1.0],\n",
    "              'max_features': [0.5, 0.75,1.0]}\n",
    "\n",
    "opt_grid = RandomizedSearchCV(estimator =  BaggingRegressor(base_estimator = Earth(max_degree= 6, feature_importance_type = \"rss\"), random_state =4), \\\n",
    "                        param_distributions = bagging_opt, verbose = 1, n_jobs = -1, scoring = 'neg_root_mean_squared_error')\n",
    "opt_grid.fit(X_train, y_train)"
   ]
  },
  {
   "cell_type": "code",
   "execution_count": 79,
   "id": "fe167baf",
   "metadata": {},
   "outputs": [
    {
     "name": "stdout",
     "output_type": "stream",
     "text": [
      "The best BaggingRegressor coarse grid parameters: {'max_samples': 1.0, 'max_features': 1.0}\n"
     ]
    }
   ],
   "source": [
    "print(\"The best BaggingRegressor coarse grid parameters:\", opt_grid.best_params_)\n",
    "\n",
    "best_rmse = 10000\n",
    "best_r2 = 0\n",
    "for estimator in opt_grid.best_estimator_.estimators_:\n",
    "    if np.sqrt(estimator.mse_) < best_rmse:\n",
    "        best_rmse = np.sqrt(estimator.mse_)\n",
    "    if estimator.rsq_ > best_r2:\n",
    "        best_r2 = estimator.rsq_"
   ]
  },
  {
   "cell_type": "code",
   "execution_count": 80,
   "id": "452654ec",
   "metadata": {},
   "outputs": [
    {
     "name": "stdout",
     "output_type": "stream",
     "text": [
      "Tuned BaggingRegressor Train RMSE: 2263.553508108404\n",
      "Tuned BaggingRegressor R2: 0.9721508909839748\n",
      "Tuned BaggingRegressor Test RMSE:  2615.7244744165496\n",
      "Tuned BaggingRegressor R2 0.8086380025887268\n"
     ]
    }
   ],
   "source": [
    "print(\"Tuned BaggingRegressor Train RMSE:\", best_rmse)\n",
    "print(\"Tuned BaggingRegressor R2:\", best_r2)\n",
    "print(\"Tuned BaggingRegressor Test RMSE: \", mean_squared_error(y_test, opt_grid.predict(X_test), squared = False))\n",
    "print(\"Tuned BaggingRegressor R2\", r2_score(y_test, opt_grid.predict(X_test)))"
   ]
  },
  {
   "cell_type": "markdown",
   "id": "17b08b1e",
   "metadata": {},
   "source": [
    "**Analysis of Results** \n",
    "\n"
   ]
  },
  {
   "cell_type": "markdown",
   "id": "c121a210",
   "metadata": {},
   "source": [
    "We "
   ]
  },
  {
   "cell_type": "markdown",
   "id": "a6b2ef05",
   "metadata": {},
   "source": [
    "### Decision Trees & Bagging Decision Trees\n",
    "*By Nicole Birova*"
   ]
  },
  {
   "cell_type": "markdown",
   "id": "05b41b38",
   "metadata": {},
   "source": [
    "### Random forest \n",
    "*By Hiba Khatib*"
   ]
  },
  {
   "cell_type": "markdown",
   "id": "e0fb48ec",
   "metadata": {},
   "source": [
    "**The first set of Random Forests will be performed on the MARS selected features.**"
   ]
  },
  {
   "cell_type": "code",
   "execution_count": 81,
   "id": "5b881bb6",
   "metadata": {},
   "outputs": [
    {
     "name": "stdout",
     "output_type": "stream",
     "text": [
      "Base RandomForest Test RMSE:  2369.927998736765\n",
      "Base RandomForest Train RMSE:  936.6562391425674\n",
      "Base RandomForest R^2:  0.840005202649853\n"
     ]
    }
   ],
   "source": [
    "base_rf = RandomForestRegressor(random_state = 4).fit(X_train_mars, y_train_mars)\n",
    "print(\"Base RandomForest Test RMSE: \", mean_squared_error(y_test_mars, base_rf.predict(X_test_mars), squared = False))\n",
    "print(\"Base RandomForest Train RMSE: \", mean_squared_error(y_train_mars, base_rf.predict(X_train_mars), squared = False))\n",
    "print(\"Base RandomForest R^2: \", r2_score(y_test_mars, base_rf.predict(X_test_mars)))"
   ]
  },
  {
   "cell_type": "code",
   "execution_count": 82,
   "id": "78f2c64e",
   "metadata": {},
   "outputs": [
    {
     "data": {
      "text/html": [
       "<div>\n",
       "<style scoped>\n",
       "    .dataframe tbody tr th:only-of-type {\n",
       "        vertical-align: middle;\n",
       "    }\n",
       "\n",
       "    .dataframe tbody tr th {\n",
       "        vertical-align: top;\n",
       "    }\n",
       "\n",
       "    .dataframe thead th {\n",
       "        text-align: right;\n",
       "    }\n",
       "</style>\n",
       "<table border=\"1\" class=\"dataframe\">\n",
       "  <thead>\n",
       "    <tr style=\"text-align: right;\">\n",
       "      <th></th>\n",
       "      <th>index</th>\n",
       "      <th>0</th>\n",
       "      <th>1</th>\n",
       "    </tr>\n",
       "  </thead>\n",
       "  <tbody>\n",
       "    <tr>\n",
       "      <th>3</th>\n",
       "      <td>3</td>\n",
       "      <td>year</td>\n",
       "      <td>0.343984</td>\n",
       "    </tr>\n",
       "    <tr>\n",
       "      <th>0</th>\n",
       "      <td>0</td>\n",
       "      <td>model_name</td>\n",
       "      <td>0.242288</td>\n",
       "    </tr>\n",
       "    <tr>\n",
       "      <th>2</th>\n",
       "      <td>2</td>\n",
       "      <td>power</td>\n",
       "      <td>0.169672</td>\n",
       "    </tr>\n",
       "    <tr>\n",
       "      <th>1</th>\n",
       "      <td>1</td>\n",
       "      <td>mileage</td>\n",
       "      <td>0.147431</td>\n",
       "    </tr>\n",
       "    <tr>\n",
       "      <th>7</th>\n",
       "      <td>7</td>\n",
       "      <td>savings_amount</td>\n",
       "      <td>0.055077</td>\n",
       "    </tr>\n",
       "    <tr>\n",
       "      <th>4</th>\n",
       "      <td>4</td>\n",
       "      <td>wheel_system_cat</td>\n",
       "      <td>0.030605</td>\n",
       "    </tr>\n",
       "    <tr>\n",
       "      <th>6</th>\n",
       "      <td>6</td>\n",
       "      <td>fleet</td>\n",
       "      <td>0.005677</td>\n",
       "    </tr>\n",
       "    <tr>\n",
       "      <th>5</th>\n",
       "      <td>5</td>\n",
       "      <td>engine_cylinders_V6_Flex_Fuel_Vehicle</td>\n",
       "      <td>0.005266</td>\n",
       "    </tr>\n",
       "  </tbody>\n",
       "</table>\n",
       "</div>"
      ],
      "text/plain": [
       "   index                                      0         1\n",
       "3      3                                   year  0.343984\n",
       "0      0                             model_name  0.242288\n",
       "2      2                                  power  0.169672\n",
       "1      1                                mileage  0.147431\n",
       "7      7                         savings_amount  0.055077\n",
       "4      4                       wheel_system_cat  0.030605\n",
       "6      6                                  fleet  0.005677\n",
       "5      5  engine_cylinders_V6_Flex_Fuel_Vehicle  0.005266"
      ]
     },
     "execution_count": 82,
     "metadata": {},
     "output_type": "execute_result"
    }
   ],
   "source": [
    "base_rf_feats = pd.DataFrame(zip(base_rf.feature_names_in_, base_rf.feature_importances_)).reset_index()\n",
    "base_rf_feats.sort_values(by = base_rf_feats.columns[2], ascending = False)"
   ]
  },
  {
   "cell_type": "markdown",
   "id": "c729df79",
   "metadata": {},
   "source": [
    "#### Coarse grid search"
   ]
  },
  {
   "cell_type": "code",
   "execution_count": 83,
   "id": "256aae02",
   "metadata": {},
   "outputs": [
    {
     "name": "stdout",
     "output_type": "stream",
     "text": [
      "Fitting 5 folds for each of 72 candidates, totalling 360 fits\n"
     ]
    },
    {
     "data": {
      "text/plain": [
       "GridSearchCV(estimator=RandomForestRegressor(random_state=4), n_jobs=-1,\n",
       "             param_grid={'bootstrap': [True, False], 'max_depth': [4, 6, 8],\n",
       "                         'max_leaf_nodes': range(2, 300, 75),\n",
       "                         'n_estimators': [250, 500, 700]},\n",
       "             scoring='neg_root_mean_squared_error', verbose=1)"
      ]
     },
     "execution_count": 83,
     "metadata": {},
     "output_type": "execute_result"
    }
   ],
   "source": [
    "rf_params = {'n_estimators': [250, 500, 700], \n",
    "            'max_depth': [4, 6, 8], \n",
    "            'max_leaf_nodes': range(2, 300, 75),\n",
    "            'bootstrap': [True, False]}\n",
    "\n",
    "rf_grid = GridSearchCV(RandomForestRegressor(random_state = 4), rf_params, n_jobs = -1, verbose = 1, \n",
    "                       scoring = 'neg_root_mean_squared_error')\n",
    "rf_grid.fit(X_train_mars, y_train_mars)"
   ]
  },
  {
   "cell_type": "code",
   "execution_count": 84,
   "id": "cbf748c6",
   "metadata": {},
   "outputs": [
    {
     "name": "stdout",
     "output_type": "stream",
     "text": [
      "Best RandomForest parameters: {'bootstrap': True, 'max_depth': 8, 'max_leaf_nodes': 152, 'n_estimators': 250}\n",
      "Best model train RMSE: 2115.1675658763616\n",
      "Best model test RMSE: 2512.4214163945476\n",
      "Best model R^2: 0.8201872303352222\n"
     ]
    }
   ],
   "source": [
    "print(\"Best RandomForest parameters:\", rf_grid.best_params_)\n",
    "print(\"Best model train RMSE:\", mean_squared_error(y_train_mars, rf_grid.predict(X_train_mars), squared = False))\n",
    "print(\"Best model test RMSE:\", mean_squared_error(y_test_mars, rf_grid.predict(X_test_mars), squared = False))\n",
    "print(\"Best model R^2:\", r2_score(y_test_mars, rf_grid.predict(X_test_mars)))"
   ]
  },
  {
   "cell_type": "code",
   "execution_count": 85,
   "id": "00d58077",
   "metadata": {},
   "outputs": [
    {
     "data": {
      "text/html": [
       "<div>\n",
       "<style scoped>\n",
       "    .dataframe tbody tr th:only-of-type {\n",
       "        vertical-align: middle;\n",
       "    }\n",
       "\n",
       "    .dataframe tbody tr th {\n",
       "        vertical-align: top;\n",
       "    }\n",
       "\n",
       "    .dataframe thead th {\n",
       "        text-align: right;\n",
       "    }\n",
       "</style>\n",
       "<table border=\"1\" class=\"dataframe\">\n",
       "  <thead>\n",
       "    <tr style=\"text-align: right;\">\n",
       "      <th></th>\n",
       "      <th>index</th>\n",
       "      <th>0</th>\n",
       "      <th>1</th>\n",
       "    </tr>\n",
       "  </thead>\n",
       "  <tbody>\n",
       "    <tr>\n",
       "      <th>3</th>\n",
       "      <td>3</td>\n",
       "      <td>year</td>\n",
       "      <td>0.381062</td>\n",
       "    </tr>\n",
       "    <tr>\n",
       "      <th>0</th>\n",
       "      <td>0</td>\n",
       "      <td>model_name</td>\n",
       "      <td>0.277125</td>\n",
       "    </tr>\n",
       "    <tr>\n",
       "      <th>2</th>\n",
       "      <td>2</td>\n",
       "      <td>power</td>\n",
       "      <td>0.157509</td>\n",
       "    </tr>\n",
       "    <tr>\n",
       "      <th>1</th>\n",
       "      <td>1</td>\n",
       "      <td>mileage</td>\n",
       "      <td>0.128131</td>\n",
       "    </tr>\n",
       "    <tr>\n",
       "      <th>4</th>\n",
       "      <td>4</td>\n",
       "      <td>wheel_system_cat</td>\n",
       "      <td>0.028307</td>\n",
       "    </tr>\n",
       "    <tr>\n",
       "      <th>7</th>\n",
       "      <td>7</td>\n",
       "      <td>savings_amount</td>\n",
       "      <td>0.020797</td>\n",
       "    </tr>\n",
       "    <tr>\n",
       "      <th>5</th>\n",
       "      <td>5</td>\n",
       "      <td>engine_cylinders_V6_Flex_Fuel_Vehicle</td>\n",
       "      <td>0.004691</td>\n",
       "    </tr>\n",
       "    <tr>\n",
       "      <th>6</th>\n",
       "      <td>6</td>\n",
       "      <td>fleet</td>\n",
       "      <td>0.002377</td>\n",
       "    </tr>\n",
       "  </tbody>\n",
       "</table>\n",
       "</div>"
      ],
      "text/plain": [
       "   index                                      0         1\n",
       "3      3                                   year  0.381062\n",
       "0      0                             model_name  0.277125\n",
       "2      2                                  power  0.157509\n",
       "1      1                                mileage  0.128131\n",
       "4      4                       wheel_system_cat  0.028307\n",
       "7      7                         savings_amount  0.020797\n",
       "5      5  engine_cylinders_V6_Flex_Fuel_Vehicle  0.004691\n",
       "6      6                                  fleet  0.002377"
      ]
     },
     "execution_count": 85,
     "metadata": {},
     "output_type": "execute_result"
    }
   ],
   "source": [
    "rf_feats = pd.DataFrame(zip(rf_grid.best_estimator_.feature_names_in_, rf_grid.best_estimator_.feature_importances_)).reset_index()\n",
    "rf_feats.sort_values(by = rf_feats.columns[2], ascending = False)"
   ]
  },
  {
   "cell_type": "code",
   "execution_count": 86,
   "id": "4ca03475",
   "metadata": {},
   "outputs": [
    {
     "data": {
      "text/html": [
       "<div>\n",
       "<style scoped>\n",
       "    .dataframe tbody tr th:only-of-type {\n",
       "        vertical-align: middle;\n",
       "    }\n",
       "\n",
       "    .dataframe tbody tr th {\n",
       "        vertical-align: top;\n",
       "    }\n",
       "\n",
       "    .dataframe thead th {\n",
       "        text-align: right;\n",
       "    }\n",
       "</style>\n",
       "<table border=\"1\" class=\"dataframe\">\n",
       "  <thead>\n",
       "    <tr style=\"text-align: right;\">\n",
       "      <th></th>\n",
       "      <th>mean_fit_time</th>\n",
       "      <th>std_fit_time</th>\n",
       "      <th>mean_score_time</th>\n",
       "      <th>std_score_time</th>\n",
       "      <th>param_bootstrap</th>\n",
       "      <th>param_max_depth</th>\n",
       "      <th>param_max_leaf_nodes</th>\n",
       "      <th>param_n_estimators</th>\n",
       "      <th>params</th>\n",
       "      <th>split0_test_score</th>\n",
       "      <th>split1_test_score</th>\n",
       "      <th>split2_test_score</th>\n",
       "      <th>split3_test_score</th>\n",
       "      <th>split4_test_score</th>\n",
       "      <th>mean_test_score</th>\n",
       "      <th>std_test_score</th>\n",
       "      <th>rank_test_score</th>\n",
       "    </tr>\n",
       "  </thead>\n",
       "  <tbody>\n",
       "    <tr>\n",
       "      <th>0</th>\n",
       "      <td>0.557264</td>\n",
       "      <td>0.023031</td>\n",
       "      <td>0.025252</td>\n",
       "      <td>0.004624</td>\n",
       "      <td>True</td>\n",
       "      <td>4</td>\n",
       "      <td>2</td>\n",
       "      <td>250</td>\n",
       "      <td>{'bootstrap': True, 'max_depth': 4, 'max_leaf_...</td>\n",
       "      <td>-4695.255873</td>\n",
       "      <td>-4812.806394</td>\n",
       "      <td>-4908.589487</td>\n",
       "      <td>-5099.346146</td>\n",
       "      <td>-5320.735759</td>\n",
       "      <td>-4967.346732</td>\n",
       "      <td>220.760601</td>\n",
       "      <td>55</td>\n",
       "    </tr>\n",
       "    <tr>\n",
       "      <th>1</th>\n",
       "      <td>1.220450</td>\n",
       "      <td>0.056842</td>\n",
       "      <td>0.046306</td>\n",
       "      <td>0.003225</td>\n",
       "      <td>True</td>\n",
       "      <td>4</td>\n",
       "      <td>2</td>\n",
       "      <td>500</td>\n",
       "      <td>{'bootstrap': True, 'max_depth': 4, 'max_leaf_...</td>\n",
       "      <td>-4692.579909</td>\n",
       "      <td>-4812.292887</td>\n",
       "      <td>-4926.218685</td>\n",
       "      <td>-5100.746773</td>\n",
       "      <td>-5321.148496</td>\n",
       "      <td>-4970.597350</td>\n",
       "      <td>220.974408</td>\n",
       "      <td>58</td>\n",
       "    </tr>\n",
       "  </tbody>\n",
       "</table>\n",
       "</div>"
      ],
      "text/plain": [
       "   mean_fit_time  std_fit_time  mean_score_time  std_score_time  \\\n",
       "0       0.557264      0.023031         0.025252        0.004624   \n",
       "1       1.220450      0.056842         0.046306        0.003225   \n",
       "\n",
       "  param_bootstrap param_max_depth param_max_leaf_nodes param_n_estimators  \\\n",
       "0            True               4                    2                250   \n",
       "1            True               4                    2                500   \n",
       "\n",
       "                                              params  split0_test_score  \\\n",
       "0  {'bootstrap': True, 'max_depth': 4, 'max_leaf_...       -4695.255873   \n",
       "1  {'bootstrap': True, 'max_depth': 4, 'max_leaf_...       -4692.579909   \n",
       "\n",
       "   split1_test_score  split2_test_score  split3_test_score  split4_test_score  \\\n",
       "0       -4812.806394       -4908.589487       -5099.346146       -5320.735759   \n",
       "1       -4812.292887       -4926.218685       -5100.746773       -5321.148496   \n",
       "\n",
       "   mean_test_score  std_test_score  rank_test_score  \n",
       "0     -4967.346732      220.760601               55  \n",
       "1     -4970.597350      220.974408               58  "
      ]
     },
     "execution_count": 86,
     "metadata": {},
     "output_type": "execute_result"
    }
   ],
   "source": [
    "rf_results = pd.DataFrame(rf_grid.cv_results_)\n",
    "rf_results.head(2)"
   ]
  },
  {
   "cell_type": "code",
   "execution_count": 90,
   "id": "9224cfcd",
   "metadata": {},
   "outputs": [
    {
     "data": {
      "image/png": "[encoded data removed]",
      "text/plain": [
       "<Figure size 1008x360 with 3 Axes>"
      ]
     },
     "metadata": {
      "needs_background": "light"
     },
     "output_type": "display_data"
    }
   ],
   "source": [
    "fig, axes = plt.subplots(1,3,figsize=(14,5))\n",
    "plt.subplots_adjust(wspace=0.2)\n",
    "axes[0].plot(rf_results.param_max_leaf_nodes, (-rf_results.mean_test_score), 'o')\n",
    "axes[0].set_xlabel('max leaf nodes')\n",
    "axes[0].set_ylabel('MAE')\n",
    "axes[1].plot(rf_results.param_n_estimators,(-rf_results.mean_test_score), 'o')\n",
    "axes[1].set_xlabel('n estimators')\n",
    "axes[1].set_ylabel('MAE');\n",
    "axes[2].plot(rf_results.param_max_depth,(-rf_results.mean_test_score), 'o')\n",
    "axes[2].set_xlabel(' max_depth')\n",
    "axes[2].set_ylabel('MAE');"
   ]
  },
  {
   "cell_type": "markdown",
   "id": "bcf0f87d",
   "metadata": {},
   "source": [
    "#### Fine Grid Search"
   ]
  },
  {
   "cell_type": "code",
   "execution_count": 92,
   "id": "a81843b6",
   "metadata": {},
   "outputs": [
    {
     "name": "stdout",
     "output_type": "stream",
     "text": [
      "Fitting 5 folds for each of 18 candidates, totalling 90 fits\n"
     ]
    },
    {
     "data": {
      "text/plain": [
       "GridSearchCV(estimator=RandomForestRegressor(random_state=4), n_jobs=-1,\n",
       "             param_grid={'max_depth': [6, 8, 10], 'max_leaf_nodes': [250, 300],\n",
       "                         'n_estimators': [400, 700, 900]},\n",
       "             scoring='neg_root_mean_squared_error', verbose=1)"
      ]
     },
     "execution_count": 92,
     "metadata": {},
     "output_type": "execute_result"
    }
   ],
   "source": [
    "rf_params2 = {'n_estimators': [400, 700, 900], \n",
    "            'max_depth': [6, 8, 10], \n",
    "            'max_leaf_nodes': [250, 300]}\n",
    "\n",
    "rf_grid2 = GridSearchCV(RandomForestRegressor(random_state = 4, bootstrap = True), rf_params2, n_jobs = -1, verbose = 1, \n",
    "                       scoring = 'neg_root_mean_squared_error')\n",
    "rf_grid2.fit(X_train_mars, y_train_mars)"
   ]
  },
  {
   "cell_type": "code",
   "execution_count": 93,
   "id": "a46ad562",
   "metadata": {},
   "outputs": [
    {
     "name": "stdout",
     "output_type": "stream",
     "text": [
      "Best RandomForest parameters: {'max_depth': 10, 'max_leaf_nodes': 300, 'n_estimators': 400}\n",
      "Best model train RMSE: 1760.3116869136927\n",
      "Best model test RMSE: 2411.105836013617\n",
      "Best model R^2: 0.8343970360415414\n"
     ]
    },
    {
     "data": {
      "text/html": [
       "<div>\n",
       "<style scoped>\n",
       "    .dataframe tbody tr th:only-of-type {\n",
       "        vertical-align: middle;\n",
       "    }\n",
       "\n",
       "    .dataframe tbody tr th {\n",
       "        vertical-align: top;\n",
       "    }\n",
       "\n",
       "    .dataframe thead th {\n",
       "        text-align: right;\n",
       "    }\n",
       "</style>\n",
       "<table border=\"1\" class=\"dataframe\">\n",
       "  <thead>\n",
       "    <tr style=\"text-align: right;\">\n",
       "      <th></th>\n",
       "      <th>index</th>\n",
       "      <th>0</th>\n",
       "      <th>1</th>\n",
       "    </tr>\n",
       "  </thead>\n",
       "  <tbody>\n",
       "    <tr>\n",
       "      <th>3</th>\n",
       "      <td>3</td>\n",
       "      <td>year</td>\n",
       "      <td>0.366251</td>\n",
       "    </tr>\n",
       "    <tr>\n",
       "      <th>0</th>\n",
       "      <td>0</td>\n",
       "      <td>model_name</td>\n",
       "      <td>0.264704</td>\n",
       "    </tr>\n",
       "    <tr>\n",
       "      <th>2</th>\n",
       "      <td>2</td>\n",
       "      <td>power</td>\n",
       "      <td>0.163420</td>\n",
       "    </tr>\n",
       "    <tr>\n",
       "      <th>1</th>\n",
       "      <td>1</td>\n",
       "      <td>mileage</td>\n",
       "      <td>0.134579</td>\n",
       "    </tr>\n",
       "    <tr>\n",
       "      <th>7</th>\n",
       "      <td>7</td>\n",
       "      <td>savings_amount</td>\n",
       "      <td>0.032096</td>\n",
       "    </tr>\n",
       "    <tr>\n",
       "      <th>4</th>\n",
       "      <td>4</td>\n",
       "      <td>wheel_system_cat</td>\n",
       "      <td>0.029813</td>\n",
       "    </tr>\n",
       "    <tr>\n",
       "      <th>5</th>\n",
       "      <td>5</td>\n",
       "      <td>engine_cylinders_V6_Flex_Fuel_Vehicle</td>\n",
       "      <td>0.005402</td>\n",
       "    </tr>\n",
       "    <tr>\n",
       "      <th>6</th>\n",
       "      <td>6</td>\n",
       "      <td>fleet</td>\n",
       "      <td>0.003734</td>\n",
       "    </tr>\n",
       "  </tbody>\n",
       "</table>\n",
       "</div>"
      ],
      "text/plain": [
       "   index                                      0         1\n",
       "3      3                                   year  0.366251\n",
       "0      0                             model_name  0.264704\n",
       "2      2                                  power  0.163420\n",
       "1      1                                mileage  0.134579\n",
       "7      7                         savings_amount  0.032096\n",
       "4      4                       wheel_system_cat  0.029813\n",
       "5      5  engine_cylinders_V6_Flex_Fuel_Vehicle  0.005402\n",
       "6      6                                  fleet  0.003734"
      ]
     },
     "execution_count": 93,
     "metadata": {},
     "output_type": "execute_result"
    }
   ],
   "source": [
    "print(\"Best RandomForest parameters:\", rf_grid2.best_params_)\n",
    "print(\"Best model train RMSE:\", mean_squared_error(y_train_mars, rf_grid2.predict(X_train_mars), squared = False))\n",
    "print(\"Best model test RMSE:\", mean_squared_error(y_test_mars, rf_grid2.predict(X_test_mars), squared = False))\n",
    "print(\"Best model R^2:\", r2_score(y_test_mars, rf_grid2.predict(X_test_mars)))\n",
    "rf_feats2 = pd.DataFrame(zip(rf_grid2.best_estimator_.feature_names_in_, rf_grid2.best_estimator_.feature_importances_)).reset_index()\n",
    "rf_feats2.sort_values(by = rf_feats2.columns[2], ascending = False)"
   ]
  },
  {
   "cell_type": "markdown",
   "id": "fac22144",
   "metadata": {},
   "source": [
    "**Now we will continue with analysis on our selected features**"
   ]
  },
  {
   "cell_type": "code",
   "execution_count": 94,
   "id": "34c5adee",
   "metadata": {},
   "outputs": [
    {
     "name": "stdout",
     "output_type": "stream",
     "text": [
      "Base RandomForest Test RMSE:  2320.299016980909\n",
      "Base RandomForest Train RMSE:  811.3938236091882\n",
      "Base RandomForest R^2:  0.8494226618329384\n"
     ]
    }
   ],
   "source": [
    "base_rf = RandomForestRegressor(random_state = 4).fit(X_train, y_train)\n",
    "print(\"Base RandomForest Test RMSE: \", mean_squared_error(y_test, base_rf.predict(X_test), squared = False))\n",
    "print(\"Base RandomForest Train RMSE: \", mean_squared_error(y_train, base_rf.predict(X_train), squared = False))\n",
    "print(\"Base RandomForest R^2: \", r2_score(y_test, base_rf.predict(X_test)))"
   ]
  },
  {
   "cell_type": "code",
   "execution_count": 95,
   "id": "944cdc00",
   "metadata": {},
   "outputs": [
    {
     "data": {
      "text/html": [
       "<div>\n",
       "<style scoped>\n",
       "    .dataframe tbody tr th:only-of-type {\n",
       "        vertical-align: middle;\n",
       "    }\n",
       "\n",
       "    .dataframe tbody tr th {\n",
       "        vertical-align: top;\n",
       "    }\n",
       "\n",
       "    .dataframe thead th {\n",
       "        text-align: right;\n",
       "    }\n",
       "</style>\n",
       "<table border=\"1\" class=\"dataframe\">\n",
       "  <thead>\n",
       "    <tr style=\"text-align: right;\">\n",
       "      <th></th>\n",
       "      <th>index</th>\n",
       "      <th>0</th>\n",
       "      <th>1</th>\n",
       "    </tr>\n",
       "  </thead>\n",
       "  <tbody>\n",
       "    <tr>\n",
       "      <th>13</th>\n",
       "      <td>13</td>\n",
       "      <td>trimId</td>\n",
       "      <td>0.367903</td>\n",
       "    </tr>\n",
       "    <tr>\n",
       "      <th>8</th>\n",
       "      <td>8</td>\n",
       "      <td>model_name</td>\n",
       "      <td>0.206468</td>\n",
       "    </tr>\n",
       "    <tr>\n",
       "      <th>10</th>\n",
       "      <td>10</td>\n",
       "      <td>power</td>\n",
       "      <td>0.117995</td>\n",
       "    </tr>\n",
       "    <tr>\n",
       "      <th>7</th>\n",
       "      <td>7</td>\n",
       "      <td>mileage</td>\n",
       "      <td>0.109063</td>\n",
       "    </tr>\n",
       "    <tr>\n",
       "      <th>12</th>\n",
       "      <td>12</td>\n",
       "      <td>torque</td>\n",
       "      <td>0.028295</td>\n",
       "    </tr>\n",
       "    <tr>\n",
       "      <th>16</th>\n",
       "      <td>16</td>\n",
       "      <td>year</td>\n",
       "      <td>0.025966</td>\n",
       "    </tr>\n",
       "    <tr>\n",
       "      <th>11</th>\n",
       "      <td>11</td>\n",
       "      <td>savings_amount</td>\n",
       "      <td>0.024256</td>\n",
       "    </tr>\n",
       "    <tr>\n",
       "      <th>4</th>\n",
       "      <td>4</td>\n",
       "      <td>height</td>\n",
       "      <td>0.015664</td>\n",
       "    </tr>\n",
       "    <tr>\n",
       "      <th>6</th>\n",
       "      <td>6</td>\n",
       "      <td>length</td>\n",
       "      <td>0.013655</td>\n",
       "    </tr>\n",
       "    <tr>\n",
       "      <th>5</th>\n",
       "      <td>5</td>\n",
       "      <td>highway_fuel_economy</td>\n",
       "      <td>0.011459</td>\n",
       "    </tr>\n",
       "    <tr>\n",
       "      <th>3</th>\n",
       "      <td>3</td>\n",
       "      <td>fuel_tank_volume</td>\n",
       "      <td>0.011209</td>\n",
       "    </tr>\n",
       "    <tr>\n",
       "      <th>15</th>\n",
       "      <td>15</td>\n",
       "      <td>width</td>\n",
       "      <td>0.011103</td>\n",
       "    </tr>\n",
       "    <tr>\n",
       "      <th>21</th>\n",
       "      <td>21</td>\n",
       "      <td>engine_cylinders_V6</td>\n",
       "      <td>0.010807</td>\n",
       "    </tr>\n",
       "    <tr>\n",
       "      <th>14</th>\n",
       "      <td>14</td>\n",
       "      <td>wheelbase</td>\n",
       "      <td>0.008779</td>\n",
       "    </tr>\n",
       "    <tr>\n",
       "      <th>18</th>\n",
       "      <td>18</td>\n",
       "      <td>wheel_system_display_cat</td>\n",
       "      <td>0.008285</td>\n",
       "    </tr>\n",
       "    <tr>\n",
       "      <th>17</th>\n",
       "      <td>17</td>\n",
       "      <td>wheel_system_cat</td>\n",
       "      <td>0.006988</td>\n",
       "    </tr>\n",
       "    <tr>\n",
       "      <th>0</th>\n",
       "      <td>0</td>\n",
       "      <td>city_fuel_economy</td>\n",
       "      <td>0.006192</td>\n",
       "    </tr>\n",
       "    <tr>\n",
       "      <th>1</th>\n",
       "      <td>1</td>\n",
       "      <td>engine_displacement</td>\n",
       "      <td>0.005792</td>\n",
       "    </tr>\n",
       "    <tr>\n",
       "      <th>2</th>\n",
       "      <td>2</td>\n",
       "      <td>franchise_make</td>\n",
       "      <td>0.004500</td>\n",
       "    </tr>\n",
       "    <tr>\n",
       "      <th>9</th>\n",
       "      <td>9</td>\n",
       "      <td>owner_count</td>\n",
       "      <td>0.003003</td>\n",
       "    </tr>\n",
       "    <tr>\n",
       "      <th>22</th>\n",
       "      <td>22</td>\n",
       "      <td>transmission_display_8_Speed_Automatic</td>\n",
       "      <td>0.001193</td>\n",
       "    </tr>\n",
       "    <tr>\n",
       "      <th>19</th>\n",
       "      <td>19</td>\n",
       "      <td>body_type_Sedan</td>\n",
       "      <td>0.000981</td>\n",
       "    </tr>\n",
       "    <tr>\n",
       "      <th>20</th>\n",
       "      <td>20</td>\n",
       "      <td>engine_cylinders_I4</td>\n",
       "      <td>0.000442</td>\n",
       "    </tr>\n",
       "  </tbody>\n",
       "</table>\n",
       "</div>"
      ],
      "text/plain": [
       "    index                                       0         1\n",
       "13     13                                  trimId  0.367903\n",
       "8       8                              model_name  0.206468\n",
       "10     10                                   power  0.117995\n",
       "7       7                                 mileage  0.109063\n",
       "12     12                                  torque  0.028295\n",
       "16     16                                    year  0.025966\n",
       "11     11                          savings_amount  0.024256\n",
       "4       4                                  height  0.015664\n",
       "6       6                                  length  0.013655\n",
       "5       5                    highway_fuel_economy  0.011459\n",
       "3       3                        fuel_tank_volume  0.011209\n",
       "15     15                                   width  0.011103\n",
       "21     21                     engine_cylinders_V6  0.010807\n",
       "14     14                               wheelbase  0.008779\n",
       "18     18                wheel_system_display_cat  0.008285\n",
       "17     17                        wheel_system_cat  0.006988\n",
       "0       0                       city_fuel_economy  0.006192\n",
       "1       1                     engine_displacement  0.005792\n",
       "2       2                          franchise_make  0.004500\n",
       "9       9                             owner_count  0.003003\n",
       "22     22  transmission_display_8_Speed_Automatic  0.001193\n",
       "19     19                         body_type_Sedan  0.000981\n",
       "20     20                     engine_cylinders_I4  0.000442"
      ]
     },
     "execution_count": 95,
     "metadata": {},
     "output_type": "execute_result"
    }
   ],
   "source": [
    "base_rf_feats = pd.DataFrame(zip(base_rf.feature_names_in_, base_rf.feature_importances_)).reset_index()\n",
    "base_rf_feats.sort_values(by = base_rf_feats.columns[2], ascending = False)"
   ]
  },
  {
   "cell_type": "code",
   "execution_count": null,
   "id": "a4fdb237",
   "metadata": {},
   "outputs": [],
   "source": [
    "#### Coarse GridSearch"
   ]
  },
  {
   "cell_type": "code",
   "execution_count": 96,
   "id": "9661edaa",
   "metadata": {},
   "outputs": [
    {
     "name": "stdout",
     "output_type": "stream",
     "text": [
      "Fitting 5 folds for each of 72 candidates, totalling 360 fits\n",
      "Best RandomForest parameters: {'bootstrap': True, 'max_depth': 8, 'max_leaf_nodes': 227, 'n_estimators': 700}\n",
      "Best model train RMSE: 1798.8381156882924\n",
      "Best model test RMSE: 2515.1964258302187\n",
      "Best model R^2: 0.8230642798700507\n"
     ]
    },
    {
     "data": {
      "text/html": [
       "<div>\n",
       "<style scoped>\n",
       "    .dataframe tbody tr th:only-of-type {\n",
       "        vertical-align: middle;\n",
       "    }\n",
       "\n",
       "    .dataframe tbody tr th {\n",
       "        vertical-align: top;\n",
       "    }\n",
       "\n",
       "    .dataframe thead th {\n",
       "        text-align: right;\n",
       "    }\n",
       "</style>\n",
       "<table border=\"1\" class=\"dataframe\">\n",
       "  <thead>\n",
       "    <tr style=\"text-align: right;\">\n",
       "      <th></th>\n",
       "      <th>index</th>\n",
       "      <th>0</th>\n",
       "      <th>1</th>\n",
       "    </tr>\n",
       "  </thead>\n",
       "  <tbody>\n",
       "    <tr>\n",
       "      <th>13</th>\n",
       "      <td>13</td>\n",
       "      <td>trimId</td>\n",
       "      <td>0.397924</td>\n",
       "    </tr>\n",
       "    <tr>\n",
       "      <th>8</th>\n",
       "      <td>8</td>\n",
       "      <td>model_name</td>\n",
       "      <td>0.227093</td>\n",
       "    </tr>\n",
       "    <tr>\n",
       "      <th>10</th>\n",
       "      <td>10</td>\n",
       "      <td>power</td>\n",
       "      <td>0.122868</td>\n",
       "    </tr>\n",
       "    <tr>\n",
       "      <th>7</th>\n",
       "      <td>7</td>\n",
       "      <td>mileage</td>\n",
       "      <td>0.102456</td>\n",
       "    </tr>\n",
       "    <tr>\n",
       "      <th>12</th>\n",
       "      <td>12</td>\n",
       "      <td>torque</td>\n",
       "      <td>0.028858</td>\n",
       "    </tr>\n",
       "    <tr>\n",
       "      <th>16</th>\n",
       "      <td>16</td>\n",
       "      <td>year</td>\n",
       "      <td>0.022507</td>\n",
       "    </tr>\n",
       "    <tr>\n",
       "      <th>4</th>\n",
       "      <td>4</td>\n",
       "      <td>height</td>\n",
       "      <td>0.011860</td>\n",
       "    </tr>\n",
       "    <tr>\n",
       "      <th>21</th>\n",
       "      <td>21</td>\n",
       "      <td>engine_cylinders_V6</td>\n",
       "      <td>0.010883</td>\n",
       "    </tr>\n",
       "    <tr>\n",
       "      <th>6</th>\n",
       "      <td>6</td>\n",
       "      <td>length</td>\n",
       "      <td>0.010647</td>\n",
       "    </tr>\n",
       "    <tr>\n",
       "      <th>11</th>\n",
       "      <td>11</td>\n",
       "      <td>savings_amount</td>\n",
       "      <td>0.008886</td>\n",
       "    </tr>\n",
       "    <tr>\n",
       "      <th>5</th>\n",
       "      <td>5</td>\n",
       "      <td>highway_fuel_economy</td>\n",
       "      <td>0.008685</td>\n",
       "    </tr>\n",
       "    <tr>\n",
       "      <th>15</th>\n",
       "      <td>15</td>\n",
       "      <td>width</td>\n",
       "      <td>0.008171</td>\n",
       "    </tr>\n",
       "    <tr>\n",
       "      <th>3</th>\n",
       "      <td>3</td>\n",
       "      <td>fuel_tank_volume</td>\n",
       "      <td>0.007906</td>\n",
       "    </tr>\n",
       "    <tr>\n",
       "      <th>17</th>\n",
       "      <td>17</td>\n",
       "      <td>wheel_system_cat</td>\n",
       "      <td>0.007112</td>\n",
       "    </tr>\n",
       "    <tr>\n",
       "      <th>18</th>\n",
       "      <td>18</td>\n",
       "      <td>wheel_system_display_cat</td>\n",
       "      <td>0.007047</td>\n",
       "    </tr>\n",
       "    <tr>\n",
       "      <th>14</th>\n",
       "      <td>14</td>\n",
       "      <td>wheelbase</td>\n",
       "      <td>0.006170</td>\n",
       "    </tr>\n",
       "    <tr>\n",
       "      <th>1</th>\n",
       "      <td>1</td>\n",
       "      <td>engine_displacement</td>\n",
       "      <td>0.003463</td>\n",
       "    </tr>\n",
       "    <tr>\n",
       "      <th>0</th>\n",
       "      <td>0</td>\n",
       "      <td>city_fuel_economy</td>\n",
       "      <td>0.003062</td>\n",
       "    </tr>\n",
       "    <tr>\n",
       "      <th>9</th>\n",
       "      <td>9</td>\n",
       "      <td>owner_count</td>\n",
       "      <td>0.001666</td>\n",
       "    </tr>\n",
       "    <tr>\n",
       "      <th>2</th>\n",
       "      <td>2</td>\n",
       "      <td>franchise_make</td>\n",
       "      <td>0.001565</td>\n",
       "    </tr>\n",
       "    <tr>\n",
       "      <th>22</th>\n",
       "      <td>22</td>\n",
       "      <td>transmission_display_8_Speed_Automatic</td>\n",
       "      <td>0.000580</td>\n",
       "    </tr>\n",
       "    <tr>\n",
       "      <th>19</th>\n",
       "      <td>19</td>\n",
       "      <td>body_type_Sedan</td>\n",
       "      <td>0.000419</td>\n",
       "    </tr>\n",
       "    <tr>\n",
       "      <th>20</th>\n",
       "      <td>20</td>\n",
       "      <td>engine_cylinders_I4</td>\n",
       "      <td>0.000169</td>\n",
       "    </tr>\n",
       "  </tbody>\n",
       "</table>\n",
       "</div>"
      ],
      "text/plain": [
       "    index                                       0         1\n",
       "13     13                                  trimId  0.397924\n",
       "8       8                              model_name  0.227093\n",
       "10     10                                   power  0.122868\n",
       "7       7                                 mileage  0.102456\n",
       "12     12                                  torque  0.028858\n",
       "16     16                                    year  0.022507\n",
       "4       4                                  height  0.011860\n",
       "21     21                     engine_cylinders_V6  0.010883\n",
       "6       6                                  length  0.010647\n",
       "11     11                          savings_amount  0.008886\n",
       "5       5                    highway_fuel_economy  0.008685\n",
       "15     15                                   width  0.008171\n",
       "3       3                        fuel_tank_volume  0.007906\n",
       "17     17                        wheel_system_cat  0.007112\n",
       "18     18                wheel_system_display_cat  0.007047\n",
       "14     14                               wheelbase  0.006170\n",
       "1       1                     engine_displacement  0.003463\n",
       "0       0                       city_fuel_economy  0.003062\n",
       "9       9                             owner_count  0.001666\n",
       "2       2                          franchise_make  0.001565\n",
       "22     22  transmission_display_8_Speed_Automatic  0.000580\n",
       "19     19                         body_type_Sedan  0.000419\n",
       "20     20                     engine_cylinders_I4  0.000169"
      ]
     },
     "execution_count": 96,
     "metadata": {},
     "output_type": "execute_result"
    }
   ],
   "source": [
    "rf_params = {'n_estimators': [250, 500, 700], \n",
    "            'max_depth': [4, 6, 8], \n",
    "            'max_leaf_nodes': range(2, 300, 75),\n",
    "            'bootstrap': [True, False]}\n",
    "\n",
    "rf_grid = GridSearchCV(RandomForestRegressor(random_state = 4), rf_params, n_jobs = -1, verbose = 1, \n",
    "                       scoring = 'neg_root_mean_squared_error')\n",
    "rf_grid.fit(X_train, y_train)\n",
    "\n",
    "print(\"Best RandomForest parameters:\", rf_grid.best_params_)\n",
    "print(\"Best model train RMSE:\", mean_squared_error(y_train, rf_grid.predict(X_train), squared = False))\n",
    "print(\"Best model test RMSE:\", mean_squared_error(y_test, rf_grid.predict(X_test), squared = False))\n",
    "print(\"Best model R^2:\", r2_score(y_test, rf_grid.predict(X_test)))\n",
    "\n",
    "rf_feats = pd.DataFrame(zip(rf_grid.best_estimator_.feature_names_in_, rf_grid.best_estimator_.feature_importances_)).reset_index()\n",
    "rf_feats.sort_values(by = rf_feats.columns[2], ascending = False)"
   ]
  },
  {
   "cell_type": "code",
   "execution_count": 97,
   "id": "8c8ecf7c",
   "metadata": {},
   "outputs": [
    {
     "data": {
      "image/png": "[encoded data removed]",
      "text/plain": [
       "<Figure size 1008x360 with 3 Axes>"
      ]
     },
     "metadata": {
      "needs_background": "light"
     },
     "output_type": "display_data"
    }
   ],
   "source": [
    "fig, axes = plt.subplots(1,3,figsize=(14,5))\n",
    "plt.subplots_adjust(wspace=0.2)\n",
    "axes[0].plot(rf_results.param_max_leaf_nodes, (-rf_results.mean_test_score), 'o')\n",
    "axes[0].set_xlabel('max leaf nodes')\n",
    "axes[0].set_ylabel('MAE')\n",
    "axes[1].plot(rf_results.param_n_estimators,(-rf_results.mean_test_score), 'o')\n",
    "axes[1].set_xlabel('n estimators')\n",
    "axes[1].set_ylabel('MAE');\n",
    "axes[2].plot(rf_results.param_max_depth,(-rf_results.mean_test_score), 'o')\n",
    "axes[2].set_xlabel('max_depth')\n",
    "axes[2].set_ylabel('MAE');"
   ]
  },
  {
   "cell_type": "code",
   "execution_count": null,
   "id": "0023b772",
   "metadata": {},
   "outputs": [],
   "source": [
    "#### fine grid search"
   ]
  },
  {
   "cell_type": "code",
   "execution_count": 98,
   "id": "57db224a",
   "metadata": {},
   "outputs": [
    {
     "name": "stdout",
     "output_type": "stream",
     "text": [
      "Fitting 5 folds for each of 63 candidates, totalling 315 fits\n",
      "Best RandomForest parameters: {'max_depth': 10, 'max_leaf_nodes': 340, 'n_estimators': 500}\n",
      "Best model train RMSE: 1424.986609472238\n",
      "Best model test RMSE: 2385.598110495618\n",
      "Best model R^2: 0.8408281485903418\n"
     ]
    },
    {
     "data": {
      "text/html": [
       "<div>\n",
       "<style scoped>\n",
       "    .dataframe tbody tr th:only-of-type {\n",
       "        vertical-align: middle;\n",
       "    }\n",
       "\n",
       "    .dataframe tbody tr th {\n",
       "        vertical-align: top;\n",
       "    }\n",
       "\n",
       "    .dataframe thead th {\n",
       "        text-align: right;\n",
       "    }\n",
       "</style>\n",
       "<table border=\"1\" class=\"dataframe\">\n",
       "  <thead>\n",
       "    <tr style=\"text-align: right;\">\n",
       "      <th></th>\n",
       "      <th>index</th>\n",
       "      <th>0</th>\n",
       "      <th>1</th>\n",
       "    </tr>\n",
       "  </thead>\n",
       "  <tbody>\n",
       "    <tr>\n",
       "      <th>13</th>\n",
       "      <td>13</td>\n",
       "      <td>trimId</td>\n",
       "      <td>0.384392</td>\n",
       "    </tr>\n",
       "    <tr>\n",
       "      <th>8</th>\n",
       "      <td>8</td>\n",
       "      <td>model_name</td>\n",
       "      <td>0.216342</td>\n",
       "    </tr>\n",
       "    <tr>\n",
       "      <th>10</th>\n",
       "      <td>10</td>\n",
       "      <td>power</td>\n",
       "      <td>0.119587</td>\n",
       "    </tr>\n",
       "    <tr>\n",
       "      <th>7</th>\n",
       "      <td>7</td>\n",
       "      <td>mileage</td>\n",
       "      <td>0.105961</td>\n",
       "    </tr>\n",
       "    <tr>\n",
       "      <th>12</th>\n",
       "      <td>12</td>\n",
       "      <td>torque</td>\n",
       "      <td>0.030705</td>\n",
       "    </tr>\n",
       "    <tr>\n",
       "      <th>16</th>\n",
       "      <td>16</td>\n",
       "      <td>year</td>\n",
       "      <td>0.022599</td>\n",
       "    </tr>\n",
       "    <tr>\n",
       "      <th>4</th>\n",
       "      <td>4</td>\n",
       "      <td>height</td>\n",
       "      <td>0.014340</td>\n",
       "    </tr>\n",
       "    <tr>\n",
       "      <th>11</th>\n",
       "      <td>11</td>\n",
       "      <td>savings_amount</td>\n",
       "      <td>0.014279</td>\n",
       "    </tr>\n",
       "    <tr>\n",
       "      <th>6</th>\n",
       "      <td>6</td>\n",
       "      <td>length</td>\n",
       "      <td>0.012538</td>\n",
       "    </tr>\n",
       "    <tr>\n",
       "      <th>21</th>\n",
       "      <td>21</td>\n",
       "      <td>engine_cylinders_V6</td>\n",
       "      <td>0.010676</td>\n",
       "    </tr>\n",
       "    <tr>\n",
       "      <th>15</th>\n",
       "      <td>15</td>\n",
       "      <td>width</td>\n",
       "      <td>0.010466</td>\n",
       "    </tr>\n",
       "    <tr>\n",
       "      <th>5</th>\n",
       "      <td>5</td>\n",
       "      <td>highway_fuel_economy</td>\n",
       "      <td>0.009993</td>\n",
       "    </tr>\n",
       "    <tr>\n",
       "      <th>3</th>\n",
       "      <td>3</td>\n",
       "      <td>fuel_tank_volume</td>\n",
       "      <td>0.009782</td>\n",
       "    </tr>\n",
       "    <tr>\n",
       "      <th>14</th>\n",
       "      <td>14</td>\n",
       "      <td>wheelbase</td>\n",
       "      <td>0.007699</td>\n",
       "    </tr>\n",
       "    <tr>\n",
       "      <th>18</th>\n",
       "      <td>18</td>\n",
       "      <td>wheel_system_display_cat</td>\n",
       "      <td>0.007544</td>\n",
       "    </tr>\n",
       "    <tr>\n",
       "      <th>17</th>\n",
       "      <td>17</td>\n",
       "      <td>wheel_system_cat</td>\n",
       "      <td>0.007222</td>\n",
       "    </tr>\n",
       "    <tr>\n",
       "      <th>1</th>\n",
       "      <td>1</td>\n",
       "      <td>engine_displacement</td>\n",
       "      <td>0.004716</td>\n",
       "    </tr>\n",
       "    <tr>\n",
       "      <th>0</th>\n",
       "      <td>0</td>\n",
       "      <td>city_fuel_economy</td>\n",
       "      <td>0.004385</td>\n",
       "    </tr>\n",
       "    <tr>\n",
       "      <th>2</th>\n",
       "      <td>2</td>\n",
       "      <td>franchise_make</td>\n",
       "      <td>0.002616</td>\n",
       "    </tr>\n",
       "    <tr>\n",
       "      <th>9</th>\n",
       "      <td>9</td>\n",
       "      <td>owner_count</td>\n",
       "      <td>0.002076</td>\n",
       "    </tr>\n",
       "    <tr>\n",
       "      <th>22</th>\n",
       "      <td>22</td>\n",
       "      <td>transmission_display_8_Speed_Automatic</td>\n",
       "      <td>0.001105</td>\n",
       "    </tr>\n",
       "    <tr>\n",
       "      <th>19</th>\n",
       "      <td>19</td>\n",
       "      <td>body_type_Sedan</td>\n",
       "      <td>0.000651</td>\n",
       "    </tr>\n",
       "    <tr>\n",
       "      <th>20</th>\n",
       "      <td>20</td>\n",
       "      <td>engine_cylinders_I4</td>\n",
       "      <td>0.000327</td>\n",
       "    </tr>\n",
       "  </tbody>\n",
       "</table>\n",
       "</div>"
      ],
      "text/plain": [
       "    index                                       0         1\n",
       "13     13                                  trimId  0.384392\n",
       "8       8                              model_name  0.216342\n",
       "10     10                                   power  0.119587\n",
       "7       7                                 mileage  0.105961\n",
       "12     12                                  torque  0.030705\n",
       "16     16                                    year  0.022599\n",
       "4       4                                  height  0.014340\n",
       "11     11                          savings_amount  0.014279\n",
       "6       6                                  length  0.012538\n",
       "21     21                     engine_cylinders_V6  0.010676\n",
       "15     15                                   width  0.010466\n",
       "5       5                    highway_fuel_economy  0.009993\n",
       "3       3                        fuel_tank_volume  0.009782\n",
       "14     14                               wheelbase  0.007699\n",
       "18     18                wheel_system_display_cat  0.007544\n",
       "17     17                        wheel_system_cat  0.007222\n",
       "1       1                     engine_displacement  0.004716\n",
       "0       0                       city_fuel_economy  0.004385\n",
       "2       2                          franchise_make  0.002616\n",
       "9       9                             owner_count  0.002076\n",
       "22     22  transmission_display_8_Speed_Automatic  0.001105\n",
       "19     19                         body_type_Sedan  0.000651\n",
       "20     20                     engine_cylinders_I4  0.000327"
      ]
     },
     "execution_count": 98,
     "metadata": {},
     "output_type": "execute_result"
    }
   ],
   "source": [
    "rf_params2 = {'n_estimators': [500, 700, 900], \n",
    "            'max_depth': [6, 8, 10], \n",
    "            'max_leaf_nodes': range(250, 350, 15)}\n",
    "\n",
    "rf_grid2 = GridSearchCV(RandomForestRegressor(random_state = 4, bootstrap = True), rf_params2, n_jobs = -1, verbose = 1, \n",
    "                       scoring = 'neg_root_mean_squared_error')\n",
    "rf_grid2.fit(X_train, y_train)\n",
    "\n",
    "print(\"Best RandomForest parameters:\", rf_grid2.best_params_)\n",
    "print(\"Best model train RMSE:\", mean_squared_error(y_train, rf_grid2.predict(X_train), squared = False))\n",
    "print(\"Best model test RMSE:\", mean_squared_error(y_test, rf_grid2.predict(X_test), squared = False))\n",
    "print(\"Best model R^2:\", r2_score(y_test, rf_grid2.predict(X_test)))\n",
    "rf_feats2 = pd.DataFrame(zip(rf_grid2.best_estimator_.feature_names_in_, rf_grid2.best_estimator_.feature_importances_)).reset_index()\n",
    "rf_feats2.sort_values(by = rf_feats2.columns[2], ascending = False)"
   ]
  },
  {
   "cell_type": "markdown",
   "id": "053dcb6a",
   "metadata": {},
   "source": [
    "The best RMSE and R^2 resulted from the fine random forest grid search using our feature selection. This is because our feature selection was done using random forest. \n",
    "\n",
    "Our best random forest RMSE and R2 are 2385.598110495618 and 0.8408281485903418 respectively. "
   ]
  },
  {
   "cell_type": "markdown",
   "id": "a67c9ff7",
   "metadata": {},
   "source": [
    "### AdaBoost & Gradient boosting\n",
    "*By YuYan Zhang*"
   ]
  },
  {
   "cell_type": "markdown",
   "id": "8182968b",
   "metadata": {},
   "source": [
    "### XGBoost\n",
    "*By Emily Leibfritz*"
   ]
  },
  {
   "cell_type": "markdown",
   "id": "a221dcc6",
   "metadata": {},
   "source": [
    "## Model Ensemble "
   ]
  },
  {
   "cell_type": "markdown",
   "id": "9dc8b3d9",
   "metadata": {},
   "source": [
    "Put code with comments. The comments should explain the code such that it can be easily understood. You may put text *(in a markdown cell)* before a large chunk of code to explain the overall purpose of the code, if it is not intuitive. **Put the name of the person / persons who contributed to each code chunk / set of code chunks.**\n"
   ]
  },
  {
   "cell_type": "markdown",
   "id": "961bcb1d",
   "metadata": {},
   "source": [
    "### Voting ensemble"
   ]
  },
  {
   "cell_type": "markdown",
   "id": "ca651ba0",
   "metadata": {},
   "source": [
    "### Stacking ensemble(s)"
   ]
  },
  {
   "cell_type": "markdown",
   "id": "ddff3adf",
   "metadata": {},
   "source": [
    "### Ensemble of ensembled models"
   ]
  },
  {
   "cell_type": "markdown",
   "id": "3668faab",
   "metadata": {},
   "source": [
    "### Innovative ensembling methods\n",
    "*(Optional)*"
   ]
  },
  {
   "cell_type": "markdown",
   "id": "62a185cb",
   "metadata": {},
   "source": [
    "## Conclusions and Recommendations to stakeholder(s)\n",
    "\n",
    "You may or may not have code to put in this section. Delete this section if it is irrelevant."
   ]
  }
 ],
 "metadata": {
  "kernelspec": {
   "display_name": "Python 3 (ipykernel)",
   "language": "python",
   "name": "python3"
  },
  "language_info": {
   "codemirror_mode": {
    "name": "ipython",
    "version": 3
   },
   "file_extension": ".py",
   "mimetype": "text/x-python",
   "name": "python",
   "nbconvert_exporter": "python",
   "pygments_lexer": "ipython3",
   "version": "3.9.12"
  }
 },
 "nbformat": 4,
 "nbformat_minor": 5
}
