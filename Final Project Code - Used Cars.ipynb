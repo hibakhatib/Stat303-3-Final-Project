{
 "cells": [
  {
   "cell_type": "raw",
   "id": "33dd6c4c",
   "metadata": {},
   "source": [
    "---\n",
    "title: \"Final Project Code - Used Cars\"\n",
    "subtitle: data_sci\n",
    "author: Hiba Khatib, Emily Leibfritz, Nicole Birova, and YuYan Zhang \n",
    "date: 05/23/2023\n",
    "number-sections: true\n",
    "abstract: _This file contains the code for the project on <US Used Car Prices>, as part of the STAT303-3 course in Spring 2023_.\n",
    "format: \n",
    "  html:\n",
    "    toc: true\n",
    "    toc-title: Contents\n",
    "    self-contained: true\n",
    "    font-size: 100%\n",
    "    toc-depth: 4\n",
    "    mainfont: serif\n",
    "jupyter: python3\n",
    "---"
   ]
  },
  {
   "cell_type": "code",
   "execution_count": 6,
   "id": "01b6add7",
   "metadata": {},
   "outputs": [],
   "source": [
    "from sklearn.linear_model import LinearRegression\n",
    "import pandas as pd\n",
    "import numpy as np \n",
    "import seaborn as sns \n",
    "import matplotlib.pyplot as plt\n",
    "from sklearn.model_selection import train_test_split, cross_val_predict, cross_val_score, GridSearchCV, ParameterGrid, KFold, \\\n",
    "RandomizedSearchCV\n",
    "from sklearn.preprocessing import StandardScaler, PolynomialFeatures\n",
    "from sklearn.metrics import accuracy_score, mean_absolute_error, mean_squared_error, r2_score, \\\n",
    "roc_curve, auc, precision_score, recall_score, confusion_matrix\n",
    "import statsmodels.formula.api as smf\n",
    "import statsmodels.api as sm\n",
    "from patsy import dmatrix\n",
    "from pyearth import Earth\n",
    "from sklearn.tree import DecisionTreeClassifier, DecisionTreeRegressor\n",
    "from sklearn.ensemble import BaggingRegressor,BaggingClassifier,RandomForestRegressor,RandomForestClassifier\n",
    "from sklearn.neighbors import KNeighborsRegressor\n",
    "import warnings\n",
    "warnings.filterwarnings('ignore')\n",
    "from sklearn.preprocessing import LabelEncoder\n",
    "import random"
   ]
  },
  {
   "cell_type": "code",
   "execution_count": 7,
   "id": "88457f2b",
   "metadata": {},
   "outputs": [
    {
     "data": {
      "text/html": [
       "<div>\n",
       "<style scoped>\n",
       "    .dataframe tbody tr th:only-of-type {\n",
       "        vertical-align: middle;\n",
       "    }\n",
       "\n",
       "    .dataframe tbody tr th {\n",
       "        vertical-align: top;\n",
       "    }\n",
       "\n",
       "    .dataframe thead th {\n",
       "        text-align: right;\n",
       "    }\n",
       "</style>\n",
       "<table border=\"1\" class=\"dataframe\">\n",
       "  <thead>\n",
       "    <tr style=\"text-align: right;\">\n",
       "      <th></th>\n",
       "      <th>vin</th>\n",
       "      <th>back_legroom</th>\n",
       "      <th>body_type</th>\n",
       "      <th>city</th>\n",
       "      <th>city_fuel_economy</th>\n",
       "      <th>daysonmarket</th>\n",
       "      <th>dealer_zip</th>\n",
       "      <th>description</th>\n",
       "      <th>engine_cylinders</th>\n",
       "      <th>engine_displacement</th>\n",
       "      <th>...</th>\n",
       "      <th>torque</th>\n",
       "      <th>transmission</th>\n",
       "      <th>transmission_display</th>\n",
       "      <th>trimId</th>\n",
       "      <th>trim_name</th>\n",
       "      <th>wheel_system</th>\n",
       "      <th>wheel_system_display</th>\n",
       "      <th>wheelbase</th>\n",
       "      <th>width</th>\n",
       "      <th>year</th>\n",
       "    </tr>\n",
       "  </thead>\n",
       "  <tbody>\n",
       "    <tr>\n",
       "      <th>0</th>\n",
       "      <td>5LMCJ2C97HUL71203</td>\n",
       "      <td>36.8 in</td>\n",
       "      <td>SUV / Crossover</td>\n",
       "      <td>Devine</td>\n",
       "      <td>21.0</td>\n",
       "      <td>40</td>\n",
       "      <td>78016</td>\n",
       "      <td>*We have 19 sources of financing and second ch...</td>\n",
       "      <td>I4</td>\n",
       "      <td>2000.0</td>\n",
       "      <td>...</td>\n",
       "      <td>270 lb-ft @ 3,000 RPM</td>\n",
       "      <td>A</td>\n",
       "      <td>Automatic</td>\n",
       "      <td>t66989</td>\n",
       "      <td>Select FWD</td>\n",
       "      <td>FWD</td>\n",
       "      <td>Front-Wheel Drive</td>\n",
       "      <td>105.9 in</td>\n",
       "      <td>84.1 in</td>\n",
       "      <td>2017</td>\n",
       "    </tr>\n",
       "    <tr>\n",
       "      <th>1</th>\n",
       "      <td>1FM5K8D87HGE07214</td>\n",
       "      <td>39.5 in</td>\n",
       "      <td>SUV / Crossover</td>\n",
       "      <td>Buffalo</td>\n",
       "      <td>16.0</td>\n",
       "      <td>9</td>\n",
       "      <td>55313</td>\n",
       "      <td>We are open for business.    Purchase your nex...</td>\n",
       "      <td>V6</td>\n",
       "      <td>3500.0</td>\n",
       "      <td>...</td>\n",
       "      <td>255 lb-ft @ 4,000 RPM</td>\n",
       "      <td>A</td>\n",
       "      <td>6-Speed Automatic</td>\n",
       "      <td>t67141</td>\n",
       "      <td>XLT AWD</td>\n",
       "      <td>AWD</td>\n",
       "      <td>All-Wheel Drive</td>\n",
       "      <td>112.8 in</td>\n",
       "      <td>90.2 in</td>\n",
       "      <td>2017</td>\n",
       "    </tr>\n",
       "  </tbody>\n",
       "</table>\n",
       "<p>2 rows × 57 columns</p>\n",
       "</div>"
      ],
      "text/plain": [
       "                 vin back_legroom        body_type     city  \\\n",
       "0  5LMCJ2C97HUL71203      36.8 in  SUV / Crossover   Devine   \n",
       "1  1FM5K8D87HGE07214      39.5 in  SUV / Crossover  Buffalo   \n",
       "\n",
       "   city_fuel_economy  daysonmarket  dealer_zip  \\\n",
       "0               21.0            40       78016   \n",
       "1               16.0             9       55313   \n",
       "\n",
       "                                         description engine_cylinders  \\\n",
       "0  *We have 19 sources of financing and second ch...               I4   \n",
       "1  We are open for business.    Purchase your nex...               V6   \n",
       "\n",
       "   engine_displacement  ...                 torque transmission  \\\n",
       "0               2000.0  ...  270 lb-ft @ 3,000 RPM            A   \n",
       "1               3500.0  ...  255 lb-ft @ 4,000 RPM            A   \n",
       "\n",
       "   transmission_display  trimId   trim_name wheel_system wheel_system_display  \\\n",
       "0             Automatic  t66989  Select FWD          FWD    Front-Wheel Drive   \n",
       "1     6-Speed Automatic  t67141     XLT AWD          AWD      All-Wheel Drive   \n",
       "\n",
       "  wheelbase    width  year  \n",
       "0  105.9 in  84.1 in  2017  \n",
       "1  112.8 in  90.2 in  2017  \n",
       "\n",
       "[2 rows x 57 columns]"
      ]
     },
     "execution_count": 7,
     "metadata": {},
     "output_type": "execute_result"
    }
   ],
   "source": [
    "data = pd.read_csv('us_used_cars_final.csv')\n",
    "data.head(2)"
   ]
  },
  {
   "cell_type": "markdown",
   "id": "fe7ea9bb",
   "metadata": {},
   "source": [
    "## Data quality check / cleaning / preparation \n",
    "\n",
    "Put code with comments. The comments should explain the code such that it can be easily understood. You may put text *(in a markdown cell)* before a large chunk of code to explain the overall purpose of the code, if it is not intuitive. **Put the name of the person / persons who contributed to each code chunk / set of code chunks.** An example is given below."
   ]
  },
  {
   "cell_type": "markdown",
   "id": "371a5a4a",
   "metadata": {},
   "source": [
    "### Distribution of response\n",
    "*By Hiba Khatib*"
   ]
  },
  {
   "cell_type": "code",
   "execution_count": 8,
   "id": "b868f6b5",
   "metadata": {},
   "outputs": [
    {
     "name": "stderr",
     "output_type": "stream",
     "text": [
      "No artists with labels found to put in legend.  Note that artists whose label start with an underscore are ignored when legend() is called with no argument.\n"
     ]
    },
    {
     "data": {
      "image/png": "[encoded data removed]",
      "text/plain": [
       "<Figure size 1000x600 with 1 Axes>"
      ]
     },
     "metadata": {},
     "output_type": "display_data"
    },
    {
     "name": "stdout",
     "output_type": "stream",
     "text": [
      "Mean of price:  24568.3835\n",
      "Standard deviation:  16742.99685916766\n"
     ]
    }
   ],
   "source": [
    "#...Plot for distribution of response...#\n",
    "\n",
    "plt.figure(figsize=(10,6))\n",
    "sns.distplot(data.price)\n",
    "plt.title('Price')\n",
    "plt.legend()\n",
    "plt.xlabel('Price')\n",
    "plt.ylabel('Frequency')\n",
    "plt.ticklabel_format(style='plain', axis='x')\n",
    "plt.show()\n",
    "\n",
    "# Mean and standard deviation of response #\n",
    "\n",
    "print(\"Mean of price: \", np.mean(data.price))\n",
    "print(\"Standard deviation: \", np.std(data.price))"
   ]
  },
  {
   "cell_type": "markdown",
   "id": "7d970d55",
   "metadata": {},
   "source": [
    "The data needs a log transformation on price. "
   ]
  },
  {
   "cell_type": "code",
   "execution_count": 9,
   "id": "6fc0e723",
   "metadata": {},
   "outputs": [
    {
     "name": "stderr",
     "output_type": "stream",
     "text": [
      "No artists with labels found to put in legend.  Note that artists whose label start with an underscore are ignored when legend() is called with no argument.\n"
     ]
    },
    {
     "data": {
      "image/png": "[encoded data removed]",
      "text/plain": [
       "<Figure size 1000x600 with 1 Axes>"
      ]
     },
     "metadata": {},
     "output_type": "display_data"
    }
   ],
   "source": [
    "plt.figure(figsize=(10,6))\n",
    "sns.distplot(np.log(data.price))\n",
    "plt.title('Price')\n",
    "plt.legend()\n",
    "plt.xlabel('log(Price)')\n",
    "plt.ylabel('Frequency')\n",
    "plt.ticklabel_format(style='plain', axis='x')\n",
    "plt.show()"
   ]
  },
  {
   "cell_type": "markdown",
   "id": "6d21a875",
   "metadata": {},
   "source": [
    "The distribution is much more uniform now with the log transformation. "
   ]
  },
  {
   "cell_type": "code",
   "execution_count": 10,
   "id": "316abd3d",
   "metadata": {},
   "outputs": [
    {
     "data": {
      "text/plain": [
       "<AxesSubplot:xlabel='price'>"
      ]
     },
     "execution_count": 10,
     "metadata": {},
     "output_type": "execute_result"
    },
    {
     "data": {
      "image/png": "[encoded data removed]",
      "text/plain": [
       "<Figure size 640x480 with 1 Axes>"
      ]
     },
     "metadata": {},
     "output_type": "display_data"
    }
   ],
   "source": [
    "# checking for outlying observations \n",
    "sns.boxplot(data.price, orient = \"v\")"
   ]
  },
  {
   "cell_type": "code",
   "execution_count": 11,
   "id": "33f9eaec",
   "metadata": {},
   "outputs": [
    {
     "data": {
      "text/plain": [
       "count      6000.000000\n",
       "mean      24568.383500\n",
       "std       16744.392283\n",
       "min        1680.000000\n",
       "25%       16500.000000\n",
       "50%       21924.000000\n",
       "75%       29995.000000\n",
       "max      859000.000000\n",
       "Name: price, dtype: float64"
      ]
     },
     "execution_count": 11,
     "metadata": {},
     "output_type": "execute_result"
    }
   ],
   "source": [
    "data.price.describe()"
   ]
  },
  {
   "cell_type": "markdown",
   "id": "5212e77a",
   "metadata": {},
   "source": [
    "There appears to be many outliers that we can drop before performing any feature selection. Dropping the outliers should help us avoid possible issues with overfitting to the training data and the complexities that are related to outlying observations. "
   ]
  },
  {
   "cell_type": "code",
   "execution_count": 12,
   "id": "268226f6",
   "metadata": {},
   "outputs": [],
   "source": [
    "data_subset = data[data.price <= 30000]"
   ]
  },
  {
   "cell_type": "code",
   "execution_count": 13,
   "id": "c24c201d",
   "metadata": {},
   "outputs": [
    {
     "data": {
      "text/plain": [
       "<AxesSubplot:xlabel='price'>"
      ]
     },
     "execution_count": 13,
     "metadata": {},
     "output_type": "execute_result"
    },
    {
     "data": {
      "image/png": "[encoded data removed]",
      "text/plain": [
       "<Figure size 640x480 with 1 Axes>"
      ]
     },
     "metadata": {},
     "output_type": "display_data"
    }
   ],
   "source": [
    "sns.boxplot(data_subset.price)"
   ]
  },
  {
   "cell_type": "code",
   "execution_count": 14,
   "id": "fc0e2283",
   "metadata": {},
   "outputs": [
    {
     "name": "stderr",
     "output_type": "stream",
     "text": [
      "No artists with labels found to put in legend.  Note that artists whose label start with an underscore are ignored when legend() is called with no argument.\n"
     ]
    },
    {
     "data": {
      "image/png": "[encoded data removed]",
      "text/plain": [
       "<Figure size 1000x600 with 1 Axes>"
      ]
     },
     "metadata": {},
     "output_type": "display_data"
    },
    {
     "name": "stdout",
     "output_type": "stream",
     "text": [
      "Mean of price:  19205.211827007945\n",
      "Standard deviation:  5978.306973568847\n"
     ]
    }
   ],
   "source": [
    "#...Plot for distribution of response after removing outliers...#\n",
    "\n",
    "plt.figure(figsize=(10,6))\n",
    "sns.distplot(data_subset.price)\n",
    "plt.title('Price')\n",
    "plt.legend()\n",
    "plt.xlabel('Price')\n",
    "plt.ylabel('Frequency')\n",
    "plt.ticklabel_format(style='plain', axis='x')\n",
    "plt.show()\n",
    "\n",
    "# Mean and standard deviation of response #\n",
    "\n",
    "print(\"Mean of price: \", np.mean(data_subset.price))\n",
    "print(\"Standard deviation: \", np.std(data_subset.price))"
   ]
  },
  {
   "cell_type": "markdown",
   "id": "5d34acbf",
   "metadata": {},
   "source": [
    "The mean and standard deviation have significantly decreased after removing all of the outliers and now we don't need to transform the predictor. The mean and standard deviation have also decreased significantly."
   ]
  },
  {
   "cell_type": "code",
   "execution_count": 15,
   "id": "3c9e0fa9",
   "metadata": {},
   "outputs": [],
   "source": [
    "data = data_subset.copy()"
   ]
  },
  {
   "cell_type": "code",
   "execution_count": 16,
   "id": "6e449c6b",
   "metadata": {},
   "outputs": [
    {
     "name": "stdout",
     "output_type": "stream",
     "text": [
      "The final shape of the data after removing outliers is (4532, 57)\n"
     ]
    }
   ],
   "source": [
    "print(\"The final shape of the data after removing outliers is\", data.shape)"
   ]
  },
  {
   "cell_type": "markdown",
   "id": "ff6b5e83",
   "metadata": {},
   "source": [
    "### Data Cleaning, Preparation, and EDA\n",
    "*By Hiba Khatib & Emily Leibfritz*"
   ]
  },
  {
   "cell_type": "markdown",
   "id": "c89a4da1",
   "metadata": {},
   "source": [
    "### brief summary of all the things we did \n",
    "\n",
    "After creating all 8 base models, we decided to subset the data into two different ways to improve the analysis of our data. The first subset is the resulting features after our EDA and data preparation. The second way we subsetted the data was based on the features selected by tree based models. Our methods are described in detail below. \n",
    "\n",
    "1. Our EDA Selected Features (Hiba & Emily)\n",
    "\n",
    "We performed data cleaning, preparation and EDA on the data to facilitate feature selection and model training. The first thing we did was fix the data types of some of the columns. All of the boolean columns were encoded as True or False so we mapped those to 1s and 0s. Then, we found that several columns such as horsepower and torque were numerical but contained units. We removed all of the units from these columns and converted them back to numeric. Then, we dropped a set of unique identifiers which were not sigificant to our analysis. We also dropped three columns which represented the interior, and exterior color of the car. These columns had different names for the same color and we did not see them as significant predictors to engineer and encode differently. Then, we dropped a constant predictor which contained the same value for all observations as constant predictors don't provide any meaningful insights. The final step in the cleaning and preparation of the numerical data, we dropped highly correlated features. These were features which represented the same information in two different ways such as the official name of a trim and the id associated with that name. This resulted in us keeping only 14 of the numerical predictors are subsetting for predictors with a correlation of |-.2|. \n",
    "\n",
    "# insert summary of categorical data prep \n",
    "\n",
    "2. Randomforest and Decision Tree top features (hiba)"
   ]
  },
  {
   "cell_type": "code",
   "execution_count": 17,
   "id": "b94caaf6",
   "metadata": {},
   "outputs": [
    {
     "name": "stdout",
     "output_type": "stream",
     "text": [
      "['fleet', 'frame_damaged', 'franchise_dealer', 'has_accidents', 'isCab', 'is_new', 'salvage', 'theft_title']\n"
     ]
    }
   ],
   "source": [
    "# feature engineering\n",
    "\n",
    "    # encoding True/False as 1/0s\n",
    "bool_cols = data.dtypes[data.dtypes == bool]\n",
    "bool_cols = pd.DataFrame(bool_cols).reset_index()\n",
    "bool_cols = bool_cols['index']\n",
    "bool_cols = list(bool_cols)\n",
    "print(bool_cols)\n",
    "for col in bool_cols:\n",
    "    data[col] = data[col].map({False: 0, True: 1})\n",
    "    \n",
    "\n",
    "    # numerically encoding categorical variables with at most 5 unique values \n",
    "cols_map = []\n",
    "for c in data.columns:\n",
    "    col_len = (len(data[c].unique()))\n",
    "    if col_len <=5:\n",
    "        cols_map.append(c)\n",
    "[cols_map.remove(c) for c in bool_cols] # removing the boolean columns from the list\n",
    "\n",
    "    # performing the encoding\n",
    "le = LabelEncoder()\n",
    "encoder_dict = {key: None for key in cols_map}\n",
    "for c in cols_map:\n",
    "    encoder_dict[c] = data[c].unique()\n",
    "    col_name = str(c)+\"_cat\"\n",
    "    data[col_name] = le.fit_transform(data[c])\n",
    "    encoder_dict[col_name] = le.fit_transform(encoder_dict[c])\n",
    "    \n",
    "    # removing units from numerical columns \n",
    "\n",
    "data['front_legroom'] = data['front_legroom'].map(lambda x: x.lstrip('+-').rstrip('in'))\n",
    "data['width'] = data['width'].map(lambda x: x.lstrip('+-').rstrip('in'))\n",
    "data['height'] = data['height'].map(lambda x: x.lstrip('+-').rstrip('in'))\n",
    "data['length'] = data['length'].map(lambda x: x.lstrip('+-').rstrip('in'))\n",
    "data['wheelbase'] = data['wheelbase'].map(lambda x: x.lstrip('+-').rstrip('in'))\n",
    "data['back_legroom'] = data['back_legroom'].map(lambda x: x.lstrip('+-').rstrip('in'))\n",
    "data['maximum_seating'] = data['maximum_seating'].map(lambda x: x.lstrip('+-').rstrip('seating'))\n",
    "data['fuel_tank_volume'] = data['fuel_tank_volume'].map(lambda x: x.lstrip('+-').rstrip('gal'))\n",
    "data['power'] = data['power'].str[:3] # keeping only numerical value\n",
    "data['torque'] = data['torque'].str[:3]\n",
    "\n",
    "    # converting data types to numerical\n",
    "data.power = pd.to_numeric(data.power)\n",
    "data.back_legroom = pd.to_numeric(data.back_legroom)\n",
    "data.front_legroom = pd.to_numeric(data.front_legroom)\n",
    "data.width = pd.to_numeric(data.width)\n",
    "data.height = pd.to_numeric(data.height)\n",
    "data.length = pd.to_numeric(data.length)\n",
    "data.wheelbase = pd.to_numeric(data.wheelbase)\n",
    "data.maximum_seating = pd.to_numeric(data.maximum_seating)\n",
    "data.fuel_tank_volume = pd.to_numeric(data.fuel_tank_volume)\n",
    "data.torque = pd.to_numeric(data.torque)"
   ]
  },
  {
   "cell_type": "code",
   "execution_count": 18,
   "id": "9a353c36",
   "metadata": {},
   "outputs": [
    {
     "data": {
      "text/plain": [
       "Index(['vin', 'back_legroom', 'body_type', 'city', 'city_fuel_economy',\n",
       "       'daysonmarket', 'dealer_zip', 'description', 'engine_cylinders',\n",
       "       'engine_displacement', 'engine_type', 'exterior_color', 'fleet',\n",
       "       'frame_damaged', 'franchise_dealer', 'franchise_make', 'front_legroom',\n",
       "       'fuel_tank_volume', 'fuel_type', 'has_accidents', 'height',\n",
       "       'highway_fuel_economy', 'horsepower', 'interior_color', 'isCab',\n",
       "       'is_new', 'latitude', 'length', 'listed_date', 'listing_color',\n",
       "       'listing_id', 'longitude', 'main_picture_url', 'major_options',\n",
       "       'make_name', 'maximum_seating', 'mileage', 'model_name', 'owner_count',\n",
       "       'power', 'price', 'salvage', 'savings_amount', 'seller_rating', 'sp_id',\n",
       "       'sp_name', 'theft_title', 'torque', 'transmission',\n",
       "       'transmission_display', 'trimId', 'trim_name', 'wheel_system',\n",
       "       'wheel_system_display', 'wheelbase', 'width', 'year', 'fuel_type_cat',\n",
       "       'transmission_cat', 'wheel_system_cat', 'wheel_system_display_cat'],\n",
       "      dtype='object')"
      ]
     },
     "execution_count": 18,
     "metadata": {},
     "output_type": "execute_result"
    }
   ],
   "source": [
    "data.columns"
   ]
  },
  {
   "cell_type": "code",
   "execution_count": 19,
   "id": "25ddf4d3",
   "metadata": {},
   "outputs": [
    {
     "name": "stdout",
     "output_type": "stream",
     "text": [
      "Data shape after dropping unique features:  (4532, 51)\n",
      "back_legroom                False\n",
      "body_type                   False\n",
      "city_fuel_economy           False\n",
      "daysonmarket                False\n",
      "dealer_zip                  False\n",
      "engine_cylinders            False\n",
      "engine_displacement         False\n",
      "engine_type                 False\n",
      "fleet                       False\n",
      "frame_damaged               False\n",
      "franchise_dealer             True\n",
      "franchise_make              False\n",
      "front_legroom               False\n",
      "fuel_tank_volume            False\n",
      "fuel_type                   False\n",
      "has_accidents               False\n",
      "height                      False\n",
      "highway_fuel_economy        False\n",
      "horsepower                  False\n",
      "isCab                       False\n",
      "is_new                      False\n",
      "latitude                    False\n",
      "length                      False\n",
      "listed_date                 False\n",
      "longitude                   False\n",
      "major_options               False\n",
      "maximum_seating             False\n",
      "mileage                     False\n",
      "model_name                  False\n",
      "owner_count                 False\n",
      "power                       False\n",
      "price                       False\n",
      "salvage                     False\n",
      "savings_amount              False\n",
      "seller_rating               False\n",
      "sp_id                       False\n",
      "theft_title                 False\n",
      "torque                      False\n",
      "transmission                False\n",
      "transmission_display        False\n",
      "trimId                      False\n",
      "trim_name                   False\n",
      "wheel_system                False\n",
      "wheel_system_display        False\n",
      "wheelbase                   False\n",
      "width                       False\n",
      "year                        False\n",
      "fuel_type_cat               False\n",
      "transmission_cat            False\n",
      "wheel_system_cat            False\n",
      "wheel_system_display_cat    False\n",
      "dtype: bool\n"
     ]
    }
   ],
   "source": [
    "# dropping unique features\n",
    "\n",
    "data.drop(columns = ['vin', 'listing_id', 'main_picture_url', 'description', 'sp_name', 'make_name', 'city'], inplace = True)\n",
    "\n",
    "    # color columns\n",
    "data.drop(columns = ['listing_color', 'interior_color', 'exterior_color'], inplace = True)\n",
    "\n",
    "print(\"Data shape after dropping unique features: \", data.shape)\n",
    "\n",
    "# dropping constant predictor \n",
    "print(data.nunique() == 1)\n",
    "data.drop(columns = ['franchise_dealer'], inplace = True)\n",
    "\n",
    "# dropping highly correlated columns \n",
    "\n",
    "data.drop(columns = ['trim_name', 'engine_type', 'major_options', 'horsepower'], inplace = True)"
   ]
  },
  {
   "cell_type": "code",
   "execution_count": 20,
   "id": "27e449fd",
   "metadata": {},
   "outputs": [
    {
     "name": "stdout",
     "output_type": "stream",
     "text": [
      "Final data shape after cleaning and dropping unnecessary features:  (4532, 46)\n"
     ]
    }
   ],
   "source": [
    "print(\"Final data shape after cleaning and dropping unnecessary features: \", data.shape)"
   ]
  },
  {
   "cell_type": "markdown",
   "id": "a4d28f65",
   "metadata": {},
   "source": [
    "### Exploring Trends in Categorical Predictors"
   ]
  },
  {
   "cell_type": "code",
   "execution_count": 21,
   "id": "74518450",
   "metadata": {},
   "outputs": [],
   "source": [
    "data_2 = data.copy()\n",
    "# make seperate df to just look at categorical\n",
    "o_data = data.drop(columns = [\"back_legroom\", \"wheel_system_display\", \"wheelbase\", \"width\", \"front_legroom\", \n",
    "                              \"fuel_tank_volume\", \"height\", \"torque\", \"maximum_seating\",\"transmission_cat\",\n",
    "                              \"power\",\"city_fuel_economy\",\"daysonmarket\",\"dealer_zip\",\"transmission\",\"wheel_system_display_cat\",\n",
    "                              \"fuel_type_cat\",\"wheel_system\",\"wheel_system_cat\",\"fuel_type\",\n",
    "                              \"engine_displacement\",\"fleet\",\"frame_damaged\",\"has_accidents\",\"highway_fuel_economy\",\n",
    "                              \"isCab\",\"is_new\",\"latitude\",\"longitude\",\"mileage\",\"owner_count\",\"salvage\",\n",
    "                              \"savings_amount\",\"seller_rating\",\"sp_id\",\"theft_title\",\"year\"], axis = 1)\n",
    "# taken out: \"franchise_dealer\"\n",
    "cols = o_data.columns\n",
    "name = []\n",
    "unique_value = []\n",
    "for i in range(0,len(cols)):\n",
    "    c = cols[i]\n",
    "    unique = len(data[c].unique())\n",
    "    unique_value.append(unique)\n",
    "    name.append(c)"
   ]
  },
  {
   "cell_type": "code",
   "execution_count": 22,
   "id": "b84038f1",
   "metadata": {},
   "outputs": [
    {
     "data": {
      "text/html": [
       "<div>\n",
       "<style scoped>\n",
       "    .dataframe tbody tr th:only-of-type {\n",
       "        vertical-align: middle;\n",
       "    }\n",
       "\n",
       "    .dataframe tbody tr th {\n",
       "        vertical-align: top;\n",
       "    }\n",
       "\n",
       "    .dataframe thead th {\n",
       "        text-align: right;\n",
       "    }\n",
       "</style>\n",
       "<table border=\"1\" class=\"dataframe\">\n",
       "  <thead>\n",
       "    <tr style=\"text-align: right;\">\n",
       "      <th></th>\n",
       "      <th>column</th>\n",
       "      <th>unique_values</th>\n",
       "    </tr>\n",
       "  </thead>\n",
       "  <tbody>\n",
       "    <tr>\n",
       "      <th>0</th>\n",
       "      <td>body_type</td>\n",
       "      <td>9</td>\n",
       "    </tr>\n",
       "    <tr>\n",
       "      <th>1</th>\n",
       "      <td>engine_cylinders</td>\n",
       "      <td>16</td>\n",
       "    </tr>\n",
       "    <tr>\n",
       "      <th>7</th>\n",
       "      <td>transmission_display</td>\n",
       "      <td>18</td>\n",
       "    </tr>\n",
       "    <tr>\n",
       "      <th>2</th>\n",
       "      <td>franchise_make</td>\n",
       "      <td>34</td>\n",
       "    </tr>\n",
       "    <tr>\n",
       "      <th>4</th>\n",
       "      <td>listed_date</td>\n",
       "      <td>286</td>\n",
       "    </tr>\n",
       "    <tr>\n",
       "      <th>5</th>\n",
       "      <td>model_name</td>\n",
       "      <td>289</td>\n",
       "    </tr>\n",
       "    <tr>\n",
       "      <th>3</th>\n",
       "      <td>length</td>\n",
       "      <td>333</td>\n",
       "    </tr>\n",
       "    <tr>\n",
       "      <th>8</th>\n",
       "      <td>trimId</td>\n",
       "      <td>2344</td>\n",
       "    </tr>\n",
       "    <tr>\n",
       "      <th>6</th>\n",
       "      <td>price</td>\n",
       "      <td>2485</td>\n",
       "    </tr>\n",
       "  </tbody>\n",
       "</table>\n",
       "</div>"
      ],
      "text/plain": [
       "                 column  unique_values\n",
       "0             body_type              9\n",
       "1      engine_cylinders             16\n",
       "7  transmission_display             18\n",
       "2        franchise_make             34\n",
       "4           listed_date            286\n",
       "5            model_name            289\n",
       "3                length            333\n",
       "8                trimId           2344\n",
       "6                 price           2485"
      ]
     },
     "execution_count": 22,
     "metadata": {},
     "output_type": "execute_result"
    }
   ],
   "source": [
    "# Create the pandas DataFrame with object columns and their unique values\n",
    "data_ = {'column': name, 'unique_values':unique_value}\n",
    "o_unique_values_count = pd.DataFrame(data_)\n",
    "o_unique_values_count.sort_values(by=['unique_values'])"
   ]
  },
  {
   "cell_type": "markdown",
   "id": "99d9ca91",
   "metadata": {},
   "source": [
    "From this information, we can simply visualize with boxplot any variables until make_name, to see their relevance and adjust them. After that we will look more thoroughly, maybe group data. Consider dropping anything with other 1000 unique values as we only have 6000 rows, so might not be good predictors, but will decide on case by case basis."
   ]
  },
  {
   "cell_type": "code",
   "execution_count": 23,
   "id": "e4351540",
   "metadata": {},
   "outputs": [
    {
     "data": {
      "text/plain": [
       "[]"
      ]
     },
     "execution_count": 23,
     "metadata": {},
     "output_type": "execute_result"
    },
    {
     "data": {
      "image/png": "[encoded data removed]",
      "text/plain": [
       "<Figure size 1000x400 with 1 Axes>"
      ]
     },
     "metadata": {},
     "output_type": "display_data"
    }
   ],
   "source": [
    "plt.figure(figsize=(10,4))\n",
    "sns.boxplot(x=\"body_type\",y=\"price\", data = data)\n",
    "plt.xticks(rotation=90)\n",
    "plt.ylim(0,80000)\n",
    "\n",
    "plt.plot()"
   ]
  },
  {
   "cell_type": "markdown",
   "id": "96b7655f",
   "metadata": {},
   "source": [
    "body_type seems to have a significant trend right away. We cancheck value counts to see if some types are more common than others"
   ]
  },
  {
   "cell_type": "code",
   "execution_count": 24,
   "id": "df7d6324",
   "metadata": {},
   "outputs": [
    {
     "data": {
      "text/plain": [
       "SUV / Crossover    2295\n",
       "Sedan              1503\n",
       "Pickup Truck        190\n",
       "Minivan             184\n",
       "Wagon               115\n",
       "Hatchback           108\n",
       "Coupe                98\n",
       "Convertible          27\n",
       "Van                  12\n",
       "Name: body_type, dtype: int64"
      ]
     },
     "execution_count": 24,
     "metadata": {},
     "output_type": "execute_result"
    }
   ],
   "source": [
    "data.body_type.value_counts()"
   ]
  },
  {
   "cell_type": "markdown",
   "id": "4eea46a8",
   "metadata": {},
   "source": [
    "Have enough observations for each value to be valid, none of the smaller groups stand out substantially, convertible is a little bit spread but that should be fine -> convert to dummies"
   ]
  },
  {
   "cell_type": "code",
   "execution_count": 25,
   "id": "e64a250d",
   "metadata": {},
   "outputs": [],
   "source": [
    "# change spelling so colummns will be callable\n",
    "data_2['body_type'] = o_data['body_type'].apply(lambda x: 'SUV_Crossover' if x == 'SUV / Crossover' else \n",
    "                                                          'Pickup_Truck' if x == 'Pickup Truck' else\n",
    "                                                x)\n",
    "# get dummies\n",
    "data_2 = pd.get_dummies(data_2, columns=['body_type'], drop_first=True)"
   ]
  },
  {
   "cell_type": "code",
   "execution_count": 26,
   "id": "fe08c8af",
   "metadata": {},
   "outputs": [
    {
     "data": {
      "text/plain": [
       "[]"
      ]
     },
     "execution_count": 26,
     "metadata": {},
     "output_type": "execute_result"
    },
    {
     "data": {
      "image/png": "[encoded data removed]",
      "text/plain": [
       "<Figure size 1000x400 with 1 Axes>"
      ]
     },
     "metadata": {},
     "output_type": "display_data"
    }
   ],
   "source": [
    "plt.figure(figsize=(10,4))\n",
    "\n",
    "sns.boxplot(x=\"engine_cylinders\",y=\"price\", data = o_data)\n",
    "plt.xticks(rotation=90)\n",
    "plt.ylim(0,80000)\n",
    "plt.plot()"
   ]
  },
  {
   "cell_type": "code",
   "execution_count": 27,
   "id": "ed214e84",
   "metadata": {},
   "outputs": [
    {
     "data": {
      "text/plain": [
       "I4                      2776\n",
       "V6                      1223\n",
       "V6 Flex Fuel Vehicle     156\n",
       "H4                       145\n",
       "V8                       105\n",
       "V8 Flex Fuel Vehicle      45\n",
       "I4 Flex Fuel Vehicle      22\n",
       "I4 Diesel                 16\n",
       "I3                        13\n",
       "I6                        12\n",
       "H6                         4\n",
       "V6 Diesel                  4\n",
       "I5                         4\n",
       "V6 Biodiesel               3\n",
       "I4 Hybrid                  3\n",
       "H4 Hybrid                  1\n",
       "Name: engine_cylinders, dtype: int64"
      ]
     },
     "execution_count": 27,
     "metadata": {},
     "output_type": "execute_result"
    }
   ],
   "source": [
    "o_data.engine_cylinders.value_counts()"
   ]
  },
  {
   "cell_type": "markdown",
   "id": "9fb59380",
   "metadata": {},
   "source": [
    "Turn anything under 100 observations into 'other', if there is only one observation this is not useful data."
   ]
  },
  {
   "cell_type": "code",
   "execution_count": 28,
   "id": "b1b5e65e",
   "metadata": {},
   "outputs": [
    {
     "data": {
      "text/plain": [
       "I4                      2776\n",
       "V6                      1223\n",
       "V6_Flex_Fuel_Vehicle     156\n",
       "H4                       145\n",
       "other                    127\n",
       "V8                       105\n",
       "Name: engine_cylinders, dtype: int64"
      ]
     },
     "execution_count": 28,
     "metadata": {},
     "output_type": "execute_result"
    }
   ],
   "source": [
    "data_2['engine_cylinders'] = o_data['engine_cylinders'].apply(lambda x: 'I4' if x == 'I4' else \n",
    "                                                          'V6' if x == 'V6' else\n",
    "                                                          'V8' if x == 'V8' else\n",
    "                                                          'V6_Flex_Fuel_Vehicle' if x == 'V6 Flex Fuel Vehicle' else\n",
    "                                                          'H4' if x == 'H4' else\n",
    "                                                          'other')\n",
    "data_2.engine_cylinders.value_counts()"
   ]
  },
  {
   "cell_type": "code",
   "execution_count": 29,
   "id": "ac3285e9",
   "metadata": {},
   "outputs": [
    {
     "data": {
      "text/plain": [
       "[]"
      ]
     },
     "execution_count": 29,
     "metadata": {},
     "output_type": "execute_result"
    },
    {
     "data": {
      "image/png": "[encoded data removed]",
      "text/plain": [
       "<Figure size 800x400 with 1 Axes>"
      ]
     },
     "metadata": {},
     "output_type": "display_data"
    }
   ],
   "source": [
    "plt.figure(figsize=(8,4))\n",
    "sns.boxplot(x=\"engine_cylinders\",y=\"price\", data = data_2)\n",
    "plt.xticks(rotation=90)\n",
    "plt.ylim(0,80000)\n",
    "plt.plot()"
   ]
  },
  {
   "cell_type": "markdown",
   "id": "708bba6f",
   "metadata": {},
   "source": [
    "Other is naturally with bigger range, but this looks better, get dummies for it:"
   ]
  },
  {
   "cell_type": "code",
   "execution_count": 30,
   "id": "d9196655",
   "metadata": {},
   "outputs": [],
   "source": [
    "data_2 = pd.get_dummies(data_2, columns=['engine_cylinders'], drop_first=True)"
   ]
  },
  {
   "cell_type": "code",
   "execution_count": 31,
   "id": "b971277f",
   "metadata": {},
   "outputs": [
    {
     "data": {
      "text/plain": [
       "[]"
      ]
     },
     "execution_count": 31,
     "metadata": {},
     "output_type": "execute_result"
    },
    {
     "data": {
      "image/png": "[encoded data removed]",
      "text/plain": [
       "<Figure size 1000x400 with 1 Axes>"
      ]
     },
     "metadata": {},
     "output_type": "display_data"
    }
   ],
   "source": [
    "plt.figure(figsize=(10,4))\n",
    "sns.boxplot(x=\"transmission_display\",y=\"price\", data = o_data)\n",
    "plt.xticks(rotation=90)\n",
    "plt.ylim(0,80000)\n",
    "plt.plot()"
   ]
  },
  {
   "cell_type": "markdown",
   "id": "359718bf",
   "metadata": {},
   "source": [
    "Mean and range seem both to be varying, might be valuable column to predict price, check value counts:"
   ]
  },
  {
   "cell_type": "code",
   "execution_count": 32,
   "id": "f9e51ed5",
   "metadata": {},
   "outputs": [
    {
     "data": {
      "text/plain": [
       "Automatic                             1583\n",
       "6-Speed Automatic                     1157\n",
       "Continuously Variable Transmission     934\n",
       "8-Speed Automatic                      334\n",
       "9-Speed Automatic                      189\n",
       "Name: transmission_display, dtype: int64"
      ]
     },
     "execution_count": 32,
     "metadata": {},
     "output_type": "execute_result"
    }
   ],
   "source": [
    "data.transmission_display.value_counts().head()"
   ]
  },
  {
   "cell_type": "code",
   "execution_count": 33,
   "id": "c02ed4e4",
   "metadata": {},
   "outputs": [
    {
     "data": {
      "text/plain": [
       "[]"
      ]
     },
     "execution_count": 33,
     "metadata": {},
     "output_type": "execute_result"
    },
    {
     "data": {
      "image/png": "[encoded data removed]",
      "text/plain": [
       "<Figure size 600x400 with 1 Axes>"
      ]
     },
     "metadata": {},
     "output_type": "display_data"
    }
   ],
   "source": [
    "data_2['transmission_display'] = o_data['transmission_display'].apply(lambda x: 'Automatic' if x == 'Automatic' else \n",
    "                                                          '6_Speed_Automatic' if x == '6-Speed Automatic' else\n",
    "                                                          'Continuously_Variable_Transmission' if x == 'Continuously Variable Transmission' else\n",
    "                                                          '8_Speed_Automatic' if x == '8-Speed Automatic' else\n",
    "                                                          '9_Speed_Automatic' if x == '9-Speed Automatic' else\n",
    "                                                          '6_Speed_Automatic' if x == '6-Speed Automatic' else\n",
    "                                                          '5_Speed_Automatic' if x == '5-Speed Automatic' else\n",
    "                                                          'other')\n",
    "plt.figure(figsize=(6,4))\n",
    "sns.boxplot(x=\"transmission_display\",y=\"price\", data = data_2)\n",
    "plt.xticks(rotation=90)\n",
    "plt.ylim(0,80000)\n",
    "plt.plot()"
   ]
  },
  {
   "cell_type": "markdown",
   "id": "33dcdfcb",
   "metadata": {},
   "source": [
    "Looks relevant, change in mean and besides 2 relatively small range -> convert into dummies"
   ]
  },
  {
   "cell_type": "code",
   "execution_count": 34,
   "id": "4b2b731d",
   "metadata": {},
   "outputs": [],
   "source": [
    "# turn those columns into dummies\n",
    "data_2 = pd.get_dummies(data_2, columns=['transmission_display'], drop_first=True)"
   ]
  },
  {
   "cell_type": "code",
   "execution_count": 35,
   "id": "7acff307",
   "metadata": {},
   "outputs": [
    {
     "data": {
      "text/plain": [
       "[]"
      ]
     },
     "execution_count": 35,
     "metadata": {},
     "output_type": "execute_result"
    },
    {
     "data": {
      "image/png": "[encoded data removed]",
      "text/plain": [
       "<Figure size 1200x500 with 1 Axes>"
      ]
     },
     "metadata": {},
     "output_type": "display_data"
    }
   ],
   "source": [
    "plt.figure(figsize=(12,5))\n",
    "sns.boxplot(x=\"franchise_make\",y=\"price\", data = o_data)\n",
    "plt.xticks(rotation=90)\n",
    "plt.ylim(0,80000)\n",
    "plt.plot()"
   ]
  },
  {
   "cell_type": "markdown",
   "id": "57e1f418",
   "metadata": {},
   "source": [
    "This seems to be too many columns to just turn into dummies, and as brand is strongly connected to price this seems an important column to keep -> divide brands into groups depending on their mean price, and label encode these groups."
   ]
  },
  {
   "cell_type": "code",
   "execution_count": 36,
   "id": "81d1d3d4",
   "metadata": {},
   "outputs": [
    {
     "data": {
      "text/html": [
       "<div>\n",
       "<style scoped>\n",
       "    .dataframe tbody tr th:only-of-type {\n",
       "        vertical-align: middle;\n",
       "    }\n",
       "\n",
       "    .dataframe tbody tr th {\n",
       "        vertical-align: top;\n",
       "    }\n",
       "\n",
       "    .dataframe thead th {\n",
       "        text-align: right;\n",
       "    }\n",
       "</style>\n",
       "<table border=\"1\" class=\"dataframe\">\n",
       "  <thead>\n",
       "    <tr style=\"text-align: right;\">\n",
       "      <th></th>\n",
       "      <th>franchise_make</th>\n",
       "      <th>price</th>\n",
       "    </tr>\n",
       "  </thead>\n",
       "  <tbody>\n",
       "    <tr>\n",
       "      <th>16</th>\n",
       "      <td>Kia</td>\n",
       "      <td>17610.859551</td>\n",
       "    </tr>\n",
       "    <tr>\n",
       "      <th>25</th>\n",
       "      <td>Mitsubishi</td>\n",
       "      <td>17617.980000</td>\n",
       "    </tr>\n",
       "    <tr>\n",
       "      <th>29</th>\n",
       "      <td>Scion</td>\n",
       "      <td>17778.894737</td>\n",
       "    </tr>\n",
       "    <tr>\n",
       "      <th>32</th>\n",
       "      <td>Volkswagen</td>\n",
       "      <td>18031.586957</td>\n",
       "    </tr>\n",
       "    <tr>\n",
       "      <th>13</th>\n",
       "      <td>Hyundai</td>\n",
       "      <td>18046.270270</td>\n",
       "    </tr>\n",
       "  </tbody>\n",
       "</table>\n",
       "</div>"
      ],
      "text/plain": [
       "   franchise_make         price\n",
       "16            Kia  17610.859551\n",
       "25     Mitsubishi  17617.980000\n",
       "29          Scion  17778.894737\n",
       "32     Volkswagen  18031.586957\n",
       "13        Hyundai  18046.270270"
      ]
     },
     "execution_count": 36,
     "metadata": {},
     "output_type": "execute_result"
    }
   ],
   "source": [
    "# look at mean price by group\n",
    "brand_mean_price=data.groupby('franchise_make', as_index=False)['price'].mean()\n",
    "brand_mean_price=brand_mean_price.sort_values(by=['price'])\n",
    "brand_mean_price.head()"
   ]
  },
  {
   "cell_type": "code",
   "execution_count": 37,
   "id": "22a32787",
   "metadata": {},
   "outputs": [],
   "source": [
    "# sort the brands into groups with similar means\n",
    "group_0 = brand_mean_price.iloc[0:8,0]\n",
    "group_1 = brand_mean_price.iloc[8:14,0]\n",
    "group_2 = brand_mean_price.iloc[14:19,0]\n",
    "group_3 = brand_mean_price.iloc[19:25,0]\n",
    "group_4 = brand_mean_price.iloc[25:34,0]\n",
    "group_5 = brand_mean_price.iloc[34:38,0]\n",
    "group_6 = brand_mean_price.iloc[38:40,0]\n",
    "\n",
    "# write function to get names\n",
    "def get_names (group):\n",
    "    final = []\n",
    "    for i in range(0,len(group)):\n",
    "        name = group.iloc[i]\n",
    "        final.append(name)\n",
    "    return(final)\n",
    "# list of names in each group\n",
    "names_0 = get_names(group_0)\n",
    "names_1 = get_names(group_1)\n",
    "names_2 = get_names(group_2)\n",
    "names_3 = get_names(group_3)\n",
    "names_4 = get_names(group_4)\n",
    "names_5 = get_names(group_5)\n",
    "names_6 = get_names(group_6)\n",
    "\n",
    "# replace each object with a number of their group\n",
    "data_2['franchise_make'] = o_data['franchise_make'].apply(lambda x: 0 if x in names_0 else\n",
    "                                                          1 if x in names_1 else\n",
    "                                                          2 if x in names_2 else\n",
    "                                                          3 if x in names_3 else\n",
    "                                                          4 if x in names_4 else\n",
    "                                                          5 if x in names_5 else\n",
    "                                                          6 if x in names_6 else\n",
    "                                                         'wrong')"
   ]
  },
  {
   "cell_type": "code",
   "execution_count": 38,
   "id": "829e6966",
   "metadata": {},
   "outputs": [
    {
     "data": {
      "text/plain": [
       "2020-09-02    163\n",
       "2020-08-28    119\n",
       "2020-09-03    110\n",
       "2020-08-27    109\n",
       "2020-08-30    105\n",
       "Name: listed_date, dtype: int64"
      ]
     },
     "execution_count": 38,
     "metadata": {},
     "output_type": "execute_result"
    }
   ],
   "source": [
    "data.listed_date.value_counts().head()"
   ]
  },
  {
   "cell_type": "code",
   "execution_count": 39,
   "id": "5b8bec2e",
   "metadata": {},
   "outputs": [
    {
     "data": {
      "text/plain": [
       "-0.027944370408355408"
      ]
     },
     "execution_count": 39,
     "metadata": {},
     "output_type": "execute_result"
    }
   ],
   "source": [
    "#simply turn into numerical\n",
    "import datetime\n",
    "data_2['listed_date']=pd.to_datetime(data_2[\"listed_date\"]).dt.strftime(\"%Y%m%d\")\n",
    "data_2['listed_date']=data_2.listed_date.astype(int)\n",
    "# get correlation\n",
    "data_2['listed_date'].corr(data_2['price'])"
   ]
  },
  {
   "cell_type": "markdown",
   "id": "0c6eec01",
   "metadata": {},
   "source": [
    "Has a negative correlation between listing date and price, rather small"
   ]
  },
  {
   "cell_type": "code",
   "execution_count": 40,
   "id": "d7bad72a",
   "metadata": {},
   "outputs": [
    {
     "data": {
      "text/plain": [
       "Escape     166\n",
       "Rogue      146\n",
       "Accord     125\n",
       "Corolla    114\n",
       "RAV4       108\n",
       "Name: model_name, dtype: int64"
      ]
     },
     "execution_count": 40,
     "metadata": {},
     "output_type": "execute_result"
    }
   ],
   "source": [
    "data.model_name.value_counts().head()"
   ]
  },
  {
   "cell_type": "markdown",
   "id": "05180abd",
   "metadata": {},
   "source": [
    "Looking at both head and tail, there is a good distribution of the different model names, not one that is prelevant wherease the rest only has 1 or 2 entries -> group and turn into numeric"
   ]
  },
  {
   "cell_type": "code",
   "execution_count": 41,
   "id": "cb50d8cc",
   "metadata": {},
   "outputs": [
    {
     "data": {
      "text/html": [
       "<div>\n",
       "<style scoped>\n",
       "    .dataframe tbody tr th:only-of-type {\n",
       "        vertical-align: middle;\n",
       "    }\n",
       "\n",
       "    .dataframe tbody tr th {\n",
       "        vertical-align: top;\n",
       "    }\n",
       "\n",
       "    .dataframe thead th {\n",
       "        text-align: right;\n",
       "    }\n",
       "</style>\n",
       "<table border=\"1\" class=\"dataframe\">\n",
       "  <thead>\n",
       "    <tr style=\"text-align: right;\">\n",
       "      <th></th>\n",
       "      <th>model_name</th>\n",
       "      <th>price</th>\n",
       "    </tr>\n",
       "  </thead>\n",
       "  <tbody>\n",
       "    <tr>\n",
       "      <th>195</th>\n",
       "      <td>QX4</td>\n",
       "      <td>2000.0</td>\n",
       "    </tr>\n",
       "    <tr>\n",
       "      <th>164</th>\n",
       "      <td>Mariner Hybrid</td>\n",
       "      <td>2953.0</td>\n",
       "    </tr>\n",
       "    <tr>\n",
       "      <th>95</th>\n",
       "      <td>Explorer Sport Trac</td>\n",
       "      <td>2995.0</td>\n",
       "    </tr>\n",
       "    <tr>\n",
       "      <th>101</th>\n",
       "      <td>Five Hundred</td>\n",
       "      <td>3000.0</td>\n",
       "    </tr>\n",
       "    <tr>\n",
       "      <th>182</th>\n",
       "      <td>Park Avenue</td>\n",
       "      <td>3000.0</td>\n",
       "    </tr>\n",
       "  </tbody>\n",
       "</table>\n",
       "</div>"
      ],
      "text/plain": [
       "              model_name   price\n",
       "195                  QX4  2000.0\n",
       "164       Mariner Hybrid  2953.0\n",
       "95   Explorer Sport Trac  2995.0\n",
       "101         Five Hundred  3000.0\n",
       "182          Park Avenue  3000.0"
      ]
     },
     "execution_count": 41,
     "metadata": {},
     "output_type": "execute_result"
    }
   ],
   "source": [
    "# look at grouped mean\n",
    "make_mean_price=data.groupby('model_name', as_index=False)['price'].mean()\n",
    "make_mean_price=make_mean_price.sort_values(by=['price'])\n",
    "make_mean_price.head()"
   ]
  },
  {
   "cell_type": "code",
   "execution_count": 42,
   "id": "925c84b2",
   "metadata": {},
   "outputs": [],
   "source": [
    "# like with other column, divide 361 rows into 7 groups, different sizes but around same mean\n",
    "group_0 = make_mean_price.iloc[0:100,0] # 2000-15000\n",
    "group_1 = make_mean_price.iloc[100:194,0] # 15000-25000 \n",
    "group_2 = make_mean_price.iloc[194:237,0] # 25000-30000 \n",
    "group_3 = make_mean_price.iloc[237:279,0] # 30000-35000\n",
    "group_4 = make_mean_price.iloc[279:329,0] # 35000-50000\n",
    "group_5 = make_mean_price.iloc[319:352,0] # 50000-10000\n",
    "group_6 = make_mean_price.iloc[352:362,0] # rest\n",
    "\n",
    "# list of names in each group\n",
    "names_0 = get_names(group_0)\n",
    "names_1 = get_names(group_1)\n",
    "names_2 = get_names(group_2)\n",
    "names_3 = get_names(group_3)\n",
    "names_4 = get_names(group_4)\n",
    "names_5 = get_names(group_5)\n",
    "names_6 = get_names(group_6)\n",
    "\n",
    "# replace each object with a number of their group\n",
    "data_2['model_name'] = o_data['model_name'].apply(lambda x: 0 if x in names_0 else\n",
    "                                                          1 if x in names_1 else\n",
    "                                                          2 if x in names_2 else\n",
    "                                                          3 if x in names_3 else\n",
    "                                                          4 if x in names_4 else\n",
    "                                                          5 if x in names_5 else\n",
    "                                                          6 if x in names_6 else\n",
    "                                                         'wrong')"
   ]
  },
  {
   "cell_type": "code",
   "execution_count": 43,
   "id": "6bd7b3f7",
   "metadata": {},
   "outputs": [
    {
     "data": {
      "text/plain": [
       "0.5706133697377521"
      ]
     },
     "execution_count": 43,
     "metadata": {},
     "output_type": "execute_result"
    }
   ],
   "source": [
    "# drop first letter of each row\n",
    "data_2['trimId'] = data['trimId'].str.slice(1)\n",
    "# convert to integer\n",
    "data_2['trimId']=data_2.trimId.astype(int)\n",
    "# look at correlation\n",
    "data_2['trimId'].corr(data_2['price'])"
   ]
  },
  {
   "cell_type": "code",
   "execution_count": 44,
   "id": "75c50d13",
   "metadata": {},
   "outputs": [],
   "source": [
    "# drop categorical version of columns we have numerical copy of\n",
    "data_2 = data_2.drop(columns=[\"transmission\",\"wheel_system_display\",\"fuel_type\",\"wheel_system\"], axis = 1)"
   ]
  },
  {
   "cell_type": "code",
   "execution_count": 45,
   "id": "1189a004",
   "metadata": {},
   "outputs": [],
   "source": [
    "dat_types = pd.DataFrame(data_2.dtypes)"
   ]
  },
  {
   "cell_type": "code",
   "execution_count": 46,
   "id": "86377646",
   "metadata": {},
   "outputs": [
    {
     "data": {
      "text/plain": [
       "int64      21\n",
       "uint8      19\n",
       "float64    18\n",
       "dtype: int64"
      ]
     },
     "execution_count": 46,
     "metadata": {},
     "output_type": "execute_result"
    }
   ],
   "source": [
    "dat_types.value_counts()"
   ]
  },
  {
   "cell_type": "code",
   "execution_count": 47,
   "id": "97cdb178",
   "metadata": {},
   "outputs": [
    {
     "data": {
      "text/plain": [
       "(4532, 58)"
      ]
     },
     "execution_count": 47,
     "metadata": {},
     "output_type": "execute_result"
    }
   ],
   "source": [
    "data_2.shape"
   ]
  },
  {
   "cell_type": "code",
   "execution_count": 48,
   "id": "77af86cc",
   "metadata": {},
   "outputs": [],
   "source": [
    "data = data_2"
   ]
  },
  {
   "cell_type": "code",
   "execution_count": 49,
   "id": "32893567",
   "metadata": {},
   "outputs": [
    {
     "data": {
      "text/html": [
       "<div>\n",
       "<style scoped>\n",
       "    .dataframe tbody tr th:only-of-type {\n",
       "        vertical-align: middle;\n",
       "    }\n",
       "\n",
       "    .dataframe tbody tr th {\n",
       "        vertical-align: top;\n",
       "    }\n",
       "\n",
       "    .dataframe thead th {\n",
       "        text-align: right;\n",
       "    }\n",
       "</style>\n",
       "<table border=\"1\" class=\"dataframe\">\n",
       "  <thead>\n",
       "    <tr style=\"text-align: right;\">\n",
       "      <th></th>\n",
       "      <th>back_legroom</th>\n",
       "      <th>city_fuel_economy</th>\n",
       "      <th>daysonmarket</th>\n",
       "      <th>dealer_zip</th>\n",
       "      <th>engine_displacement</th>\n",
       "      <th>fleet</th>\n",
       "      <th>frame_damaged</th>\n",
       "      <th>franchise_make</th>\n",
       "      <th>front_legroom</th>\n",
       "      <th>fuel_tank_volume</th>\n",
       "      <th>...</th>\n",
       "      <th>engine_cylinders_V6</th>\n",
       "      <th>engine_cylinders_V6_Flex_Fuel_Vehicle</th>\n",
       "      <th>engine_cylinders_V8</th>\n",
       "      <th>engine_cylinders_other</th>\n",
       "      <th>transmission_display_6_Speed_Automatic</th>\n",
       "      <th>transmission_display_8_Speed_Automatic</th>\n",
       "      <th>transmission_display_9_Speed_Automatic</th>\n",
       "      <th>transmission_display_Automatic</th>\n",
       "      <th>transmission_display_Continuously_Variable_Transmission</th>\n",
       "      <th>transmission_display_other</th>\n",
       "    </tr>\n",
       "  </thead>\n",
       "  <tbody>\n",
       "    <tr>\n",
       "      <th>0</th>\n",
       "      <td>36.8</td>\n",
       "      <td>21.0</td>\n",
       "      <td>40</td>\n",
       "      <td>78016</td>\n",
       "      <td>2000.0</td>\n",
       "      <td>0</td>\n",
       "      <td>0</td>\n",
       "      <td>1</td>\n",
       "      <td>42.8</td>\n",
       "      <td>15.5</td>\n",
       "      <td>...</td>\n",
       "      <td>0</td>\n",
       "      <td>0</td>\n",
       "      <td>0</td>\n",
       "      <td>0</td>\n",
       "      <td>0</td>\n",
       "      <td>0</td>\n",
       "      <td>0</td>\n",
       "      <td>1</td>\n",
       "      <td>0</td>\n",
       "      <td>0</td>\n",
       "    </tr>\n",
       "    <tr>\n",
       "      <th>2</th>\n",
       "      <td>36.8</td>\n",
       "      <td>23.0</td>\n",
       "      <td>30</td>\n",
       "      <td>37129</td>\n",
       "      <td>2500.0</td>\n",
       "      <td>0</td>\n",
       "      <td>0</td>\n",
       "      <td>1</td>\n",
       "      <td>43.1</td>\n",
       "      <td>15.4</td>\n",
       "      <td>...</td>\n",
       "      <td>0</td>\n",
       "      <td>0</td>\n",
       "      <td>0</td>\n",
       "      <td>0</td>\n",
       "      <td>0</td>\n",
       "      <td>0</td>\n",
       "      <td>0</td>\n",
       "      <td>1</td>\n",
       "      <td>0</td>\n",
       "      <td>0</td>\n",
       "    </tr>\n",
       "    <tr>\n",
       "      <th>5</th>\n",
       "      <td>38.2</td>\n",
       "      <td>21.0</td>\n",
       "      <td>161</td>\n",
       "      <td>73069</td>\n",
       "      <td>2000.0</td>\n",
       "      <td>0</td>\n",
       "      <td>0</td>\n",
       "      <td>0</td>\n",
       "      <td>41.5</td>\n",
       "      <td>16.4</td>\n",
       "      <td>...</td>\n",
       "      <td>0</td>\n",
       "      <td>0</td>\n",
       "      <td>0</td>\n",
       "      <td>0</td>\n",
       "      <td>1</td>\n",
       "      <td>0</td>\n",
       "      <td>0</td>\n",
       "      <td>0</td>\n",
       "      <td>0</td>\n",
       "      <td>0</td>\n",
       "    </tr>\n",
       "    <tr>\n",
       "      <th>6</th>\n",
       "      <td>40.3</td>\n",
       "      <td>15.0</td>\n",
       "      <td>14</td>\n",
       "      <td>48836</td>\n",
       "      <td>5700.0</td>\n",
       "      <td>0</td>\n",
       "      <td>0</td>\n",
       "      <td>4</td>\n",
       "      <td>41.0</td>\n",
       "      <td>26.0</td>\n",
       "      <td>...</td>\n",
       "      <td>0</td>\n",
       "      <td>0</td>\n",
       "      <td>1</td>\n",
       "      <td>0</td>\n",
       "      <td>0</td>\n",
       "      <td>1</td>\n",
       "      <td>0</td>\n",
       "      <td>0</td>\n",
       "      <td>0</td>\n",
       "      <td>0</td>\n",
       "    </tr>\n",
       "    <tr>\n",
       "      <th>7</th>\n",
       "      <td>40.9</td>\n",
       "      <td>21.0</td>\n",
       "      <td>49</td>\n",
       "      <td>12701</td>\n",
       "      <td>2400.0</td>\n",
       "      <td>1</td>\n",
       "      <td>0</td>\n",
       "      <td>0</td>\n",
       "      <td>44.1</td>\n",
       "      <td>18.8</td>\n",
       "      <td>...</td>\n",
       "      <td>0</td>\n",
       "      <td>0</td>\n",
       "      <td>0</td>\n",
       "      <td>0</td>\n",
       "      <td>0</td>\n",
       "      <td>1</td>\n",
       "      <td>0</td>\n",
       "      <td>0</td>\n",
       "      <td>0</td>\n",
       "      <td>0</td>\n",
       "    </tr>\n",
       "    <tr>\n",
       "      <th>...</th>\n",
       "      <td>...</td>\n",
       "      <td>...</td>\n",
       "      <td>...</td>\n",
       "      <td>...</td>\n",
       "      <td>...</td>\n",
       "      <td>...</td>\n",
       "      <td>...</td>\n",
       "      <td>...</td>\n",
       "      <td>...</td>\n",
       "      <td>...</td>\n",
       "      <td>...</td>\n",
       "      <td>...</td>\n",
       "      <td>...</td>\n",
       "      <td>...</td>\n",
       "      <td>...</td>\n",
       "      <td>...</td>\n",
       "      <td>...</td>\n",
       "      <td>...</td>\n",
       "      <td>...</td>\n",
       "      <td>...</td>\n",
       "      <td>...</td>\n",
       "    </tr>\n",
       "    <tr>\n",
       "      <th>5994</th>\n",
       "      <td>33.4</td>\n",
       "      <td>23.0</td>\n",
       "      <td>1</td>\n",
       "      <td>95407</td>\n",
       "      <td>2000.0</td>\n",
       "      <td>0</td>\n",
       "      <td>0</td>\n",
       "      <td>1</td>\n",
       "      <td>43.1</td>\n",
       "      <td>12.4</td>\n",
       "      <td>...</td>\n",
       "      <td>0</td>\n",
       "      <td>0</td>\n",
       "      <td>0</td>\n",
       "      <td>0</td>\n",
       "      <td>0</td>\n",
       "      <td>0</td>\n",
       "      <td>0</td>\n",
       "      <td>0</td>\n",
       "      <td>0</td>\n",
       "      <td>1</td>\n",
       "    </tr>\n",
       "    <tr>\n",
       "      <th>5995</th>\n",
       "      <td>37.0</td>\n",
       "      <td>20.0</td>\n",
       "      <td>88</td>\n",
       "      <td>15146</td>\n",
       "      <td>2000.0</td>\n",
       "      <td>0</td>\n",
       "      <td>0</td>\n",
       "      <td>3</td>\n",
       "      <td>44.3</td>\n",
       "      <td>18.0</td>\n",
       "      <td>...</td>\n",
       "      <td>0</td>\n",
       "      <td>0</td>\n",
       "      <td>0</td>\n",
       "      <td>0</td>\n",
       "      <td>1</td>\n",
       "      <td>0</td>\n",
       "      <td>0</td>\n",
       "      <td>0</td>\n",
       "      <td>0</td>\n",
       "      <td>0</td>\n",
       "    </tr>\n",
       "    <tr>\n",
       "      <th>5996</th>\n",
       "      <td>39.8</td>\n",
       "      <td>22.0</td>\n",
       "      <td>38</td>\n",
       "      <td>77065</td>\n",
       "      <td>2500.0</td>\n",
       "      <td>0</td>\n",
       "      <td>0</td>\n",
       "      <td>0</td>\n",
       "      <td>45.8</td>\n",
       "      <td>18.5</td>\n",
       "      <td>...</td>\n",
       "      <td>0</td>\n",
       "      <td>0</td>\n",
       "      <td>0</td>\n",
       "      <td>0</td>\n",
       "      <td>0</td>\n",
       "      <td>0</td>\n",
       "      <td>0</td>\n",
       "      <td>1</td>\n",
       "      <td>0</td>\n",
       "      <td>0</td>\n",
       "    </tr>\n",
       "    <tr>\n",
       "      <th>5997</th>\n",
       "      <td>37.3</td>\n",
       "      <td>22.0</td>\n",
       "      <td>92</td>\n",
       "      <td>84341</td>\n",
       "      <td>2000.0</td>\n",
       "      <td>0</td>\n",
       "      <td>0</td>\n",
       "      <td>1</td>\n",
       "      <td>43.1</td>\n",
       "      <td>15.7</td>\n",
       "      <td>...</td>\n",
       "      <td>0</td>\n",
       "      <td>0</td>\n",
       "      <td>0</td>\n",
       "      <td>0</td>\n",
       "      <td>0</td>\n",
       "      <td>0</td>\n",
       "      <td>0</td>\n",
       "      <td>1</td>\n",
       "      <td>0</td>\n",
       "      <td>0</td>\n",
       "    </tr>\n",
       "    <tr>\n",
       "      <th>5999</th>\n",
       "      <td>35.7</td>\n",
       "      <td>30.0</td>\n",
       "      <td>64</td>\n",
       "      <td>95661</td>\n",
       "      <td>2000.0</td>\n",
       "      <td>1</td>\n",
       "      <td>0</td>\n",
       "      <td>0</td>\n",
       "      <td>42.2</td>\n",
       "      <td>14.0</td>\n",
       "      <td>...</td>\n",
       "      <td>0</td>\n",
       "      <td>0</td>\n",
       "      <td>0</td>\n",
       "      <td>0</td>\n",
       "      <td>0</td>\n",
       "      <td>0</td>\n",
       "      <td>0</td>\n",
       "      <td>0</td>\n",
       "      <td>1</td>\n",
       "      <td>0</td>\n",
       "    </tr>\n",
       "  </tbody>\n",
       "</table>\n",
       "<p>4532 rows × 58 columns</p>\n",
       "</div>"
      ],
      "text/plain": [
       "      back_legroom  city_fuel_economy  daysonmarket  dealer_zip  \\\n",
       "0             36.8               21.0            40       78016   \n",
       "2             36.8               23.0            30       37129   \n",
       "5             38.2               21.0           161       73069   \n",
       "6             40.3               15.0            14       48836   \n",
       "7             40.9               21.0            49       12701   \n",
       "...            ...                ...           ...         ...   \n",
       "5994          33.4               23.0             1       95407   \n",
       "5995          37.0               20.0            88       15146   \n",
       "5996          39.8               22.0            38       77065   \n",
       "5997          37.3               22.0            92       84341   \n",
       "5999          35.7               30.0            64       95661   \n",
       "\n",
       "      engine_displacement  fleet  frame_damaged  franchise_make  \\\n",
       "0                  2000.0      0              0               1   \n",
       "2                  2500.0      0              0               1   \n",
       "5                  2000.0      0              0               0   \n",
       "6                  5700.0      0              0               4   \n",
       "7                  2400.0      1              0               0   \n",
       "...                   ...    ...            ...             ...   \n",
       "5994               2000.0      0              0               1   \n",
       "5995               2000.0      0              0               3   \n",
       "5996               2500.0      0              0               0   \n",
       "5997               2000.0      0              0               1   \n",
       "5999               2000.0      1              0               0   \n",
       "\n",
       "      front_legroom  fuel_tank_volume  ...  engine_cylinders_V6  \\\n",
       "0              42.8              15.5  ...                    0   \n",
       "2              43.1              15.4  ...                    0   \n",
       "5              41.5              16.4  ...                    0   \n",
       "6              41.0              26.0  ...                    0   \n",
       "7              44.1              18.8  ...                    0   \n",
       "...             ...               ...  ...                  ...   \n",
       "5994           43.1              12.4  ...                    0   \n",
       "5995           44.3              18.0  ...                    0   \n",
       "5996           45.8              18.5  ...                    0   \n",
       "5997           43.1              15.7  ...                    0   \n",
       "5999           42.2              14.0  ...                    0   \n",
       "\n",
       "      engine_cylinders_V6_Flex_Fuel_Vehicle  engine_cylinders_V8  \\\n",
       "0                                         0                    0   \n",
       "2                                         0                    0   \n",
       "5                                         0                    0   \n",
       "6                                         0                    1   \n",
       "7                                         0                    0   \n",
       "...                                     ...                  ...   \n",
       "5994                                      0                    0   \n",
       "5995                                      0                    0   \n",
       "5996                                      0                    0   \n",
       "5997                                      0                    0   \n",
       "5999                                      0                    0   \n",
       "\n",
       "      engine_cylinders_other  transmission_display_6_Speed_Automatic  \\\n",
       "0                          0                                       0   \n",
       "2                          0                                       0   \n",
       "5                          0                                       1   \n",
       "6                          0                                       0   \n",
       "7                          0                                       0   \n",
       "...                      ...                                     ...   \n",
       "5994                       0                                       0   \n",
       "5995                       0                                       1   \n",
       "5996                       0                                       0   \n",
       "5997                       0                                       0   \n",
       "5999                       0                                       0   \n",
       "\n",
       "      transmission_display_8_Speed_Automatic  \\\n",
       "0                                          0   \n",
       "2                                          0   \n",
       "5                                          0   \n",
       "6                                          1   \n",
       "7                                          1   \n",
       "...                                      ...   \n",
       "5994                                       0   \n",
       "5995                                       0   \n",
       "5996                                       0   \n",
       "5997                                       0   \n",
       "5999                                       0   \n",
       "\n",
       "      transmission_display_9_Speed_Automatic  transmission_display_Automatic  \\\n",
       "0                                          0                               1   \n",
       "2                                          0                               1   \n",
       "5                                          0                               0   \n",
       "6                                          0                               0   \n",
       "7                                          0                               0   \n",
       "...                                      ...                             ...   \n",
       "5994                                       0                               0   \n",
       "5995                                       0                               0   \n",
       "5996                                       0                               1   \n",
       "5997                                       0                               1   \n",
       "5999                                       0                               0   \n",
       "\n",
       "      transmission_display_Continuously_Variable_Transmission  \\\n",
       "0                                                     0         \n",
       "2                                                     0         \n",
       "5                                                     0         \n",
       "6                                                     0         \n",
       "7                                                     0         \n",
       "...                                                 ...         \n",
       "5994                                                  0         \n",
       "5995                                                  0         \n",
       "5996                                                  0         \n",
       "5997                                                  0         \n",
       "5999                                                  1         \n",
       "\n",
       "      transmission_display_other  \n",
       "0                              0  \n",
       "2                              0  \n",
       "5                              0  \n",
       "6                              0  \n",
       "7                              0  \n",
       "...                          ...  \n",
       "5994                           1  \n",
       "5995                           0  \n",
       "5996                           0  \n",
       "5997                           0  \n",
       "5999                           0  \n",
       "\n",
       "[4532 rows x 58 columns]"
      ]
     },
     "execution_count": 49,
     "metadata": {},
     "output_type": "execute_result"
    }
   ],
   "source": [
    "data"
   ]
  },
  {
   "cell_type": "markdown",
   "id": "37edd86c",
   "metadata": {},
   "source": [
    "### Feature Selection "
   ]
  },
  {
   "cell_type": "code",
   "execution_count": 50,
   "id": "911b64c2",
   "metadata": {},
   "outputs": [
    {
     "data": {
      "text/html": [
       "<div>\n",
       "<style scoped>\n",
       "    .dataframe tbody tr th:only-of-type {\n",
       "        vertical-align: middle;\n",
       "    }\n",
       "\n",
       "    .dataframe tbody tr th {\n",
       "        vertical-align: top;\n",
       "    }\n",
       "\n",
       "    .dataframe thead th {\n",
       "        text-align: right;\n",
       "    }\n",
       "</style>\n",
       "<table border=\"1\" class=\"dataframe\">\n",
       "  <thead>\n",
       "    <tr style=\"text-align: right;\">\n",
       "      <th></th>\n",
       "      <th>index</th>\n",
       "      <th>0</th>\n",
       "    </tr>\n",
       "  </thead>\n",
       "  <tbody>\n",
       "    <tr>\n",
       "      <th>21</th>\n",
       "      <td>model_name</td>\n",
       "      <td>0.581373</td>\n",
       "    </tr>\n",
       "    <tr>\n",
       "      <th>34</th>\n",
       "      <td>year</td>\n",
       "      <td>0.574644</td>\n",
       "    </tr>\n",
       "    <tr>\n",
       "      <th>31</th>\n",
       "      <td>trimId</td>\n",
       "      <td>0.570613</td>\n",
       "    </tr>\n",
       "    <tr>\n",
       "      <th>23</th>\n",
       "      <td>power</td>\n",
       "      <td>0.406592</td>\n",
       "    </tr>\n",
       "    <tr>\n",
       "      <th>30</th>\n",
       "      <td>torque</td>\n",
       "      <td>0.386623</td>\n",
       "    </tr>\n",
       "    <tr>\n",
       "      <th>33</th>\n",
       "      <td>width</td>\n",
       "      <td>0.303995</td>\n",
       "    </tr>\n",
       "    <tr>\n",
       "      <th>53</th>\n",
       "      <td>transmission_display_8_Speed_Automatic</td>\n",
       "      <td>0.268433</td>\n",
       "    </tr>\n",
       "    <tr>\n",
       "      <th>32</th>\n",
       "      <td>wheelbase</td>\n",
       "      <td>0.256636</td>\n",
       "    </tr>\n",
       "    <tr>\n",
       "      <th>11</th>\n",
       "      <td>height</td>\n",
       "      <td>0.245438</td>\n",
       "    </tr>\n",
       "    <tr>\n",
       "      <th>48</th>\n",
       "      <td>engine_cylinders_V6</td>\n",
       "      <td>0.245117</td>\n",
       "    </tr>\n",
       "    <tr>\n",
       "      <th>16</th>\n",
       "      <td>length</td>\n",
       "      <td>0.238048</td>\n",
       "    </tr>\n",
       "    <tr>\n",
       "      <th>9</th>\n",
       "      <td>fuel_tank_volume</td>\n",
       "      <td>0.225640</td>\n",
       "    </tr>\n",
       "    <tr>\n",
       "      <th>4</th>\n",
       "      <td>engine_displacement</td>\n",
       "      <td>0.220415</td>\n",
       "    </tr>\n",
       "    <tr>\n",
       "      <th>26</th>\n",
       "      <td>savings_amount</td>\n",
       "      <td>0.203765</td>\n",
       "    </tr>\n",
       "    <tr>\n",
       "      <th>7</th>\n",
       "      <td>franchise_make</td>\n",
       "      <td>0.202163</td>\n",
       "    </tr>\n",
       "    <tr>\n",
       "      <th>1</th>\n",
       "      <td>city_fuel_economy</td>\n",
       "      <td>-0.203095</td>\n",
       "    </tr>\n",
       "    <tr>\n",
       "      <th>37</th>\n",
       "      <td>wheel_system_cat</td>\n",
       "      <td>-0.203731</td>\n",
       "    </tr>\n",
       "    <tr>\n",
       "      <th>38</th>\n",
       "      <td>wheel_system_display_cat</td>\n",
       "      <td>-0.208184</td>\n",
       "    </tr>\n",
       "    <tr>\n",
       "      <th>12</th>\n",
       "      <td>highway_fuel_economy</td>\n",
       "      <td>-0.230709</td>\n",
       "    </tr>\n",
       "    <tr>\n",
       "      <th>44</th>\n",
       "      <td>body_type_Sedan</td>\n",
       "      <td>-0.231848</td>\n",
       "    </tr>\n",
       "    <tr>\n",
       "      <th>47</th>\n",
       "      <td>engine_cylinders_I4</td>\n",
       "      <td>-0.232696</td>\n",
       "    </tr>\n",
       "    <tr>\n",
       "      <th>22</th>\n",
       "      <td>owner_count</td>\n",
       "      <td>-0.383574</td>\n",
       "    </tr>\n",
       "    <tr>\n",
       "      <th>20</th>\n",
       "      <td>mileage</td>\n",
       "      <td>-0.566824</td>\n",
       "    </tr>\n",
       "  </tbody>\n",
       "</table>\n",
       "</div>"
      ],
      "text/plain": [
       "                                     index         0\n",
       "21                              model_name  0.581373\n",
       "34                                    year  0.574644\n",
       "31                                  trimId  0.570613\n",
       "23                                   power  0.406592\n",
       "30                                  torque  0.386623\n",
       "33                                   width  0.303995\n",
       "53  transmission_display_8_Speed_Automatic  0.268433\n",
       "32                               wheelbase  0.256636\n",
       "11                                  height  0.245438\n",
       "48                     engine_cylinders_V6  0.245117\n",
       "16                                  length  0.238048\n",
       "9                         fuel_tank_volume  0.225640\n",
       "4                      engine_displacement  0.220415\n",
       "26                          savings_amount  0.203765\n",
       "7                           franchise_make  0.202163\n",
       "1                        city_fuel_economy -0.203095\n",
       "37                        wheel_system_cat -0.203731\n",
       "38                wheel_system_display_cat -0.208184\n",
       "12                    highway_fuel_economy -0.230709\n",
       "44                         body_type_Sedan -0.231848\n",
       "47                     engine_cylinders_I4 -0.232696\n",
       "22                             owner_count -0.383574\n",
       "20                                 mileage -0.566824"
      ]
     },
     "execution_count": 50,
     "metadata": {},
     "output_type": "execute_result"
    }
   ],
   "source": [
    "final_corrs = pd.DataFrame(data.corrwith(data.price)).reset_index().sort_values(by = 0, ascending = False)\n",
    "\n",
    "final_corr_cols = list(final_corrs.loc[(final_corrs[0] >= 0.2) | (final_corrs[0] <= -0.2)][1:]['index'])\n",
    "final_corrs.loc[(final_corrs[0] >= 0.2) | (final_corrs[0] <= -0.2)][1:]"
   ]
  },
  {
   "cell_type": "code",
   "execution_count": 51,
   "id": "7fab9101",
   "metadata": {},
   "outputs": [
    {
     "data": {
      "text/plain": [
       "(4532, 23)"
      ]
     },
     "execution_count": 51,
     "metadata": {},
     "output_type": "execute_result"
    }
   ],
   "source": [
    "X = data.copy()\n",
    "\n",
    "for col in X:\n",
    "    if col not in final_corr_cols:\n",
    "        X.drop(col, axis = 1, inplace = True)\n",
    "\n",
    "X.shape"
   ]
  },
  {
   "cell_type": "markdown",
   "id": "cc969a9c",
   "metadata": {},
   "source": [
    "We have 23 predictors which have a reasonable correlation with price which we will be the only predictors we use in our model building. \n",
    "\n",
    "When we develop our models, we will print the feature importances and note which features are deemed significant by each model. "
   ]
  },
  {
   "cell_type": "code",
   "execution_count": 52,
   "id": "0080a66a",
   "metadata": {},
   "outputs": [
    {
     "data": {
      "text/plain": [
       "city_fuel_economy                         0\n",
       "engine_displacement                       0\n",
       "franchise_make                            0\n",
       "fuel_tank_volume                          1\n",
       "height                                    1\n",
       "highway_fuel_economy                      0\n",
       "length                                    1\n",
       "mileage                                   0\n",
       "model_name                                0\n",
       "owner_count                               0\n",
       "power                                     0\n",
       "savings_amount                            0\n",
       "torque                                    0\n",
       "trimId                                    0\n",
       "wheelbase                                 1\n",
       "width                                     1\n",
       "year                                      0\n",
       "wheel_system_cat                          0\n",
       "wheel_system_display_cat                  0\n",
       "body_type_Sedan                           0\n",
       "engine_cylinders_I4                       0\n",
       "engine_cylinders_V6                       0\n",
       "transmission_display_8_Speed_Automatic    0\n",
       "dtype: int64"
      ]
     },
     "execution_count": 52,
     "metadata": {},
     "output_type": "execute_result"
    }
   ],
   "source": [
    "# checking for any new NAs \n",
    "X.isna().sum()"
   ]
  },
  {
   "cell_type": "code",
   "execution_count": 53,
   "id": "c157d198",
   "metadata": {},
   "outputs": [
    {
     "data": {
      "text/plain": [
       "0"
      ]
     },
     "execution_count": 53,
     "metadata": {},
     "output_type": "execute_result"
    }
   ],
   "source": [
    "y = data.price \n",
    "y.isna().sum()"
   ]
  },
  {
   "cell_type": "markdown",
   "id": "03de54f5",
   "metadata": {},
   "source": [
    "The original dataset had '--' for this one observation. When we performed the data cleaning and prep, these observations were not considered missing but became missing after our feature engineering. We can drop this observation since it is only one row with data missing from the original source. "
   ]
  },
  {
   "cell_type": "code",
   "execution_count": 54,
   "id": "5c4e335b",
   "metadata": {},
   "outputs": [],
   "source": [
    "X.isna().sum()\n",
    "X.iloc[29]\n",
    "X.drop(29, inplace = True)\n",
    "y.drop(29, inplace = True)"
   ]
  },
  {
   "cell_type": "code",
   "execution_count": 55,
   "id": "5099962a",
   "metadata": {},
   "outputs": [],
   "source": [
    "X.to_csv('X.csv')\n",
    "y.to_csv('y.csv')"
   ]
  },
  {
   "cell_type": "code",
   "execution_count": 56,
   "id": "63957c33",
   "metadata": {},
   "outputs": [],
   "source": [
    "clean_X = X.copy()\n",
    "clean_y = y.copy()"
   ]
  },
  {
   "cell_type": "code",
   "execution_count": 57,
   "id": "59c04a76",
   "metadata": {},
   "outputs": [],
   "source": [
    "X_train, X_test, y_train, y_test = train_test_split(X, y, test_size = 0.3, random_state = 4)"
   ]
  },
  {
   "cell_type": "markdown",
   "id": "3c44c801",
   "metadata": {},
   "source": [
    "### Features Selection using Tree Based Models"
   ]
  },
  {
   "cell_type": "markdown",
   "id": "f33e9e84",
   "metadata": {},
   "source": [
    "Using the tree based methods such as RandomForest and DecisionTrees will allow us to double check if our feature selection has been significant or if it produces better results for base models.\n",
    "\n",
    "The original shape of our data after removing the outliers is 4532, 58.\n",
    "\n",
    "After our data cleaning and dropping of the units, we created some NaN values which can be dropped. We can confidently drop these observations because they were initially missing but encoded as '--' which is why we did not initially discover that they were missing. These are 31 observations which we can drop which brings our data shape to 4301, 58"
   ]
  },
  {
   "cell_type": "code",
   "execution_count": 386,
   "id": "85cd374e",
   "metadata": {},
   "outputs": [
    {
     "data": {
      "text/plain": [
       "(4532, 58)"
      ]
     },
     "execution_count": 386,
     "metadata": {},
     "output_type": "execute_result"
    }
   ],
   "source": [
    "data.shape"
   ]
  },
  {
   "cell_type": "code",
   "execution_count": 387,
   "id": "364d6327",
   "metadata": {},
   "outputs": [
    {
     "data": {
      "text/plain": [
       "(4501, 58)"
      ]
     },
     "execution_count": 387,
     "metadata": {},
     "output_type": "execute_result"
    }
   ],
   "source": [
    "data_copy = data.copy()\n",
    "data_copy.dropna(inplace = True)\n",
    "data_copy.shape"
   ]
  },
  {
   "cell_type": "code",
   "execution_count": 388,
   "id": "4b2b0e24",
   "metadata": {},
   "outputs": [],
   "source": [
    "X_tree = data_copy.drop(columns = ['price'])\n",
    "y_tree = data_copy.price"
   ]
  },
  {
   "cell_type": "markdown",
   "id": "602328b9",
   "metadata": {},
   "source": [
    "#### Base Random Forest Feature Selection"
   ]
  },
  {
   "cell_type": "code",
   "execution_count": 389,
   "id": "36c33c0e",
   "metadata": {},
   "outputs": [],
   "source": [
    "rf_features = RandomForestRegressor(random_state = 4).fit(X_tree, y_tree)\n",
    "rf_feats = pd.DataFrame(zip(rf_features.feature_names_in_, rf_features.feature_importances_))"
   ]
  },
  {
   "cell_type": "code",
   "execution_count": 390,
   "id": "493260ff",
   "metadata": {},
   "outputs": [
    {
     "data": {
      "text/html": [
       "<div>\n",
       "<style scoped>\n",
       "    .dataframe tbody tr th:only-of-type {\n",
       "        vertical-align: middle;\n",
       "    }\n",
       "\n",
       "    .dataframe tbody tr th {\n",
       "        vertical-align: top;\n",
       "    }\n",
       "\n",
       "    .dataframe thead th {\n",
       "        text-align: right;\n",
       "    }\n",
       "</style>\n",
       "<table border=\"1\" class=\"dataframe\">\n",
       "  <thead>\n",
       "    <tr style=\"text-align: right;\">\n",
       "      <th></th>\n",
       "      <th>0</th>\n",
       "      <th>1</th>\n",
       "    </tr>\n",
       "  </thead>\n",
       "  <tbody>\n",
       "    <tr>\n",
       "      <th>30</th>\n",
       "      <td>trimId</td>\n",
       "      <td>3.681064e-01</td>\n",
       "    </tr>\n",
       "    <tr>\n",
       "      <th>21</th>\n",
       "      <td>model_name</td>\n",
       "      <td>2.059636e-01</td>\n",
       "    </tr>\n",
       "    <tr>\n",
       "      <th>23</th>\n",
       "      <td>power</td>\n",
       "      <td>1.224561e-01</td>\n",
       "    </tr>\n",
       "    <tr>\n",
       "      <th>20</th>\n",
       "      <td>mileage</td>\n",
       "      <td>8.733049e-02</td>\n",
       "    </tr>\n",
       "    <tr>\n",
       "      <th>29</th>\n",
       "      <td>torque</td>\n",
       "      <td>2.501834e-02</td>\n",
       "    </tr>\n",
       "    <tr>\n",
       "      <th>0</th>\n",
       "      <td>back_legroom</td>\n",
       "      <td>1.947877e-02</td>\n",
       "    </tr>\n",
       "    <tr>\n",
       "      <th>25</th>\n",
       "      <td>savings_amount</td>\n",
       "      <td>1.366988e-02</td>\n",
       "    </tr>\n",
       "    <tr>\n",
       "      <th>11</th>\n",
       "      <td>height</td>\n",
       "      <td>1.346977e-02</td>\n",
       "    </tr>\n",
       "    <tr>\n",
       "      <th>47</th>\n",
       "      <td>engine_cylinders_V6</td>\n",
       "      <td>9.795723e-03</td>\n",
       "    </tr>\n",
       "    <tr>\n",
       "      <th>33</th>\n",
       "      <td>year</td>\n",
       "      <td>9.452366e-03</td>\n",
       "    </tr>\n",
       "    <tr>\n",
       "      <th>15</th>\n",
       "      <td>latitude</td>\n",
       "      <td>9.071714e-03</td>\n",
       "    </tr>\n",
       "    <tr>\n",
       "      <th>26</th>\n",
       "      <td>seller_rating</td>\n",
       "      <td>8.884898e-03</td>\n",
       "    </tr>\n",
       "    <tr>\n",
       "      <th>27</th>\n",
       "      <td>sp_id</td>\n",
       "      <td>8.311864e-03</td>\n",
       "    </tr>\n",
       "    <tr>\n",
       "      <th>16</th>\n",
       "      <td>length</td>\n",
       "      <td>8.101590e-03</td>\n",
       "    </tr>\n",
       "    <tr>\n",
       "      <th>12</th>\n",
       "      <td>highway_fuel_economy</td>\n",
       "      <td>8.033217e-03</td>\n",
       "    </tr>\n",
       "    <tr>\n",
       "      <th>32</th>\n",
       "      <td>width</td>\n",
       "      <td>7.344786e-03</td>\n",
       "    </tr>\n",
       "    <tr>\n",
       "      <th>9</th>\n",
       "      <td>fuel_tank_volume</td>\n",
       "      <td>7.089915e-03</td>\n",
       "    </tr>\n",
       "    <tr>\n",
       "      <th>2</th>\n",
       "      <td>daysonmarket</td>\n",
       "      <td>6.167395e-03</td>\n",
       "    </tr>\n",
       "    <tr>\n",
       "      <th>36</th>\n",
       "      <td>wheel_system_cat</td>\n",
       "      <td>6.084273e-03</td>\n",
       "    </tr>\n",
       "    <tr>\n",
       "      <th>18</th>\n",
       "      <td>longitude</td>\n",
       "      <td>5.956792e-03</td>\n",
       "    </tr>\n",
       "    <tr>\n",
       "      <th>37</th>\n",
       "      <td>wheel_system_display_cat</td>\n",
       "      <td>5.825781e-03</td>\n",
       "    </tr>\n",
       "    <tr>\n",
       "      <th>31</th>\n",
       "      <td>wheelbase</td>\n",
       "      <td>5.460589e-03</td>\n",
       "    </tr>\n",
       "    <tr>\n",
       "      <th>3</th>\n",
       "      <td>dealer_zip</td>\n",
       "      <td>5.311008e-03</td>\n",
       "    </tr>\n",
       "    <tr>\n",
       "      <th>8</th>\n",
       "      <td>front_legroom</td>\n",
       "      <td>5.194709e-03</td>\n",
       "    </tr>\n",
       "    <tr>\n",
       "      <th>17</th>\n",
       "      <td>listed_date</td>\n",
       "      <td>4.584625e-03</td>\n",
       "    </tr>\n",
       "    <tr>\n",
       "      <th>4</th>\n",
       "      <td>engine_displacement</td>\n",
       "      <td>4.355540e-03</td>\n",
       "    </tr>\n",
       "    <tr>\n",
       "      <th>1</th>\n",
       "      <td>city_fuel_economy</td>\n",
       "      <td>3.154374e-03</td>\n",
       "    </tr>\n",
       "    <tr>\n",
       "      <th>7</th>\n",
       "      <td>franchise_make</td>\n",
       "      <td>2.225961e-03</td>\n",
       "    </tr>\n",
       "    <tr>\n",
       "      <th>42</th>\n",
       "      <td>body_type_SUV_Crossover</td>\n",
       "      <td>1.811286e-03</td>\n",
       "    </tr>\n",
       "    <tr>\n",
       "      <th>22</th>\n",
       "      <td>owner_count</td>\n",
       "      <td>1.508617e-03</td>\n",
       "    </tr>\n",
       "    <tr>\n",
       "      <th>19</th>\n",
       "      <td>maximum_seating</td>\n",
       "      <td>1.295084e-03</td>\n",
       "    </tr>\n",
       "    <tr>\n",
       "      <th>51</th>\n",
       "      <td>transmission_display_6_Speed_Automatic</td>\n",
       "      <td>9.956286e-04</td>\n",
       "    </tr>\n",
       "    <tr>\n",
       "      <th>10</th>\n",
       "      <td>has_accidents</td>\n",
       "      <td>9.003557e-04</td>\n",
       "    </tr>\n",
       "    <tr>\n",
       "      <th>54</th>\n",
       "      <td>transmission_display_Automatic</td>\n",
       "      <td>8.624836e-04</td>\n",
       "    </tr>\n",
       "    <tr>\n",
       "      <th>13</th>\n",
       "      <td>isCab</td>\n",
       "      <td>8.238435e-04</td>\n",
       "    </tr>\n",
       "    <tr>\n",
       "      <th>5</th>\n",
       "      <td>fleet</td>\n",
       "      <td>7.241308e-04</td>\n",
       "    </tr>\n",
       "    <tr>\n",
       "      <th>52</th>\n",
       "      <td>transmission_display_8_Speed_Automatic</td>\n",
       "      <td>6.188337e-04</td>\n",
       "    </tr>\n",
       "    <tr>\n",
       "      <th>43</th>\n",
       "      <td>body_type_Sedan</td>\n",
       "      <td>5.821297e-04</td>\n",
       "    </tr>\n",
       "    <tr>\n",
       "      <th>46</th>\n",
       "      <td>engine_cylinders_I4</td>\n",
       "      <td>5.186393e-04</td>\n",
       "    </tr>\n",
       "    <tr>\n",
       "      <th>34</th>\n",
       "      <td>fuel_type_cat</td>\n",
       "      <td>5.060303e-04</td>\n",
       "    </tr>\n",
       "    <tr>\n",
       "      <th>35</th>\n",
       "      <td>transmission_cat</td>\n",
       "      <td>5.033826e-04</td>\n",
       "    </tr>\n",
       "    <tr>\n",
       "      <th>55</th>\n",
       "      <td>transmission_display_Continuously_Variable_Tra...</td>\n",
       "      <td>4.730021e-04</td>\n",
       "    </tr>\n",
       "    <tr>\n",
       "      <th>56</th>\n",
       "      <td>transmission_display_other</td>\n",
       "      <td>3.798145e-04</td>\n",
       "    </tr>\n",
       "    <tr>\n",
       "      <th>45</th>\n",
       "      <td>body_type_Wagon</td>\n",
       "      <td>2.671794e-04</td>\n",
       "    </tr>\n",
       "    <tr>\n",
       "      <th>53</th>\n",
       "      <td>transmission_display_9_Speed_Automatic</td>\n",
       "      <td>2.053301e-04</td>\n",
       "    </tr>\n",
       "    <tr>\n",
       "      <th>48</th>\n",
       "      <td>engine_cylinders_V6_Flex_Fuel_Vehicle</td>\n",
       "      <td>1.959885e-04</td>\n",
       "    </tr>\n",
       "    <tr>\n",
       "      <th>39</th>\n",
       "      <td>body_type_Hatchback</td>\n",
       "      <td>1.790901e-04</td>\n",
       "    </tr>\n",
       "    <tr>\n",
       "      <th>14</th>\n",
       "      <td>is_new</td>\n",
       "      <td>1.749637e-04</td>\n",
       "    </tr>\n",
       "    <tr>\n",
       "      <th>41</th>\n",
       "      <td>body_type_Pickup_Truck</td>\n",
       "      <td>1.455960e-04</td>\n",
       "    </tr>\n",
       "    <tr>\n",
       "      <th>40</th>\n",
       "      <td>body_type_Minivan</td>\n",
       "      <td>1.367203e-04</td>\n",
       "    </tr>\n",
       "    <tr>\n",
       "      <th>50</th>\n",
       "      <td>engine_cylinders_other</td>\n",
       "      <td>1.187689e-04</td>\n",
       "    </tr>\n",
       "    <tr>\n",
       "      <th>49</th>\n",
       "      <td>engine_cylinders_V8</td>\n",
       "      <td>8.934867e-05</td>\n",
       "    </tr>\n",
       "    <tr>\n",
       "      <th>38</th>\n",
       "      <td>body_type_Coupe</td>\n",
       "      <td>6.330553e-05</td>\n",
       "    </tr>\n",
       "    <tr>\n",
       "      <th>28</th>\n",
       "      <td>theft_title</td>\n",
       "      <td>1.080973e-05</td>\n",
       "    </tr>\n",
       "    <tr>\n",
       "      <th>6</th>\n",
       "      <td>frame_damaged</td>\n",
       "      <td>6.621246e-06</td>\n",
       "    </tr>\n",
       "    <tr>\n",
       "      <th>44</th>\n",
       "      <td>body_type_Van</td>\n",
       "      <td>2.167886e-06</td>\n",
       "    </tr>\n",
       "    <tr>\n",
       "      <th>24</th>\n",
       "      <td>salvage</td>\n",
       "      <td>4.001456e-07</td>\n",
       "    </tr>\n",
       "  </tbody>\n",
       "</table>\n",
       "</div>"
      ],
      "text/plain": [
       "                                                    0             1\n",
       "30                                             trimId  3.681064e-01\n",
       "21                                         model_name  2.059636e-01\n",
       "23                                              power  1.224561e-01\n",
       "20                                            mileage  8.733049e-02\n",
       "29                                             torque  2.501834e-02\n",
       "0                                        back_legroom  1.947877e-02\n",
       "25                                     savings_amount  1.366988e-02\n",
       "11                                             height  1.346977e-02\n",
       "47                                engine_cylinders_V6  9.795723e-03\n",
       "33                                               year  9.452366e-03\n",
       "15                                           latitude  9.071714e-03\n",
       "26                                      seller_rating  8.884898e-03\n",
       "27                                              sp_id  8.311864e-03\n",
       "16                                             length  8.101590e-03\n",
       "12                               highway_fuel_economy  8.033217e-03\n",
       "32                                              width  7.344786e-03\n",
       "9                                    fuel_tank_volume  7.089915e-03\n",
       "2                                        daysonmarket  6.167395e-03\n",
       "36                                   wheel_system_cat  6.084273e-03\n",
       "18                                          longitude  5.956792e-03\n",
       "37                           wheel_system_display_cat  5.825781e-03\n",
       "31                                          wheelbase  5.460589e-03\n",
       "3                                          dealer_zip  5.311008e-03\n",
       "8                                       front_legroom  5.194709e-03\n",
       "17                                        listed_date  4.584625e-03\n",
       "4                                 engine_displacement  4.355540e-03\n",
       "1                                   city_fuel_economy  3.154374e-03\n",
       "7                                      franchise_make  2.225961e-03\n",
       "42                            body_type_SUV_Crossover  1.811286e-03\n",
       "22                                        owner_count  1.508617e-03\n",
       "19                                    maximum_seating  1.295084e-03\n",
       "51             transmission_display_6_Speed_Automatic  9.956286e-04\n",
       "10                                      has_accidents  9.003557e-04\n",
       "54                     transmission_display_Automatic  8.624836e-04\n",
       "13                                              isCab  8.238435e-04\n",
       "5                                               fleet  7.241308e-04\n",
       "52             transmission_display_8_Speed_Automatic  6.188337e-04\n",
       "43                                    body_type_Sedan  5.821297e-04\n",
       "46                                engine_cylinders_I4  5.186393e-04\n",
       "34                                      fuel_type_cat  5.060303e-04\n",
       "35                                   transmission_cat  5.033826e-04\n",
       "55  transmission_display_Continuously_Variable_Tra...  4.730021e-04\n",
       "56                         transmission_display_other  3.798145e-04\n",
       "45                                    body_type_Wagon  2.671794e-04\n",
       "53             transmission_display_9_Speed_Automatic  2.053301e-04\n",
       "48              engine_cylinders_V6_Flex_Fuel_Vehicle  1.959885e-04\n",
       "39                                body_type_Hatchback  1.790901e-04\n",
       "14                                             is_new  1.749637e-04\n",
       "41                             body_type_Pickup_Truck  1.455960e-04\n",
       "40                                  body_type_Minivan  1.367203e-04\n",
       "50                             engine_cylinders_other  1.187689e-04\n",
       "49                                engine_cylinders_V8  8.934867e-05\n",
       "38                                    body_type_Coupe  6.330553e-05\n",
       "28                                        theft_title  1.080973e-05\n",
       "6                                       frame_damaged  6.621246e-06\n",
       "44                                      body_type_Van  2.167886e-06\n",
       "24                                            salvage  4.001456e-07"
      ]
     },
     "execution_count": 390,
     "metadata": {},
     "output_type": "execute_result"
    }
   ],
   "source": [
    "rf_feats.sort_values(by = 1, ascending = False)"
   ]
  },
  {
   "cell_type": "code",
   "execution_count": 391,
   "id": "7767c308",
   "metadata": {},
   "outputs": [
    {
     "data": {
      "text/html": [
       "<div>\n",
       "<style scoped>\n",
       "    .dataframe tbody tr th:only-of-type {\n",
       "        vertical-align: middle;\n",
       "    }\n",
       "\n",
       "    .dataframe tbody tr th {\n",
       "        vertical-align: top;\n",
       "    }\n",
       "\n",
       "    .dataframe thead th {\n",
       "        text-align: right;\n",
       "    }\n",
       "</style>\n",
       "<table border=\"1\" class=\"dataframe\">\n",
       "  <thead>\n",
       "    <tr style=\"text-align: right;\">\n",
       "      <th></th>\n",
       "      <th>0</th>\n",
       "      <th>1</th>\n",
       "    </tr>\n",
       "  </thead>\n",
       "  <tbody>\n",
       "    <tr>\n",
       "      <th>21</th>\n",
       "      <td>model_name</td>\n",
       "      <td>0.205964</td>\n",
       "    </tr>\n",
       "    <tr>\n",
       "      <th>30</th>\n",
       "      <td>trimId</td>\n",
       "      <td>0.368106</td>\n",
       "    </tr>\n",
       "  </tbody>\n",
       "</table>\n",
       "</div>"
      ],
      "text/plain": [
       "             0         1\n",
       "21  model_name  0.205964\n",
       "30      trimId  0.368106"
      ]
     },
     "execution_count": 391,
     "metadata": {},
     "output_type": "execute_result"
    }
   ],
   "source": [
    "rf_feats[(rf_feats[1] >= 0.2) | (rf_feats[1] <= -.2)]"
   ]
  },
  {
   "cell_type": "code",
   "execution_count": 392,
   "id": "806bb7da",
   "metadata": {},
   "outputs": [
    {
     "data": {
      "text/html": [
       "<div>\n",
       "<style scoped>\n",
       "    .dataframe tbody tr th:only-of-type {\n",
       "        vertical-align: middle;\n",
       "    }\n",
       "\n",
       "    .dataframe tbody tr th {\n",
       "        vertical-align: top;\n",
       "    }\n",
       "\n",
       "    .dataframe thead th {\n",
       "        text-align: right;\n",
       "    }\n",
       "</style>\n",
       "<table border=\"1\" class=\"dataframe\">\n",
       "  <thead>\n",
       "    <tr style=\"text-align: right;\">\n",
       "      <th></th>\n",
       "      <th>0</th>\n",
       "      <th>1</th>\n",
       "    </tr>\n",
       "  </thead>\n",
       "  <tbody>\n",
       "    <tr>\n",
       "      <th>21</th>\n",
       "      <td>model_name</td>\n",
       "      <td>0.211757</td>\n",
       "    </tr>\n",
       "    <tr>\n",
       "      <th>30</th>\n",
       "      <td>trimId</td>\n",
       "      <td>0.379266</td>\n",
       "    </tr>\n",
       "  </tbody>\n",
       "</table>\n",
       "</div>"
      ],
      "text/plain": [
       "             0         1\n",
       "21  model_name  0.211757\n",
       "30      trimId  0.379266"
      ]
     },
     "execution_count": 392,
     "metadata": {},
     "output_type": "execute_result"
    }
   ],
   "source": [
    "base_dt = DecisionTreeRegressor(random_state = 4).fit(X_tree, y_tree)\n",
    "dt_feats = pd.DataFrame(zip(base_dt.feature_names_in_, base_dt.feature_importances_))\n",
    "dt_feats.sort_values(by = 1, ascending = False)\n",
    "dt_feats[(dt_feats[1] >= 0.2) | (dt_feats[1] <= -.2)]"
   ]
  },
  {
   "cell_type": "code",
   "execution_count": 393,
   "id": "d2db90ff",
   "metadata": {},
   "outputs": [],
   "source": [
    "bagged_dt = BaggingRegressor(DecisionTreeRegressor(), random_state = 4, n_estimators = 100).fit(X_tree, y_tree)\n",
    "f_imp = pd.DataFrame(zip(bagged_dt.feature_names_in_,np.mean([tree.feature_importances_ for tree in bagged_dt.estimators_], axis = 0)))"
   ]
  },
  {
   "cell_type": "code",
   "execution_count": 394,
   "id": "afad4d1a",
   "metadata": {},
   "outputs": [
    {
     "data": {
      "text/html": [
       "<div>\n",
       "<style scoped>\n",
       "    .dataframe tbody tr th:only-of-type {\n",
       "        vertical-align: middle;\n",
       "    }\n",
       "\n",
       "    .dataframe tbody tr th {\n",
       "        vertical-align: top;\n",
       "    }\n",
       "\n",
       "    .dataframe thead th {\n",
       "        text-align: right;\n",
       "    }\n",
       "</style>\n",
       "<table border=\"1\" class=\"dataframe\">\n",
       "  <thead>\n",
       "    <tr style=\"text-align: right;\">\n",
       "      <th></th>\n",
       "      <th>0</th>\n",
       "      <th>1</th>\n",
       "    </tr>\n",
       "  </thead>\n",
       "  <tbody>\n",
       "    <tr>\n",
       "      <th>21</th>\n",
       "      <td>model_name</td>\n",
       "      <td>0.205927</td>\n",
       "    </tr>\n",
       "    <tr>\n",
       "      <th>30</th>\n",
       "      <td>trimId</td>\n",
       "      <td>0.368145</td>\n",
       "    </tr>\n",
       "  </tbody>\n",
       "</table>\n",
       "</div>"
      ],
      "text/plain": [
       "             0         1\n",
       "21  model_name  0.205927\n",
       "30      trimId  0.368145"
      ]
     },
     "execution_count": 394,
     "metadata": {},
     "output_type": "execute_result"
    }
   ],
   "source": [
    "f_imp.sort_values(by = 1, ascending = False)\n",
    "f_imp[(f_imp[1] >= 0.2) | (f_imp[1] <= -.2)]"
   ]
  },
  {
   "cell_type": "markdown",
   "id": "6e88b5c0",
   "metadata": {},
   "source": [
    "Based on the base Random Forest, the two most significant predictors are model_name and trimId. We can test the performance of a model developed using our feature selection and a model developed using the selected features by the RandomForest to find the best predictors. "
   ]
  },
  {
   "cell_type": "code",
   "execution_count": 395,
   "id": "1875ed7c",
   "metadata": {},
   "outputs": [],
   "source": [
    "X_tree_subset = X_tree[['model_name', 'trimId']]\n",
    "\n",
    "X_train_sub, X_test_sub, y_train_sub, y_test_sub = train_test_split(X_tree_subset, y_tree, test_size = 0.3, random_state = 4)"
   ]
  },
  {
   "cell_type": "markdown",
   "id": "77ff937e",
   "metadata": {},
   "source": [
    "Base MARS model on the tree selected features: "
   ]
  },
  {
   "cell_type": "code",
   "execution_count": 396,
   "id": "aca54181",
   "metadata": {},
   "outputs": [
    {
     "name": "stdout",
     "output_type": "stream",
     "text": [
      "Earth Model\n",
      "--------------------------------------\n",
      "Basis Function   Pruned  Coefficient  \n",
      "--------------------------------------\n",
      "(Intercept)      No      35493.1      \n",
      "h(trimId-67312)  No      -0.228409    \n",
      "h(67312-trimId)  Yes     None         \n",
      "model_name       No      3970.31      \n",
      "h(trimId-32660)  Yes     None         \n",
      "h(32660-trimId)  No      0.196858     \n",
      "h(trimId-83763)  Yes     None         \n",
      "h(83763-trimId)  Yes     None         \n",
      "h(trimId-89881)  Yes     None         \n",
      "h(89881-trimId)  No      -2.24943     \n",
      "h(trimId-78253)  Yes     None         \n",
      "h(78253-trimId)  No      -6.47566     \n",
      "h(trimId-76583)  No      2.17212      \n",
      "h(76583-trimId)  Yes     None         \n",
      "h(trimId-78985)  No      -3.50747     \n",
      "h(78985-trimId)  No      7.36778      \n",
      "h(trimId-82290)  Yes     None         \n",
      "h(82290-trimId)  No      1.05506      \n",
      "trimId           Yes     None         \n",
      "--------------------------------------\n",
      "MSE: 12520924.7798, GCV: 12709856.5249, RSQ: 0.6517, GRSQ: 0.6466\n",
      "Base MARS train RMSE 3538.491879292506\n",
      "\n",
      "Base MARS train R^2 0.6516769607249813\n",
      "\n",
      "BASE MARS Test RMSE 3596.9618257609077\n",
      "\n",
      "BASE MARS Test R^2 0.6314408357382498\n"
     ]
    }
   ],
   "source": [
    "base_mars1 = Earth().fit(X_train_sub, y_train_sub)\n",
    "print(base_mars1.summary())\n",
    "print(\"Base MARS train RMSE\", np.sqrt(base_mars1.mse_))\n",
    "print(\"\\nBase MARS train R^2\", base_mars1.rsq_)\n",
    "print(\"\\nBASE MARS Test RMSE\", mean_squared_error(y_test_sub, base_mars1.predict(X_test_sub), squared = False))\n",
    "print(\"\\nBASE MARS Test R^2\", r2_score(y_test_sub, base_mars1.predict(X_test_sub)))"
   ]
  },
  {
   "cell_type": "markdown",
   "id": "497621f1",
   "metadata": {},
   "source": [
    "Base MARS model on our selected features: "
   ]
  },
  {
   "cell_type": "code",
   "execution_count": 397,
   "id": "a0b88a0a",
   "metadata": {},
   "outputs": [
    {
     "name": "stdout",
     "output_type": "stream",
     "text": [
      "Earth Model\n",
      "-----------------------------------------------\n",
      "Basis Function            Pruned  Coefficient  \n",
      "-----------------------------------------------\n",
      "(Intercept)               No      -696322      \n",
      "h(trimId-67312)           Yes     None         \n",
      "h(67312-trimId)           No      -0.126974    \n",
      "model_name                No      2187.29      \n",
      "power                     No      14.7161      \n",
      "h(mileage-116656)         No      -0.032541    \n",
      "h(116656-mileage)         No      0.0639984    \n",
      "wheel_system_display_cat  No      -355.43      \n",
      "engine_cylinders_V6       No      1588.48      \n",
      "torque                    No      11.9225      \n",
      "h(trimId-37340)           Yes     None         \n",
      "h(37340-trimId)           No      0.187547     \n",
      "wheel_system_cat          No      -399.524     \n",
      "h(savings_amount-4356)    No      2.82244      \n",
      "h(4356-savings_amount)    No      -0.259224    \n",
      "year                      No      351.544      \n",
      "body_type_Sedan           No      -761.063     \n",
      "h(city_fuel_economy-32)   Yes     None         \n",
      "h(32-city_fuel_economy)   No      -334.968     \n",
      "length                    No      67.983       \n",
      "franchise_make            No      223.224      \n",
      "highway_fuel_economy      No      -175.368     \n",
      "wheelbase                 No      -67.8022     \n",
      "-----------------------------------------------\n",
      "MSE: 7209072.4230, GCV: 7434760.4238, RSQ: 0.7982, GRSQ: 0.7921\n",
      "Base MARS train RMSE 2684.9715869996617\n",
      "\n",
      "Base MARS train R^2 0.79824516868172\n",
      "\n",
      "BASE MARS Test RMSE 2874.6647842725392\n",
      "\n",
      "BASE MARS Test R^2 0.768875427417892\n"
     ]
    }
   ],
   "source": [
    "base_mars2 = Earth().fit(X_train, y_train)\n",
    "print(base_mars2.summary())\n",
    "print(\"Base MARS train RMSE\", np.sqrt(base_mars2.mse_))\n",
    "print(\"\\nBase MARS train R^2\", base_mars2.rsq_)\n",
    "print(\"\\nBASE MARS Test RMSE\", mean_squared_error(y_test, base_mars2.predict(X_test), squared = False))\n",
    "print(\"\\nBASE MARS Test R^2\", r2_score(y_test, base_mars2.predict(X_test)))"
   ]
  },
  {
   "cell_type": "markdown",
   "id": "b8e1a35b",
   "metadata": {},
   "source": [
    "The model's performance is much better using the features selected by our analysis than the tree based models. The R^2 is much greater on our subset's test data even though there does appear to be some slight overfitting. Overfitting does not appear to be an issue with the tree based models selected features but the model's performance is much worse. \n",
    "\n",
    "The main takeaway from this analysis is that our selected features resulted in overfitting but generally well performing model. This was true for our initial model development in which most of our models overfit even with extensive tuning and generally had much higher RMSE's at the base model and tuned model.\n",
    "\n",
    "Another method for finding the best features is by running a base MARS model on our original data to find the best overall features. "
   ]
  },
  {
   "cell_type": "code",
   "execution_count": 398,
   "id": "43e1ff75",
   "metadata": {},
   "outputs": [
    {
     "data": {
      "text/plain": [
       "(4501, 57)"
      ]
     },
     "execution_count": 398,
     "metadata": {},
     "output_type": "execute_result"
    }
   ],
   "source": [
    "X_tree.shape"
   ]
  },
  {
   "cell_type": "code",
   "execution_count": 399,
   "id": "80550d0e",
   "metadata": {},
   "outputs": [
    {
     "name": "stdout",
     "output_type": "stream",
     "text": [
      "Earth Model\n",
      "-------------------------------------------------------------\n",
      "Basis Function                          Pruned  Coefficient  \n",
      "-------------------------------------------------------------\n",
      "(Intercept)                             No      -901747      \n",
      "h(trimId-67983)                         No      -0.0679866   \n",
      "h(67983-trimId)                         Yes     None         \n",
      "model_name                              No      2059.74      \n",
      "power                                   No      24.8064      \n",
      "h(mileage-117301)                       No      -0.0337709   \n",
      "h(117301-mileage)                       No      0.0601967    \n",
      "wheel_system_cat                        No      -368.638     \n",
      "engine_cylinders_V6_Flex_Fuel_Vehicle   No      -3305.3      \n",
      "fleet                                   No      -1080.02     \n",
      "h(savings_amount-1580)                  No      0.8081       \n",
      "h(1580-savings_amount)                  Yes     None         \n",
      "h(latitude-30.4119)                     No      -45.1318     \n",
      "h(30.4119-latitude)                     No      -377.13      \n",
      "engine_cylinders_I4                     No      -740.799     \n",
      "wheel_system_display_cat                No      -278.193     \n",
      "h(trimId-35944)                         No      0.110536     \n",
      "h(35944-trimId)                         No      0.0549605    \n",
      "year                                    No      454.75       \n",
      "transmission_display_6_Speed_Automatic  No      -690.887     \n",
      "h(daysonmarket-215)                     No      52.3013      \n",
      "h(215-daysonmarket)                     No      8.81423      \n",
      "highway_fuel_economy                    No      -267.675     \n",
      "h(city_fuel_economy-32)                 No      -782.885     \n",
      "h(32-city_fuel_economy)                 No      -266.161     \n",
      "h(length-231.9)                         No      -239.891     \n",
      "h(231.9-length)                         No      -34.0219     \n",
      "seller_rating                           No      459.601      \n",
      "franchise_make                          No      185.75       \n",
      "h(daysonmarket-256)                     No      -52.8053     \n",
      "h(256-daysonmarket)                     Yes     None         \n",
      "-------------------------------------------------------------\n",
      "MSE: 6828955.3432, GCV: 7041656.0816, RSQ: 0.8087, GRSQ: 0.8028\n"
     ]
    }
   ],
   "source": [
    "mars_feats = Earth().fit(X_tree, y_tree)\n",
    "print(mars_feats.summary())"
   ]
  },
  {
   "cell_type": "code",
   "execution_count": 400,
   "id": "3c1e3653",
   "metadata": {},
   "outputs": [
    {
     "name": "stdout",
     "output_type": "stream",
     "text": [
      "Base MARS train RMSE 2613.2269980328842\n",
      "\n",
      "Base MARS train R^2 0.8086796290659015\n"
     ]
    }
   ],
   "source": [
    "print(\"Base MARS train RMSE\", np.sqrt(mars_feats.mse_))\n",
    "print(\"\\nBase MARS train R^2\", mars_feats.rsq_)"
   ]
  },
  {
   "cell_type": "code",
   "execution_count": 401,
   "id": "4dac19b0",
   "metadata": {},
   "outputs": [
    {
     "name": "stdout",
     "output_type": "stream",
     "text": [
      "Checking performance on split data: \n",
      "\n",
      "Base MARS Train RMSE: 2629.4932798721898\n",
      "\n",
      "Base MARS Train R^2 0.8076510034139941\n",
      "\n",
      "Base MARS Test RMSE: 2619.6932550056486\n",
      "\n",
      "Base MARS Test R^2 0.8045046459514393\n"
     ]
    }
   ],
   "source": [
    "print(\"Checking performance on split data: \\n\")\n",
    "X_train_mars, X_test_mars, y_train_mars, y_test_mars = train_test_split(X_tree, y_tree, random_state = 4, test_size = 0.3)\n",
    "random.seed(4)\n",
    "mars_feats2 = Earth(feature_importance_type = 'rss').fit(X_train_mars, y_train_mars)\n",
    "print(\"Base MARS Train RMSE:\", np.sqrt(mars_feats2.mse_))\n",
    "print(\"\\nBase MARS Train R^2\", mars_feats2.rsq_)\n",
    "print(\"\\nBase MARS Test RMSE:\", mean_squared_error(y_test_mars, mars_feats2.predict(X_test_mars), squared = False))\n",
    "print(\"\\nBase MARS Test R^2\", r2_score(y_test_mars, mars_feats2.predict(X_test_mars)))"
   ]
  },
  {
   "cell_type": "code",
   "execution_count": 402,
   "id": "fadbeeb8",
   "metadata": {},
   "outputs": [
    {
     "name": "stdout",
     "output_type": "stream",
     "text": [
      "                                                            rss\n",
      "model_name                                                  0.43   \n",
      "mileage                                                     0.36   \n",
      "power                                                       0.09   \n",
      "year                                                        0.06   \n",
      "wheel_system_cat                                            0.02   \n",
      "engine_cylinders_V6_Flex_Fuel_Vehicle                       0.01   \n",
      "fleet                                                       0.01   \n",
      "savings_amount                                              0.01   \n",
      "engine_cylinders_I4                                         0.00   \n",
      "city_fuel_economy                                           0.00   \n",
      "trimId                                                      0.00   \n",
      "listed_date                                                 0.00   \n",
      "latitude                                                    0.00   \n",
      "transmission_display_6_Speed_Automatic                      0.00   \n",
      "seller_rating                                               0.00   \n",
      "highway_fuel_economy                                        0.00   \n",
      "franchise_make                                              0.00   \n",
      "length                                                      0.00   \n",
      "wheelbase                                                   0.00   \n",
      "wheel_system_display_cat                                    0.00   \n",
      "longitude                                                   0.00   \n",
      "maximum_seating                                             0.00   \n",
      "transmission_display_other                                  0.00   \n",
      "is_new                                                      0.00   \n",
      "owner_count                                                 0.00   \n",
      "height                                                      0.00   \n",
      "has_accidents                                               0.00   \n",
      "fuel_tank_volume                                            0.00   \n",
      "front_legroom                                               0.00   \n",
      "frame_damaged                                               0.00   \n",
      "engine_displacement                                         0.00   \n",
      "dealer_zip                                                  0.00   \n",
      "daysonmarket                                                0.00   \n",
      "isCab                                                       0.00   \n",
      "theft_title                                                 0.00   \n",
      "salvage                                                     0.00   \n",
      "sp_id                                                       0.00   \n",
      "transmission_display_Automatic                              0.00   \n",
      "transmission_display_9_Speed_Automatic                      0.00   \n",
      "transmission_display_8_Speed_Automatic                      0.00   \n",
      "engine_cylinders_other                                      0.00   \n",
      "engine_cylinders_V8                                         0.00   \n",
      "engine_cylinders_V6                                         0.00   \n",
      "body_type_Wagon                                             0.00   \n",
      "body_type_Van                                               0.00   \n",
      "body_type_Sedan                                             0.00   \n",
      "body_type_SUV_Crossover                                     0.00   \n",
      "body_type_Pickup_Truck                                      0.00   \n",
      "body_type_Minivan                                           0.00   \n",
      "body_type_Hatchback                                         0.00   \n",
      "body_type_Coupe                                             0.00   \n",
      "transmission_cat                                            0.00   \n",
      "fuel_type_cat                                               0.00   \n",
      "width                                                       0.00   \n",
      "torque                                                      0.00   \n",
      "transmission_display_Continuously_Variable_Transmission     0.00   \n",
      "back_legroom                                                0.00   \n",
      "\n"
     ]
    }
   ],
   "source": [
    "print(mars_feats2.summary_feature_importances(sort_by = 'rss'))"
   ]
  },
  {
   "cell_type": "markdown",
   "id": "11ae7834",
   "metadata": {},
   "source": [
    "The selected features by MARS result in the best performance on the training data and the testing data. There is no overfitting or underfitting and the R^2 has improved, albeit marginally. \n",
    "\n",
    "Thus, we will perform the rest of our analysis with the top features selected by the best MARS model. These features are:\n",
    "\n",
    "model_name                                                  : **0.43**   \n",
    "mileage                                                     **0.36**  \n",
    "power                                                      **0.09**    \n",
    "year                                                        **0.06**   \n",
    "wheel_system_cat                                            **0.02**  \n",
    "engine_cylinders_V6_Flex_Fuel_Vehicle                       **0.01**   \n",
    "fleet                                                       **0.01**   \n",
    "savings_amount                                              **0.01** "
   ]
  },
  {
   "cell_type": "markdown",
   "id": "0a32880a",
   "metadata": {},
   "source": [
    "Final data subsetting and split:"
   ]
  },
  {
   "cell_type": "code",
   "execution_count": 403,
   "id": "8d0f10ff",
   "metadata": {},
   "outputs": [
    {
     "name": "stdout",
     "output_type": "stream",
     "text": [
      "Final overall training data shape (4501, 57)\n",
      "Final response variable shape (4501,)\n"
     ]
    }
   ],
   "source": [
    "# dropping the 31 missing values from the main/original data\n",
    "\n",
    "data.dropna(inplace = True)\n",
    "y_mars = data.price\n",
    "data.drop(columns = ['price'], inplace = True)\n",
    "print(\"Final overall training data shape\", data.shape)\n",
    "print(\"Final response variable shape\", y_mars.shape)\n",
    "\n",
    "# subsetting for the final selected features\n",
    "\n",
    "X_mars= data[['model_name', 'mileage', 'power', 'year', 'wheel_system_cat', 'engine_cylinders_V6_Flex_Fuel_Vehicle', 'fleet', 'savings_amount']]\n",
    "\n",
    "# splitting the final data! \n",
    "\n",
    "X_train_mars, X_test_mars, y_train_mars, y_test_mars = train_test_split(X_mars, y_mars, test_size = 0.3, random_state = 4)"
   ]
  },
  {
   "cell_type": "markdown",
   "id": "a4214406",
   "metadata": {},
   "source": [
    "We will develop our models using both the features found during our EDA and the models using the features found based on the MARS model analysis."
   ]
  },
  {
   "cell_type": "markdown",
   "id": "acab331a",
   "metadata": {},
   "source": [
    "## Developing the model: Hyperparameter tuning"
   ]
  },
  {
   "cell_type": "markdown",
   "id": "ae5ec4c9",
   "metadata": {},
   "source": [
    "Put code with comments. The comments should explain the code such that it can be easily understood. You may put text *(in a markdown cell)* before a large chunk of code to explain the overall purpose of the code, if it is not intuitive. **Put the name of the person / persons who contributed to each code chunk / set of code chunks.**\n",
    "\n",
    "Put each model in a section of its name and mention the name of the team-member tuning the model. Below is an example:"
   ]
  },
  {
   "cell_type": "markdown",
   "id": "d2d06056",
   "metadata": {},
   "source": [
    "# NOTE!!!!\n",
    "## Please read my new analysis above and new feature selection. keep all of your old work but rerun the models with the new split data using the selected features by MARS \n",
    "\n",
    "## X_train_mars, y_train_mars etc are the names of the data which have MARS feature selection. "
   ]
  },
  {
   "cell_type": "markdown",
   "id": "93edf1c4",
   "metadata": {},
   "source": [
    "# ALWAYS USE RANDOM_STATE = 4"
   ]
  },
  {
   "cell_type": "markdown",
   "id": "b93a267c",
   "metadata": {},
   "source": [
    "Throughout our model development, we ran our analysis on both our selected features and the random forest's selected features to observe the difference in performance. Generally, we anticipate that the models developed using the features selected by random forest will perform better. \n",
    "\n",
    "X_train, y_train, X_test, and y_test represent the data which contains the feature selection resulting from our EDA and analysis while X_train_sub, y_train_sub, X_test_sub, and y_test_sub represent the data which contains the features selected by the Random Forest model. "
   ]
  },
  {
   "cell_type": "markdown",
   "id": "21bc9dcc",
   "metadata": {},
   "source": [
    "### Lasso, Ridge & Stepwise Selection\n",
    "*By Emily Leibfritz*"
   ]
  },
  {
   "cell_type": "markdown",
   "id": "22022500",
   "metadata": {},
   "source": [
    "### MARS & Bagging MARS \n",
    "*By Hiba Khatib*"
   ]
  },
  {
   "cell_type": "markdown",
   "id": "d9ae70f4",
   "metadata": {},
   "source": [
    "#### Tuning MARS models"
   ]
  },
  {
   "cell_type": "markdown",
   "id": "fb3c4437",
   "metadata": {},
   "source": [
    "Since we already performed base MARS model analysis to inform our feature selection, we can continue with tuning MARS to achieve better results. The first set of tuning will be on the MARS selected features then we will also tuning on our selected features."
   ]
  },
  {
   "cell_type": "code",
   "execution_count": 405,
   "id": "8ec35bf8",
   "metadata": {},
   "outputs": [],
   "source": [
    "random.seed(4)\n",
    "opt_mars = pd.DataFrame(columns = {'degree', 'R2', 'RMSE'})\n",
    "iter_num = 0\n",
    "cv = KFold(n_splits=5, random_state=4, shuffle=True)\n",
    "for i in range(1, 8):\n",
    "    \n",
    "    MARS_model = Earth(max_terms=500, max_degree=i)\n",
    "    r2 = cross_val_score(MARS_model, X_train_mars, y_train_mars, cv=5, scoring='r2')\n",
    "    \n",
    "    mean_r2 = r2.mean()\n",
    "    \n",
    "    rmse = cross_val_score(MARS_model, X_train_mars, y_train_mars, cv= 5, scoring='neg_root_mean_squared_error')\n",
    "    mean_rmse = abs(rmse).mean()\n",
    "    \n",
    "    \n",
    "    opt_mars.loc[iter_num, 'degree'] = i\n",
    "    opt_mars.loc[iter_num, 'R2'] = mean_r2\n",
    "    opt_mars.loc[iter_num, 'RMSE'] = mean_rmse\n",
    "    iter_num += 1"
   ]
  },
  {
   "cell_type": "code",
   "execution_count": 407,
   "id": "4fab23ac",
   "metadata": {},
   "outputs": [
    {
     "data": {
      "text/html": [
       "<div>\n",
       "<style scoped>\n",
       "    .dataframe tbody tr th:only-of-type {\n",
       "        vertical-align: middle;\n",
       "    }\n",
       "\n",
       "    .dataframe tbody tr th {\n",
       "        vertical-align: top;\n",
       "    }\n",
       "\n",
       "    .dataframe thead th {\n",
       "        text-align: right;\n",
       "    }\n",
       "</style>\n",
       "<table border=\"1\" class=\"dataframe\">\n",
       "  <thead>\n",
       "    <tr style=\"text-align: right;\">\n",
       "      <th></th>\n",
       "      <th>R2</th>\n",
       "      <th>RMSE</th>\n",
       "      <th>degree</th>\n",
       "    </tr>\n",
       "  </thead>\n",
       "  <tbody>\n",
       "    <tr>\n",
       "      <th>4</th>\n",
       "      <td>0.790333</td>\n",
       "      <td>2742.648575</td>\n",
       "      <td>5</td>\n",
       "    </tr>\n",
       "  </tbody>\n",
       "</table>\n",
       "</div>"
      ],
      "text/plain": [
       "         R2         RMSE degree\n",
       "4  0.790333  2742.648575      5"
      ]
     },
     "execution_count": 407,
     "metadata": {},
     "output_type": "execute_result"
    }
   ],
   "source": [
    "opt_mars.sort_values(by = 'R2', ascending = False).head(1)"
   ]
  },
  {
   "cell_type": "code",
   "execution_count": 409,
   "id": "2b1d4c41",
   "metadata": {},
   "outputs": [
    {
     "data": {
      "text/html": [
       "<div>\n",
       "<style scoped>\n",
       "    .dataframe tbody tr th:only-of-type {\n",
       "        vertical-align: middle;\n",
       "    }\n",
       "\n",
       "    .dataframe tbody tr th {\n",
       "        vertical-align: top;\n",
       "    }\n",
       "\n",
       "    .dataframe thead th {\n",
       "        text-align: right;\n",
       "    }\n",
       "</style>\n",
       "<table border=\"1\" class=\"dataframe\">\n",
       "  <thead>\n",
       "    <tr style=\"text-align: right;\">\n",
       "      <th></th>\n",
       "      <th>R2</th>\n",
       "      <th>RMSE</th>\n",
       "      <th>degree</th>\n",
       "    </tr>\n",
       "  </thead>\n",
       "  <tbody>\n",
       "    <tr>\n",
       "      <th>4</th>\n",
       "      <td>0.790333</td>\n",
       "      <td>2742.648575</td>\n",
       "      <td>5</td>\n",
       "    </tr>\n",
       "  </tbody>\n",
       "</table>\n",
       "</div>"
      ],
      "text/plain": [
       "         R2         RMSE degree\n",
       "4  0.790333  2742.648575      5"
      ]
     },
     "execution_count": 409,
     "metadata": {},
     "output_type": "execute_result"
    }
   ],
   "source": [
    "opt_mars.sort_values(by = 'RMSE', ascending = True).head(1)"
   ]
  },
  {
   "cell_type": "markdown",
   "id": "1180ba5a",
   "metadata": {},
   "source": [
    "The optimal degree is 5 for both R2 and RMSE. "
   ]
  },
  {
   "cell_type": "code",
   "execution_count": 410,
   "id": "e80cbd45",
   "metadata": {},
   "outputs": [
    {
     "name": "stdout",
     "output_type": "stream",
     "text": [
      "Earth Model\n",
      "----------------------------------------------------------------------------------------------\n",
      "Basis Function                                                          Pruned  Coefficient   \n",
      "----------------------------------------------------------------------------------------------\n",
      "(Intercept)                                                             No      -0.867045     \n",
      "year                                                                    No      -872.929      \n",
      "model_name*year                                                         No      1.1003        \n",
      "power*year                                                              No      0.0247296     \n",
      "h(mileage-118799)*year                                                  No      3.49146e-05   \n",
      "h(118799-mileage)*year                                                  Yes     None          \n",
      "wheel_system_cat*year                                                   No      -0.432392     \n",
      "engine_cylinders_V6_Flex_Fuel_Vehicle*model_name*year                   Yes     None          \n",
      "h(mileage-86269)*model_name*year                                        No      -8.66159e-06  \n",
      "h(86269-mileage)*model_name*year                                        Yes     None          \n",
      "fleet*power*year                                                        No      -0.00229866   \n",
      "year*year                                                               No      0.435352      \n",
      "h(savings_amount-1293)                                                  No      0.737447      \n",
      "h(1293-savings_amount)                                                  Yes     None          \n",
      "power*h(86269-mileage)*model_name*year                                  No      4.76397e-06   \n",
      "mileage*power*year                                                      No      -1.1364e-07   \n",
      "wheel_system_cat*engine_cylinders_V6_Flex_Fuel_Vehicle*model_name*year  No      -0.503445     \n",
      "power*power*h(86269-mileage)*model_name*year                            No      -4.14987e-10  \n",
      "year*power*h(86269-mileage)*model_name*year                             No      -2.30134e-09  \n",
      "----------------------------------------------------------------------------------------------\n",
      "MSE: 7320763.8309, GCV: 7491008.4641, RSQ: 0.7963, GRSQ: 0.7917\n"
     ]
    }
   ],
   "source": [
    "fit_mars1 = Earth(max_terms=1000, max_degree= 5, feature_importance_type = \"rss\").fit(X_train_mars, y_train_mars)\n",
    "print(fit_mars1.summary())"
   ]
  },
  {
   "cell_type": "code",
   "execution_count": 411,
   "id": "e35baba4",
   "metadata": {},
   "outputs": [
    {
     "name": "stdout",
     "output_type": "stream",
     "text": [
      "Performance on MARS feature selection:\n",
      "\n",
      "Tuned MARS Train RMSE: 2705.691008032262\n",
      "Tuned MARS Train R^2 value:  0.7963416638745415\n",
      "Tuned MARS Test RMSE: 2679.9773361980965\n",
      "Tuned MARS Test R^2: 0.7954036885971033\n"
     ]
    }
   ],
   "source": [
    "print(\"Performance on MARS feature selection:\\n\")\n",
    "print(\"Tuned MARS Train RMSE:\", np.sqrt(fit_mars1.mse_))\n",
    "print(\"Tuned MARS Train R^2 value: \", fit_mars1.rsq_)\n",
    "print(\"Tuned MARS Test RMSE:\",mean_squared_error(y_test_mars, fit_mars1.predict(X_test_mars), squared = False) )\n",
    "print(\"Tuned MARS Test R^2:\", r2_score(y_test_mars, fit_mars1.predict(X_test_mars)))"
   ]
  },
  {
   "cell_type": "code",
   "execution_count": 412,
   "id": "3627d5a2",
   "metadata": {},
   "outputs": [
    {
     "name": "stdout",
     "output_type": "stream",
     "text": [
      "Feature importance by RSS on MARS feature selection\n",
      "\n",
      "                                          rss\n",
      "year                                      0.59   \n",
      "model_name                                0.24   \n",
      "power                                     0.09   \n",
      "mileage                                   0.05   \n",
      "wheel_system_cat                          0.02   \n",
      "engine_cylinders_V6_Flex_Fuel_Vehicle     0.01   \n",
      "fleet                                     0.00   \n",
      "savings_amount                            0.00   \n",
      "\n"
     ]
    }
   ],
   "source": [
    "print(\"Feature importance by RSS on MARS feature selection\\n\")\n",
    "print(fit_mars1.summary_feature_importances(sort_by = 'rss'))"
   ]
  },
  {
   "cell_type": "markdown",
   "id": "3e2ed6f8",
   "metadata": {},
   "source": [
    "Performance on our feature selection: "
   ]
  },
  {
   "cell_type": "code",
   "execution_count": 413,
   "id": "fb32182f",
   "metadata": {},
   "outputs": [],
   "source": [
    "random.seed(4)\n",
    "opt_mars2 = pd.DataFrame(columns = {'degree', 'R2', 'RMSE'})\n",
    "iter_num = 0\n",
    "cv = KFold(n_splits=5, random_state=4, shuffle=True)\n",
    "for i in range(1, 8):\n",
    "    \n",
    "    MARS_model = Earth(max_terms=500, max_degree=i)\n",
    "    r2 = cross_val_score(MARS_model, X_train, y_train, cv=5, scoring='r2')\n",
    "    \n",
    "    mean_r2 = r2.mean()\n",
    "    \n",
    "    rmse = cross_val_score(MARS_model, X_train, y_train, cv= 5, scoring='neg_root_mean_squared_error')\n",
    "    mean_rmse = abs(rmse).mean()\n",
    "    \n",
    "    \n",
    "    opt_mars2.loc[iter_num, 'degree'] = i\n",
    "    opt_mars2.loc[iter_num, 'R2'] = mean_r2\n",
    "    opt_mars2.loc[iter_num, 'RMSE'] = mean_rmse\n",
    "    iter_num += 1"
   ]
  },
  {
   "cell_type": "code",
   "execution_count": 414,
   "id": "499beec7",
   "metadata": {},
   "outputs": [
    {
     "name": "stdout",
     "output_type": "stream",
     "text": [
      "        R2         RMSE degree\n",
      "5  0.81581  2560.543379      6\n",
      "        R2         RMSE degree\n",
      "5  0.81581  2560.543379      6\n"
     ]
    }
   ],
   "source": [
    "print(opt_mars2.sort_values(by = 'R2', ascending = False).head(1))\n",
    "print(opt_mars2.sort_values(by = 'RMSE', ascending = True).head(1))"
   ]
  },
  {
   "cell_type": "markdown",
   "id": "d8a9ad22",
   "metadata": {},
   "source": [
    "**The best degree for both R^2 and RMSE is 6**"
   ]
  },
  {
   "cell_type": "code",
   "execution_count": 415,
   "id": "ceac5265",
   "metadata": {},
   "outputs": [
    {
     "name": "stdout",
     "output_type": "stream",
     "text": [
      "Earth Model\n",
      "----------------------------------------------------------------------------\n",
      "Basis Function                                        Pruned  Coefficient   \n",
      "----------------------------------------------------------------------------\n",
      "(Intercept)                                           No      7265.17       \n",
      "h(trimId-67312)                                       No      -0.385114     \n",
      "h(67312-trimId)                                       No      -0.0784129    \n",
      "model_name                                            No      -460005       \n",
      "power                                                 No      50.5903       \n",
      "h(mileage-116656)                                     No      -0.0256394    \n",
      "h(116656-mileage)                                     No      0.0538941     \n",
      "wheel_system_display_cat                              Yes     None          \n",
      "h(trimId-60496)*h(67312-trimId)                       No      0.00181749    \n",
      "h(60496-trimId)*h(67312-trimId)                       Yes     None          \n",
      "h(trimId-67312)*power                                 No      0.00396033    \n",
      "h(67312-trimId)*power                                 No      -0.000471043  \n",
      "power*h(trimId-67312)*power                           No      -1.83312e-05  \n",
      "city_fuel_economy*power*h(trimId-67312)*power         No      4.80116e-07   \n",
      "highway_fuel_economy*power                            No      -0.7356       \n",
      "engine_cylinders_V6*h(116656-mileage)                 Yes     None          \n",
      "torque                                                No      13.6581       \n",
      "h(trimId-16075)*wheel_system_display_cat              No      -0.0120157    \n",
      "h(16075-trimId)*wheel_system_display_cat              Yes     None          \n",
      "h(city_fuel_economy-32)*highway_fuel_economy*power    Yes     None          \n",
      "h(32-city_fuel_economy)*highway_fuel_economy*power    No      -0.0412428    \n",
      "h(savings_amount-1465)*wheel_system_display_cat       No      0.262227      \n",
      "h(1465-savings_amount)*wheel_system_display_cat       Yes     None          \n",
      "year*model_name                                       No      229.382       \n",
      "model_name*engine_cylinders_V6*h(116656-mileage)      No      -0.0168493    \n",
      "engine_displacement*h(trimId-60496)*h(67312-trimId)   No      3.33867e-07   \n",
      "model_name*h(16075-trimId)*wheel_system_display_cat   No      0.161783      \n",
      "height*h(trimId-60496)*h(67312-trimId)                No      -4.5658e-05   \n",
      "height*engine_cylinders_V6*h(116656-mileage)          No      0.000785742   \n",
      "franchise_make*h(116656-mileage)                      No      0.00241208    \n",
      "h(engine_displacement-6000)*wheel_system_display_cat  No      6.56446       \n",
      "h(6000-engine_displacement)*wheel_system_display_cat  Yes     None          \n",
      "----------------------------------------------------------------------------\n",
      "MSE: 6085273.5118, GCV: 6326329.5161, RSQ: 0.8297, GRSQ: 0.8231\n"
     ]
    }
   ],
   "source": [
    "fit_mars2 = Earth(max_terms=1000, max_degree= 6, feature_importance_type = \"rss\").fit(X_train, y_train)\n",
    "print(fit_mars2.summary())"
   ]
  },
  {
   "cell_type": "code",
   "execution_count": 416,
   "id": "b34c104d",
   "metadata": {},
   "outputs": [
    {
     "name": "stdout",
     "output_type": "stream",
     "text": [
      "Performance on MARS feature selection:\n",
      "\n",
      "Tuned MARS Train RMSE: 2466.834715144428\n",
      "Tuned MARS Train R^2 value:  0.829696074769481\n",
      "Tuned MARS Test RMSE: 2743.978978341708\n",
      "Tuned MARS Test R^2: 0.7894121729348178\n"
     ]
    }
   ],
   "source": [
    "print(\"Performance on MARS feature selection:\\n\")\n",
    "print(\"Tuned MARS Train RMSE:\", np.sqrt(fit_mars2.mse_))\n",
    "print(\"Tuned MARS Train R^2 value: \", fit_mars2.rsq_)\n",
    "print(\"Tuned MARS Test RMSE:\",mean_squared_error(y_test, fit_mars2.predict(X_test), squared = False) )\n",
    "print(\"Tuned MARS Test R^2:\", r2_score(y_test, fit_mars2.predict(X_test)))"
   ]
  },
  {
   "cell_type": "code",
   "execution_count": 417,
   "id": "1be0db0a",
   "metadata": {},
   "outputs": [
    {
     "name": "stdout",
     "output_type": "stream",
     "text": [
      "Feature importance by RSS on MARS feature selection\n",
      "\n",
      "                                           rss\n",
      "model_name                                 0.27   \n",
      "year                                       0.26   \n",
      "mileage                                    0.24   \n",
      "power                                      0.11   \n",
      "trimId                                     0.07   \n",
      "wheel_system_display_cat                   0.02   \n",
      "engine_cylinders_V6                        0.01   \n",
      "highway_fuel_economy                       0.01   \n",
      "height                                     0.01   \n",
      "city_fuel_economy                          0.00   \n",
      "engine_displacement                        0.00   \n",
      "savings_amount                             0.00   \n",
      "torque                                     0.00   \n",
      "franchise_make                             0.00   \n",
      "owner_count                                0.00   \n",
      "wheelbase                                  0.00   \n",
      "width                                      0.00   \n",
      "length                                     0.00   \n",
      "wheel_system_cat                           0.00   \n",
      "body_type_Sedan                            0.00   \n",
      "fuel_tank_volume                           0.00   \n",
      "engine_cylinders_I4                        0.00   \n",
      "transmission_display_8_Speed_Automatic     0.00   \n",
      "\n"
     ]
    }
   ],
   "source": [
    "print(\"Feature importance by RSS on MARS feature selection\\n\")\n",
    "print(fit_mars2.summary_feature_importances(sort_by = 'rss'))"
   ]
  },
  {
   "cell_type": "markdown",
   "id": "5eacd92e",
   "metadata": {},
   "source": [
    "Results and Takeaways: \n",
    "\n",
    "The MARS selected features model seems to outperform the model developed on our subset. There is less overfitting despite the slightly worse R^2. This makes sense because the original MARS feature selection ensured that we kept the features which best represented the data and thus it is less likely to experience over or underfitting as in our selected features. The pruning ensures that the model is performing as optimally as possible with the base parameters. \n",
    "\n",
    "It is also important to note that the performance on the model with the tuned degree is not significantly better than the performance on the base MARS model with the MARS selected features."
   ]
  },
  {
   "cell_type": "markdown",
   "id": "ae75c750",
   "metadata": {},
   "source": [
    "#### Bagging MARS"
   ]
  },
  {
   "cell_type": "markdown",
   "id": "1617d293",
   "metadata": {},
   "source": [
    "**First we will bag the best features selected by MARS. We will do a base MARS fitted with the MARS feature data and then a the best MARS feature.**"
   ]
  },
  {
   "cell_type": "code",
   "execution_count": 422,
   "id": "cfa76ab6",
   "metadata": {},
   "outputs": [
    {
     "name": "stdout",
     "output_type": "stream",
     "text": [
      "Bagged base MARS model Train RMSE: 2761.6200070905847\n",
      "R^2 on Train data 0.9588173903334842\n",
      "Bagged base MARS model Test RMSE: 2788.600146839992\n",
      "R^2 on Test data: 0.7784824962191642\n",
      "Feature importances show the same feature importances as the unbagged MARS models.\n"
     ]
    }
   ],
   "source": [
    "# bagging the base model for reference\n",
    "bagging_base = BaggingRegressor(base_estimator = Earth(feature_importance_type = 'rss'), \n",
    "                                random_state = 4).fit(X_train_mars, y_train_mars)\n",
    "best_rmse = 10000\n",
    "best_r2 = 0\n",
    "for estimator in bagging_base.estimators_:\n",
    "    if np.sqrt(estimator.mse_) < best_rmse:\n",
    "        best_rmse = np.sqrt(estimator.mse_)\n",
    "    if estimator.rsq_ > best_r2:\n",
    "        best_r2 = estimator.rsq_\n",
    "print(\"Bagged base MARS model Train RMSE:\", best_rmse)\n",
    "print(\"R^2 on Train data\", best_r2)\n",
    "print(\"Bagged base MARS model Test RMSE:\", mean_squared_error(y_test_mars, bagging_base.predict(X_test_mars), squared = False))\n",
    "print(\"R^2 on Test data:\", r2_score(y_test_mars, bagging_base.predict(X_test_mars)))\n",
    "print(\"Feature importances show the same feature importances as the unbagged MARS models.\")\n",
    "# for estimator in bagging_base.estimators_:\n",
    "#     print(estimator.summary_feature_importances(sort_by = \"rss\"))"
   ]
  },
  {
   "cell_type": "markdown",
   "id": "33d15b5d",
   "metadata": {},
   "source": [
    "**Now we will bag the best MARS model found on the MARS selected features and also tune the bagging grid for this model.** "
   ]
  },
  {
   "cell_type": "code",
   "execution_count": 424,
   "id": "79418190",
   "metadata": {},
   "outputs": [
    {
     "name": "stdout",
     "output_type": "stream",
     "text": [
      "Bagged base MARS model Train RMSE: 2612.6987983602867\n",
      "R^2 on Train data 0.963612437865765\n",
      "Bagged base MARS model Test RMSE: 2737.9654132203773\n",
      "R^2 on Test data: 0.7864539845171037\n",
      "Feature importances are consistent.\n"
     ]
    }
   ],
   "source": [
    "# bagging the best estimator found on the MARS selected features\n",
    "\n",
    "bagging_mars = BaggingRegressor(base_estimator = Earth(max_terms=1000, max_degree= 5, feature_importance_type = \"rss\")).fit(X_train_mars, y_train_mars)\n",
    "best_rmse = 10000\n",
    "best_r2 = 0\n",
    "for estimator in bagging_mars.estimators_:\n",
    "    if np.sqrt(estimator.mse_) < best_rmse:\n",
    "        best_rmse = np.sqrt(estimator.mse_)\n",
    "    if estimator.rsq_ > best_r2:\n",
    "        best_r2 = estimator.rsq_\n",
    "print(\"Bagged base MARS model Train RMSE:\", best_rmse)\n",
    "print(\"R^2 on Train data\", best_r2)\n",
    "print(\"Bagged base MARS model Test RMSE:\", mean_squared_error(y_test_mars, bagging_mars.predict(X_test_mars), squared = False))\n",
    "print(\"R^2 on Test data:\", r2_score(y_test_mars, bagging_mars.predict(X_test_mars)))\n",
    "print(\"Feature importances are consistent.\")"
   ]
  },
  {
   "cell_type": "code",
   "execution_count": 428,
   "id": "11f70557",
   "metadata": {},
   "outputs": [
    {
     "name": "stdout",
     "output_type": "stream",
     "text": [
      "Fitting 5 folds for each of 10 candidates, totalling 50 fits\n"
     ]
    },
    {
     "data": {
      "text/plain": [
       "RandomizedSearchCV(estimator=BaggingRegressor(base_estimator=Earth(feature_importance_type='rss',\n",
       "                                                                   max_degree=5),\n",
       "                                              random_state=4),\n",
       "                   n_jobs=-1,\n",
       "                   param_distributions={'bootstrap': [True, False],\n",
       "                                        'bootstrap_features': [True, False],\n",
       "                                        'max_features': [0.5, 0.75, 1.0],\n",
       "                                        'max_samples': [0.5, 0.75, 1.0]},\n",
       "                   scoring='neg_root_mean_squared_error', verbose=1)"
      ]
     },
     "execution_count": 428,
     "metadata": {},
     "output_type": "execute_result"
    }
   ],
   "source": [
    "# coarse grid search: optimizing bagging model \n",
    "\n",
    "bagging_opt = {'bootstrap': [True, False], \n",
    "              'bootstrap_features': [True, False],\n",
    "               'max_samples': [0.5, 0.75,1.0],\n",
    "              'max_features': [0.5, 0.75,1.0]}\n",
    "\n",
    "opt_grid = RandomizedSearchCV(estimator =  BaggingRegressor(base_estimator = Earth(max_degree= 5, feature_importance_type = \"rss\"), random_state =4), \\\n",
    "                        param_distributions = bagging_opt, verbose = 1, n_jobs = -1, scoring = 'neg_root_mean_squared_error')\n",
    "opt_grid.fit(X_train_mars, y_train_mars)"
   ]
  },
  {
   "cell_type": "code",
   "execution_count": 429,
   "id": "9a1560f8",
   "metadata": {},
   "outputs": [
    {
     "name": "stdout",
     "output_type": "stream",
     "text": [
      "The best BaggingRegressor coarse grid parameters: {'max_samples': 0.75, 'max_features': 0.5, 'bootstrap_features': False, 'bootstrap': False}\n",
      "Tuned BaggingRegressor Train RMSE: 3040.6124116396736\n",
      "Tuned BaggingRegressor R2: 0.9284106503760392\n",
      "Tuned BaggingRegressor Test RMSE:  2914.9556727676986\n",
      "Tuned BaggingRegressor R2 0.7579531323185931\n"
     ]
    }
   ],
   "source": [
    "print(\"The best BaggingRegressor coarse grid parameters:\", opt_grid.best_params_)\n",
    "\n",
    "best_rmse = 10000\n",
    "best_r2 = 0\n",
    "for estimator in opt_grid.best_estimator_.estimators_:\n",
    "    if np.sqrt(estimator.mse_) < best_rmse:\n",
    "        best_rmse = np.sqrt(estimator.mse_)\n",
    "    if estimator.rsq_ > best_r2:\n",
    "        best_r2 = estimator.rsq_\n",
    "\n",
    "print(\"Tuned BaggingRegressor Train RMSE:\", best_rmse)\n",
    "print(\"Tuned BaggingRegressor R2:\", best_r2)\n",
    "print(\"Tuned BaggingRegressor Test RMSE: \", mean_squared_error(y_test_mars, opt_grid.predict(X_test_mars), squared = False))\n",
    "print(\"Tuned BaggingRegressor R2\", r2_score(y_test_mars, opt_grid.predict(X_test_mars)))"
   ]
  },
  {
   "cell_type": "code",
   "execution_count": null,
   "id": "0edb125f",
   "metadata": {},
   "outputs": [
    {
     "name": "stdout",
     "output_type": "stream",
     "text": [
      "Fitting 5 folds for each of 3 candidates, totalling 15 fits\n"
     ]
    }
   ],
   "source": [
    "# fine grid search\n",
    "\n",
    "bagging_opt2 = {'max_samples': np.arange(0.1, 0.75, .2),\n",
    "              'max_features': np.arange(0.5, 1, .2)}\n",
    "\n",
    "opt_grid2 = RandomizedSearchCV(estimator =  BaggingRegressor(base_estimator = Earth(max_degree= 5, feature_importance_type = \"rss\"), \\\n",
    "                                                             random_state =4, bootstrap_features = False,\\\n",
    "                                                            bootstrap = False),  param_distributions = bagging_opt2, verbose = 1,\\\n",
    "                               n_jobs = -1, scoring = 'neg_root_mean_squared_error', random_state = 4, n_iter = 3)\n",
    "opt_grid2.fit(X_train_mars, y_train_mars)"
   ]
  },
  {
   "cell_type": "code",
   "execution_count": 438,
   "id": "acf166b5",
   "metadata": {},
   "outputs": [
    {
     "name": "stdout",
     "output_type": "stream",
     "text": [
      "The best BaggingRegressor fine parameters: {'max_samples': 0.6, 'max_features': 0.9}\n",
      "Tuned BaggingRegressor Train RMSE: 2620.6858359626726\n",
      "Tuned BaggingRegressor R2: 0.9624349584512664\n",
      "Tuned BaggingRegressor Test RMSE:  3145.216344284546\n",
      "Tuned BaggingRegressor R2 0.718202844680064\n"
     ]
    }
   ],
   "source": [
    "print(\"The best BaggingRegressor fine parameters:\", opt_grid2.best_params_)\n",
    "\n",
    "best_rmse = 10000\n",
    "best_r2 = 0\n",
    "for estimator in opt_grid2.best_estimator_.estimators_:\n",
    "    if np.sqrt(estimator.mse_) < best_rmse:\n",
    "        best_rmse = np.sqrt(estimator.mse_)\n",
    "    if estimator.rsq_ > best_r2:\n",
    "        best_r2 = estimator.rsq_\n",
    "\n",
    "print(\"Tuned BaggingRegressor Train RMSE:\", best_rmse)\n",
    "print(\"Tuned BaggingRegressor R2:\", best_r2)\n",
    "print(\"Tuned BaggingRegressor Test RMSE: \", mean_squared_error(y_test_mars, opt_grid2.predict(X_test_mars), squared = False))\n",
    "print(\"Tuned BaggingRegressor R2\", r2_score(y_test_mars, opt_grid2.predict(X_test_mars)))"
   ]
  },
  {
   "cell_type": "markdown",
   "id": "9e01b6be",
   "metadata": {},
   "source": [
    "**Finally we will bag the best MARS model found on our selected features and also tune the bagging grid for this model.**"
   ]
  },
  {
   "cell_type": "code",
   "execution_count": null,
   "id": "443df29b",
   "metadata": {},
   "outputs": [],
   "source": [
    "# bagging the base model for reference\n",
    "bagging_base = BaggingRegressor(base_estimator = Earth(feature_importance_type = 'rss'), \n",
    "                                random_state = 4).fit(X_train, y_train)\n",
    "best_rmse = 10000\n",
    "best_r2 = 0\n",
    "for estimator in bagging_base.estimators_:\n",
    "    if np.sqrt(estimator.mse_) < best_rmse:\n",
    "        best_rmse = np.sqrt(estimator.mse_)\n",
    "    if estimator.rsq_ > best_r2:\n",
    "        best_r2 = estimator.rsq_\n",
    "print(\"Bagged base MARS model Train RMSE:\", best_rmse)\n",
    "print(\"R^2 on Train data\", best_r2)\n",
    "print(\"Bagged base MARS model Test RMSE:\", mean_squared_error(y_test, bagging_base.predict(X_test), squared = False))\n",
    "print(\"R^2 on Test data:\", r2_score(y_test, bagging_base.predict(X_test)))\n",
    "print(\"Feature importances show the same feature importances as the unbagged MARS models.\")\n",
    "# for estimator in bagging_base.estimators_:\n",
    "#     print(estimator.summary_feature_importances(sort_by = \"rss\"))"
   ]
  },
  {
   "cell_type": "code",
   "execution_count": null,
   "id": "50c46d0e",
   "metadata": {},
   "outputs": [],
   "source": [
    "# bagging the best estimator found on our selected features\n",
    "\n",
    "bagging_mars = BaggingRegressor(base_estimator = Earth(max_degree= 6, feature_importance_type = \"rss\")).fit(X_train, y_train)\n",
    "best_rmse = 10000\n",
    "best_r2 = 0\n",
    "for estimator in bagging_mars.estimators_:\n",
    "    if np.sqrt(estimator.mse_) < best_rmse:\n",
    "        best_rmse = np.sqrt(estimator.mse_)\n",
    "    if estimator.rsq_ > best_r2:\n",
    "        best_r2 = estimator.rsq_\n",
    "print(\"Bagged base MARS model Train RMSE:\", best_rmse)\n",
    "print(\"R^2 on Train data\", best_r2)\n",
    "print(\"Bagged base MARS model Test RMSE:\", mean_squared_error(y_test, bagging_mars.predict(X_test), squared = False))\n",
    "print(\"R^2 on Test data:\", r2_score(y_test, bagging_mars.predict(X_test)))\n",
    "print(\"Feature importances are consistent.\")"
   ]
  },
  {
   "cell_type": "code",
   "execution_count": null,
   "id": "c7f1cc8d",
   "metadata": {},
   "outputs": [],
   "source": [
    "# coarse grid search: optimizing bagging model \n",
    "\n",
    "bagging_opt = {'bootstrap': [True, False], \n",
    "              'bootstrap_features': [True, False],\n",
    "               'max_samples': [0.5, 0.75,1.0],\n",
    "              'max_features': [0.5, 0.75,1.0]}\n",
    "\n",
    "opt_grid = RandomizedSearchCV(estimator =  BaggingRegressor(base_estimator = Earth(max_degree= 6, feature_importance_type = \"rss\"), random_state =4), \\\n",
    "                        param_distributions = bagging_opt, verbose = 1, n_jobs = -1, scoring = 'neg_root_mean_squared_error',\\\n",
    "                             n_iter = 3)\n",
    "opt_grid.fit(X_train, y_train)"
   ]
  },
  {
   "cell_type": "code",
   "execution_count": null,
   "id": "585bf357",
   "metadata": {},
   "outputs": [],
   "source": [
    "print(\"The best BaggingRegressor coarse grid parameters:\", opt_grid.best_params_)\n",
    "\n",
    "best_rmse = 10000\n",
    "best_r2 = 0\n",
    "for estimator in opt_grid.best_estimator_.estimators_:\n",
    "    if np.sqrt(estimator.mse_) < best_rmse:\n",
    "        best_rmse = np.sqrt(estimator.mse_)\n",
    "    if estimator.rsq_ > best_r2:\n",
    "        best_r2 = estimator.rsq_\n",
    "\n",
    "print(\"Tuned BaggingRegressor Train RMSE:\", best_rmse)\n",
    "print(\"Tuned BaggingRegressor R2:\", best_r2)\n",
    "print(\"Tuned BaggingRegressor Test RMSE: \", mean_squared_error(y_test_mars, opt_grid.predict(X_test_mars), squared = False))\n",
    "print(\"Tuned BaggingRegressor R2\", r2_score(y_test_mars, opt_grid.predict(X_test_mars)))"
   ]
  },
  {
   "cell_type": "markdown",
   "id": "9371da7a",
   "metadata": {},
   "source": [
    "**Analysis of Results** \n",
    "\n"
   ]
  },
  {
   "cell_type": "markdown",
   "id": "a6b2ef05",
   "metadata": {},
   "source": [
    "### Decision Trees & Bagging Decision Trees\n",
    "*By Nicole Birova*"
   ]
  },
  {
   "cell_type": "markdown",
   "id": "05b41b38",
   "metadata": {},
   "source": [
    "### Random forest \n",
    "*By Hiba Khatib*"
   ]
  },
  {
   "cell_type": "markdown",
   "id": "1c715a73",
   "metadata": {},
   "source": [
    "**The first set of Random Forests will be performed on the MARS selected features.**"
   ]
  },
  {
   "cell_type": "code",
   "execution_count": 117,
   "id": "5b881bb6",
   "metadata": {},
   "outputs": [
    {
     "name": "stdout",
     "output_type": "stream",
     "text": [
      "Base RandomForest Test RMSE:  3696.910020821465\n",
      "Base RandomForest Train RMSE:  1445.662318831611\n",
      "Base RandomForest R^2:  0.9018308866988485\n"
     ]
    }
   ],
   "source": [
    "base_rf = RandomForestRegressor(random_state = 4).fit(X_train_mars, y_train_mars)\n",
    "print(\"Base RandomForest Test RMSE: \", mean_squared_error(y_test_mars, base_rf.predict(X_test_mars), squared = False))\n",
    "print(\"Base RandomForest Train RMSE: \", mean_squared_error(y_train_mars, base_rf.predict(X_train_mars), squared = False))\n",
    "print(\"Base RandomForest R^2: \", r2_score(y_test_mars, base_rf.predict(X_test_mars)))"
   ]
  },
  {
   "cell_type": "code",
   "execution_count": 141,
   "id": "78f2c64e",
   "metadata": {},
   "outputs": [
    {
     "data": {
      "text/html": [
       "<div>\n",
       "<style scoped>\n",
       "    .dataframe tbody tr th:only-of-type {\n",
       "        vertical-align: middle;\n",
       "    }\n",
       "\n",
       "    .dataframe tbody tr th {\n",
       "        vertical-align: top;\n",
       "    }\n",
       "\n",
       "    .dataframe thead th {\n",
       "        text-align: right;\n",
       "    }\n",
       "</style>\n",
       "<table border=\"1\" class=\"dataframe\">\n",
       "  <thead>\n",
       "    <tr style=\"text-align: right;\">\n",
       "      <th></th>\n",
       "      <th>index</th>\n",
       "      <th>0</th>\n",
       "      <th>1</th>\n",
       "    </tr>\n",
       "  </thead>\n",
       "  <tbody>\n",
       "    <tr>\n",
       "      <th>8</th>\n",
       "      <td>8</td>\n",
       "      <td>model_name</td>\n",
       "      <td>0.623452</td>\n",
       "    </tr>\n",
       "    <tr>\n",
       "      <th>12</th>\n",
       "      <td>12</td>\n",
       "      <td>trimId</td>\n",
       "      <td>0.104791</td>\n",
       "    </tr>\n",
       "    <tr>\n",
       "      <th>7</th>\n",
       "      <td>7</td>\n",
       "      <td>mileage</td>\n",
       "      <td>0.096746</td>\n",
       "    </tr>\n",
       "    <tr>\n",
       "      <th>9</th>\n",
       "      <td>9</td>\n",
       "      <td>power</td>\n",
       "      <td>0.036915</td>\n",
       "    </tr>\n",
       "    <tr>\n",
       "      <th>11</th>\n",
       "      <td>11</td>\n",
       "      <td>torque</td>\n",
       "      <td>0.036540</td>\n",
       "    </tr>\n",
       "    <tr>\n",
       "      <th>10</th>\n",
       "      <td>10</td>\n",
       "      <td>savings_amount</td>\n",
       "      <td>0.015657</td>\n",
       "    </tr>\n",
       "    <tr>\n",
       "      <th>14</th>\n",
       "      <td>14</td>\n",
       "      <td>width</td>\n",
       "      <td>0.013138</td>\n",
       "    </tr>\n",
       "    <tr>\n",
       "      <th>4</th>\n",
       "      <td>4</td>\n",
       "      <td>height</td>\n",
       "      <td>0.011414</td>\n",
       "    </tr>\n",
       "    <tr>\n",
       "      <th>16</th>\n",
       "      <td>16</td>\n",
       "      <td>wheel_system_cat</td>\n",
       "      <td>0.009701</td>\n",
       "    </tr>\n",
       "    <tr>\n",
       "      <th>5</th>\n",
       "      <td>5</td>\n",
       "      <td>highway_fuel_economy</td>\n",
       "      <td>0.008553</td>\n",
       "    </tr>\n",
       "    <tr>\n",
       "      <th>2</th>\n",
       "      <td>2</td>\n",
       "      <td>franchise_make</td>\n",
       "      <td>0.008420</td>\n",
       "    </tr>\n",
       "    <tr>\n",
       "      <th>15</th>\n",
       "      <td>15</td>\n",
       "      <td>year</td>\n",
       "      <td>0.006893</td>\n",
       "    </tr>\n",
       "    <tr>\n",
       "      <th>6</th>\n",
       "      <td>6</td>\n",
       "      <td>length</td>\n",
       "      <td>0.006442</td>\n",
       "    </tr>\n",
       "    <tr>\n",
       "      <th>1</th>\n",
       "      <td>1</td>\n",
       "      <td>engine_displacement</td>\n",
       "      <td>0.005826</td>\n",
       "    </tr>\n",
       "    <tr>\n",
       "      <th>13</th>\n",
       "      <td>13</td>\n",
       "      <td>wheelbase</td>\n",
       "      <td>0.004963</td>\n",
       "    </tr>\n",
       "    <tr>\n",
       "      <th>3</th>\n",
       "      <td>3</td>\n",
       "      <td>fuel_tank_volume</td>\n",
       "      <td>0.004924</td>\n",
       "    </tr>\n",
       "    <tr>\n",
       "      <th>0</th>\n",
       "      <td>0</td>\n",
       "      <td>city_fuel_economy</td>\n",
       "      <td>0.004462</td>\n",
       "    </tr>\n",
       "    <tr>\n",
       "      <th>17</th>\n",
       "      <td>17</td>\n",
       "      <td>engine_cylinders_I4</td>\n",
       "      <td>0.000706</td>\n",
       "    </tr>\n",
       "    <tr>\n",
       "      <th>18</th>\n",
       "      <td>18</td>\n",
       "      <td>engine_cylinders_V8</td>\n",
       "      <td>0.000458</td>\n",
       "    </tr>\n",
       "  </tbody>\n",
       "</table>\n",
       "</div>"
      ],
      "text/plain": [
       "    index                     0         1\n",
       "8       8            model_name  0.623452\n",
       "12     12                trimId  0.104791\n",
       "7       7               mileage  0.096746\n",
       "9       9                 power  0.036915\n",
       "11     11                torque  0.036540\n",
       "10     10        savings_amount  0.015657\n",
       "14     14                 width  0.013138\n",
       "4       4                height  0.011414\n",
       "16     16      wheel_system_cat  0.009701\n",
       "5       5  highway_fuel_economy  0.008553\n",
       "2       2        franchise_make  0.008420\n",
       "15     15                  year  0.006893\n",
       "6       6                length  0.006442\n",
       "1       1   engine_displacement  0.005826\n",
       "13     13             wheelbase  0.004963\n",
       "3       3      fuel_tank_volume  0.004924\n",
       "0       0     city_fuel_economy  0.004462\n",
       "17     17   engine_cylinders_I4  0.000706\n",
       "18     18   engine_cylinders_V8  0.000458"
      ]
     },
     "execution_count": 141,
     "metadata": {},
     "output_type": "execute_result"
    }
   ],
   "source": [
    "base_rf_feats = pd.DataFrame(zip(base_rf.feature_names_in_, base_rf.feature_importances_)).reset_index()\n",
    "base_rf_feats.sort_values(by = base_rf_feats.columns[2], ascending = False)"
   ]
  },
  {
   "cell_type": "markdown",
   "id": "c729df79",
   "metadata": {},
   "source": [
    "#### Coarse grid search"
   ]
  },
  {
   "cell_type": "code",
   "execution_count": 132,
   "id": "256aae02",
   "metadata": {},
   "outputs": [
    {
     "name": "stdout",
     "output_type": "stream",
     "text": [
      "Fitting 5 folds for each of 8 candidates, totalling 40 fits\n"
     ]
    },
    {
     "data": {
      "text/plain": [
       "GridSearchCV(estimator=RandomForestRegressor(random_state=4), n_jobs=-1,\n",
       "             param_grid={'bootstrap': [True, False], 'max_depth': [6, 8],\n",
       "                         'max_leaf_nodes': [150, 200], 'n_estimators': [3000]},\n",
       "             scoring='neg_mean_squared_error', verbose=1)"
      ]
     },
     "execution_count": 132,
     "metadata": {},
     "output_type": "execute_result"
    }
   ],
   "source": [
    "rf_params = {'n_estimators': [250, 500, 700], \n",
    "            'max_depth': [4, 6, 8], \n",
    "            'max_leaf_nodes': range(2, 300, 75),\n",
    "            'bootstrap': [True, False]}\n",
    "\n",
    "rf_grid = GridSearchCV(RandomForestRegressor(random_state = 4), rf_params, n_jobs = -1, verbose = 1, \n",
    "                       scoring = 'neg_root_mean_squared_error')\n",
    "rf_grid.fit(X_train_mars, y_train_mars)"
   ]
  },
  {
   "cell_type": "code",
   "execution_count": 133,
   "id": "cbf748c6",
   "metadata": {},
   "outputs": [
    {
     "name": "stdout",
     "output_type": "stream",
     "text": [
      "Best RandomForest parameters: {'bootstrap': True, 'max_depth': 8, 'max_leaf_nodes': 200, 'n_estimators': 3000}\n",
      "Best model train RMSE: 3219.9047984351423\n",
      "Best model test RMSE: 4146.782147344947\n",
      "Best model R^2: 0.8764850440536625\n"
     ]
    }
   ],
   "source": [
    "print(\"Best RandomForest parameters:\", rf_grid.best_params_)\n",
    "print(\"Best model train RMSE:\", mean_squared_error(y_train_mars, rf_grid.predict(X_train_mars), squared = False))\n",
    "print(\"Best model test RMSE:\", mean_squared_error(y_test_mars, rf_grid.predict(X_test_mars), squared = False))\n",
    "print(\"Best model R^2:\", r2_score(y_test_mars, rf_grid.predict(X_test_mars)))"
   ]
  },
  {
   "cell_type": "code",
   "execution_count": 140,
   "id": "00d58077",
   "metadata": {},
   "outputs": [
    {
     "data": {
      "text/html": [
       "<div>\n",
       "<style scoped>\n",
       "    .dataframe tbody tr th:only-of-type {\n",
       "        vertical-align: middle;\n",
       "    }\n",
       "\n",
       "    .dataframe tbody tr th {\n",
       "        vertical-align: top;\n",
       "    }\n",
       "\n",
       "    .dataframe thead th {\n",
       "        text-align: right;\n",
       "    }\n",
       "</style>\n",
       "<table border=\"1\" class=\"dataframe\">\n",
       "  <thead>\n",
       "    <tr style=\"text-align: right;\">\n",
       "      <th></th>\n",
       "      <th>index</th>\n",
       "      <th>0</th>\n",
       "      <th>1</th>\n",
       "    </tr>\n",
       "  </thead>\n",
       "  <tbody>\n",
       "    <tr>\n",
       "      <th>8</th>\n",
       "      <td>8</td>\n",
       "      <td>model_name</td>\n",
       "      <td>0.661673</td>\n",
       "    </tr>\n",
       "    <tr>\n",
       "      <th>12</th>\n",
       "      <td>12</td>\n",
       "      <td>trimId</td>\n",
       "      <td>0.104228</td>\n",
       "    </tr>\n",
       "    <tr>\n",
       "      <th>7</th>\n",
       "      <td>7</td>\n",
       "      <td>mileage</td>\n",
       "      <td>0.088429</td>\n",
       "    </tr>\n",
       "    <tr>\n",
       "      <th>11</th>\n",
       "      <td>11</td>\n",
       "      <td>torque</td>\n",
       "      <td>0.038038</td>\n",
       "    </tr>\n",
       "    <tr>\n",
       "      <th>9</th>\n",
       "      <td>9</td>\n",
       "      <td>power</td>\n",
       "      <td>0.036892</td>\n",
       "    </tr>\n",
       "    <tr>\n",
       "      <th>14</th>\n",
       "      <td>14</td>\n",
       "      <td>width</td>\n",
       "      <td>0.010391</td>\n",
       "    </tr>\n",
       "    <tr>\n",
       "      <th>4</th>\n",
       "      <td>4</td>\n",
       "      <td>height</td>\n",
       "      <td>0.008332</td>\n",
       "    </tr>\n",
       "    <tr>\n",
       "      <th>16</th>\n",
       "      <td>16</td>\n",
       "      <td>wheel_system_cat</td>\n",
       "      <td>0.008292</td>\n",
       "    </tr>\n",
       "    <tr>\n",
       "      <th>15</th>\n",
       "      <td>15</td>\n",
       "      <td>year</td>\n",
       "      <td>0.008199</td>\n",
       "    </tr>\n",
       "    <tr>\n",
       "      <th>10</th>\n",
       "      <td>10</td>\n",
       "      <td>savings_amount</td>\n",
       "      <td>0.006378</td>\n",
       "    </tr>\n",
       "    <tr>\n",
       "      <th>2</th>\n",
       "      <td>2</td>\n",
       "      <td>franchise_make</td>\n",
       "      <td>0.006296</td>\n",
       "    </tr>\n",
       "    <tr>\n",
       "      <th>5</th>\n",
       "      <td>5</td>\n",
       "      <td>highway_fuel_economy</td>\n",
       "      <td>0.006232</td>\n",
       "    </tr>\n",
       "    <tr>\n",
       "      <th>1</th>\n",
       "      <td>1</td>\n",
       "      <td>engine_displacement</td>\n",
       "      <td>0.003957</td>\n",
       "    </tr>\n",
       "    <tr>\n",
       "      <th>6</th>\n",
       "      <td>6</td>\n",
       "      <td>length</td>\n",
       "      <td>0.003576</td>\n",
       "    </tr>\n",
       "    <tr>\n",
       "      <th>3</th>\n",
       "      <td>3</td>\n",
       "      <td>fuel_tank_volume</td>\n",
       "      <td>0.003187</td>\n",
       "    </tr>\n",
       "    <tr>\n",
       "      <th>13</th>\n",
       "      <td>13</td>\n",
       "      <td>wheelbase</td>\n",
       "      <td>0.002736</td>\n",
       "    </tr>\n",
       "    <tr>\n",
       "      <th>0</th>\n",
       "      <td>0</td>\n",
       "      <td>city_fuel_economy</td>\n",
       "      <td>0.002158</td>\n",
       "    </tr>\n",
       "    <tr>\n",
       "      <th>17</th>\n",
       "      <td>17</td>\n",
       "      <td>engine_cylinders_I4</td>\n",
       "      <td>0.000561</td>\n",
       "    </tr>\n",
       "    <tr>\n",
       "      <th>18</th>\n",
       "      <td>18</td>\n",
       "      <td>engine_cylinders_V8</td>\n",
       "      <td>0.000446</td>\n",
       "    </tr>\n",
       "  </tbody>\n",
       "</table>\n",
       "</div>"
      ],
      "text/plain": [
       "    index                     0         1\n",
       "8       8            model_name  0.661673\n",
       "12     12                trimId  0.104228\n",
       "7       7               mileage  0.088429\n",
       "11     11                torque  0.038038\n",
       "9       9                 power  0.036892\n",
       "14     14                 width  0.010391\n",
       "4       4                height  0.008332\n",
       "16     16      wheel_system_cat  0.008292\n",
       "15     15                  year  0.008199\n",
       "10     10        savings_amount  0.006378\n",
       "2       2        franchise_make  0.006296\n",
       "5       5  highway_fuel_economy  0.006232\n",
       "1       1   engine_displacement  0.003957\n",
       "6       6                length  0.003576\n",
       "3       3      fuel_tank_volume  0.003187\n",
       "13     13             wheelbase  0.002736\n",
       "0       0     city_fuel_economy  0.002158\n",
       "17     17   engine_cylinders_I4  0.000561\n",
       "18     18   engine_cylinders_V8  0.000446"
      ]
     },
     "execution_count": 140,
     "metadata": {},
     "output_type": "execute_result"
    }
   ],
   "source": [
    "rf_feats = pd.DataFrame(zip(rf_grid.best_estimator_.feature_names_in_, rf_grid.best_estimator_.feature_importances_)).reset_index()\n",
    "rf_feats.sort_values(by = rf_feats.columns[2], ascending = False)"
   ]
  },
  {
   "cell_type": "code",
   "execution_count": null,
   "id": "930b0ea4",
   "metadata": {},
   "outputs": [],
   "source": [
    "rf_results = pd.DataFrame(rf_grid.cv_results_)\n",
    "rf_results.head(2)"
   ]
  },
  {
   "cell_type": "code",
   "execution_count": null,
   "id": "53fd90c7",
   "metadata": {},
   "outputs": [],
   "source": [
    "fig, axes = plt.subplots(1,3,figsize=(14,5))\n",
    "plt.subplots_adjust(wspace=0.2)\n",
    "axes[0].plot(rf_results.param_, (-cv_results.mean_test_score), 'o')\n",
    "axes[0].set_xlabel('Learning rate')\n",
    "axes[0].set_ylabel('MAE')\n",
    "axes[1].plot(rf_results.param_n_estimators,(-cv_results.mean_test_score), 'o')\n",
    "axes[1].set_xlabel('n estimators')\n",
    "axes[1].set_ylabel('MAE');\n",
    "axes[2].plot(base_estimator,(-cv_results.mean_test_score), 'o')\n",
    "axes[2].set_xlabel('base estimator max_depth')\n",
    "axes[2].set_ylabel('MAE');"
   ]
  },
  {
   "cell_type": "markdown",
   "id": "c01ed96a",
   "metadata": {},
   "source": [
    "#### Fine Grid Search"
   ]
  },
  {
   "cell_type": "code",
   "execution_count": null,
   "id": "9166bef7",
   "metadata": {},
   "outputs": [],
   "source": [
    "rf_params2 = {'n_estimators': [250, 500, 700], \n",
    "            'max_depth': [4, 6, 8], \n",
    "            'max_leaf_nodes': range(2, 300, 75),\n",
    "            'bootstrap': [True, False]}\n",
    "\n",
    "rf_grid2 = GridSearchCV(RandomForestRegressor(random_state = 4), rf_params2, n_jobs = -1, verbose = 1, \n",
    "                       scoring = 'neg_root_mean_squared_error')\n",
    "rf_grid2.fit(X_train_mars, y_train_mars)"
   ]
  },
  {
   "cell_type": "code",
   "execution_count": null,
   "id": "671649dd",
   "metadata": {},
   "outputs": [],
   "source": [
    "print(\"Best RandomForest parameters:\", rf_grid2.best_params_)\n",
    "print(\"Best model train RMSE:\", mean_squared_error(y_train_mars, rf_grid2.predict(X_train_mars), squared = False))\n",
    "print(\"Best model test RMSE:\", mean_squared_error(y_test_mars, rf_grid2.predict(X_test_mars), squared = False))\n",
    "print(\"Best model R^2:\", r2_score(y_test_mars, rf_grid2.predict(X_test_mars)))\n",
    "rf_feats2 = pd.DataFrame(zip(rf_grid2.best_estimator_.feature_names_in_, rf_grid2.best_estimator_.feature_importances_)).reset_index()\n",
    "rf_feats2.sort_values(by = rf_feats2.columns[2], ascending = False)"
   ]
  },
  {
   "cell_type": "markdown",
   "id": "30c9c7dc",
   "metadata": {},
   "source": [
    "**Now we will continue with analysis on our selected features**"
   ]
  },
  {
   "cell_type": "code",
   "execution_count": null,
   "id": "072b63f6",
   "metadata": {},
   "outputs": [],
   "source": []
  },
  {
   "cell_type": "markdown",
   "id": "bbe25454",
   "metadata": {},
   "source": [
    "The best RMSE and R^2 resulted from ___ params using the MARS model"
   ]
  },
  {
   "cell_type": "markdown",
   "id": "a67c9ff7",
   "metadata": {},
   "source": [
    "### AdaBoost & Gradient boosting\n",
    "*By YuYan Zhang*"
   ]
  },
  {
   "cell_type": "code",
   "execution_count": 4,
   "id": "78dc4c03",
   "metadata": {},
   "outputs": [],
   "source": [
    "import catboost as cb"
   ]
  },
  {
   "cell_type": "code",
   "execution_count": 3,
   "id": "425f98c6",
   "metadata": {
    "scrolled": true
   },
   "outputs": [],
   "source": [
    "from catboost import CatBoostRegressor"
   ]
  },
  {
   "cell_type": "code",
   "execution_count": 58,
   "id": "81fc959d",
   "metadata": {},
   "outputs": [],
   "source": [
    "train_pool = cb.Pool(X_train,y_train)\n",
    "test_pool = cb.Pool(X_test,y_test)"
   ]
  },
  {
   "cell_type": "code",
   "execution_count": 60,
   "id": "b62ff27d",
   "metadata": {},
   "outputs": [],
   "source": [
    "cb1 = CatBoostRegressor(loss_function='RMSE')"
   ]
  },
  {
   "cell_type": "code",
   "execution_count": 62,
   "id": "93132202",
   "metadata": {
    "collapsed": true
   },
   "outputs": [
    {
     "name": "stdout",
     "output_type": "stream",
     "text": [
      "Learning rate set to 0.049132\n",
      "0:\tlearn: 5794.2995392\ttotal: 3.03ms\tremaining: 3.02s\n",
      "1:\tlearn: 5634.2358373\ttotal: 4.27ms\tremaining: 2.13s\n",
      "2:\tlearn: 5473.4473085\ttotal: 5.45ms\tremaining: 1.81s\n",
      "3:\tlearn: 5312.7684693\ttotal: 6.63ms\tremaining: 1.65s\n",
      "4:\tlearn: 5168.2185213\ttotal: 7.89ms\tremaining: 1.57s\n",
      "5:\tlearn: 5029.6671764\ttotal: 9.13ms\tremaining: 1.51s\n",
      "6:\tlearn: 4893.4081625\ttotal: 10.4ms\tremaining: 1.48s\n",
      "7:\tlearn: 4754.9994771\ttotal: 11.9ms\tremaining: 1.48s\n",
      "8:\tlearn: 4641.6825970\ttotal: 15.3ms\tremaining: 1.68s\n",
      "9:\tlearn: 4526.6625366\ttotal: 16.8ms\tremaining: 1.66s\n",
      "10:\tlearn: 4417.1758224\ttotal: 18.4ms\tremaining: 1.66s\n",
      "11:\tlearn: 4304.0831966\ttotal: 20ms\tremaining: 1.64s\n",
      "12:\tlearn: 4202.2979127\ttotal: 21.7ms\tremaining: 1.64s\n",
      "13:\tlearn: 4110.8520094\ttotal: 23.6ms\tremaining: 1.66s\n",
      "14:\tlearn: 4018.4681610\ttotal: 25.8ms\tremaining: 1.69s\n",
      "15:\tlearn: 3931.3348745\ttotal: 27.6ms\tremaining: 1.7s\n",
      "16:\tlearn: 3849.6850909\ttotal: 29.5ms\tremaining: 1.71s\n",
      "17:\tlearn: 3771.0317986\ttotal: 31.1ms\tremaining: 1.7s\n",
      "18:\tlearn: 3699.6695629\ttotal: 32.9ms\tremaining: 1.7s\n",
      "19:\tlearn: 3629.3112876\ttotal: 34.7ms\tremaining: 1.7s\n",
      "20:\tlearn: 3567.2437378\ttotal: 36.4ms\tremaining: 1.7s\n",
      "21:\tlearn: 3505.3933574\ttotal: 37.7ms\tremaining: 1.68s\n",
      "22:\tlearn: 3446.0873344\ttotal: 39.2ms\tremaining: 1.67s\n",
      "23:\tlearn: 3388.4761129\ttotal: 40.5ms\tremaining: 1.65s\n",
      "24:\tlearn: 3340.2669323\ttotal: 42ms\tremaining: 1.64s\n",
      "25:\tlearn: 3290.9353566\ttotal: 43.6ms\tremaining: 1.63s\n",
      "26:\tlearn: 3240.1956027\ttotal: 44.9ms\tremaining: 1.62s\n",
      "27:\tlearn: 3194.2051356\ttotal: 46.1ms\tremaining: 1.6s\n",
      "28:\tlearn: 3154.9608392\ttotal: 47.5ms\tremaining: 1.59s\n",
      "29:\tlearn: 3112.8299678\ttotal: 48.9ms\tremaining: 1.58s\n",
      "30:\tlearn: 3073.0491599\ttotal: 50.1ms\tremaining: 1.57s\n",
      "31:\tlearn: 3036.1964416\ttotal: 51.4ms\tremaining: 1.56s\n",
      "32:\tlearn: 3000.5330460\ttotal: 52.7ms\tremaining: 1.54s\n",
      "33:\tlearn: 2969.1060085\ttotal: 54ms\tremaining: 1.53s\n",
      "34:\tlearn: 2940.7886974\ttotal: 55.2ms\tremaining: 1.52s\n",
      "35:\tlearn: 2908.3743318\ttotal: 56.6ms\tremaining: 1.51s\n",
      "36:\tlearn: 2880.0457073\ttotal: 57.9ms\tremaining: 1.51s\n",
      "37:\tlearn: 2850.8149057\ttotal: 59.3ms\tremaining: 1.5s\n",
      "38:\tlearn: 2824.6080708\ttotal: 60.6ms\tremaining: 1.49s\n",
      "39:\tlearn: 2801.2783980\ttotal: 61.9ms\tremaining: 1.48s\n",
      "40:\tlearn: 2777.2300598\ttotal: 63ms\tremaining: 1.47s\n",
      "41:\tlearn: 2755.0641579\ttotal: 64.2ms\tremaining: 1.46s\n",
      "42:\tlearn: 2732.2950073\ttotal: 65.4ms\tremaining: 1.46s\n",
      "43:\tlearn: 2712.3397596\ttotal: 66.7ms\tremaining: 1.45s\n",
      "44:\tlearn: 2692.6945914\ttotal: 68.7ms\tremaining: 1.46s\n",
      "45:\tlearn: 2673.3987290\ttotal: 69.9ms\tremaining: 1.45s\n",
      "46:\tlearn: 2657.1759491\ttotal: 71.2ms\tremaining: 1.44s\n",
      "47:\tlearn: 2638.2435824\ttotal: 72.6ms\tremaining: 1.44s\n",
      "48:\tlearn: 2620.4234406\ttotal: 73.8ms\tremaining: 1.43s\n",
      "49:\tlearn: 2605.5436838\ttotal: 75.2ms\tremaining: 1.43s\n",
      "50:\tlearn: 2589.8401501\ttotal: 76.4ms\tremaining: 1.42s\n",
      "51:\tlearn: 2574.5848101\ttotal: 77.7ms\tremaining: 1.42s\n",
      "52:\tlearn: 2558.5769166\ttotal: 78.9ms\tremaining: 1.41s\n",
      "53:\tlearn: 2548.4417235\ttotal: 80.3ms\tremaining: 1.41s\n",
      "54:\tlearn: 2535.6333702\ttotal: 81.7ms\tremaining: 1.4s\n",
      "55:\tlearn: 2519.0928609\ttotal: 82.9ms\tremaining: 1.4s\n",
      "56:\tlearn: 2505.5949263\ttotal: 84.1ms\tremaining: 1.39s\n",
      "57:\tlearn: 2494.9702849\ttotal: 85.5ms\tremaining: 1.39s\n",
      "58:\tlearn: 2483.3281229\ttotal: 86.7ms\tremaining: 1.38s\n",
      "59:\tlearn: 2473.3551909\ttotal: 88.8ms\tremaining: 1.39s\n",
      "60:\tlearn: 2463.2654745\ttotal: 90ms\tremaining: 1.39s\n",
      "61:\tlearn: 2451.8646974\ttotal: 91.4ms\tremaining: 1.38s\n",
      "62:\tlearn: 2441.4928459\ttotal: 92.5ms\tremaining: 1.38s\n",
      "63:\tlearn: 2432.0575776\ttotal: 93.6ms\tremaining: 1.37s\n",
      "64:\tlearn: 2423.7347358\ttotal: 94.8ms\tremaining: 1.36s\n",
      "65:\tlearn: 2415.8393372\ttotal: 96.1ms\tremaining: 1.36s\n",
      "66:\tlearn: 2408.6452770\ttotal: 98ms\tremaining: 1.36s\n",
      "67:\tlearn: 2397.5484296\ttotal: 99.4ms\tremaining: 1.36s\n",
      "68:\tlearn: 2388.9472325\ttotal: 101ms\tremaining: 1.36s\n",
      "69:\tlearn: 2379.8549232\ttotal: 102ms\tremaining: 1.36s\n",
      "70:\tlearn: 2372.6112391\ttotal: 103ms\tremaining: 1.35s\n",
      "71:\tlearn: 2366.4772556\ttotal: 105ms\tremaining: 1.35s\n",
      "72:\tlearn: 2358.2109785\ttotal: 107ms\tremaining: 1.35s\n",
      "73:\tlearn: 2351.2167092\ttotal: 108ms\tremaining: 1.35s\n",
      "74:\tlearn: 2342.9745771\ttotal: 109ms\tremaining: 1.34s\n",
      "75:\tlearn: 2337.2119958\ttotal: 111ms\tremaining: 1.34s\n",
      "76:\tlearn: 2330.0398385\ttotal: 112ms\tremaining: 1.34s\n",
      "77:\tlearn: 2318.1448920\ttotal: 113ms\tremaining: 1.33s\n",
      "78:\tlearn: 2313.3291611\ttotal: 114ms\tremaining: 1.33s\n",
      "79:\tlearn: 2306.9566966\ttotal: 116ms\tremaining: 1.33s\n",
      "80:\tlearn: 2301.0067009\ttotal: 117ms\tremaining: 1.32s\n",
      "81:\tlearn: 2296.2097171\ttotal: 118ms\tremaining: 1.33s\n",
      "82:\tlearn: 2287.8689064\ttotal: 120ms\tremaining: 1.32s\n",
      "83:\tlearn: 2281.9805653\ttotal: 122ms\tremaining: 1.33s\n",
      "84:\tlearn: 2277.2197809\ttotal: 123ms\tremaining: 1.32s\n",
      "85:\tlearn: 2270.8668052\ttotal: 124ms\tremaining: 1.32s\n",
      "86:\tlearn: 2264.8797543\ttotal: 125ms\tremaining: 1.32s\n",
      "87:\tlearn: 2259.4453663\ttotal: 127ms\tremaining: 1.31s\n",
      "88:\tlearn: 2255.2861066\ttotal: 128ms\tremaining: 1.31s\n",
      "89:\tlearn: 2248.0902202\ttotal: 129ms\tremaining: 1.3s\n",
      "90:\tlearn: 2244.1469376\ttotal: 130ms\tremaining: 1.3s\n",
      "91:\tlearn: 2240.3463841\ttotal: 131ms\tremaining: 1.3s\n",
      "92:\tlearn: 2232.8507251\ttotal: 133ms\tremaining: 1.29s\n",
      "93:\tlearn: 2229.1939234\ttotal: 134ms\tremaining: 1.29s\n",
      "94:\tlearn: 2225.7516030\ttotal: 135ms\tremaining: 1.29s\n",
      "95:\tlearn: 2221.3243301\ttotal: 137ms\tremaining: 1.29s\n",
      "96:\tlearn: 2217.1619393\ttotal: 138ms\tremaining: 1.28s\n",
      "97:\tlearn: 2211.2528123\ttotal: 139ms\tremaining: 1.28s\n",
      "98:\tlearn: 2206.9039704\ttotal: 140ms\tremaining: 1.28s\n",
      "99:\tlearn: 2201.0560346\ttotal: 142ms\tremaining: 1.27s\n",
      "100:\tlearn: 2197.6614641\ttotal: 143ms\tremaining: 1.27s\n",
      "101:\tlearn: 2193.7420919\ttotal: 144ms\tremaining: 1.27s\n",
      "102:\tlearn: 2188.2977670\ttotal: 145ms\tremaining: 1.26s\n",
      "103:\tlearn: 2184.2842659\ttotal: 146ms\tremaining: 1.26s\n",
      "104:\tlearn: 2179.9539209\ttotal: 148ms\tremaining: 1.26s\n",
      "105:\tlearn: 2176.6901704\ttotal: 149ms\tremaining: 1.25s\n",
      "106:\tlearn: 2174.0124012\ttotal: 150ms\tremaining: 1.25s\n",
      "107:\tlearn: 2168.1694237\ttotal: 151ms\tremaining: 1.25s\n",
      "108:\tlearn: 2163.6174035\ttotal: 153ms\tremaining: 1.25s\n",
      "109:\tlearn: 2161.8796733\ttotal: 154ms\tremaining: 1.25s\n",
      "110:\tlearn: 2159.2019510\ttotal: 156ms\tremaining: 1.25s\n",
      "111:\tlearn: 2154.6640911\ttotal: 157ms\tremaining: 1.24s\n",
      "112:\tlearn: 2151.0187052\ttotal: 158ms\tremaining: 1.24s\n",
      "113:\tlearn: 2145.9320902\ttotal: 159ms\tremaining: 1.24s\n",
      "114:\tlearn: 2141.7756340\ttotal: 161ms\tremaining: 1.24s\n",
      "115:\tlearn: 2137.2188127\ttotal: 162ms\tremaining: 1.24s\n",
      "116:\tlearn: 2133.7641953\ttotal: 163ms\tremaining: 1.23s\n",
      "117:\tlearn: 2131.3567398\ttotal: 165ms\tremaining: 1.24s\n",
      "118:\tlearn: 2129.0100201\ttotal: 167ms\tremaining: 1.23s\n",
      "119:\tlearn: 2124.2692268\ttotal: 168ms\tremaining: 1.23s\n",
      "120:\tlearn: 2122.5479888\ttotal: 169ms\tremaining: 1.23s\n",
      "121:\tlearn: 2117.8866779\ttotal: 171ms\tremaining: 1.23s\n",
      "122:\tlearn: 2114.4285644\ttotal: 172ms\tremaining: 1.23s\n",
      "123:\tlearn: 2112.1163392\ttotal: 173ms\tremaining: 1.22s\n",
      "124:\tlearn: 2110.6737097\ttotal: 174ms\tremaining: 1.22s\n",
      "125:\tlearn: 2108.5700782\ttotal: 176ms\tremaining: 1.22s\n",
      "126:\tlearn: 2102.8800849\ttotal: 178ms\tremaining: 1.22s\n",
      "127:\tlearn: 2100.4171138\ttotal: 179ms\tremaining: 1.22s\n",
      "128:\tlearn: 2098.8000229\ttotal: 181ms\tremaining: 1.22s\n",
      "129:\tlearn: 2096.0665871\ttotal: 183ms\tremaining: 1.22s\n",
      "130:\tlearn: 2093.0516737\ttotal: 184ms\tremaining: 1.22s\n",
      "131:\tlearn: 2089.9331553\ttotal: 187ms\tremaining: 1.23s\n",
      "132:\tlearn: 2086.1821205\ttotal: 189ms\tremaining: 1.23s\n",
      "133:\tlearn: 2083.7947993\ttotal: 190ms\tremaining: 1.23s\n",
      "134:\tlearn: 2080.1646267\ttotal: 191ms\tremaining: 1.23s\n",
      "135:\tlearn: 2078.3237497\ttotal: 193ms\tremaining: 1.23s\n",
      "136:\tlearn: 2073.4809220\ttotal: 194ms\tremaining: 1.22s\n",
      "137:\tlearn: 2071.3525737\ttotal: 195ms\tremaining: 1.22s\n",
      "138:\tlearn: 2067.7877232\ttotal: 197ms\tremaining: 1.22s\n",
      "139:\tlearn: 2065.5727337\ttotal: 199ms\tremaining: 1.22s\n",
      "140:\tlearn: 2061.7666559\ttotal: 201ms\tremaining: 1.22s\n",
      "141:\tlearn: 2058.9057847\ttotal: 203ms\tremaining: 1.22s\n",
      "142:\tlearn: 2054.2406389\ttotal: 204ms\tremaining: 1.22s\n",
      "143:\tlearn: 2048.6115408\ttotal: 205ms\tremaining: 1.22s\n",
      "144:\tlearn: 2045.6226199\ttotal: 206ms\tremaining: 1.22s\n",
      "145:\tlearn: 2043.8007192\ttotal: 208ms\tremaining: 1.22s\n",
      "146:\tlearn: 2041.5789490\ttotal: 209ms\tremaining: 1.21s\n",
      "147:\tlearn: 2039.1425015\ttotal: 210ms\tremaining: 1.21s\n",
      "148:\tlearn: 2033.7273746\ttotal: 211ms\tremaining: 1.21s\n",
      "149:\tlearn: 2031.1609032\ttotal: 212ms\tremaining: 1.2s\n",
      "150:\tlearn: 2025.7324052\ttotal: 214ms\tremaining: 1.2s\n",
      "151:\tlearn: 2022.0864918\ttotal: 215ms\tremaining: 1.2s\n",
      "152:\tlearn: 2020.4349323\ttotal: 216ms\tremaining: 1.2s\n",
      "153:\tlearn: 2018.6879296\ttotal: 217ms\tremaining: 1.19s\n",
      "154:\tlearn: 2014.8679746\ttotal: 219ms\tremaining: 1.19s\n",
      "155:\tlearn: 2013.6264521\ttotal: 220ms\tremaining: 1.19s\n",
      "156:\tlearn: 2008.9581339\ttotal: 221ms\tremaining: 1.19s\n",
      "157:\tlearn: 2006.1066772\ttotal: 223ms\tremaining: 1.19s\n",
      "158:\tlearn: 2003.0560228\ttotal: 225ms\tremaining: 1.19s\n",
      "159:\tlearn: 1999.8369281\ttotal: 226ms\tremaining: 1.19s\n",
      "160:\tlearn: 1998.0377584\ttotal: 228ms\tremaining: 1.19s\n",
      "161:\tlearn: 1995.8183526\ttotal: 229ms\tremaining: 1.18s\n",
      "162:\tlearn: 1994.3221258\ttotal: 230ms\tremaining: 1.18s\n",
      "163:\tlearn: 1992.5536936\ttotal: 231ms\tremaining: 1.18s\n",
      "164:\tlearn: 1988.0886100\ttotal: 232ms\tremaining: 1.18s\n",
      "165:\tlearn: 1986.6838899\ttotal: 234ms\tremaining: 1.17s\n",
      "166:\tlearn: 1983.6375758\ttotal: 235ms\tremaining: 1.17s\n",
      "167:\tlearn: 1981.0076760\ttotal: 236ms\tremaining: 1.17s\n",
      "168:\tlearn: 1979.3237526\ttotal: 238ms\tremaining: 1.17s\n",
      "169:\tlearn: 1977.5165404\ttotal: 239ms\tremaining: 1.17s\n",
      "170:\tlearn: 1975.9127005\ttotal: 240ms\tremaining: 1.17s\n",
      "171:\tlearn: 1972.7770399\ttotal: 242ms\tremaining: 1.17s\n",
      "172:\tlearn: 1970.7722451\ttotal: 243ms\tremaining: 1.16s\n",
      "173:\tlearn: 1967.8069075\ttotal: 245ms\tremaining: 1.16s\n",
      "174:\tlearn: 1965.2306808\ttotal: 246ms\tremaining: 1.16s\n",
      "175:\tlearn: 1962.9713152\ttotal: 247ms\tremaining: 1.16s\n",
      "176:\tlearn: 1961.4802725\ttotal: 249ms\tremaining: 1.16s\n",
      "177:\tlearn: 1959.4931957\ttotal: 250ms\tremaining: 1.16s\n",
      "178:\tlearn: 1956.8888724\ttotal: 252ms\tremaining: 1.15s\n",
      "179:\tlearn: 1953.6727110\ttotal: 253ms\tremaining: 1.15s\n",
      "180:\tlearn: 1950.5702779\ttotal: 254ms\tremaining: 1.15s\n",
      "181:\tlearn: 1947.3785390\ttotal: 255ms\tremaining: 1.15s\n",
      "182:\tlearn: 1945.8402738\ttotal: 256ms\tremaining: 1.14s\n",
      "183:\tlearn: 1943.9511564\ttotal: 258ms\tremaining: 1.14s\n",
      "184:\tlearn: 1940.8499093\ttotal: 259ms\tremaining: 1.14s\n",
      "185:\tlearn: 1936.4264721\ttotal: 260ms\tremaining: 1.14s\n",
      "186:\tlearn: 1934.8189782\ttotal: 261ms\tremaining: 1.14s\n",
      "187:\tlearn: 1933.1825632\ttotal: 262ms\tremaining: 1.13s\n",
      "188:\tlearn: 1931.2705541\ttotal: 264ms\tremaining: 1.13s\n",
      "189:\tlearn: 1928.6664668\ttotal: 265ms\tremaining: 1.13s\n",
      "190:\tlearn: 1926.9455752\ttotal: 266ms\tremaining: 1.13s\n",
      "191:\tlearn: 1924.9573426\ttotal: 267ms\tremaining: 1.13s\n",
      "192:\tlearn: 1922.8680202\ttotal: 269ms\tremaining: 1.12s\n",
      "193:\tlearn: 1921.5876962\ttotal: 270ms\tremaining: 1.12s\n",
      "194:\tlearn: 1920.0304786\ttotal: 271ms\tremaining: 1.12s\n",
      "195:\tlearn: 1918.1691520\ttotal: 272ms\tremaining: 1.12s\n",
      "196:\tlearn: 1917.0121224\ttotal: 273ms\tremaining: 1.11s\n",
      "197:\tlearn: 1914.6063043\ttotal: 275ms\tremaining: 1.11s\n",
      "198:\tlearn: 1912.2127382\ttotal: 276ms\tremaining: 1.11s\n",
      "199:\tlearn: 1910.1228796\ttotal: 278ms\tremaining: 1.11s\n",
      "200:\tlearn: 1909.0688654\ttotal: 279ms\tremaining: 1.11s\n",
      "201:\tlearn: 1906.1924877\ttotal: 281ms\tremaining: 1.11s\n",
      "202:\tlearn: 1904.2053349\ttotal: 282ms\tremaining: 1.11s\n",
      "203:\tlearn: 1902.7797655\ttotal: 283ms\tremaining: 1.1s\n",
      "204:\tlearn: 1901.6583833\ttotal: 285ms\tremaining: 1.1s\n",
      "205:\tlearn: 1899.5173929\ttotal: 286ms\tremaining: 1.1s\n",
      "206:\tlearn: 1898.4455962\ttotal: 287ms\tremaining: 1.1s\n",
      "207:\tlearn: 1896.8352452\ttotal: 289ms\tremaining: 1.1s\n",
      "208:\tlearn: 1895.1181633\ttotal: 290ms\tremaining: 1.1s\n",
      "209:\tlearn: 1891.4246431\ttotal: 291ms\tremaining: 1.09s\n",
      "210:\tlearn: 1890.2074388\ttotal: 292ms\tremaining: 1.09s\n",
      "211:\tlearn: 1888.5672839\ttotal: 293ms\tremaining: 1.09s\n",
      "212:\tlearn: 1886.8059885\ttotal: 294ms\tremaining: 1.09s\n",
      "213:\tlearn: 1884.6501302\ttotal: 296ms\tremaining: 1.08s\n",
      "214:\tlearn: 1883.2340388\ttotal: 297ms\tremaining: 1.08s\n",
      "215:\tlearn: 1881.7397609\ttotal: 298ms\tremaining: 1.08s\n",
      "216:\tlearn: 1880.2385397\ttotal: 299ms\tremaining: 1.08s\n",
      "217:\tlearn: 1878.4800969\ttotal: 300ms\tremaining: 1.08s\n",
      "218:\tlearn: 1875.6906408\ttotal: 302ms\tremaining: 1.08s\n",
      "219:\tlearn: 1871.6305112\ttotal: 303ms\tremaining: 1.07s\n",
      "220:\tlearn: 1869.2874819\ttotal: 304ms\tremaining: 1.07s\n",
      "221:\tlearn: 1866.9571807\ttotal: 305ms\tremaining: 1.07s\n",
      "222:\tlearn: 1864.6810743\ttotal: 306ms\tremaining: 1.07s\n",
      "223:\tlearn: 1862.7755537\ttotal: 308ms\tremaining: 1.06s\n",
      "224:\tlearn: 1860.9172102\ttotal: 309ms\tremaining: 1.06s\n",
      "225:\tlearn: 1859.6334328\ttotal: 310ms\tremaining: 1.06s\n",
      "226:\tlearn: 1858.2662921\ttotal: 311ms\tremaining: 1.06s\n",
      "227:\tlearn: 1856.9425029\ttotal: 312ms\tremaining: 1.06s\n",
      "228:\tlearn: 1854.5055771\ttotal: 314ms\tremaining: 1.06s\n",
      "229:\tlearn: 1853.2282576\ttotal: 315ms\tremaining: 1.05s\n",
      "230:\tlearn: 1851.0003480\ttotal: 317ms\tremaining: 1.05s\n",
      "231:\tlearn: 1850.1206516\ttotal: 318ms\tremaining: 1.05s\n",
      "232:\tlearn: 1848.8021669\ttotal: 319ms\tremaining: 1.05s\n",
      "233:\tlearn: 1846.2672331\ttotal: 320ms\tremaining: 1.05s\n",
      "234:\tlearn: 1844.2022906\ttotal: 322ms\tremaining: 1.05s\n",
      "235:\tlearn: 1843.2403298\ttotal: 323ms\tremaining: 1.04s\n",
      "236:\tlearn: 1842.5866092\ttotal: 324ms\tremaining: 1.04s\n",
      "237:\tlearn: 1841.3767639\ttotal: 325ms\tremaining: 1.04s\n",
      "238:\tlearn: 1840.3320507\ttotal: 326ms\tremaining: 1.04s\n",
      "239:\tlearn: 1837.4114549\ttotal: 328ms\tremaining: 1.04s\n",
      "240:\tlearn: 1835.3899780\ttotal: 330ms\tremaining: 1.04s\n",
      "241:\tlearn: 1833.3484339\ttotal: 331ms\tremaining: 1.04s\n",
      "242:\tlearn: 1831.2125306\ttotal: 333ms\tremaining: 1.04s\n",
      "243:\tlearn: 1829.2930279\ttotal: 334ms\tremaining: 1.03s\n",
      "244:\tlearn: 1827.9030546\ttotal: 335ms\tremaining: 1.03s\n",
      "245:\tlearn: 1827.2518118\ttotal: 336ms\tremaining: 1.03s\n",
      "246:\tlearn: 1824.2287567\ttotal: 337ms\tremaining: 1.03s\n",
      "247:\tlearn: 1821.9785789\ttotal: 338ms\tremaining: 1.03s\n",
      "248:\tlearn: 1821.2800803\ttotal: 340ms\tremaining: 1.02s\n",
      "249:\tlearn: 1818.4692608\ttotal: 342ms\tremaining: 1.02s\n",
      "250:\tlearn: 1817.5926517\ttotal: 343ms\tremaining: 1.02s\n",
      "251:\tlearn: 1814.4329709\ttotal: 344ms\tremaining: 1.02s\n",
      "252:\tlearn: 1812.2176756\ttotal: 346ms\tremaining: 1.02s\n",
      "253:\tlearn: 1812.0344389\ttotal: 348ms\tremaining: 1.02s\n",
      "254:\tlearn: 1808.7654462\ttotal: 349ms\tremaining: 1.02s\n",
      "255:\tlearn: 1808.2198463\ttotal: 350ms\tremaining: 1.02s\n",
      "256:\tlearn: 1805.8705377\ttotal: 351ms\tremaining: 1.01s\n",
      "257:\tlearn: 1805.2218893\ttotal: 352ms\tremaining: 1.01s\n",
      "258:\tlearn: 1803.4792671\ttotal: 354ms\tremaining: 1.01s\n",
      "259:\tlearn: 1800.9838860\ttotal: 355ms\tremaining: 1.01s\n",
      "260:\tlearn: 1799.4484744\ttotal: 356ms\tremaining: 1.01s\n",
      "261:\tlearn: 1798.2698215\ttotal: 357ms\tremaining: 1s\n",
      "262:\tlearn: 1796.5220026\ttotal: 358ms\tremaining: 1s\n",
      "263:\tlearn: 1795.6933259\ttotal: 359ms\tremaining: 1s\n",
      "264:\tlearn: 1794.7265034\ttotal: 361ms\tremaining: 1000ms\n",
      "265:\tlearn: 1792.5522762\ttotal: 362ms\tremaining: 998ms\n"
     ]
    },
    {
     "name": "stdout",
     "output_type": "stream",
     "text": [
      "266:\tlearn: 1790.0837726\ttotal: 364ms\tremaining: 999ms\n",
      "267:\tlearn: 1788.3423391\ttotal: 365ms\tremaining: 998ms\n",
      "268:\tlearn: 1787.9450029\ttotal: 366ms\tremaining: 996ms\n",
      "269:\tlearn: 1787.5004511\ttotal: 368ms\tremaining: 994ms\n",
      "270:\tlearn: 1785.1549417\ttotal: 369ms\tremaining: 992ms\n",
      "271:\tlearn: 1782.7931056\ttotal: 370ms\tremaining: 990ms\n",
      "272:\tlearn: 1782.4434627\ttotal: 371ms\tremaining: 989ms\n",
      "273:\tlearn: 1781.0130117\ttotal: 373ms\tremaining: 988ms\n",
      "274:\tlearn: 1778.4644018\ttotal: 374ms\tremaining: 986ms\n",
      "275:\tlearn: 1776.4151393\ttotal: 375ms\tremaining: 985ms\n",
      "276:\tlearn: 1774.1948860\ttotal: 377ms\tremaining: 984ms\n",
      "277:\tlearn: 1772.5959505\ttotal: 378ms\tremaining: 982ms\n",
      "278:\tlearn: 1771.0323600\ttotal: 380ms\tremaining: 981ms\n",
      "279:\tlearn: 1769.8676299\ttotal: 381ms\tremaining: 980ms\n",
      "280:\tlearn: 1767.5886512\ttotal: 382ms\tremaining: 979ms\n",
      "281:\tlearn: 1765.8280686\ttotal: 384ms\tremaining: 978ms\n",
      "282:\tlearn: 1764.2805417\ttotal: 386ms\tremaining: 978ms\n",
      "283:\tlearn: 1762.7382995\ttotal: 387ms\tremaining: 977ms\n",
      "284:\tlearn: 1761.5565265\ttotal: 389ms\tremaining: 975ms\n",
      "285:\tlearn: 1759.1505669\ttotal: 390ms\tremaining: 973ms\n",
      "286:\tlearn: 1757.5079860\ttotal: 391ms\tremaining: 971ms\n",
      "287:\tlearn: 1756.8034227\ttotal: 392ms\tremaining: 969ms\n",
      "288:\tlearn: 1754.9153691\ttotal: 393ms\tremaining: 968ms\n",
      "289:\tlearn: 1753.4083329\ttotal: 395ms\tremaining: 967ms\n",
      "290:\tlearn: 1751.3800942\ttotal: 396ms\tremaining: 965ms\n",
      "291:\tlearn: 1749.6756209\ttotal: 398ms\tremaining: 964ms\n",
      "292:\tlearn: 1747.5824277\ttotal: 399ms\tremaining: 962ms\n",
      "293:\tlearn: 1745.9544265\ttotal: 400ms\tremaining: 960ms\n",
      "294:\tlearn: 1744.3137913\ttotal: 401ms\tremaining: 959ms\n",
      "295:\tlearn: 1743.6144894\ttotal: 402ms\tremaining: 957ms\n",
      "296:\tlearn: 1742.4508764\ttotal: 403ms\tremaining: 955ms\n",
      "297:\tlearn: 1741.7358275\ttotal: 404ms\tremaining: 953ms\n",
      "298:\tlearn: 1739.8729581\ttotal: 406ms\tremaining: 951ms\n",
      "299:\tlearn: 1737.8592271\ttotal: 408ms\tremaining: 951ms\n",
      "300:\tlearn: 1735.8581157\ttotal: 409ms\tremaining: 949ms\n",
      "301:\tlearn: 1734.5163061\ttotal: 410ms\tremaining: 948ms\n",
      "302:\tlearn: 1732.7211485\ttotal: 411ms\tremaining: 947ms\n",
      "303:\tlearn: 1731.8591501\ttotal: 413ms\tremaining: 945ms\n",
      "304:\tlearn: 1730.6341837\ttotal: 415ms\tremaining: 945ms\n",
      "305:\tlearn: 1728.7685291\ttotal: 416ms\tremaining: 943ms\n",
      "306:\tlearn: 1727.2813164\ttotal: 417ms\tremaining: 941ms\n",
      "307:\tlearn: 1726.5714072\ttotal: 419ms\tremaining: 941ms\n",
      "308:\tlearn: 1726.1625857\ttotal: 420ms\tremaining: 938ms\n",
      "309:\tlearn: 1724.8723100\ttotal: 421ms\tremaining: 937ms\n",
      "310:\tlearn: 1723.6254004\ttotal: 423ms\tremaining: 936ms\n",
      "311:\tlearn: 1722.2255198\ttotal: 424ms\tremaining: 935ms\n",
      "312:\tlearn: 1720.7514433\ttotal: 425ms\tremaining: 933ms\n",
      "313:\tlearn: 1718.9573739\ttotal: 427ms\tremaining: 932ms\n",
      "314:\tlearn: 1718.3574329\ttotal: 428ms\tremaining: 930ms\n",
      "315:\tlearn: 1717.1033449\ttotal: 429ms\tremaining: 929ms\n",
      "316:\tlearn: 1714.9805350\ttotal: 430ms\tremaining: 927ms\n",
      "317:\tlearn: 1713.5400315\ttotal: 432ms\tremaining: 926ms\n",
      "318:\tlearn: 1712.0364907\ttotal: 433ms\tremaining: 924ms\n",
      "319:\tlearn: 1710.4051863\ttotal: 434ms\tremaining: 922ms\n",
      "320:\tlearn: 1708.6083535\ttotal: 435ms\tremaining: 920ms\n",
      "321:\tlearn: 1706.6033090\ttotal: 436ms\tremaining: 919ms\n",
      "322:\tlearn: 1706.0290495\ttotal: 438ms\tremaining: 917ms\n",
      "323:\tlearn: 1705.1273091\ttotal: 439ms\tremaining: 916ms\n",
      "324:\tlearn: 1703.9351787\ttotal: 440ms\tremaining: 914ms\n",
      "325:\tlearn: 1702.4373612\ttotal: 441ms\tremaining: 912ms\n",
      "326:\tlearn: 1700.3830846\ttotal: 442ms\tremaining: 911ms\n",
      "327:\tlearn: 1699.2164657\ttotal: 444ms\tremaining: 909ms\n",
      "328:\tlearn: 1697.5280786\ttotal: 446ms\tremaining: 909ms\n",
      "329:\tlearn: 1695.8970209\ttotal: 447ms\tremaining: 908ms\n",
      "330:\tlearn: 1694.3698646\ttotal: 448ms\tremaining: 906ms\n",
      "331:\tlearn: 1692.2388339\ttotal: 449ms\tremaining: 904ms\n",
      "332:\tlearn: 1691.6648379\ttotal: 451ms\tremaining: 903ms\n",
      "333:\tlearn: 1690.0458735\ttotal: 452ms\tremaining: 902ms\n",
      "334:\tlearn: 1688.1003220\ttotal: 454ms\tremaining: 901ms\n",
      "335:\tlearn: 1686.8637596\ttotal: 455ms\tremaining: 900ms\n",
      "336:\tlearn: 1685.2611433\ttotal: 456ms\tremaining: 898ms\n",
      "337:\tlearn: 1683.6929409\ttotal: 457ms\tremaining: 896ms\n",
      "338:\tlearn: 1683.5346145\ttotal: 459ms\tremaining: 894ms\n",
      "339:\tlearn: 1682.4063184\ttotal: 460ms\tremaining: 894ms\n",
      "340:\tlearn: 1681.1768649\ttotal: 462ms\tremaining: 892ms\n",
      "341:\tlearn: 1680.3850154\ttotal: 463ms\tremaining: 890ms\n",
      "342:\tlearn: 1679.7474619\ttotal: 466ms\tremaining: 892ms\n",
      "343:\tlearn: 1678.8801469\ttotal: 467ms\tremaining: 891ms\n",
      "344:\tlearn: 1678.1995632\ttotal: 468ms\tremaining: 889ms\n",
      "345:\tlearn: 1676.4498183\ttotal: 470ms\tremaining: 888ms\n",
      "346:\tlearn: 1674.9433116\ttotal: 471ms\tremaining: 886ms\n",
      "347:\tlearn: 1674.2970140\ttotal: 472ms\tremaining: 884ms\n",
      "348:\tlearn: 1672.9935626\ttotal: 473ms\tremaining: 883ms\n",
      "349:\tlearn: 1671.6777733\ttotal: 474ms\tremaining: 881ms\n",
      "350:\tlearn: 1670.8492036\ttotal: 475ms\tremaining: 879ms\n",
      "351:\tlearn: 1669.8702729\ttotal: 477ms\tremaining: 877ms\n",
      "352:\tlearn: 1668.6710564\ttotal: 478ms\tremaining: 876ms\n",
      "353:\tlearn: 1667.1841136\ttotal: 479ms\tremaining: 874ms\n",
      "354:\tlearn: 1665.7743258\ttotal: 480ms\tremaining: 872ms\n",
      "355:\tlearn: 1664.5081444\ttotal: 481ms\tremaining: 871ms\n",
      "356:\tlearn: 1663.3974149\ttotal: 483ms\tremaining: 869ms\n",
      "357:\tlearn: 1662.1048244\ttotal: 484ms\tremaining: 867ms\n",
      "358:\tlearn: 1661.4226151\ttotal: 485ms\tremaining: 866ms\n",
      "359:\tlearn: 1659.6365539\ttotal: 486ms\tremaining: 864ms\n",
      "360:\tlearn: 1658.4298395\ttotal: 487ms\tremaining: 863ms\n",
      "361:\tlearn: 1657.7037510\ttotal: 489ms\tremaining: 861ms\n",
      "362:\tlearn: 1657.1497286\ttotal: 490ms\tremaining: 860ms\n",
      "363:\tlearn: 1655.7135800\ttotal: 491ms\tremaining: 858ms\n",
      "364:\tlearn: 1653.9235362\ttotal: 492ms\tremaining: 857ms\n",
      "365:\tlearn: 1653.1751528\ttotal: 494ms\tremaining: 855ms\n",
      "366:\tlearn: 1651.7987595\ttotal: 495ms\tremaining: 854ms\n",
      "367:\tlearn: 1649.8313210\ttotal: 496ms\tremaining: 852ms\n",
      "368:\tlearn: 1648.3843559\ttotal: 497ms\tremaining: 851ms\n",
      "369:\tlearn: 1647.3513951\ttotal: 499ms\tremaining: 849ms\n",
      "370:\tlearn: 1646.4098144\ttotal: 500ms\tremaining: 848ms\n",
      "371:\tlearn: 1645.1454840\ttotal: 501ms\tremaining: 846ms\n",
      "372:\tlearn: 1642.9720769\ttotal: 502ms\tremaining: 845ms\n",
      "373:\tlearn: 1642.7303377\ttotal: 504ms\tremaining: 843ms\n",
      "374:\tlearn: 1641.0340455\ttotal: 505ms\tremaining: 842ms\n",
      "375:\tlearn: 1639.2580040\ttotal: 506ms\tremaining: 840ms\n",
      "376:\tlearn: 1637.9575771\ttotal: 508ms\tremaining: 839ms\n",
      "377:\tlearn: 1637.1766690\ttotal: 509ms\tremaining: 837ms\n",
      "378:\tlearn: 1636.2441114\ttotal: 510ms\tremaining: 836ms\n",
      "379:\tlearn: 1634.7969183\ttotal: 511ms\tremaining: 834ms\n",
      "380:\tlearn: 1633.8929962\ttotal: 513ms\tremaining: 833ms\n",
      "381:\tlearn: 1632.8251519\ttotal: 514ms\tremaining: 831ms\n",
      "382:\tlearn: 1631.5569680\ttotal: 515ms\tremaining: 829ms\n",
      "383:\tlearn: 1630.3335402\ttotal: 516ms\tremaining: 828ms\n",
      "384:\tlearn: 1629.3546548\ttotal: 518ms\tremaining: 827ms\n",
      "385:\tlearn: 1628.7232221\ttotal: 519ms\tremaining: 825ms\n",
      "386:\tlearn: 1627.7645046\ttotal: 520ms\tremaining: 824ms\n",
      "387:\tlearn: 1626.6153358\ttotal: 521ms\tremaining: 822ms\n",
      "388:\tlearn: 1625.0764049\ttotal: 523ms\tremaining: 821ms\n",
      "389:\tlearn: 1624.1225747\ttotal: 524ms\tremaining: 819ms\n",
      "390:\tlearn: 1622.5777068\ttotal: 525ms\tremaining: 818ms\n",
      "391:\tlearn: 1621.0897215\ttotal: 527ms\tremaining: 817ms\n",
      "392:\tlearn: 1621.0537742\ttotal: 528ms\tremaining: 816ms\n",
      "393:\tlearn: 1619.8131229\ttotal: 529ms\tremaining: 814ms\n",
      "394:\tlearn: 1618.5480735\ttotal: 531ms\tremaining: 813ms\n",
      "395:\tlearn: 1617.6113330\ttotal: 532ms\tremaining: 811ms\n",
      "396:\tlearn: 1616.5694202\ttotal: 533ms\tremaining: 809ms\n",
      "397:\tlearn: 1616.0565659\ttotal: 534ms\tremaining: 808ms\n",
      "398:\tlearn: 1615.6589332\ttotal: 535ms\tremaining: 806ms\n",
      "399:\tlearn: 1614.2040112\ttotal: 536ms\tremaining: 805ms\n",
      "400:\tlearn: 1613.1103324\ttotal: 538ms\tremaining: 803ms\n",
      "401:\tlearn: 1611.9718535\ttotal: 539ms\tremaining: 802ms\n",
      "402:\tlearn: 1610.5771392\ttotal: 540ms\tremaining: 800ms\n",
      "403:\tlearn: 1609.5177104\ttotal: 541ms\tremaining: 799ms\n",
      "404:\tlearn: 1608.5590982\ttotal: 542ms\tremaining: 797ms\n",
      "405:\tlearn: 1607.3433612\ttotal: 544ms\tremaining: 795ms\n",
      "406:\tlearn: 1606.7645223\ttotal: 545ms\tremaining: 794ms\n",
      "407:\tlearn: 1605.5008007\ttotal: 546ms\tremaining: 792ms\n",
      "408:\tlearn: 1604.8049714\ttotal: 547ms\tremaining: 791ms\n",
      "409:\tlearn: 1603.7034833\ttotal: 548ms\tremaining: 789ms\n",
      "410:\tlearn: 1602.2909961\ttotal: 550ms\tremaining: 788ms\n",
      "411:\tlearn: 1601.2682042\ttotal: 551ms\tremaining: 786ms\n",
      "412:\tlearn: 1599.7567785\ttotal: 552ms\tremaining: 785ms\n",
      "413:\tlearn: 1599.2803005\ttotal: 553ms\tremaining: 783ms\n",
      "414:\tlearn: 1598.5465777\ttotal: 555ms\tremaining: 782ms\n",
      "415:\tlearn: 1598.2718824\ttotal: 556ms\tremaining: 780ms\n",
      "416:\tlearn: 1596.9375968\ttotal: 558ms\tremaining: 780ms\n"
     ]
    },
    {
     "name": "stdout",
     "output_type": "stream",
     "text": [
      "417:\tlearn: 1595.1346647\ttotal: 560ms\tremaining: 779ms\n",
      "418:\tlearn: 1593.6587957\ttotal: 561ms\tremaining: 778ms\n",
      "419:\tlearn: 1591.6261322\ttotal: 562ms\tremaining: 776ms\n",
      "420:\tlearn: 1590.5097074\ttotal: 564ms\tremaining: 775ms\n",
      "421:\tlearn: 1589.7223629\ttotal: 565ms\tremaining: 774ms\n",
      "422:\tlearn: 1589.2530322\ttotal: 566ms\tremaining: 772ms\n",
      "423:\tlearn: 1588.2380396\ttotal: 568ms\tremaining: 771ms\n",
      "424:\tlearn: 1587.1051478\ttotal: 569ms\tremaining: 770ms\n",
      "425:\tlearn: 1586.9811753\ttotal: 570ms\tremaining: 769ms\n",
      "426:\tlearn: 1585.5394977\ttotal: 573ms\tremaining: 769ms\n",
      "427:\tlearn: 1585.4446203\ttotal: 574ms\tremaining: 767ms\n",
      "428:\tlearn: 1584.7332567\ttotal: 575ms\tremaining: 766ms\n",
      "429:\tlearn: 1583.4165900\ttotal: 576ms\tremaining: 764ms\n",
      "430:\tlearn: 1582.7431644\ttotal: 578ms\tremaining: 763ms\n",
      "431:\tlearn: 1581.6793406\ttotal: 579ms\tremaining: 761ms\n",
      "432:\tlearn: 1581.5386480\ttotal: 580ms\tremaining: 760ms\n",
      "433:\tlearn: 1580.3225657\ttotal: 582ms\tremaining: 759ms\n",
      "434:\tlearn: 1579.2410854\ttotal: 584ms\tremaining: 759ms\n",
      "435:\tlearn: 1578.5005553\ttotal: 585ms\tremaining: 757ms\n",
      "436:\tlearn: 1576.8110017\ttotal: 587ms\tremaining: 756ms\n",
      "437:\tlearn: 1575.6197876\ttotal: 588ms\tremaining: 754ms\n",
      "438:\tlearn: 1573.8323425\ttotal: 589ms\tremaining: 753ms\n",
      "439:\tlearn: 1572.5799777\ttotal: 591ms\tremaining: 752ms\n",
      "440:\tlearn: 1571.8483949\ttotal: 592ms\tremaining: 750ms\n",
      "441:\tlearn: 1571.7399776\ttotal: 594ms\tremaining: 750ms\n",
      "442:\tlearn: 1570.5444250\ttotal: 595ms\tremaining: 748ms\n",
      "443:\tlearn: 1569.7549993\ttotal: 596ms\tremaining: 746ms\n",
      "444:\tlearn: 1568.0285902\ttotal: 597ms\tremaining: 745ms\n",
      "445:\tlearn: 1567.7940863\ttotal: 599ms\tremaining: 744ms\n",
      "446:\tlearn: 1566.7583855\ttotal: 600ms\tremaining: 742ms\n",
      "447:\tlearn: 1565.2467606\ttotal: 601ms\tremaining: 741ms\n",
      "448:\tlearn: 1565.2015485\ttotal: 603ms\tremaining: 740ms\n",
      "449:\tlearn: 1564.0303813\ttotal: 604ms\tremaining: 738ms\n",
      "450:\tlearn: 1563.1725678\ttotal: 605ms\tremaining: 737ms\n",
      "451:\tlearn: 1562.2363848\ttotal: 607ms\tremaining: 735ms\n",
      "452:\tlearn: 1560.8509962\ttotal: 608ms\tremaining: 734ms\n",
      "453:\tlearn: 1559.9602732\ttotal: 609ms\tremaining: 732ms\n",
      "454:\tlearn: 1558.9139749\ttotal: 610ms\tremaining: 731ms\n",
      "455:\tlearn: 1557.6666308\ttotal: 611ms\tremaining: 729ms\n",
      "456:\tlearn: 1556.5488994\ttotal: 612ms\tremaining: 728ms\n",
      "457:\tlearn: 1555.5278348\ttotal: 613ms\tremaining: 726ms\n",
      "458:\tlearn: 1554.7145610\ttotal: 615ms\tremaining: 725ms\n",
      "459:\tlearn: 1553.7744963\ttotal: 616ms\tremaining: 724ms\n",
      "460:\tlearn: 1552.6326406\ttotal: 618ms\tremaining: 722ms\n",
      "461:\tlearn: 1552.2034719\ttotal: 619ms\tremaining: 721ms\n",
      "462:\tlearn: 1551.7484035\ttotal: 620ms\tremaining: 719ms\n",
      "463:\tlearn: 1551.2990009\ttotal: 621ms\tremaining: 718ms\n",
      "464:\tlearn: 1550.3377376\ttotal: 623ms\tremaining: 716ms\n",
      "465:\tlearn: 1549.3980651\ttotal: 624ms\tremaining: 715ms\n",
      "466:\tlearn: 1548.3946033\ttotal: 625ms\tremaining: 713ms\n",
      "467:\tlearn: 1546.9739459\ttotal: 626ms\tremaining: 712ms\n",
      "468:\tlearn: 1546.2271011\ttotal: 627ms\tremaining: 710ms\n",
      "469:\tlearn: 1545.3348789\ttotal: 629ms\tremaining: 709ms\n",
      "470:\tlearn: 1544.5885121\ttotal: 630ms\tremaining: 707ms\n",
      "471:\tlearn: 1544.1221414\ttotal: 631ms\tremaining: 706ms\n",
      "472:\tlearn: 1543.3345299\ttotal: 633ms\tremaining: 705ms\n",
      "473:\tlearn: 1542.2775750\ttotal: 634ms\tremaining: 704ms\n",
      "474:\tlearn: 1541.2549983\ttotal: 635ms\tremaining: 702ms\n",
      "475:\tlearn: 1539.9298487\ttotal: 636ms\tremaining: 701ms\n",
      "476:\tlearn: 1539.4720743\ttotal: 638ms\tremaining: 700ms\n",
      "477:\tlearn: 1538.3117015\ttotal: 639ms\tremaining: 698ms\n",
      "478:\tlearn: 1537.8642421\ttotal: 641ms\tremaining: 697ms\n",
      "479:\tlearn: 1536.7199397\ttotal: 642ms\tremaining: 695ms\n",
      "480:\tlearn: 1536.3679393\ttotal: 643ms\tremaining: 694ms\n",
      "481:\tlearn: 1534.9668877\ttotal: 644ms\tremaining: 692ms\n",
      "482:\tlearn: 1533.6883403\ttotal: 646ms\tremaining: 691ms\n",
      "483:\tlearn: 1532.7453799\ttotal: 647ms\tremaining: 690ms\n",
      "484:\tlearn: 1531.3322368\ttotal: 648ms\tremaining: 688ms\n",
      "485:\tlearn: 1530.9198060\ttotal: 649ms\tremaining: 687ms\n",
      "486:\tlearn: 1530.5943971\ttotal: 651ms\tremaining: 686ms\n",
      "487:\tlearn: 1529.9760380\ttotal: 652ms\tremaining: 684ms\n",
      "488:\tlearn: 1528.6531798\ttotal: 653ms\tremaining: 683ms\n",
      "489:\tlearn: 1527.7143552\ttotal: 654ms\tremaining: 681ms\n",
      "490:\tlearn: 1527.1311460\ttotal: 656ms\tremaining: 680ms\n",
      "491:\tlearn: 1526.2887633\ttotal: 657ms\tremaining: 678ms\n",
      "492:\tlearn: 1525.1796687\ttotal: 658ms\tremaining: 677ms\n",
      "493:\tlearn: 1524.9386791\ttotal: 659ms\tremaining: 675ms\n",
      "494:\tlearn: 1524.2752025\ttotal: 661ms\tremaining: 674ms\n",
      "495:\tlearn: 1523.6748889\ttotal: 662ms\tremaining: 673ms\n",
      "496:\tlearn: 1522.2253395\ttotal: 663ms\tremaining: 671ms\n",
      "497:\tlearn: 1521.3628233\ttotal: 664ms\tremaining: 670ms\n",
      "498:\tlearn: 1520.6295641\ttotal: 666ms\tremaining: 668ms\n",
      "499:\tlearn: 1519.2945414\ttotal: 667ms\tremaining: 667ms\n",
      "500:\tlearn: 1518.2561309\ttotal: 668ms\tremaining: 665ms\n",
      "501:\tlearn: 1517.4673612\ttotal: 670ms\tremaining: 664ms\n",
      "502:\tlearn: 1516.3603219\ttotal: 671ms\tremaining: 663ms\n",
      "503:\tlearn: 1515.7488787\ttotal: 672ms\tremaining: 661ms\n",
      "504:\tlearn: 1515.0287323\ttotal: 674ms\tremaining: 661ms\n",
      "505:\tlearn: 1514.0631894\ttotal: 676ms\tremaining: 660ms\n",
      "506:\tlearn: 1513.0670786\ttotal: 677ms\tremaining: 658ms\n",
      "507:\tlearn: 1512.3374422\ttotal: 678ms\tremaining: 657ms\n",
      "508:\tlearn: 1511.2437041\ttotal: 680ms\tremaining: 656ms\n",
      "509:\tlearn: 1510.5321781\ttotal: 681ms\tremaining: 654ms\n",
      "510:\tlearn: 1509.4968437\ttotal: 682ms\tremaining: 653ms\n",
      "511:\tlearn: 1509.0435846\ttotal: 683ms\tremaining: 651ms\n",
      "512:\tlearn: 1508.1086550\ttotal: 685ms\tremaining: 650ms\n",
      "513:\tlearn: 1507.6191934\ttotal: 686ms\tremaining: 648ms\n",
      "514:\tlearn: 1506.8344100\ttotal: 687ms\tremaining: 647ms\n",
      "515:\tlearn: 1506.0333211\ttotal: 688ms\tremaining: 645ms\n",
      "516:\tlearn: 1504.6268424\ttotal: 689ms\tremaining: 644ms\n",
      "517:\tlearn: 1503.7995052\ttotal: 691ms\tremaining: 643ms\n",
      "518:\tlearn: 1503.0906403\ttotal: 692ms\tremaining: 641ms\n",
      "519:\tlearn: 1502.4096742\ttotal: 693ms\tremaining: 640ms\n",
      "520:\tlearn: 1501.8385331\ttotal: 694ms\tremaining: 638ms\n",
      "521:\tlearn: 1501.0177927\ttotal: 695ms\tremaining: 637ms\n",
      "522:\tlearn: 1499.8787780\ttotal: 696ms\tremaining: 635ms\n",
      "523:\tlearn: 1499.0712325\ttotal: 698ms\tremaining: 634ms\n",
      "524:\tlearn: 1498.3331458\ttotal: 699ms\tremaining: 632ms\n",
      "525:\tlearn: 1497.5894427\ttotal: 700ms\tremaining: 631ms\n",
      "526:\tlearn: 1496.2484989\ttotal: 701ms\tremaining: 630ms\n",
      "527:\tlearn: 1495.5226677\ttotal: 703ms\tremaining: 628ms\n",
      "528:\tlearn: 1494.7394159\ttotal: 705ms\tremaining: 627ms\n",
      "529:\tlearn: 1493.7418195\ttotal: 707ms\tremaining: 627ms\n",
      "530:\tlearn: 1493.1650916\ttotal: 708ms\tremaining: 625ms\n",
      "531:\tlearn: 1492.2267866\ttotal: 709ms\tremaining: 624ms\n",
      "532:\tlearn: 1491.3232727\ttotal: 710ms\tremaining: 622ms\n",
      "533:\tlearn: 1490.0985467\ttotal: 712ms\tremaining: 621ms\n",
      "534:\tlearn: 1489.2902661\ttotal: 713ms\tremaining: 620ms\n",
      "535:\tlearn: 1488.1613961\ttotal: 714ms\tremaining: 618ms\n",
      "536:\tlearn: 1487.0711601\ttotal: 715ms\tremaining: 617ms\n",
      "537:\tlearn: 1486.3805088\ttotal: 717ms\tremaining: 616ms\n",
      "538:\tlearn: 1485.4289744\ttotal: 718ms\tremaining: 614ms\n",
      "539:\tlearn: 1485.3928510\ttotal: 719ms\tremaining: 613ms\n",
      "540:\tlearn: 1484.4259163\ttotal: 720ms\tremaining: 611ms\n",
      "541:\tlearn: 1483.6618378\ttotal: 722ms\tremaining: 610ms\n",
      "542:\tlearn: 1482.8398300\ttotal: 724ms\tremaining: 609ms\n",
      "543:\tlearn: 1481.5753175\ttotal: 725ms\tremaining: 608ms\n",
      "544:\tlearn: 1481.1962717\ttotal: 727ms\tremaining: 607ms\n",
      "545:\tlearn: 1480.1030809\ttotal: 728ms\tremaining: 605ms\n",
      "546:\tlearn: 1479.4938625\ttotal: 729ms\tremaining: 604ms\n",
      "547:\tlearn: 1478.6260116\ttotal: 730ms\tremaining: 602ms\n",
      "548:\tlearn: 1478.2816581\ttotal: 731ms\tremaining: 601ms\n",
      "549:\tlearn: 1477.5182710\ttotal: 733ms\tremaining: 599ms\n",
      "550:\tlearn: 1476.4910632\ttotal: 734ms\tremaining: 598ms\n",
      "551:\tlearn: 1475.8758642\ttotal: 735ms\tremaining: 597ms\n",
      "552:\tlearn: 1474.8365435\ttotal: 737ms\tremaining: 596ms\n",
      "553:\tlearn: 1474.5444387\ttotal: 738ms\tremaining: 594ms\n",
      "554:\tlearn: 1473.9259215\ttotal: 739ms\tremaining: 593ms\n",
      "555:\tlearn: 1473.1141277\ttotal: 740ms\tremaining: 591ms\n",
      "556:\tlearn: 1472.8160790\ttotal: 741ms\tremaining: 590ms\n",
      "557:\tlearn: 1472.1894691\ttotal: 743ms\tremaining: 588ms\n",
      "558:\tlearn: 1470.8575615\ttotal: 744ms\tremaining: 587ms\n",
      "559:\tlearn: 1470.1312895\ttotal: 745ms\tremaining: 586ms\n",
      "560:\tlearn: 1469.7142130\ttotal: 747ms\tremaining: 585ms\n",
      "561:\tlearn: 1468.5778197\ttotal: 749ms\tremaining: 584ms\n",
      "562:\tlearn: 1467.7031484\ttotal: 752ms\tremaining: 583ms\n",
      "563:\tlearn: 1467.0311028\ttotal: 753ms\tremaining: 582ms\n",
      "564:\tlearn: 1466.1712761\ttotal: 755ms\tremaining: 581ms\n",
      "565:\tlearn: 1465.6074516\ttotal: 756ms\tremaining: 580ms\n",
      "566:\tlearn: 1465.4297005\ttotal: 759ms\tremaining: 580ms\n",
      "567:\tlearn: 1464.5758844\ttotal: 760ms\tremaining: 578ms\n",
      "568:\tlearn: 1464.0936602\ttotal: 763ms\tremaining: 578ms\n",
      "569:\tlearn: 1463.7078423\ttotal: 764ms\tremaining: 577ms\n",
      "570:\tlearn: 1462.7929203\ttotal: 767ms\tremaining: 576ms\n",
      "571:\tlearn: 1462.7312510\ttotal: 768ms\tremaining: 575ms\n",
      "572:\tlearn: 1461.5532101\ttotal: 770ms\tremaining: 574ms\n",
      "573:\tlearn: 1460.7223900\ttotal: 775ms\tremaining: 575ms\n",
      "574:\tlearn: 1459.6309391\ttotal: 776ms\tremaining: 573ms\n",
      "575:\tlearn: 1458.5659347\ttotal: 777ms\tremaining: 572ms\n",
      "576:\tlearn: 1457.7969218\ttotal: 778ms\tremaining: 571ms\n",
      "577:\tlearn: 1457.2614365\ttotal: 779ms\tremaining: 569ms\n",
      "578:\tlearn: 1456.2992059\ttotal: 781ms\tremaining: 568ms\n",
      "579:\tlearn: 1455.3169365\ttotal: 782ms\tremaining: 566ms\n",
      "580:\tlearn: 1454.5630750\ttotal: 784ms\tremaining: 565ms\n",
      "581:\tlearn: 1454.1863651\ttotal: 786ms\tremaining: 564ms\n",
      "582:\tlearn: 1453.3208122\ttotal: 787ms\tremaining: 563ms\n",
      "583:\tlearn: 1452.7274225\ttotal: 789ms\tremaining: 562ms\n",
      "584:\tlearn: 1451.5315706\ttotal: 790ms\tremaining: 560ms\n",
      "585:\tlearn: 1450.9140745\ttotal: 791ms\tremaining: 559ms\n",
      "586:\tlearn: 1449.8810598\ttotal: 792ms\tremaining: 557ms\n",
      "587:\tlearn: 1449.3063187\ttotal: 793ms\tremaining: 556ms\n",
      "588:\tlearn: 1448.2168046\ttotal: 795ms\tremaining: 555ms\n",
      "589:\tlearn: 1447.7847564\ttotal: 796ms\tremaining: 553ms\n",
      "590:\tlearn: 1447.0718964\ttotal: 797ms\tremaining: 552ms\n",
      "591:\tlearn: 1446.3063012\ttotal: 798ms\tremaining: 550ms\n",
      "592:\tlearn: 1445.5925503\ttotal: 799ms\tremaining: 549ms\n",
      "593:\tlearn: 1444.9632276\ttotal: 801ms\tremaining: 547ms\n",
      "594:\tlearn: 1444.6561282\ttotal: 802ms\tremaining: 546ms\n",
      "595:\tlearn: 1443.8636024\ttotal: 803ms\tremaining: 544ms\n",
      "596:\tlearn: 1443.0618121\ttotal: 804ms\tremaining: 543ms\n",
      "597:\tlearn: 1442.2582434\ttotal: 806ms\tremaining: 542ms\n",
      "598:\tlearn: 1441.3936245\ttotal: 807ms\tremaining: 540ms\n",
      "599:\tlearn: 1440.9789826\ttotal: 808ms\tremaining: 539ms\n",
      "600:\tlearn: 1440.3877794\ttotal: 809ms\tremaining: 537ms\n",
      "601:\tlearn: 1439.4559067\ttotal: 810ms\tremaining: 536ms\n",
      "602:\tlearn: 1438.0182919\ttotal: 811ms\tremaining: 534ms\n",
      "603:\tlearn: 1437.2732758\ttotal: 812ms\tremaining: 533ms\n",
      "604:\tlearn: 1436.1837720\ttotal: 814ms\tremaining: 531ms\n",
      "605:\tlearn: 1435.4681866\ttotal: 815ms\tremaining: 530ms\n",
      "606:\tlearn: 1434.5865095\ttotal: 816ms\tremaining: 529ms\n",
      "607:\tlearn: 1433.7912027\ttotal: 818ms\tremaining: 527ms\n",
      "608:\tlearn: 1433.2990788\ttotal: 819ms\tremaining: 526ms\n",
      "609:\tlearn: 1432.2347657\ttotal: 820ms\tremaining: 524ms\n",
      "610:\tlearn: 1431.5109872\ttotal: 822ms\tremaining: 523ms\n",
      "611:\tlearn: 1430.1850727\ttotal: 824ms\tremaining: 522ms\n",
      "612:\tlearn: 1429.9620238\ttotal: 825ms\tremaining: 521ms\n",
      "613:\tlearn: 1428.7816657\ttotal: 826ms\tremaining: 519ms\n",
      "614:\tlearn: 1428.1818203\ttotal: 828ms\tremaining: 518ms\n",
      "615:\tlearn: 1427.6772681\ttotal: 829ms\tremaining: 517ms\n",
      "616:\tlearn: 1426.4763375\ttotal: 831ms\tremaining: 516ms\n",
      "617:\tlearn: 1425.6487579\ttotal: 832ms\tremaining: 514ms\n",
      "618:\tlearn: 1424.8008740\ttotal: 833ms\tremaining: 513ms\n",
      "619:\tlearn: 1423.8869519\ttotal: 835ms\tremaining: 512ms\n",
      "620:\tlearn: 1423.1434737\ttotal: 840ms\tremaining: 513ms\n",
      "621:\tlearn: 1421.8721981\ttotal: 842ms\tremaining: 512ms\n",
      "622:\tlearn: 1421.2412972\ttotal: 844ms\tremaining: 511ms\n",
      "623:\tlearn: 1420.0293916\ttotal: 846ms\tremaining: 510ms\n",
      "624:\tlearn: 1419.4877525\ttotal: 849ms\tremaining: 509ms\n",
      "625:\tlearn: 1419.2104056\ttotal: 850ms\tremaining: 508ms\n",
      "626:\tlearn: 1418.4489222\ttotal: 851ms\tremaining: 506ms\n",
      "627:\tlearn: 1417.8657821\ttotal: 854ms\tremaining: 506ms\n",
      "628:\tlearn: 1417.8354120\ttotal: 855ms\tremaining: 504ms\n",
      "629:\tlearn: 1416.9265065\ttotal: 857ms\tremaining: 503ms\n",
      "630:\tlearn: 1416.3582716\ttotal: 858ms\tremaining: 502ms\n",
      "631:\tlearn: 1415.3740635\ttotal: 859ms\tremaining: 500ms\n",
      "632:\tlearn: 1414.6698691\ttotal: 864ms\tremaining: 501ms\n",
      "633:\tlearn: 1413.8438790\ttotal: 865ms\tremaining: 500ms\n",
      "634:\tlearn: 1413.8294373\ttotal: 866ms\tremaining: 498ms\n",
      "635:\tlearn: 1412.5597403\ttotal: 868ms\tremaining: 497ms\n",
      "636:\tlearn: 1411.6972127\ttotal: 869ms\tremaining: 495ms\n",
      "637:\tlearn: 1410.5545941\ttotal: 871ms\tremaining: 494ms\n",
      "638:\tlearn: 1409.7246777\ttotal: 872ms\tremaining: 493ms\n",
      "639:\tlearn: 1408.7722504\ttotal: 873ms\tremaining: 491ms\n",
      "640:\tlearn: 1407.7921404\ttotal: 874ms\tremaining: 490ms\n",
      "641:\tlearn: 1407.5197107\ttotal: 876ms\tremaining: 488ms\n",
      "642:\tlearn: 1406.5369762\ttotal: 877ms\tremaining: 487ms\n",
      "643:\tlearn: 1405.5475373\ttotal: 879ms\tremaining: 486ms\n",
      "644:\tlearn: 1404.6938909\ttotal: 881ms\tremaining: 485ms\n",
      "645:\tlearn: 1403.5083080\ttotal: 882ms\tremaining: 484ms\n",
      "646:\tlearn: 1403.4500272\ttotal: 885ms\tremaining: 483ms\n",
      "647:\tlearn: 1403.0376167\ttotal: 886ms\tremaining: 481ms\n",
      "648:\tlearn: 1401.9673805\ttotal: 887ms\tremaining: 480ms\n",
      "649:\tlearn: 1401.2164540\ttotal: 889ms\tremaining: 478ms\n",
      "650:\tlearn: 1400.2059688\ttotal: 890ms\tremaining: 477ms\n",
      "651:\tlearn: 1400.0195307\ttotal: 891ms\tremaining: 476ms\n",
      "652:\tlearn: 1399.3945949\ttotal: 893ms\tremaining: 475ms\n",
      "653:\tlearn: 1398.2656626\ttotal: 894ms\tremaining: 473ms\n",
      "654:\tlearn: 1397.2676512\ttotal: 896ms\tremaining: 472ms\n",
      "655:\tlearn: 1396.5783186\ttotal: 897ms\tremaining: 470ms\n",
      "656:\tlearn: 1396.0755389\ttotal: 898ms\tremaining: 469ms\n",
      "657:\tlearn: 1395.6601845\ttotal: 900ms\tremaining: 468ms\n",
      "658:\tlearn: 1394.7742428\ttotal: 901ms\tremaining: 466ms\n",
      "659:\tlearn: 1394.0259238\ttotal: 903ms\tremaining: 465ms\n",
      "660:\tlearn: 1392.9366159\ttotal: 905ms\tremaining: 464ms\n",
      "661:\tlearn: 1391.7328440\ttotal: 906ms\tremaining: 463ms\n",
      "662:\tlearn: 1391.1913517\ttotal: 907ms\tremaining: 461ms\n",
      "663:\tlearn: 1390.6569328\ttotal: 909ms\tremaining: 460ms\n",
      "664:\tlearn: 1389.7232164\ttotal: 910ms\tremaining: 458ms\n",
      "665:\tlearn: 1388.9089576\ttotal: 911ms\tremaining: 457ms\n",
      "666:\tlearn: 1388.2020514\ttotal: 912ms\tremaining: 456ms\n",
      "667:\tlearn: 1387.5894227\ttotal: 917ms\tremaining: 456ms\n",
      "668:\tlearn: 1387.1645042\ttotal: 918ms\tremaining: 454ms\n",
      "669:\tlearn: 1386.3112813\ttotal: 920ms\tremaining: 453ms\n",
      "670:\tlearn: 1385.6246474\ttotal: 921ms\tremaining: 451ms\n",
      "671:\tlearn: 1384.9602065\ttotal: 922ms\tremaining: 450ms\n",
      "672:\tlearn: 1384.4782789\ttotal: 924ms\tremaining: 449ms\n",
      "673:\tlearn: 1384.2213523\ttotal: 925ms\tremaining: 447ms\n",
      "674:\tlearn: 1383.5580220\ttotal: 926ms\tremaining: 446ms\n",
      "675:\tlearn: 1382.9389759\ttotal: 928ms\tremaining: 445ms\n",
      "676:\tlearn: 1382.1559658\ttotal: 929ms\tremaining: 443ms\n",
      "677:\tlearn: 1381.6367537\ttotal: 930ms\tremaining: 442ms\n",
      "678:\tlearn: 1381.2305430\ttotal: 932ms\tremaining: 441ms\n",
      "679:\tlearn: 1380.7116858\ttotal: 933ms\tremaining: 439ms\n",
      "680:\tlearn: 1379.9565433\ttotal: 934ms\tremaining: 438ms\n",
      "681:\tlearn: 1378.8553594\ttotal: 936ms\tremaining: 436ms\n",
      "682:\tlearn: 1378.4852864\ttotal: 938ms\tremaining: 435ms\n",
      "683:\tlearn: 1377.4999054\ttotal: 939ms\tremaining: 434ms\n",
      "684:\tlearn: 1376.9717581\ttotal: 940ms\tremaining: 432ms\n",
      "685:\tlearn: 1375.9830533\ttotal: 942ms\tremaining: 431ms\n",
      "686:\tlearn: 1375.2306820\ttotal: 943ms\tremaining: 430ms\n",
      "687:\tlearn: 1374.7881809\ttotal: 944ms\tremaining: 428ms\n",
      "688:\tlearn: 1374.0078378\ttotal: 946ms\tremaining: 427ms\n",
      "689:\tlearn: 1373.1868640\ttotal: 947ms\tremaining: 426ms\n",
      "690:\tlearn: 1372.3088482\ttotal: 948ms\tremaining: 424ms\n",
      "691:\tlearn: 1371.2374135\ttotal: 949ms\tremaining: 423ms\n"
     ]
    },
    {
     "name": "stdout",
     "output_type": "stream",
     "text": [
      "692:\tlearn: 1370.5169132\ttotal: 951ms\tremaining: 421ms\n",
      "693:\tlearn: 1369.4494439\ttotal: 956ms\tremaining: 421ms\n",
      "694:\tlearn: 1368.6724493\ttotal: 957ms\tremaining: 420ms\n",
      "695:\tlearn: 1367.6173375\ttotal: 958ms\tremaining: 419ms\n",
      "696:\tlearn: 1366.8969763\ttotal: 960ms\tremaining: 418ms\n",
      "697:\tlearn: 1365.7690069\ttotal: 963ms\tremaining: 416ms\n",
      "698:\tlearn: 1364.7844905\ttotal: 964ms\tremaining: 415ms\n",
      "699:\tlearn: 1363.9537744\ttotal: 965ms\tremaining: 414ms\n",
      "700:\tlearn: 1363.1240936\ttotal: 966ms\tremaining: 412ms\n",
      "701:\tlearn: 1362.2963529\ttotal: 974ms\tremaining: 414ms\n",
      "702:\tlearn: 1361.6920084\ttotal: 978ms\tremaining: 413ms\n",
      "703:\tlearn: 1361.0924914\ttotal: 980ms\tremaining: 412ms\n",
      "704:\tlearn: 1360.3593662\ttotal: 981ms\tremaining: 411ms\n",
      "705:\tlearn: 1359.9697205\ttotal: 984ms\tremaining: 410ms\n",
      "706:\tlearn: 1359.2509929\ttotal: 986ms\tremaining: 409ms\n",
      "707:\tlearn: 1358.7303124\ttotal: 987ms\tremaining: 407ms\n",
      "708:\tlearn: 1357.9089514\ttotal: 988ms\tremaining: 406ms\n",
      "709:\tlearn: 1356.9695144\ttotal: 990ms\tremaining: 404ms\n",
      "710:\tlearn: 1356.7392136\ttotal: 991ms\tremaining: 403ms\n",
      "711:\tlearn: 1355.8361398\ttotal: 993ms\tremaining: 402ms\n",
      "712:\tlearn: 1355.6751180\ttotal: 994ms\tremaining: 400ms\n",
      "713:\tlearn: 1355.3561820\ttotal: 995ms\tremaining: 399ms\n",
      "714:\tlearn: 1354.7392488\ttotal: 997ms\tremaining: 397ms\n",
      "715:\tlearn: 1354.2192895\ttotal: 998ms\tremaining: 396ms\n",
      "716:\tlearn: 1353.8621159\ttotal: 999ms\tremaining: 394ms\n",
      "717:\tlearn: 1352.9451267\ttotal: 1s\tremaining: 393ms\n",
      "718:\tlearn: 1352.1808048\ttotal: 1s\tremaining: 392ms\n",
      "719:\tlearn: 1351.6500645\ttotal: 1s\tremaining: 390ms\n",
      "720:\tlearn: 1351.1032328\ttotal: 1s\tremaining: 389ms\n",
      "721:\tlearn: 1350.4133881\ttotal: 1.01s\tremaining: 387ms\n",
      "722:\tlearn: 1349.7931144\ttotal: 1.01s\tremaining: 386ms\n",
      "723:\tlearn: 1349.1578510\ttotal: 1.01s\tremaining: 385ms\n",
      "724:\tlearn: 1348.2899969\ttotal: 1.01s\tremaining: 384ms\n",
      "725:\tlearn: 1347.4415829\ttotal: 1.01s\tremaining: 382ms\n",
      "726:\tlearn: 1346.8784443\ttotal: 1.01s\tremaining: 381ms\n",
      "727:\tlearn: 1346.4890228\ttotal: 1.01s\tremaining: 379ms\n",
      "728:\tlearn: 1346.0301006\ttotal: 1.02s\tremaining: 378ms\n",
      "729:\tlearn: 1345.4610066\ttotal: 1.02s\tremaining: 377ms\n",
      "730:\tlearn: 1345.1637334\ttotal: 1.02s\tremaining: 375ms\n",
      "731:\tlearn: 1344.3625692\ttotal: 1.02s\tremaining: 374ms\n",
      "732:\tlearn: 1343.2797170\ttotal: 1.02s\tremaining: 373ms\n",
      "733:\tlearn: 1342.8079627\ttotal: 1.02s\tremaining: 371ms\n",
      "734:\tlearn: 1342.1656042\ttotal: 1.03s\tremaining: 370ms\n",
      "735:\tlearn: 1341.8480186\ttotal: 1.03s\tremaining: 368ms\n",
      "736:\tlearn: 1341.1092071\ttotal: 1.03s\tremaining: 367ms\n",
      "737:\tlearn: 1340.2345365\ttotal: 1.03s\tremaining: 366ms\n",
      "738:\tlearn: 1340.0369093\ttotal: 1.03s\tremaining: 364ms\n",
      "739:\tlearn: 1339.1866738\ttotal: 1.03s\tremaining: 363ms\n",
      "740:\tlearn: 1338.9388583\ttotal: 1.03s\tremaining: 362ms\n",
      "741:\tlearn: 1338.0849425\ttotal: 1.04s\tremaining: 360ms\n",
      "742:\tlearn: 1336.9563306\ttotal: 1.04s\tremaining: 359ms\n",
      "743:\tlearn: 1336.2046579\ttotal: 1.04s\tremaining: 358ms\n",
      "744:\tlearn: 1335.1273533\ttotal: 1.04s\tremaining: 356ms\n",
      "745:\tlearn: 1334.7785329\ttotal: 1.04s\tremaining: 355ms\n",
      "746:\tlearn: 1334.6419633\ttotal: 1.04s\tremaining: 353ms\n",
      "747:\tlearn: 1333.9928691\ttotal: 1.04s\tremaining: 352ms\n",
      "748:\tlearn: 1333.6144232\ttotal: 1.05s\tremaining: 351ms\n",
      "749:\tlearn: 1333.0789919\ttotal: 1.05s\tremaining: 350ms\n",
      "750:\tlearn: 1332.4017959\ttotal: 1.05s\tremaining: 348ms\n",
      "751:\tlearn: 1331.5418155\ttotal: 1.05s\tremaining: 347ms\n",
      "752:\tlearn: 1331.1502108\ttotal: 1.05s\tremaining: 345ms\n",
      "753:\tlearn: 1330.5195343\ttotal: 1.05s\tremaining: 344ms\n",
      "754:\tlearn: 1329.7963101\ttotal: 1.05s\tremaining: 342ms\n",
      "755:\tlearn: 1328.6670808\ttotal: 1.06s\tremaining: 341ms\n",
      "756:\tlearn: 1327.8175539\ttotal: 1.06s\tremaining: 340ms\n",
      "757:\tlearn: 1327.2043842\ttotal: 1.06s\tremaining: 338ms\n",
      "758:\tlearn: 1326.9386742\ttotal: 1.06s\tremaining: 337ms\n",
      "759:\tlearn: 1326.1360033\ttotal: 1.06s\tremaining: 335ms\n",
      "760:\tlearn: 1325.4303245\ttotal: 1.06s\tremaining: 334ms\n",
      "761:\tlearn: 1324.6327084\ttotal: 1.06s\tremaining: 333ms\n",
      "762:\tlearn: 1323.6721148\ttotal: 1.07s\tremaining: 331ms\n",
      "763:\tlearn: 1323.4360005\ttotal: 1.07s\tremaining: 330ms\n",
      "764:\tlearn: 1323.2062115\ttotal: 1.07s\tremaining: 328ms\n",
      "765:\tlearn: 1322.7097194\ttotal: 1.07s\tremaining: 327ms\n",
      "766:\tlearn: 1321.9626101\ttotal: 1.07s\tremaining: 326ms\n",
      "767:\tlearn: 1321.1380798\ttotal: 1.07s\tremaining: 325ms\n",
      "768:\tlearn: 1320.6930711\ttotal: 1.07s\tremaining: 323ms\n",
      "769:\tlearn: 1320.2250626\ttotal: 1.08s\tremaining: 322ms\n",
      "770:\tlearn: 1319.5889349\ttotal: 1.08s\tremaining: 320ms\n",
      "771:\tlearn: 1319.1926810\ttotal: 1.08s\tremaining: 319ms\n",
      "772:\tlearn: 1318.6447966\ttotal: 1.08s\tremaining: 318ms\n",
      "773:\tlearn: 1318.1656242\ttotal: 1.08s\tremaining: 316ms\n",
      "774:\tlearn: 1317.7696101\ttotal: 1.08s\tremaining: 315ms\n",
      "775:\tlearn: 1317.0917817\ttotal: 1.08s\tremaining: 313ms\n",
      "776:\tlearn: 1316.6506827\ttotal: 1.09s\tremaining: 312ms\n",
      "777:\tlearn: 1316.0662651\ttotal: 1.09s\tremaining: 310ms\n",
      "778:\tlearn: 1315.6015190\ttotal: 1.09s\tremaining: 309ms\n",
      "779:\tlearn: 1315.3001658\ttotal: 1.09s\tremaining: 308ms\n",
      "780:\tlearn: 1315.0149584\ttotal: 1.09s\tremaining: 306ms\n",
      "781:\tlearn: 1314.5199290\ttotal: 1.09s\tremaining: 305ms\n",
      "782:\tlearn: 1314.1813298\ttotal: 1.09s\tremaining: 304ms\n",
      "783:\tlearn: 1313.8296605\ttotal: 1.1s\tremaining: 302ms\n",
      "784:\tlearn: 1313.2931058\ttotal: 1.1s\tremaining: 301ms\n",
      "785:\tlearn: 1312.9756595\ttotal: 1.1s\tremaining: 299ms\n",
      "786:\tlearn: 1312.8548382\ttotal: 1.1s\tremaining: 298ms\n",
      "787:\tlearn: 1312.7153428\ttotal: 1.1s\tremaining: 296ms\n",
      "788:\tlearn: 1312.1782259\ttotal: 1.1s\tremaining: 295ms\n",
      "789:\tlearn: 1311.1600345\ttotal: 1.1s\tremaining: 293ms\n",
      "790:\tlearn: 1309.9414578\ttotal: 1.1s\tremaining: 292ms\n",
      "791:\tlearn: 1309.5561056\ttotal: 1.11s\tremaining: 291ms\n",
      "792:\tlearn: 1308.6594347\ttotal: 1.11s\tremaining: 289ms\n",
      "793:\tlearn: 1308.3393784\ttotal: 1.11s\tremaining: 288ms\n",
      "794:\tlearn: 1307.9682287\ttotal: 1.11s\tremaining: 286ms\n",
      "795:\tlearn: 1307.2939913\ttotal: 1.11s\tremaining: 285ms\n",
      "796:\tlearn: 1306.5827992\ttotal: 1.11s\tremaining: 283ms\n",
      "797:\tlearn: 1305.7345330\ttotal: 1.11s\tremaining: 282ms\n",
      "798:\tlearn: 1305.3537922\ttotal: 1.11s\tremaining: 281ms\n",
      "799:\tlearn: 1304.6393245\ttotal: 1.12s\tremaining: 279ms\n",
      "800:\tlearn: 1304.0980945\ttotal: 1.12s\tremaining: 278ms\n",
      "801:\tlearn: 1303.6480496\ttotal: 1.12s\tremaining: 277ms\n",
      "802:\tlearn: 1302.7450522\ttotal: 1.12s\tremaining: 275ms\n",
      "803:\tlearn: 1302.3363236\ttotal: 1.12s\tremaining: 274ms\n",
      "804:\tlearn: 1301.5540157\ttotal: 1.12s\tremaining: 272ms\n",
      "805:\tlearn: 1301.0150605\ttotal: 1.13s\tremaining: 271ms\n",
      "806:\tlearn: 1300.3523801\ttotal: 1.13s\tremaining: 270ms\n",
      "807:\tlearn: 1299.6560693\ttotal: 1.13s\tremaining: 268ms\n",
      "808:\tlearn: 1299.0062601\ttotal: 1.13s\tremaining: 267ms\n",
      "809:\tlearn: 1298.7826026\ttotal: 1.13s\tremaining: 265ms\n",
      "810:\tlearn: 1298.1271764\ttotal: 1.13s\tremaining: 264ms\n",
      "811:\tlearn: 1297.7083839\ttotal: 1.13s\tremaining: 263ms\n",
      "812:\tlearn: 1297.4162424\ttotal: 1.14s\tremaining: 261ms\n",
      "813:\tlearn: 1296.5676217\ttotal: 1.14s\tremaining: 260ms\n",
      "814:\tlearn: 1295.8293348\ttotal: 1.14s\tremaining: 258ms\n",
      "815:\tlearn: 1295.3835167\ttotal: 1.14s\tremaining: 257ms\n",
      "816:\tlearn: 1294.3191354\ttotal: 1.14s\tremaining: 256ms\n",
      "817:\tlearn: 1293.7851744\ttotal: 1.14s\tremaining: 254ms\n",
      "818:\tlearn: 1293.0341041\ttotal: 1.14s\tremaining: 253ms\n",
      "819:\tlearn: 1292.1242982\ttotal: 1.15s\tremaining: 252ms\n",
      "820:\tlearn: 1291.2878500\ttotal: 1.15s\tremaining: 250ms\n",
      "821:\tlearn: 1290.5701726\ttotal: 1.15s\tremaining: 249ms\n",
      "822:\tlearn: 1289.8232930\ttotal: 1.15s\tremaining: 248ms\n",
      "823:\tlearn: 1289.2486689\ttotal: 1.15s\tremaining: 246ms\n",
      "824:\tlearn: 1288.8164930\ttotal: 1.15s\tremaining: 245ms\n",
      "825:\tlearn: 1288.6197130\ttotal: 1.16s\tremaining: 244ms\n",
      "826:\tlearn: 1288.2751808\ttotal: 1.16s\tremaining: 242ms\n",
      "827:\tlearn: 1287.8289007\ttotal: 1.16s\tremaining: 241ms\n",
      "828:\tlearn: 1287.0777313\ttotal: 1.16s\tremaining: 239ms\n",
      "829:\tlearn: 1286.4540379\ttotal: 1.16s\tremaining: 238ms\n",
      "830:\tlearn: 1286.2776360\ttotal: 1.16s\tremaining: 237ms\n",
      "831:\tlearn: 1285.9323204\ttotal: 1.17s\tremaining: 236ms\n",
      "832:\tlearn: 1284.7171213\ttotal: 1.17s\tremaining: 234ms\n",
      "833:\tlearn: 1284.2839170\ttotal: 1.17s\tremaining: 233ms\n",
      "834:\tlearn: 1283.8981968\ttotal: 1.17s\tremaining: 231ms\n",
      "835:\tlearn: 1283.1707052\ttotal: 1.17s\tremaining: 230ms\n",
      "836:\tlearn: 1282.4720769\ttotal: 1.17s\tremaining: 228ms\n",
      "837:\tlearn: 1282.2269738\ttotal: 1.17s\tremaining: 227ms\n",
      "838:\tlearn: 1281.5578409\ttotal: 1.18s\tremaining: 226ms\n",
      "839:\tlearn: 1281.1780284\ttotal: 1.18s\tremaining: 224ms\n",
      "840:\tlearn: 1280.6534379\ttotal: 1.18s\tremaining: 223ms\n",
      "841:\tlearn: 1279.9279635\ttotal: 1.18s\tremaining: 221ms\n",
      "842:\tlearn: 1279.5520353\ttotal: 1.18s\tremaining: 220ms\n",
      "843:\tlearn: 1279.0586353\ttotal: 1.18s\tremaining: 219ms\n",
      "844:\tlearn: 1279.0499510\ttotal: 1.18s\tremaining: 217ms\n",
      "845:\tlearn: 1278.2930576\ttotal: 1.18s\tremaining: 216ms\n",
      "846:\tlearn: 1277.5406893\ttotal: 1.19s\tremaining: 214ms\n",
      "847:\tlearn: 1276.5516375\ttotal: 1.19s\tremaining: 213ms\n",
      "848:\tlearn: 1275.7478225\ttotal: 1.19s\tremaining: 212ms\n",
      "849:\tlearn: 1275.3094195\ttotal: 1.19s\tremaining: 210ms\n",
      "850:\tlearn: 1275.2769343\ttotal: 1.19s\tremaining: 209ms\n",
      "851:\tlearn: 1274.5041893\ttotal: 1.19s\tremaining: 207ms\n",
      "852:\tlearn: 1274.4312347\ttotal: 1.19s\tremaining: 206ms\n",
      "853:\tlearn: 1273.7390650\ttotal: 1.2s\tremaining: 204ms\n",
      "854:\tlearn: 1272.7714107\ttotal: 1.2s\tremaining: 203ms\n",
      "855:\tlearn: 1272.2098461\ttotal: 1.2s\tremaining: 202ms\n",
      "856:\tlearn: 1271.9494683\ttotal: 1.2s\tremaining: 200ms\n",
      "857:\tlearn: 1271.1712870\ttotal: 1.2s\tremaining: 199ms\n",
      "858:\tlearn: 1270.7813260\ttotal: 1.2s\tremaining: 197ms\n",
      "859:\tlearn: 1270.6121350\ttotal: 1.2s\tremaining: 196ms\n",
      "860:\tlearn: 1270.0402692\ttotal: 1.21s\tremaining: 195ms\n",
      "861:\tlearn: 1269.6430172\ttotal: 1.21s\tremaining: 193ms\n",
      "862:\tlearn: 1268.7216656\ttotal: 1.21s\tremaining: 192ms\n",
      "863:\tlearn: 1267.9661218\ttotal: 1.21s\tremaining: 190ms\n",
      "864:\tlearn: 1267.5812031\ttotal: 1.21s\tremaining: 189ms\n",
      "865:\tlearn: 1266.2522243\ttotal: 1.21s\tremaining: 188ms\n",
      "866:\tlearn: 1265.1854112\ttotal: 1.21s\tremaining: 186ms\n",
      "867:\tlearn: 1264.8376393\ttotal: 1.21s\tremaining: 185ms\n",
      "868:\tlearn: 1264.5531127\ttotal: 1.22s\tremaining: 183ms\n",
      "869:\tlearn: 1263.9502834\ttotal: 1.22s\tremaining: 182ms\n",
      "870:\tlearn: 1263.4174190\ttotal: 1.22s\tremaining: 180ms\n",
      "871:\tlearn: 1263.0342477\ttotal: 1.22s\tremaining: 179ms\n",
      "872:\tlearn: 1262.4686977\ttotal: 1.22s\tremaining: 178ms\n",
      "873:\tlearn: 1261.9167079\ttotal: 1.22s\tremaining: 176ms\n",
      "874:\tlearn: 1261.1327158\ttotal: 1.22s\tremaining: 175ms\n",
      "875:\tlearn: 1260.6085814\ttotal: 1.22s\tremaining: 173ms\n",
      "876:\tlearn: 1260.2108714\ttotal: 1.23s\tremaining: 172ms\n",
      "877:\tlearn: 1259.3983407\ttotal: 1.23s\tremaining: 171ms\n",
      "878:\tlearn: 1258.9895478\ttotal: 1.23s\tremaining: 169ms\n",
      "879:\tlearn: 1258.3871801\ttotal: 1.23s\tremaining: 168ms\n",
      "880:\tlearn: 1258.0441160\ttotal: 1.23s\tremaining: 167ms\n",
      "881:\tlearn: 1257.8370908\ttotal: 1.23s\tremaining: 165ms\n",
      "882:\tlearn: 1257.2590930\ttotal: 1.24s\tremaining: 164ms\n",
      "883:\tlearn: 1256.9815238\ttotal: 1.24s\tremaining: 162ms\n",
      "884:\tlearn: 1256.2706364\ttotal: 1.24s\tremaining: 161ms\n",
      "885:\tlearn: 1255.8854857\ttotal: 1.24s\tremaining: 159ms\n",
      "886:\tlearn: 1255.8164052\ttotal: 1.24s\tremaining: 158ms\n",
      "887:\tlearn: 1255.5931574\ttotal: 1.24s\tremaining: 157ms\n",
      "888:\tlearn: 1254.8210591\ttotal: 1.24s\tremaining: 155ms\n",
      "889:\tlearn: 1253.5769417\ttotal: 1.24s\tremaining: 154ms\n",
      "890:\tlearn: 1252.7024466\ttotal: 1.25s\tremaining: 152ms\n",
      "891:\tlearn: 1252.1107271\ttotal: 1.25s\tremaining: 151ms\n",
      "892:\tlearn: 1251.8609083\ttotal: 1.25s\tremaining: 150ms\n",
      "893:\tlearn: 1251.3702781\ttotal: 1.25s\tremaining: 149ms\n",
      "894:\tlearn: 1251.0852178\ttotal: 1.25s\tremaining: 147ms\n",
      "895:\tlearn: 1250.6315104\ttotal: 1.25s\tremaining: 146ms\n",
      "896:\tlearn: 1250.2481668\ttotal: 1.26s\tremaining: 144ms\n",
      "897:\tlearn: 1249.8696138\ttotal: 1.26s\tremaining: 143ms\n",
      "898:\tlearn: 1249.7423594\ttotal: 1.26s\tremaining: 142ms\n",
      "899:\tlearn: 1249.3822993\ttotal: 1.26s\tremaining: 140ms\n",
      "900:\tlearn: 1249.0303412\ttotal: 1.26s\tremaining: 139ms\n",
      "901:\tlearn: 1248.5548414\ttotal: 1.26s\tremaining: 137ms\n",
      "902:\tlearn: 1248.1731568\ttotal: 1.26s\tremaining: 136ms\n",
      "903:\tlearn: 1247.8732504\ttotal: 1.27s\tremaining: 135ms\n",
      "904:\tlearn: 1247.2583123\ttotal: 1.27s\tremaining: 133ms\n",
      "905:\tlearn: 1246.3431620\ttotal: 1.27s\tremaining: 132ms\n",
      "906:\tlearn: 1245.8724259\ttotal: 1.27s\tremaining: 130ms\n",
      "907:\tlearn: 1245.0959762\ttotal: 1.27s\tremaining: 129ms\n",
      "908:\tlearn: 1244.4752225\ttotal: 1.27s\tremaining: 127ms\n",
      "909:\tlearn: 1244.1619406\ttotal: 1.27s\tremaining: 126ms\n",
      "910:\tlearn: 1243.6367524\ttotal: 1.28s\tremaining: 125ms\n",
      "911:\tlearn: 1243.3041889\ttotal: 1.28s\tremaining: 123ms\n",
      "912:\tlearn: 1242.7344003\ttotal: 1.28s\tremaining: 122ms\n",
      "913:\tlearn: 1242.3082269\ttotal: 1.28s\tremaining: 120ms\n",
      "914:\tlearn: 1241.6092235\ttotal: 1.28s\tremaining: 119ms\n",
      "915:\tlearn: 1241.1406225\ttotal: 1.28s\tremaining: 118ms\n",
      "916:\tlearn: 1240.4312213\ttotal: 1.28s\tremaining: 116ms\n",
      "917:\tlearn: 1239.8659406\ttotal: 1.28s\tremaining: 115ms\n",
      "918:\tlearn: 1239.5846098\ttotal: 1.29s\tremaining: 113ms\n",
      "919:\tlearn: 1239.0934045\ttotal: 1.29s\tremaining: 112ms\n",
      "920:\tlearn: 1238.6374527\ttotal: 1.29s\tremaining: 111ms\n",
      "921:\tlearn: 1238.2236734\ttotal: 1.29s\tremaining: 109ms\n",
      "922:\tlearn: 1237.6344612\ttotal: 1.29s\tremaining: 108ms\n",
      "923:\tlearn: 1237.2222702\ttotal: 1.29s\tremaining: 106ms\n",
      "924:\tlearn: 1236.7523897\ttotal: 1.29s\tremaining: 105ms\n",
      "925:\tlearn: 1236.4088401\ttotal: 1.29s\tremaining: 103ms\n",
      "926:\tlearn: 1235.8009878\ttotal: 1.3s\tremaining: 102ms\n",
      "927:\tlearn: 1235.2296107\ttotal: 1.3s\tremaining: 101ms\n",
      "928:\tlearn: 1234.5963293\ttotal: 1.3s\tremaining: 99.4ms\n",
      "929:\tlearn: 1234.1180249\ttotal: 1.3s\tremaining: 98ms\n",
      "930:\tlearn: 1233.8350958\ttotal: 1.3s\tremaining: 96.6ms\n",
      "931:\tlearn: 1233.0423409\ttotal: 1.3s\tremaining: 95.2ms\n",
      "932:\tlearn: 1232.4063907\ttotal: 1.31s\tremaining: 93.8ms\n",
      "933:\tlearn: 1232.0368041\ttotal: 1.31s\tremaining: 92.4ms\n",
      "934:\tlearn: 1231.6450409\ttotal: 1.31s\tremaining: 91ms\n",
      "935:\tlearn: 1231.5318671\ttotal: 1.31s\tremaining: 89.7ms\n",
      "936:\tlearn: 1231.0291349\ttotal: 1.31s\tremaining: 88.3ms\n",
      "937:\tlearn: 1230.3266707\ttotal: 1.31s\tremaining: 86.8ms\n",
      "938:\tlearn: 1229.7203582\ttotal: 1.31s\tremaining: 85.4ms\n",
      "939:\tlearn: 1229.1681642\ttotal: 1.32s\tremaining: 84ms\n",
      "940:\tlearn: 1228.7364110\ttotal: 1.32s\tremaining: 82.6ms\n",
      "941:\tlearn: 1228.1985078\ttotal: 1.32s\tremaining: 81.2ms\n",
      "942:\tlearn: 1227.3759499\ttotal: 1.32s\tremaining: 79.8ms\n",
      "943:\tlearn: 1226.7696612\ttotal: 1.32s\tremaining: 78.4ms\n",
      "944:\tlearn: 1226.1532823\ttotal: 1.32s\tremaining: 77ms\n",
      "945:\tlearn: 1225.6762779\ttotal: 1.32s\tremaining: 75.6ms\n",
      "946:\tlearn: 1225.1911422\ttotal: 1.32s\tremaining: 74.2ms\n",
      "947:\tlearn: 1224.7157913\ttotal: 1.33s\tremaining: 72.8ms\n",
      "948:\tlearn: 1224.4640757\ttotal: 1.33s\tremaining: 71.4ms\n",
      "949:\tlearn: 1224.0686630\ttotal: 1.33s\tremaining: 70ms\n",
      "950:\tlearn: 1223.2882975\ttotal: 1.33s\tremaining: 68.6ms\n",
      "951:\tlearn: 1222.7197554\ttotal: 1.33s\tremaining: 67.2ms\n",
      "952:\tlearn: 1222.3693201\ttotal: 1.33s\tremaining: 65.8ms\n",
      "953:\tlearn: 1221.4386350\ttotal: 1.33s\tremaining: 64.3ms\n",
      "954:\tlearn: 1221.0598569\ttotal: 1.33s\tremaining: 62.9ms\n",
      "955:\tlearn: 1220.3351834\ttotal: 1.34s\tremaining: 61.5ms\n",
      "956:\tlearn: 1220.1710255\ttotal: 1.34s\tremaining: 60.1ms\n",
      "957:\tlearn: 1219.4833216\ttotal: 1.34s\tremaining: 58.7ms\n",
      "958:\tlearn: 1218.9229932\ttotal: 1.34s\tremaining: 57.3ms\n"
     ]
    },
    {
     "name": "stdout",
     "output_type": "stream",
     "text": [
      "959:\tlearn: 1218.2022217\ttotal: 1.34s\tremaining: 55.9ms\n",
      "960:\tlearn: 1218.0120377\ttotal: 1.34s\tremaining: 54.5ms\n",
      "961:\tlearn: 1217.3351870\ttotal: 1.34s\tremaining: 53.1ms\n",
      "962:\tlearn: 1216.9491574\ttotal: 1.35s\tremaining: 51.8ms\n",
      "963:\tlearn: 1216.6156570\ttotal: 1.35s\tremaining: 50.3ms\n",
      "964:\tlearn: 1216.2959369\ttotal: 1.35s\tremaining: 48.9ms\n",
      "965:\tlearn: 1215.5416676\ttotal: 1.35s\tremaining: 47.5ms\n",
      "966:\tlearn: 1214.9709871\ttotal: 1.35s\tremaining: 46.1ms\n",
      "967:\tlearn: 1214.5246656\ttotal: 1.35s\tremaining: 44.7ms\n",
      "968:\tlearn: 1213.9528807\ttotal: 1.35s\tremaining: 43.4ms\n",
      "969:\tlearn: 1213.7377480\ttotal: 1.36s\tremaining: 42ms\n",
      "970:\tlearn: 1213.2837080\ttotal: 1.36s\tremaining: 40.6ms\n",
      "971:\tlearn: 1212.6927943\ttotal: 1.36s\tremaining: 39.2ms\n",
      "972:\tlearn: 1212.2830300\ttotal: 1.36s\tremaining: 37.8ms\n",
      "973:\tlearn: 1211.6743921\ttotal: 1.36s\tremaining: 36.3ms\n",
      "974:\tlearn: 1211.3462304\ttotal: 1.36s\tremaining: 34.9ms\n",
      "975:\tlearn: 1210.7291774\ttotal: 1.36s\tremaining: 33.6ms\n",
      "976:\tlearn: 1210.1998707\ttotal: 1.37s\tremaining: 32.2ms\n",
      "977:\tlearn: 1209.8481333\ttotal: 1.37s\tremaining: 30.8ms\n",
      "978:\tlearn: 1209.6855103\ttotal: 1.37s\tremaining: 29.4ms\n",
      "979:\tlearn: 1209.4108024\ttotal: 1.37s\tremaining: 28ms\n",
      "980:\tlearn: 1208.6534217\ttotal: 1.37s\tremaining: 26.6ms\n",
      "981:\tlearn: 1208.5266141\ttotal: 1.37s\tremaining: 25.2ms\n",
      "982:\tlearn: 1208.1265948\ttotal: 1.37s\tremaining: 23.8ms\n",
      "983:\tlearn: 1207.4370510\ttotal: 1.37s\tremaining: 22.4ms\n",
      "984:\tlearn: 1206.9240596\ttotal: 1.38s\tremaining: 21ms\n",
      "985:\tlearn: 1206.4963690\ttotal: 1.38s\tremaining: 19.6ms\n",
      "986:\tlearn: 1205.8342105\ttotal: 1.38s\tremaining: 18.2ms\n",
      "987:\tlearn: 1205.3249148\ttotal: 1.38s\tremaining: 16.8ms\n",
      "988:\tlearn: 1204.7510110\ttotal: 1.38s\tremaining: 15.4ms\n",
      "989:\tlearn: 1204.1800908\ttotal: 1.39s\tremaining: 14ms\n",
      "990:\tlearn: 1203.8344775\ttotal: 1.39s\tremaining: 12.6ms\n",
      "991:\tlearn: 1202.9936151\ttotal: 1.41s\tremaining: 11.4ms\n",
      "992:\tlearn: 1202.8050472\ttotal: 1.41s\tremaining: 9.94ms\n",
      "993:\tlearn: 1202.4007784\ttotal: 1.42s\tremaining: 8.56ms\n",
      "994:\tlearn: 1201.9541370\ttotal: 1.42s\tremaining: 7.14ms\n",
      "995:\tlearn: 1201.5256620\ttotal: 1.42s\tremaining: 5.71ms\n",
      "996:\tlearn: 1201.2666584\ttotal: 1.42s\tremaining: 4.28ms\n",
      "997:\tlearn: 1201.1516485\ttotal: 1.43s\tremaining: 2.85ms\n",
      "998:\tlearn: 1200.6470154\ttotal: 1.43s\tremaining: 1.43ms\n",
      "999:\tlearn: 1199.8271873\ttotal: 1.43s\tremaining: 0us\n"
     ]
    },
    {
     "data": {
      "text/plain": [
       "<catboost.core.CatBoostRegressor at 0x7f8342341790>"
      ]
     },
     "execution_count": 62,
     "metadata": {},
     "output_type": "execute_result"
    }
   ],
   "source": [
    "cb1.fit(train_pool)"
   ]
  },
  {
   "cell_type": "code",
   "execution_count": 63,
   "id": "64eb2b93",
   "metadata": {},
   "outputs": [],
   "source": [
    "y_pred = cb1.predict(test_pool)"
   ]
  },
  {
   "cell_type": "code",
   "execution_count": 65,
   "id": "51c5e8b3",
   "metadata": {},
   "outputs": [
    {
     "data": {
      "text/plain": [
       "2055.989006548227"
      ]
     },
     "execution_count": 65,
     "metadata": {},
     "output_type": "execute_result"
    }
   ],
   "source": [
    "# test\n",
    "mean_squared_error(y_test, y_pred, squared = False)"
   ]
  },
  {
   "cell_type": "code",
   "execution_count": 66,
   "id": "b92ebed0",
   "metadata": {},
   "outputs": [
    {
     "data": {
      "text/plain": [
       "1199.8271873207266"
      ]
     },
     "execution_count": 66,
     "metadata": {},
     "output_type": "execute_result"
    }
   ],
   "source": [
    "# train\n",
    "mean_squared_error(y_train, cb1.predict(X_train), squared = False)"
   ]
  },
  {
   "cell_type": "markdown",
   "id": "8182968b",
   "metadata": {},
   "source": [
    "### XGBoost\n",
    "*By Emily Leibfritz*"
   ]
  },
  {
   "cell_type": "markdown",
   "id": "a221dcc6",
   "metadata": {},
   "source": [
    "## Model Ensemble "
   ]
  },
  {
   "cell_type": "markdown",
   "id": "9dc8b3d9",
   "metadata": {},
   "source": [
    "Put code with comments. The comments should explain the code such that it can be easily understood. You may put text *(in a markdown cell)* before a large chunk of code to explain the overall purpose of the code, if it is not intuitive. **Put the name of the person / persons who contributed to each code chunk / set of code chunks.**\n"
   ]
  },
  {
   "cell_type": "markdown",
   "id": "961bcb1d",
   "metadata": {},
   "source": [
    "### Voting ensemble"
   ]
  },
  {
   "cell_type": "markdown",
   "id": "ca651ba0",
   "metadata": {},
   "source": [
    "### Stacking ensemble(s)"
   ]
  },
  {
   "cell_type": "markdown",
   "id": "ddff3adf",
   "metadata": {},
   "source": [
    "### Ensemble of ensembled models"
   ]
  },
  {
   "cell_type": "markdown",
   "id": "3668faab",
   "metadata": {},
   "source": [
    "### Innovative ensembling methods\n",
    "*(Optional)*"
   ]
  },
  {
   "cell_type": "markdown",
   "id": "62a185cb",
   "metadata": {},
   "source": [
    "## Conclusions and Recommendations to stakeholder(s)\n",
    "\n",
    "You may or may not have code to put in this section. Delete this section if it is irrelevant."
   ]
  }
 ],
 "metadata": {
  "kernelspec": {
   "display_name": "Python 3 (ipykernel)",
   "language": "python",
   "name": "python3"
  },
  "language_info": {
   "codemirror_mode": {
    "name": "ipython",
    "version": 3
   },
   "file_extension": ".py",
   "mimetype": "text/x-python",
   "name": "python",
   "nbconvert_exporter": "python",
   "pygments_lexer": "ipython3",
   "version": "3.9.13"
  }
 },
 "nbformat": 4,
 "nbformat_minor": 5
}
