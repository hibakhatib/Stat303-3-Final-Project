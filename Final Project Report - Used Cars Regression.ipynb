{
 "cells": [
  {
   "cell_type": "raw",
   "id": "33dd6c4c",
   "metadata": {},
   "source": [
    "---\n",
    "title: \"Project Report\"\n",
    "subtitle: dat_sci\n",
    "author: Hiba Khatib, Emily Leibfritz, Nicole Birova, and YuYan Zhang \n",
    "date: 05/23/2023\n",
    "number-sections: true\n",
    "abstract: _The ABSTRACT is to be in fully-justified italicized text at the top of the report, below the author information. The abstract section must summarise the problem statement, the developed model(s), the metric(s) optimized and the recommendations to the stakeholders based on the model (if any). You may also briefly mention any major EDA-based insights that helped develop the model or directly translated into recommendations to the stakeholders. However, the abstract must not be more than 200 words in length_.\n",
    "format: \n",
    "  html:\n",
    "    toc: true\n",
    "    toc-title: Contents\n",
    "    self-contained: true\n",
    "    font-size: 100%\n",
    "    toc-depth: 4\n",
    "    mainfont: serif\n",
    "jupyter: python3\n",
    "---"
   ]
  },
  {
   "cell_type": "code",
   "execution_count": 4,
   "id": "9e31e82a",
   "metadata": {},
   "outputs": [],
   "source": [
    "#| echo: false\n",
    "# minimum libraries needed for some EDA/data prep code \n",
    "import pandas as pd \n",
    "import numpy as np\n",
    "import matplotlib.pyplot as plt \n",
    "import seaborn as sb\n",
    "data = pd.read_csv('us_used_cars_final.csv')\n",
    "y = data.price"
   ]
  },
  {
   "cell_type": "markdown",
   "id": "0116f49b",
   "metadata": {},
   "source": [
    "## Background / Motivation"
   ]
  },
  {
   "cell_type": "markdown",
   "id": "b4e961cf",
   "metadata": {},
   "source": [
    "Since buying a used car requires a level of trust between buyers and sellers, it's difficult to know what a good price is. We want to make a tool that buyers and sellers can use to facilitate the exchange.\n",
    "\n",
    "This is also useful for us as college students and young people in the workforce with limited budgets but a need for a vehicle. "
   ]
  },
  {
   "cell_type": "markdown",
   "id": "84ff1421",
   "metadata": {},
   "source": [
    "## Problem statement "
   ]
  },
  {
   "cell_type": "markdown",
   "id": "e6264262",
   "metadata": {},
   "source": [
    "The car industry is vast, and venturing into buying or selling a car can often be challenging, especially as the used car market is even harder to keep track off. Therefore, we want to create a model that can give potential buyers and sellers on overview of what to expect in price range."
   ]
  },
  {
   "cell_type": "markdown",
   "id": "38c7b95f",
   "metadata": {},
   "source": [
    "## Data sources\n",
    "*by Hiba Khatib*"
   ]
  },
  {
   "cell_type": "markdown",
   "id": "780993e7",
   "metadata": {},
   "source": [
    "The data we used is from Kaggle https://www.kaggle.com/datasets/ananaymital/us-used-cars-dataset. The original dataset has 3 million observations but we randomly sampled 6000 observations to used as our test and train data. This will help solve the problem because as it containts the price as well as ~50 other charactersitics describing cars that were sold used. From this data, we can build a model predicting car price to help potential sellers adjust heir expectations and potential buyers to get a reasonable price range for the car they are expecting to buy."
   ]
  },
  {
   "cell_type": "markdown",
   "id": "8c255035",
   "metadata": {},
   "source": [
    "## Stakeholders\n",
    "Who cares? If you are successful, what difference will it make to them?\n",
    "\n",
    "*by Hiba Khatib* "
   ]
  },
  {
   "cell_type": "markdown",
   "id": "1592c76f",
   "metadata": {},
   "source": [
    "Our stakeholders are used car buyers, seller, and third-parties that enable these exchanges. \n",
    "\n",
    "Understanding the used cars market is important for several reasons, and developing a machine learning tool that predicts the price of a used car can be valuable for both individuals and used car dealerships. Here are some ways that our tool is significant: \n",
    "\n",
    "1. **Informed Decision-Making:** For individuals looking to buy or sell a used car, having knowledge about the current market conditions, trends, and prices is crucial. Understanding the used cars market allows buyers to make informed decisions regarding the fair value of a vehicle they are interested in purchasing. Similarly, sellers can accurately assess the appropriate price to ask for their used car, ensuring they receive a fair deal.\n",
    "\n",
    "2. **Fair Pricing:** Predicting the price of a used car using machine learning can help establish fair and reasonable prices for both buyers and sellers. By considering various factors such as the car's make, model, year, mileage, and condition, our can provide an estimate that aligns with the prevailing market rates. This promotes transparency and prevents unfair price manipulation.\n",
    "\n",
    "3. **Time and Cost Savings:** For buyers, a machine learning tool can save time and effort by quickly providing estimated prices for a wide range of used cars. Instead of manually researching and comparing prices, potential buyers can use the tool to narrow down their options and focus on vehicles within their budget. For sellers, having a reliable price prediction tool eliminates the need for extensive market research and allows them to set competitive prices efficiently.\n",
    "\n",
    "4. **Negotiation Power:** When buying or selling a used car, negotiations are often involved. Having access to a machine learning tool that predicts prices empowers both parties during the negotiation process. Buyers can negotiate based on market insights, ensuring they are not overpaying, while sellers can justify their asking price with data-driven estimates.\n",
    "\n",
    "5. **Business Optimization:** Used car dealerships can greatly benefit from a machine learning tool that predicts prices. It allows dealerships to assess the value of trade-ins accurately, determine competitive pricing strategies, and optimize inventory management. By understanding market trends and fluctuations, dealerships can make informed decisions that maximize profitability and customer satisfaction.\n",
    "\n",
    "6. **Risk Mitigation:** Predicting the price of used cars can also help mitigate risk for both buyers and sellers. Buyers can avoid purchasing a vehicle at an inflated price by comparing the predicted price with the seller's offer. Sellers, on the other hand, can ensure they do not undervalue their vehicles and receive fair compensation for their assets.\n",
    "\n",
    "Overall, understanding the used cars market and having a machine learning tool to predict prices is beneficial for individuals and used car dealerships. It facilitates informed decision-making, establishes fair pricing, saves time and effort, enhances negotiation power, optimizes business operations, and mitigates risks in the used car market."
   ]
  },
  {
   "cell_type": "markdown",
   "id": "fe7ea9bb",
   "metadata": {},
   "source": [
    "## Data quality check / cleaning / preparation \n",
    "*Written by Hiba Khatib; code and data cleaning process done by both Hiba Khatib & Emily Leibfritz*"
   ]
  },
  {
   "cell_type": "code",
   "execution_count": 10,
   "id": "5da7b5a6",
   "metadata": {},
   "outputs": [
    {
     "name": "stdout",
     "output_type": "stream",
     "text": [
      "The standard deviation of the target variable before removing outliers 16742.99685916766\n",
      "The mean of the target variable before removing outliers 24568.3835\n"
     ]
    },
    {
     "name": "stderr",
     "output_type": "stream",
     "text": [
      "C:\\Users\\hibar\\anaconda3\\lib\\site-packages\\seaborn\\_decorators.py:36: FutureWarning: Pass the following variable as a keyword arg: x. From version 0.12, the only valid positional argument will be `data`, and passing other arguments without an explicit keyword will result in an error or misinterpretation.\n",
      "  warnings.warn(\n"
     ]
    },
    {
     "data": {
      "image/png": "[encoded data removed]",
      "text/plain": [
       "<Figure size 432x288 with 1 Axes>"
      ]
     },
     "metadata": {
      "needs_background": "light"
     },
     "output_type": "display_data"
    }
   ],
   "source": [
    "#| echo: false\n",
    "sb.boxplot(y)\n",
    "print(\"The standard deviation of the target variable before removing outliers\", np.std(y))\n",
    "print(\"The mean of the target variable before removing outliers\", np.mean(y))"
   ]
  },
  {
   "cell_type": "code",
   "execution_count": 17,
   "id": "f4838fa4",
   "metadata": {},
   "outputs": [
    {
     "name": "stderr",
     "output_type": "stream",
     "text": [
      "C:\\Users\\hibar\\anaconda3\\lib\\site-packages\\seaborn\\_decorators.py:36: FutureWarning: Pass the following variable as a keyword arg: x. From version 0.12, the only valid positional argument will be `data`, and passing other arguments without an explicit keyword will result in an error or misinterpretation.\n",
      "  warnings.warn(\n"
     ]
    },
    {
     "data": {
      "text/plain": [
       "<AxesSubplot:xlabel='price'>"
      ]
     },
     "execution_count": 17,
     "metadata": {},
     "output_type": "execute_result"
    },
    {
     "data": {
      "image/png": "[encoded data removed]",
      "text/plain": [
       "<Figure size 432x288 with 1 Axes>"
      ]
     },
     "metadata": {
      "needs_background": "light"
     },
     "output_type": "display_data"
    }
   ],
   "source": [
    "#| echo: false\n",
    "new_y = y[y <= 30000]\n",
    "sb.boxplot(new_y)"
   ]
  },
  {
   "cell_type": "code",
   "execution_count": 21,
   "id": "702de35d",
   "metadata": {},
   "outputs": [
    {
     "name": "stdout",
     "output_type": "stream",
     "text": [
      "Mean of target price after dropping outliers:  19205.211827007945\n",
      "Standard deviation:  5978.306973568847\n"
     ]
    },
    {
     "data": {
      "image/png": "[encoded data removed]",
      "text/plain": [
       "<Figure size 432x288 with 1 Axes>"
      ]
     },
     "metadata": {
      "needs_background": "light"
     },
     "output_type": "display_data"
    }
   ],
   "source": [
    "#| echo: false\n",
    "sb.kdeplot(new_y)\n",
    "print(\"Mean of target price after dropping outliers: \", np.mean(new_y))\n",
    "print(\"Standard deviation: \", np.std(new_y))"
   ]
  },
  {
   "cell_type": "code",
   "execution_count": 26,
   "id": "acde3109",
   "metadata": {},
   "outputs": [],
   "source": [
    "### Distribution of most significant predictors\n",
    "# the following code was done by Emily Leibfritz\n",
    "import seaborn as sns"
   ]
  },
  {
   "cell_type": "code",
   "execution_count": 29,
   "id": "d7de43a4",
   "metadata": {},
   "outputs": [
    {
     "data": {
      "text/plain": [
       "[]"
      ]
     },
     "execution_count": 29,
     "metadata": {},
     "output_type": "execute_result"
    },
    {
     "data": {
      "image/png": "[encoded data removed]",
      "text/plain": [
       "<Figure size 720x288 with 1 Axes>"
      ]
     },
     "metadata": {
      "needs_background": "light"
     },
     "output_type": "display_data"
    },
    {
     "data": {
      "image/png": "[encoded data removed]",
      "text/plain": [
       "<Figure size 576x288 with 1 Axes>"
      ]
     },
     "metadata": {
      "needs_background": "light"
     },
     "output_type": "display_data"
    }
   ],
   "source": [
    "#| echo: false\n",
    "plt.figure(figsize=(10,4))\n",
    "\n",
    "sns.boxplot(x=\"engine_cylinders\",y=\"price\", data = data_2)\n",
    "plt.xticks(rotation=90)\n",
    "plt.ylim(0,80000)\n",
    "plt.plot()\n",
    "\n",
    "data_2.engine_cylinders.value_counts()\n",
    "\n",
    "data_2['engine_cylinders'] = data_2['engine_cylinders'].apply(lambda x: 'I4' if x == 'I4' else \n",
    "                                                          'V6' if x == 'V6' else\n",
    "                                                          'V8' if x == 'V8' else\n",
    "                                                          'V6_Flex_Fuel_Vehicle' if x == 'V6 Flex Fuel Vehicle' else\n",
    "                                                          'H4' if x == 'H4' else\n",
    "                                                          'other')\n",
    "data_2.engine_cylinders.value_counts()\n",
    "\n",
    "plt.figure(figsize=(8,4))\n",
    "sns.boxplot(x=\"engine_cylinders\",y=\"price\", data = data_2)\n",
    "plt.xticks(rotation=90)\n",
    "plt.ylim(0,80000)\n",
    "plt.plot()"
   ]
  },
  {
   "cell_type": "code",
   "execution_count": 31,
   "id": "687c1c66",
   "metadata": {},
   "outputs": [
    {
     "data": {
      "text/plain": [
       "[]"
      ]
     },
     "execution_count": 31,
     "metadata": {},
     "output_type": "execute_result"
    },
    {
     "data": {
      "image/png": "[encoded data removed]",
      "text/plain": [
       "<Figure size 720x288 with 1 Axes>"
      ]
     },
     "metadata": {
      "needs_background": "light"
     },
     "output_type": "display_data"
    },
    {
     "data": {
      "image/png": "[encoded data removed]",
      "text/plain": [
       "<Figure size 432x288 with 1 Axes>"
      ]
     },
     "metadata": {
      "needs_background": "light"
     },
     "output_type": "display_data"
    }
   ],
   "source": [
    "#| echo: false\n",
    "plt.figure(figsize=(10,4))\n",
    "sns.boxplot(x=\"transmission_display\",y=\"price\", data = data_2)\n",
    "plt.xticks(rotation=90)\n",
    "plt.ylim(0,80000)\n",
    "plt.plot()\n",
    "\n",
    "data.transmission_display.value_counts().head()\n",
    "\n",
    "data_2['transmission_display'] = data_2['transmission_display'].apply(lambda x: 'Automatic' if x == 'Automatic' else \n",
    "                                                          '6_Speed_Automatic' if x == '6-Speed Automatic' else\n",
    "                                                          'Continuously_Variable_Transmission' if x == 'Continuously Variable Transmission' else\n",
    "                                                          '8_Speed_Automatic' if x == '8-Speed Automatic' else\n",
    "                                                          '9_Speed_Automatic' if x == '9-Speed Automatic' else\n",
    "                                                          '6_Speed_Automatic' if x == '6-Speed Automatic' else\n",
    "                                                          '5_Speed_Automatic' if x == '5-Speed Automatic' else\n",
    "                                                          'other')\n",
    "plt.figure(figsize=(6,4))\n",
    "sns.boxplot(x=\"transmission_display\",y=\"price\", data = data_2)\n",
    "plt.xticks(rotation=90)\n",
    "plt.ylim(0,80000)\n",
    "plt.plot()"
   ]
  },
  {
   "cell_type": "code",
   "execution_count": 34,
   "id": "365f8198",
   "metadata": {},
   "outputs": [
    {
     "data": {
      "text/html": [
       "<div>\n",
       "<style scoped>\n",
       "    .dataframe tbody tr th:only-of-type {\n",
       "        vertical-align: middle;\n",
       "    }\n",
       "\n",
       "    .dataframe tbody tr th {\n",
       "        vertical-align: top;\n",
       "    }\n",
       "\n",
       "    .dataframe thead th {\n",
       "        text-align: right;\n",
       "    }\n",
       "</style>\n",
       "<table border=\"1\" class=\"dataframe\">\n",
       "  <thead>\n",
       "    <tr style=\"text-align: right;\">\n",
       "      <th></th>\n",
       "      <th>city_fuel_economy</th>\n",
       "      <th>engine_displacement</th>\n",
       "      <th>franchise_make</th>\n",
       "      <th>fuel_tank_volume</th>\n",
       "      <th>height</th>\n",
       "      <th>highway_fuel_economy</th>\n",
       "      <th>length</th>\n",
       "      <th>mileage</th>\n",
       "      <th>model_name</th>\n",
       "      <th>owner_count</th>\n",
       "      <th>...</th>\n",
       "      <th>trimId</th>\n",
       "      <th>wheelbase</th>\n",
       "      <th>width</th>\n",
       "      <th>year</th>\n",
       "      <th>wheel_system_cat</th>\n",
       "      <th>wheel_system_display_cat</th>\n",
       "      <th>body_type_Sedan</th>\n",
       "      <th>engine_cylinders_I4</th>\n",
       "      <th>engine_cylinders_V6</th>\n",
       "      <th>transmission_display_8_Speed_Automatic</th>\n",
       "    </tr>\n",
       "  </thead>\n",
       "  <tbody>\n",
       "    <tr>\n",
       "      <th>count</th>\n",
       "      <td>4531.000000</td>\n",
       "      <td>4531.000000</td>\n",
       "      <td>4531.000000</td>\n",
       "      <td>4531.000000</td>\n",
       "      <td>4531.00000</td>\n",
       "      <td>4531.000000</td>\n",
       "      <td>4531.000000</td>\n",
       "      <td>4531.000000</td>\n",
       "      <td>4531.000000</td>\n",
       "      <td>4531.000000</td>\n",
       "      <td>...</td>\n",
       "      <td>4531.000000</td>\n",
       "      <td>4531.000000</td>\n",
       "      <td>4531.000000</td>\n",
       "      <td>4531.000000</td>\n",
       "      <td>4531.000000</td>\n",
       "      <td>4531.000000</td>\n",
       "      <td>4531.000000</td>\n",
       "      <td>4531.000000</td>\n",
       "      <td>4531.000000</td>\n",
       "      <td>4531.000000</td>\n",
       "    </tr>\n",
       "    <tr>\n",
       "      <th>mean</th>\n",
       "      <td>22.123814</td>\n",
       "      <td>2653.520194</td>\n",
       "      <td>0.976826</td>\n",
       "      <td>17.239881</td>\n",
       "      <td>63.71748</td>\n",
       "      <td>29.835356</td>\n",
       "      <td>187.880755</td>\n",
       "      <td>50587.295299</td>\n",
       "      <td>1.203708</td>\n",
       "      <td>1.374752</td>\n",
       "      <td>...</td>\n",
       "      <td>66545.237696</td>\n",
       "      <td>110.453719</td>\n",
       "      <td>76.634937</td>\n",
       "      <td>2016.423085</td>\n",
       "      <td>2.440742</td>\n",
       "      <td>2.348267</td>\n",
       "      <td>0.331494</td>\n",
       "      <td>0.612668</td>\n",
       "      <td>0.269918</td>\n",
       "      <td>0.073714</td>\n",
       "    </tr>\n",
       "    <tr>\n",
       "      <th>std</th>\n",
       "      <td>4.370368</td>\n",
       "      <td>889.783980</td>\n",
       "      <td>1.181402</td>\n",
       "      <td>3.710306</td>\n",
       "      <td>5.77055</td>\n",
       "      <td>5.156303</td>\n",
       "      <td>12.964924</td>\n",
       "      <td>38325.667183</td>\n",
       "      <td>0.804647</td>\n",
       "      <td>0.699996</td>\n",
       "      <td>...</td>\n",
       "      <td>14455.076888</td>\n",
       "      <td>8.196206</td>\n",
       "      <td>6.360904</td>\n",
       "      <td>2.846164</td>\n",
       "      <td>0.998325</td>\n",
       "      <td>1.004233</td>\n",
       "      <td>0.470802</td>\n",
       "      <td>0.487194</td>\n",
       "      <td>0.443966</td>\n",
       "      <td>0.261334</td>\n",
       "    </tr>\n",
       "    <tr>\n",
       "      <th>min</th>\n",
       "      <td>11.000000</td>\n",
       "      <td>1000.000000</td>\n",
       "      <td>0.000000</td>\n",
       "      <td>9.200000</td>\n",
       "      <td>47.30000</td>\n",
       "      <td>15.000000</td>\n",
       "      <td>144.700000</td>\n",
       "      <td>10.000000</td>\n",
       "      <td>0.000000</td>\n",
       "      <td>1.000000</td>\n",
       "      <td>...</td>\n",
       "      <td>297.000000</td>\n",
       "      <td>90.900000</td>\n",
       "      <td>62.900000</td>\n",
       "      <td>1993.000000</td>\n",
       "      <td>0.000000</td>\n",
       "      <td>0.000000</td>\n",
       "      <td>0.000000</td>\n",
       "      <td>0.000000</td>\n",
       "      <td>0.000000</td>\n",
       "      <td>0.000000</td>\n",
       "    </tr>\n",
       "    <tr>\n",
       "      <th>25%</th>\n",
       "      <td>19.000000</td>\n",
       "      <td>2000.000000</td>\n",
       "      <td>0.000000</td>\n",
       "      <td>14.500000</td>\n",
       "      <td>57.90000</td>\n",
       "      <td>26.000000</td>\n",
       "      <td>180.550000</td>\n",
       "      <td>25122.500000</td>\n",
       "      <td>1.000000</td>\n",
       "      <td>1.000000</td>\n",
       "      <td>...</td>\n",
       "      <td>57983.000000</td>\n",
       "      <td>105.900000</td>\n",
       "      <td>72.300000</td>\n",
       "      <td>2016.000000</td>\n",
       "      <td>2.000000</td>\n",
       "      <td>1.000000</td>\n",
       "      <td>0.000000</td>\n",
       "      <td>0.000000</td>\n",
       "      <td>0.000000</td>\n",
       "      <td>0.000000</td>\n",
       "    </tr>\n",
       "    <tr>\n",
       "      <th>50%</th>\n",
       "      <td>22.000000</td>\n",
       "      <td>2400.000000</td>\n",
       "      <td>1.000000</td>\n",
       "      <td>16.500000</td>\n",
       "      <td>65.40000</td>\n",
       "      <td>30.000000</td>\n",
       "      <td>187.400000</td>\n",
       "      <td>38403.000000</td>\n",
       "      <td>1.000000</td>\n",
       "      <td>1.000000</td>\n",
       "      <td>...</td>\n",
       "      <td>68658.000000</td>\n",
       "      <td>109.300000</td>\n",
       "      <td>73.400000</td>\n",
       "      <td>2017.000000</td>\n",
       "      <td>3.000000</td>\n",
       "      <td>3.000000</td>\n",
       "      <td>0.000000</td>\n",
       "      <td>1.000000</td>\n",
       "      <td>0.000000</td>\n",
       "      <td>0.000000</td>\n",
       "    </tr>\n",
       "    <tr>\n",
       "      <th>75%</th>\n",
       "      <td>25.000000</td>\n",
       "      <td>3500.000000</td>\n",
       "      <td>1.000000</td>\n",
       "      <td>19.000000</td>\n",
       "      <td>67.90000</td>\n",
       "      <td>34.000000</td>\n",
       "      <td>192.900000</td>\n",
       "      <td>66451.000000</td>\n",
       "      <td>2.000000</td>\n",
       "      <td>2.000000</td>\n",
       "      <td>...</td>\n",
       "      <td>76471.500000</td>\n",
       "      <td>112.500000</td>\n",
       "      <td>81.300000</td>\n",
       "      <td>2018.000000</td>\n",
       "      <td>3.000000</td>\n",
       "      <td>3.000000</td>\n",
       "      <td>1.000000</td>\n",
       "      <td>1.000000</td>\n",
       "      <td>1.000000</td>\n",
       "      <td>0.000000</td>\n",
       "    </tr>\n",
       "    <tr>\n",
       "      <th>max</th>\n",
       "      <td>37.000000</td>\n",
       "      <td>6200.000000</td>\n",
       "      <td>4.000000</td>\n",
       "      <td>36.000000</td>\n",
       "      <td>108.60000</td>\n",
       "      <td>43.000000</td>\n",
       "      <td>250.400000</td>\n",
       "      <td>294140.000000</td>\n",
       "      <td>4.000000</td>\n",
       "      <td>8.000000</td>\n",
       "      <td>...</td>\n",
       "      <td>92998.000000</td>\n",
       "      <td>164.600000</td>\n",
       "      <td>97.400000</td>\n",
       "      <td>2020.000000</td>\n",
       "      <td>4.000000</td>\n",
       "      <td>4.000000</td>\n",
       "      <td>1.000000</td>\n",
       "      <td>1.000000</td>\n",
       "      <td>1.000000</td>\n",
       "      <td>1.000000</td>\n",
       "    </tr>\n",
       "  </tbody>\n",
       "</table>\n",
       "<p>8 rows × 23 columns</p>\n",
       "</div>"
      ],
      "text/plain": [
       "       city_fuel_economy  engine_displacement  franchise_make  \\\n",
       "count        4531.000000          4531.000000     4531.000000   \n",
       "mean           22.123814          2653.520194        0.976826   \n",
       "std             4.370368           889.783980        1.181402   \n",
       "min            11.000000          1000.000000        0.000000   \n",
       "25%            19.000000          2000.000000        0.000000   \n",
       "50%            22.000000          2400.000000        1.000000   \n",
       "75%            25.000000          3500.000000        1.000000   \n",
       "max            37.000000          6200.000000        4.000000   \n",
       "\n",
       "       fuel_tank_volume      height  highway_fuel_economy       length  \\\n",
       "count       4531.000000  4531.00000           4531.000000  4531.000000   \n",
       "mean          17.239881    63.71748             29.835356   187.880755   \n",
       "std            3.710306     5.77055              5.156303    12.964924   \n",
       "min            9.200000    47.30000             15.000000   144.700000   \n",
       "25%           14.500000    57.90000             26.000000   180.550000   \n",
       "50%           16.500000    65.40000             30.000000   187.400000   \n",
       "75%           19.000000    67.90000             34.000000   192.900000   \n",
       "max           36.000000   108.60000             43.000000   250.400000   \n",
       "\n",
       "             mileage   model_name  owner_count  ...        trimId  \\\n",
       "count    4531.000000  4531.000000  4531.000000  ...   4531.000000   \n",
       "mean    50587.295299     1.203708     1.374752  ...  66545.237696   \n",
       "std     38325.667183     0.804647     0.699996  ...  14455.076888   \n",
       "min        10.000000     0.000000     1.000000  ...    297.000000   \n",
       "25%     25122.500000     1.000000     1.000000  ...  57983.000000   \n",
       "50%     38403.000000     1.000000     1.000000  ...  68658.000000   \n",
       "75%     66451.000000     2.000000     2.000000  ...  76471.500000   \n",
       "max    294140.000000     4.000000     8.000000  ...  92998.000000   \n",
       "\n",
       "         wheelbase        width         year  wheel_system_cat  \\\n",
       "count  4531.000000  4531.000000  4531.000000       4531.000000   \n",
       "mean    110.453719    76.634937  2016.423085          2.440742   \n",
       "std       8.196206     6.360904     2.846164          0.998325   \n",
       "min      90.900000    62.900000  1993.000000          0.000000   \n",
       "25%     105.900000    72.300000  2016.000000          2.000000   \n",
       "50%     109.300000    73.400000  2017.000000          3.000000   \n",
       "75%     112.500000    81.300000  2018.000000          3.000000   \n",
       "max     164.600000    97.400000  2020.000000          4.000000   \n",
       "\n",
       "       wheel_system_display_cat  body_type_Sedan  engine_cylinders_I4  \\\n",
       "count               4531.000000      4531.000000          4531.000000   \n",
       "mean                   2.348267         0.331494             0.612668   \n",
       "std                    1.004233         0.470802             0.487194   \n",
       "min                    0.000000         0.000000             0.000000   \n",
       "25%                    1.000000         0.000000             0.000000   \n",
       "50%                    3.000000         0.000000             1.000000   \n",
       "75%                    3.000000         1.000000             1.000000   \n",
       "max                    4.000000         1.000000             1.000000   \n",
       "\n",
       "       engine_cylinders_V6  transmission_display_8_Speed_Automatic  \n",
       "count          4531.000000                             4531.000000  \n",
       "mean              0.269918                                0.073714  \n",
       "std               0.443966                                0.261334  \n",
       "min               0.000000                                0.000000  \n",
       "25%               0.000000                                0.000000  \n",
       "50%               0.000000                                0.000000  \n",
       "75%               1.000000                                0.000000  \n",
       "max               1.000000                                1.000000  \n",
       "\n",
       "[8 rows x 23 columns]"
      ]
     },
     "execution_count": 34,
     "metadata": {},
     "output_type": "execute_result"
    }
   ],
   "source": [
    "#| echo: false\n",
    "# numerical data distributions\n",
    "X = pd.read_csv('X.csv')\n",
    "X.drop('Unnamed: 0', axis = 1, inplace = True)\n",
    "X.describe()"
   ]
  },
  {
   "cell_type": "markdown",
   "id": "19f2fbc3",
   "metadata": {},
   "source": [
    "This is a summary of our main takeaways from the data prep and EDA: \n",
    "\n",
    "- The first thing we did was fix the data types of some of the columns. All of the boolean columns were encoded as True or False so we mapped those to 1s and 0s. Then, we found that several columns such as horsepower and torque were numerical but contained units. We removed all of the units from these columns and converted them back to numeric. \n",
    "- Then, we dropped a set of unique identifiers which were not sigificant to our analysis. We also dropped three columns which represented the interior, and exterior color of the car. These columns had different names for the same color and we did not see them as significant predictors to engineer and encode differently. \n",
    "- Then, we dropped a constant predictor which contained the same value for all observations as constant predictors don't provide any meaningful insights. \n",
    "\n",
    "- The final step in the cleaning and preparation of the numerical data, we dropped highly correlated features. These were features which represented the same information in two different ways such as the official name of a trim and the id associated with that name. This resulted in us keeping only 14 of the numerical predictors are subsetting for predictors with a correlation of |-.2|. \n",
    "\n",
    "- For the categorical columns, each was observed individually in order to find the best way to handle them, as just converting them all into dummies resulted in a huge dataset.\n",
    "\n",
    "- Some columns with few unique values that showed a connection to the target variable were just converted into dummies, like body_type and transmission_display.\n",
    "\n",
    "- Some columns, like engine_cylinders and transmission display had some values very common while others only had under 100 observations. These were grouped as others, and the columns were converted into dummies.\n",
    "\n",
    "- Some columns like franchise_make and model_name had a too large amount of unique values to convert into dummies, so the observations were grouped by mean value of target variable, and assigned a number between 1-6.\n",
    "\n",
    "- Some columns did not show any connection to the target variable, while often having a big amount of unique values, like the columns concerning the color of the vehicles, city or major_options. These columns were dropped.\n",
    "\n",
    "- Some columns contained the same information given by other columns already, like the pairs trim&trimID, make_name&franchise_make, engine_type&engine_cylinders where each trim, engine_type and make_name were dropped."
   ]
  },
  {
   "cell_type": "markdown",
   "id": "fbb11c9b",
   "metadata": {},
   "source": [
    "## Exploratory data analysis\n",
    "*Written by Hiba Khatib; EDA code was written by Hiba Khatib & Emily Leibfritz*"
   ]
  },
  {
   "cell_type": "markdown",
   "id": "c56d66d3",
   "metadata": {},
   "source": [
    "The main takeaway from the EDA was the way that some columns were encoded. Some of the numerical columns had units. We had to remove the units in order to truly observe the trends in the numerical data. Additionally, the most important takeaway was the outliers and their effects on the distribution of the data. We intially focused only on the plot of the target variable which indicated that a log transformation was necessary but after dropping the outliers, the target no longer required a transformation. \n",
    "\n",
    "We did not have missing data except for one observation. When I sampled the data from the original 3 million observation data set, I achieved a subset of the data with no missing values. One observation later caused issues because some of its columns had dashes -- instead of NaN or empty cells. After we performed data cleaning, this observation's missingness becamse apparent. We dropped this observation since it was one out of 4500+ observations and was not worth imputing. \n",
    "\n",
    "Please refer to the graphs above to explore some of our EDA and data prep. The project code contains extensive data cleaning and EDA which can not reasonably be included in the report. "
   ]
  },
  {
   "cell_type": "markdown",
   "id": "5ed35a4d",
   "metadata": {},
   "source": [
    "## Feature Selection \n",
    "*By Hiba Khatib*"
   ]
  },
  {
   "cell_type": "markdown",
   "id": "17bcc0d7",
   "metadata": {},
   "source": [
    "I performed two main sets of feature selection as I later discuss in my MARS and Random Forest models. Below, I outlined some reasons as to why several methods of feature selection can be very beneficial for machine learning models: \n",
    "\n",
    "1. Robustness and Reliability: Using multiple feature selection techniques helps ensure the robustness and reliability of our ultimate machine learning model. Different feature selection methods have their own strengths and weaknesses, and by employing two distinct approaches, I can mitigate the limitations of each individual technique. This reduces the chances of overfitting or biased feature selection, leading to a more accurate and reliable model.\n",
    "\n",
    "2. Bias and Variance Trade-off: the models have a clear trade-off between bias and variance. Bias refers to the model's assumptions and the error introduced by those assumptions, while variance refers to the model's sensitivity to changes in the training data. By employing two different feature selection methods, I can find the balance between bias and variance. If both methods consistently select certain features as important, it increases confidence in the model's decision. On the other hand, if there are discrepancies, it indicates the need for further investigation and analysis.\n",
    "\n",
    "3. Validation of Feature Importance: Feature selection methods help identify the most relevant features for the model's predictive performance. By using two different types of feature selection, I was able to validate and cross-reference the importance of features across different techniques. If features consistently appear as important in both methods, it provides stronger evidence of their relevance. Conversely, if features are selected in one method but not the other, it signals the need for scrutiny and potential exploration of alternative feature sets.\n",
    "\n",
    "I found the extensive methods for feature selection to be very helpful in developing my models and it was necessary as our models were initially overfitting a lot and had much more RMSEs than they do now. "
   ]
  },
  {
   "cell_type": "markdown",
   "id": "d39c782c",
   "metadata": {},
   "source": [
    "# DO THIS!\n",
    "## Approach \n",
    "\n",
    "What kind of a models did you use? What performance metric(s) did you optimize and why?\n",
    "\n",
    "Is there anything unorthodox / new in your approach? \n",
    "\n",
    "What problems did you anticipate? What problems did you encounter? \n",
    "\n",
    "Did your problem already have solution(s) (posted on Kaggle or elsewhere). If yes, then how did you build upon those solutions, what did you do differently? Is your model better as compared to those solutions in terms of prediction accuracy or your chosen metric?\n",
    "\n",
    "**Important: Mention any code repositories (with citations) or other sources that you used, and specifically what changes you made to them for your project.**"
   ]
  },
  {
   "cell_type": "markdown",
   "id": "acab331a",
   "metadata": {},
   "source": [
    "## Developing the model: Hyperparameter tuning"
   ]
  },
  {
   "cell_type": "markdown",
   "id": "b78fbd0e",
   "metadata": {},
   "source": [
    "### CatBoost \n",
    "*By Yuan Zhang*"
   ]
  },
  {
   "cell_type": "markdown",
   "id": "126ef1f5",
   "metadata": {},
   "source": [
    "I used the cleaned data above and found the base CatBoost had very good performance with a train RMSE of 1199 and test RMSE of 2056. I thought it might be overfitting, so I used GridSearch to see if it could be better tuned. However, with the grid I set, the test RMSE all hovered around 2000 and 2500, while train RMSE was between 1000 and 1500 or overfitting even more with train RMSE under 1000. Therefore, I decided to use the base model as the final model.\n",
    "\n",
    "Before making the CatBoost model, I also made AdaBoost and GradBoost models, but since performance was subpar to CatBoost, I decided not to attempt tuning them and focus on CatBoost instead."
   ]
  },
  {
   "cell_type": "markdown",
   "id": "6c4bbc22",
   "metadata": {},
   "source": [
    "### MARS & Bagging MARS \n",
    "*By Hiba Khatib*"
   ]
  },
  {
   "cell_type": "markdown",
   "id": "4437ef1c",
   "metadata": {},
   "source": [
    "For my part of the analysis, I performed two sets of feature selection: one using only MARS and no manual feature selection and one using RandomForestRegressor on our EDA feature selection. I ran all of my models against both data subsets to observe the difference resulting from our manual feature selection and the MARS feature selection. This was a way for me to check if the extensive feature selection I performed was too limiting or an accurate representation of the data and also allowed me to validate my results, providing more confidence in the resulting RMSEs and R2 scores. \n",
    "\n",
    "#### MARS\n",
    "\n",
    "**For the features selected by the base MARS model:**\n",
    "\n",
    "My initial MARS model was a base MARS model which gave me my MARS selected features. This model's results:\n",
    "\n",
    "Base MARS Train RMSE: 2629.4932798721907\n",
    "\n",
    "Base MARS Train R^2 0.8076510034139939\n",
    "\n",
    "Base MARS Test RMSE: 2619.693255005516\n",
    "\n",
    "Base MARS Test R^2 0.804504645951459\n",
    "\n",
    "I tuned this MARS model's degree to get an optimal degree of 5. The tuned model's train RMSE was 2705 and its R2 was 0.796 and the test RMSE was 2680 with an R2 of 0.795. These results were slightly worse than the base MARS but this difference is only marginal and can be explained by inherent randomness and variability. This model had the least overfitting which was an initial issue we experienced. I improved the EDA and feature selection after our presentation in order to sucessfully minimize the overfitting.\n",
    "\n",
    "Then I bagged the best individual MARS model. \n",
    "\n",
    "**For the features manually selected by my feature selection:**\n",
    "\n",
    "The base MARS had a train RMSE of 2685 and a train R2 of 0.8 and a test RMSE of 2875 and a test R2 of 0.77.\n",
    "\n",
    "Tuning this MARS model gave me an optimal degree of 6 and the resulting train RMSE and R2 were 2467 and 0.829 respectively and the test RMSE and R2 were 2744 and 0.789 respectively. There appears to be some slight overfitting and worsening of the model using the optimal degree. However the difference in R2 is marginal enough to be attributed to the inherent randomness. This may not be the case however considering how much worse the test RMSE is and the difference between the test and train RMSE. \n",
    "\n",
    "\n",
    "**For the features selected by the tree based methods:**\n",
    "Base MARS train RMSE 3538.491879292508\n",
    "\n",
    "Base MARS train R^2 0.6516769607249808\n",
    "\n",
    "BASE MARS Test RMSE 3596.961825761306\n",
    "\n",
    "BASE MARS Test R^2 0.6314408357381682\n",
    "\n",
    "Upon observing these results, I did not continue using the tree based feature selection but only used my manual feature selection, which the rest of the group relied on, and the MARS feature selection. \n",
    "\n",
    "**Key takeaways**\n",
    "\n",
    "The MARS selected features model seems to outperform the model developed on our subset. There is less overfitting despite the slightly worse R^2. This makes sense because the original MARS feature selection ensured that we kept the features which best represented the data and thus it is less likely to experience over or underfitting as in our selected features. The pruning ensures that the model is performing as optimally as possible with the base parameters. \n",
    "\n",
    "It is also important to note that the performance on the model with the tuned degree is not significantly better than the performance on the base MARS model with the MARS selected features.\n",
    "\n",
    "\n",
    "#### Bagging MARS\n",
    "\n",
    "\n",
    "There is not much to note about the bagging of the MARS models. I observed the same trends in the RMSE and R2 as described for the unbagged MARS models. \n",
    "\n",
    "The key result to note is that the best RMSE and R2 results from the tuned bagging model on the best MARS model. The best RMSE is 2615.7 and the best R2 is 0.81. \n",
    "\n",
    "**Analysis of overall results** \n",
    "\n",
    "I believe that unbagged MARS models may provide better results and less overfitting than bagged MARS models due to the following reasons:\n",
    "\n",
    "1. **Simplicity of MARS models:** one advantage of MARS models is their interpretability and ability to describe non linear relationships between variables. Bagging these models can result in additional complexity which can make it harder to interpret relationships between predictors and the target variable. \n",
    "2. **Variance and Bagging:** Bagging should help in reducing the variance by taking the average predictions of multiple models. This may have led to increased variance in my case because the individual models that I am bagging may be highly correlated or similar. The unbagged models have lower variance inherently because they are not influenced by the variability of bootstrapping and sampling which results in more stable and reliable predictions. \n",
    "3. **Outliers:** MARS models are robust to outliers because they are piecewise functions. The bagging can possibly allow the outliers to have more influence and lead to overfitting."
   ]
  },
  {
   "cell_type": "markdown",
   "id": "2916849c",
   "metadata": {},
   "source": [
    "### Random forest\n",
    "*By Hiba Khatib*"
   ]
  },
  {
   "cell_type": "markdown",
   "id": "74577014",
   "metadata": {},
   "source": [
    "#### Results on MARS feature selection: \n",
    "\n",
    "The base random forest resulted in a test RMSE of 2370 and test R2 of 0.84 and a train RMSE of 937. This is one of the highest test R2 we saw in our models but there is significant overfitting to the training data as can be seen by the very large difference between the test and train RMSE with the train RMSE being significantly smaller than the test RMSE. \n",
    "\n",
    "Upon running a coarse grid search, the overfitting problem improved tremendously as I saw a a train RMSE of 2115 and a test RMSE of 2512 and R2 of 0.82. Even though the test RMSE and R2 decreased after the coarse grid, the overfitting was not a large problem anymore. \n",
    "\n",
    "A finer grid search resulted in overfitting again but the test RMSE was 2411 which is roughly the average of the base random forest test RMSE and the coarse grid test RMSE. The R2 score was also roughly the average, 0.83. The train RMSE was 1760, again due to overfitting. \n",
    "\n",
    "The two parameters that changed the most throughout tuning were max_lead_nodes and n_estimators which are really sensitive tree based model parameters. I believe these parameters influenced the overfitting. \n",
    "\n",
    "There are two possible methods for improving the model and avoiding overfitting. These include regularization and more feature randomness. Further tuning of the number of trees, max depth and the min samples to split a node would significantly reduce the overfitting as it would avoid the model's fitting to the training data too closely. This is very clear for our model because greater depth of trees led to overfitting despite giving a better test RMSE. With respect to feature randomness, overfitting of random forest can occur if the random subset of features selected by the random forest is not large enough. Random forests select a random subset of features for each tree in order to decorrelate the trees and reduce overfitting. If the random subset is not controlled properly, then the model may fail to generalize to unseen data and results in correlation between trees which is results in an overfit and inadequate model. \n",
    "\n",
    "#### Results on manual feature selection: \n",
    "\n",
    "The base random forest resulted in a test RMSE of 2320 and R2 of 0.85 and a train RMSE of 811. \n",
    "\n",
    "I observed the same trends and issues with the coarse and fine grid search as described above. The consistency of this issue indicates that further hyperparameter tuning is necessary to optimize the model RMSE and R2 without causing issues such as significant overfitting. \n",
    "\n",
    "**Overall result** \n",
    "\n",
    "The best RMSE and R^2 resulted from the fine random forest grid search using our feature selection. This is because our feature selection was done using random forest. \n",
    "\n",
    "Our best random forest RMSE and R2 are 2385.598110495618 and 0.8408281485903418 respectively. "
   ]
  },
  {
   "cell_type": "markdown",
   "id": "beda804a",
   "metadata": {},
   "source": [
    "### Decision Trees & CCP\n",
    "*by Nicole Birova*"
   ]
  },
  {
   "cell_type": "markdown",
   "id": "37f552ef",
   "metadata": {},
   "source": [
    "### XGBoost & LightGBM\n",
    "*By Emily Liebfritz*"
   ]
  },
  {
   "attachments": {},
   "cell_type": "markdown",
   "id": "ef90a5e6",
   "metadata": {},
   "source": [
    "The xgboost model was built through hyperparameter tuning. Each parameter on its own was visualized at first, to get a general range of values that might work well. Then Randomized search() was used to find the best combination of hyperparameters. This process was repeated a few times, narrowing the range of the values of each hyperparameter down. The selected parameters at the end were then used to build the model. Early stopping was added to decrease overfitting, and the model was then bagged to further decrease the rmse.\n",
    "\n",
    "The same process was repeated for LGMB regressor, although it failed to get results of the same quality as XGboost. "
   ]
  },
  {
   "cell_type": "markdown",
   "id": "be2594f1",
   "metadata": {},
   "source": [
    "## Model Ensemble "
   ]
  },
  {
   "cell_type": "markdown",
   "id": "fa68b0a5",
   "metadata": {},
   "source": [
    "# DO THIS! \n",
    "Put the results of enembling individual models. Feel free to add subsections in this section to add more innovative ensembling methods."
   ]
  },
  {
   "cell_type": "markdown",
   "id": "66c5924a",
   "metadata": {},
   "source": [
    "### Voting ensemble"
   ]
  },
  {
   "cell_type": "markdown",
   "id": "78a31cb2",
   "metadata": {},
   "source": [
    "The simplest voting ensemble will be the model where all models have equal weights.\n",
    "\n",
    "You may come up with innovative methods of estimating weights of the individual models, such as based on their cross-val error. Sometimes, these methods may work better than stacking ensembles, as stacking ensembles tend to overfit."
   ]
  },
  {
   "cell_type": "markdown",
   "id": "bcff4cda",
   "metadata": {},
   "source": [
    "### Stacking ensemble\n",
    "Try out different models as the metamodel. You may split work as follows. The person who worked on certain types of models *(say AdaBoost and MARS)* also uses those models as a metamodel in the stacking ensemble."
   ]
  },
  {
   "cell_type": "markdown",
   "id": "2b22a5f3",
   "metadata": {},
   "source": [
    "### Ensemble of ensembled models\n",
    "\n",
    "If you are creating multiple stacking ensembles *(based on different metamodels)*, you may ensemble them."
   ]
  },
  {
   "cell_type": "markdown",
   "id": "36fe5f5f",
   "metadata": {},
   "source": [
    "### Innovative ensembling methods\n",
    "*(Optional)*\n",
    "\n",
    "Some models may do better on certain subsets of the predictor space. You may find that out, and given a data point, choose the model(s) that will best predict for that data point. This is similar to the idea of developing a decision tree metamodel. However, decision tree is prone to overfitting.\n",
    "\n",
    "Another idea may be to correct the individual models with the intercept and slope *(note the tree-based models don't have an intercept and may suffer from a constant bias)*, and then ensemble them. This is equivalent to having a simple linear regression meta-model for each of the individual models, and then ensembling the meta-models with a meta-metamodel or a voting ensemble."
   ]
  },
  {
   "cell_type": "markdown",
   "id": "1b46343d",
   "metadata": {},
   "source": [
    "## Limitations of the model with regard to prediction"
   ]
  },
  {
   "cell_type": "markdown",
   "id": "c85ead90",
   "metadata": {},
   "source": [
    "# DO THIS!\n",
    "Are you confident that you found the optimal hyperparameter values for each of your individual models, and that your individual models cannot be better tuned? Or, are there any models that could be better tuned if you had more time / resources, but you are limited by the amount of time you can spend on the course project *(equivalent to one assignment)*? If yes, then which models could be better tuned and how?\n",
    "\n",
    "Will it be possible / convenient / expensive for the stakeholders to collect the data relating to the predictors in the model. Using your model, how soon will the stakeholder be able to predict the outcome before the outcome occurs. For example, if the model predicts the number of bikes people will rent in Evanston on a certain day, then how many days before that day will your model be able to make the prediction. This will depend on how soon the data that your model uses becomes available. If you are predicting election results, how many days / weeks / months / years before the election can you predict the results. \n",
    "\n",
    "When will your model become too obsolete to be useful?"
   ]
  },
  {
   "cell_type": "markdown",
   "id": "f6026cb7",
   "metadata": {},
   "source": [
    "## Other sections *(optional)*\n",
    "\n",
    "You are welcome to introduce additional sections or subsections, if required, to address any specific aspects of your project in detail. For example, you may briefly discuss potential future work that the research community could focus on to make further progress in the direction of your project's topic."
   ]
  },
  {
   "cell_type": "markdown",
   "id": "62a185cb",
   "metadata": {},
   "source": [
    "# DO THIS!\n",
    "## Conclusions and Recommendations to stakeholder(s)\n",
    "\n",
    "What conclusions do you draw based on your model? You may draw conclusions based on prediction accuracy, or other performance metrics.\n",
    "\n",
    "How do you use those conclusions to come up with meaningful recommendations for stakeholders? The recommendations must be action-items for stakeholders that they can directly implement without any further analysis. Be as precise as possible. The stakeholder(s) are depending on you to come up with practically implementable recommendations, instead of having to think for themselves.\n",
    "\n",
    "If your recommendations are not practically implementable by stakeholders, how will they help them? Is there some additional data / analysis / domain expertise you need to do to make the recommendations implementable? \n",
    "\n",
    "Do the stakeholder(s) need to be aware about some limitations of your model? Is your model only good for one-time use, or is it possible to update your model at a certain frequency (based on recent data) to keep using it in the future? If it can be used in the future, then for how far into the future?"
   ]
  },
  {
   "cell_type": "markdown",
   "id": "0ca45613",
   "metadata": {},
   "source": [
    "Add details of each team member's contribution, other than the models contributed, in the table below."
   ]
  },
  {
   "cell_type": "markdown",
   "id": "5505da5c",
   "metadata": {},
   "source": [
    "<html>\n",
    "<style>\n",
    "table, td, th {\n",
    "  border: 1px solid black;\n",
    "}\n",
    "\n",
    "table {\n",
    "  border-collapse: collapse;\n",
    "  width: 100%;\n",
    "}\n",
    "\n",
    "th {\n",
    "  text-align: left;\n",
    "}\n",
    "    \n",
    "\n",
    "</style>\n",
    "<body>\n",
    "\n",
    "<h2>Individual contribution</h2>\n",
    "\n",
    "<table style=\"width:100%\">\n",
    "     <colgroup>\n",
    "       <col span=\"1\" style=\"width: 15%;\">\n",
    "       <col span=\"1\" style=\"width: 20%;\">\n",
    "       <col span=\"1\" style=\"width: 25%;\">\n",
    "       <col span=\"1\" style=\"width: 40%;\">\n",
    "    </colgroup>\n",
    "  <tr>\n",
    "    <th>Team member</th>\n",
    "    <th>Individual Model</th>\n",
    "    <th>Work other than individual model</th>    \n",
    "    <th>Details of work other than individual model</th>\n",
    "  </tr>\n",
    "  <tr>\n",
    "    <td>Hiba Khatib</td>\n",
    "    <td>MARS, Bagging MARS, Random Forest</td>\n",
    "    <td>Data cleaning & preparation, EDA, Feature Selection</td>    \n",
    "    <td>Cleaned all numerical data, numerical data visualizations & EDA, response visualizations and transformation, feature selection and tree based models/MARS feature selection, significant parts of report</td>\n",
    "  </tr>\n",
    "  <tr>\n",
    "    <td>Emily Leibfritz</td>\n",
    "    <td>XGBoost, LightGBM, Ridge and Lasso</td>\n",
    "    <td>data cleaning & prep, EDA, categorical data prep</td>    \n",
    "    <td>Cleaned and observed categorical data trends, categorical data visualizations & EDA, XGBoost and LGBM models, Lasso/Ridge analysis.</td>\n",
    "  </tr>\n",
    "    <tr>\n",
    "    <td>Name</td>\n",
    "    <td></td>\n",
    "    <td></td>    \n",
    "    <td></td>\n",
    "  </tr>\n",
    "    <tr>\n",
    "    <td>Name</td>\n",
    "    <td></td>\n",
    "    <td></td>    \n",
    "    <td></td> \n",
    "  </tr>\n",
    "</table>"
   ]
  },
  {
   "cell_type": "markdown",
   "id": "00b1cafe",
   "metadata": {},
   "source": [
    "## References {-}"
   ]
  },
  {
   "cell_type": "markdown",
   "id": "ebdb1aad",
   "metadata": {},
   "source": [
    "List and number all bibliographical references. When referenced in the text, enclose the citation number in square brackets, for example [1].\n",
    "\n",
    "[1] Authors. The frobnicatable foo filter, 2014. Face and Gesture submission ID 324. Supplied as additional material\n",
    "fg324.pdf. 3\n"
   ]
  },
  {
   "cell_type": "markdown",
   "id": "5831751c",
   "metadata": {},
   "source": [
    "## Appendix {-}"
   ]
  },
  {
   "cell_type": "markdown",
   "id": "d13d374d",
   "metadata": {},
   "source": [
    "You may put additional stuff here as Appendix. You may refer to the Appendix in the main report to support your arguments. However, the appendix section is unlikely to be checked while grading, unless the grader deems it necessary."
   ]
  }
 ],
 "metadata": {
  "kernelspec": {
   "display_name": "Python 3 (ipykernel)",
   "language": "python",
   "name": "python3"
  },
  "language_info": {
   "codemirror_mode": {
    "name": "ipython",
    "version": 3
   },
   "file_extension": ".py",
   "mimetype": "text/x-python",
   "name": "python",
   "nbconvert_exporter": "python",
   "pygments_lexer": "ipython3",
   "version": "3.9.12"
  }
 },
 "nbformat": 4,
 "nbformat_minor": 5
}
