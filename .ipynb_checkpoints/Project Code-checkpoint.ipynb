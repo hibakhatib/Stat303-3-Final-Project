{
 "cells": [
  {
   "cell_type": "code",
   "execution_count": 28,
   "id": "e2f04a67",
   "metadata": {},
   "outputs": [],
   "source": [
    "from sklearn.linear_model import LinearRegression\n",
    "import pandas as pd\n",
    "import numpy as np \n",
    "import seaborn as sns \n",
    "import matplotlib.pyplot as plt\n",
    "from sklearn.model_selection import train_test_split, cross_val_predict, cross_val_score, GridSearchCV, ParameterGrid, KFold\n",
    "from sklearn.preprocessing import StandardScaler, PolynomialFeatures\n",
    "from sklearn.metrics import accuracy_score, mean_absolute_error, mean_squared_error, r2_score, \\\n",
    "roc_curve, auc, precision_score, recall_score, confusion_matrix\n",
    "import statsmodels.formula.api as smf\n",
    "import statsmodels.api as sm\n",
    "from patsy import dmatrix\n",
    "from pyearth import Earth\n",
    "from sklearn.tree import DecisionTreeClassifier, DecisionTreeRegressor\n",
    "from sklearn.ensemble import BaggingRegressor,BaggingClassifier,RandomForestRegressor,RandomForestClassifier\n",
    "from sklearn.neighbors import KNeighborsRegressor\n",
    "import warnings\n",
    "warnings.filterwarnings('ignore')\n",
    "from sklearn.preprocessing import LabelEncoder"
   ]
  },
  {
   "cell_type": "code",
   "execution_count": null,
   "id": "f381d269",
   "metadata": {},
   "outputs": [],
   "source": [
    "data = pd.read_csv('us_used_cars_final.csv')\n",
    "data.head()"
   ]
  },
  {
   "cell_type": "markdown",
   "id": "9b06dd30",
   "metadata": {},
   "source": [
    "EDA & Data Viz (completed by hiba)"
   ]
  },
  {
   "cell_type": "code",
   "execution_count": 29,
   "id": "af479bb6",
   "metadata": {},
   "outputs": [
    {
     "data": {
      "text/plain": [
       "object     33\n",
       "float64    11\n",
       "bool        8\n",
       "int64       5\n",
       "Name: 0, dtype: int64"
      ]
     },
     "execution_count": 29,
     "metadata": {},
     "output_type": "execute_result"
    }
   ],
   "source": [
    "# data types for all columns \n",
    "data_types = pd.DataFrame(data.dtypes)\n",
    "data_types[0].value_counts()"
   ]
  },
  {
   "cell_type": "code",
   "execution_count": 30,
   "id": "4a262867",
   "metadata": {},
   "outputs": [
    {
     "data": {
      "text/html": [
       "<div>\n",
       "<style scoped>\n",
       "    .dataframe tbody tr th:only-of-type {\n",
       "        vertical-align: middle;\n",
       "    }\n",
       "\n",
       "    .dataframe tbody tr th {\n",
       "        vertical-align: top;\n",
       "    }\n",
       "\n",
       "    .dataframe thead th {\n",
       "        text-align: right;\n",
       "    }\n",
       "</style>\n",
       "<table border=\"1\" class=\"dataframe\">\n",
       "  <thead>\n",
       "    <tr style=\"text-align: right;\">\n",
       "      <th></th>\n",
       "      <th>city_fuel_economy</th>\n",
       "      <th>daysonmarket</th>\n",
       "      <th>dealer_zip</th>\n",
       "      <th>engine_displacement</th>\n",
       "      <th>highway_fuel_economy</th>\n",
       "      <th>horsepower</th>\n",
       "      <th>latitude</th>\n",
       "      <th>listing_id</th>\n",
       "      <th>longitude</th>\n",
       "      <th>mileage</th>\n",
       "      <th>owner_count</th>\n",
       "      <th>price</th>\n",
       "      <th>savings_amount</th>\n",
       "      <th>seller_rating</th>\n",
       "      <th>sp_id</th>\n",
       "      <th>year</th>\n",
       "    </tr>\n",
       "  </thead>\n",
       "  <tbody>\n",
       "    <tr>\n",
       "      <th>count</th>\n",
       "      <td>6000.000000</td>\n",
       "      <td>6000.000000</td>\n",
       "      <td>6000.000000</td>\n",
       "      <td>6000.000000</td>\n",
       "      <td>6000.000000</td>\n",
       "      <td>6000.000000</td>\n",
       "      <td>6000.000000</td>\n",
       "      <td>6.000000e+03</td>\n",
       "      <td>6000.000000</td>\n",
       "      <td>6000.000000</td>\n",
       "      <td>6000.000000</td>\n",
       "      <td>6000.000000</td>\n",
       "      <td>6000.000000</td>\n",
       "      <td>6000.000000</td>\n",
       "      <td>6000.000000</td>\n",
       "      <td>6000.000000</td>\n",
       "    </tr>\n",
       "    <tr>\n",
       "      <th>mean</th>\n",
       "      <td>21.064333</td>\n",
       "      <td>45.114333</td>\n",
       "      <td>50305.630833</td>\n",
       "      <td>2959.166667</td>\n",
       "      <td>28.460667</td>\n",
       "      <td>249.092167</td>\n",
       "      <td>37.240227</td>\n",
       "      <td>2.779022e+08</td>\n",
       "      <td>-90.394026</td>\n",
       "      <td>45099.504500</td>\n",
       "      <td>1.317667</td>\n",
       "      <td>24568.383500</td>\n",
       "      <td>1066.323500</td>\n",
       "      <td>4.268644</td>\n",
       "      <td>209583.667000</td>\n",
       "      <td>2016.812667</td>\n",
       "    </tr>\n",
       "    <tr>\n",
       "      <th>std</th>\n",
       "      <td>4.568115</td>\n",
       "      <td>68.868636</td>\n",
       "      <td>26739.061772</td>\n",
       "      <td>1133.912224</td>\n",
       "      <td>5.460869</td>\n",
       "      <td>82.798315</td>\n",
       "      <td>4.977101</td>\n",
       "      <td>5.683748e+06</td>\n",
       "      <td>13.470080</td>\n",
       "      <td>35797.272393</td>\n",
       "      <td>0.646135</td>\n",
       "      <td>16744.392283</td>\n",
       "      <td>1045.426374</td>\n",
       "      <td>0.500819</td>\n",
       "      <td>130166.298871</td>\n",
       "      <td>2.653943</td>\n",
       "    </tr>\n",
       "    <tr>\n",
       "      <th>min</th>\n",
       "      <td>11.000000</td>\n",
       "      <td>0.000000</td>\n",
       "      <td>1020.000000</td>\n",
       "      <td>1000.000000</td>\n",
       "      <td>15.000000</td>\n",
       "      <td>78.000000</td>\n",
       "      <td>25.481300</td>\n",
       "      <td>1.622947e+08</td>\n",
       "      <td>-123.197000</td>\n",
       "      <td>10.000000</td>\n",
       "      <td>1.000000</td>\n",
       "      <td>1680.000000</td>\n",
       "      <td>0.000000</td>\n",
       "      <td>1.000000</td>\n",
       "      <td>41593.000000</td>\n",
       "      <td>1993.000000</td>\n",
       "    </tr>\n",
       "    <tr>\n",
       "      <th>25%</th>\n",
       "      <td>17.000000</td>\n",
       "      <td>13.000000</td>\n",
       "      <td>30076.000000</td>\n",
       "      <td>2000.000000</td>\n",
       "      <td>24.000000</td>\n",
       "      <td>180.000000</td>\n",
       "      <td>33.606625</td>\n",
       "      <td>2.772000e+08</td>\n",
       "      <td>-96.763100</td>\n",
       "      <td>22090.750000</td>\n",
       "      <td>1.000000</td>\n",
       "      <td>16500.000000</td>\n",
       "      <td>327.000000</td>\n",
       "      <td>4.030303</td>\n",
       "      <td>60592.000000</td>\n",
       "      <td>2016.000000</td>\n",
       "    </tr>\n",
       "    <tr>\n",
       "      <th>50%</th>\n",
       "      <td>21.000000</td>\n",
       "      <td>27.000000</td>\n",
       "      <td>48197.000000</td>\n",
       "      <td>2500.000000</td>\n",
       "      <td>28.000000</td>\n",
       "      <td>248.000000</td>\n",
       "      <td>38.410100</td>\n",
       "      <td>2.792906e+08</td>\n",
       "      <td>-87.470300</td>\n",
       "      <td>34645.000000</td>\n",
       "      <td>1.000000</td>\n",
       "      <td>21924.000000</td>\n",
       "      <td>781.000000</td>\n",
       "      <td>4.347826</td>\n",
       "      <td>276221.000000</td>\n",
       "      <td>2017.000000</td>\n",
       "    </tr>\n",
       "    <tr>\n",
       "      <th>75%</th>\n",
       "      <td>25.000000</td>\n",
       "      <td>51.000000</td>\n",
       "      <td>75237.000000</td>\n",
       "      <td>3600.000000</td>\n",
       "      <td>32.000000</td>\n",
       "      <td>295.000000</td>\n",
       "      <td>41.101500</td>\n",
       "      <td>2.806469e+08</td>\n",
       "      <td>-80.826500</td>\n",
       "      <td>56661.250000</td>\n",
       "      <td>1.000000</td>\n",
       "      <td>29995.000000</td>\n",
       "      <td>1499.250000</td>\n",
       "      <td>4.600000</td>\n",
       "      <td>307550.000000</td>\n",
       "      <td>2019.000000</td>\n",
       "    </tr>\n",
       "    <tr>\n",
       "      <th>max</th>\n",
       "      <td>70.000000</td>\n",
       "      <td>1365.000000</td>\n",
       "      <td>99362.000000</td>\n",
       "      <td>6600.000000</td>\n",
       "      <td>75.000000</td>\n",
       "      <td>707.000000</td>\n",
       "      <td>48.304300</td>\n",
       "      <td>2.819634e+08</td>\n",
       "      <td>-68.411600</td>\n",
       "      <td>294140.000000</td>\n",
       "      <td>8.000000</td>\n",
       "      <td>859000.000000</td>\n",
       "      <td>12039.000000</td>\n",
       "      <td>5.000000</td>\n",
       "      <td>440352.000000</td>\n",
       "      <td>2020.000000</td>\n",
       "    </tr>\n",
       "  </tbody>\n",
       "</table>\n",
       "</div>"
      ],
      "text/plain": [
       "       city_fuel_economy  daysonmarket    dealer_zip  engine_displacement  \\\n",
       "count        6000.000000   6000.000000   6000.000000          6000.000000   \n",
       "mean           21.064333     45.114333  50305.630833          2959.166667   \n",
       "std             4.568115     68.868636  26739.061772          1133.912224   \n",
       "min            11.000000      0.000000   1020.000000          1000.000000   \n",
       "25%            17.000000     13.000000  30076.000000          2000.000000   \n",
       "50%            21.000000     27.000000  48197.000000          2500.000000   \n",
       "75%            25.000000     51.000000  75237.000000          3600.000000   \n",
       "max            70.000000   1365.000000  99362.000000          6600.000000   \n",
       "\n",
       "       highway_fuel_economy   horsepower     latitude    listing_id  \\\n",
       "count           6000.000000  6000.000000  6000.000000  6.000000e+03   \n",
       "mean              28.460667   249.092167    37.240227  2.779022e+08   \n",
       "std                5.460869    82.798315     4.977101  5.683748e+06   \n",
       "min               15.000000    78.000000    25.481300  1.622947e+08   \n",
       "25%               24.000000   180.000000    33.606625  2.772000e+08   \n",
       "50%               28.000000   248.000000    38.410100  2.792906e+08   \n",
       "75%               32.000000   295.000000    41.101500  2.806469e+08   \n",
       "max               75.000000   707.000000    48.304300  2.819634e+08   \n",
       "\n",
       "         longitude        mileage  owner_count          price  savings_amount  \\\n",
       "count  6000.000000    6000.000000  6000.000000    6000.000000     6000.000000   \n",
       "mean    -90.394026   45099.504500     1.317667   24568.383500     1066.323500   \n",
       "std      13.470080   35797.272393     0.646135   16744.392283     1045.426374   \n",
       "min    -123.197000      10.000000     1.000000    1680.000000        0.000000   \n",
       "25%     -96.763100   22090.750000     1.000000   16500.000000      327.000000   \n",
       "50%     -87.470300   34645.000000     1.000000   21924.000000      781.000000   \n",
       "75%     -80.826500   56661.250000     1.000000   29995.000000     1499.250000   \n",
       "max     -68.411600  294140.000000     8.000000  859000.000000    12039.000000   \n",
       "\n",
       "       seller_rating          sp_id         year  \n",
       "count    6000.000000    6000.000000  6000.000000  \n",
       "mean        4.268644  209583.667000  2016.812667  \n",
       "std         0.500819  130166.298871     2.653943  \n",
       "min         1.000000   41593.000000  1993.000000  \n",
       "25%         4.030303   60592.000000  2016.000000  \n",
       "50%         4.347826  276221.000000  2017.000000  \n",
       "75%         4.600000  307550.000000  2019.000000  \n",
       "max         5.000000  440352.000000  2020.000000  "
      ]
     },
     "execution_count": 30,
     "metadata": {},
     "output_type": "execute_result"
    }
   ],
   "source": [
    "data.describe()"
   ]
  },
  {
   "cell_type": "markdown",
   "id": "175f9872",
   "metadata": {},
   "source": [
    "#### drop columns that are a unique ID\n",
    "1. vin: Type String. Vehicle Identification Number is a unique encoded string for every vehicle. \n",
    "2. listing_id: Unique Type Integer. Listing id from the website\n",
    "3. main_picture_url: Type String."
   ]
  },
  {
   "cell_type": "code",
   "execution_count": 31,
   "id": "a67dacaa",
   "metadata": {},
   "outputs": [
    {
     "data": {
      "text/plain": [
       "Index(['vin', 'back_legroom', 'body_type', 'city', 'city_fuel_economy',\n",
       "       'daysonmarket', 'dealer_zip', 'description', 'engine_cylinders',\n",
       "       'engine_displacement', 'engine_type', 'exterior_color', 'fleet',\n",
       "       'frame_damaged', 'franchise_dealer', 'franchise_make', 'front_legroom',\n",
       "       'fuel_tank_volume', 'fuel_type', 'has_accidents', 'height',\n",
       "       'highway_fuel_economy', 'horsepower', 'interior_color', 'isCab',\n",
       "       'is_new', 'latitude', 'length', 'listed_date', 'listing_color',\n",
       "       'listing_id', 'longitude', 'main_picture_url', 'major_options',\n",
       "       'make_name', 'maximum_seating', 'mileage', 'model_name', 'owner_count',\n",
       "       'power', 'price', 'salvage', 'savings_amount', 'seller_rating', 'sp_id',\n",
       "       'sp_name', 'theft_title', 'torque', 'transmission',\n",
       "       'transmission_display', 'trimId', 'trim_name', 'wheel_system',\n",
       "       'wheel_system_display', 'wheelbase', 'width', 'year'],\n",
       "      dtype='object')"
      ]
     },
     "execution_count": 31,
     "metadata": {},
     "output_type": "execute_result"
    }
   ],
   "source": [
    "data.columns"
   ]
  },
  {
   "cell_type": "code",
   "execution_count": 32,
   "id": "512c3f42",
   "metadata": {},
   "outputs": [],
   "source": [
    "data.drop(columns = ['vin', 'listing_id', 'main_picture_url', 'description'], inplace = True)"
   ]
  },
  {
   "cell_type": "code",
   "execution_count": 33,
   "id": "f5f48e53",
   "metadata": {},
   "outputs": [],
   "source": [
    "data.drop(columns = ['franchise_dealer'], inplace = True)\n",
    "# franchise dealer is all True; has no variance; removed bc its a constant feature. "
   ]
  },
  {
   "cell_type": "markdown",
   "id": "14f318cb",
   "metadata": {},
   "source": [
    "### Feature engineering\n",
    "(completed by hiba)"
   ]
  },
  {
   "cell_type": "code",
   "execution_count": null,
   "id": "ba7d4149",
   "metadata": {},
   "outputs": [],
   "source": [
    "# map \n",
    "print(data.wheel_system.unique())\n",
    "print(data.transmission.unique())"
   ]
  },
  {
   "cell_type": "code",
   "execution_count": 34,
   "id": "dfff03e9",
   "metadata": {},
   "outputs": [],
   "source": [
    "bool_cols = data.dtypes[data.dtypes == bool]"
   ]
  },
  {
   "cell_type": "code",
   "execution_count": 35,
   "id": "73e797cc",
   "metadata": {},
   "outputs": [
    {
     "data": {
      "text/plain": [
       "['fleet',\n",
       " 'frame_damaged',\n",
       " 'has_accidents',\n",
       " 'isCab',\n",
       " 'is_new',\n",
       " 'salvage',\n",
       " 'theft_title']"
      ]
     },
     "execution_count": 35,
     "metadata": {},
     "output_type": "execute_result"
    }
   ],
   "source": [
    "bool_cols = pd.DataFrame(bool_cols).reset_index()\n",
    "bool_cols = bool_cols['index']\n",
    "bool_cols = list(bool_cols)\n",
    "bool_cols"
   ]
  },
  {
   "cell_type": "code",
   "execution_count": 36,
   "id": "443d4903",
   "metadata": {},
   "outputs": [],
   "source": [
    "for col in bool_cols:\n",
    "    data[col] = data[col].map({False: 0, True: 1})"
   ]
  },
  {
   "cell_type": "code",
   "execution_count": 37,
   "id": "38a490e2",
   "metadata": {},
   "outputs": [
    {
     "data": {
      "text/plain": [
       "[None, None, None, None, None, None, None]"
      ]
     },
     "execution_count": 37,
     "metadata": {},
     "output_type": "execute_result"
    }
   ],
   "source": [
    "cols_map = []\n",
    "for c in data.columns:\n",
    "    col_len = (len(data[c].unique()))\n",
    "    if col_len <=5:\n",
    "        cols_map.append(c)\n",
    "[cols_map.remove(c) for c in bool_cols]"
   ]
  },
  {
   "cell_type": "code",
   "execution_count": 38,
   "id": "052c15fd",
   "metadata": {},
   "outputs": [
    {
     "data": {
      "text/plain": [
       "['fuel_type', 'transmission', 'wheel_system', 'wheel_system_display']"
      ]
     },
     "execution_count": 38,
     "metadata": {},
     "output_type": "execute_result"
    }
   ],
   "source": [
    "cols_map"
   ]
  },
  {
   "cell_type": "code",
   "execution_count": 39,
   "id": "a411fd62",
   "metadata": {},
   "outputs": [],
   "source": [
    "# # use label encoder\n",
    "le = LabelEncoder()\n",
    "\n",
    "encoder_dict = {key: None for key in cols_map}\n",
    "for c in cols_map:\n",
    "    encoder_dict[c] = data[c].unique()\n",
    "    col_name = str(c)+\"_cat\"\n",
    "    data[col_name] = le.fit_transform(data[c])\n",
    "    encoder_dict[col_name] = le.fit_transform(encoder_dict[c])"
   ]
  },
  {
   "cell_type": "markdown",
   "id": "9d621f90",
   "metadata": {},
   "source": [
    "### Use the encoder dictionary to create dummy data of the selected columns in the dataframe\n",
    "(completed by hiba)"
   ]
  },
  {
   "cell_type": "code",
   "execution_count": 40,
   "id": "d3f75b15",
   "metadata": {},
   "outputs": [
    {
     "data": {
      "text/plain": [
       "{'fuel_type': array(['Gasoline', 'Diesel', 'Flex Fuel Vehicle', 'Biodiesel', 'Hybrid'],\n",
       "       dtype=object),\n",
       " 'transmission': array(['A', 'CVT', 'M', 'Dual Clutch'], dtype=object),\n",
       " 'wheel_system': array(['FWD', 'AWD', 'RWD', '4WD', '4X2'], dtype=object),\n",
       " 'wheel_system_display': array(['Front-Wheel Drive', 'All-Wheel Drive', 'Rear-Wheel Drive',\n",
       "        'Four-Wheel Drive', '4X2'], dtype=object),\n",
       " 'fuel_type_cat': array([3, 1, 2, 0, 4]),\n",
       " 'transmission_cat': array([0, 1, 3, 2]),\n",
       " 'wheel_system_cat': array([3, 2, 4, 0, 1]),\n",
       " 'wheel_system_display_cat': array([3, 1, 4, 2, 0])}"
      ]
     },
     "execution_count": 40,
     "metadata": {},
     "output_type": "execute_result"
    }
   ],
   "source": [
    "encoder_dict"
   ]
  },
  {
   "cell_type": "code",
   "execution_count": 44,
   "id": "3c27b97e",
   "metadata": {},
   "outputs": [],
   "source": [
    "# back_legroom, wheelbase, width, front_legroom,, height,  length, maximum_seating, fuel_tank_volume,\n",
    "# power, torque\n",
    "\n",
    "data['back_legroom'] = data['back_legroom'].map(lambda x: x.lstrip('+-').rstrip('in'))"
   ]
  },
  {
   "cell_type": "code",
   "execution_count": 46,
   "id": "13a91ed2",
   "metadata": {},
   "outputs": [],
   "source": [
    "data['front_legroom'] = data['front_legroom'].map(lambda x: x.lstrip('+-').rstrip('in'))\n",
    "data['width'] = data['width'].map(lambda x: x.lstrip('+-').rstrip('in'))\n",
    "data['height'] = data['height'].map(lambda x: x.lstrip('+-').rstrip('in'))\n",
    "data['length'] = data['length'].map(lambda x: x.lstrip('+-').rstrip('in'))\n",
    "data['wheelbase'] = data['wheelbase'].map(lambda x: x.lstrip('+-').rstrip('in'))"
   ]
  },
  {
   "cell_type": "code",
   "execution_count": 48,
   "id": "2ced8301",
   "metadata": {},
   "outputs": [],
   "source": [
    "data['maximum_seating'] = data['maximum_seating'].map(lambda x: x.lstrip('+-').rstrip('seating'))"
   ]
  },
  {
   "cell_type": "code",
   "execution_count": 57,
   "id": "e720c121",
   "metadata": {},
   "outputs": [],
   "source": [
    "data['fuel_tank_volume'] = data['fuel_tank_volume'].map(lambda x: x.lstrip('+-').rstrip('gal'))"
   ]
  },
  {
   "cell_type": "code",
   "execution_count": 50,
   "id": "abd39143",
   "metadata": {},
   "outputs": [],
   "source": [
    "# power and torque\n",
    "data['power'] = data['power'].str[:3]\n",
    "data['torque'] = data['torque'].str[:3]"
   ]
  },
  {
   "cell_type": "code",
   "execution_count": 62,
   "id": "879a42fd",
   "metadata": {},
   "outputs": [],
   "source": [
    "data.power = pd.to_numeric(data.power)\n",
    "data.back_legroom = pd.to_numeric(data.back_legroom)\n",
    "data.front_legroom = pd.to_numeric(data.front_legroom)\n",
    "data.width = pd.to_numeric(data.width)\n",
    "data.height = pd.to_numeric(data.height)\n",
    "data.length = pd.to_numeric(data.length)\n",
    "data.wheelbase = pd.to_numeric(data.wheelbase)\n",
    "data.maximum_seating = pd.to_numeric(data.maximum_seating)\n",
    "data.fuel_tank_volume = pd.to_numeric(data.fuel_tank_volume)\n",
    "data.torque = pd.to_numeric(data.torque)"
   ]
  },
  {
   "cell_type": "code",
   "execution_count": 72,
   "id": "dd0507ba",
   "metadata": {},
   "outputs": [],
   "source": [
    "corr_table = pd.DataFrame(data.corrwith(data.price)).sort_values(by = 0, ascending = False).reset_index()"
   ]
  },
  {
   "cell_type": "code",
   "execution_count": 87,
   "id": "280e4fb9",
   "metadata": {},
   "outputs": [
    {
     "data": {
      "text/plain": [
       "['horsepower',\n",
       " 'power',\n",
       " 'torque',\n",
       " 'engine_displacement',\n",
       " 'fuel_tank_volume',\n",
       " 'wheelbase',\n",
       " 'year',\n",
       " 'length',\n",
       " 'width',\n",
       " 'savings_amount',\n",
       " 'height',\n",
       " 'wheel_system_cat',\n",
       " 'city_fuel_economy',\n",
       " 'mileage',\n",
       " 'highway_fuel_economy']"
      ]
     },
     "execution_count": 87,
     "metadata": {},
     "output_type": "execute_result"
    }
   ],
   "source": [
    "highest_corr_numerical = list(corr_table.loc[(corr_table[0] >=  0.2) | (corr_table[0] <= -0.2)]['index'])[1:]\n",
    "highest_corr_numerical"
   ]
  },
  {
   "cell_type": "markdown",
   "id": "5f40a66e",
   "metadata": {},
   "source": [
    "### Data Viz "
   ]
  },
  {
   "cell_type": "code",
   "execution_count": 116,
   "id": "f41b28b2",
   "metadata": {},
   "outputs": [
    {
     "name": "stderr",
     "output_type": "stream",
     "text": [
      "No artists with labels found to put in legend.  Note that artists whose label start with an underscore are ignored when legend() is called with no argument.\n"
     ]
    },
    {
     "data": {
      "image/png": "[encoded data removed]",
      "text/plain": [
       "<Figure size 720x432 with 1 Axes>"
      ]
     },
     "metadata": {
      "needs_background": "light"
     },
     "output_type": "display_data"
    }
   ],
   "source": [
    "### this graph is from Kaggle; I didn't write the code for it.\n",
    "data['price'] = np.log(data['price'])\n",
    "\n",
    "# plotting the distribution of the price column\n",
    "plt.figure(figsize=(10,6))\n",
    "sns.distplot(data['price'])\n",
    "plt.title('Price')\n",
    "plt.legend()\n",
    "plt.xlabel('Price')\n",
    "plt.ylabel('Frequency')\n",
    "#removing the scientific notation\n",
    "plt.ticklabel_format(style='plain', axis='x')\n",
    "plt.show()"
   ]
  },
  {
   "cell_type": "markdown",
   "id": "49848d6a",
   "metadata": {},
   "source": [
    "#### Variance w independent variable (only applicable to numerical data) (completed by Hiba)\n",
    "Use VarianceTreshold from sklearn to remove constant and quasi constant numerical predictors from the dataset"
   ]
  },
  {
   "cell_type": "code",
   "execution_count": 93,
   "id": "7ae9824d",
   "metadata": {},
   "outputs": [],
   "source": [
    "X_numerical = data.copy()\n",
    "for col in X_numerical.columns:\n",
    "    if col not in highest_corr_numerical:\n",
    "        X_numerical.drop(col, axis = 1, inplace = True)\n",
    "\n",
    "y = data.price\n",
    "\n",
    "X_train, X_test, y_train, y_test = train_test_split(X_numerical, y, test_size = 0.25, random_state = 45)"
   ]
  },
  {
   "cell_type": "code",
   "execution_count": 94,
   "id": "3b34436b",
   "metadata": {},
   "outputs": [
    {
     "name": "stdout",
     "output_type": "stream",
     "text": [
      "0 total constant predictors, with a variance of 0\n"
     ]
    }
   ],
   "source": [
    "from sklearn.feature_selection import VarianceThreshold\n",
    "sel = VarianceThreshold(threshold=0)\n",
    "sel.fit(X_numerical)\n",
    "constant_predictors = [x for x in X_numerical.columns if x not in X_numerical.columns[sel.get_support()]]\n",
    "print(len(constant_predictors), \"total constant predictors, with a variance of 0\")"
   ]
  },
  {
   "cell_type": "markdown",
   "id": "5a73944b",
   "metadata": {},
   "source": [
    "#### There are 0 constant predictors :("
   ]
  },
  {
   "cell_type": "code",
   "execution_count": 113,
   "id": "69288212",
   "metadata": {},
   "outputs": [
    {
     "data": {
      "text/plain": [
       "Index(['city_fuel_economy', 'engine_displacement', 'fuel_tank_volume',\n",
       "       'height', 'highway_fuel_economy', 'horsepower', 'length', 'mileage',\n",
       "       'power', 'savings_amount', 'torque', 'wheelbase', 'width', 'year',\n",
       "       'wheel_system_cat'],\n",
       "      dtype='object')"
      ]
     },
     "execution_count": 113,
     "metadata": {},
     "output_type": "execute_result"
    }
   ],
   "source": [
    "X_numerical.columns"
   ]
  },
  {
   "cell_type": "markdown",
   "id": "d9f920e6",
   "metadata": {},
   "source": [
    "### Data Viz (only numerical predictors) (completed by hiba)"
   ]
  },
  {
   "cell_type": "code",
   "execution_count": 130,
   "id": "8de22216",
   "metadata": {},
   "outputs": [
    {
     "data": {
      "text/plain": [
       "<BarContainer object of 6000 artists>"
      ]
     },
     "execution_count": 130,
     "metadata": {},
     "output_type": "execute_result"
    },
    {
     "data": {
      "image/png": "[encoded data removed]",
      "text/plain": [
       "<Figure size 1440x1080 with 15 Axes>"
      ]
     },
     "metadata": {
      "needs_background": "light"
     },
     "output_type": "display_data"
    }
   ],
   "source": [
    "fig, axes = plt.subplots(3,5,figsize=(20,15))\n",
    "\n",
    "plt.xticks(rotation=90, ha='right')\n",
    "axes[0][0].bar(X_numerical.city_fuel_economy, y)\n",
    "plt.xticks(rotation=90, ha='right')\n",
    "axes[0][1].bar(X_numerical.engine_displacement, y)\n",
    "axes[0][2].bar(X_numerical.fuel_tank_volume, y)\n",
    "axes[0][2].bar(X_numerical.highway_fuel_economy, y)\n",
    "axes[0][2].bar(X_numerical.height, y)\n",
    "\n",
    "axes[1][0].bar(X_numerical.horsepower, y)\n",
    "axes[1][1].bar(X_numerical.length, y)\n",
    "axes[1][2].bar(X_numerical.mileage, y)\n",
    "axes[1][3].bar(X_numerical.power, y)\n",
    "axes[1][4].bar(X_numerical.savings_amount, y)\n",
    "\n",
    "axes[2][0].bar(X_numerical.torque, y)\n",
    "axes[2][1].bar(X_numerical.wheelbase, y)\n",
    "axes[2][2].bar(X_numerical.width, y)\n",
    "axes[2][3].bar(X_numerical.year, y)\n",
    "axes[2][4].bar(X_numerical.wheel_system_cat, y)"
   ]
  }
 ],
 "metadata": {
  "kernelspec": {
   "display_name": "Python 3 (ipykernel)",
   "language": "python",
   "name": "python3"
  },
  "language_info": {
   "codemirror_mode": {
    "name": "ipython",
    "version": 3
   },
   "file_extension": ".py",
   "mimetype": "text/x-python",
   "name": "python",
   "nbconvert_exporter": "python",
   "pygments_lexer": "ipython3",
   "version": "3.9.12"
  }
 },
 "nbformat": 4,
 "nbformat_minor": 5
}
