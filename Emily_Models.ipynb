{
 "cells": [
  {
   "cell_type": "code",
   "execution_count": 24,
   "id": "7d977498",
   "metadata": {},
   "outputs": [],
   "source": [
    "from sklearn.linear_model import LinearRegression\n",
    "import pandas as pd\n",
    "import numpy as np \n",
    "import seaborn as sns \n",
    "import matplotlib.pyplot as plt\n",
    "from sklearn.model_selection import train_test_split, cross_val_predict, cross_val_score, GridSearchCV, ParameterGrid, KFold\n",
    "from sklearn.preprocessing import StandardScaler, PolynomialFeatures\n",
    "from sklearn.metrics import accuracy_score, mean_absolute_error, mean_squared_error, r2_score, \\\n",
    "roc_curve, auc, precision_score, recall_score, confusion_matrix\n",
    "import statsmodels.formula.api as smf\n",
    "import statsmodels.api as sm\n",
    "from patsy import dmatrix\n",
    "#from pyearth import Earth\n",
    "from sklearn.tree import DecisionTreeClassifier, DecisionTreeRegressor\n",
    "from sklearn.ensemble import BaggingRegressor,BaggingClassifier,RandomForestRegressor,RandomForestClassifier\n",
    "from sklearn.neighbors import KNeighborsRegressor\n",
    "import warnings\n",
    "warnings.filterwarnings('ignore')\n",
    "from sklearn.preprocessing import LabelEncoder\n",
    "import xgboost as xgb\n",
    "import time\n",
    "from sklearn.model_selection import RandomizedSearchCV"
   ]
  },
  {
   "cell_type": "code",
   "execution_count": 3,
   "id": "3cf901de",
   "metadata": {},
   "outputs": [],
   "source": [
    "X = pd.read_csv('X.csv')\n",
    "y = pd.read_csv('y.csv')"
   ]
  },
  {
   "cell_type": "code",
   "execution_count": 6,
   "id": "976ff3c5",
   "metadata": {},
   "outputs": [],
   "source": [
    "X.drop('Unnamed: 0', axis = 1, inplace = True)"
   ]
  },
  {
   "cell_type": "code",
   "execution_count": 45,
   "id": "ff316b22",
   "metadata": {},
   "outputs": [],
   "source": [
    "y.drop('Unnamed: 0', axis = 1, inplace = True)"
   ]
  },
  {
   "cell_type": "code",
   "execution_count": 46,
   "id": "c7fd1403",
   "metadata": {},
   "outputs": [],
   "source": [
    "X_train, X_test, y_train, y_test = train_test_split(X, y, test_size = 0.3, random_state = 4)"
   ]
  },
  {
   "cell_type": "markdown",
   "id": "ea0a72bf",
   "metadata": {},
   "source": [
    "# XGBoost"
   ]
  },
  {
   "cell_type": "code",
   "execution_count": 47,
   "id": "0c413c72",
   "metadata": {},
   "outputs": [
    {
     "name": "stdout",
     "output_type": "stream",
     "text": [
      "Fitting 5 folds for each of 96 candidates, totalling 480 fits\n",
      "Optimal parameter values = {'colsample_bytree': 0.8, 'gamma': 0.2, 'learning_rate': 0.09, 'max_depth': 8, 'n_estimators': 510, 'reg_lambda': 0.09, 'subsample': 0.8}\n",
      "Optimal cross validation R-squared =  0.9299728069693707\n",
      "Time taken =  9  minutes\n"
     ]
    }
   ],
   "source": [
    "start_time = time.time()\n",
    "param_grid = {'max_depth': [8],\n",
    "              'learning_rate': [0.08,0.09,0.1],\n",
    "               'reg_lambda':[0.09],\n",
    "                'n_estimators':[510,515,520,530],\n",
    "                'gamma': [0.1,0.2],\n",
    "                'subsample': [0.75,0.8],\n",
    "                'colsample_bytree': [0.75,0.8]}\n",
    "\n",
    "cv = KFold(n_splits=5,shuffle=True,random_state=4)\n",
    "optimal_params = GridSearchCV(estimator=xgb.XGBRegressor(random_state=4),                                                       \n",
    "                             param_grid = param_grid,\n",
    "                             verbose = 1,\n",
    "                             n_jobs=-1,\n",
    "                             cv = cv)\n",
    "optimal_params.fit(X_train,y_train)\n",
    "print(\"Optimal parameter values =\", optimal_params.best_params_)\n",
    "print(\"Optimal cross validation R-squared = \",optimal_params.best_score_)\n",
    "print(\"Time taken = \", round((time.time()-start_time)/60), \" minutes\")"
   ]
  },
  {
   "cell_type": "code",
   "execution_count": 49,
   "id": "ccd2cb05",
   "metadata": {},
   "outputs": [
    {
     "data": {
      "text/plain": [
       "3216.4482763272426"
      ]
     },
     "execution_count": 49,
     "metadata": {},
     "output_type": "execute_result"
    }
   ],
   "source": [
    "np.sqrt(mean_squared_error(optimal_params.best_estimator_.predict(X_test),y_test))"
   ]
  },
  {
   "cell_type": "code",
   "execution_count": 54,
   "id": "7643286a",
   "metadata": {},
   "outputs": [
    {
     "name": "stdout",
     "output_type": "stream",
     "text": [
      "[0]\tvalidation_0-rmse:24614.82874\n",
      "[1]\tvalidation_0-rmse:22450.05895\n",
      "[2]\tvalidation_0-rmse:20508.28559\n",
      "[3]\tvalidation_0-rmse:18724.28131\n",
      "[4]\tvalidation_0-rmse:17150.27620\n",
      "[5]\tvalidation_0-rmse:15703.17855\n",
      "[6]\tvalidation_0-rmse:14377.14412\n",
      "[7]\tvalidation_0-rmse:13224.10053\n",
      "[8]\tvalidation_0-rmse:12147.81539\n",
      "[9]\tvalidation_0-rmse:11164.38947\n",
      "[10]\tvalidation_0-rmse:10292.88455\n",
      "[11]\tvalidation_0-rmse:9491.89669\n",
      "[12]\tvalidation_0-rmse:8779.45939\n",
      "[13]\tvalidation_0-rmse:8137.74476\n",
      "[14]\tvalidation_0-rmse:7539.39859\n",
      "[15]\tvalidation_0-rmse:7031.85127\n",
      "[16]\tvalidation_0-rmse:6573.58257\n",
      "[17]\tvalidation_0-rmse:6155.23913\n",
      "[18]\tvalidation_0-rmse:5789.79281\n",
      "[19]\tvalidation_0-rmse:5477.38791\n",
      "[20]\tvalidation_0-rmse:5196.71140\n",
      "[21]\tvalidation_0-rmse:4942.45453\n",
      "[22]\tvalidation_0-rmse:4719.12392\n",
      "[23]\tvalidation_0-rmse:4528.70100\n",
      "[24]\tvalidation_0-rmse:4362.38316\n",
      "[25]\tvalidation_0-rmse:4214.24203\n",
      "[26]\tvalidation_0-rmse:4090.78937\n",
      "[27]\tvalidation_0-rmse:3981.43226\n",
      "[28]\tvalidation_0-rmse:3885.65513\n",
      "[29]\tvalidation_0-rmse:3796.62878\n",
      "[30]\tvalidation_0-rmse:3739.29661\n",
      "[31]\tvalidation_0-rmse:3680.09419\n",
      "[32]\tvalidation_0-rmse:3635.39276\n",
      "[33]\tvalidation_0-rmse:3586.89733\n",
      "[34]\tvalidation_0-rmse:3556.56380\n",
      "[35]\tvalidation_0-rmse:3518.62455\n",
      "[36]\tvalidation_0-rmse:3491.94304\n",
      "[37]\tvalidation_0-rmse:3471.14721\n",
      "[38]\tvalidation_0-rmse:3453.03418\n",
      "[39]\tvalidation_0-rmse:3440.71162\n",
      "[40]\tvalidation_0-rmse:3419.81946\n",
      "[41]\tvalidation_0-rmse:3404.80611\n",
      "[42]\tvalidation_0-rmse:3390.47887\n",
      "[43]\tvalidation_0-rmse:3378.93781\n",
      "[44]\tvalidation_0-rmse:3368.03377\n",
      "[45]\tvalidation_0-rmse:3364.89634\n",
      "[46]\tvalidation_0-rmse:3362.50518\n",
      "[47]\tvalidation_0-rmse:3349.16768\n",
      "[48]\tvalidation_0-rmse:3337.70259\n",
      "[49]\tvalidation_0-rmse:3322.49270\n",
      "[50]\tvalidation_0-rmse:3317.95263\n",
      "[51]\tvalidation_0-rmse:3313.46579\n",
      "[52]\tvalidation_0-rmse:3315.91849\n",
      "[53]\tvalidation_0-rmse:3307.97722\n",
      "[54]\tvalidation_0-rmse:3304.57581\n",
      "[55]\tvalidation_0-rmse:3301.68948\n",
      "[56]\tvalidation_0-rmse:3297.70437\n",
      "[57]\tvalidation_0-rmse:3293.48310\n",
      "[58]\tvalidation_0-rmse:3290.71326\n",
      "[59]\tvalidation_0-rmse:3288.16036\n",
      "[60]\tvalidation_0-rmse:3282.62230\n",
      "[61]\tvalidation_0-rmse:3282.73877\n",
      "[62]\tvalidation_0-rmse:3277.99659\n",
      "[63]\tvalidation_0-rmse:3274.05878\n",
      "[64]\tvalidation_0-rmse:3269.25522\n",
      "[65]\tvalidation_0-rmse:3269.30695\n",
      "[66]\tvalidation_0-rmse:3268.76366\n",
      "[67]\tvalidation_0-rmse:3267.23731\n",
      "[68]\tvalidation_0-rmse:3264.82035\n",
      "[69]\tvalidation_0-rmse:3265.03464\n",
      "[70]\tvalidation_0-rmse:3262.62357\n",
      "[71]\tvalidation_0-rmse:3260.19474\n",
      "[72]\tvalidation_0-rmse:3258.49508\n",
      "[73]\tvalidation_0-rmse:3256.60033\n",
      "[74]\tvalidation_0-rmse:3256.60869\n",
      "[75]\tvalidation_0-rmse:3254.51742\n",
      "[76]\tvalidation_0-rmse:3253.77063\n",
      "[77]\tvalidation_0-rmse:3251.40039\n",
      "[78]\tvalidation_0-rmse:3251.42007\n",
      "[79]\tvalidation_0-rmse:3246.05162\n",
      "[80]\tvalidation_0-rmse:3244.46255\n",
      "[81]\tvalidation_0-rmse:3243.90565\n",
      "[82]\tvalidation_0-rmse:3244.08196\n",
      "[83]\tvalidation_0-rmse:3239.64366\n",
      "[84]\tvalidation_0-rmse:3239.33809\n",
      "[85]\tvalidation_0-rmse:3239.79046\n",
      "[86]\tvalidation_0-rmse:3237.87295\n",
      "[87]\tvalidation_0-rmse:3238.58983\n",
      "[88]\tvalidation_0-rmse:3238.04631\n",
      "[89]\tvalidation_0-rmse:3239.23148\n",
      "[90]\tvalidation_0-rmse:3238.82243\n",
      "[91]\tvalidation_0-rmse:3239.80499\n",
      "[92]\tvalidation_0-rmse:3235.74530\n",
      "[93]\tvalidation_0-rmse:3235.65393\n",
      "[94]\tvalidation_0-rmse:3232.90733\n",
      "[95]\tvalidation_0-rmse:3231.26273\n",
      "[96]\tvalidation_0-rmse:3230.33573\n",
      "[97]\tvalidation_0-rmse:3229.93785\n",
      "[98]\tvalidation_0-rmse:3228.47213\n",
      "[99]\tvalidation_0-rmse:3228.60502\n",
      "[100]\tvalidation_0-rmse:3228.95379\n",
      "[101]\tvalidation_0-rmse:3229.15629\n",
      "[102]\tvalidation_0-rmse:3228.14208\n",
      "[103]\tvalidation_0-rmse:3228.79986\n",
      "[104]\tvalidation_0-rmse:3229.87966\n",
      "[105]\tvalidation_0-rmse:3226.24848\n",
      "[106]\tvalidation_0-rmse:3225.43701\n",
      "[107]\tvalidation_0-rmse:3226.12297\n",
      "[108]\tvalidation_0-rmse:3226.11097\n",
      "[109]\tvalidation_0-rmse:3223.56209\n",
      "[110]\tvalidation_0-rmse:3222.08402\n",
      "[111]\tvalidation_0-rmse:3222.92724\n",
      "[112]\tvalidation_0-rmse:3223.00828\n",
      "[113]\tvalidation_0-rmse:3220.97450\n",
      "[114]\tvalidation_0-rmse:3221.89488\n",
      "[115]\tvalidation_0-rmse:3219.81571\n",
      "[116]\tvalidation_0-rmse:3219.20276\n",
      "[117]\tvalidation_0-rmse:3217.70309\n",
      "[118]\tvalidation_0-rmse:3217.47543\n",
      "[119]\tvalidation_0-rmse:3217.42671\n",
      "[120]\tvalidation_0-rmse:3217.64361\n",
      "[121]\tvalidation_0-rmse:3218.62520\n",
      "[122]\tvalidation_0-rmse:3218.26083\n",
      "[123]\tvalidation_0-rmse:3217.11930\n",
      "[124]\tvalidation_0-rmse:3215.66898\n",
      "[125]\tvalidation_0-rmse:3215.25864\n",
      "[126]\tvalidation_0-rmse:3215.87839\n",
      "[127]\tvalidation_0-rmse:3216.14757\n",
      "[128]\tvalidation_0-rmse:3216.14912\n",
      "[129]\tvalidation_0-rmse:3216.37965\n",
      "[130]\tvalidation_0-rmse:3218.16312\n",
      "[131]\tvalidation_0-rmse:3218.59458\n",
      "[132]\tvalidation_0-rmse:3218.64666\n",
      "[133]\tvalidation_0-rmse:3218.70031\n",
      "[134]\tvalidation_0-rmse:3217.19465\n"
     ]
    },
    {
     "data": {
      "text/plain": [
       "XGBRegressor(base_score=None, booster=None, callbacks=None,\n",
       "             colsample_bylevel=None, colsample_bynode=None,\n",
       "             colsample_bytree=0.8, early_stopping_rounds=None,\n",
       "             enable_categorical=False, eval_metric=None, feature_types=None,\n",
       "             gamma=0.2, gpu_id=None, grow_policy=None, importance_type=None,\n",
       "             interaction_constraints=None, learning_rate=0.09, max_bin=None,\n",
       "             max_cat_threshold=None, max_cat_to_onehot=None,\n",
       "             max_delta_step=None, max_depth=8, max_leaves=None,\n",
       "             min_child_weight=None, missing=nan, monotone_constraints=None,\n",
       "             n_estimators=510, n_jobs=None, num_parallel_tree=None,\n",
       "             predictor=None, random_state=4, ...)"
      ]
     },
     "execution_count": 54,
     "metadata": {},
     "output_type": "execute_result"
    }
   ],
   "source": [
    "XGBoost_model = xgb.XGBRegressor(random_state = 4, colsample_bytree =0.8, gamma = 0.2, learning_rate = 0.09, \n",
    "                                 max_depth = 8, n_estimators = 510, reg_lambda = 0.09, subsample = 0.8)\n",
    "XGBoost_model.fit(X_train,y_train,eval_set = ([(X_test, y_test)]), early_stopping_rounds = 10)"
   ]
  },
  {
   "cell_type": "code",
   "execution_count": 55,
   "id": "cce2f9f8",
   "metadata": {},
   "outputs": [
    {
     "data": {
      "text/plain": [
       "3215.2586419292516"
      ]
     },
     "execution_count": 55,
     "metadata": {},
     "output_type": "execute_result"
    }
   ],
   "source": [
    "np.sqrt(mean_squared_error(XGBoost_model.predict(X_test),y_test))"
   ]
  },
  {
   "cell_type": "code",
   "execution_count": 68,
   "id": "3cc0d591",
   "metadata": {},
   "outputs": [],
   "source": [
    "XGB_bagged = BaggingRegressor(base_estimator=XGBoost_model, \n",
    "                             n_estimators=20,\n",
    "                             bootstrap=False,\n",
    "                            random_state=4,\n",
    "                            n_jobs = -1).fit(X_train, y_train)"
   ]
  },
  {
   "cell_type": "code",
   "execution_count": 70,
   "id": "bfbd06cf",
   "metadata": {},
   "outputs": [
    {
     "data": {
      "text/plain": [
       "3084.8782042684575"
      ]
     },
     "execution_count": 70,
     "metadata": {},
     "output_type": "execute_result"
    }
   ],
   "source": [
    "np.sqrt(mean_squared_error(XGB_bagged.predict(X_test),y_test))"
   ]
  },
  {
   "cell_type": "markdown",
   "id": "4a13f219",
   "metadata": {},
   "source": [
    "# LGBM"
   ]
  },
  {
   "cell_type": "code",
   "execution_count": 40,
   "id": "73effd29",
   "metadata": {},
   "outputs": [],
   "source": [
    "from lightgbm import LGBMRegressor"
   ]
  },
  {
   "cell_type": "code",
   "execution_count": 57,
   "id": "cf3c9f1f",
   "metadata": {},
   "outputs": [],
   "source": [
    "LGMB_model=LGBMRegressor(random_state=4).fit(X_train,y_train)"
   ]
  },
  {
   "cell_type": "code",
   "execution_count": 59,
   "id": "5b047a6e",
   "metadata": {},
   "outputs": [
    {
     "data": {
      "text/plain": [
       "4334.862011666212"
      ]
     },
     "execution_count": 59,
     "metadata": {},
     "output_type": "execute_result"
    }
   ],
   "source": [
    "np.sqrt(mean_squared_error(LGMB_model.predict(X_test),y_test))"
   ]
  },
  {
   "cell_type": "code",
   "execution_count": 77,
   "id": "ea21bde7",
   "metadata": {},
   "outputs": [
    {
     "name": "stdout",
     "output_type": "stream",
     "text": [
      "Fitting 5 folds for each of 200 candidates, totalling 1000 fits\n",
      "Optimal parameter values = {'subsample': 0.7, 'reg_lambda': 4, 'reg_alpha': 5, 'num_leaves': 60, 'n_estimators': 1300, 'max_depth': 5, 'learning_rate': 0.15, 'colsample_bytree': 0.7}\n",
      "Optimal cross validation R-squared =  0.8902672209757044\n",
      "Time taken =  5  minutes\n"
     ]
    }
   ],
   "source": [
    "#K-fold cross validation to find optimal parameters for LightGBM regressor\n",
    "start_time = time.time()\n",
    "param_grid = {'max_depth': [4,5,6,7,8],\n",
    "              'num_leaves': [50,60,70,80,90,100,110,120,130,170,200],\n",
    "              'learning_rate': [0.05, 0.07,0.09,0.1,0.12,0.15],\n",
    "               'reg_lambda':[4,5,6,7,8,9,10],\n",
    "                'n_estimators':[800,900,1000,1100,1200,1300,1400,1500],\n",
    "                'reg_alpha': [1,2,3,4,5,6,7,8,9,10],\n",
    "                'subsample': [0.70, 0.75,0.8],\n",
    "                'colsample_bytree': [0.70,0.75,0.8, 0.9]}\n",
    "\n",
    "cv = KFold(n_splits=5,shuffle=True,random_state=1)\n",
    "optimal_params = RandomizedSearchCV(estimator=LGBMRegressor(random_state=1),                                                       \n",
    "                             param_distributions = param_grid, n_iter = 200,\n",
    "                             verbose = 1,\n",
    "                             n_jobs=-1,\n",
    "                             cv = cv)\n",
    "optimal_params.fit(X_train,y_train)\n",
    "print(\"Optimal parameter values =\", optimal_params.best_params_)\n",
    "print(\"Optimal cross validation R-squared = \",optimal_params.best_score_)\n",
    "print(\"Time taken = \", round((time.time()-start_time)/60), \" minutes\")"
   ]
  },
  {
   "cell_type": "code",
   "execution_count": 78,
   "id": "44a3a4dc",
   "metadata": {},
   "outputs": [
    {
     "data": {
      "text/plain": [
       "4651.048843648547"
      ]
     },
     "execution_count": 78,
     "metadata": {},
     "output_type": "execute_result"
    }
   ],
   "source": [
    "np.sqrt(mean_squared_error(optimal_params.best_estimator_.predict(X_test),y_test))"
   ]
  },
  {
   "cell_type": "code",
   "execution_count": 79,
   "id": "ae711d43",
   "metadata": {},
   "outputs": [],
   "source": [
    "LGBM_bagged = BaggingRegressor(base_estimator=optimal_params.best_estimator_, \n",
    "                             n_estimators=20,\n",
    "                             bootstrap=False,\n",
    "                            random_state=4,\n",
    "                            n_jobs = -1).fit(X_train, y_train)"
   ]
  },
  {
   "cell_type": "code",
   "execution_count": 80,
   "id": "4aa366be",
   "metadata": {},
   "outputs": [
    {
     "data": {
      "text/plain": [
       "4580.182816361993"
      ]
     },
     "execution_count": 80,
     "metadata": {},
     "output_type": "execute_result"
    }
   ],
   "source": [
    "np.sqrt(mean_squared_error(LGBM_bagged.predict(X_test),y_test))"
   ]
  }
 ],
 "metadata": {
  "kernelspec": {
   "display_name": "Python 3 (ipykernel)",
   "language": "python",
   "name": "python3"
  },
  "language_info": {
   "codemirror_mode": {
    "name": "ipython",
    "version": 3
   },
   "file_extension": ".py",
   "mimetype": "text/x-python",
   "name": "python",
   "nbconvert_exporter": "python",
   "pygments_lexer": "ipython3",
   "version": "3.9.12"
  }
 },
 "nbformat": 4,
 "nbformat_minor": 5
}
