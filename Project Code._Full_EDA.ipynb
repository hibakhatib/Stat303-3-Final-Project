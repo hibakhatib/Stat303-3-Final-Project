{
 "cells": [
  {
   "cell_type": "code",
   "execution_count": 1,
   "id": "e2f04a67",
   "metadata": {},
   "outputs": [],
   "source": [
    "from sklearn.linear_model import LinearRegression\n",
    "import pandas as pd\n",
    "import numpy as np \n",
    "import seaborn as sns \n",
    "import matplotlib.pyplot as plt\n",
    "from sklearn.model_selection import train_test_split, cross_val_predict, cross_val_score, GridSearchCV, ParameterGrid, KFold\n",
    "from sklearn.preprocessing import StandardScaler, PolynomialFeatures\n",
    "from sklearn.metrics import accuracy_score, mean_absolute_error, mean_squared_error, r2_score, \\\n",
    "roc_curve, auc, precision_score, recall_score, confusion_matrix\n",
    "import statsmodels.formula.api as smf\n",
    "import statsmodels.api as sm\n",
    "from patsy import dmatrix\n",
    "from pyearth import Earth\n",
    "from sklearn.tree import DecisionTreeClassifier, DecisionTreeRegressor\n",
    "from sklearn.ensemble import BaggingRegressor,BaggingClassifier,RandomForestRegressor,RandomForestClassifier\n",
    "from sklearn.neighbors import KNeighborsRegressor\n",
    "import warnings\n",
    "warnings.filterwarnings('ignore')\n",
    "from sklearn.preprocessing import LabelEncoder"
   ]
  },
  {
   "cell_type": "code",
   "execution_count": 2,
   "id": "f381d269",
   "metadata": {},
   "outputs": [
    {
     "data": {
      "text/html": [
       "<div>\n",
       "<style scoped>\n",
       "    .dataframe tbody tr th:only-of-type {\n",
       "        vertical-align: middle;\n",
       "    }\n",
       "\n",
       "    .dataframe tbody tr th {\n",
       "        vertical-align: top;\n",
       "    }\n",
       "\n",
       "    .dataframe thead th {\n",
       "        text-align: right;\n",
       "    }\n",
       "</style>\n",
       "<table border=\"1\" class=\"dataframe\">\n",
       "  <thead>\n",
       "    <tr style=\"text-align: right;\">\n",
       "      <th></th>\n",
       "      <th>vin</th>\n",
       "      <th>back_legroom</th>\n",
       "      <th>body_type</th>\n",
       "      <th>city</th>\n",
       "      <th>city_fuel_economy</th>\n",
       "      <th>daysonmarket</th>\n",
       "      <th>dealer_zip</th>\n",
       "      <th>description</th>\n",
       "      <th>engine_cylinders</th>\n",
       "      <th>engine_displacement</th>\n",
       "      <th>...</th>\n",
       "      <th>torque</th>\n",
       "      <th>transmission</th>\n",
       "      <th>transmission_display</th>\n",
       "      <th>trimId</th>\n",
       "      <th>trim_name</th>\n",
       "      <th>wheel_system</th>\n",
       "      <th>wheel_system_display</th>\n",
       "      <th>wheelbase</th>\n",
       "      <th>width</th>\n",
       "      <th>year</th>\n",
       "    </tr>\n",
       "  </thead>\n",
       "  <tbody>\n",
       "    <tr>\n",
       "      <th>0</th>\n",
       "      <td>5LMCJ2C97HUL71203</td>\n",
       "      <td>36.8 in</td>\n",
       "      <td>SUV / Crossover</td>\n",
       "      <td>Devine</td>\n",
       "      <td>21.0</td>\n",
       "      <td>40</td>\n",
       "      <td>78016</td>\n",
       "      <td>*We have 19 sources of financing and second ch...</td>\n",
       "      <td>I4</td>\n",
       "      <td>2000.0</td>\n",
       "      <td>...</td>\n",
       "      <td>270 lb-ft @ 3,000 RPM</td>\n",
       "      <td>A</td>\n",
       "      <td>Automatic</td>\n",
       "      <td>t66989</td>\n",
       "      <td>Select FWD</td>\n",
       "      <td>FWD</td>\n",
       "      <td>Front-Wheel Drive</td>\n",
       "      <td>105.9 in</td>\n",
       "      <td>84.1 in</td>\n",
       "      <td>2017</td>\n",
       "    </tr>\n",
       "    <tr>\n",
       "      <th>1</th>\n",
       "      <td>1FM5K8D87HGE07214</td>\n",
       "      <td>39.5 in</td>\n",
       "      <td>SUV / Crossover</td>\n",
       "      <td>Buffalo</td>\n",
       "      <td>16.0</td>\n",
       "      <td>9</td>\n",
       "      <td>55313</td>\n",
       "      <td>We are open for business.    Purchase your nex...</td>\n",
       "      <td>V6</td>\n",
       "      <td>3500.0</td>\n",
       "      <td>...</td>\n",
       "      <td>255 lb-ft @ 4,000 RPM</td>\n",
       "      <td>A</td>\n",
       "      <td>6-Speed Automatic</td>\n",
       "      <td>t67141</td>\n",
       "      <td>XLT AWD</td>\n",
       "      <td>AWD</td>\n",
       "      <td>All-Wheel Drive</td>\n",
       "      <td>112.8 in</td>\n",
       "      <td>90.2 in</td>\n",
       "      <td>2017</td>\n",
       "    </tr>\n",
       "    <tr>\n",
       "      <th>2</th>\n",
       "      <td>1FMCU0GX6FUA14602</td>\n",
       "      <td>36.8 in</td>\n",
       "      <td>SUV / Crossover</td>\n",
       "      <td>Murfreesboro</td>\n",
       "      <td>23.0</td>\n",
       "      <td>30</td>\n",
       "      <td>37129</td>\n",
       "      <td>CARFAX One-Owner.THIS VEHICLE HAS GONE THROUGH...</td>\n",
       "      <td>I4</td>\n",
       "      <td>2500.0</td>\n",
       "      <td>...</td>\n",
       "      <td>170 lb-ft @ 4,500 RPM</td>\n",
       "      <td>A</td>\n",
       "      <td>Automatic</td>\n",
       "      <td>t55391</td>\n",
       "      <td>SE FWD</td>\n",
       "      <td>FWD</td>\n",
       "      <td>Front-Wheel Drive</td>\n",
       "      <td>105.9 in</td>\n",
       "      <td>81.8 in</td>\n",
       "      <td>2015</td>\n",
       "    </tr>\n",
       "    <tr>\n",
       "      <th>3</th>\n",
       "      <td>WBA4W7C56JAB87837</td>\n",
       "      <td>33.7 in</td>\n",
       "      <td>Coupe</td>\n",
       "      <td>San Rafael</td>\n",
       "      <td>21.0</td>\n",
       "      <td>45</td>\n",
       "      <td>94901</td>\n",
       "      <td>FUEL EFFICIENT 32 MPG Hwy/21 MPG City! CARFAX ...</td>\n",
       "      <td>I6</td>\n",
       "      <td>3000.0</td>\n",
       "      <td>...</td>\n",
       "      <td>330 lb-ft @ 1,380 RPM</td>\n",
       "      <td>A</td>\n",
       "      <td>8-Speed Automatic</td>\n",
       "      <td>t73244</td>\n",
       "      <td>440i Coupe RWD</td>\n",
       "      <td>RWD</td>\n",
       "      <td>Rear-Wheel Drive</td>\n",
       "      <td>110.6 in</td>\n",
       "      <td>79.4 in</td>\n",
       "      <td>2018</td>\n",
       "    </tr>\n",
       "    <tr>\n",
       "      <th>4</th>\n",
       "      <td>SADCL2GX4KA397815</td>\n",
       "      <td>37.2 in</td>\n",
       "      <td>SUV / Crossover</td>\n",
       "      <td>Glen Cove</td>\n",
       "      <td>22.0</td>\n",
       "      <td>319</td>\n",
       "      <td>11542</td>\n",
       "      <td>Santorini Black 2019 Jaguar F-PACE 30t R-Sport...</td>\n",
       "      <td>I4</td>\n",
       "      <td>2000.0</td>\n",
       "      <td>...</td>\n",
       "      <td>295 lb-ft @ 1,500 RPM</td>\n",
       "      <td>A</td>\n",
       "      <td>8-Speed Automatic</td>\n",
       "      <td>t83299</td>\n",
       "      <td>30t R-Sport AWD</td>\n",
       "      <td>AWD</td>\n",
       "      <td>All-Wheel Drive</td>\n",
       "      <td>113.1 in</td>\n",
       "      <td>85.6 in</td>\n",
       "      <td>2019</td>\n",
       "    </tr>\n",
       "  </tbody>\n",
       "</table>\n",
       "<p>5 rows × 57 columns</p>\n",
       "</div>"
      ],
      "text/plain": [
       "                 vin back_legroom        body_type          city  \\\n",
       "0  5LMCJ2C97HUL71203      36.8 in  SUV / Crossover        Devine   \n",
       "1  1FM5K8D87HGE07214      39.5 in  SUV / Crossover       Buffalo   \n",
       "2  1FMCU0GX6FUA14602      36.8 in  SUV / Crossover  Murfreesboro   \n",
       "3  WBA4W7C56JAB87837      33.7 in            Coupe    San Rafael   \n",
       "4  SADCL2GX4KA397815      37.2 in  SUV / Crossover     Glen Cove   \n",
       "\n",
       "   city_fuel_economy  daysonmarket  dealer_zip  \\\n",
       "0               21.0            40       78016   \n",
       "1               16.0             9       55313   \n",
       "2               23.0            30       37129   \n",
       "3               21.0            45       94901   \n",
       "4               22.0           319       11542   \n",
       "\n",
       "                                         description engine_cylinders  \\\n",
       "0  *We have 19 sources of financing and second ch...               I4   \n",
       "1  We are open for business.    Purchase your nex...               V6   \n",
       "2  CARFAX One-Owner.THIS VEHICLE HAS GONE THROUGH...               I4   \n",
       "3  FUEL EFFICIENT 32 MPG Hwy/21 MPG City! CARFAX ...               I6   \n",
       "4  Santorini Black 2019 Jaguar F-PACE 30t R-Sport...               I4   \n",
       "\n",
       "   engine_displacement  ...                 torque transmission  \\\n",
       "0               2000.0  ...  270 lb-ft @ 3,000 RPM            A   \n",
       "1               3500.0  ...  255 lb-ft @ 4,000 RPM            A   \n",
       "2               2500.0  ...  170 lb-ft @ 4,500 RPM            A   \n",
       "3               3000.0  ...  330 lb-ft @ 1,380 RPM            A   \n",
       "4               2000.0  ...  295 lb-ft @ 1,500 RPM            A   \n",
       "\n",
       "   transmission_display  trimId        trim_name wheel_system  \\\n",
       "0             Automatic  t66989       Select FWD          FWD   \n",
       "1     6-Speed Automatic  t67141          XLT AWD          AWD   \n",
       "2             Automatic  t55391           SE FWD          FWD   \n",
       "3     8-Speed Automatic  t73244   440i Coupe RWD          RWD   \n",
       "4     8-Speed Automatic  t83299  30t R-Sport AWD          AWD   \n",
       "\n",
       "  wheel_system_display wheelbase    width  year  \n",
       "0    Front-Wheel Drive  105.9 in  84.1 in  2017  \n",
       "1      All-Wheel Drive  112.8 in  90.2 in  2017  \n",
       "2    Front-Wheel Drive  105.9 in  81.8 in  2015  \n",
       "3     Rear-Wheel Drive  110.6 in  79.4 in  2018  \n",
       "4      All-Wheel Drive  113.1 in  85.6 in  2019  \n",
       "\n",
       "[5 rows x 57 columns]"
      ]
     },
     "execution_count": 2,
     "metadata": {},
     "output_type": "execute_result"
    }
   ],
   "source": [
    "data = pd.read_csv('us_used_cars_final.csv')\n",
    "data.head()"
   ]
  },
  {
   "attachments": {},
   "cell_type": "markdown",
   "id": "9b06dd30",
   "metadata": {},
   "source": [
    "EDA & Data Viz (completed by hiba)"
   ]
  },
  {
   "cell_type": "code",
   "execution_count": 3,
   "id": "af479bb6",
   "metadata": {},
   "outputs": [
    {
     "data": {
      "text/plain": [
       "object     33\n",
       "float64    11\n",
       "bool        8\n",
       "int64       5\n",
       "Name: 0, dtype: int64"
      ]
     },
     "execution_count": 3,
     "metadata": {},
     "output_type": "execute_result"
    }
   ],
   "source": [
    "# data types for all columns \n",
    "data_types = pd.DataFrame(data.dtypes)\n",
    "data_types[0].value_counts()"
   ]
  },
  {
   "cell_type": "code",
   "execution_count": 4,
   "id": "4a262867",
   "metadata": {},
   "outputs": [
    {
     "data": {
      "text/html": [
       "<div>\n",
       "<style scoped>\n",
       "    .dataframe tbody tr th:only-of-type {\n",
       "        vertical-align: middle;\n",
       "    }\n",
       "\n",
       "    .dataframe tbody tr th {\n",
       "        vertical-align: top;\n",
       "    }\n",
       "\n",
       "    .dataframe thead th {\n",
       "        text-align: right;\n",
       "    }\n",
       "</style>\n",
       "<table border=\"1\" class=\"dataframe\">\n",
       "  <thead>\n",
       "    <tr style=\"text-align: right;\">\n",
       "      <th></th>\n",
       "      <th>city_fuel_economy</th>\n",
       "      <th>daysonmarket</th>\n",
       "      <th>dealer_zip</th>\n",
       "      <th>engine_displacement</th>\n",
       "      <th>highway_fuel_economy</th>\n",
       "      <th>horsepower</th>\n",
       "      <th>latitude</th>\n",
       "      <th>listing_id</th>\n",
       "      <th>longitude</th>\n",
       "      <th>mileage</th>\n",
       "      <th>owner_count</th>\n",
       "      <th>price</th>\n",
       "      <th>savings_amount</th>\n",
       "      <th>seller_rating</th>\n",
       "      <th>sp_id</th>\n",
       "      <th>year</th>\n",
       "    </tr>\n",
       "  </thead>\n",
       "  <tbody>\n",
       "    <tr>\n",
       "      <th>count</th>\n",
       "      <td>6000.000000</td>\n",
       "      <td>6000.000000</td>\n",
       "      <td>6000.000000</td>\n",
       "      <td>6000.000000</td>\n",
       "      <td>6000.000000</td>\n",
       "      <td>6000.000000</td>\n",
       "      <td>6000.000000</td>\n",
       "      <td>6.000000e+03</td>\n",
       "      <td>6000.000000</td>\n",
       "      <td>6000.000000</td>\n",
       "      <td>6000.000000</td>\n",
       "      <td>6000.000000</td>\n",
       "      <td>6000.000000</td>\n",
       "      <td>6000.000000</td>\n",
       "      <td>6000.000000</td>\n",
       "      <td>6000.000000</td>\n",
       "    </tr>\n",
       "    <tr>\n",
       "      <th>mean</th>\n",
       "      <td>21.064333</td>\n",
       "      <td>45.114333</td>\n",
       "      <td>50305.630833</td>\n",
       "      <td>2959.166667</td>\n",
       "      <td>28.460667</td>\n",
       "      <td>249.092167</td>\n",
       "      <td>37.240227</td>\n",
       "      <td>2.779022e+08</td>\n",
       "      <td>-90.394026</td>\n",
       "      <td>45099.504500</td>\n",
       "      <td>1.317667</td>\n",
       "      <td>24568.383500</td>\n",
       "      <td>1066.323500</td>\n",
       "      <td>4.268644</td>\n",
       "      <td>209583.667000</td>\n",
       "      <td>2016.812667</td>\n",
       "    </tr>\n",
       "    <tr>\n",
       "      <th>std</th>\n",
       "      <td>4.568115</td>\n",
       "      <td>68.868636</td>\n",
       "      <td>26739.061772</td>\n",
       "      <td>1133.912224</td>\n",
       "      <td>5.460869</td>\n",
       "      <td>82.798315</td>\n",
       "      <td>4.977101</td>\n",
       "      <td>5.683748e+06</td>\n",
       "      <td>13.470080</td>\n",
       "      <td>35797.272393</td>\n",
       "      <td>0.646135</td>\n",
       "      <td>16744.392283</td>\n",
       "      <td>1045.426374</td>\n",
       "      <td>0.500819</td>\n",
       "      <td>130166.298871</td>\n",
       "      <td>2.653943</td>\n",
       "    </tr>\n",
       "    <tr>\n",
       "      <th>min</th>\n",
       "      <td>11.000000</td>\n",
       "      <td>0.000000</td>\n",
       "      <td>1020.000000</td>\n",
       "      <td>1000.000000</td>\n",
       "      <td>15.000000</td>\n",
       "      <td>78.000000</td>\n",
       "      <td>25.481300</td>\n",
       "      <td>1.622947e+08</td>\n",
       "      <td>-123.197000</td>\n",
       "      <td>10.000000</td>\n",
       "      <td>1.000000</td>\n",
       "      <td>1680.000000</td>\n",
       "      <td>0.000000</td>\n",
       "      <td>1.000000</td>\n",
       "      <td>41593.000000</td>\n",
       "      <td>1993.000000</td>\n",
       "    </tr>\n",
       "    <tr>\n",
       "      <th>25%</th>\n",
       "      <td>17.000000</td>\n",
       "      <td>13.000000</td>\n",
       "      <td>30076.000000</td>\n",
       "      <td>2000.000000</td>\n",
       "      <td>24.000000</td>\n",
       "      <td>180.000000</td>\n",
       "      <td>33.606625</td>\n",
       "      <td>2.772000e+08</td>\n",
       "      <td>-96.763100</td>\n",
       "      <td>22090.750000</td>\n",
       "      <td>1.000000</td>\n",
       "      <td>16500.000000</td>\n",
       "      <td>327.000000</td>\n",
       "      <td>4.030303</td>\n",
       "      <td>60592.000000</td>\n",
       "      <td>2016.000000</td>\n",
       "    </tr>\n",
       "    <tr>\n",
       "      <th>50%</th>\n",
       "      <td>21.000000</td>\n",
       "      <td>27.000000</td>\n",
       "      <td>48197.000000</td>\n",
       "      <td>2500.000000</td>\n",
       "      <td>28.000000</td>\n",
       "      <td>248.000000</td>\n",
       "      <td>38.410100</td>\n",
       "      <td>2.792906e+08</td>\n",
       "      <td>-87.470300</td>\n",
       "      <td>34645.000000</td>\n",
       "      <td>1.000000</td>\n",
       "      <td>21924.000000</td>\n",
       "      <td>781.000000</td>\n",
       "      <td>4.347826</td>\n",
       "      <td>276221.000000</td>\n",
       "      <td>2017.000000</td>\n",
       "    </tr>\n",
       "    <tr>\n",
       "      <th>75%</th>\n",
       "      <td>25.000000</td>\n",
       "      <td>51.000000</td>\n",
       "      <td>75237.000000</td>\n",
       "      <td>3600.000000</td>\n",
       "      <td>32.000000</td>\n",
       "      <td>295.000000</td>\n",
       "      <td>41.101500</td>\n",
       "      <td>2.806469e+08</td>\n",
       "      <td>-80.826500</td>\n",
       "      <td>56661.250000</td>\n",
       "      <td>1.000000</td>\n",
       "      <td>29995.000000</td>\n",
       "      <td>1499.250000</td>\n",
       "      <td>4.600000</td>\n",
       "      <td>307550.000000</td>\n",
       "      <td>2019.000000</td>\n",
       "    </tr>\n",
       "    <tr>\n",
       "      <th>max</th>\n",
       "      <td>70.000000</td>\n",
       "      <td>1365.000000</td>\n",
       "      <td>99362.000000</td>\n",
       "      <td>6600.000000</td>\n",
       "      <td>75.000000</td>\n",
       "      <td>707.000000</td>\n",
       "      <td>48.304300</td>\n",
       "      <td>2.819634e+08</td>\n",
       "      <td>-68.411600</td>\n",
       "      <td>294140.000000</td>\n",
       "      <td>8.000000</td>\n",
       "      <td>859000.000000</td>\n",
       "      <td>12039.000000</td>\n",
       "      <td>5.000000</td>\n",
       "      <td>440352.000000</td>\n",
       "      <td>2020.000000</td>\n",
       "    </tr>\n",
       "  </tbody>\n",
       "</table>\n",
       "</div>"
      ],
      "text/plain": [
       "       city_fuel_economy  daysonmarket    dealer_zip  engine_displacement  \\\n",
       "count        6000.000000   6000.000000   6000.000000          6000.000000   \n",
       "mean           21.064333     45.114333  50305.630833          2959.166667   \n",
       "std             4.568115     68.868636  26739.061772          1133.912224   \n",
       "min            11.000000      0.000000   1020.000000          1000.000000   \n",
       "25%            17.000000     13.000000  30076.000000          2000.000000   \n",
       "50%            21.000000     27.000000  48197.000000          2500.000000   \n",
       "75%            25.000000     51.000000  75237.000000          3600.000000   \n",
       "max            70.000000   1365.000000  99362.000000          6600.000000   \n",
       "\n",
       "       highway_fuel_economy   horsepower     latitude    listing_id  \\\n",
       "count           6000.000000  6000.000000  6000.000000  6.000000e+03   \n",
       "mean              28.460667   249.092167    37.240227  2.779022e+08   \n",
       "std                5.460869    82.798315     4.977101  5.683748e+06   \n",
       "min               15.000000    78.000000    25.481300  1.622947e+08   \n",
       "25%               24.000000   180.000000    33.606625  2.772000e+08   \n",
       "50%               28.000000   248.000000    38.410100  2.792906e+08   \n",
       "75%               32.000000   295.000000    41.101500  2.806469e+08   \n",
       "max               75.000000   707.000000    48.304300  2.819634e+08   \n",
       "\n",
       "         longitude        mileage  owner_count          price  savings_amount  \\\n",
       "count  6000.000000    6000.000000  6000.000000    6000.000000     6000.000000   \n",
       "mean    -90.394026   45099.504500     1.317667   24568.383500     1066.323500   \n",
       "std      13.470080   35797.272393     0.646135   16744.392283     1045.426374   \n",
       "min    -123.197000      10.000000     1.000000    1680.000000        0.000000   \n",
       "25%     -96.763100   22090.750000     1.000000   16500.000000      327.000000   \n",
       "50%     -87.470300   34645.000000     1.000000   21924.000000      781.000000   \n",
       "75%     -80.826500   56661.250000     1.000000   29995.000000     1499.250000   \n",
       "max     -68.411600  294140.000000     8.000000  859000.000000    12039.000000   \n",
       "\n",
       "       seller_rating          sp_id         year  \n",
       "count    6000.000000    6000.000000  6000.000000  \n",
       "mean        4.268644  209583.667000  2016.812667  \n",
       "std         0.500819  130166.298871     2.653943  \n",
       "min         1.000000   41593.000000  1993.000000  \n",
       "25%         4.030303   60592.000000  2016.000000  \n",
       "50%         4.347826  276221.000000  2017.000000  \n",
       "75%         4.600000  307550.000000  2019.000000  \n",
       "max         5.000000  440352.000000  2020.000000  "
      ]
     },
     "execution_count": 4,
     "metadata": {},
     "output_type": "execute_result"
    }
   ],
   "source": [
    "data.describe()"
   ]
  },
  {
   "attachments": {},
   "cell_type": "markdown",
   "id": "175f9872",
   "metadata": {},
   "source": [
    "#### drop columns that are a unique ID\n",
    "1. vin: Type String. Vehicle Identification Number is a unique encoded string for every vehicle. \n",
    "2. listing_id: Unique Type Integer. Listing id from the website\n",
    "3. main_picture_url: Type String."
   ]
  },
  {
   "cell_type": "code",
   "execution_count": 5,
   "id": "a67dacaa",
   "metadata": {},
   "outputs": [
    {
     "data": {
      "text/plain": [
       "Index(['vin', 'back_legroom', 'body_type', 'city', 'city_fuel_economy',\n",
       "       'daysonmarket', 'dealer_zip', 'description', 'engine_cylinders',\n",
       "       'engine_displacement', 'engine_type', 'exterior_color', 'fleet',\n",
       "       'frame_damaged', 'franchise_dealer', 'franchise_make', 'front_legroom',\n",
       "       'fuel_tank_volume', 'fuel_type', 'has_accidents', 'height',\n",
       "       'highway_fuel_economy', 'horsepower', 'interior_color', 'isCab',\n",
       "       'is_new', 'latitude', 'length', 'listed_date', 'listing_color',\n",
       "       'listing_id', 'longitude', 'main_picture_url', 'major_options',\n",
       "       'make_name', 'maximum_seating', 'mileage', 'model_name', 'owner_count',\n",
       "       'power', 'price', 'salvage', 'savings_amount', 'seller_rating', 'sp_id',\n",
       "       'sp_name', 'theft_title', 'torque', 'transmission',\n",
       "       'transmission_display', 'trimId', 'trim_name', 'wheel_system',\n",
       "       'wheel_system_display', 'wheelbase', 'width', 'year'],\n",
       "      dtype='object')"
      ]
     },
     "execution_count": 5,
     "metadata": {},
     "output_type": "execute_result"
    }
   ],
   "source": [
    "data.columns"
   ]
  },
  {
   "cell_type": "code",
   "execution_count": 6,
   "id": "512c3f42",
   "metadata": {},
   "outputs": [],
   "source": [
    "data.drop(columns = ['vin', 'listing_id', 'main_picture_url', 'description'], inplace = True)"
   ]
  },
  {
   "cell_type": "code",
   "execution_count": 7,
   "id": "f5f48e53",
   "metadata": {},
   "outputs": [],
   "source": [
    "data.drop(columns = ['franchise_dealer'], inplace = True)\n",
    "# franchise dealer is all True; has no variance; removed bc its a constant feature. "
   ]
  },
  {
   "attachments": {},
   "cell_type": "markdown",
   "id": "14f318cb",
   "metadata": {},
   "source": [
    "### Feature engineering\n",
    "(completed by hiba)"
   ]
  },
  {
   "cell_type": "code",
   "execution_count": 8,
   "id": "ba7d4149",
   "metadata": {},
   "outputs": [
    {
     "name": "stdout",
     "output_type": "stream",
     "text": [
      "['FWD' 'AWD' 'RWD' '4WD' '4X2']\n",
      "['A' 'CVT' 'M' 'Dual Clutch']\n"
     ]
    }
   ],
   "source": [
    "# map \n",
    "print(data.wheel_system.unique())\n",
    "print(data.transmission.unique())"
   ]
  },
  {
   "cell_type": "code",
   "execution_count": 9,
   "id": "dfff03e9",
   "metadata": {},
   "outputs": [],
   "source": [
    "bool_cols = data.dtypes[data.dtypes == bool]"
   ]
  },
  {
   "cell_type": "code",
   "execution_count": 10,
   "id": "73e797cc",
   "metadata": {},
   "outputs": [
    {
     "data": {
      "text/plain": [
       "['fleet',\n",
       " 'frame_damaged',\n",
       " 'has_accidents',\n",
       " 'isCab',\n",
       " 'is_new',\n",
       " 'salvage',\n",
       " 'theft_title']"
      ]
     },
     "execution_count": 10,
     "metadata": {},
     "output_type": "execute_result"
    }
   ],
   "source": [
    "bool_cols = pd.DataFrame(bool_cols).reset_index()\n",
    "bool_cols = bool_cols['index']\n",
    "bool_cols = list(bool_cols)\n",
    "bool_cols"
   ]
  },
  {
   "cell_type": "code",
   "execution_count": 11,
   "id": "443d4903",
   "metadata": {},
   "outputs": [],
   "source": [
    "for col in bool_cols:\n",
    "    data[col] = data[col].map({False: 0, True: 1})"
   ]
  },
  {
   "cell_type": "code",
   "execution_count": 12,
   "id": "38a490e2",
   "metadata": {},
   "outputs": [
    {
     "data": {
      "text/plain": [
       "[None, None, None, None, None, None, None]"
      ]
     },
     "execution_count": 12,
     "metadata": {},
     "output_type": "execute_result"
    }
   ],
   "source": [
    "cols_map = []\n",
    "for c in data.columns:\n",
    "    col_len = (len(data[c].unique()))\n",
    "    if col_len <=5:\n",
    "        cols_map.append(c)\n",
    "[cols_map.remove(c) for c in bool_cols]"
   ]
  },
  {
   "cell_type": "code",
   "execution_count": 13,
   "id": "052c15fd",
   "metadata": {},
   "outputs": [
    {
     "data": {
      "text/plain": [
       "['fuel_type', 'transmission', 'wheel_system', 'wheel_system_display']"
      ]
     },
     "execution_count": 13,
     "metadata": {},
     "output_type": "execute_result"
    }
   ],
   "source": [
    "cols_map"
   ]
  },
  {
   "cell_type": "code",
   "execution_count": 14,
   "id": "a411fd62",
   "metadata": {},
   "outputs": [],
   "source": [
    "# # use label encoder\n",
    "le = LabelEncoder()\n",
    "\n",
    "encoder_dict = {key: None for key in cols_map}\n",
    "for c in cols_map:\n",
    "    encoder_dict[c] = data[c].unique()\n",
    "    col_name = str(c)+\"_cat\"\n",
    "    data[col_name] = le.fit_transform(data[c])\n",
    "    encoder_dict[col_name] = le.fit_transform(encoder_dict[c])"
   ]
  },
  {
   "attachments": {},
   "cell_type": "markdown",
   "id": "9d621f90",
   "metadata": {},
   "source": [
    "### Use the encoder dictionary to create dummy data of the selected columns in the dataframe\n",
    "(completed by hiba)"
   ]
  },
  {
   "cell_type": "code",
   "execution_count": 15,
   "id": "d3f75b15",
   "metadata": {},
   "outputs": [
    {
     "data": {
      "text/plain": [
       "{'fuel_type': array(['Gasoline', 'Diesel', 'Flex Fuel Vehicle', 'Biodiesel', 'Hybrid'],\n",
       "       dtype=object),\n",
       " 'transmission': array(['A', 'CVT', 'M', 'Dual Clutch'], dtype=object),\n",
       " 'wheel_system': array(['FWD', 'AWD', 'RWD', '4WD', '4X2'], dtype=object),\n",
       " 'wheel_system_display': array(['Front-Wheel Drive', 'All-Wheel Drive', 'Rear-Wheel Drive',\n",
       "        'Four-Wheel Drive', '4X2'], dtype=object),\n",
       " 'fuel_type_cat': array([3, 1, 2, 0, 4]),\n",
       " 'transmission_cat': array([0, 1, 3, 2]),\n",
       " 'wheel_system_cat': array([3, 2, 4, 0, 1]),\n",
       " 'wheel_system_display_cat': array([3, 1, 4, 2, 0])}"
      ]
     },
     "execution_count": 15,
     "metadata": {},
     "output_type": "execute_result"
    }
   ],
   "source": [
    "encoder_dict"
   ]
  },
  {
   "cell_type": "code",
   "execution_count": 16,
   "id": "3c27b97e",
   "metadata": {},
   "outputs": [],
   "source": [
    "# back_legroom, wheelbase, width, front_legroom,, height,  length, maximum_seating, fuel_tank_volume,\n",
    "# power, torque\n",
    "\n",
    "data['back_legroom'] = data['back_legroom'].map(lambda x: x.lstrip('+-').rstrip('in'))"
   ]
  },
  {
   "cell_type": "code",
   "execution_count": 17,
   "id": "13a91ed2",
   "metadata": {},
   "outputs": [],
   "source": [
    "data['front_legroom'] = data['front_legroom'].map(lambda x: x.lstrip('+-').rstrip('in'))\n",
    "data['width'] = data['width'].map(lambda x: x.lstrip('+-').rstrip('in'))\n",
    "data['height'] = data['height'].map(lambda x: x.lstrip('+-').rstrip('in'))\n",
    "data['length'] = data['length'].map(lambda x: x.lstrip('+-').rstrip('in'))\n",
    "data['wheelbase'] = data['wheelbase'].map(lambda x: x.lstrip('+-').rstrip('in'))"
   ]
  },
  {
   "cell_type": "code",
   "execution_count": 18,
   "id": "2ced8301",
   "metadata": {},
   "outputs": [],
   "source": [
    "data['maximum_seating'] = data['maximum_seating'].map(lambda x: x.lstrip('+-').rstrip('seating'))"
   ]
  },
  {
   "cell_type": "code",
   "execution_count": 19,
   "id": "e720c121",
   "metadata": {},
   "outputs": [],
   "source": [
    "data['fuel_tank_volume'] = data['fuel_tank_volume'].map(lambda x: x.lstrip('+-').rstrip('gal'))"
   ]
  },
  {
   "cell_type": "code",
   "execution_count": 20,
   "id": "abd39143",
   "metadata": {},
   "outputs": [],
   "source": [
    "# power and torque\n",
    "data['power'] = data['power'].str[:3]\n",
    "data['torque'] = data['torque'].str[:3]"
   ]
  },
  {
   "cell_type": "code",
   "execution_count": 21,
   "id": "879a42fd",
   "metadata": {},
   "outputs": [],
   "source": [
    "data.power = pd.to_numeric(data.power)\n",
    "data.back_legroom = pd.to_numeric(data.back_legroom)\n",
    "data.front_legroom = pd.to_numeric(data.front_legroom)\n",
    "data.width = pd.to_numeric(data.width)\n",
    "data.height = pd.to_numeric(data.height)\n",
    "data.length = pd.to_numeric(data.length)\n",
    "data.wheelbase = pd.to_numeric(data.wheelbase)\n",
    "data.maximum_seating = pd.to_numeric(data.maximum_seating)\n",
    "data.fuel_tank_volume = pd.to_numeric(data.fuel_tank_volume)\n",
    "data.torque = pd.to_numeric(data.torque)"
   ]
  },
  {
   "cell_type": "code",
   "execution_count": 22,
   "id": "dd0507ba",
   "metadata": {},
   "outputs": [],
   "source": [
    "corr_table = pd.DataFrame(data.corrwith(data.price)).sort_values(by = 0, ascending = False).reset_index()"
   ]
  },
  {
   "cell_type": "code",
   "execution_count": 23,
   "id": "280e4fb9",
   "metadata": {},
   "outputs": [
    {
     "data": {
      "text/plain": [
       "['horsepower',\n",
       " 'power',\n",
       " 'torque',\n",
       " 'engine_displacement',\n",
       " 'fuel_tank_volume',\n",
       " 'wheelbase',\n",
       " 'year',\n",
       " 'length',\n",
       " 'width',\n",
       " 'savings_amount',\n",
       " 'height',\n",
       " 'wheel_system_cat',\n",
       " 'city_fuel_economy',\n",
       " 'mileage',\n",
       " 'highway_fuel_economy']"
      ]
     },
     "execution_count": 23,
     "metadata": {},
     "output_type": "execute_result"
    }
   ],
   "source": [
    "highest_corr_numerical = list(corr_table.loc[(corr_table[0] >=  0.2) | (corr_table[0] <= -0.2)]['index'])[1:]\n",
    "highest_corr_numerical"
   ]
  },
  {
   "attachments": {},
   "cell_type": "markdown",
   "id": "5f40a66e",
   "metadata": {},
   "source": [
    "### Data Viz "
   ]
  },
  {
   "cell_type": "code",
   "execution_count": 24,
   "id": "f41b28b2",
   "metadata": {},
   "outputs": [
    {
     "name": "stderr",
     "output_type": "stream",
     "text": [
      "No artists with labels found to put in legend.  Note that artists whose label start with an underscore are ignored when legend() is called with no argument.\n"
     ]
    },
    {
     "data": {
      "image/png": "[encoded data removed]",
      "text/plain": [
       "<Figure size 720x432 with 1 Axes>"
      ]
     },
     "metadata": {
      "needs_background": "light"
     },
     "output_type": "display_data"
    }
   ],
   "source": [
    "### this graph is from Kaggle; I didn't write the code for it.\n",
    "viz = data.copy()\n",
    "viz['price'] = np.log(viz['price'])\n",
    "\n",
    "# plotting the distribution of the price column\n",
    "plt.figure(figsize=(10,6))\n",
    "sns.distplot(viz['price'])\n",
    "plt.title('Price')\n",
    "plt.legend()\n",
    "plt.xlabel('Price')\n",
    "plt.ylabel('Frequency')\n",
    "#removing the scientific notation\n",
    "plt.ticklabel_format(style='plain', axis='x')\n",
    "plt.show()"
   ]
  },
  {
   "attachments": {},
   "cell_type": "markdown",
   "id": "49848d6a",
   "metadata": {},
   "source": [
    "#### Variance w independent variable (only applicable to numerical data) (completed by Hiba)\n",
    "Use VarianceTreshold from sklearn to remove constant and quasi constant numerical predictors from the dataset"
   ]
  },
  {
   "cell_type": "code",
   "execution_count": 25,
   "id": "7ae9824d",
   "metadata": {},
   "outputs": [],
   "source": [
    "X_numerical = data.copy()\n",
    "for col in X_numerical.columns:\n",
    "    if col not in highest_corr_numerical:\n",
    "        X_numerical.drop(col, axis = 1, inplace = True)\n",
    "\n",
    "y = data.price\n",
    "\n",
    "X_train, X_test, y_train, y_test = train_test_split(X_numerical, y, test_size = 0.25, random_state = 45)"
   ]
  },
  {
   "cell_type": "code",
   "execution_count": 26,
   "id": "3b34436b",
   "metadata": {},
   "outputs": [
    {
     "name": "stdout",
     "output_type": "stream",
     "text": [
      "0 total constant predictors, with a variance of 0\n"
     ]
    }
   ],
   "source": [
    "from sklearn.feature_selection import VarianceThreshold\n",
    "sel = VarianceThreshold(threshold=0)\n",
    "sel.fit(X_numerical)\n",
    "constant_predictors = [x for x in X_numerical.columns if x not in X_numerical.columns[sel.get_support()]]\n",
    "print(len(constant_predictors), \"total constant predictors, with a variance of 0\")"
   ]
  },
  {
   "attachments": {},
   "cell_type": "markdown",
   "id": "5a73944b",
   "metadata": {},
   "source": [
    "#### There are 0 constant predictors :("
   ]
  },
  {
   "cell_type": "code",
   "execution_count": 27,
   "id": "69288212",
   "metadata": {},
   "outputs": [
    {
     "data": {
      "text/plain": [
       "Index(['city_fuel_economy', 'engine_displacement', 'fuel_tank_volume',\n",
       "       'height', 'highway_fuel_economy', 'horsepower', 'length', 'mileage',\n",
       "       'power', 'savings_amount', 'torque', 'wheelbase', 'width', 'year',\n",
       "       'wheel_system_cat'],\n",
       "      dtype='object')"
      ]
     },
     "execution_count": 27,
     "metadata": {},
     "output_type": "execute_result"
    }
   ],
   "source": [
    "X_numerical.columns"
   ]
  },
  {
   "attachments": {},
   "cell_type": "markdown",
   "id": "d9f920e6",
   "metadata": {},
   "source": [
    "### Data Viz (only numerical predictors) (completed by hiba)"
   ]
  },
  {
   "cell_type": "code",
   "execution_count": 77,
   "id": "8de22216",
   "metadata": {},
   "outputs": [],
   "source": [
    "fig, axes = plt.subplots(3,5,figsize=(20,15))\n",
    "\n",
    "plt.xticks(rotation=90, ha='right')\n",
    "axes[0][0].bar(X_numerical.city_fuel_economy, y)\n",
    "plt.xticks(rotation=90, ha='right')\n",
    "axes[0][1].bar(X_numerical.engine_displacement, y)\n",
    "axes[0][2].bar(X_numerical.fuel_tank_volume, y)\n",
    "axes[0][2].bar(X_numerical.highway_fuel_economy, y)\n",
    "axes[0][2].bar(X_numerical.height, y)\n",
    "\n",
    "axes[1][0].bar(X_numerical.horsepower, y)\n",
    "axes[1][1].bar(X_numerical.length, y)\n",
    "axes[1][2].bar(X_numerical.mileage, y)\n",
    "axes[1][3].bar(X_numerical.power, y)\n",
    "axes[1][4].bar(X_numerical.savings_amount, y)\n",
    "\n",
    "axes[2][0].bar(X_numerical.torque, y)\n",
    "axes[2][1].bar(X_numerical.wheelbase, y)\n",
    "axes[2][2].bar(X_numerical.width, y)\n",
    "axes[2][3].bar(X_numerical.year, y)\n",
    "axes[2][4].bar(X_numerical.wheel_system_cat, y)"
   ]
  },
  {
   "cell_type": "code",
   "execution_count": 29,
   "id": "99eb535f",
   "metadata": {},
   "outputs": [
    {
     "data": {
      "text/plain": [
       "Index(['back_legroom', 'body_type', 'city', 'city_fuel_economy',\n",
       "       'daysonmarket', 'dealer_zip', 'engine_cylinders', 'engine_displacement',\n",
       "       'engine_type', 'exterior_color', 'fleet', 'frame_damaged',\n",
       "       'franchise_make', 'front_legroom', 'fuel_tank_volume', 'fuel_type',\n",
       "       'has_accidents', 'height', 'highway_fuel_economy', 'horsepower',\n",
       "       'interior_color', 'isCab', 'is_new', 'latitude', 'length',\n",
       "       'listed_date', 'listing_color', 'longitude', 'major_options',\n",
       "       'make_name', 'maximum_seating', 'mileage', 'model_name', 'owner_count',\n",
       "       'power', 'price', 'salvage', 'savings_amount', 'seller_rating', 'sp_id',\n",
       "       'sp_name', 'theft_title', 'torque', 'transmission',\n",
       "       'transmission_display', 'trimId', 'trim_name', 'wheel_system',\n",
       "       'wheel_system_display', 'wheelbase', 'width', 'year', 'fuel_type_cat',\n",
       "       'transmission_cat', 'wheel_system_cat', 'wheel_system_display_cat'],\n",
       "      dtype='object')"
      ]
     },
     "execution_count": 29,
     "metadata": {},
     "output_type": "execute_result"
    }
   ],
   "source": [
    "data.columns"
   ]
  },
  {
   "attachments": {},
   "cell_type": "markdown",
   "id": "37bada79",
   "metadata": {},
   "source": [
    "### Data Viz (only categorical predictors) (completed by emily)"
   ]
  },
  {
   "attachments": {},
   "cell_type": "markdown",
   "id": "72550719",
   "metadata": {},
   "source": [
    "# fuel_type, transmission, wheel system, wheel_system_display"
   ]
  },
  {
   "cell_type": "code",
   "execution_count": 30,
   "id": "1a709da5",
   "metadata": {},
   "outputs": [],
   "source": [
    "data_2 = data.copy()\n",
    "# make seperate df to just look at categorical\n",
    "o_data = data.drop(columns = [\"back_legroom\", \"wheel_system_display\", \"wheelbase\", \"width\", \"front_legroom\", \n",
    "                              \"fuel_tank_volume\", \"height\", \"torque\", \"maximum_seating\",\"transmission_cat\",\n",
    "                              \"power\",\"city_fuel_economy\",\"daysonmarket\",\"dealer_zip\",\"transmission\",\"wheel_system_display_cat\",\n",
    "                              \"fuel_type_cat\",\"wheel_system\",\"wheel_system_cat\",\"fuel_type\",\n",
    "                              \"engine_displacement\",\"fleet\",\"frame_damaged\",\"has_accidents\",\"highway_fuel_economy\",\n",
    "                              \"horsepower\",\"isCab\",\"is_new\",\"latitude\",\"longitude\",\"mileage\",\"owner_count\",\"salvage\",\n",
    "                              \"savings_amount\",\"seller_rating\",\"sp_id\",\"theft_title\",\"year\"], axis = 1)\n",
    "# taken out: \"franchise_dealer\"\n",
    "cols = o_data.columns\n",
    "name = []\n",
    "unique_value = []\n",
    "for i in range(0,len(cols)):\n",
    "    c = cols[i]\n",
    "    unique = len(data[c].unique())\n",
    "    unique_value.append(unique)\n",
    "    name.append(c)"
   ]
  },
  {
   "cell_type": "code",
   "execution_count": 31,
   "id": "bc6be4a7",
   "metadata": {},
   "outputs": [
    {
     "data": {
      "text/html": [
       "<div>\n",
       "<style scoped>\n",
       "    .dataframe tbody tr th:only-of-type {\n",
       "        vertical-align: middle;\n",
       "    }\n",
       "\n",
       "    .dataframe tbody tr th {\n",
       "        vertical-align: top;\n",
       "    }\n",
       "\n",
       "    .dataframe thead th {\n",
       "        text-align: right;\n",
       "    }\n",
       "</style>\n",
       "<table border=\"1\" class=\"dataframe\">\n",
       "  <thead>\n",
       "    <tr style=\"text-align: right;\">\n",
       "      <th></th>\n",
       "      <th>column</th>\n",
       "      <th>unique_values</th>\n",
       "    </tr>\n",
       "  </thead>\n",
       "  <tbody>\n",
       "    <tr>\n",
       "      <th>0</th>\n",
       "      <td>body_type</td>\n",
       "      <td>9</td>\n",
       "    </tr>\n",
       "    <tr>\n",
       "      <th>9</th>\n",
       "      <td>listing_color</td>\n",
       "      <td>14</td>\n",
       "    </tr>\n",
       "    <tr>\n",
       "      <th>2</th>\n",
       "      <td>engine_cylinders</td>\n",
       "      <td>20</td>\n",
       "    </tr>\n",
       "    <tr>\n",
       "      <th>3</th>\n",
       "      <td>engine_type</td>\n",
       "      <td>20</td>\n",
       "    </tr>\n",
       "    <tr>\n",
       "      <th>15</th>\n",
       "      <td>transmission_display</td>\n",
       "      <td>21</td>\n",
       "    </tr>\n",
       "    <tr>\n",
       "      <th>5</th>\n",
       "      <td>franchise_make</td>\n",
       "      <td>40</td>\n",
       "    </tr>\n",
       "    <tr>\n",
       "      <th>11</th>\n",
       "      <td>make_name</td>\n",
       "      <td>42</td>\n",
       "    </tr>\n",
       "    <tr>\n",
       "      <th>8</th>\n",
       "      <td>listed_date</td>\n",
       "      <td>321</td>\n",
       "    </tr>\n",
       "    <tr>\n",
       "      <th>12</th>\n",
       "      <td>model_name</td>\n",
       "      <td>361</td>\n",
       "    </tr>\n",
       "    <tr>\n",
       "      <th>7</th>\n",
       "      <td>length</td>\n",
       "      <td>384</td>\n",
       "    </tr>\n",
       "    <tr>\n",
       "      <th>6</th>\n",
       "      <td>interior_color</td>\n",
       "      <td>696</td>\n",
       "    </tr>\n",
       "    <tr>\n",
       "      <th>4</th>\n",
       "      <td>exterior_color</td>\n",
       "      <td>1140</td>\n",
       "    </tr>\n",
       "    <tr>\n",
       "      <th>17</th>\n",
       "      <td>trim_name</td>\n",
       "      <td>1159</td>\n",
       "    </tr>\n",
       "    <tr>\n",
       "      <th>1</th>\n",
       "      <td>city</td>\n",
       "      <td>1769</td>\n",
       "    </tr>\n",
       "    <tr>\n",
       "      <th>10</th>\n",
       "      <td>major_options</td>\n",
       "      <td>2790</td>\n",
       "    </tr>\n",
       "    <tr>\n",
       "      <th>16</th>\n",
       "      <td>trimId</td>\n",
       "      <td>3087</td>\n",
       "    </tr>\n",
       "    <tr>\n",
       "      <th>13</th>\n",
       "      <td>price</td>\n",
       "      <td>3531</td>\n",
       "    </tr>\n",
       "    <tr>\n",
       "      <th>14</th>\n",
       "      <td>sp_name</td>\n",
       "      <td>4304</td>\n",
       "    </tr>\n",
       "  </tbody>\n",
       "</table>\n",
       "</div>"
      ],
      "text/plain": [
       "                  column  unique_values\n",
       "0              body_type              9\n",
       "9          listing_color             14\n",
       "2       engine_cylinders             20\n",
       "3            engine_type             20\n",
       "15  transmission_display             21\n",
       "5         franchise_make             40\n",
       "11             make_name             42\n",
       "8            listed_date            321\n",
       "12            model_name            361\n",
       "7                 length            384\n",
       "6         interior_color            696\n",
       "4         exterior_color           1140\n",
       "17             trim_name           1159\n",
       "1                   city           1769\n",
       "10         major_options           2790\n",
       "16                trimId           3087\n",
       "13                 price           3531\n",
       "14               sp_name           4304"
      ]
     },
     "execution_count": 31,
     "metadata": {},
     "output_type": "execute_result"
    }
   ],
   "source": [
    "# Create the pandas DataFrame with object columns and their unique values\n",
    "data_ = {'column': name, 'unique_values':unique_value}\n",
    "o_unique_values_count = pd.DataFrame(data_)\n",
    "o_unique_values_count.sort_values(by=['unique_values'])"
   ]
  },
  {
   "attachments": {},
   "cell_type": "markdown",
   "id": "4d0fb842",
   "metadata": {},
   "source": [
    "From this information, we can simply visualize with boxplot any variables until make_name, to see their relevance and adjust them. After that we will look more thoroughly, maybe group data. Consider dropping anything with other 1000 unique values as we only have 6000 rows, so might not be good predictors, but will decide on case by case basis."
   ]
  },
  {
   "attachments": {},
   "cell_type": "markdown",
   "id": "5918d795",
   "metadata": {},
   "source": [
    "#### body_type"
   ]
  },
  {
   "cell_type": "code",
   "execution_count": 32,
   "id": "1823eb70",
   "metadata": {},
   "outputs": [
    {
     "data": {
      "text/plain": [
       "[]"
      ]
     },
     "execution_count": 32,
     "metadata": {},
     "output_type": "execute_result"
    },
    {
     "data": {
      "image/png": "[encoded data removed]",
      "text/plain": [
       "<Figure size 720x288 with 1 Axes>"
      ]
     },
     "metadata": {
      "needs_background": "light"
     },
     "output_type": "display_data"
    }
   ],
   "source": [
    "plt.figure(figsize=(10,4))\n",
    "sns.boxplot(x=\"body_type\",y=\"price\", data = data)\n",
    "plt.xticks(rotation=90)\n",
    "plt.ylim(0,80000)\n",
    "\n",
    "plt.plot()"
   ]
  },
  {
   "attachments": {},
   "cell_type": "markdown",
   "id": "82795bce",
   "metadata": {},
   "source": [
    "Do seem to have a significant trend right away, check value counts to see if some types are more common than others"
   ]
  },
  {
   "cell_type": "code",
   "execution_count": 33,
   "id": "d0dd5bb2",
   "metadata": {},
   "outputs": [
    {
     "data": {
      "text/plain": [
       "SUV / Crossover    3041\n",
       "Sedan              1655\n",
       "Pickup Truck        642\n",
       "Minivan             206\n",
       "Coupe               146\n",
       "Wagon               124\n",
       "Hatchback           110\n",
       "Convertible          63\n",
       "Van                  13\n",
       "Name: body_type, dtype: int64"
      ]
     },
     "execution_count": 33,
     "metadata": {},
     "output_type": "execute_result"
    }
   ],
   "source": [
    "data.body_type.value_counts()"
   ]
  },
  {
   "attachments": {},
   "cell_type": "markdown",
   "id": "cd3d636d",
   "metadata": {},
   "source": [
    "Have enough observations for each value to be valid, none of the smaller groups stand out substantially, convertible is a little bit spread but that should be fine -> convert to dummies"
   ]
  },
  {
   "cell_type": "code",
   "execution_count": 34,
   "id": "788cb09b",
   "metadata": {},
   "outputs": [],
   "source": [
    "# change spelling so colummns will be callable\n",
    "data_2['body_type'] = o_data['body_type'].apply(lambda x: 'SUV_Crossover' if x == 'SUV / Crossover' else \n",
    "                                                          'Pickup_Truck' if x == 'Pickup Truck' else\n",
    "                                                x)\n",
    "# get dummies\n",
    "data_2 = pd.get_dummies(data_2, columns=['body_type'], drop_first=True)"
   ]
  },
  {
   "attachments": {},
   "cell_type": "markdown",
   "id": "2f7500da",
   "metadata": {},
   "source": [
    "#### listing_color"
   ]
  },
  {
   "cell_type": "code",
   "execution_count": 35,
   "id": "b72210de",
   "metadata": {},
   "outputs": [
    {
     "data": {
      "text/plain": [
       "[]"
      ]
     },
     "execution_count": 35,
     "metadata": {},
     "output_type": "execute_result"
    },
    {
     "data": {
      "image/png": "[encoded data removed]",
      "text/plain": [
       "<Figure size 720x288 with 1 Axes>"
      ]
     },
     "metadata": {
      "needs_background": "light"
     },
     "output_type": "display_data"
    }
   ],
   "source": [
    "# boxplot\n",
    "plt.figure(figsize=(10,4))\n",
    "sns.boxplot(x=\"listing_color\",y=\"price\", data = o_data)\n",
    "plt.xticks(rotation=90)\n",
    "plt.ylim(0,80000)\n",
    "plt.plot()"
   ]
  },
  {
   "cell_type": "code",
   "execution_count": 36,
   "id": "f7f05c18",
   "metadata": {},
   "outputs": [
    {
     "data": {
      "text/plain": [
       "WHITE      1252\n",
       "BLACK      1209\n",
       "SILVER      865\n",
       "GRAY        808\n",
       "UNKNOWN     746\n",
       "RED         509\n",
       "BLUE        484\n",
       "GREEN        40\n",
       "BROWN        35\n",
       "ORANGE       21\n",
       "TEAL         11\n",
       "GOLD          8\n",
       "PURPLE        7\n",
       "YELLOW        5\n",
       "Name: listing_color, dtype: int64"
      ]
     },
     "execution_count": 36,
     "metadata": {},
     "output_type": "execute_result"
    }
   ],
   "source": [
    "o_data.listing_color.value_counts()"
   ]
  },
  {
   "attachments": {},
   "cell_type": "markdown",
   "id": "407ad4d2",
   "metadata": {},
   "source": [
    "Very little variance in colour mean is basically constant range varies a bit but I would consider disregarding this variable.\n",
    "Especially the few that stand out a little (like gold or teal) have the lowest value counts, and therefore say a lot less.\n",
    "\n",
    "-> drop column"
   ]
  },
  {
   "cell_type": "code",
   "execution_count": 37,
   "id": "e1c863b0",
   "metadata": {},
   "outputs": [],
   "source": [
    "data_2 = data_2.drop(columns=[\"listing_color\"], axis = 1)"
   ]
  },
  {
   "attachments": {},
   "cell_type": "markdown",
   "id": "1e266c40",
   "metadata": {},
   "source": [
    "#### engine_cyliners"
   ]
  },
  {
   "cell_type": "code",
   "execution_count": 38,
   "id": "d1734b52",
   "metadata": {},
   "outputs": [
    {
     "data": {
      "text/plain": [
       "[]"
      ]
     },
     "execution_count": 38,
     "metadata": {},
     "output_type": "execute_result"
    },
    {
     "data": {
      "image/png": "[encoded data removed]",
      "text/plain": [
       "<Figure size 720x288 with 1 Axes>"
      ]
     },
     "metadata": {
      "needs_background": "light"
     },
     "output_type": "display_data"
    }
   ],
   "source": [
    "plt.figure(figsize=(10,4))\n",
    "\n",
    "sns.boxplot(x=\"engine_cylinders\",y=\"price\", data = o_data)\n",
    "plt.xticks(rotation=90)\n",
    "plt.ylim(0,80000)\n",
    "plt.plot()"
   ]
  },
  {
   "cell_type": "code",
   "execution_count": 39,
   "id": "74f798e1",
   "metadata": {},
   "outputs": [
    {
     "data": {
      "text/plain": [
       "I4                       2985\n",
       "V6                       1905\n",
       "V8                        527\n",
       "V6 Flex Fuel Vehicle      183\n",
       "H4                        161\n",
       "V8 Flex Fuel Vehicle       96\n",
       "I6                         56\n",
       "I4 Flex Fuel Vehicle       22\n",
       "I4 Diesel                  17\n",
       "I3                         13\n",
       "V6 Diesel                   8\n",
       "H6                          7\n",
       "V6 Biodiesel                5\n",
       "I5                          4\n",
       "I4 Hybrid                   3\n",
       "V12                         3\n",
       "V10                         2\n",
       "H4 Hybrid                   1\n",
       "I6 Diesel                   1\n",
       "W12 Flex Fuel Vehicle       1\n",
       "Name: engine_cylinders, dtype: int64"
      ]
     },
     "execution_count": 39,
     "metadata": {},
     "output_type": "execute_result"
    }
   ],
   "source": [
    "o_data.engine_cylinders.value_counts()"
   ]
  },
  {
   "attachments": {},
   "cell_type": "markdown",
   "id": "8b2f4d3c",
   "metadata": {},
   "source": [
    "Turn anything under 100 observations into 'other', if there is only one observation this is not useful data."
   ]
  },
  {
   "cell_type": "code",
   "execution_count": 40,
   "id": "727b4cfa",
   "metadata": {},
   "outputs": [
    {
     "data": {
      "text/plain": [
       "I4                      2985\n",
       "V6                      1905\n",
       "V8                       527\n",
       "other                    239\n",
       "V6_Flex_Fuel_Vehicle     183\n",
       "H4                       161\n",
       "Name: engine_cylinders, dtype: int64"
      ]
     },
     "execution_count": 40,
     "metadata": {},
     "output_type": "execute_result"
    }
   ],
   "source": [
    "data_2['engine_cylinders'] = o_data['engine_cylinders'].apply(lambda x: 'I4' if x == 'I4' else \n",
    "                                                          'V6' if x == 'V6' else\n",
    "                                                          'V8' if x == 'V8' else\n",
    "                                                          'V6_Flex_Fuel_Vehicle' if x == 'V6 Flex Fuel Vehicle' else\n",
    "                                                          'H4' if x == 'H4' else\n",
    "                                                          'other')\n",
    "data_2.engine_cylinders.value_counts()"
   ]
  },
  {
   "cell_type": "code",
   "execution_count": 41,
   "id": "f6a12708",
   "metadata": {},
   "outputs": [
    {
     "data": {
      "text/plain": [
       "[]"
      ]
     },
     "execution_count": 41,
     "metadata": {},
     "output_type": "execute_result"
    },
    {
     "data": {
      "image/png": "[encoded data removed]",
      "text/plain": [
       "<Figure size 576x288 with 1 Axes>"
      ]
     },
     "metadata": {
      "needs_background": "light"
     },
     "output_type": "display_data"
    }
   ],
   "source": [
    "plt.figure(figsize=(8,4))\n",
    "sns.boxplot(x=\"engine_cylinders\",y=\"price\", data = data_2)\n",
    "plt.xticks(rotation=90)\n",
    "plt.ylim(0,80000)\n",
    "plt.plot()"
   ]
  },
  {
   "attachments": {},
   "cell_type": "markdown",
   "id": "130f7085",
   "metadata": {},
   "source": [
    "Other is naturally with bigger range, but this looks better, get dummies for it:"
   ]
  },
  {
   "cell_type": "code",
   "execution_count": 42,
   "id": "d5ee6094",
   "metadata": {},
   "outputs": [],
   "source": [
    "data_2 = pd.get_dummies(data_2, columns=['engine_cylinders'], drop_first=True)"
   ]
  },
  {
   "attachments": {},
   "cell_type": "markdown",
   "id": "12a5d5f3",
   "metadata": {},
   "source": [
    "#### engine_type"
   ]
  },
  {
   "cell_type": "code",
   "execution_count": 43,
   "id": "d2ef5170",
   "metadata": {},
   "outputs": [
    {
     "data": {
      "text/plain": [
       "[]"
      ]
     },
     "execution_count": 43,
     "metadata": {},
     "output_type": "execute_result"
    },
    {
     "data": {
      "image/png": "[encoded data removed]",
      "text/plain": [
       "<Figure size 720x288 with 1 Axes>"
      ]
     },
     "metadata": {
      "needs_background": "light"
     },
     "output_type": "display_data"
    }
   ],
   "source": [
    "plt.figure(figsize=(10,4))\n",
    "sns.boxplot(x=\"engine_type\",y=\"price\", data = o_data)\n",
    "plt.xticks(rotation=90)\n",
    "plt.ylim(0,80000)\n",
    "plt.plot()"
   ]
  },
  {
   "attachments": {},
   "cell_type": "markdown",
   "id": "30c8dba0",
   "metadata": {},
   "source": [
    "Exactly the same distributions and values as in engine_cylinders, can be dropped."
   ]
  },
  {
   "cell_type": "code",
   "execution_count": 44,
   "id": "aa7bb635",
   "metadata": {},
   "outputs": [],
   "source": [
    "data_2 = data_2.drop(columns=[\"engine_type\"], axis = 1)"
   ]
  },
  {
   "attachments": {},
   "cell_type": "markdown",
   "id": "ca6339e7",
   "metadata": {},
   "source": [
    "#### transmission_display"
   ]
  },
  {
   "cell_type": "code",
   "execution_count": 45,
   "id": "9bc0ba52",
   "metadata": {},
   "outputs": [
    {
     "data": {
      "text/plain": [
       "[]"
      ]
     },
     "execution_count": 45,
     "metadata": {},
     "output_type": "execute_result"
    },
    {
     "data": {
      "image/png": "[encoded data removed]",
      "text/plain": [
       "<Figure size 720x288 with 1 Axes>"
      ]
     },
     "metadata": {
      "needs_background": "light"
     },
     "output_type": "display_data"
    }
   ],
   "source": [
    "plt.figure(figsize=(10,4))\n",
    "sns.boxplot(x=\"transmission_display\",y=\"price\", data = o_data)\n",
    "plt.xticks(rotation=90)\n",
    "plt.ylim(0,80000)\n",
    "plt.plot()"
   ]
  },
  {
   "attachments": {},
   "cell_type": "markdown",
   "id": "0b9716a0",
   "metadata": {},
   "source": [
    "Mean and range seem both to be varying, might be valuable column to predict price, check value counts:"
   ]
  },
  {
   "cell_type": "code",
   "execution_count": 46,
   "id": "088743b8",
   "metadata": {},
   "outputs": [
    {
     "data": {
      "text/plain": [
       "Automatic                             2277\n",
       "6-Speed Automatic                     1303\n",
       "Continuously Variable Transmission     965\n",
       "8-Speed Automatic                      679\n",
       "9-Speed Automatic                      284\n",
       "Name: transmission_display, dtype: int64"
      ]
     },
     "execution_count": 46,
     "metadata": {},
     "output_type": "execute_result"
    }
   ],
   "source": [
    "data.transmission_display.value_counts().head()"
   ]
  },
  {
   "attachments": {},
   "cell_type": "markdown",
   "id": "6b7a6e58",
   "metadata": {},
   "source": [
    "Convert anything with under 100 observations into other:"
   ]
  },
  {
   "cell_type": "code",
   "execution_count": 47,
   "id": "bddc81b2",
   "metadata": {},
   "outputs": [
    {
     "data": {
      "text/plain": [
       "[]"
      ]
     },
     "execution_count": 47,
     "metadata": {},
     "output_type": "execute_result"
    },
    {
     "data": {
      "image/png": "[encoded data removed]",
      "text/plain": [
       "<Figure size 432x288 with 1 Axes>"
      ]
     },
     "metadata": {
      "needs_background": "light"
     },
     "output_type": "display_data"
    }
   ],
   "source": [
    "data_2['transmission_display'] = o_data['transmission_display'].apply(lambda x: 'Automatic' if x == 'Automatic' else \n",
    "                                                          '6_Speed_Automatic' if x == '6-Speed Automatic' else\n",
    "                                                          'Continuously_Variable_Transmission' if x == 'Continuously Variable Transmission' else\n",
    "                                                          '8_Speed_Automatic' if x == '8-Speed Automatic' else\n",
    "                                                          '9_Speed_Automatic' if x == '9-Speed Automatic' else\n",
    "                                                          '6_Speed_Automatic' if x == '6-Speed Automatic' else\n",
    "                                                          '5_Speed_Automatic' if x == '5-Speed Automatic' else\n",
    "                                                          'other')\n",
    "plt.figure(figsize=(6,4))\n",
    "sns.boxplot(x=\"transmission_display\",y=\"price\", data = data_2)\n",
    "plt.xticks(rotation=90)\n",
    "plt.ylim(0,80000)\n",
    "plt.plot()"
   ]
  },
  {
   "attachments": {},
   "cell_type": "markdown",
   "id": "ced553e3",
   "metadata": {},
   "source": [
    "Looks relevant, change in mean and besides 2 relatively small range -> convert into dummies"
   ]
  },
  {
   "cell_type": "code",
   "execution_count": 48,
   "id": "6c520a8f",
   "metadata": {},
   "outputs": [],
   "source": [
    "# turn those columns into dummies\n",
    "data_2 = pd.get_dummies(data_2, columns=['transmission_display'], drop_first=True)"
   ]
  },
  {
   "attachments": {},
   "cell_type": "markdown",
   "id": "cddb1876",
   "metadata": {},
   "source": [
    "#### franchise_make"
   ]
  },
  {
   "cell_type": "code",
   "execution_count": 49,
   "id": "126bc6ed",
   "metadata": {},
   "outputs": [
    {
     "data": {
      "text/plain": [
       "[]"
      ]
     },
     "execution_count": 49,
     "metadata": {},
     "output_type": "execute_result"
    },
    {
     "data": {
      "image/png": "[encoded data removed]",
      "text/plain": [
       "<Figure size 864x360 with 1 Axes>"
      ]
     },
     "metadata": {
      "needs_background": "light"
     },
     "output_type": "display_data"
    }
   ],
   "source": [
    "plt.figure(figsize=(12,5))\n",
    "sns.boxplot(x=\"franchise_make\",y=\"price\", data = o_data)\n",
    "plt.xticks(rotation=90)\n",
    "plt.ylim(0,80000)\n",
    "plt.plot()"
   ]
  },
  {
   "attachments": {},
   "cell_type": "markdown",
   "id": "5be8fe56",
   "metadata": {},
   "source": [
    "This seems to be too many columns to just turn into dummies, and as brand is strongly connected to price this seems an important column to keep -> divide brands into groups depending on their mean price, and label encode these groups."
   ]
  },
  {
   "cell_type": "code",
   "execution_count": 50,
   "id": "73bdd40d",
   "metadata": {},
   "outputs": [
    {
     "data": {
      "text/html": [
       "<div>\n",
       "<style scoped>\n",
       "    .dataframe tbody tr th:only-of-type {\n",
       "        vertical-align: middle;\n",
       "    }\n",
       "\n",
       "    .dataframe tbody tr th {\n",
       "        vertical-align: top;\n",
       "    }\n",
       "\n",
       "    .dataframe thead th {\n",
       "        text-align: right;\n",
       "    }\n",
       "</style>\n",
       "<table border=\"1\" class=\"dataframe\">\n",
       "  <thead>\n",
       "    <tr style=\"text-align: right;\">\n",
       "      <th></th>\n",
       "      <th>franchise_make</th>\n",
       "      <th>price</th>\n",
       "    </tr>\n",
       "  </thead>\n",
       "  <tbody>\n",
       "    <tr>\n",
       "      <th>20</th>\n",
       "      <td>Kia</td>\n",
       "      <td>20001.936275</td>\n",
       "    </tr>\n",
       "    <tr>\n",
       "      <th>16</th>\n",
       "      <td>Hyundai</td>\n",
       "      <td>20064.829268</td>\n",
       "    </tr>\n",
       "    <tr>\n",
       "      <th>27</th>\n",
       "      <td>Mazda</td>\n",
       "      <td>20135.692857</td>\n",
       "    </tr>\n",
       "    <tr>\n",
       "      <th>38</th>\n",
       "      <td>Volkswagen</td>\n",
       "      <td>20160.651007</td>\n",
       "    </tr>\n",
       "    <tr>\n",
       "      <th>35</th>\n",
       "      <td>Scion</td>\n",
       "      <td>20897.826087</td>\n",
       "    </tr>\n",
       "  </tbody>\n",
       "</table>\n",
       "</div>"
      ],
      "text/plain": [
       "   franchise_make         price\n",
       "20            Kia  20001.936275\n",
       "16        Hyundai  20064.829268\n",
       "27          Mazda  20135.692857\n",
       "38     Volkswagen  20160.651007\n",
       "35          Scion  20897.826087"
      ]
     },
     "execution_count": 50,
     "metadata": {},
     "output_type": "execute_result"
    }
   ],
   "source": [
    "# look at mean price by group\n",
    "brand_mean_price=data.groupby('franchise_make', as_index=False)['price'].mean()\n",
    "brand_mean_price=brand_mean_price.sort_values(by=['price'])\n",
    "brand_mean_price.head()"
   ]
  },
  {
   "cell_type": "code",
   "execution_count": 51,
   "id": "d4f78272",
   "metadata": {},
   "outputs": [],
   "source": [
    "# sort the brands into groups with similar means\n",
    "group_0 = brand_mean_price.iloc[0:8,0]\n",
    "group_1 = brand_mean_price.iloc[8:14,0]\n",
    "group_2 = brand_mean_price.iloc[14:19,0]\n",
    "group_3 = brand_mean_price.iloc[19:25,0]\n",
    "group_4 = brand_mean_price.iloc[25:34,0]\n",
    "group_5 = brand_mean_price.iloc[34:38,0]\n",
    "group_6 = brand_mean_price.iloc[38:40,0]\n",
    "\n",
    "# write function to get names\n",
    "def get_names (group):\n",
    "    final = []\n",
    "    for i in range(0,len(group)):\n",
    "        name = group.iloc[i]\n",
    "        final.append(name)\n",
    "    return(final)\n",
    "# list of names in each group\n",
    "names_0 = get_names(group_0)\n",
    "names_1 = get_names(group_1)\n",
    "names_2 = get_names(group_2)\n",
    "names_3 = get_names(group_3)\n",
    "names_4 = get_names(group_4)\n",
    "names_5 = get_names(group_5)\n",
    "names_6 = get_names(group_6)\n",
    "\n",
    "# replace each object with a number of their group\n",
    "data_2['franchise_make'] = o_data['franchise_make'].apply(lambda x: 0 if x in names_0 else\n",
    "                                                          1 if x in names_1 else\n",
    "                                                          2 if x in names_2 else\n",
    "                                                          3 if x in names_3 else\n",
    "                                                          4 if x in names_4 else\n",
    "                                                          5 if x in names_5 else\n",
    "                                                          6 if x in names_6 else\n",
    "                                                         'wrong')"
   ]
  },
  {
   "attachments": {},
   "cell_type": "markdown",
   "id": "56dd2671",
   "metadata": {},
   "source": [
    "#### make_name"
   ]
  },
  {
   "cell_type": "code",
   "execution_count": 52,
   "id": "15c20953",
   "metadata": {},
   "outputs": [
    {
     "data": {
      "text/plain": [
       "Ford         824\n",
       "Chevrolet    575\n",
       "Toyota       523\n",
       "Nissan       489\n",
       "Honda        475\n",
       "Name: make_name, dtype: int64"
      ]
     },
     "execution_count": 52,
     "metadata": {},
     "output_type": "execute_result"
    }
   ],
   "source": [
    "data.make_name.value_counts().head()"
   ]
  },
  {
   "attachments": {},
   "cell_type": "markdown",
   "id": "72081075",
   "metadata": {},
   "source": [
    "Has the same information as franchise_make, can be dropped."
   ]
  },
  {
   "cell_type": "code",
   "execution_count": 53,
   "id": "e58b8aa6",
   "metadata": {},
   "outputs": [],
   "source": [
    "data_2 = data_2.drop(columns=[\"make_name\"], axis = 1)"
   ]
  },
  {
   "attachments": {},
   "cell_type": "markdown",
   "id": "59b113ea",
   "metadata": {},
   "source": [
    "#### listed_date"
   ]
  },
  {
   "cell_type": "code",
   "execution_count": 54,
   "id": "ae049d3d",
   "metadata": {},
   "outputs": [
    {
     "data": {
      "text/plain": [
       "2020-09-02    207\n",
       "2020-08-28    157\n",
       "2020-09-03    153\n",
       "2020-08-26    145\n",
       "2020-08-27    144\n",
       "Name: listed_date, dtype: int64"
      ]
     },
     "execution_count": 54,
     "metadata": {},
     "output_type": "execute_result"
    }
   ],
   "source": [
    "data.listed_date.value_counts().head()"
   ]
  },
  {
   "cell_type": "code",
   "execution_count": 55,
   "id": "091dbe0a",
   "metadata": {},
   "outputs": [
    {
     "data": {
      "text/plain": [
       "-0.12547087176248412"
      ]
     },
     "execution_count": 55,
     "metadata": {},
     "output_type": "execute_result"
    }
   ],
   "source": [
    "#simply turn into numerical\n",
    "import datetime\n",
    "data_2['listed_date']=pd.to_datetime(data_2[\"listed_date\"]).dt.strftime(\"%Y%m%d\")\n",
    "data_2['listed_date']=data_2.listed_date.astype(int)\n",
    "# get correlation\n",
    "data_2['listed_date'].corr(data_2['price'])"
   ]
  },
  {
   "attachments": {},
   "cell_type": "markdown",
   "id": "b7accf7f",
   "metadata": {},
   "source": [
    "Has a negative correlation between listing date and price, rather small"
   ]
  },
  {
   "attachments": {},
   "cell_type": "markdown",
   "id": "955ae69e",
   "metadata": {},
   "source": [
    "#### model_name"
   ]
  },
  {
   "cell_type": "code",
   "execution_count": 56,
   "id": "2556a76d",
   "metadata": {},
   "outputs": [
    {
     "data": {
      "text/plain": [
       "F-150             187\n",
       "Escape            166\n",
       "Rogue             146\n",
       "Silverado 1500    136\n",
       "Accord            125\n",
       "Name: model_name, dtype: int64"
      ]
     },
     "execution_count": 56,
     "metadata": {},
     "output_type": "execute_result"
    }
   ],
   "source": [
    "data.model_name.value_counts().head()"
   ]
  },
  {
   "attachments": {},
   "cell_type": "markdown",
   "id": "4ed20ab5",
   "metadata": {},
   "source": [
    "Looking at both head and tail, there is a good distribution of the different model names, not one that is prelevant wherease the rest only has 1 or 2 entries -> group and turn into numeric"
   ]
  },
  {
   "cell_type": "code",
   "execution_count": 57,
   "id": "397171fd",
   "metadata": {},
   "outputs": [
    {
     "data": {
      "text/html": [
       "<div>\n",
       "<style scoped>\n",
       "    .dataframe tbody tr th:only-of-type {\n",
       "        vertical-align: middle;\n",
       "    }\n",
       "\n",
       "    .dataframe tbody tr th {\n",
       "        vertical-align: top;\n",
       "    }\n",
       "\n",
       "    .dataframe thead th {\n",
       "        text-align: right;\n",
       "    }\n",
       "</style>\n",
       "<table border=\"1\" class=\"dataframe\">\n",
       "  <thead>\n",
       "    <tr style=\"text-align: right;\">\n",
       "      <th></th>\n",
       "      <th>model_name</th>\n",
       "      <th>price</th>\n",
       "    </tr>\n",
       "  </thead>\n",
       "  <tbody>\n",
       "    <tr>\n",
       "      <th>240</th>\n",
       "      <td>QX4</td>\n",
       "      <td>2000.0</td>\n",
       "    </tr>\n",
       "    <tr>\n",
       "      <th>202</th>\n",
       "      <td>Mariner Hybrid</td>\n",
       "      <td>2953.0</td>\n",
       "    </tr>\n",
       "    <tr>\n",
       "      <th>116</th>\n",
       "      <td>Explorer Sport Trac</td>\n",
       "      <td>2995.0</td>\n",
       "    </tr>\n",
       "    <tr>\n",
       "      <th>224</th>\n",
       "      <td>Park Avenue</td>\n",
       "      <td>3000.0</td>\n",
       "    </tr>\n",
       "    <tr>\n",
       "      <th>124</th>\n",
       "      <td>Five Hundred</td>\n",
       "      <td>3000.0</td>\n",
       "    </tr>\n",
       "  </tbody>\n",
       "</table>\n",
       "</div>"
      ],
      "text/plain": [
       "              model_name   price\n",
       "240                  QX4  2000.0\n",
       "202       Mariner Hybrid  2953.0\n",
       "116  Explorer Sport Trac  2995.0\n",
       "224          Park Avenue  3000.0\n",
       "124         Five Hundred  3000.0"
      ]
     },
     "execution_count": 57,
     "metadata": {},
     "output_type": "execute_result"
    }
   ],
   "source": [
    "# look at grouped mean\n",
    "make_mean_price=data.groupby('model_name', as_index=False)['price'].mean()\n",
    "make_mean_price=make_mean_price.sort_values(by=['price'])\n",
    "make_mean_price.head()"
   ]
  },
  {
   "cell_type": "code",
   "execution_count": 58,
   "id": "713958cb",
   "metadata": {},
   "outputs": [],
   "source": [
    "# like with other column, divide 361 rows into 7 groups, different sizes but around same mean\n",
    "group_0 = make_mean_price.iloc[0:100,0] # 2000-15000\n",
    "group_1 = make_mean_price.iloc[100:194,0] # 15000-25000 \n",
    "group_2 = make_mean_price.iloc[194:237,0] # 25000-30000 \n",
    "group_3 = make_mean_price.iloc[237:279,0] # 30000-35000\n",
    "group_4 = make_mean_price.iloc[279:329,0] # 35000-50000\n",
    "group_5 = make_mean_price.iloc[319:352,0] # 50000-10000\n",
    "group_6 = make_mean_price.iloc[352:362,0] # rest\n",
    "\n",
    "# list of names in each group\n",
    "names_0 = get_names(group_0)\n",
    "names_1 = get_names(group_1)\n",
    "names_2 = get_names(group_2)\n",
    "names_3 = get_names(group_3)\n",
    "names_4 = get_names(group_4)\n",
    "names_5 = get_names(group_5)\n",
    "names_6 = get_names(group_6)\n",
    "\n",
    "# replace each object with a number of their group\n",
    "data_2['model_name'] = o_data['model_name'].apply(lambda x: 0 if x in names_0 else\n",
    "                                                          1 if x in names_1 else\n",
    "                                                          2 if x in names_2 else\n",
    "                                                          3 if x in names_3 else\n",
    "                                                          4 if x in names_4 else\n",
    "                                                          5 if x in names_5 else\n",
    "                                                          6 if x in names_6 else\n",
    "                                                         'wrong')"
   ]
  },
  {
   "attachments": {},
   "cell_type": "markdown",
   "id": "2441f325",
   "metadata": {},
   "source": [
    "#### interior_color"
   ]
  },
  {
   "cell_type": "code",
   "execution_count": 59,
   "id": "1a48ab3d",
   "metadata": {},
   "outputs": [
    {
     "data": {
      "text/plain": [
       "Black               1664\n",
       "None                 723\n",
       "Jet Black            369\n",
       "Gray                 286\n",
       "Black (Charcoal)     261\n",
       "Name: interior_color, dtype: int64"
      ]
     },
     "execution_count": 59,
     "metadata": {},
     "output_type": "execute_result"
    }
   ],
   "source": [
    "data.interior_color.value_counts().head()"
   ]
  },
  {
   "attachments": {},
   "cell_type": "markdown",
   "id": "d21e9c5b",
   "metadata": {},
   "source": [
    "extremely specific column, almost 700 different unique values where colour was described detailed(5 most common are 3 dif descriptions of black), hard to group and won't be a useful predictor, as this closely described color is very specific, and a interested buyer would probably describe colour differently than written in data -> drop column"
   ]
  },
  {
   "cell_type": "code",
   "execution_count": 60,
   "id": "f56cd0bc",
   "metadata": {},
   "outputs": [],
   "source": [
    "data_2 = data_2.drop(columns=[\"interior_color\"], axis = 1)"
   ]
  },
  {
   "attachments": {},
   "cell_type": "markdown",
   "id": "bcbce3b5",
   "metadata": {},
   "source": [
    "#### exterior_color"
   ]
  },
  {
   "cell_type": "code",
   "execution_count": 61,
   "id": "3cea1af3",
   "metadata": {},
   "outputs": [
    {
     "data": {
      "text/plain": [
       "Black           307\n",
       "White           212\n",
       "Gray            142\n",
       "Summit White    139\n",
       "Silver          126\n",
       "Name: exterior_color, dtype: int64"
      ]
     },
     "execution_count": 61,
     "metadata": {},
     "output_type": "execute_result"
    }
   ],
   "source": [
    "data_2.exterior_color.value_counts().head()"
   ]
  },
  {
   "attachments": {},
   "cell_type": "markdown",
   "id": "957578a9",
   "metadata": {},
   "source": [
    "Same problem as interior, but over 1000 unique values, extemely specific descriptons, useless, drop"
   ]
  },
  {
   "cell_type": "code",
   "execution_count": 62,
   "id": "1e2cb5cc",
   "metadata": {},
   "outputs": [],
   "source": [
    "data_2 = data_2.drop(columns=[\"exterior_color\"], axis = 1)"
   ]
  },
  {
   "attachments": {},
   "cell_type": "markdown",
   "id": "1957b6de",
   "metadata": {},
   "source": [
    "#### Trim: trim_name & trimID"
   ]
  },
  {
   "attachments": {},
   "cell_type": "markdown",
   "id": "714fbb09",
   "metadata": {},
   "source": [
    "As the two represent the same thing, we can drop trim_name which is harder to organize"
   ]
  },
  {
   "cell_type": "code",
   "execution_count": 63,
   "id": "f2a1a52e",
   "metadata": {},
   "outputs": [],
   "source": [
    "data_2 = data_2.drop(columns=[\"trim_name\"], axis = 1)"
   ]
  },
  {
   "cell_type": "code",
   "execution_count": 64,
   "id": "9139d0e4",
   "metadata": {},
   "outputs": [
    {
     "data": {
      "text/plain": [
       "0    t66989\n",
       "1    t67141\n",
       "2    t55391\n",
       "3    t73244\n",
       "4    t83299\n",
       "Name: trimId, dtype: object"
      ]
     },
     "execution_count": 64,
     "metadata": {},
     "output_type": "execute_result"
    }
   ],
   "source": [
    "data.trimId.head()"
   ]
  },
  {
   "cell_type": "code",
   "execution_count": 65,
   "id": "50f6d1bc",
   "metadata": {},
   "outputs": [
    {
     "data": {
      "text/plain": [
       "0.29918357172730936"
      ]
     },
     "execution_count": 65,
     "metadata": {},
     "output_type": "execute_result"
    }
   ],
   "source": [
    "# drop first letter of each row\n",
    "data_2['trimId'] = data['trimId'].str.slice(1)\n",
    "# convert to integer\n",
    "data_2['trimId']=data_2.trimId.astype(int)\n",
    "# look at correlation\n",
    "data_2['trimId'].corr(data_2['price'])"
   ]
  },
  {
   "attachments": {},
   "cell_type": "markdown",
   "id": "268e7e61",
   "metadata": {},
   "source": [
    "Positive correlation between trimID and price visible -> coud be a useful predictor"
   ]
  },
  {
   "attachments": {},
   "cell_type": "markdown",
   "id": "7eaf724c",
   "metadata": {},
   "source": [
    "#### city"
   ]
  },
  {
   "cell_type": "code",
   "execution_count": 66,
   "id": "6bd73d30",
   "metadata": {
    "scrolled": true
   },
   "outputs": [
    {
     "data": {
      "text/plain": [
       "Houston         78\n",
       "San Antonio     51\n",
       "Columbus        43\n",
       "Tampa           32\n",
       "Indianapolis    31\n",
       "Name: city, dtype: int64"
      ]
     },
     "execution_count": 66,
     "metadata": {},
     "output_type": "execute_result"
    }
   ],
   "source": [
    "data['city'].value_counts().head()"
   ]
  },
  {
   "attachments": {},
   "cell_type": "markdown",
   "id": "184e5086",
   "metadata": {},
   "source": [
    "Has over 1700 unique values, which are distributed relatively evenyl (not one city taking majortiy and the rest 1 or 2), making it hard to analyze initially."
   ]
  },
  {
   "cell_type": "code",
   "execution_count": 67,
   "id": "f0d8bfd5",
   "metadata": {},
   "outputs": [
    {
     "data": {
      "text/plain": [
       "[]"
      ]
     },
     "execution_count": 67,
     "metadata": {},
     "output_type": "execute_result"
    },
    {
     "data": {
      "image/png": "[encoded data removed]",
      "text/plain": [
       "<Figure size 432x288 with 1 Axes>"
      ]
     },
     "metadata": {
      "needs_background": "light"
     },
     "output_type": "display_data"
    }
   ],
   "source": [
    "# prelimiary selection of city's that come up more than 20 times for easier visualization\n",
    "data_2['city'] = o_data['city'].apply(lambda x: 'Houston' if x == 'Houston' else \n",
    "                                                          'San_Antonio' if x == 'San Antonio' else\n",
    "                                                          'Columbus' if x == 'Columbus' else\n",
    "                                                          'Tampa' if x == 'Tampa' else\n",
    "                                                          'Indianapolis' if x == 'Indianapolis' else\n",
    "                                                          'other')\n",
    "plt.figure(figsize=(6,4))\n",
    "sns.boxplot(x=\"city\",y=\"price\", data = data_2)\n",
    "plt.xticks(rotation=90)\n",
    "plt.ylim(0,80000)\n",
    "plt.plot()"
   ]
  },
  {
   "attachments": {},
   "cell_type": "markdown",
   "id": "e367bec7",
   "metadata": {},
   "source": [
    "From this graph, mean of price seems very unrelated of city, even other does not have a big range (just some outliers), does not look like a valuable predictor -> drop column"
   ]
  },
  {
   "cell_type": "code",
   "execution_count": 68,
   "id": "79338c37",
   "metadata": {},
   "outputs": [],
   "source": [
    "data_2 = data_2.drop(columns=[\"city\"], axis = 1)"
   ]
  },
  {
   "attachments": {},
   "cell_type": "markdown",
   "id": "3e4ae258",
   "metadata": {},
   "source": [
    "#### major_options"
   ]
  },
  {
   "cell_type": "code",
   "execution_count": 69,
   "id": "9af495d9",
   "metadata": {},
   "outputs": [
    {
     "data": {
      "text/plain": [
       "['Alloy Wheels', 'Bluetooth', 'Backup Camera']    311\n",
       "['Steel Wheels', 'Bluetooth', 'Backup Camera']    101\n",
       "['Alloy Wheels']                                   75\n",
       "['Alloy Wheels', 'Bluetooth']                      69\n",
       "['Steel Wheels']                                   66\n",
       "Name: major_options, dtype: int64"
      ]
     },
     "execution_count": 69,
     "metadata": {},
     "output_type": "execute_result"
    }
   ],
   "source": [
    "data.major_options.value_counts().head()"
   ]
  },
  {
   "attachments": {},
   "cell_type": "markdown",
   "id": "aaf859d1",
   "metadata": {},
   "source": [
    "almost 3000 unique values, each packed in list, drop or unpack list but that will make a lot of new columns don't think it's worth the work considering we have a lot of columns"
   ]
  },
  {
   "cell_type": "code",
   "execution_count": 70,
   "id": "782c8eb6",
   "metadata": {},
   "outputs": [],
   "source": [
    "data_2 = data_2.drop(columns=[\"major_options\"], axis = 1)"
   ]
  },
  {
   "attachments": {},
   "cell_type": "markdown",
   "id": "af982a10",
   "metadata": {},
   "source": [
    "#### sp_name"
   ]
  },
  {
   "cell_type": "code",
   "execution_count": 71,
   "id": "027680d4",
   "metadata": {},
   "outputs": [
    {
     "data": {
      "text/plain": [
       "Honda of Fort Myers                     7\n",
       "Planet Subaru                           6\n",
       "Simmons Rockwell Chevrolet Buick GMC    6\n",
       "Elder Ford of Tampa                     6\n",
       "ALM Kia South                           6\n",
       "Name: sp_name, dtype: int64"
      ]
     },
     "execution_count": 71,
     "metadata": {},
     "output_type": "execute_result"
    }
   ],
   "source": [
    "data.sp_name.value_counts().head()"
   ]
  },
  {
   "attachments": {},
   "cell_type": "markdown",
   "id": "ac409f0f",
   "metadata": {},
   "source": [
    "This information should be represented in franchise_make -> drop the column"
   ]
  },
  {
   "cell_type": "code",
   "execution_count": 72,
   "id": "a0efec0d",
   "metadata": {},
   "outputs": [],
   "source": [
    "data_2 = data_2.drop(columns=[\"sp_name\"], axis = 1)"
   ]
  },
  {
   "cell_type": "code",
   "execution_count": 73,
   "id": "2007a82d",
   "metadata": {},
   "outputs": [],
   "source": [
    "# drop categorical version of columns we have numerical copy of\n",
    "data_2 = data_2.drop(columns=[\"transmission\",\"wheel_system_display\",\"fuel_type\",\"wheel_system\"], axis = 1)"
   ]
  },
  {
   "cell_type": "code",
   "execution_count": 74,
   "id": "e60a2f76",
   "metadata": {},
   "outputs": [],
   "source": [
    "data = data_2"
   ]
  },
  {
   "cell_type": "code",
   "execution_count": 75,
   "id": "c3177eb7",
   "metadata": {},
   "outputs": [
    {
     "data": {
      "text/plain": [
       "back_legroom                                               float64\n",
       "city_fuel_economy                                          float64\n",
       "daysonmarket                                                 int64\n",
       "dealer_zip                                                   int64\n",
       "engine_displacement                                        float64\n",
       "fleet                                                        int64\n",
       "frame_damaged                                                int64\n",
       "franchise_make                                               int64\n",
       "front_legroom                                              float64\n",
       "fuel_tank_volume                                           float64\n",
       "has_accidents                                                int64\n",
       "height                                                     float64\n",
       "highway_fuel_economy                                       float64\n",
       "horsepower                                                 float64\n",
       "isCab                                                        int64\n",
       "is_new                                                       int64\n",
       "latitude                                                   float64\n",
       "length                                                     float64\n",
       "listed_date                                                  int32\n",
       "longitude                                                  float64\n",
       "maximum_seating                                            float64\n",
       "mileage                                                    float64\n",
       "model_name                                                   int64\n",
       "owner_count                                                float64\n",
       "power                                                        int64\n",
       "price                                                      float64\n",
       "salvage                                                      int64\n",
       "savings_amount                                               int64\n",
       "seller_rating                                              float64\n",
       "sp_id                                                      float64\n",
       "theft_title                                                  int64\n",
       "torque                                                       int64\n",
       "trimId                                                       int32\n",
       "wheelbase                                                  float64\n",
       "width                                                      float64\n",
       "year                                                         int64\n",
       "fuel_type_cat                                                int32\n",
       "transmission_cat                                             int32\n",
       "wheel_system_cat                                             int32\n",
       "wheel_system_display_cat                                     int32\n",
       "body_type_Coupe                                              uint8\n",
       "body_type_Hatchback                                          uint8\n",
       "body_type_Minivan                                            uint8\n",
       "body_type_Pickup_Truck                                       uint8\n",
       "body_type_SUV_Crossover                                      uint8\n",
       "body_type_Sedan                                              uint8\n",
       "body_type_Van                                                uint8\n",
       "body_type_Wagon                                              uint8\n",
       "engine_cylinders_I4                                          uint8\n",
       "engine_cylinders_V6                                          uint8\n",
       "engine_cylinders_V6_Flex_Fuel_Vehicle                        uint8\n",
       "engine_cylinders_V8                                          uint8\n",
       "engine_cylinders_other                                       uint8\n",
       "transmission_display_6_Speed_Automatic                       uint8\n",
       "transmission_display_8_Speed_Automatic                       uint8\n",
       "transmission_display_9_Speed_Automatic                       uint8\n",
       "transmission_display_Automatic                               uint8\n",
       "transmission_display_Continuously_Variable_Transmission      uint8\n",
       "transmission_display_other                                   uint8\n",
       "dtype: object"
      ]
     },
     "execution_count": 75,
     "metadata": {},
     "output_type": "execute_result"
    }
   ],
   "source": [
    "data.dtypes"
   ]
  },
  {
   "cell_type": "code",
   "execution_count": 76,
   "id": "2a720925",
   "metadata": {},
   "outputs": [
    {
     "data": {
      "text/plain": [
       "(6000, 59)"
      ]
     },
     "execution_count": 76,
     "metadata": {},
     "output_type": "execute_result"
    }
   ],
   "source": [
    "data.shape"
   ]
  },
  {
   "attachments": {},
   "cell_type": "markdown",
   "id": "75513d12",
   "metadata": {},
   "source": [
    "everything is in numerical form, we still have 6000 rows and now 59 columns"
   ]
  },
  {
   "cell_type": "code",
   "execution_count": 78,
   "id": "5034d895",
   "metadata": {},
   "outputs": [
    {
     "data": {
      "text/html": [
       "<div>\n",
       "<style scoped>\n",
       "    .dataframe tbody tr th:only-of-type {\n",
       "        vertical-align: middle;\n",
       "    }\n",
       "\n",
       "    .dataframe tbody tr th {\n",
       "        vertical-align: top;\n",
       "    }\n",
       "\n",
       "    .dataframe thead th {\n",
       "        text-align: right;\n",
       "    }\n",
       "</style>\n",
       "<table border=\"1\" class=\"dataframe\">\n",
       "  <thead>\n",
       "    <tr style=\"text-align: right;\">\n",
       "      <th></th>\n",
       "      <th>index</th>\n",
       "      <th>0</th>\n",
       "    </tr>\n",
       "  </thead>\n",
       "  <tbody>\n",
       "    <tr>\n",
       "      <th>22</th>\n",
       "      <td>model_name</td>\n",
       "      <td>0.582557</td>\n",
       "    </tr>\n",
       "    <tr>\n",
       "      <th>13</th>\n",
       "      <td>horsepower</td>\n",
       "      <td>0.536780</td>\n",
       "    </tr>\n",
       "    <tr>\n",
       "      <th>24</th>\n",
       "      <td>power</td>\n",
       "      <td>0.517518</td>\n",
       "    </tr>\n",
       "    <tr>\n",
       "      <th>31</th>\n",
       "      <td>torque</td>\n",
       "      <td>0.513047</td>\n",
       "    </tr>\n",
       "    <tr>\n",
       "      <th>4</th>\n",
       "      <td>engine_displacement</td>\n",
       "      <td>0.359656</td>\n",
       "    </tr>\n",
       "    <tr>\n",
       "      <th>9</th>\n",
       "      <td>fuel_tank_volume</td>\n",
       "      <td>0.349802</td>\n",
       "    </tr>\n",
       "    <tr>\n",
       "      <th>51</th>\n",
       "      <td>engine_cylinders_V8</td>\n",
       "      <td>0.309665</td>\n",
       "    </tr>\n",
       "    <tr>\n",
       "      <th>33</th>\n",
       "      <td>wheelbase</td>\n",
       "      <td>0.303458</td>\n",
       "    </tr>\n",
       "    <tr>\n",
       "      <th>32</th>\n",
       "      <td>trimId</td>\n",
       "      <td>0.299184</td>\n",
       "    </tr>\n",
       "    <tr>\n",
       "      <th>35</th>\n",
       "      <td>year</td>\n",
       "      <td>0.292627</td>\n",
       "    </tr>\n",
       "    <tr>\n",
       "      <th>7</th>\n",
       "      <td>franchise_make</td>\n",
       "      <td>0.291321</td>\n",
       "    </tr>\n",
       "    <tr>\n",
       "      <th>17</th>\n",
       "      <td>length</td>\n",
       "      <td>0.289712</td>\n",
       "    </tr>\n",
       "    <tr>\n",
       "      <th>34</th>\n",
       "      <td>width</td>\n",
       "      <td>0.281954</td>\n",
       "    </tr>\n",
       "    <tr>\n",
       "      <th>27</th>\n",
       "      <td>savings_amount</td>\n",
       "      <td>0.260102</td>\n",
       "    </tr>\n",
       "    <tr>\n",
       "      <th>11</th>\n",
       "      <td>height</td>\n",
       "      <td>0.211064</td>\n",
       "    </tr>\n",
       "    <tr>\n",
       "      <th>38</th>\n",
       "      <td>wheel_system_cat</td>\n",
       "      <td>-0.218204</td>\n",
       "    </tr>\n",
       "    <tr>\n",
       "      <th>48</th>\n",
       "      <td>engine_cylinders_I4</td>\n",
       "      <td>-0.302891</td>\n",
       "    </tr>\n",
       "    <tr>\n",
       "      <th>1</th>\n",
       "      <td>city_fuel_economy</td>\n",
       "      <td>-0.316362</td>\n",
       "    </tr>\n",
       "    <tr>\n",
       "      <th>21</th>\n",
       "      <td>mileage</td>\n",
       "      <td>-0.343969</td>\n",
       "    </tr>\n",
       "    <tr>\n",
       "      <th>12</th>\n",
       "      <td>highway_fuel_economy</td>\n",
       "      <td>-0.344975</td>\n",
       "    </tr>\n",
       "  </tbody>\n",
       "</table>\n",
       "</div>"
      ],
      "text/plain": [
       "                   index         0\n",
       "22            model_name  0.582557\n",
       "13            horsepower  0.536780\n",
       "24                 power  0.517518\n",
       "31                torque  0.513047\n",
       "4    engine_displacement  0.359656\n",
       "9       fuel_tank_volume  0.349802\n",
       "51   engine_cylinders_V8  0.309665\n",
       "33             wheelbase  0.303458\n",
       "32                trimId  0.299184\n",
       "35                  year  0.292627\n",
       "7         franchise_make  0.291321\n",
       "17                length  0.289712\n",
       "34                 width  0.281954\n",
       "27        savings_amount  0.260102\n",
       "11                height  0.211064\n",
       "38      wheel_system_cat -0.218204\n",
       "48   engine_cylinders_I4 -0.302891\n",
       "1      city_fuel_economy -0.316362\n",
       "21               mileage -0.343969\n",
       "12  highway_fuel_economy -0.344975"
      ]
     },
     "execution_count": 78,
     "metadata": {},
     "output_type": "execute_result"
    }
   ],
   "source": [
    "final_corrs = pd.DataFrame(data.corrwith(data.price)).reset_index().sort_values(by = 0, ascending = False)\n",
    "\n",
    "final_corr_cols = list(final_corrs.loc[(final_corrs[0] >= 0.2) | (final_corrs[0] <= -0.2)][1:]['index'])\n",
    "final_corrs.loc[(final_corrs[0] >= 0.2) | (final_corrs[0] <= -0.2)][1:]"
   ]
  },
  {
   "cell_type": "code",
   "execution_count": 79,
   "id": "5387bcc3",
   "metadata": {},
   "outputs": [
    {
     "data": {
      "text/plain": [
       "(6000, 20)"
      ]
     },
     "execution_count": 79,
     "metadata": {},
     "output_type": "execute_result"
    }
   ],
   "source": [
    "final_dat = data.copy()\n",
    "\n",
    "for col in final_dat:\n",
    "    if col not in final_corr_cols:\n",
    "        final_dat.drop(col, axis = 1, inplace = True)\n",
    "\n",
    "final_dat.shape"
   ]
  },
  {
   "attachments": {},
   "cell_type": "markdown",
   "id": "2ed6f364",
   "metadata": {},
   "source": [
    "We have 20 predictors which have a reasonable correlation with price which we will be the only predictors we use in our model building. \n",
    "\n",
    "When we develop our models, we will print the feature importances and note which features are deemed significant by each model. "
   ]
  },
  {
   "cell_type": "code",
   "execution_count": null,
   "id": "c4ee986d",
   "metadata": {},
   "outputs": [],
   "source": [
    "# original data had -- for this observation so we can just drop it.\n",
    "final_dat.isna().sum()\n",
    "final_dat.iloc[29]\n",
    "final_dat.drop(29, inplace = True)\n",
    "y.drop(29, inplace = True)"
   ]
  },
  {
   "cell_type": "code",
   "execution_count": null,
   "id": "d47291f8",
   "metadata": {},
   "outputs": [],
   "source": [
    "X_train, X_test, y_train, y_test = train_test_split(final_dat, y, test_size = 0.3, random_state = 4)"
   ]
  },
  {
   "attachments": {},
   "cell_type": "markdown",
   "id": "36fbeb86",
   "metadata": {},
   "source": [
    "# Please all use the same random_state = 4 in ALL model development so we can be consistent and reproduce results\n",
    "\n",
    "### and use the same data split as above"
   ]
  },
  {
   "attachments": {},
   "cell_type": "markdown",
   "id": "1c783976",
   "metadata": {},
   "source": []
  }
 ],
 "metadata": {
  "kernelspec": {
   "display_name": "Python 3 (ipykernel)",
   "language": "python",
   "name": "python3"
  },
  "language_info": {
   "codemirror_mode": {
    "name": "ipython",
    "version": 3
   },
   "file_extension": ".py",
   "mimetype": "text/x-python",
   "name": "python",
   "nbconvert_exporter": "python",
   "pygments_lexer": "ipython3",
   "version": "3.9.12"
  }
 },
 "nbformat": 4,
 "nbformat_minor": 5
}
