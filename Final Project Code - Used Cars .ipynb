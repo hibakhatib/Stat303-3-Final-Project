{
 "cells": [
  {
   "cell_type": "raw",
   "id": "33dd6c4c",
   "metadata": {},
   "source": [
    "---\n",
    "title: \"Project Code\"\n",
    "subtitle: data_sci\n",
    "author: Hiba Khatib, Emily Leibfritz, Nicole Birova, and YuYan Zhang \n",
    "date: 05/23/2023\n",
    "number-sections: true\n",
    "abstract: _This file contains the code for the project on <>, as part of the STAT303-3 course in Spring 2023_.\n",
    "format: \n",
    "  html:\n",
    "    toc: true\n",
    "    toc-title: Contents\n",
    "    self-contained: true\n",
    "    font-size: 100%\n",
    "    toc-depth: 4\n",
    "    mainfont: serif\n",
    "jupyter: python3\n",
    "---"
   ]
  },
  {
   "cell_type": "code",
   "execution_count": 53,
   "id": "7e1aeaa3",
   "metadata": {},
   "outputs": [],
   "source": [
    "from sklearn.linear_model import LinearRegression\n",
    "import pandas as pd\n",
    "import numpy as np \n",
    "import seaborn as sns \n",
    "import matplotlib.pyplot as plt\n",
    "from sklearn.model_selection import train_test_split, cross_val_predict, cross_val_score, GridSearchCV, ParameterGrid, KFold\n",
    "from sklearn.preprocessing import StandardScaler, PolynomialFeatures\n",
    "from sklearn.metrics import accuracy_score, mean_absolute_error, mean_squared_error, r2_score, \\\n",
    "roc_curve, auc, precision_score, recall_score, confusion_matrix\n",
    "import statsmodels.formula.api as smf\n",
    "import statsmodels.api as sm\n",
    "from patsy import dmatrix\n",
    "from pyearth import Earth\n",
    "from sklearn.tree import DecisionTreeClassifier, DecisionTreeRegressor\n",
    "from sklearn.ensemble import BaggingRegressor,BaggingClassifier,RandomForestRegressor,RandomForestClassifier\n",
    "from sklearn.neighbors import KNeighborsRegressor\n",
    "import warnings\n",
    "warnings.filterwarnings('ignore')\n",
    "from sklearn.preprocessing import LabelEncoder"
   ]
  },
  {
   "cell_type": "code",
   "execution_count": 54,
   "id": "2e72b220",
   "metadata": {},
   "outputs": [
    {
     "data": {
      "text/html": [
       "<div>\n",
       "<style scoped>\n",
       "    .dataframe tbody tr th:only-of-type {\n",
       "        vertical-align: middle;\n",
       "    }\n",
       "\n",
       "    .dataframe tbody tr th {\n",
       "        vertical-align: top;\n",
       "    }\n",
       "\n",
       "    .dataframe thead th {\n",
       "        text-align: right;\n",
       "    }\n",
       "</style>\n",
       "<table border=\"1\" class=\"dataframe\">\n",
       "  <thead>\n",
       "    <tr style=\"text-align: right;\">\n",
       "      <th></th>\n",
       "      <th>vin</th>\n",
       "      <th>back_legroom</th>\n",
       "      <th>body_type</th>\n",
       "      <th>city</th>\n",
       "      <th>city_fuel_economy</th>\n",
       "      <th>daysonmarket</th>\n",
       "      <th>dealer_zip</th>\n",
       "      <th>description</th>\n",
       "      <th>engine_cylinders</th>\n",
       "      <th>engine_displacement</th>\n",
       "      <th>...</th>\n",
       "      <th>torque</th>\n",
       "      <th>transmission</th>\n",
       "      <th>transmission_display</th>\n",
       "      <th>trimId</th>\n",
       "      <th>trim_name</th>\n",
       "      <th>wheel_system</th>\n",
       "      <th>wheel_system_display</th>\n",
       "      <th>wheelbase</th>\n",
       "      <th>width</th>\n",
       "      <th>year</th>\n",
       "    </tr>\n",
       "  </thead>\n",
       "  <tbody>\n",
       "    <tr>\n",
       "      <th>0</th>\n",
       "      <td>5LMCJ2C97HUL71203</td>\n",
       "      <td>36.8 in</td>\n",
       "      <td>SUV / Crossover</td>\n",
       "      <td>Devine</td>\n",
       "      <td>21.0</td>\n",
       "      <td>40</td>\n",
       "      <td>78016</td>\n",
       "      <td>*We have 19 sources of financing and second ch...</td>\n",
       "      <td>I4</td>\n",
       "      <td>2000.0</td>\n",
       "      <td>...</td>\n",
       "      <td>270 lb-ft @ 3,000 RPM</td>\n",
       "      <td>A</td>\n",
       "      <td>Automatic</td>\n",
       "      <td>t66989</td>\n",
       "      <td>Select FWD</td>\n",
       "      <td>FWD</td>\n",
       "      <td>Front-Wheel Drive</td>\n",
       "      <td>105.9 in</td>\n",
       "      <td>84.1 in</td>\n",
       "      <td>2017</td>\n",
       "    </tr>\n",
       "    <tr>\n",
       "      <th>1</th>\n",
       "      <td>1FM5K8D87HGE07214</td>\n",
       "      <td>39.5 in</td>\n",
       "      <td>SUV / Crossover</td>\n",
       "      <td>Buffalo</td>\n",
       "      <td>16.0</td>\n",
       "      <td>9</td>\n",
       "      <td>55313</td>\n",
       "      <td>We are open for business.    Purchase your nex...</td>\n",
       "      <td>V6</td>\n",
       "      <td>3500.0</td>\n",
       "      <td>...</td>\n",
       "      <td>255 lb-ft @ 4,000 RPM</td>\n",
       "      <td>A</td>\n",
       "      <td>6-Speed Automatic</td>\n",
       "      <td>t67141</td>\n",
       "      <td>XLT AWD</td>\n",
       "      <td>AWD</td>\n",
       "      <td>All-Wheel Drive</td>\n",
       "      <td>112.8 in</td>\n",
       "      <td>90.2 in</td>\n",
       "      <td>2017</td>\n",
       "    </tr>\n",
       "  </tbody>\n",
       "</table>\n",
       "<p>2 rows × 57 columns</p>\n",
       "</div>"
      ],
      "text/plain": [
       "                 vin back_legroom        body_type     city  \\\n",
       "0  5LMCJ2C97HUL71203      36.8 in  SUV / Crossover   Devine   \n",
       "1  1FM5K8D87HGE07214      39.5 in  SUV / Crossover  Buffalo   \n",
       "\n",
       "   city_fuel_economy  daysonmarket  dealer_zip  \\\n",
       "0               21.0            40       78016   \n",
       "1               16.0             9       55313   \n",
       "\n",
       "                                         description engine_cylinders  \\\n",
       "0  *We have 19 sources of financing and second ch...               I4   \n",
       "1  We are open for business.    Purchase your nex...               V6   \n",
       "\n",
       "   engine_displacement  ...                 torque transmission  \\\n",
       "0               2000.0  ...  270 lb-ft @ 3,000 RPM            A   \n",
       "1               3500.0  ...  255 lb-ft @ 4,000 RPM            A   \n",
       "\n",
       "   transmission_display  trimId   trim_name wheel_system wheel_system_display  \\\n",
       "0             Automatic  t66989  Select FWD          FWD    Front-Wheel Drive   \n",
       "1     6-Speed Automatic  t67141     XLT AWD          AWD      All-Wheel Drive   \n",
       "\n",
       "  wheelbase    width  year  \n",
       "0  105.9 in  84.1 in  2017  \n",
       "1  112.8 in  90.2 in  2017  \n",
       "\n",
       "[2 rows x 57 columns]"
      ]
     },
     "execution_count": 54,
     "metadata": {},
     "output_type": "execute_result"
    }
   ],
   "source": [
    "data = pd.read_csv('us_used_cars_final.csv')\n",
    "data.head(2)"
   ]
  },
  {
   "cell_type": "markdown",
   "id": "fe7ea9bb",
   "metadata": {},
   "source": [
    "## Data quality check / cleaning / preparation \n",
    "\n",
    "Put code with comments. The comments should explain the code such that it can be easily understood. You may put text *(in a markdown cell)* before a large chunk of code to explain the overall purpose of the code, if it is not intuitive. **Put the name of the person / persons who contributed to each code chunk / set of code chunks.** An example is given below."
   ]
  },
  {
   "cell_type": "markdown",
   "id": "371a5a4a",
   "metadata": {},
   "source": [
    "### Distribution of response\n",
    "*By Hiba Khatib*"
   ]
  },
  {
   "cell_type": "code",
   "execution_count": 55,
   "id": "b868f6b5",
   "metadata": {},
   "outputs": [
    {
     "name": "stderr",
     "output_type": "stream",
     "text": [
      "No artists with labels found to put in legend.  Note that artists whose label start with an underscore are ignored when legend() is called with no argument.\n"
     ]
    },
    {
     "data": {
      "image/png": "[encoded data removed]",
      "text/plain": [
       "<Figure size 720x432 with 1 Axes>"
      ]
     },
     "metadata": {
      "needs_background": "light"
     },
     "output_type": "display_data"
    },
    {
     "name": "stdout",
     "output_type": "stream",
     "text": [
      "Mean of price:  24568.3835\n",
      "Standard deviation:  16742.99685916766\n"
     ]
    }
   ],
   "source": [
    "#...Plot for distribution of response...#\n",
    "\n",
    "plt.figure(figsize=(10,6))\n",
    "sns.distplot(np.log(data.price))\n",
    "plt.title('Price')\n",
    "plt.legend()\n",
    "plt.xlabel('Price')\n",
    "plt.ylabel('Frequency')\n",
    "#removing the scientific notation\n",
    "plt.ticklabel_format(style='plain', axis='x')\n",
    "plt.show()\n",
    "\n",
    "# Mean and standard deviation of response #\n",
    "\n",
    "print(\"Mean of price: \", np.mean(data.price))\n",
    "print(\"Standard deviation: \", np.std(data.price))"
   ]
  },
  {
   "cell_type": "code",
   "execution_count": 107,
   "id": "01d36463",
   "metadata": {},
   "outputs": [
    {
     "data": {
      "text/plain": [
       "<AxesSubplot:xlabel='price'>"
      ]
     },
     "execution_count": 107,
     "metadata": {},
     "output_type": "execute_result"
    },
    {
     "data": {
      "image/png": "[encoded data removed]",
      "text/plain": [
       "<Figure size 432x288 with 1 Axes>"
      ]
     },
     "metadata": {
      "needs_background": "light"
     },
     "output_type": "display_data"
    }
   ],
   "source": [
    "# checking for outlying observations \n",
    "sns.boxplot(data_2.price, orient = \"v\")"
   ]
  },
  {
   "cell_type": "markdown",
   "id": "ff6b5e83",
   "metadata": {},
   "source": [
    "### Data Cleaning, Preparation, and EDA\n",
    "*By Hiba Khatib & Emily Leibfritz*"
   ]
  },
  {
   "cell_type": "markdown",
   "id": "77e8416c",
   "metadata": {},
   "source": [
    "### brief summary of all the things we did "
   ]
  },
  {
   "cell_type": "code",
   "execution_count": 56,
   "id": "9137d2b2",
   "metadata": {},
   "outputs": [
    {
     "name": "stdout",
     "output_type": "stream",
     "text": [
      "['fleet', 'frame_damaged', 'franchise_dealer', 'has_accidents', 'isCab', 'is_new', 'salvage', 'theft_title']\n"
     ]
    }
   ],
   "source": [
    "# feature engineering\n",
    "\n",
    "    # encoding True/False as 1/0s\n",
    "bool_cols = data.dtypes[data.dtypes == bool]\n",
    "bool_cols = pd.DataFrame(bool_cols).reset_index()\n",
    "bool_cols = bool_cols['index']\n",
    "bool_cols = list(bool_cols)\n",
    "print(bool_cols)\n",
    "for col in bool_cols:\n",
    "    data[col] = data[col].map({False: 0, True: 1})\n",
    "    \n",
    "\n",
    "    # numerically encoding categorical variables with at most 5 unique values \n",
    "cols_map = []\n",
    "for c in data.columns:\n",
    "    col_len = (len(data[c].unique()))\n",
    "    if col_len <=5:\n",
    "        cols_map.append(c)\n",
    "[cols_map.remove(c) for c in bool_cols] # removing the boolean columns from the list\n",
    "\n",
    "    # performing the encoding\n",
    "le = LabelEncoder()\n",
    "encoder_dict = {key: None for key in cols_map}\n",
    "for c in cols_map:\n",
    "    encoder_dict[c] = data[c].unique()\n",
    "    col_name = str(c)+\"_cat\"\n",
    "    data[col_name] = le.fit_transform(data[c])\n",
    "    encoder_dict[col_name] = le.fit_transform(encoder_dict[c])\n",
    "    \n",
    "    # removing units from numerical columns \n",
    "\n",
    "data['front_legroom'] = data['front_legroom'].map(lambda x: x.lstrip('+-').rstrip('in'))\n",
    "data['width'] = data['width'].map(lambda x: x.lstrip('+-').rstrip('in'))\n",
    "data['height'] = data['height'].map(lambda x: x.lstrip('+-').rstrip('in'))\n",
    "data['length'] = data['length'].map(lambda x: x.lstrip('+-').rstrip('in'))\n",
    "data['wheelbase'] = data['wheelbase'].map(lambda x: x.lstrip('+-').rstrip('in'))\n",
    "data['back_legroom'] = data['back_legroom'].map(lambda x: x.lstrip('+-').rstrip('in'))\n",
    "data['maximum_seating'] = data['maximum_seating'].map(lambda x: x.lstrip('+-').rstrip('seating'))\n",
    "data['fuel_tank_volume'] = data['fuel_tank_volume'].map(lambda x: x.lstrip('+-').rstrip('gal'))\n",
    "data['power'] = data['power'].str[:3] # keeping only numerical value\n",
    "data['torque'] = data['torque'].str[:3]\n",
    "\n",
    "    # converting data types to numerical\n",
    "data.power = pd.to_numeric(data.power)\n",
    "data.back_legroom = pd.to_numeric(data.back_legroom)\n",
    "data.front_legroom = pd.to_numeric(data.front_legroom)\n",
    "data.width = pd.to_numeric(data.width)\n",
    "data.height = pd.to_numeric(data.height)\n",
    "data.length = pd.to_numeric(data.length)\n",
    "data.wheelbase = pd.to_numeric(data.wheelbase)\n",
    "data.maximum_seating = pd.to_numeric(data.maximum_seating)\n",
    "data.fuel_tank_volume = pd.to_numeric(data.fuel_tank_volume)\n",
    "data.torque = pd.to_numeric(data.torque)"
   ]
  },
  {
   "cell_type": "code",
   "execution_count": 57,
   "id": "17e15b06",
   "metadata": {},
   "outputs": [
    {
     "data": {
      "text/plain": [
       "Index(['vin', 'back_legroom', 'body_type', 'city', 'city_fuel_economy',\n",
       "       'daysonmarket', 'dealer_zip', 'description', 'engine_cylinders',\n",
       "       'engine_displacement', 'engine_type', 'exterior_color', 'fleet',\n",
       "       'frame_damaged', 'franchise_dealer', 'franchise_make', 'front_legroom',\n",
       "       'fuel_tank_volume', 'fuel_type', 'has_accidents', 'height',\n",
       "       'highway_fuel_economy', 'horsepower', 'interior_color', 'isCab',\n",
       "       'is_new', 'latitude', 'length', 'listed_date', 'listing_color',\n",
       "       'listing_id', 'longitude', 'main_picture_url', 'major_options',\n",
       "       'make_name', 'maximum_seating', 'mileage', 'model_name', 'owner_count',\n",
       "       'power', 'price', 'salvage', 'savings_amount', 'seller_rating', 'sp_id',\n",
       "       'sp_name', 'theft_title', 'torque', 'transmission',\n",
       "       'transmission_display', 'trimId', 'trim_name', 'wheel_system',\n",
       "       'wheel_system_display', 'wheelbase', 'width', 'year', 'fuel_type_cat',\n",
       "       'transmission_cat', 'wheel_system_cat', 'wheel_system_display_cat'],\n",
       "      dtype='object')"
      ]
     },
     "execution_count": 57,
     "metadata": {},
     "output_type": "execute_result"
    }
   ],
   "source": [
    "data.columns"
   ]
  },
  {
   "cell_type": "code",
   "execution_count": 58,
   "id": "25ddf4d3",
   "metadata": {},
   "outputs": [
    {
     "name": "stdout",
     "output_type": "stream",
     "text": [
      "Data shape after dropping unique features:  (6000, 51)\n",
      "back_legroom                False\n",
      "body_type                   False\n",
      "city_fuel_economy           False\n",
      "daysonmarket                False\n",
      "dealer_zip                  False\n",
      "engine_cylinders            False\n",
      "engine_displacement         False\n",
      "engine_type                 False\n",
      "fleet                       False\n",
      "frame_damaged               False\n",
      "franchise_dealer             True\n",
      "franchise_make              False\n",
      "front_legroom               False\n",
      "fuel_tank_volume            False\n",
      "fuel_type                   False\n",
      "has_accidents               False\n",
      "height                      False\n",
      "highway_fuel_economy        False\n",
      "horsepower                  False\n",
      "isCab                       False\n",
      "is_new                      False\n",
      "latitude                    False\n",
      "length                      False\n",
      "listed_date                 False\n",
      "longitude                   False\n",
      "major_options               False\n",
      "maximum_seating             False\n",
      "mileage                     False\n",
      "model_name                  False\n",
      "owner_count                 False\n",
      "power                       False\n",
      "price                       False\n",
      "salvage                     False\n",
      "savings_amount              False\n",
      "seller_rating               False\n",
      "sp_id                       False\n",
      "theft_title                 False\n",
      "torque                      False\n",
      "transmission                False\n",
      "transmission_display        False\n",
      "trimId                      False\n",
      "trim_name                   False\n",
      "wheel_system                False\n",
      "wheel_system_display        False\n",
      "wheelbase                   False\n",
      "width                       False\n",
      "year                        False\n",
      "fuel_type_cat               False\n",
      "transmission_cat            False\n",
      "wheel_system_cat            False\n",
      "wheel_system_display_cat    False\n",
      "dtype: bool\n"
     ]
    }
   ],
   "source": [
    "# dropping unique features\n",
    "\n",
    "data.drop(columns = ['vin', 'listing_id', 'main_picture_url', 'description', 'sp_name', 'make_name', 'city'], inplace = True)\n",
    "\n",
    "    # color columns\n",
    "data.drop(columns = ['listing_color', 'interior_color', 'exterior_color'], inplace = True)\n",
    "\n",
    "print(\"Data shape after dropping unique features: \", data.shape)\n",
    "\n",
    "# dropping constant predictor \n",
    "print(data.nunique() == 1)\n",
    "data.drop(columns = ['franchise_dealer'], inplace = True)\n",
    "\n",
    "# dropping highly correlated columns \n",
    "\n",
    "data.drop(columns = ['trim_name', 'engine_type', 'major_options', 'horsepower'], inplace = True)"
   ]
  },
  {
   "cell_type": "code",
   "execution_count": 59,
   "id": "c71574b5",
   "metadata": {},
   "outputs": [
    {
     "name": "stdout",
     "output_type": "stream",
     "text": [
      "Final data shape after cleaning and dropping unnecessary features:  (6000, 46)\n"
     ]
    }
   ],
   "source": [
    "print(\"Final data shape after cleaning and dropping unnecessary features: \", data.shape)"
   ]
  },
  {
   "cell_type": "markdown",
   "id": "89f2cd9e",
   "metadata": {},
   "source": [
    "### Exploring Trends in Categorical Predictors"
   ]
  },
  {
   "cell_type": "code",
   "execution_count": 60,
   "id": "ead9fbf4",
   "metadata": {},
   "outputs": [],
   "source": [
    "data_2 = data.copy()\n",
    "# make seperate df to just look at categorical\n",
    "o_data = data.drop(columns = [\"back_legroom\", \"wheel_system_display\", \"wheelbase\", \"width\", \"front_legroom\", \n",
    "                              \"fuel_tank_volume\", \"height\", \"torque\", \"maximum_seating\",\"transmission_cat\",\n",
    "                              \"power\",\"city_fuel_economy\",\"daysonmarket\",\"dealer_zip\",\"transmission\",\"wheel_system_display_cat\",\n",
    "                              \"fuel_type_cat\",\"wheel_system\",\"wheel_system_cat\",\"fuel_type\",\n",
    "                              \"engine_displacement\",\"fleet\",\"frame_damaged\",\"has_accidents\",\"highway_fuel_economy\",\n",
    "                              \"isCab\",\"is_new\",\"latitude\",\"longitude\",\"mileage\",\"owner_count\",\"salvage\",\n",
    "                              \"savings_amount\",\"seller_rating\",\"sp_id\",\"theft_title\",\"year\"], axis = 1)\n",
    "# taken out: \"franchise_dealer\"\n",
    "cols = o_data.columns\n",
    "name = []\n",
    "unique_value = []\n",
    "for i in range(0,len(cols)):\n",
    "    c = cols[i]\n",
    "    unique = len(data[c].unique())\n",
    "    unique_value.append(unique)\n",
    "    name.append(c)"
   ]
  },
  {
   "cell_type": "code",
   "execution_count": 61,
   "id": "15d9d33d",
   "metadata": {},
   "outputs": [
    {
     "data": {
      "text/html": [
       "<div>\n",
       "<style scoped>\n",
       "    .dataframe tbody tr th:only-of-type {\n",
       "        vertical-align: middle;\n",
       "    }\n",
       "\n",
       "    .dataframe tbody tr th {\n",
       "        vertical-align: top;\n",
       "    }\n",
       "\n",
       "    .dataframe thead th {\n",
       "        text-align: right;\n",
       "    }\n",
       "</style>\n",
       "<table border=\"1\" class=\"dataframe\">\n",
       "  <thead>\n",
       "    <tr style=\"text-align: right;\">\n",
       "      <th></th>\n",
       "      <th>column</th>\n",
       "      <th>unique_values</th>\n",
       "    </tr>\n",
       "  </thead>\n",
       "  <tbody>\n",
       "    <tr>\n",
       "      <th>0</th>\n",
       "      <td>body_type</td>\n",
       "      <td>9</td>\n",
       "    </tr>\n",
       "    <tr>\n",
       "      <th>1</th>\n",
       "      <td>engine_cylinders</td>\n",
       "      <td>20</td>\n",
       "    </tr>\n",
       "    <tr>\n",
       "      <th>7</th>\n",
       "      <td>transmission_display</td>\n",
       "      <td>21</td>\n",
       "    </tr>\n",
       "    <tr>\n",
       "      <th>2</th>\n",
       "      <td>franchise_make</td>\n",
       "      <td>40</td>\n",
       "    </tr>\n",
       "    <tr>\n",
       "      <th>4</th>\n",
       "      <td>listed_date</td>\n",
       "      <td>321</td>\n",
       "    </tr>\n",
       "    <tr>\n",
       "      <th>5</th>\n",
       "      <td>model_name</td>\n",
       "      <td>361</td>\n",
       "    </tr>\n",
       "    <tr>\n",
       "      <th>3</th>\n",
       "      <td>length</td>\n",
       "      <td>384</td>\n",
       "    </tr>\n",
       "    <tr>\n",
       "      <th>8</th>\n",
       "      <td>trimId</td>\n",
       "      <td>3087</td>\n",
       "    </tr>\n",
       "    <tr>\n",
       "      <th>6</th>\n",
       "      <td>price</td>\n",
       "      <td>3531</td>\n",
       "    </tr>\n",
       "  </tbody>\n",
       "</table>\n",
       "</div>"
      ],
      "text/plain": [
       "                 column  unique_values\n",
       "0             body_type              9\n",
       "1      engine_cylinders             20\n",
       "7  transmission_display             21\n",
       "2        franchise_make             40\n",
       "4           listed_date            321\n",
       "5            model_name            361\n",
       "3                length            384\n",
       "8                trimId           3087\n",
       "6                 price           3531"
      ]
     },
     "execution_count": 61,
     "metadata": {},
     "output_type": "execute_result"
    }
   ],
   "source": [
    "# Create the pandas DataFrame with object columns and their unique values\n",
    "data_ = {'column': name, 'unique_values':unique_value}\n",
    "o_unique_values_count = pd.DataFrame(data_)\n",
    "o_unique_values_count.sort_values(by=['unique_values'])"
   ]
  },
  {
   "cell_type": "markdown",
   "id": "1b31af81",
   "metadata": {},
   "source": [
    "From this information, we can simply visualize with boxplot any variables until make_name, to see their relevance and adjust them. After that we will look more thoroughly, maybe group data. Consider dropping anything with other 1000 unique values as we only have 6000 rows, so might not be good predictors, but will decide on case by case basis."
   ]
  },
  {
   "cell_type": "code",
   "execution_count": 62,
   "id": "249d7c65",
   "metadata": {},
   "outputs": [
    {
     "data": {
      "text/plain": [
       "[]"
      ]
     },
     "execution_count": 62,
     "metadata": {},
     "output_type": "execute_result"
    },
    {
     "data": {
      "image/png": "[encoded data removed]",
      "text/plain": [
       "<Figure size 720x288 with 1 Axes>"
      ]
     },
     "metadata": {
      "needs_background": "light"
     },
     "output_type": "display_data"
    }
   ],
   "source": [
    "plt.figure(figsize=(10,4))\n",
    "sns.boxplot(x=\"body_type\",y=\"price\", data = data)\n",
    "plt.xticks(rotation=90)\n",
    "plt.ylim(0,80000)\n",
    "\n",
    "plt.plot()"
   ]
  },
  {
   "cell_type": "markdown",
   "id": "ed4090ad",
   "metadata": {},
   "source": [
    "body_type seems to have a significant trend right away. We cancheck value counts to see if some types are more common than others"
   ]
  },
  {
   "cell_type": "code",
   "execution_count": 63,
   "id": "8d913dc8",
   "metadata": {},
   "outputs": [
    {
     "data": {
      "text/plain": [
       "SUV / Crossover    3041\n",
       "Sedan              1655\n",
       "Pickup Truck        642\n",
       "Minivan             206\n",
       "Coupe               146\n",
       "Wagon               124\n",
       "Hatchback           110\n",
       "Convertible          63\n",
       "Van                  13\n",
       "Name: body_type, dtype: int64"
      ]
     },
     "execution_count": 63,
     "metadata": {},
     "output_type": "execute_result"
    }
   ],
   "source": [
    "data.body_type.value_counts()"
   ]
  },
  {
   "cell_type": "markdown",
   "id": "75bfd574",
   "metadata": {},
   "source": [
    "Have enough observations for each value to be valid, none of the smaller groups stand out substantially, convertible is a little bit spread but that should be fine -> convert to dummies"
   ]
  },
  {
   "cell_type": "code",
   "execution_count": 64,
   "id": "f88c9cca",
   "metadata": {},
   "outputs": [],
   "source": [
    "# change spelling so colummns will be callable\n",
    "data_2['body_type'] = o_data['body_type'].apply(lambda x: 'SUV_Crossover' if x == 'SUV / Crossover' else \n",
    "                                                          'Pickup_Truck' if x == 'Pickup Truck' else\n",
    "                                                x)\n",
    "# get dummies\n",
    "data_2 = pd.get_dummies(data_2, columns=['body_type'], drop_first=True)"
   ]
  },
  {
   "cell_type": "code",
   "execution_count": 65,
   "id": "fa378954",
   "metadata": {},
   "outputs": [
    {
     "data": {
      "text/plain": [
       "[]"
      ]
     },
     "execution_count": 65,
     "metadata": {},
     "output_type": "execute_result"
    },
    {
     "data": {
      "image/png": "[encoded data removed]",
      "text/plain": [
       "<Figure size 720x288 with 1 Axes>"
      ]
     },
     "metadata": {
      "needs_background": "light"
     },
     "output_type": "display_data"
    }
   ],
   "source": [
    "plt.figure(figsize=(10,4))\n",
    "\n",
    "sns.boxplot(x=\"engine_cylinders\",y=\"price\", data = o_data)\n",
    "plt.xticks(rotation=90)\n",
    "plt.ylim(0,80000)\n",
    "plt.plot()"
   ]
  },
  {
   "cell_type": "code",
   "execution_count": 66,
   "id": "1933381d",
   "metadata": {},
   "outputs": [
    {
     "data": {
      "text/plain": [
       "I4                       2985\n",
       "V6                       1905\n",
       "V8                        527\n",
       "V6 Flex Fuel Vehicle      183\n",
       "H4                        161\n",
       "V8 Flex Fuel Vehicle       96\n",
       "I6                         56\n",
       "I4 Flex Fuel Vehicle       22\n",
       "I4 Diesel                  17\n",
       "I3                         13\n",
       "V6 Diesel                   8\n",
       "H6                          7\n",
       "V6 Biodiesel                5\n",
       "I5                          4\n",
       "I4 Hybrid                   3\n",
       "V12                         3\n",
       "V10                         2\n",
       "H4 Hybrid                   1\n",
       "I6 Diesel                   1\n",
       "W12 Flex Fuel Vehicle       1\n",
       "Name: engine_cylinders, dtype: int64"
      ]
     },
     "execution_count": 66,
     "metadata": {},
     "output_type": "execute_result"
    }
   ],
   "source": [
    "o_data.engine_cylinders.value_counts()"
   ]
  },
  {
   "cell_type": "markdown",
   "id": "a7a65987",
   "metadata": {},
   "source": [
    "Turn anything under 100 observations into 'other', if there is only one observation this is not useful data."
   ]
  },
  {
   "cell_type": "code",
   "execution_count": 67,
   "id": "2d3399e6",
   "metadata": {},
   "outputs": [
    {
     "data": {
      "text/plain": [
       "I4                      2985\n",
       "V6                      1905\n",
       "V8                       527\n",
       "other                    239\n",
       "V6_Flex_Fuel_Vehicle     183\n",
       "H4                       161\n",
       "Name: engine_cylinders, dtype: int64"
      ]
     },
     "execution_count": 67,
     "metadata": {},
     "output_type": "execute_result"
    }
   ],
   "source": [
    "data_2['engine_cylinders'] = o_data['engine_cylinders'].apply(lambda x: 'I4' if x == 'I4' else \n",
    "                                                          'V6' if x == 'V6' else\n",
    "                                                          'V8' if x == 'V8' else\n",
    "                                                          'V6_Flex_Fuel_Vehicle' if x == 'V6 Flex Fuel Vehicle' else\n",
    "                                                          'H4' if x == 'H4' else\n",
    "                                                          'other')\n",
    "data_2.engine_cylinders.value_counts()"
   ]
  },
  {
   "cell_type": "code",
   "execution_count": 68,
   "id": "086d639f",
   "metadata": {},
   "outputs": [
    {
     "data": {
      "text/plain": [
       "[]"
      ]
     },
     "execution_count": 68,
     "metadata": {},
     "output_type": "execute_result"
    },
    {
     "data": {
      "image/png": "[encoded data removed]",
      "text/plain": [
       "<Figure size 576x288 with 1 Axes>"
      ]
     },
     "metadata": {
      "needs_background": "light"
     },
     "output_type": "display_data"
    }
   ],
   "source": [
    "plt.figure(figsize=(8,4))\n",
    "sns.boxplot(x=\"engine_cylinders\",y=\"price\", data = data_2)\n",
    "plt.xticks(rotation=90)\n",
    "plt.ylim(0,80000)\n",
    "plt.plot()"
   ]
  },
  {
   "cell_type": "markdown",
   "id": "5b0bd89c",
   "metadata": {},
   "source": [
    "Other is naturally with bigger range, but this looks better, get dummies for it:"
   ]
  },
  {
   "cell_type": "code",
   "execution_count": 69,
   "id": "10fbeefd",
   "metadata": {},
   "outputs": [],
   "source": [
    "data_2 = pd.get_dummies(data_2, columns=['engine_cylinders'], drop_first=True)"
   ]
  },
  {
   "cell_type": "code",
   "execution_count": 70,
   "id": "7c7918bf",
   "metadata": {},
   "outputs": [
    {
     "data": {
      "text/plain": [
       "[]"
      ]
     },
     "execution_count": 70,
     "metadata": {},
     "output_type": "execute_result"
    },
    {
     "data": {
      "image/png": "[encoded data removed]",
      "text/plain": [
       "<Figure size 720x288 with 1 Axes>"
      ]
     },
     "metadata": {
      "needs_background": "light"
     },
     "output_type": "display_data"
    }
   ],
   "source": [
    "plt.figure(figsize=(10,4))\n",
    "sns.boxplot(x=\"transmission_display\",y=\"price\", data = o_data)\n",
    "plt.xticks(rotation=90)\n",
    "plt.ylim(0,80000)\n",
    "plt.plot()"
   ]
  },
  {
   "cell_type": "markdown",
   "id": "97427cff",
   "metadata": {},
   "source": [
    "Mean and range seem both to be varying, might be valuable column to predict price, check value counts:"
   ]
  },
  {
   "cell_type": "code",
   "execution_count": 71,
   "id": "ca2ffc3c",
   "metadata": {},
   "outputs": [
    {
     "data": {
      "text/plain": [
       "Automatic                             2277\n",
       "6-Speed Automatic                     1303\n",
       "Continuously Variable Transmission     965\n",
       "8-Speed Automatic                      679\n",
       "9-Speed Automatic                      284\n",
       "Name: transmission_display, dtype: int64"
      ]
     },
     "execution_count": 71,
     "metadata": {},
     "output_type": "execute_result"
    }
   ],
   "source": [
    "data.transmission_display.value_counts().head()"
   ]
  },
  {
   "cell_type": "code",
   "execution_count": 72,
   "id": "9f70c4e4",
   "metadata": {},
   "outputs": [
    {
     "data": {
      "text/plain": [
       "[]"
      ]
     },
     "execution_count": 72,
     "metadata": {},
     "output_type": "execute_result"
    },
    {
     "data": {
      "image/png": "[encoded data removed]",
      "text/plain": [
       "<Figure size 432x288 with 1 Axes>"
      ]
     },
     "metadata": {
      "needs_background": "light"
     },
     "output_type": "display_data"
    }
   ],
   "source": [
    "data_2['transmission_display'] = o_data['transmission_display'].apply(lambda x: 'Automatic' if x == 'Automatic' else \n",
    "                                                          '6_Speed_Automatic' if x == '6-Speed Automatic' else\n",
    "                                                          'Continuously_Variable_Transmission' if x == 'Continuously Variable Transmission' else\n",
    "                                                          '8_Speed_Automatic' if x == '8-Speed Automatic' else\n",
    "                                                          '9_Speed_Automatic' if x == '9-Speed Automatic' else\n",
    "                                                          '6_Speed_Automatic' if x == '6-Speed Automatic' else\n",
    "                                                          '5_Speed_Automatic' if x == '5-Speed Automatic' else\n",
    "                                                          'other')\n",
    "plt.figure(figsize=(6,4))\n",
    "sns.boxplot(x=\"transmission_display\",y=\"price\", data = data_2)\n",
    "plt.xticks(rotation=90)\n",
    "plt.ylim(0,80000)\n",
    "plt.plot()"
   ]
  },
  {
   "cell_type": "markdown",
   "id": "7dc81401",
   "metadata": {},
   "source": [
    "Looks relevant, change in mean and besides 2 relatively small range -> convert into dummies"
   ]
  },
  {
   "cell_type": "code",
   "execution_count": 73,
   "id": "0e7f05c4",
   "metadata": {},
   "outputs": [],
   "source": [
    "# turn those columns into dummies\n",
    "data_2 = pd.get_dummies(data_2, columns=['transmission_display'], drop_first=True)"
   ]
  },
  {
   "cell_type": "code",
   "execution_count": 74,
   "id": "95aee4de",
   "metadata": {},
   "outputs": [
    {
     "data": {
      "text/plain": [
       "[]"
      ]
     },
     "execution_count": 74,
     "metadata": {},
     "output_type": "execute_result"
    },
    {
     "data": {
      "image/png": "[encoded data removed]",
      "text/plain": [
       "<Figure size 864x360 with 1 Axes>"
      ]
     },
     "metadata": {
      "needs_background": "light"
     },
     "output_type": "display_data"
    }
   ],
   "source": [
    "plt.figure(figsize=(12,5))\n",
    "sns.boxplot(x=\"franchise_make\",y=\"price\", data = o_data)\n",
    "plt.xticks(rotation=90)\n",
    "plt.ylim(0,80000)\n",
    "plt.plot()"
   ]
  },
  {
   "cell_type": "markdown",
   "id": "fa9ae881",
   "metadata": {},
   "source": [
    "This seems to be too many columns to just turn into dummies, and as brand is strongly connected to price this seems an important column to keep -> divide brands into groups depending on their mean price, and label encode these groups."
   ]
  },
  {
   "cell_type": "code",
   "execution_count": 75,
   "id": "0807ae87",
   "metadata": {},
   "outputs": [
    {
     "data": {
      "text/html": [
       "<div>\n",
       "<style scoped>\n",
       "    .dataframe tbody tr th:only-of-type {\n",
       "        vertical-align: middle;\n",
       "    }\n",
       "\n",
       "    .dataframe tbody tr th {\n",
       "        vertical-align: top;\n",
       "    }\n",
       "\n",
       "    .dataframe thead th {\n",
       "        text-align: right;\n",
       "    }\n",
       "</style>\n",
       "<table border=\"1\" class=\"dataframe\">\n",
       "  <thead>\n",
       "    <tr style=\"text-align: right;\">\n",
       "      <th></th>\n",
       "      <th>franchise_make</th>\n",
       "      <th>price</th>\n",
       "    </tr>\n",
       "  </thead>\n",
       "  <tbody>\n",
       "    <tr>\n",
       "      <th>20</th>\n",
       "      <td>Kia</td>\n",
       "      <td>20001.936275</td>\n",
       "    </tr>\n",
       "    <tr>\n",
       "      <th>16</th>\n",
       "      <td>Hyundai</td>\n",
       "      <td>20064.829268</td>\n",
       "    </tr>\n",
       "    <tr>\n",
       "      <th>27</th>\n",
       "      <td>Mazda</td>\n",
       "      <td>20135.692857</td>\n",
       "    </tr>\n",
       "    <tr>\n",
       "      <th>38</th>\n",
       "      <td>Volkswagen</td>\n",
       "      <td>20160.651007</td>\n",
       "    </tr>\n",
       "    <tr>\n",
       "      <th>35</th>\n",
       "      <td>Scion</td>\n",
       "      <td>20897.826087</td>\n",
       "    </tr>\n",
       "  </tbody>\n",
       "</table>\n",
       "</div>"
      ],
      "text/plain": [
       "   franchise_make         price\n",
       "20            Kia  20001.936275\n",
       "16        Hyundai  20064.829268\n",
       "27          Mazda  20135.692857\n",
       "38     Volkswagen  20160.651007\n",
       "35          Scion  20897.826087"
      ]
     },
     "execution_count": 75,
     "metadata": {},
     "output_type": "execute_result"
    }
   ],
   "source": [
    "# look at mean price by group\n",
    "brand_mean_price=data.groupby('franchise_make', as_index=False)['price'].mean()\n",
    "brand_mean_price=brand_mean_price.sort_values(by=['price'])\n",
    "brand_mean_price.head()"
   ]
  },
  {
   "cell_type": "code",
   "execution_count": 76,
   "id": "37f3cb0e",
   "metadata": {},
   "outputs": [],
   "source": [
    "# sort the brands into groups with similar means\n",
    "group_0 = brand_mean_price.iloc[0:8,0]\n",
    "group_1 = brand_mean_price.iloc[8:14,0]\n",
    "group_2 = brand_mean_price.iloc[14:19,0]\n",
    "group_3 = brand_mean_price.iloc[19:25,0]\n",
    "group_4 = brand_mean_price.iloc[25:34,0]\n",
    "group_5 = brand_mean_price.iloc[34:38,0]\n",
    "group_6 = brand_mean_price.iloc[38:40,0]\n",
    "\n",
    "# write function to get names\n",
    "def get_names (group):\n",
    "    final = []\n",
    "    for i in range(0,len(group)):\n",
    "        name = group.iloc[i]\n",
    "        final.append(name)\n",
    "    return(final)\n",
    "# list of names in each group\n",
    "names_0 = get_names(group_0)\n",
    "names_1 = get_names(group_1)\n",
    "names_2 = get_names(group_2)\n",
    "names_3 = get_names(group_3)\n",
    "names_4 = get_names(group_4)\n",
    "names_5 = get_names(group_5)\n",
    "names_6 = get_names(group_6)\n",
    "\n",
    "# replace each object with a number of their group\n",
    "data_2['franchise_make'] = o_data['franchise_make'].apply(lambda x: 0 if x in names_0 else\n",
    "                                                          1 if x in names_1 else\n",
    "                                                          2 if x in names_2 else\n",
    "                                                          3 if x in names_3 else\n",
    "                                                          4 if x in names_4 else\n",
    "                                                          5 if x in names_5 else\n",
    "                                                          6 if x in names_6 else\n",
    "                                                         'wrong')"
   ]
  },
  {
   "cell_type": "code",
   "execution_count": 77,
   "id": "14819711",
   "metadata": {},
   "outputs": [
    {
     "data": {
      "text/plain": [
       "2020-09-02    207\n",
       "2020-08-28    157\n",
       "2020-09-03    153\n",
       "2020-08-26    145\n",
       "2020-08-27    144\n",
       "Name: listed_date, dtype: int64"
      ]
     },
     "execution_count": 77,
     "metadata": {},
     "output_type": "execute_result"
    }
   ],
   "source": [
    "data.listed_date.value_counts().head()"
   ]
  },
  {
   "cell_type": "code",
   "execution_count": 78,
   "id": "b3af67bf",
   "metadata": {},
   "outputs": [
    {
     "data": {
      "text/plain": [
       "-0.12547087176248412"
      ]
     },
     "execution_count": 78,
     "metadata": {},
     "output_type": "execute_result"
    }
   ],
   "source": [
    "#simply turn into numerical\n",
    "import datetime\n",
    "data_2['listed_date']=pd.to_datetime(data_2[\"listed_date\"]).dt.strftime(\"%Y%m%d\")\n",
    "data_2['listed_date']=data_2.listed_date.astype(int)\n",
    "# get correlation\n",
    "data_2['listed_date'].corr(data_2['price'])"
   ]
  },
  {
   "cell_type": "markdown",
   "id": "d1ff7229",
   "metadata": {},
   "source": [
    "Has a negative correlation between listing date and price, rather small"
   ]
  },
  {
   "cell_type": "code",
   "execution_count": 79,
   "id": "f82de36d",
   "metadata": {},
   "outputs": [
    {
     "data": {
      "text/plain": [
       "F-150             187\n",
       "Escape            166\n",
       "Rogue             146\n",
       "Silverado 1500    136\n",
       "Accord            125\n",
       "Name: model_name, dtype: int64"
      ]
     },
     "execution_count": 79,
     "metadata": {},
     "output_type": "execute_result"
    }
   ],
   "source": [
    "data.model_name.value_counts().head()"
   ]
  },
  {
   "cell_type": "markdown",
   "id": "d43d09a7",
   "metadata": {},
   "source": [
    "Looking at both head and tail, there is a good distribution of the different model names, not one that is prelevant wherease the rest only has 1 or 2 entries -> group and turn into numeric"
   ]
  },
  {
   "cell_type": "code",
   "execution_count": 80,
   "id": "da54dbe0",
   "metadata": {},
   "outputs": [
    {
     "data": {
      "text/html": [
       "<div>\n",
       "<style scoped>\n",
       "    .dataframe tbody tr th:only-of-type {\n",
       "        vertical-align: middle;\n",
       "    }\n",
       "\n",
       "    .dataframe tbody tr th {\n",
       "        vertical-align: top;\n",
       "    }\n",
       "\n",
       "    .dataframe thead th {\n",
       "        text-align: right;\n",
       "    }\n",
       "</style>\n",
       "<table border=\"1\" class=\"dataframe\">\n",
       "  <thead>\n",
       "    <tr style=\"text-align: right;\">\n",
       "      <th></th>\n",
       "      <th>model_name</th>\n",
       "      <th>price</th>\n",
       "    </tr>\n",
       "  </thead>\n",
       "  <tbody>\n",
       "    <tr>\n",
       "      <th>240</th>\n",
       "      <td>QX4</td>\n",
       "      <td>2000.0</td>\n",
       "    </tr>\n",
       "    <tr>\n",
       "      <th>202</th>\n",
       "      <td>Mariner Hybrid</td>\n",
       "      <td>2953.0</td>\n",
       "    </tr>\n",
       "    <tr>\n",
       "      <th>116</th>\n",
       "      <td>Explorer Sport Trac</td>\n",
       "      <td>2995.0</td>\n",
       "    </tr>\n",
       "    <tr>\n",
       "      <th>224</th>\n",
       "      <td>Park Avenue</td>\n",
       "      <td>3000.0</td>\n",
       "    </tr>\n",
       "    <tr>\n",
       "      <th>124</th>\n",
       "      <td>Five Hundred</td>\n",
       "      <td>3000.0</td>\n",
       "    </tr>\n",
       "  </tbody>\n",
       "</table>\n",
       "</div>"
      ],
      "text/plain": [
       "              model_name   price\n",
       "240                  QX4  2000.0\n",
       "202       Mariner Hybrid  2953.0\n",
       "116  Explorer Sport Trac  2995.0\n",
       "224          Park Avenue  3000.0\n",
       "124         Five Hundred  3000.0"
      ]
     },
     "execution_count": 80,
     "metadata": {},
     "output_type": "execute_result"
    }
   ],
   "source": [
    "# look at grouped mean\n",
    "make_mean_price=data.groupby('model_name', as_index=False)['price'].mean()\n",
    "make_mean_price=make_mean_price.sort_values(by=['price'])\n",
    "make_mean_price.head()"
   ]
  },
  {
   "cell_type": "code",
   "execution_count": 81,
   "id": "c5fd7a2c",
   "metadata": {},
   "outputs": [],
   "source": [
    "# like with other column, divide 361 rows into 7 groups, different sizes but around same mean\n",
    "group_0 = make_mean_price.iloc[0:100,0] # 2000-15000\n",
    "group_1 = make_mean_price.iloc[100:194,0] # 15000-25000 \n",
    "group_2 = make_mean_price.iloc[194:237,0] # 25000-30000 \n",
    "group_3 = make_mean_price.iloc[237:279,0] # 30000-35000\n",
    "group_4 = make_mean_price.iloc[279:329,0] # 35000-50000\n",
    "group_5 = make_mean_price.iloc[319:352,0] # 50000-10000\n",
    "group_6 = make_mean_price.iloc[352:362,0] # rest\n",
    "\n",
    "# list of names in each group\n",
    "names_0 = get_names(group_0)\n",
    "names_1 = get_names(group_1)\n",
    "names_2 = get_names(group_2)\n",
    "names_3 = get_names(group_3)\n",
    "names_4 = get_names(group_4)\n",
    "names_5 = get_names(group_5)\n",
    "names_6 = get_names(group_6)\n",
    "\n",
    "# replace each object with a number of their group\n",
    "data_2['model_name'] = o_data['model_name'].apply(lambda x: 0 if x in names_0 else\n",
    "                                                          1 if x in names_1 else\n",
    "                                                          2 if x in names_2 else\n",
    "                                                          3 if x in names_3 else\n",
    "                                                          4 if x in names_4 else\n",
    "                                                          5 if x in names_5 else\n",
    "                                                          6 if x in names_6 else\n",
    "                                                         'wrong')"
   ]
  },
  {
   "cell_type": "code",
   "execution_count": 86,
   "id": "43fa09c5",
   "metadata": {},
   "outputs": [
    {
     "data": {
      "text/plain": [
       "0.29918357172730936"
      ]
     },
     "execution_count": 86,
     "metadata": {},
     "output_type": "execute_result"
    }
   ],
   "source": [
    "# drop first letter of each row\n",
    "data_2['trimId'] = data['trimId'].str.slice(1)\n",
    "# convert to integer\n",
    "data_2['trimId']=data_2.trimId.astype(int)\n",
    "# look at correlation\n",
    "data_2['trimId'].corr(data_2['price'])"
   ]
  },
  {
   "cell_type": "code",
   "execution_count": 93,
   "id": "66d99aa5",
   "metadata": {},
   "outputs": [],
   "source": [
    "# drop categorical version of columns we have numerical copy of\n",
    "data_2 = data_2.drop(columns=[\"transmission\",\"wheel_system_display\",\"fuel_type\",\"wheel_system\"], axis = 1)"
   ]
  },
  {
   "cell_type": "code",
   "execution_count": 94,
   "id": "c8ea003f",
   "metadata": {},
   "outputs": [],
   "source": [
    "dat_types = pd.DataFrame(data_2.dtypes)"
   ]
  },
  {
   "cell_type": "code",
   "execution_count": 95,
   "id": "8fb42724",
   "metadata": {},
   "outputs": [
    {
     "data": {
      "text/plain": [
       "uint8      19\n",
       "float64    18\n",
       "int64      15\n",
       "int32       6\n",
       "dtype: int64"
      ]
     },
     "execution_count": 95,
     "metadata": {},
     "output_type": "execute_result"
    }
   ],
   "source": [
    "dat_types.value_counts()"
   ]
  },
  {
   "cell_type": "code",
   "execution_count": 97,
   "id": "6275fb3d",
   "metadata": {},
   "outputs": [
    {
     "data": {
      "text/plain": [
       "(6000, 58)"
      ]
     },
     "execution_count": 97,
     "metadata": {},
     "output_type": "execute_result"
    }
   ],
   "source": [
    "data_2.shape"
   ]
  },
  {
   "cell_type": "code",
   "execution_count": 98,
   "id": "8835fb27",
   "metadata": {},
   "outputs": [],
   "source": [
    "data = data_2"
   ]
  },
  {
   "cell_type": "markdown",
   "id": "7d53ee8a",
   "metadata": {},
   "source": [
    "### Feature Selection "
   ]
  },
  {
   "cell_type": "code",
   "execution_count": 99,
   "id": "624ac1b7",
   "metadata": {},
   "outputs": [
    {
     "data": {
      "text/html": [
       "<div>\n",
       "<style scoped>\n",
       "    .dataframe tbody tr th:only-of-type {\n",
       "        vertical-align: middle;\n",
       "    }\n",
       "\n",
       "    .dataframe tbody tr th {\n",
       "        vertical-align: top;\n",
       "    }\n",
       "\n",
       "    .dataframe thead th {\n",
       "        text-align: right;\n",
       "    }\n",
       "</style>\n",
       "<table border=\"1\" class=\"dataframe\">\n",
       "  <thead>\n",
       "    <tr style=\"text-align: right;\">\n",
       "      <th></th>\n",
       "      <th>index</th>\n",
       "      <th>0</th>\n",
       "    </tr>\n",
       "  </thead>\n",
       "  <tbody>\n",
       "    <tr>\n",
       "      <th>21</th>\n",
       "      <td>model_name</td>\n",
       "      <td>0.582557</td>\n",
       "    </tr>\n",
       "    <tr>\n",
       "      <th>23</th>\n",
       "      <td>power</td>\n",
       "      <td>0.517518</td>\n",
       "    </tr>\n",
       "    <tr>\n",
       "      <th>30</th>\n",
       "      <td>torque</td>\n",
       "      <td>0.513047</td>\n",
       "    </tr>\n",
       "    <tr>\n",
       "      <th>4</th>\n",
       "      <td>engine_displacement</td>\n",
       "      <td>0.359656</td>\n",
       "    </tr>\n",
       "    <tr>\n",
       "      <th>9</th>\n",
       "      <td>fuel_tank_volume</td>\n",
       "      <td>0.349802</td>\n",
       "    </tr>\n",
       "    <tr>\n",
       "      <th>50</th>\n",
       "      <td>engine_cylinders_V8</td>\n",
       "      <td>0.309665</td>\n",
       "    </tr>\n",
       "    <tr>\n",
       "      <th>32</th>\n",
       "      <td>wheelbase</td>\n",
       "      <td>0.303458</td>\n",
       "    </tr>\n",
       "    <tr>\n",
       "      <th>31</th>\n",
       "      <td>trimId</td>\n",
       "      <td>0.299184</td>\n",
       "    </tr>\n",
       "    <tr>\n",
       "      <th>34</th>\n",
       "      <td>year</td>\n",
       "      <td>0.292627</td>\n",
       "    </tr>\n",
       "    <tr>\n",
       "      <th>7</th>\n",
       "      <td>franchise_make</td>\n",
       "      <td>0.291321</td>\n",
       "    </tr>\n",
       "    <tr>\n",
       "      <th>16</th>\n",
       "      <td>length</td>\n",
       "      <td>0.289712</td>\n",
       "    </tr>\n",
       "    <tr>\n",
       "      <th>33</th>\n",
       "      <td>width</td>\n",
       "      <td>0.281954</td>\n",
       "    </tr>\n",
       "    <tr>\n",
       "      <th>26</th>\n",
       "      <td>savings_amount</td>\n",
       "      <td>0.260102</td>\n",
       "    </tr>\n",
       "    <tr>\n",
       "      <th>11</th>\n",
       "      <td>height</td>\n",
       "      <td>0.211064</td>\n",
       "    </tr>\n",
       "    <tr>\n",
       "      <th>37</th>\n",
       "      <td>wheel_system_cat</td>\n",
       "      <td>-0.218204</td>\n",
       "    </tr>\n",
       "    <tr>\n",
       "      <th>47</th>\n",
       "      <td>engine_cylinders_I4</td>\n",
       "      <td>-0.302891</td>\n",
       "    </tr>\n",
       "    <tr>\n",
       "      <th>1</th>\n",
       "      <td>city_fuel_economy</td>\n",
       "      <td>-0.316362</td>\n",
       "    </tr>\n",
       "    <tr>\n",
       "      <th>20</th>\n",
       "      <td>mileage</td>\n",
       "      <td>-0.343969</td>\n",
       "    </tr>\n",
       "    <tr>\n",
       "      <th>12</th>\n",
       "      <td>highway_fuel_economy</td>\n",
       "      <td>-0.344975</td>\n",
       "    </tr>\n",
       "  </tbody>\n",
       "</table>\n",
       "</div>"
      ],
      "text/plain": [
       "                   index         0\n",
       "21            model_name  0.582557\n",
       "23                 power  0.517518\n",
       "30                torque  0.513047\n",
       "4    engine_displacement  0.359656\n",
       "9       fuel_tank_volume  0.349802\n",
       "50   engine_cylinders_V8  0.309665\n",
       "32             wheelbase  0.303458\n",
       "31                trimId  0.299184\n",
       "34                  year  0.292627\n",
       "7         franchise_make  0.291321\n",
       "16                length  0.289712\n",
       "33                 width  0.281954\n",
       "26        savings_amount  0.260102\n",
       "11                height  0.211064\n",
       "37      wheel_system_cat -0.218204\n",
       "47   engine_cylinders_I4 -0.302891\n",
       "1      city_fuel_economy -0.316362\n",
       "20               mileage -0.343969\n",
       "12  highway_fuel_economy -0.344975"
      ]
     },
     "execution_count": 99,
     "metadata": {},
     "output_type": "execute_result"
    }
   ],
   "source": [
    "final_corrs = pd.DataFrame(data.corrwith(data.price)).reset_index().sort_values(by = 0, ascending = False)\n",
    "\n",
    "final_corr_cols = list(final_corrs.loc[(final_corrs[0] >= 0.2) | (final_corrs[0] <= -0.2)][1:]['index'])\n",
    "final_corrs.loc[(final_corrs[0] >= 0.2) | (final_corrs[0] <= -0.2)][1:]"
   ]
  },
  {
   "cell_type": "code",
   "execution_count": 101,
   "id": "23eba3f0",
   "metadata": {},
   "outputs": [
    {
     "data": {
      "text/plain": [
       "(6000, 19)"
      ]
     },
     "execution_count": 101,
     "metadata": {},
     "output_type": "execute_result"
    }
   ],
   "source": [
    "X = data.copy()\n",
    "\n",
    "for col in X:\n",
    "    if col not in final_corr_cols:\n",
    "        X.drop(col, axis = 1, inplace = True)\n",
    "\n",
    "X.shape"
   ]
  },
  {
   "cell_type": "markdown",
   "id": "a3780ef3",
   "metadata": {},
   "source": [
    "We have 20 predictors which have a reasonable correlation with price which we will be the only predictors we use in our model building. \n",
    "\n",
    "When we develop our models, we will print the feature importances and note which features are deemed significant by each model. "
   ]
  },
  {
   "cell_type": "code",
   "execution_count": 111,
   "id": "3db52dfb",
   "metadata": {},
   "outputs": [
    {
     "data": {
      "text/plain": [
       "951    859000.0\n",
       "Name: price, dtype: float64"
      ]
     },
     "execution_count": 111,
     "metadata": {},
     "output_type": "execute_result"
    }
   ],
   "source": [
    "# removing the previously found outlying observation after finalizing data \n",
    "y = data_2.price\n",
    "y.loc[y >= 800000]"
   ]
  },
  {
   "cell_type": "code",
   "execution_count": 112,
   "id": "023a3432",
   "metadata": {},
   "outputs": [],
   "source": [
    "X.drop(951, inplace = True)\n",
    "y.drop(951, inplace = True)"
   ]
  },
  {
   "cell_type": "code",
   "execution_count": 113,
   "id": "c87cfbb1",
   "metadata": {},
   "outputs": [
    {
     "data": {
      "text/plain": [
       "city_fuel_economy       0\n",
       "engine_displacement     0\n",
       "franchise_make          0\n",
       "fuel_tank_volume        1\n",
       "height                  1\n",
       "highway_fuel_economy    0\n",
       "length                  1\n",
       "mileage                 0\n",
       "model_name              0\n",
       "power                   0\n",
       "savings_amount          0\n",
       "torque                  0\n",
       "trimId                  0\n",
       "wheelbase               1\n",
       "width                   1\n",
       "year                    0\n",
       "wheel_system_cat        0\n",
       "engine_cylinders_I4     0\n",
       "engine_cylinders_V8     0\n",
       "dtype: int64"
      ]
     },
     "execution_count": 113,
     "metadata": {},
     "output_type": "execute_result"
    }
   ],
   "source": [
    "# checking for any new NAs \n",
    "final_dat.isna().sum()"
   ]
  },
  {
   "cell_type": "markdown",
   "id": "38808519",
   "metadata": {},
   "source": [
    "The original dataset had '--' for this one observation. When we performed the data cleaning and prep, these observations were not considered missing but became missing after our feature engineering. We can drop this observation since it is only one row with data missing from the original source. "
   ]
  },
  {
   "cell_type": "code",
   "execution_count": 114,
   "id": "4060756c",
   "metadata": {},
   "outputs": [],
   "source": [
    "X.isna().sum()\n",
    "X.iloc[29]\n",
    "X.drop(29, inplace = True)\n",
    "y.drop(29, inplace = True)"
   ]
  },
  {
   "cell_type": "code",
   "execution_count": 119,
   "id": "05a2db01",
   "metadata": {},
   "outputs": [],
   "source": [
    "X.to_csv('X.csv')\n",
    "y.to_csv('y.csv')"
   ]
  },
  {
   "cell_type": "markdown",
   "id": "acab331a",
   "metadata": {},
   "source": [
    "## Developing the model: Hyperparameter tuning"
   ]
  },
  {
   "cell_type": "markdown",
   "id": "ae5ec4c9",
   "metadata": {},
   "source": [
    "Put code with comments. The comments should explain the code such that it can be easily understood. You may put text *(in a markdown cell)* before a large chunk of code to explain the overall purpose of the code, if it is not intuitive. **Put the name of the person / persons who contributed to each code chunk / set of code chunks.**\n",
    "\n",
    "Put each model in a section of its name and mention the name of the team-member tuning the model. Below is an example:"
   ]
  },
  {
   "cell_type": "markdown",
   "id": "1bbb5af4",
   "metadata": {},
   "source": [
    "# ALWAYS USE RANDOM_STATE = 4"
   ]
  },
  {
   "cell_type": "code",
   "execution_count": 115,
   "id": "91a684e1",
   "metadata": {},
   "outputs": [],
   "source": [
    "# splitting data\n",
    "X_train, X_test, y_train, y_test = train_test_split(X, y, test_size = 0.3, random_state = 4)"
   ]
  },
  {
   "cell_type": "markdown",
   "id": "21bc9dcc",
   "metadata": {},
   "source": [
    "### Lasso, Ridge & Stepwise Selection\n",
    "*By Emily Leibfritz*"
   ]
  },
  {
   "cell_type": "markdown",
   "id": "fb5b4210",
   "metadata": {},
   "source": [
    "### MARS & Bagging MARS \n",
    "*By Hiba Khatib*"
   ]
  },
  {
   "cell_type": "markdown",
   "id": "d9b922db",
   "metadata": {},
   "source": [
    "#### Base Mars Model"
   ]
  },
  {
   "cell_type": "code",
   "execution_count": 116,
   "id": "07ae47c6",
   "metadata": {},
   "outputs": [
    {
     "data": {
      "text/plain": [
       "5150.7539906467255"
      ]
     },
     "execution_count": 116,
     "metadata": {},
     "output_type": "execute_result"
    }
   ],
   "source": [
    "base_mars = Earth().fit(X_train, y_train)\n",
    "mean_squared_error(y_test, base_mars.predict(X_test), squared = False)"
   ]
  },
  {
   "cell_type": "code",
   "execution_count": 117,
   "id": "02b9ae36",
   "metadata": {},
   "outputs": [
    {
     "name": "stdout",
     "output_type": "stream",
     "text": [
      "Earth Model\n",
      "--------------------------------------------------\n",
      "Basis Function               Pruned  Coefficient  \n",
      "--------------------------------------------------\n",
      "(Intercept)                  No      64772.8      \n",
      "h(model_name-5)              No      105007       \n",
      "h(5-model_name)              No      -4200.46     \n",
      "h(mileage-26175)             No      -0.0684419   \n",
      "h(26175-mileage)             No      0.195178     \n",
      "h(torque-560)                No      -118.635     \n",
      "h(560-torque)                No      -25.3115     \n",
      "h(trimId-89792)              No      -1.1421      \n",
      "h(89792-trimId)              No      -0.185033    \n",
      "h(savings_amount-2679)       No      3.23426      \n",
      "h(2679-savings_amount)       Yes     None         \n",
      "h(engine_displacement-6400)  No      488.495      \n",
      "h(6400-engine_displacement)  No      1.24199      \n",
      "wheelbase                    No      -251.999     \n",
      "h(franchise_make-5)          No      -21251.7     \n",
      "h(5-franchise_make)          No      -535.296     \n",
      "wheel_system_cat             No      -747.284     \n",
      "h(power-577)                 No      287.197      \n",
      "h(577-power)                 No      -8.38422     \n",
      "engine_cylinders_I4          No      -2900.91     \n",
      "engine_cylinders_V8          No      4693.34      \n",
      "length                       No      91.1224      \n",
      "--------------------------------------------------\n",
      "MSE: 23455124.3136, GCV: 24035576.1446, RSQ: 0.8660, GRSQ: 0.8627\n"
     ]
    }
   ],
   "source": [
    "print(base_mars.summary())"
   ]
  },
  {
   "cell_type": "markdown",
   "id": "f716359b",
   "metadata": {},
   "source": [
    "#### Coarse Gridsearch MARS"
   ]
  },
  {
   "cell_type": "code",
   "execution_count": 118,
   "id": "48bdd539",
   "metadata": {},
   "outputs": [
    {
     "name": "stdout",
     "output_type": "stream",
     "text": [
      "Fitting 5 folds for each of 18 candidates, totalling 90 fits\n",
      "Best MARS params:  {'enable_pruning': True, 'max_degree': 4}\n",
      "Tuned mars model RMSE: 4796.447498691177\n",
      "Earth Model\n",
      "--------------------------------------------------------------------------\n",
      "Basis Function                                      Pruned  Coefficient   \n",
      "--------------------------------------------------------------------------\n",
      "(Intercept)                                         No      88555.5       \n",
      "h(model_name-5)                                     No      37859.6       \n",
      "h(5-model_name)                                     No      -10191.6      \n",
      "h(mileage-26175)                                    No      -0.329177     \n",
      "h(26175-mileage)                                    No      1.19366       \n",
      "h(model_name-5)*h(mileage-26175)                    No      -4.65058      \n",
      "h(5-model_name)*h(mileage-26175)                    No      0.00827854    \n",
      "h(torque-560)                                       No      105.497       \n",
      "h(560-torque)                                       No      -39.0122      \n",
      "h(trimId-75453)                                     No      0.14989       \n",
      "h(75453-trimId)                                     No      -0.28416      \n",
      "wheel_system_cat*h(model_name-5)                    No      23625         \n",
      "h(mileage-26410)*h(560-torque)                      No      0.000289727   \n",
      "h(26410-mileage)*h(560-torque)                      No      -0.00222053   \n",
      "model_name*h(5-model_name)                          No      668.129       \n",
      "wheelbase                                           No      -8849.04      \n",
      "engine_cylinders_I4                                 No      -2273.28      \n",
      "wheel_system_cat*model_name*h(5-model_name)         No      -209.956      \n",
      "h(savings_amount-1334)                              No      1.78673       \n",
      "h(1334-savings_amount)                              Yes     None          \n",
      "torque*model_name*h(5-model_name)                   No      -2.84237      \n",
      "engine_cylinders_V8*wheelbase                       No      66.4822       \n",
      "h(trimId-82130)*h(5-model_name)                     Yes     None          \n",
      "h(82130-trimId)*h(5-model_name)                     No      0.0465898     \n",
      "length*h(5-model_name)                              No      25.005        \n",
      "h(mileage-28245)*torque*model_name*h(5-model_name)  Yes     None          \n",
      "h(28245-mileage)*torque*model_name*h(5-model_name)  No      -0.000156181  \n",
      "h(franchise_make-5)                                 No      36175.2       \n",
      "h(5-franchise_make)                                 No      -258.474      \n",
      "h(franchise_make-5)*h(savings_amount-1334)          No      -10.0584      \n",
      "h(5-franchise_make)*h(savings_amount-1334)          No      -0.247461     \n",
      "engine_cylinders_V8*h(560-torque)                   No      -38.2406      \n",
      "h(mileage-147589)*wheelbase                         No      0.00184296    \n",
      "h(147589-mileage)*wheelbase                         No      -0.00116415   \n",
      "year*wheelbase                                      No      4.32965       \n",
      "--------------------------------------------------------------------------\n",
      "MSE: 16283815.1227, GCV: 16910327.4418, RSQ: 0.9069, GRSQ: 0.9034\n"
     ]
    }
   ],
   "source": [
    "mars_params = {'max_degree': range(1, 10),\n",
    "              'enable_pruning': [True, False]}\n",
    "\n",
    "mars_grid = GridSearchCV(Earth(), mars_params, \n",
    "                         scoring = 'neg_mean_absolute_error', n_jobs = -1, cv = 5, verbose = 1)\n",
    "mars_grid.fit(X_train, y_train)\n",
    "\n",
    "print(\"Best MARS params: \", mars_grid.best_params_)\n",
    "print(\"Tuned mars model RMSE:\", mean_squared_error(y_test, mars_grid.predict(X_test), squared = False))\n",
    "print(mars_grid.best_estimator_.summary())"
   ]
  },
  {
   "cell_type": "markdown",
   "id": "aa3f63c4",
   "metadata": {},
   "source": [
    "### Decision Trees & Bagging Decision Trees\n",
    "*By Nicole Birova*"
   ]
  },
  {
   "cell_type": "markdown",
   "id": "b3423d1a",
   "metadata": {},
   "source": [
    "### Random forest \n",
    "*By Hiba Khatib*"
   ]
  },
  {
   "cell_type": "markdown",
   "id": "a67c9ff7",
   "metadata": {},
   "source": [
    "### AdaBoost & Gradient boosting\n",
    "*By YuYan Zhang*"
   ]
  },
  {
   "cell_type": "markdown",
   "id": "8182968b",
   "metadata": {},
   "source": [
    "### XGBoost\n",
    "*By Emily Leibfritz*"
   ]
  },
  {
   "cell_type": "markdown",
   "id": "a221dcc6",
   "metadata": {},
   "source": [
    "## Model Ensemble "
   ]
  },
  {
   "cell_type": "markdown",
   "id": "9dc8b3d9",
   "metadata": {},
   "source": [
    "Put code with comments. The comments should explain the code such that it can be easily understood. You may put text *(in a markdown cell)* before a large chunk of code to explain the overall purpose of the code, if it is not intuitive. **Put the name of the person / persons who contributed to each code chunk / set of code chunks.**\n"
   ]
  },
  {
   "cell_type": "markdown",
   "id": "961bcb1d",
   "metadata": {},
   "source": [
    "### Voting ensemble"
   ]
  },
  {
   "cell_type": "markdown",
   "id": "ca651ba0",
   "metadata": {},
   "source": [
    "### Stacking ensemble(s)"
   ]
  },
  {
   "cell_type": "markdown",
   "id": "ddff3adf",
   "metadata": {},
   "source": [
    "### Ensemble of ensembled models"
   ]
  },
  {
   "cell_type": "markdown",
   "id": "3668faab",
   "metadata": {},
   "source": [
    "### Innovative ensembling methods\n",
    "*(Optional)*"
   ]
  },
  {
   "cell_type": "markdown",
   "id": "62a185cb",
   "metadata": {},
   "source": [
    "## Conclusions and Recommendations to stakeholder(s)\n",
    "\n",
    "You may or may not have code to put in this section. Delete this section if it is irrelevant."
   ]
  }
 ],
 "metadata": {
  "kernelspec": {
   "display_name": "Python 3 (ipykernel)",
   "language": "python",
   "name": "python3"
  },
  "language_info": {
   "codemirror_mode": {
    "name": "ipython",
    "version": 3
   },
   "file_extension": ".py",
   "mimetype": "text/x-python",
   "name": "python",
   "nbconvert_exporter": "python",
   "pygments_lexer": "ipython3",
   "version": "3.9.12"
  }
 },
 "nbformat": 4,
 "nbformat_minor": 5
}
