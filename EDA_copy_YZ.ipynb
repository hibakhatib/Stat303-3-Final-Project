{
 "cells": [
  {
   "cell_type": "code",
   "execution_count": 13,
   "id": "8a4b4184-615f-49b7-a9e9-468dda4e0fcd",
   "metadata": {},
   "outputs": [],
   "source": [
    "from sklearn.linear_model import LinearRegression\n",
    "import pandas as pd\n",
    "import numpy as np \n",
    "import seaborn as sns \n",
    "import matplotlib.pyplot as plt\n",
    "from sklearn.model_selection import train_test_split, cross_val_predict, cross_val_score, GridSearchCV, ParameterGrid, KFold\n",
    "from sklearn.preprocessing import StandardScaler, PolynomialFeatures\n",
    "from sklearn.metrics import accuracy_score, mean_absolute_error, mean_squared_error, r2_score, \\\n",
    "roc_curve, auc, precision_score, recall_score, confusion_matrix\n",
    "import statsmodels.formula.api as smf\n",
    "import statsmodels.api as sm\n",
    "from patsy import dmatrix\n",
    "#from pyearth import Earth\n",
    "from sklearn.tree import DecisionTreeClassifier, DecisionTreeRegressor\n",
    "from sklearn.ensemble import BaggingRegressor,BaggingClassifier,RandomForestRegressor,RandomForestClassifier\n",
    "from sklearn.neighbors import KNeighborsRegressor\n",
    "import warnings\n",
    "warnings.filterwarnings('ignore')\n",
    "from sklearn.preprocessing import LabelEncoder"
   ]
  },
  {
   "cell_type": "code",
   "execution_count": 20,
   "id": "aeae9096-89fb-4eaf-b1d4-8619a88215ea",
   "metadata": {},
   "outputs": [
    {
     "data": {
      "text/html": [
       "<div>\n",
       "<style scoped>\n",
       "    .dataframe tbody tr th:only-of-type {\n",
       "        vertical-align: middle;\n",
       "    }\n",
       "\n",
       "    .dataframe tbody tr th {\n",
       "        vertical-align: top;\n",
       "    }\n",
       "\n",
       "    .dataframe thead th {\n",
       "        text-align: right;\n",
       "    }\n",
       "</style>\n",
       "<table border=\"1\" class=\"dataframe\">\n",
       "  <thead>\n",
       "    <tr style=\"text-align: right;\">\n",
       "      <th></th>\n",
       "      <th>vin</th>\n",
       "      <th>back_legroom</th>\n",
       "      <th>body_type</th>\n",
       "      <th>city</th>\n",
       "      <th>city_fuel_economy</th>\n",
       "      <th>daysonmarket</th>\n",
       "      <th>dealer_zip</th>\n",
       "      <th>description</th>\n",
       "      <th>engine_cylinders</th>\n",
       "      <th>engine_displacement</th>\n",
       "      <th>...</th>\n",
       "      <th>torque</th>\n",
       "      <th>transmission</th>\n",
       "      <th>transmission_display</th>\n",
       "      <th>trimId</th>\n",
       "      <th>trim_name</th>\n",
       "      <th>wheel_system</th>\n",
       "      <th>wheel_system_display</th>\n",
       "      <th>wheelbase</th>\n",
       "      <th>width</th>\n",
       "      <th>year</th>\n",
       "    </tr>\n",
       "  </thead>\n",
       "  <tbody>\n",
       "    <tr>\n",
       "      <th>0</th>\n",
       "      <td>5LMCJ2C97HUL71203</td>\n",
       "      <td>36.8 in</td>\n",
       "      <td>SUV / Crossover</td>\n",
       "      <td>Devine</td>\n",
       "      <td>21.0</td>\n",
       "      <td>40</td>\n",
       "      <td>78016</td>\n",
       "      <td>*We have 19 sources of financing and second ch...</td>\n",
       "      <td>I4</td>\n",
       "      <td>2000.0</td>\n",
       "      <td>...</td>\n",
       "      <td>270 lb-ft @ 3,000 RPM</td>\n",
       "      <td>A</td>\n",
       "      <td>Automatic</td>\n",
       "      <td>t66989</td>\n",
       "      <td>Select FWD</td>\n",
       "      <td>FWD</td>\n",
       "      <td>Front-Wheel Drive</td>\n",
       "      <td>105.9 in</td>\n",
       "      <td>84.1 in</td>\n",
       "      <td>2017</td>\n",
       "    </tr>\n",
       "    <tr>\n",
       "      <th>1</th>\n",
       "      <td>1FM5K8D87HGE07214</td>\n",
       "      <td>39.5 in</td>\n",
       "      <td>SUV / Crossover</td>\n",
       "      <td>Buffalo</td>\n",
       "      <td>16.0</td>\n",
       "      <td>9</td>\n",
       "      <td>55313</td>\n",
       "      <td>We are open for business.    Purchase your nex...</td>\n",
       "      <td>V6</td>\n",
       "      <td>3500.0</td>\n",
       "      <td>...</td>\n",
       "      <td>255 lb-ft @ 4,000 RPM</td>\n",
       "      <td>A</td>\n",
       "      <td>6-Speed Automatic</td>\n",
       "      <td>t67141</td>\n",
       "      <td>XLT AWD</td>\n",
       "      <td>AWD</td>\n",
       "      <td>All-Wheel Drive</td>\n",
       "      <td>112.8 in</td>\n",
       "      <td>90.2 in</td>\n",
       "      <td>2017</td>\n",
       "    </tr>\n",
       "    <tr>\n",
       "      <th>2</th>\n",
       "      <td>1FMCU0GX6FUA14602</td>\n",
       "      <td>36.8 in</td>\n",
       "      <td>SUV / Crossover</td>\n",
       "      <td>Murfreesboro</td>\n",
       "      <td>23.0</td>\n",
       "      <td>30</td>\n",
       "      <td>37129</td>\n",
       "      <td>CARFAX One-Owner.THIS VEHICLE HAS GONE THROUGH...</td>\n",
       "      <td>I4</td>\n",
       "      <td>2500.0</td>\n",
       "      <td>...</td>\n",
       "      <td>170 lb-ft @ 4,500 RPM</td>\n",
       "      <td>A</td>\n",
       "      <td>Automatic</td>\n",
       "      <td>t55391</td>\n",
       "      <td>SE FWD</td>\n",
       "      <td>FWD</td>\n",
       "      <td>Front-Wheel Drive</td>\n",
       "      <td>105.9 in</td>\n",
       "      <td>81.8 in</td>\n",
       "      <td>2015</td>\n",
       "    </tr>\n",
       "    <tr>\n",
       "      <th>3</th>\n",
       "      <td>WBA4W7C56JAB87837</td>\n",
       "      <td>33.7 in</td>\n",
       "      <td>Coupe</td>\n",
       "      <td>San Rafael</td>\n",
       "      <td>21.0</td>\n",
       "      <td>45</td>\n",
       "      <td>94901</td>\n",
       "      <td>FUEL EFFICIENT 32 MPG Hwy/21 MPG City! CARFAX ...</td>\n",
       "      <td>I6</td>\n",
       "      <td>3000.0</td>\n",
       "      <td>...</td>\n",
       "      <td>330 lb-ft @ 1,380 RPM</td>\n",
       "      <td>A</td>\n",
       "      <td>8-Speed Automatic</td>\n",
       "      <td>t73244</td>\n",
       "      <td>440i Coupe RWD</td>\n",
       "      <td>RWD</td>\n",
       "      <td>Rear-Wheel Drive</td>\n",
       "      <td>110.6 in</td>\n",
       "      <td>79.4 in</td>\n",
       "      <td>2018</td>\n",
       "    </tr>\n",
       "    <tr>\n",
       "      <th>4</th>\n",
       "      <td>SADCL2GX4KA397815</td>\n",
       "      <td>37.2 in</td>\n",
       "      <td>SUV / Crossover</td>\n",
       "      <td>Glen Cove</td>\n",
       "      <td>22.0</td>\n",
       "      <td>319</td>\n",
       "      <td>11542</td>\n",
       "      <td>Santorini Black 2019 Jaguar F-PACE 30t R-Sport...</td>\n",
       "      <td>I4</td>\n",
       "      <td>2000.0</td>\n",
       "      <td>...</td>\n",
       "      <td>295 lb-ft @ 1,500 RPM</td>\n",
       "      <td>A</td>\n",
       "      <td>8-Speed Automatic</td>\n",
       "      <td>t83299</td>\n",
       "      <td>30t R-Sport AWD</td>\n",
       "      <td>AWD</td>\n",
       "      <td>All-Wheel Drive</td>\n",
       "      <td>113.1 in</td>\n",
       "      <td>85.6 in</td>\n",
       "      <td>2019</td>\n",
       "    </tr>\n",
       "  </tbody>\n",
       "</table>\n",
       "<p>5 rows × 57 columns</p>\n",
       "</div>"
      ],
      "text/plain": [
       "                 vin back_legroom        body_type          city  \\\n",
       "0  5LMCJ2C97HUL71203      36.8 in  SUV / Crossover        Devine   \n",
       "1  1FM5K8D87HGE07214      39.5 in  SUV / Crossover       Buffalo   \n",
       "2  1FMCU0GX6FUA14602      36.8 in  SUV / Crossover  Murfreesboro   \n",
       "3  WBA4W7C56JAB87837      33.7 in            Coupe    San Rafael   \n",
       "4  SADCL2GX4KA397815      37.2 in  SUV / Crossover     Glen Cove   \n",
       "\n",
       "   city_fuel_economy  daysonmarket  dealer_zip  \\\n",
       "0               21.0            40       78016   \n",
       "1               16.0             9       55313   \n",
       "2               23.0            30       37129   \n",
       "3               21.0            45       94901   \n",
       "4               22.0           319       11542   \n",
       "\n",
       "                                         description engine_cylinders  \\\n",
       "0  *We have 19 sources of financing and second ch...               I4   \n",
       "1  We are open for business.    Purchase your nex...               V6   \n",
       "2  CARFAX One-Owner.THIS VEHICLE HAS GONE THROUGH...               I4   \n",
       "3  FUEL EFFICIENT 32 MPG Hwy/21 MPG City! CARFAX ...               I6   \n",
       "4  Santorini Black 2019 Jaguar F-PACE 30t R-Sport...               I4   \n",
       "\n",
       "   engine_displacement  ...                 torque transmission  \\\n",
       "0               2000.0  ...  270 lb-ft @ 3,000 RPM            A   \n",
       "1               3500.0  ...  255 lb-ft @ 4,000 RPM            A   \n",
       "2               2500.0  ...  170 lb-ft @ 4,500 RPM            A   \n",
       "3               3000.0  ...  330 lb-ft @ 1,380 RPM            A   \n",
       "4               2000.0  ...  295 lb-ft @ 1,500 RPM            A   \n",
       "\n",
       "   transmission_display  trimId        trim_name wheel_system  \\\n",
       "0             Automatic  t66989       Select FWD          FWD   \n",
       "1     6-Speed Automatic  t67141          XLT AWD          AWD   \n",
       "2             Automatic  t55391           SE FWD          FWD   \n",
       "3     8-Speed Automatic  t73244   440i Coupe RWD          RWD   \n",
       "4     8-Speed Automatic  t83299  30t R-Sport AWD          AWD   \n",
       "\n",
       "  wheel_system_display wheelbase    width  year  \n",
       "0    Front-Wheel Drive  105.9 in  84.1 in  2017  \n",
       "1      All-Wheel Drive  112.8 in  90.2 in  2017  \n",
       "2    Front-Wheel Drive  105.9 in  81.8 in  2015  \n",
       "3     Rear-Wheel Drive  110.6 in  79.4 in  2018  \n",
       "4      All-Wheel Drive  113.1 in  85.6 in  2019  \n",
       "\n",
       "[5 rows x 57 columns]"
      ]
     },
     "execution_count": 20,
     "metadata": {},
     "output_type": "execute_result"
    }
   ],
   "source": [
    "data = pd.read_csv('us_used_cars_final.csv')\n",
    "data.head()"
   ]
  },
  {
   "cell_type": "code",
   "execution_count": 15,
   "id": "860443fe-7eb9-45cf-a30d-a344378f88ab",
   "metadata": {},
   "outputs": [
    {
     "data": {
      "text/plain": [
       "(6000, 57)"
      ]
     },
     "execution_count": 15,
     "metadata": {},
     "output_type": "execute_result"
    }
   ],
   "source": [
    "data.shape"
   ]
  },
  {
   "cell_type": "code",
   "execution_count": 16,
   "id": "4dc0f407-336f-4724-9fcc-5a1acb12e2f3",
   "metadata": {},
   "outputs": [
    {
     "data": {
      "text/html": [
       "<div>\n",
       "<style scoped>\n",
       "    .dataframe tbody tr th:only-of-type {\n",
       "        vertical-align: middle;\n",
       "    }\n",
       "\n",
       "    .dataframe tbody tr th {\n",
       "        vertical-align: top;\n",
       "    }\n",
       "\n",
       "    .dataframe thead th {\n",
       "        text-align: right;\n",
       "    }\n",
       "</style>\n",
       "<table border=\"1\" class=\"dataframe\">\n",
       "  <thead>\n",
       "    <tr style=\"text-align: right;\">\n",
       "      <th></th>\n",
       "      <th>city_fuel_economy</th>\n",
       "      <th>daysonmarket</th>\n",
       "      <th>dealer_zip</th>\n",
       "      <th>engine_displacement</th>\n",
       "      <th>highway_fuel_economy</th>\n",
       "      <th>horsepower</th>\n",
       "      <th>latitude</th>\n",
       "      <th>listing_id</th>\n",
       "      <th>longitude</th>\n",
       "      <th>mileage</th>\n",
       "      <th>owner_count</th>\n",
       "      <th>price</th>\n",
       "      <th>savings_amount</th>\n",
       "      <th>seller_rating</th>\n",
       "      <th>sp_id</th>\n",
       "      <th>year</th>\n",
       "    </tr>\n",
       "  </thead>\n",
       "  <tbody>\n",
       "    <tr>\n",
       "      <th>count</th>\n",
       "      <td>6000.000000</td>\n",
       "      <td>6000.000000</td>\n",
       "      <td>6000.000000</td>\n",
       "      <td>6000.000000</td>\n",
       "      <td>6000.000000</td>\n",
       "      <td>6000.000000</td>\n",
       "      <td>6000.000000</td>\n",
       "      <td>6.000000e+03</td>\n",
       "      <td>6000.000000</td>\n",
       "      <td>6000.000000</td>\n",
       "      <td>6000.000000</td>\n",
       "      <td>6000.000000</td>\n",
       "      <td>6000.000000</td>\n",
       "      <td>6000.000000</td>\n",
       "      <td>6000.000000</td>\n",
       "      <td>6000.000000</td>\n",
       "    </tr>\n",
       "    <tr>\n",
       "      <th>mean</th>\n",
       "      <td>21.064333</td>\n",
       "      <td>45.114333</td>\n",
       "      <td>50305.630833</td>\n",
       "      <td>2959.166667</td>\n",
       "      <td>28.460667</td>\n",
       "      <td>249.092167</td>\n",
       "      <td>37.240227</td>\n",
       "      <td>2.779022e+08</td>\n",
       "      <td>-90.394026</td>\n",
       "      <td>45099.504500</td>\n",
       "      <td>1.317667</td>\n",
       "      <td>24568.383500</td>\n",
       "      <td>1066.323500</td>\n",
       "      <td>4.268644</td>\n",
       "      <td>209583.667000</td>\n",
       "      <td>2016.812667</td>\n",
       "    </tr>\n",
       "    <tr>\n",
       "      <th>std</th>\n",
       "      <td>4.568115</td>\n",
       "      <td>68.868636</td>\n",
       "      <td>26739.061772</td>\n",
       "      <td>1133.912224</td>\n",
       "      <td>5.460869</td>\n",
       "      <td>82.798315</td>\n",
       "      <td>4.977101</td>\n",
       "      <td>5.683748e+06</td>\n",
       "      <td>13.470080</td>\n",
       "      <td>35797.272393</td>\n",
       "      <td>0.646135</td>\n",
       "      <td>16744.392283</td>\n",
       "      <td>1045.426374</td>\n",
       "      <td>0.500819</td>\n",
       "      <td>130166.298871</td>\n",
       "      <td>2.653943</td>\n",
       "    </tr>\n",
       "    <tr>\n",
       "      <th>min</th>\n",
       "      <td>11.000000</td>\n",
       "      <td>0.000000</td>\n",
       "      <td>1020.000000</td>\n",
       "      <td>1000.000000</td>\n",
       "      <td>15.000000</td>\n",
       "      <td>78.000000</td>\n",
       "      <td>25.481300</td>\n",
       "      <td>1.622947e+08</td>\n",
       "      <td>-123.197000</td>\n",
       "      <td>10.000000</td>\n",
       "      <td>1.000000</td>\n",
       "      <td>1680.000000</td>\n",
       "      <td>0.000000</td>\n",
       "      <td>1.000000</td>\n",
       "      <td>41593.000000</td>\n",
       "      <td>1993.000000</td>\n",
       "    </tr>\n",
       "    <tr>\n",
       "      <th>25%</th>\n",
       "      <td>17.000000</td>\n",
       "      <td>13.000000</td>\n",
       "      <td>30076.000000</td>\n",
       "      <td>2000.000000</td>\n",
       "      <td>24.000000</td>\n",
       "      <td>180.000000</td>\n",
       "      <td>33.606625</td>\n",
       "      <td>2.772000e+08</td>\n",
       "      <td>-96.763100</td>\n",
       "      <td>22090.750000</td>\n",
       "      <td>1.000000</td>\n",
       "      <td>16500.000000</td>\n",
       "      <td>327.000000</td>\n",
       "      <td>4.030303</td>\n",
       "      <td>60592.000000</td>\n",
       "      <td>2016.000000</td>\n",
       "    </tr>\n",
       "    <tr>\n",
       "      <th>50%</th>\n",
       "      <td>21.000000</td>\n",
       "      <td>27.000000</td>\n",
       "      <td>48197.000000</td>\n",
       "      <td>2500.000000</td>\n",
       "      <td>28.000000</td>\n",
       "      <td>248.000000</td>\n",
       "      <td>38.410100</td>\n",
       "      <td>2.792906e+08</td>\n",
       "      <td>-87.470300</td>\n",
       "      <td>34645.000000</td>\n",
       "      <td>1.000000</td>\n",
       "      <td>21924.000000</td>\n",
       "      <td>781.000000</td>\n",
       "      <td>4.347826</td>\n",
       "      <td>276221.000000</td>\n",
       "      <td>2017.000000</td>\n",
       "    </tr>\n",
       "    <tr>\n",
       "      <th>75%</th>\n",
       "      <td>25.000000</td>\n",
       "      <td>51.000000</td>\n",
       "      <td>75237.000000</td>\n",
       "      <td>3600.000000</td>\n",
       "      <td>32.000000</td>\n",
       "      <td>295.000000</td>\n",
       "      <td>41.101500</td>\n",
       "      <td>2.806469e+08</td>\n",
       "      <td>-80.826500</td>\n",
       "      <td>56661.250000</td>\n",
       "      <td>1.000000</td>\n",
       "      <td>29995.000000</td>\n",
       "      <td>1499.250000</td>\n",
       "      <td>4.600000</td>\n",
       "      <td>307550.000000</td>\n",
       "      <td>2019.000000</td>\n",
       "    </tr>\n",
       "    <tr>\n",
       "      <th>max</th>\n",
       "      <td>70.000000</td>\n",
       "      <td>1365.000000</td>\n",
       "      <td>99362.000000</td>\n",
       "      <td>6600.000000</td>\n",
       "      <td>75.000000</td>\n",
       "      <td>707.000000</td>\n",
       "      <td>48.304300</td>\n",
       "      <td>2.819634e+08</td>\n",
       "      <td>-68.411600</td>\n",
       "      <td>294140.000000</td>\n",
       "      <td>8.000000</td>\n",
       "      <td>859000.000000</td>\n",
       "      <td>12039.000000</td>\n",
       "      <td>5.000000</td>\n",
       "      <td>440352.000000</td>\n",
       "      <td>2020.000000</td>\n",
       "    </tr>\n",
       "  </tbody>\n",
       "</table>\n",
       "</div>"
      ],
      "text/plain": [
       "       city_fuel_economy  daysonmarket    dealer_zip  engine_displacement  \\\n",
       "count        6000.000000   6000.000000   6000.000000          6000.000000   \n",
       "mean           21.064333     45.114333  50305.630833          2959.166667   \n",
       "std             4.568115     68.868636  26739.061772          1133.912224   \n",
       "min            11.000000      0.000000   1020.000000          1000.000000   \n",
       "25%            17.000000     13.000000  30076.000000          2000.000000   \n",
       "50%            21.000000     27.000000  48197.000000          2500.000000   \n",
       "75%            25.000000     51.000000  75237.000000          3600.000000   \n",
       "max            70.000000   1365.000000  99362.000000          6600.000000   \n",
       "\n",
       "       highway_fuel_economy   horsepower     latitude    listing_id  \\\n",
       "count           6000.000000  6000.000000  6000.000000  6.000000e+03   \n",
       "mean              28.460667   249.092167    37.240227  2.779022e+08   \n",
       "std                5.460869    82.798315     4.977101  5.683748e+06   \n",
       "min               15.000000    78.000000    25.481300  1.622947e+08   \n",
       "25%               24.000000   180.000000    33.606625  2.772000e+08   \n",
       "50%               28.000000   248.000000    38.410100  2.792906e+08   \n",
       "75%               32.000000   295.000000    41.101500  2.806469e+08   \n",
       "max               75.000000   707.000000    48.304300  2.819634e+08   \n",
       "\n",
       "         longitude        mileage  owner_count          price  savings_amount  \\\n",
       "count  6000.000000    6000.000000  6000.000000    6000.000000     6000.000000   \n",
       "mean    -90.394026   45099.504500     1.317667   24568.383500     1066.323500   \n",
       "std      13.470080   35797.272393     0.646135   16744.392283     1045.426374   \n",
       "min    -123.197000      10.000000     1.000000    1680.000000        0.000000   \n",
       "25%     -96.763100   22090.750000     1.000000   16500.000000      327.000000   \n",
       "50%     -87.470300   34645.000000     1.000000   21924.000000      781.000000   \n",
       "75%     -80.826500   56661.250000     1.000000   29995.000000     1499.250000   \n",
       "max     -68.411600  294140.000000     8.000000  859000.000000    12039.000000   \n",
       "\n",
       "       seller_rating          sp_id         year  \n",
       "count    6000.000000    6000.000000  6000.000000  \n",
       "mean        4.268644  209583.667000  2016.812667  \n",
       "std         0.500819  130166.298871     2.653943  \n",
       "min         1.000000   41593.000000  1993.000000  \n",
       "25%         4.030303   60592.000000  2016.000000  \n",
       "50%         4.347826  276221.000000  2017.000000  \n",
       "75%         4.600000  307550.000000  2019.000000  \n",
       "max         5.000000  440352.000000  2020.000000  "
      ]
     },
     "execution_count": 16,
     "metadata": {},
     "output_type": "execute_result"
    }
   ],
   "source": [
    "data.describe()"
   ]
  },
  {
   "cell_type": "code",
   "execution_count": 23,
   "id": "391683b6-b94e-4815-8ff0-f9c73e784749",
   "metadata": {},
   "outputs": [
    {
     "data": {
      "text/plain": [
       "Index(['back_legroom', 'body_type', 'city', 'city_fuel_economy',\n",
       "       'daysonmarket', 'dealer_zip', 'engine_cylinders', 'engine_displacement',\n",
       "       'engine_type', 'exterior_color', 'fleet', 'frame_damaged',\n",
       "       'franchise_make', 'front_legroom', 'fuel_tank_volume', 'fuel_type',\n",
       "       'has_accidents', 'height', 'highway_fuel_economy', 'horsepower',\n",
       "       'interior_color', 'isCab', 'is_new', 'latitude', 'length',\n",
       "       'listed_date', 'listing_color', 'longitude', 'major_options',\n",
       "       'make_name', 'maximum_seating', 'mileage', 'model_name', 'owner_count',\n",
       "       'power', 'price', 'salvage', 'savings_amount', 'seller_rating', 'sp_id',\n",
       "       'sp_name', 'theft_title', 'torque', 'transmission',\n",
       "       'transmission_display', 'trimId', 'trim_name', 'wheel_system',\n",
       "       'wheel_system_display', 'wheelbase', 'width', 'year'],\n",
       "      dtype='object')"
      ]
     },
     "execution_count": 23,
     "metadata": {},
     "output_type": "execute_result"
    }
   ],
   "source": [
    "data.columns"
   ]
  },
  {
   "cell_type": "code",
   "execution_count": 22,
   "id": "e98ced37-30e2-42a9-8eec-b49bafeb2042",
   "metadata": {},
   "outputs": [],
   "source": [
    "# drop columns that are unique\n",
    "data.drop(columns = ['vin', 'listing_id', 'main_picture_url', 'description'], inplace = True)\n",
    "data.drop(columns = ['franchise_dealer'], inplace = True)"
   ]
  },
  {
   "cell_type": "code",
   "execution_count": 24,
   "id": "a0707c4c-ef46-4d6f-896e-faf4b6796ad4",
   "metadata": {},
   "outputs": [
    {
     "data": {
      "text/plain": [
       "count      6000.000000\n",
       "mean      24568.383500\n",
       "std       16744.392283\n",
       "min        1680.000000\n",
       "25%       16500.000000\n",
       "50%       21924.000000\n",
       "75%       29995.000000\n",
       "max      859000.000000\n",
       "Name: price, dtype: float64"
      ]
     },
     "execution_count": 24,
     "metadata": {},
     "output_type": "execute_result"
    }
   ],
   "source": [
    "data.price.describe()"
   ]
  },
  {
   "cell_type": "code",
   "execution_count": 29,
   "id": "b945073b-4c61-4e57-89f7-b134b5dd78bf",
   "metadata": {},
   "outputs": [
    {
     "data": {
      "text/plain": [
       "<AxesSubplot:xlabel='price', ylabel='Count'>"
      ]
     },
     "execution_count": 29,
     "metadata": {},
     "output_type": "execute_result"
    },
    {
     "data": {
      "image/png": "[encoded data removed]",
      "text/plain": [
       "<Figure size 640x480 with 1 Axes>"
      ]
     },
     "metadata": {},
     "output_type": "display_data"
    }
   ],
   "source": [
    "sns.histplot(data=data, x='price')"
   ]
  },
  {
   "cell_type": "code",
   "execution_count": 30,
   "id": "d17317b4-0470-4173-956b-15c7f70b84b4",
   "metadata": {},
   "outputs": [
    {
     "data": {
      "text/plain": [
       "<AxesSubplot:ylabel='price'>"
      ]
     },
     "execution_count": 30,
     "metadata": {},
     "output_type": "execute_result"
    },
    {
     "data": {
      "image/png": "[encoded data removed]",
      "text/plain": [
       "<Figure size 640x480 with 1 Axes>"
      ]
     },
     "metadata": {},
     "output_type": "display_data"
    }
   ],
   "source": [
    "sns.boxplot(data=data, y='price')"
   ]
  },
  {
   "cell_type": "code",
   "execution_count": 32,
   "id": "37a09ba5-b08f-4f53-ac38-517f156d2eaa",
   "metadata": {},
   "outputs": [],
   "source": [
    "# dropping extreme outlier\n",
    "data.drop(data.price.idxmax(), inplace=True)"
   ]
  },
  {
   "cell_type": "code",
   "execution_count": 34,
   "id": "22bee2b9-f42a-44c6-bc77-ff4af1fd9819",
   "metadata": {},
   "outputs": [
    {
     "data": {
      "text/plain": [
       "<AxesSubplot:ylabel='price'>"
      ]
     },
     "execution_count": 34,
     "metadata": {},
     "output_type": "execute_result"
    },
    {
     "data": {
      "image/png": "[encoded data removed]",
      "text/plain": [
       "<Figure size 640x480 with 1 Axes>"
      ]
     },
     "metadata": {},
     "output_type": "display_data"
    }
   ],
   "source": [
    "sns.boxplot(data=data, y='price')"
   ]
  },
  {
   "cell_type": "code",
   "execution_count": 35,
   "id": "fcb4e9fd-e7e1-44db-91b8-b56dd7b6b73e",
   "metadata": {},
   "outputs": [
    {
     "data": {
      "text/plain": [
       "<AxesSubplot:xlabel='price', ylabel='Count'>"
      ]
     },
     "execution_count": 35,
     "metadata": {},
     "output_type": "execute_result"
    },
    {
     "data": {
      "image/png": "[encoded data removed]",
      "text/plain": [
       "<Figure size 640x480 with 1 Axes>"
      ]
     },
     "metadata": {},
     "output_type": "display_data"
    }
   ],
   "source": [
    "sns.histplot(data=data, x='price')"
   ]
  },
  {
   "cell_type": "markdown",
   "id": "6c84ea15-8d66-4758-999e-0d6ef6c54c0f",
   "metadata": {},
   "source": [
    "Keeping other outliers for now, as most are tree based models that aren't heavily influenced by outliers"
   ]
  },
  {
   "cell_type": "markdown",
   "id": "1743e6f3-e2a4-4196-a0ac-e04b2b7d8d16",
   "metadata": {},
   "source": [
    "### Feature engineering\n",
    "(Hiba)"
   ]
  },
  {
   "cell_type": "code",
   "execution_count": 57,
   "id": "ef96c199-c105-4a46-aed7-54017b4b9f79",
   "metadata": {},
   "outputs": [
    {
     "name": "stdout",
     "output_type": "stream",
     "text": [
      "['FWD' 'AWD' 'RWD' '4WD' '4X2']\n",
      "['A' 'CVT' 'M' 'Dual Clutch']\n"
     ]
    }
   ],
   "source": [
    "# map \n",
    "print(data.wheel_system.unique())\n",
    "print(data.transmission.unique())"
   ]
  },
  {
   "cell_type": "code",
   "execution_count": 58,
   "id": "d19199f5-2739-455d-81fc-e1eff92be8a9",
   "metadata": {},
   "outputs": [],
   "source": [
    "bool_cols = data.dtypes[data.dtypes == bool]"
   ]
  },
  {
   "cell_type": "code",
   "execution_count": 59,
   "id": "1bff16a0-da41-487f-9878-273e1010db57",
   "metadata": {},
   "outputs": [
    {
     "data": {
      "text/plain": [
       "['fleet',\n",
       " 'frame_damaged',\n",
       " 'has_accidents',\n",
       " 'isCab',\n",
       " 'is_new',\n",
       " 'salvage',\n",
       " 'theft_title']"
      ]
     },
     "execution_count": 59,
     "metadata": {},
     "output_type": "execute_result"
    }
   ],
   "source": [
    "bool_cols = pd.DataFrame(bool_cols).reset_index()\n",
    "bool_cols = bool_cols['index']\n",
    "bool_cols = list(bool_cols)\n",
    "bool_cols"
   ]
  },
  {
   "cell_type": "code",
   "execution_count": 60,
   "id": "230e0909-0e91-4f17-a791-0d84e5cd935f",
   "metadata": {},
   "outputs": [],
   "source": [
    "for col in bool_cols:\n",
    "    data[col] = data[col].map({False: 0, True: 1})"
   ]
  },
  {
   "cell_type": "code",
   "execution_count": 61,
   "id": "d40acf78-b728-4017-9803-029b988caa99",
   "metadata": {},
   "outputs": [
    {
     "data": {
      "text/plain": [
       "[None, None, None, None, None, None, None]"
      ]
     },
     "execution_count": 61,
     "metadata": {},
     "output_type": "execute_result"
    }
   ],
   "source": [
    "cols_map = []\n",
    "for c in data.columns:\n",
    "    col_len = (len(data[c].unique()))\n",
    "    if col_len <=5:\n",
    "        cols_map.append(c)\n",
    "[cols_map.remove(c) for c in bool_cols]"
   ]
  },
  {
   "cell_type": "code",
   "execution_count": 62,
   "id": "e1bab466-7e34-44b4-9e7d-6d1b4c646285",
   "metadata": {},
   "outputs": [
    {
     "data": {
      "text/plain": [
       "['fuel_type', 'transmission', 'wheel_system', 'wheel_system_display']"
      ]
     },
     "execution_count": 62,
     "metadata": {},
     "output_type": "execute_result"
    }
   ],
   "source": [
    "cols_map"
   ]
  },
  {
   "cell_type": "code",
   "execution_count": 63,
   "id": "39d79180-4a64-4d0a-8ebc-6f440c7f92f6",
   "metadata": {},
   "outputs": [],
   "source": [
    "# # use label encoder\n",
    "le = LabelEncoder()\n",
    "\n",
    "encoder_dict = {key: None for key in cols_map}\n",
    "for c in cols_map:\n",
    "    encoder_dict[c] = data[c].unique()\n",
    "    col_name = str(c)+\"_cat\"\n",
    "    data[col_name] = le.fit_transform(data[c])\n",
    "    encoder_dict[col_name] = le.fit_transform(encoder_dict[c])"
   ]
  },
  {
   "cell_type": "code",
   "execution_count": 64,
   "id": "3289ffde-1dcb-41f4-ba64-3a52b09740e6",
   "metadata": {},
   "outputs": [
    {
     "data": {
      "text/plain": [
       "{'fuel_type': array(['Gasoline', 'Diesel', 'Flex Fuel Vehicle', 'Biodiesel', 'Hybrid'],\n",
       "       dtype=object),\n",
       " 'transmission': array(['A', 'CVT', 'M', 'Dual Clutch'], dtype=object),\n",
       " 'wheel_system': array(['FWD', 'AWD', 'RWD', '4WD', '4X2'], dtype=object),\n",
       " 'wheel_system_display': array(['Front-Wheel Drive', 'All-Wheel Drive', 'Rear-Wheel Drive',\n",
       "        'Four-Wheel Drive', '4X2'], dtype=object),\n",
       " 'fuel_type_cat': array([3, 1, 2, 0, 4]),\n",
       " 'transmission_cat': array([0, 1, 3, 2]),\n",
       " 'wheel_system_cat': array([3, 2, 4, 0, 1]),\n",
       " 'wheel_system_display_cat': array([3, 1, 4, 2, 0])}"
      ]
     },
     "execution_count": 64,
     "metadata": {},
     "output_type": "execute_result"
    }
   ],
   "source": [
    "encoder_dict"
   ]
  },
  {
   "cell_type": "code",
   "execution_count": 65,
   "id": "6295d0d4-63e4-41d3-9039-b91fdc81ae86",
   "metadata": {},
   "outputs": [],
   "source": [
    "# back_legroom, wheelbase, width, front_legroom,, height,  length, maximum_seating, fuel_tank_volume,\n",
    "# power, torque\n",
    "\n",
    "data['back_legroom'] = data['back_legroom'].map(lambda x: x.lstrip('+-').rstrip('in'))\n",
    "data['front_legroom'] = data['front_legroom'].map(lambda x: x.lstrip('+-').rstrip('in'))\n",
    "data['width'] = data['width'].map(lambda x: x.lstrip('+-').rstrip('in'))\n",
    "data['height'] = data['height'].map(lambda x: x.lstrip('+-').rstrip('in'))\n",
    "data['length'] = data['length'].map(lambda x: x.lstrip('+-').rstrip('in'))\n",
    "data['wheelbase'] = data['wheelbase'].map(lambda x: x.lstrip('+-').rstrip('in'))\n",
    "data['maximum_seating'] = data['maximum_seating'].map(lambda x: x.lstrip('+-').rstrip('seating'))\n",
    "data['fuel_tank_volume'] = data['fuel_tank_volume'].map(lambda x: x.lstrip('+-').rstrip('gal'))\n",
    "# power and torque\n",
    "data['power'] = data['power'].str[:3]\n",
    "data['torque'] = data['torque'].str[:3]\n",
    "data.power = pd.to_numeric(data.power)\n",
    "data.back_legroom = pd.to_numeric(data.back_legroom)\n",
    "data.front_legroom = pd.to_numeric(data.front_legroom)\n",
    "data.width = pd.to_numeric(data.width)\n",
    "data.height = pd.to_numeric(data.height)\n",
    "data.length = pd.to_numeric(data.length)\n",
    "data.wheelbase = pd.to_numeric(data.wheelbase)\n",
    "data.maximum_seating = pd.to_numeric(data.maximum_seating)\n",
    "data.fuel_tank_volume = pd.to_numeric(data.fuel_tank_volume)\n",
    "data.torque = pd.to_numeric(data.torque)"
   ]
  },
  {
   "cell_type": "code",
   "execution_count": 66,
   "id": "72415804-8c2b-4c5e-9932-959c96808de8",
   "metadata": {},
   "outputs": [],
   "source": [
    "corrs = data.corr()"
   ]
  },
  {
   "cell_type": "code",
   "execution_count": 69,
   "id": "842621b6-b977-4b9a-a1ab-0f44a2a7c3de",
   "metadata": {},
   "outputs": [
    {
     "data": {
      "text/plain": [
       "<AxesSubplot:>"
      ]
     },
     "execution_count": 69,
     "metadata": {},
     "output_type": "execute_result"
    },
    {
     "data": {
      "image/png": "[encoded data removed]",
      "text/plain": [
       "<Figure size 640x480 with 2 Axes>"
      ]
     },
     "metadata": {},
     "output_type": "display_data"
    }
   ],
   "source": [
    "sns.heatmap(corrs, cmap=\"PiYG\")"
   ]
  },
  {
   "cell_type": "code",
   "execution_count": 68,
   "id": "1b402126-f554-4494-b5c0-4a6fcfd365af",
   "metadata": {},
   "outputs": [
    {
     "data": {
      "text/plain": [
       "price                       1.000000\n",
       "horsepower                  0.654079\n",
       "torque                      0.632233\n",
       "power                       0.629803\n",
       "engine_displacement         0.445707\n",
       "fuel_tank_volume            0.438692\n",
       "mileage                     0.436146\n",
       "highway_fuel_economy        0.426082\n",
       "year                        0.414527\n",
       "wheelbase                   0.403409\n",
       "city_fuel_economy           0.391876\n",
       "length                      0.384349\n",
       "width                       0.373000\n",
       "savings_amount              0.350888\n",
       "height                      0.301968\n",
       "wheel_system_cat            0.301652\n",
       "owner_count                 0.252056\n",
       "wheel_system_display_cat    0.213857\n",
       "back_legroom                0.184594\n",
       "transmission_cat            0.131790\n",
       "maximum_seating             0.130443\n",
       "has_accidents               0.125437\n",
       "front_legroom               0.087703\n",
       "seller_rating               0.064576\n",
       "fleet                       0.054108\n",
       "sp_id                       0.041053\n",
       "isCab                       0.036921\n",
       "latitude                    0.030648\n",
       "frame_damaged               0.024609\n",
       "daysonmarket                0.024542\n",
       "salvage                     0.023179\n",
       "longitude                   0.017237\n",
       "theft_title                 0.013705\n",
       "fuel_type_cat               0.010028\n",
       "dealer_zip                  0.003241\n",
       "is_new                      0.000458\n",
       "Name: price, dtype: float64"
      ]
     },
     "execution_count": 68,
     "metadata": {},
     "output_type": "execute_result"
    }
   ],
   "source": [
    "abs(corrs['price']).sort_values(ascending=False)"
   ]
  },
  {
   "cell_type": "markdown",
   "id": "ac659305-3d8b-4f51-a566-135925796f3b",
   "metadata": {},
   "source": [
    "Some variables that have a high correlation with `price` are `horsepower`,`torque`, `engine_displacement`, `mileage`, `highway_fuel_economy`, `year`, `wheelbase`, `city_fuel_economy`."
   ]
  },
  {
   "cell_type": "markdown",
   "id": "d37ffa20-e9cd-44ba-b82c-ea399cc3ad0b",
   "metadata": {},
   "source": [
    "`highway_fuel_economy` and `city_fuel_economy` can be combined as `fuel_economy`."
   ]
  },
  {
   "cell_type": "code",
   "execution_count": 53,
   "id": "282460b6-dee2-476a-a4fd-437c7d7a4a33",
   "metadata": {
    "tags": []
   },
   "outputs": [
    {
     "data": {
      "text/html": [
       "<div>\n",
       "<style scoped>\n",
       "    .dataframe tbody tr th:only-of-type {\n",
       "        vertical-align: middle;\n",
       "    }\n",
       "\n",
       "    .dataframe tbody tr th {\n",
       "        vertical-align: top;\n",
       "    }\n",
       "\n",
       "    .dataframe thead th {\n",
       "        text-align: right;\n",
       "    }\n",
       "</style>\n",
       "<table border=\"1\" class=\"dataframe\">\n",
       "  <thead>\n",
       "    <tr style=\"text-align: right;\">\n",
       "      <th></th>\n",
       "      <th>back_legroom</th>\n",
       "      <th>body_type</th>\n",
       "      <th>city</th>\n",
       "      <th>city_fuel_economy</th>\n",
       "      <th>daysonmarket</th>\n",
       "      <th>dealer_zip</th>\n",
       "      <th>engine_cylinders</th>\n",
       "      <th>engine_displacement</th>\n",
       "      <th>engine_type</th>\n",
       "      <th>exterior_color</th>\n",
       "      <th>...</th>\n",
       "      <th>torque</th>\n",
       "      <th>transmission</th>\n",
       "      <th>transmission_display</th>\n",
       "      <th>trimId</th>\n",
       "      <th>trim_name</th>\n",
       "      <th>wheel_system</th>\n",
       "      <th>wheel_system_display</th>\n",
       "      <th>wheelbase</th>\n",
       "      <th>width</th>\n",
       "      <th>year</th>\n",
       "    </tr>\n",
       "  </thead>\n",
       "  <tbody>\n",
       "    <tr>\n",
       "      <th>0</th>\n",
       "      <td>36.8 in</td>\n",
       "      <td>SUV / Crossover</td>\n",
       "      <td>Devine</td>\n",
       "      <td>21.0</td>\n",
       "      <td>40</td>\n",
       "      <td>78016</td>\n",
       "      <td>I4</td>\n",
       "      <td>2000.0</td>\n",
       "      <td>I4</td>\n",
       "      <td>Burgundy Velvet Metallic Tinted Clearcoat</td>\n",
       "      <td>...</td>\n",
       "      <td>270 lb-ft @ 3,000 RPM</td>\n",
       "      <td>A</td>\n",
       "      <td>Automatic</td>\n",
       "      <td>t66989</td>\n",
       "      <td>Select FWD</td>\n",
       "      <td>FWD</td>\n",
       "      <td>Front-Wheel Drive</td>\n",
       "      <td>105.9 in</td>\n",
       "      <td>84.1 in</td>\n",
       "      <td>2017</td>\n",
       "    </tr>\n",
       "    <tr>\n",
       "      <th>1</th>\n",
       "      <td>39.5 in</td>\n",
       "      <td>SUV / Crossover</td>\n",
       "      <td>Buffalo</td>\n",
       "      <td>16.0</td>\n",
       "      <td>9</td>\n",
       "      <td>55313</td>\n",
       "      <td>V6</td>\n",
       "      <td>3500.0</td>\n",
       "      <td>V6</td>\n",
       "      <td>Smoked Quartz Metallic Tinted Clearcoat</td>\n",
       "      <td>...</td>\n",
       "      <td>255 lb-ft @ 4,000 RPM</td>\n",
       "      <td>A</td>\n",
       "      <td>6-Speed Automatic</td>\n",
       "      <td>t67141</td>\n",
       "      <td>XLT AWD</td>\n",
       "      <td>AWD</td>\n",
       "      <td>All-Wheel Drive</td>\n",
       "      <td>112.8 in</td>\n",
       "      <td>90.2 in</td>\n",
       "      <td>2017</td>\n",
       "    </tr>\n",
       "    <tr>\n",
       "      <th>2</th>\n",
       "      <td>36.8 in</td>\n",
       "      <td>SUV / Crossover</td>\n",
       "      <td>Murfreesboro</td>\n",
       "      <td>23.0</td>\n",
       "      <td>30</td>\n",
       "      <td>37129</td>\n",
       "      <td>I4</td>\n",
       "      <td>2500.0</td>\n",
       "      <td>I4</td>\n",
       "      <td>Sunset</td>\n",
       "      <td>...</td>\n",
       "      <td>170 lb-ft @ 4,500 RPM</td>\n",
       "      <td>A</td>\n",
       "      <td>Automatic</td>\n",
       "      <td>t55391</td>\n",
       "      <td>SE FWD</td>\n",
       "      <td>FWD</td>\n",
       "      <td>Front-Wheel Drive</td>\n",
       "      <td>105.9 in</td>\n",
       "      <td>81.8 in</td>\n",
       "      <td>2015</td>\n",
       "    </tr>\n",
       "    <tr>\n",
       "      <th>3</th>\n",
       "      <td>33.7 in</td>\n",
       "      <td>Coupe</td>\n",
       "      <td>San Rafael</td>\n",
       "      <td>21.0</td>\n",
       "      <td>45</td>\n",
       "      <td>94901</td>\n",
       "      <td>I6</td>\n",
       "      <td>3000.0</td>\n",
       "      <td>I6</td>\n",
       "      <td>Mineral Grey Metallic</td>\n",
       "      <td>...</td>\n",
       "      <td>330 lb-ft @ 1,380 RPM</td>\n",
       "      <td>A</td>\n",
       "      <td>8-Speed Automatic</td>\n",
       "      <td>t73244</td>\n",
       "      <td>440i Coupe RWD</td>\n",
       "      <td>RWD</td>\n",
       "      <td>Rear-Wheel Drive</td>\n",
       "      <td>110.6 in</td>\n",
       "      <td>79.4 in</td>\n",
       "      <td>2018</td>\n",
       "    </tr>\n",
       "    <tr>\n",
       "      <th>4</th>\n",
       "      <td>37.2 in</td>\n",
       "      <td>SUV / Crossover</td>\n",
       "      <td>Glen Cove</td>\n",
       "      <td>22.0</td>\n",
       "      <td>319</td>\n",
       "      <td>11542</td>\n",
       "      <td>I4</td>\n",
       "      <td>2000.0</td>\n",
       "      <td>I4</td>\n",
       "      <td>Santorini Black</td>\n",
       "      <td>...</td>\n",
       "      <td>295 lb-ft @ 1,500 RPM</td>\n",
       "      <td>A</td>\n",
       "      <td>8-Speed Automatic</td>\n",
       "      <td>t83299</td>\n",
       "      <td>30t R-Sport AWD</td>\n",
       "      <td>AWD</td>\n",
       "      <td>All-Wheel Drive</td>\n",
       "      <td>113.1 in</td>\n",
       "      <td>85.6 in</td>\n",
       "      <td>2019</td>\n",
       "    </tr>\n",
       "  </tbody>\n",
       "</table>\n",
       "<p>5 rows × 52 columns</p>\n",
       "</div>"
      ],
      "text/plain": [
       "  back_legroom        body_type          city  city_fuel_economy  \\\n",
       "0      36.8 in  SUV / Crossover        Devine               21.0   \n",
       "1      39.5 in  SUV / Crossover       Buffalo               16.0   \n",
       "2      36.8 in  SUV / Crossover  Murfreesboro               23.0   \n",
       "3      33.7 in            Coupe    San Rafael               21.0   \n",
       "4      37.2 in  SUV / Crossover     Glen Cove               22.0   \n",
       "\n",
       "   daysonmarket  dealer_zip engine_cylinders  engine_displacement engine_type  \\\n",
       "0            40       78016               I4               2000.0          I4   \n",
       "1             9       55313               V6               3500.0          V6   \n",
       "2            30       37129               I4               2500.0          I4   \n",
       "3            45       94901               I6               3000.0          I6   \n",
       "4           319       11542               I4               2000.0          I4   \n",
       "\n",
       "                              exterior_color  ...                 torque  \\\n",
       "0  Burgundy Velvet Metallic Tinted Clearcoat  ...  270 lb-ft @ 3,000 RPM   \n",
       "1    Smoked Quartz Metallic Tinted Clearcoat  ...  255 lb-ft @ 4,000 RPM   \n",
       "2                                     Sunset  ...  170 lb-ft @ 4,500 RPM   \n",
       "3                      Mineral Grey Metallic  ...  330 lb-ft @ 1,380 RPM   \n",
       "4                            Santorini Black  ...  295 lb-ft @ 1,500 RPM   \n",
       "\n",
       "   transmission transmission_display  trimId        trim_name wheel_system  \\\n",
       "0             A            Automatic  t66989       Select FWD          FWD   \n",
       "1             A    6-Speed Automatic  t67141          XLT AWD          AWD   \n",
       "2             A            Automatic  t55391           SE FWD          FWD   \n",
       "3             A    8-Speed Automatic  t73244   440i Coupe RWD          RWD   \n",
       "4             A    8-Speed Automatic  t83299  30t R-Sport AWD          AWD   \n",
       "\n",
       "   wheel_system_display wheelbase    width  year  \n",
       "0     Front-Wheel Drive  105.9 in  84.1 in  2017  \n",
       "1       All-Wheel Drive  112.8 in  90.2 in  2017  \n",
       "2     Front-Wheel Drive  105.9 in  81.8 in  2015  \n",
       "3      Rear-Wheel Drive  110.6 in  79.4 in  2018  \n",
       "4       All-Wheel Drive  113.1 in  85.6 in  2019  \n",
       "\n",
       "[5 rows x 52 columns]"
      ]
     },
     "execution_count": 53,
     "metadata": {},
     "output_type": "execute_result"
    }
   ],
   "source": [
    "data.head()"
   ]
  },
  {
   "cell_type": "code",
   "execution_count": 56,
   "id": "e28b1d43-a3f4-4394-b697-dde398fbb731",
   "metadata": {
    "collapsed": true,
    "jupyter": {
     "outputs_hidden": true
    },
    "tags": []
   },
   "outputs": [
    {
     "data": {
      "text/html": [
       "<div>\n",
       "<style scoped>\n",
       "    .dataframe tbody tr th:only-of-type {\n",
       "        vertical-align: middle;\n",
       "    }\n",
       "\n",
       "    .dataframe tbody tr th {\n",
       "        vertical-align: top;\n",
       "    }\n",
       "\n",
       "    .dataframe thead th {\n",
       "        text-align: right;\n",
       "    }\n",
       "</style>\n",
       "<table border=\"1\" class=\"dataframe\">\n",
       "  <thead>\n",
       "    <tr style=\"text-align: right;\">\n",
       "      <th></th>\n",
       "      <th>back_legroom</th>\n",
       "      <th>body_type</th>\n",
       "      <th>city</th>\n",
       "      <th>engine_cylinders</th>\n",
       "      <th>engine_type</th>\n",
       "      <th>exterior_color</th>\n",
       "      <th>franchise_make</th>\n",
       "      <th>front_legroom</th>\n",
       "      <th>fuel_tank_volume</th>\n",
       "      <th>fuel_type</th>\n",
       "      <th>...</th>\n",
       "      <th>sp_name</th>\n",
       "      <th>torque</th>\n",
       "      <th>transmission</th>\n",
       "      <th>transmission_display</th>\n",
       "      <th>trimId</th>\n",
       "      <th>trim_name</th>\n",
       "      <th>wheel_system</th>\n",
       "      <th>wheel_system_display</th>\n",
       "      <th>wheelbase</th>\n",
       "      <th>width</th>\n",
       "    </tr>\n",
       "  </thead>\n",
       "  <tbody>\n",
       "    <tr>\n",
       "      <th>0</th>\n",
       "      <td>36.8 in</td>\n",
       "      <td>SUV / Crossover</td>\n",
       "      <td>Devine</td>\n",
       "      <td>I4</td>\n",
       "      <td>I4</td>\n",
       "      <td>Burgundy Velvet Metallic Tinted Clearcoat</td>\n",
       "      <td>Ford</td>\n",
       "      <td>42.8 in</td>\n",
       "      <td>15.5 gal</td>\n",
       "      <td>Gasoline</td>\n",
       "      <td>...</td>\n",
       "      <td>Chaparral Ford Inc.</td>\n",
       "      <td>270 lb-ft @ 3,000 RPM</td>\n",
       "      <td>A</td>\n",
       "      <td>Automatic</td>\n",
       "      <td>t66989</td>\n",
       "      <td>Select FWD</td>\n",
       "      <td>FWD</td>\n",
       "      <td>Front-Wheel Drive</td>\n",
       "      <td>105.9 in</td>\n",
       "      <td>84.1 in</td>\n",
       "    </tr>\n",
       "    <tr>\n",
       "      <th>1</th>\n",
       "      <td>39.5 in</td>\n",
       "      <td>SUV / Crossover</td>\n",
       "      <td>Buffalo</td>\n",
       "      <td>V6</td>\n",
       "      <td>V6</td>\n",
       "      <td>Smoked Quartz Metallic Tinted Clearcoat</td>\n",
       "      <td>Ford</td>\n",
       "      <td>42.9 in</td>\n",
       "      <td>18.6 gal</td>\n",
       "      <td>Gasoline</td>\n",
       "      <td>...</td>\n",
       "      <td>Morrie's Buffalo Ford</td>\n",
       "      <td>255 lb-ft @ 4,000 RPM</td>\n",
       "      <td>A</td>\n",
       "      <td>6-Speed Automatic</td>\n",
       "      <td>t67141</td>\n",
       "      <td>XLT AWD</td>\n",
       "      <td>AWD</td>\n",
       "      <td>All-Wheel Drive</td>\n",
       "      <td>112.8 in</td>\n",
       "      <td>90.2 in</td>\n",
       "    </tr>\n",
       "    <tr>\n",
       "      <th>2</th>\n",
       "      <td>36.8 in</td>\n",
       "      <td>SUV / Crossover</td>\n",
       "      <td>Murfreesboro</td>\n",
       "      <td>I4</td>\n",
       "      <td>I4</td>\n",
       "      <td>Sunset</td>\n",
       "      <td>Ford</td>\n",
       "      <td>43.1 in</td>\n",
       "      <td>15.4 gal</td>\n",
       "      <td>Gasoline</td>\n",
       "      <td>...</td>\n",
       "      <td>Ford of Murfreesboro</td>\n",
       "      <td>170 lb-ft @ 4,500 RPM</td>\n",
       "      <td>A</td>\n",
       "      <td>Automatic</td>\n",
       "      <td>t55391</td>\n",
       "      <td>SE FWD</td>\n",
       "      <td>FWD</td>\n",
       "      <td>Front-Wheel Drive</td>\n",
       "      <td>105.9 in</td>\n",
       "      <td>81.8 in</td>\n",
       "    </tr>\n",
       "    <tr>\n",
       "      <th>3</th>\n",
       "      <td>33.7 in</td>\n",
       "      <td>Coupe</td>\n",
       "      <td>San Rafael</td>\n",
       "      <td>I6</td>\n",
       "      <td>I6</td>\n",
       "      <td>Mineral Grey Metallic</td>\n",
       "      <td>BMW</td>\n",
       "      <td>42.2 in</td>\n",
       "      <td>15.8 gal</td>\n",
       "      <td>Gasoline</td>\n",
       "      <td>...</td>\n",
       "      <td>BMW of San Rafael</td>\n",
       "      <td>330 lb-ft @ 1,380 RPM</td>\n",
       "      <td>A</td>\n",
       "      <td>8-Speed Automatic</td>\n",
       "      <td>t73244</td>\n",
       "      <td>440i Coupe RWD</td>\n",
       "      <td>RWD</td>\n",
       "      <td>Rear-Wheel Drive</td>\n",
       "      <td>110.6 in</td>\n",
       "      <td>79.4 in</td>\n",
       "    </tr>\n",
       "    <tr>\n",
       "      <th>4</th>\n",
       "      <td>37.2 in</td>\n",
       "      <td>SUV / Crossover</td>\n",
       "      <td>Glen Cove</td>\n",
       "      <td>I4</td>\n",
       "      <td>I4</td>\n",
       "      <td>Santorini Black</td>\n",
       "      <td>Jaguar</td>\n",
       "      <td>40.3 in</td>\n",
       "      <td>21.7 gal</td>\n",
       "      <td>Gasoline</td>\n",
       "      <td>...</td>\n",
       "      <td>Jaguar Land Rover Glen Cove</td>\n",
       "      <td>295 lb-ft @ 1,500 RPM</td>\n",
       "      <td>A</td>\n",
       "      <td>8-Speed Automatic</td>\n",
       "      <td>t83299</td>\n",
       "      <td>30t R-Sport AWD</td>\n",
       "      <td>AWD</td>\n",
       "      <td>All-Wheel Drive</td>\n",
       "      <td>113.1 in</td>\n",
       "      <td>85.6 in</td>\n",
       "    </tr>\n",
       "  </tbody>\n",
       "</table>\n",
       "<p>5 rows × 30 columns</p>\n",
       "</div>"
      ],
      "text/plain": [
       "  back_legroom        body_type          city engine_cylinders engine_type  \\\n",
       "0      36.8 in  SUV / Crossover        Devine               I4          I4   \n",
       "1      39.5 in  SUV / Crossover       Buffalo               V6          V6   \n",
       "2      36.8 in  SUV / Crossover  Murfreesboro               I4          I4   \n",
       "3      33.7 in            Coupe    San Rafael               I6          I6   \n",
       "4      37.2 in  SUV / Crossover     Glen Cove               I4          I4   \n",
       "\n",
       "                              exterior_color franchise_make front_legroom  \\\n",
       "0  Burgundy Velvet Metallic Tinted Clearcoat           Ford       42.8 in   \n",
       "1    Smoked Quartz Metallic Tinted Clearcoat           Ford       42.9 in   \n",
       "2                                     Sunset           Ford       43.1 in   \n",
       "3                      Mineral Grey Metallic            BMW       42.2 in   \n",
       "4                            Santorini Black         Jaguar       40.3 in   \n",
       "\n",
       "  fuel_tank_volume fuel_type  ...                      sp_name  \\\n",
       "0         15.5 gal  Gasoline  ...          Chaparral Ford Inc.   \n",
       "1         18.6 gal  Gasoline  ...        Morrie's Buffalo Ford   \n",
       "2         15.4 gal  Gasoline  ...         Ford of Murfreesboro   \n",
       "3         15.8 gal  Gasoline  ...            BMW of San Rafael   \n",
       "4         21.7 gal  Gasoline  ...  Jaguar Land Rover Glen Cove   \n",
       "\n",
       "                  torque transmission transmission_display  trimId  \\\n",
       "0  270 lb-ft @ 3,000 RPM            A            Automatic  t66989   \n",
       "1  255 lb-ft @ 4,000 RPM            A    6-Speed Automatic  t67141   \n",
       "2  170 lb-ft @ 4,500 RPM            A            Automatic  t55391   \n",
       "3  330 lb-ft @ 1,380 RPM            A    8-Speed Automatic  t73244   \n",
       "4  295 lb-ft @ 1,500 RPM            A    8-Speed Automatic  t83299   \n",
       "\n",
       "         trim_name wheel_system wheel_system_display wheelbase    width  \n",
       "0       Select FWD          FWD    Front-Wheel Drive  105.9 in  84.1 in  \n",
       "1          XLT AWD          AWD      All-Wheel Drive  112.8 in  90.2 in  \n",
       "2           SE FWD          FWD    Front-Wheel Drive  105.9 in  81.8 in  \n",
       "3   440i Coupe RWD          RWD     Rear-Wheel Drive  110.6 in  79.4 in  \n",
       "4  30t R-Sport AWD          AWD      All-Wheel Drive  113.1 in  85.6 in  \n",
       "\n",
       "[5 rows x 30 columns]"
      ]
     },
     "execution_count": 56,
     "metadata": {},
     "output_type": "execute_result"
    }
   ],
   "source": [
    "data.select_dtypes(include='object').head()"
   ]
  },
  {
   "cell_type": "code",
   "execution_count": 71,
   "id": "b161a02c-d567-4c8f-93b6-78466d75e0e1",
   "metadata": {},
   "outputs": [
    {
     "data": {
      "text/plain": [
       "1158"
      ]
     },
     "execution_count": 71,
     "metadata": {},
     "output_type": "execute_result"
    }
   ],
   "source": [
    "data.trim_name.nunique()"
   ]
  },
  {
   "cell_type": "code",
   "execution_count": 72,
   "id": "d9b9de73-f78c-4926-82c0-6ae84c961ab7",
   "metadata": {},
   "outputs": [
    {
     "data": {
      "text/plain": [
       "360"
      ]
     },
     "execution_count": 72,
     "metadata": {},
     "output_type": "execute_result"
    }
   ],
   "source": [
    "data.model_name.nunique()"
   ]
  },
  {
   "cell_type": "code",
   "execution_count": null,
   "id": "4f1411f4-4d9a-472d-b05f-55aca8471562",
   "metadata": {},
   "outputs": [],
   "source": []
  }
 ],
 "metadata": {
  "kernelspec": {
   "display_name": "Python 3 (ipykernel)",
   "language": "python",
   "name": "python3"
  },
  "language_info": {
   "codemirror_mode": {
    "name": "ipython",
    "version": 3
   },
   "file_extension": ".py",
   "mimetype": "text/x-python",
   "name": "python",
   "nbconvert_exporter": "python",
   "pygments_lexer": "ipython3",
   "version": "3.9.13"
  }
 },
 "nbformat": 4,
 "nbformat_minor": 5
}
